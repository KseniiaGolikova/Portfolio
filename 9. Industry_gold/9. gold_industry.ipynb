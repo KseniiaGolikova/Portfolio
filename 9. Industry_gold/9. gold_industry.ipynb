{
 "cells": [
  {
   "cell_type": "markdown",
   "metadata": {
    "toc": true
   },
   "source": [
    "<h1>Содержание<span class=\"tocSkip\"></span></h1>\n",
    "<div class=\"toc\"><ul class=\"toc-item\"><li><span><a href=\"#Подготовка-данных\" data-toc-modified-id=\"Подготовка-данных-1\"><span class=\"toc-item-num\">1&nbsp;&nbsp;</span>Подготовка данных</a></span><ul class=\"toc-item\"><li><span><a href=\"#Загрузка-библиотек\" data-toc-modified-id=\"Загрузка-библиотек-1.1\"><span class=\"toc-item-num\">1.1&nbsp;&nbsp;</span>Загрузка библиотек</a></span></li><li><span><a href=\"#Выгрузка-исходных-датафреймов-и-их-предварительный-анализ\" data-toc-modified-id=\"Выгрузка-исходных-датафреймов-и-их-предварительный-анализ-1.2\"><span class=\"toc-item-num\">1.2&nbsp;&nbsp;</span>Выгрузка исходных датафреймов и их предварительный анализ</a></span><ul class=\"toc-item\"><li><span><a href=\"#Замена-типов-данных\" data-toc-modified-id=\"Замена-типов-данных-1.2.1\"><span class=\"toc-item-num\">1.2.1&nbsp;&nbsp;</span>Замена типов данных</a></span></li><li><span><a href=\"#Заполнение-пропусков-соседними-значениями\" data-toc-modified-id=\"Заполнение-пропусков-соседними-значениями-1.2.2\"><span class=\"toc-item-num\">1.2.2&nbsp;&nbsp;</span>Заполнение пропусков соседними значениями</a></span></li><li><span><a href=\"#Проверка-правильности-расчетов-эффективности-обогащения\" data-toc-modified-id=\"Проверка-правильности-расчетов-эффективности-обогащения-1.2.3\"><span class=\"toc-item-num\">1.2.3&nbsp;&nbsp;</span>Проверка правильности расчетов эффективности обогащения</a></span></li><li><span><a href=\"#Анализ-признаков,-недоступных-в-выборке\" data-toc-modified-id=\"Анализ-признаков,-недоступных-в-выборке-1.2.4\"><span class=\"toc-item-num\">1.2.4&nbsp;&nbsp;</span>Анализ признаков, недоступных в выборке</a></span></li><li><span><a href=\"#Вывод-по-разделу-1\" data-toc-modified-id=\"Вывод-по-разделу-1-1.2.5\"><span class=\"toc-item-num\">1.2.5&nbsp;&nbsp;</span>Вывод по разделу 1</a></span></li></ul></li></ul></li><li><span><a href=\"#Анализ-данных\" data-toc-modified-id=\"Анализ-данных-2\"><span class=\"toc-item-num\">2&nbsp;&nbsp;</span>Анализ данных</a></span><ul class=\"toc-item\"><li><span><a href=\"#Анализ-изменения-концентрации-металлов-на-различных-этапах\" data-toc-modified-id=\"Анализ-изменения-концентрации-металлов-на-различных-этапах-2.1\"><span class=\"toc-item-num\">2.1&nbsp;&nbsp;</span>Анализ изменения концентрации металлов на различных этапах</a></span></li><li><span><a href=\"#Сравнение-распределения-размеров-гранул-исходного-сырья-на-обучающей-и-тестовой-выборках\" data-toc-modified-id=\"Сравнение-распределения-размеров-гранул-исходного-сырья-на-обучающей-и-тестовой-выборках-2.2\"><span class=\"toc-item-num\">2.2&nbsp;&nbsp;</span>Сравнение распределения размеров гранул исходного сырья на обучающей и тестовой выборках</a></span></li><li><span><a href=\"#Исследование-суммарной-концентрации-металлов-на-разных-стадиях\" data-toc-modified-id=\"Исследование-суммарной-концентрации-металлов-на-разных-стадиях-2.3\"><span class=\"toc-item-num\">2.3&nbsp;&nbsp;</span>Исследование суммарной концентрации металлов на разных стадиях</a></span></li><li><span><a href=\"#Выводы-по-разделу-2\" data-toc-modified-id=\"Выводы-по-разделу-2-2.4\"><span class=\"toc-item-num\">2.4&nbsp;&nbsp;</span>Выводы по разделу 2</a></span></li></ul></li><li><span><a href=\"#Модель\" data-toc-modified-id=\"Модель-3\"><span class=\"toc-item-num\">3&nbsp;&nbsp;</span>Модель</a></span><ul class=\"toc-item\"><li><span><a href=\"#Функция-для-вычисления-sMAPE\" data-toc-modified-id=\"Функция-для-вычисления-sMAPE-3.1\"><span class=\"toc-item-num\">3.1&nbsp;&nbsp;</span>Функция для вычисления sMAPE</a></span></li><li><span><a href=\"#Обучение-моделей-и-проверка-метрик\" data-toc-modified-id=\"Обучение-моделей-и-проверка-метрик-3.2\"><span class=\"toc-item-num\">3.2&nbsp;&nbsp;</span>Обучение моделей и проверка метрик</a></span><ul class=\"toc-item\"><li><span><a href=\"#Модель-Дерева-Решений\" data-toc-modified-id=\"Модель-Дерева-Решений-3.2.1\"><span class=\"toc-item-num\">3.2.1&nbsp;&nbsp;</span>Модель Дерева Решений</a></span></li><li><span><a href=\"#Модель-Случайный-лес\" data-toc-modified-id=\"Модель-Случайный-лес-3.2.2\"><span class=\"toc-item-num\">3.2.2&nbsp;&nbsp;</span>Модель Случайный лес</a></span></li><li><span><a href=\"#Линейная-регрессия\" data-toc-modified-id=\"Линейная-регрессия-3.2.3\"><span class=\"toc-item-num\">3.2.3&nbsp;&nbsp;</span>Линейная регрессия</a></span></li><li><span><a href=\"#Проверка-модели-на-тестовой-выборке\" data-toc-modified-id=\"Проверка-модели-на-тестовой-выборке-3.2.4\"><span class=\"toc-item-num\">3.2.4&nbsp;&nbsp;</span>Проверка модели на тестовой выборке</a></span></li><li><span><a href=\"#Проверка-модели-на-адекватность\" data-toc-modified-id=\"Проверка-модели-на-адекватность-3.2.5\"><span class=\"toc-item-num\">3.2.5&nbsp;&nbsp;</span>Проверка модели на адекватность</a></span></li></ul></li><li><span><a href=\"#Выводы-по-разделу-3\" data-toc-modified-id=\"Выводы-по-разделу-3-3.3\"><span class=\"toc-item-num\">3.3&nbsp;&nbsp;</span>Выводы по разделу 3</a></span></li></ul></li><li><span><a href=\"#Итоговый-вывод\" data-toc-modified-id=\"Итоговый-вывод-4\"><span class=\"toc-item-num\">4&nbsp;&nbsp;</span>Итоговый вывод</a></span></li><li><span><a href=\"#Чек-лист-готовности-проекта\" data-toc-modified-id=\"Чек-лист-готовности-проекта-5\"><span class=\"toc-item-num\">5&nbsp;&nbsp;</span>Чек-лист готовности проекта</a></span></li></ul></div>"
   ]
  },
  {
   "cell_type": "markdown",
   "metadata": {},
   "source": [
    "# Восстановление золота из руды"
   ]
  },
  {
   "cell_type": "markdown",
   "metadata": {},
   "source": [
    "Компания «Цифры» разрабатывает решения для эффективной работы промышленных предприятий. Нам необходимо подготовить прототип модели машинного обучения.\n",
    "\n",
    "Модель должна предсказать коэффициент восстановления золота из золотосодержащей руды. В качестве исходных данных предоставлены данные с параметрами добычи и очистки. \n",
    "\n",
    "Модель поможет оптимизировать производство, чтобы не запускать предприятие с убыточными характеристиками.\n",
    "\n",
    "План действий по выполнению исследования:\n",
    "\n",
    "1. Подготовка и предобработка данных;\n",
    "2. Исследовательский анализ данных;\n",
    "3. Построение и обучение модели."
   ]
  },
  {
   "cell_type": "markdown",
   "metadata": {},
   "source": [
    "## Подготовка данных"
   ]
  },
  {
   "cell_type": "markdown",
   "metadata": {},
   "source": [
    "### Загрузка библиотек"
   ]
  },
  {
   "cell_type": "code",
   "execution_count": 5,
   "metadata": {},
   "outputs": [],
   "source": [
    "import matplotlib.pyplot as plt\n",
    "\n",
    "import numpy as np\n",
    "from numpy.random import RandomState\n",
    "\n",
    "import pandas as pd\n",
    "\n",
    "from sklearn.preprocessing import StandardScaler\n",
    "from sklearn.metrics import mean_absolute_error, make_scorer\n",
    "from sklearn.linear_model import LinearRegression\n",
    "from sklearn.tree import DecisionTreeRegressor\n",
    "from sklearn.ensemble import RandomForestRegressor\n",
    "from sklearn.model_selection import cross_val_score\n",
    "from sklearn.dummy import DummyRegressor"
   ]
  },
  {
   "cell_type": "markdown",
   "metadata": {},
   "source": [
    "### Выгрузка исходных датафреймов и их предварительный анализ"
   ]
  },
  {
   "cell_type": "code",
   "execution_count": 6,
   "metadata": {},
   "outputs": [],
   "source": [
    "gold_industry_train = pd.read_csv('C:/Users/я/Desktop/проекты Практикум/датасеты/gold_industry_train.csv')\n",
    "gold_industry_test = pd.read_csv('C:/Users/я/Desktop/проекты Практикум/датасеты/gold_industry_test.csv')\n",
    "gold_industry_full = pd.read_csv('C:/Users/я/Desktop/проекты Практикум/датасеты/gold_industry_full.csv')"
   ]
  },
  {
   "cell_type": "markdown",
   "metadata": {},
   "source": [
    "Напишем функцию для предоставления информации о датафреймах, проверки данных в них на пропуски, явные дубликаты, и построения гистограмм по каждому столбцу датафреймов"
   ]
  },
  {
   "cell_type": "code",
   "execution_count": 7,
   "metadata": {},
   "outputs": [],
   "source": [
    "def check(data):\n",
    "    display(data.head())\n",
    "    print(f'Размеры датафрейма: {data.shape}')\n",
    "    print('Количество пропусков:', data.isna().sum().sort_values())\n",
    "    print('Количество явных дубликатов', data.duplicated().sum())\n",
    "    data.info()"
   ]
  },
  {
   "cell_type": "code",
   "execution_count": 8,
   "metadata": {
    "scrolled": false
   },
   "outputs": [
    {
     "data": {
      "text/html": [
       "<div>\n",
       "<style scoped>\n",
       "    .dataframe tbody tr th:only-of-type {\n",
       "        vertical-align: middle;\n",
       "    }\n",
       "\n",
       "    .dataframe tbody tr th {\n",
       "        vertical-align: top;\n",
       "    }\n",
       "\n",
       "    .dataframe thead th {\n",
       "        text-align: right;\n",
       "    }\n",
       "</style>\n",
       "<table border=\"1\" class=\"dataframe\">\n",
       "  <thead>\n",
       "    <tr style=\"text-align: right;\">\n",
       "      <th></th>\n",
       "      <th>date</th>\n",
       "      <th>rougher.input.feed_au</th>\n",
       "      <th>rougher.input.feed_ag</th>\n",
       "      <th>rougher.input.feed_pb</th>\n",
       "      <th>rougher.input.feed_sol</th>\n",
       "      <th>rougher.input.feed_rate</th>\n",
       "      <th>rougher.input.feed_size</th>\n",
       "      <th>rougher.input.floatbank10_sulfate</th>\n",
       "      <th>rougher.input.floatbank10_xanthate</th>\n",
       "      <th>rougher.state.floatbank10_a_air</th>\n",
       "      <th>...</th>\n",
       "      <th>secondary_cleaner.output.tail_sol</th>\n",
       "      <th>final.output.concentrate_au</th>\n",
       "      <th>final.output.concentrate_ag</th>\n",
       "      <th>final.output.concentrate_pb</th>\n",
       "      <th>final.output.concentrate_sol</th>\n",
       "      <th>final.output.recovery</th>\n",
       "      <th>final.output.tail_au</th>\n",
       "      <th>final.output.tail_ag</th>\n",
       "      <th>final.output.tail_pb</th>\n",
       "      <th>final.output.tail_sol</th>\n",
       "    </tr>\n",
       "  </thead>\n",
       "  <tbody>\n",
       "    <tr>\n",
       "      <th>0</th>\n",
       "      <td>2016-01-15 00:00:00</td>\n",
       "      <td>6.486150</td>\n",
       "      <td>6.100378</td>\n",
       "      <td>2.284912</td>\n",
       "      <td>36.808594</td>\n",
       "      <td>523.546326</td>\n",
       "      <td>55.486599</td>\n",
       "      <td>11.986616</td>\n",
       "      <td>6.007990</td>\n",
       "      <td>999.706909</td>\n",
       "      <td>...</td>\n",
       "      <td>8.764648</td>\n",
       "      <td>42.192020</td>\n",
       "      <td>6.055403</td>\n",
       "      <td>9.889648</td>\n",
       "      <td>5.507324</td>\n",
       "      <td>70.541216</td>\n",
       "      <td>2.143149</td>\n",
       "      <td>10.411962</td>\n",
       "      <td>0.895447</td>\n",
       "      <td>16.904297</td>\n",
       "    </tr>\n",
       "    <tr>\n",
       "      <th>1</th>\n",
       "      <td>2016-01-15 01:00:00</td>\n",
       "      <td>6.478583</td>\n",
       "      <td>6.161113</td>\n",
       "      <td>2.266033</td>\n",
       "      <td>35.753385</td>\n",
       "      <td>525.290581</td>\n",
       "      <td>57.278666</td>\n",
       "      <td>11.971193</td>\n",
       "      <td>6.005766</td>\n",
       "      <td>1000.286398</td>\n",
       "      <td>...</td>\n",
       "      <td>9.001494</td>\n",
       "      <td>42.701629</td>\n",
       "      <td>6.029369</td>\n",
       "      <td>9.968944</td>\n",
       "      <td>5.257781</td>\n",
       "      <td>69.266198</td>\n",
       "      <td>2.224930</td>\n",
       "      <td>10.462676</td>\n",
       "      <td>0.927452</td>\n",
       "      <td>16.634514</td>\n",
       "    </tr>\n",
       "    <tr>\n",
       "      <th>2</th>\n",
       "      <td>2016-01-15 02:00:00</td>\n",
       "      <td>6.362222</td>\n",
       "      <td>6.116455</td>\n",
       "      <td>2.159622</td>\n",
       "      <td>35.971630</td>\n",
       "      <td>530.026610</td>\n",
       "      <td>57.510649</td>\n",
       "      <td>11.920603</td>\n",
       "      <td>6.197377</td>\n",
       "      <td>999.719565</td>\n",
       "      <td>...</td>\n",
       "      <td>8.842896</td>\n",
       "      <td>42.657501</td>\n",
       "      <td>6.055926</td>\n",
       "      <td>10.213995</td>\n",
       "      <td>5.383759</td>\n",
       "      <td>68.116445</td>\n",
       "      <td>2.257889</td>\n",
       "      <td>10.507046</td>\n",
       "      <td>0.953716</td>\n",
       "      <td>16.208849</td>\n",
       "    </tr>\n",
       "    <tr>\n",
       "      <th>3</th>\n",
       "      <td>2016-01-15 03:00:00</td>\n",
       "      <td>6.118189</td>\n",
       "      <td>6.043309</td>\n",
       "      <td>2.037807</td>\n",
       "      <td>36.862241</td>\n",
       "      <td>542.590390</td>\n",
       "      <td>57.792734</td>\n",
       "      <td>11.630094</td>\n",
       "      <td>6.203177</td>\n",
       "      <td>999.814770</td>\n",
       "      <td>...</td>\n",
       "      <td>9.122857</td>\n",
       "      <td>42.689819</td>\n",
       "      <td>6.047977</td>\n",
       "      <td>9.977019</td>\n",
       "      <td>4.858634</td>\n",
       "      <td>68.347543</td>\n",
       "      <td>2.146849</td>\n",
       "      <td>10.422762</td>\n",
       "      <td>0.883763</td>\n",
       "      <td>16.532835</td>\n",
       "    </tr>\n",
       "    <tr>\n",
       "      <th>4</th>\n",
       "      <td>2016-01-15 04:00:00</td>\n",
       "      <td>5.663707</td>\n",
       "      <td>6.060915</td>\n",
       "      <td>1.786875</td>\n",
       "      <td>34.347666</td>\n",
       "      <td>540.531893</td>\n",
       "      <td>56.047189</td>\n",
       "      <td>10.957755</td>\n",
       "      <td>6.198826</td>\n",
       "      <td>999.678690</td>\n",
       "      <td>...</td>\n",
       "      <td>8.871028</td>\n",
       "      <td>42.774141</td>\n",
       "      <td>6.148599</td>\n",
       "      <td>10.142511</td>\n",
       "      <td>4.939416</td>\n",
       "      <td>66.927016</td>\n",
       "      <td>2.055292</td>\n",
       "      <td>10.360302</td>\n",
       "      <td>0.792826</td>\n",
       "      <td>16.525686</td>\n",
       "    </tr>\n",
       "  </tbody>\n",
       "</table>\n",
       "<p>5 rows × 87 columns</p>\n",
       "</div>"
      ],
      "text/plain": [
       "                  date  rougher.input.feed_au  rougher.input.feed_ag  \\\n",
       "0  2016-01-15 00:00:00               6.486150               6.100378   \n",
       "1  2016-01-15 01:00:00               6.478583               6.161113   \n",
       "2  2016-01-15 02:00:00               6.362222               6.116455   \n",
       "3  2016-01-15 03:00:00               6.118189               6.043309   \n",
       "4  2016-01-15 04:00:00               5.663707               6.060915   \n",
       "\n",
       "   rougher.input.feed_pb  rougher.input.feed_sol  rougher.input.feed_rate  \\\n",
       "0               2.284912               36.808594               523.546326   \n",
       "1               2.266033               35.753385               525.290581   \n",
       "2               2.159622               35.971630               530.026610   \n",
       "3               2.037807               36.862241               542.590390   \n",
       "4               1.786875               34.347666               540.531893   \n",
       "\n",
       "   rougher.input.feed_size  rougher.input.floatbank10_sulfate  \\\n",
       "0                55.486599                          11.986616   \n",
       "1                57.278666                          11.971193   \n",
       "2                57.510649                          11.920603   \n",
       "3                57.792734                          11.630094   \n",
       "4                56.047189                          10.957755   \n",
       "\n",
       "   rougher.input.floatbank10_xanthate  rougher.state.floatbank10_a_air  ...  \\\n",
       "0                            6.007990                       999.706909  ...   \n",
       "1                            6.005766                      1000.286398  ...   \n",
       "2                            6.197377                       999.719565  ...   \n",
       "3                            6.203177                       999.814770  ...   \n",
       "4                            6.198826                       999.678690  ...   \n",
       "\n",
       "   secondary_cleaner.output.tail_sol  final.output.concentrate_au  \\\n",
       "0                           8.764648                    42.192020   \n",
       "1                           9.001494                    42.701629   \n",
       "2                           8.842896                    42.657501   \n",
       "3                           9.122857                    42.689819   \n",
       "4                           8.871028                    42.774141   \n",
       "\n",
       "   final.output.concentrate_ag  final.output.concentrate_pb  \\\n",
       "0                     6.055403                     9.889648   \n",
       "1                     6.029369                     9.968944   \n",
       "2                     6.055926                    10.213995   \n",
       "3                     6.047977                     9.977019   \n",
       "4                     6.148599                    10.142511   \n",
       "\n",
       "   final.output.concentrate_sol  final.output.recovery  final.output.tail_au  \\\n",
       "0                      5.507324              70.541216              2.143149   \n",
       "1                      5.257781              69.266198              2.224930   \n",
       "2                      5.383759              68.116445              2.257889   \n",
       "3                      4.858634              68.347543              2.146849   \n",
       "4                      4.939416              66.927016              2.055292   \n",
       "\n",
       "   final.output.tail_ag  final.output.tail_pb  final.output.tail_sol  \n",
       "0             10.411962              0.895447              16.904297  \n",
       "1             10.462676              0.927452              16.634514  \n",
       "2             10.507046              0.953716              16.208849  \n",
       "3             10.422762              0.883763              16.532835  \n",
       "4             10.360302              0.792826              16.525686  \n",
       "\n",
       "[5 rows x 87 columns]"
      ]
     },
     "metadata": {},
     "output_type": "display_data"
    },
    {
     "name": "stdout",
     "output_type": "stream",
     "text": [
      "Размеры датафрейма: (14579, 87)\n",
      "Количество пропусков: date                                          0\n",
      "rougher.output.tail_pb                        0\n",
      "rougher.output.tail_sol                       0\n",
      "primary_cleaner.input.feed_size               0\n",
      "primary_cleaner.state.floatbank8_a_level      0\n",
      "                                           ... \n",
      "final.output.concentrate_sol                192\n",
      "primary_cleaner.output.concentrate_sol      265\n",
      "rougher.input.floatbank11_xanthate          407\n",
      "rougher.state.floatbank10_e_air             429\n",
      "secondary_cleaner.output.tail_sol           920\n",
      "Length: 87, dtype: int64\n",
      "Количество явных дубликатов 0\n",
      "<class 'pandas.core.frame.DataFrame'>\n",
      "RangeIndex: 14579 entries, 0 to 14578\n",
      "Data columns (total 87 columns):\n",
      " #   Column                                              Non-Null Count  Dtype  \n",
      "---  ------                                              --------------  -----  \n",
      " 0   date                                                14579 non-null  object \n",
      " 1   rougher.input.feed_au                               14579 non-null  float64\n",
      " 2   rougher.input.feed_ag                               14579 non-null  float64\n",
      " 3   rougher.input.feed_pb                               14507 non-null  float64\n",
      " 4   rougher.input.feed_sol                              14502 non-null  float64\n",
      " 5   rougher.input.feed_rate                             14572 non-null  float64\n",
      " 6   rougher.input.feed_size                             14478 non-null  float64\n",
      " 7   rougher.input.floatbank10_sulfate                   14548 non-null  float64\n",
      " 8   rougher.input.floatbank10_xanthate                  14572 non-null  float64\n",
      " 9   rougher.state.floatbank10_a_air                     14579 non-null  float64\n",
      " 10  rougher.state.floatbank10_a_level                   14579 non-null  float64\n",
      " 11  rougher.state.floatbank10_b_air                     14579 non-null  float64\n",
      " 12  rougher.state.floatbank10_b_level                   14579 non-null  float64\n",
      " 13  rougher.state.floatbank10_c_air                     14579 non-null  float64\n",
      " 14  rougher.state.floatbank10_c_level                   14579 non-null  float64\n",
      " 15  rougher.state.floatbank10_d_air                     14579 non-null  float64\n",
      " 16  rougher.state.floatbank10_d_level                   14579 non-null  float64\n",
      " 17  rougher.state.floatbank10_e_air                     14150 non-null  float64\n",
      " 18  rougher.state.floatbank10_e_level                   14579 non-null  float64\n",
      " 19  rougher.state.floatbank10_f_air                     14579 non-null  float64\n",
      " 20  rougher.state.floatbank10_f_level                   14579 non-null  float64\n",
      " 21  rougher.input.floatbank11_sulfate                   14543 non-null  float64\n",
      " 22  rougher.input.floatbank11_xanthate                  14172 non-null  float64\n",
      " 23  rougher.calculation.sulfate_to_au_concentrate       14578 non-null  float64\n",
      " 24  rougher.calculation.floatbank10_sulfate_to_au_feed  14578 non-null  float64\n",
      " 25  rougher.calculation.floatbank11_sulfate_to_au_feed  14578 non-null  float64\n",
      " 26  rougher.calculation.au_pb_ratio                     14579 non-null  float64\n",
      " 27  rougher.output.concentrate_au                       14579 non-null  float64\n",
      " 28  rougher.output.concentrate_ag                       14579 non-null  float64\n",
      " 29  rougher.output.concentrate_pb                       14579 non-null  float64\n",
      " 30  rougher.output.concentrate_sol                      14561 non-null  float64\n",
      " 31  rougher.output.recovery                             14579 non-null  float64\n",
      " 32  rougher.output.tail_au                              14579 non-null  float64\n",
      " 33  rougher.output.tail_ag                              14578 non-null  float64\n",
      " 34  rougher.output.tail_pb                              14579 non-null  float64\n",
      " 35  rougher.output.tail_sol                             14579 non-null  float64\n",
      " 36  primary_cleaner.input.sulfate                       14556 non-null  float64\n",
      " 37  primary_cleaner.input.depressant                    14551 non-null  float64\n",
      " 38  primary_cleaner.input.feed_size                     14579 non-null  float64\n",
      " 39  primary_cleaner.input.xanthate                      14518 non-null  float64\n",
      " 40  primary_cleaner.state.floatbank8_a_air              14576 non-null  float64\n",
      " 41  primary_cleaner.state.floatbank8_a_level            14579 non-null  float64\n",
      " 42  primary_cleaner.state.floatbank8_b_air              14576 non-null  float64\n",
      " 43  primary_cleaner.state.floatbank8_b_level            14579 non-null  float64\n",
      " 44  primary_cleaner.state.floatbank8_c_air              14579 non-null  float64\n",
      " 45  primary_cleaner.state.floatbank8_c_level            14579 non-null  float64\n",
      " 46  primary_cleaner.state.floatbank8_d_air              14578 non-null  float64\n",
      " 47  primary_cleaner.state.floatbank8_d_level            14579 non-null  float64\n",
      " 48  primary_cleaner.output.concentrate_au               14579 non-null  float64\n",
      " 49  primary_cleaner.output.concentrate_ag               14579 non-null  float64\n",
      " 50  primary_cleaner.output.concentrate_pb               14491 non-null  float64\n",
      " 51  primary_cleaner.output.concentrate_sol              14314 non-null  float64\n",
      " 52  primary_cleaner.output.tail_au                      14579 non-null  float64\n",
      " 53  primary_cleaner.output.tail_ag                      14575 non-null  float64\n",
      " 54  primary_cleaner.output.tail_pb                      14573 non-null  float64\n",
      " 55  primary_cleaner.output.tail_sol                     14534 non-null  float64\n",
      " 56  secondary_cleaner.state.floatbank2_a_air            14485 non-null  float64\n",
      " 57  secondary_cleaner.state.floatbank2_a_level          14579 non-null  float64\n",
      " 58  secondary_cleaner.state.floatbank2_b_air            14557 non-null  float64\n",
      " 59  secondary_cleaner.state.floatbank2_b_level          14579 non-null  float64\n",
      " 60  secondary_cleaner.state.floatbank3_a_air            14567 non-null  float64\n",
      " 61  secondary_cleaner.state.floatbank3_a_level          14579 non-null  float64\n",
      " 62  secondary_cleaner.state.floatbank3_b_air            14579 non-null  float64\n",
      " 63  secondary_cleaner.state.floatbank3_b_level          14579 non-null  float64\n",
      " 64  secondary_cleaner.state.floatbank4_a_air            14574 non-null  float64\n",
      " 65  secondary_cleaner.state.floatbank4_a_level          14579 non-null  float64\n",
      " 66  secondary_cleaner.state.floatbank4_b_air            14579 non-null  float64\n",
      " 67  secondary_cleaner.state.floatbank4_b_level          14579 non-null  float64\n",
      " 68  secondary_cleaner.state.floatbank5_a_air            14579 non-null  float64\n",
      " 69  secondary_cleaner.state.floatbank5_a_level          14579 non-null  float64\n",
      " 70  secondary_cleaner.state.floatbank5_b_air            14579 non-null  float64\n",
      " 71  secondary_cleaner.state.floatbank5_b_level          14579 non-null  float64\n",
      " 72  secondary_cleaner.state.floatbank6_a_air            14578 non-null  float64\n",
      " 73  secondary_cleaner.state.floatbank6_a_level          14579 non-null  float64\n",
      " 74  secondary_cleaner.output.tail_au                    14579 non-null  float64\n",
      " 75  secondary_cleaner.output.tail_ag                    14578 non-null  float64\n",
      " 76  secondary_cleaner.output.tail_pb                    14575 non-null  float64\n",
      " 77  secondary_cleaner.output.tail_sol                   13659 non-null  float64\n",
      " 78  final.output.concentrate_au                         14579 non-null  float64\n",
      " 79  final.output.concentrate_ag                         14578 non-null  float64\n",
      " 80  final.output.concentrate_pb                         14578 non-null  float64\n",
      " 81  final.output.concentrate_sol                        14387 non-null  float64\n",
      " 82  final.output.recovery                               14579 non-null  float64\n",
      " 83  final.output.tail_au                                14579 non-null  float64\n",
      " 84  final.output.tail_ag                                14578 non-null  float64\n",
      " 85  final.output.tail_pb                                14504 non-null  float64\n",
      " 86  final.output.tail_sol                               14574 non-null  float64\n",
      "dtypes: float64(86), object(1)\n",
      "memory usage: 9.7+ MB\n"
     ]
    }
   ],
   "source": [
    "check(gold_industry_train)"
   ]
  },
  {
   "cell_type": "code",
   "execution_count": 9,
   "metadata": {
    "scrolled": false
   },
   "outputs": [
    {
     "data": {
      "text/html": [
       "<div>\n",
       "<style scoped>\n",
       "    .dataframe tbody tr th:only-of-type {\n",
       "        vertical-align: middle;\n",
       "    }\n",
       "\n",
       "    .dataframe tbody tr th {\n",
       "        vertical-align: top;\n",
       "    }\n",
       "\n",
       "    .dataframe thead th {\n",
       "        text-align: right;\n",
       "    }\n",
       "</style>\n",
       "<table border=\"1\" class=\"dataframe\">\n",
       "  <thead>\n",
       "    <tr style=\"text-align: right;\">\n",
       "      <th></th>\n",
       "      <th>date</th>\n",
       "      <th>rougher.input.feed_au</th>\n",
       "      <th>rougher.input.feed_ag</th>\n",
       "      <th>rougher.input.feed_pb</th>\n",
       "      <th>rougher.input.feed_sol</th>\n",
       "      <th>rougher.input.feed_rate</th>\n",
       "      <th>rougher.input.feed_size</th>\n",
       "      <th>rougher.input.floatbank10_sulfate</th>\n",
       "      <th>rougher.input.floatbank10_xanthate</th>\n",
       "      <th>rougher.state.floatbank10_a_air</th>\n",
       "      <th>...</th>\n",
       "      <th>secondary_cleaner.state.floatbank4_a_air</th>\n",
       "      <th>secondary_cleaner.state.floatbank4_a_level</th>\n",
       "      <th>secondary_cleaner.state.floatbank4_b_air</th>\n",
       "      <th>secondary_cleaner.state.floatbank4_b_level</th>\n",
       "      <th>secondary_cleaner.state.floatbank5_a_air</th>\n",
       "      <th>secondary_cleaner.state.floatbank5_a_level</th>\n",
       "      <th>secondary_cleaner.state.floatbank5_b_air</th>\n",
       "      <th>secondary_cleaner.state.floatbank5_b_level</th>\n",
       "      <th>secondary_cleaner.state.floatbank6_a_air</th>\n",
       "      <th>secondary_cleaner.state.floatbank6_a_level</th>\n",
       "    </tr>\n",
       "  </thead>\n",
       "  <tbody>\n",
       "    <tr>\n",
       "      <th>0</th>\n",
       "      <td>2017-12-09 14:59:59</td>\n",
       "      <td>4.365491</td>\n",
       "      <td>6.158718</td>\n",
       "      <td>3.875727</td>\n",
       "      <td>39.135119</td>\n",
       "      <td>555.820208</td>\n",
       "      <td>94.544358</td>\n",
       "      <td>6.146982</td>\n",
       "      <td>9.308612</td>\n",
       "      <td>1196.238112</td>\n",
       "      <td>...</td>\n",
       "      <td>23.018622</td>\n",
       "      <td>-500.492702</td>\n",
       "      <td>20.020205</td>\n",
       "      <td>-500.220296</td>\n",
       "      <td>17.963512</td>\n",
       "      <td>-499.939490</td>\n",
       "      <td>12.990306</td>\n",
       "      <td>-500.080993</td>\n",
       "      <td>19.990336</td>\n",
       "      <td>-499.191575</td>\n",
       "    </tr>\n",
       "    <tr>\n",
       "      <th>1</th>\n",
       "      <td>2017-12-09 15:59:59</td>\n",
       "      <td>4.362781</td>\n",
       "      <td>6.048130</td>\n",
       "      <td>3.902537</td>\n",
       "      <td>39.713906</td>\n",
       "      <td>544.731687</td>\n",
       "      <td>123.742430</td>\n",
       "      <td>6.210119</td>\n",
       "      <td>9.297709</td>\n",
       "      <td>1201.904177</td>\n",
       "      <td>...</td>\n",
       "      <td>23.024963</td>\n",
       "      <td>-501.153409</td>\n",
       "      <td>20.054122</td>\n",
       "      <td>-500.314711</td>\n",
       "      <td>17.979515</td>\n",
       "      <td>-499.272871</td>\n",
       "      <td>12.992404</td>\n",
       "      <td>-499.976268</td>\n",
       "      <td>20.013986</td>\n",
       "      <td>-500.625471</td>\n",
       "    </tr>\n",
       "    <tr>\n",
       "      <th>2</th>\n",
       "      <td>2017-12-09 16:59:59</td>\n",
       "      <td>5.081681</td>\n",
       "      <td>6.082745</td>\n",
       "      <td>4.564078</td>\n",
       "      <td>37.208683</td>\n",
       "      <td>558.155110</td>\n",
       "      <td>82.610855</td>\n",
       "      <td>7.363824</td>\n",
       "      <td>9.003562</td>\n",
       "      <td>1200.826926</td>\n",
       "      <td>...</td>\n",
       "      <td>22.993827</td>\n",
       "      <td>-501.559663</td>\n",
       "      <td>20.029144</td>\n",
       "      <td>-500.000662</td>\n",
       "      <td>18.012723</td>\n",
       "      <td>-500.024764</td>\n",
       "      <td>13.016445</td>\n",
       "      <td>-500.058432</td>\n",
       "      <td>19.973767</td>\n",
       "      <td>-501.394155</td>\n",
       "    </tr>\n",
       "    <tr>\n",
       "      <th>3</th>\n",
       "      <td>2017-12-09 17:59:59</td>\n",
       "      <td>5.145949</td>\n",
       "      <td>6.084374</td>\n",
       "      <td>4.768124</td>\n",
       "      <td>36.808874</td>\n",
       "      <td>539.713765</td>\n",
       "      <td>77.984784</td>\n",
       "      <td>6.927072</td>\n",
       "      <td>8.955597</td>\n",
       "      <td>1199.292489</td>\n",
       "      <td>...</td>\n",
       "      <td>23.032807</td>\n",
       "      <td>-501.287889</td>\n",
       "      <td>19.977466</td>\n",
       "      <td>-500.159903</td>\n",
       "      <td>17.980463</td>\n",
       "      <td>-500.504602</td>\n",
       "      <td>12.949071</td>\n",
       "      <td>-500.009937</td>\n",
       "      <td>20.010332</td>\n",
       "      <td>-508.337973</td>\n",
       "    </tr>\n",
       "    <tr>\n",
       "      <th>4</th>\n",
       "      <td>2017-12-09 18:59:59</td>\n",
       "      <td>5.735249</td>\n",
       "      <td>6.165220</td>\n",
       "      <td>4.512346</td>\n",
       "      <td>37.810642</td>\n",
       "      <td>558.713584</td>\n",
       "      <td>86.434874</td>\n",
       "      <td>7.823471</td>\n",
       "      <td>7.490356</td>\n",
       "      <td>1198.005449</td>\n",
       "      <td>...</td>\n",
       "      <td>23.001911</td>\n",
       "      <td>-499.947838</td>\n",
       "      <td>20.023735</td>\n",
       "      <td>-499.713680</td>\n",
       "      <td>17.990955</td>\n",
       "      <td>-500.334769</td>\n",
       "      <td>13.007523</td>\n",
       "      <td>-499.968459</td>\n",
       "      <td>19.995999</td>\n",
       "      <td>-499.788805</td>\n",
       "    </tr>\n",
       "  </tbody>\n",
       "</table>\n",
       "<p>5 rows × 53 columns</p>\n",
       "</div>"
      ],
      "text/plain": [
       "                  date  rougher.input.feed_au  rougher.input.feed_ag  \\\n",
       "0  2017-12-09 14:59:59               4.365491               6.158718   \n",
       "1  2017-12-09 15:59:59               4.362781               6.048130   \n",
       "2  2017-12-09 16:59:59               5.081681               6.082745   \n",
       "3  2017-12-09 17:59:59               5.145949               6.084374   \n",
       "4  2017-12-09 18:59:59               5.735249               6.165220   \n",
       "\n",
       "   rougher.input.feed_pb  rougher.input.feed_sol  rougher.input.feed_rate  \\\n",
       "0               3.875727               39.135119               555.820208   \n",
       "1               3.902537               39.713906               544.731687   \n",
       "2               4.564078               37.208683               558.155110   \n",
       "3               4.768124               36.808874               539.713765   \n",
       "4               4.512346               37.810642               558.713584   \n",
       "\n",
       "   rougher.input.feed_size  rougher.input.floatbank10_sulfate  \\\n",
       "0                94.544358                           6.146982   \n",
       "1               123.742430                           6.210119   \n",
       "2                82.610855                           7.363824   \n",
       "3                77.984784                           6.927072   \n",
       "4                86.434874                           7.823471   \n",
       "\n",
       "   rougher.input.floatbank10_xanthate  rougher.state.floatbank10_a_air  ...  \\\n",
       "0                            9.308612                      1196.238112  ...   \n",
       "1                            9.297709                      1201.904177  ...   \n",
       "2                            9.003562                      1200.826926  ...   \n",
       "3                            8.955597                      1199.292489  ...   \n",
       "4                            7.490356                      1198.005449  ...   \n",
       "\n",
       "   secondary_cleaner.state.floatbank4_a_air  \\\n",
       "0                                 23.018622   \n",
       "1                                 23.024963   \n",
       "2                                 22.993827   \n",
       "3                                 23.032807   \n",
       "4                                 23.001911   \n",
       "\n",
       "   secondary_cleaner.state.floatbank4_a_level  \\\n",
       "0                                 -500.492702   \n",
       "1                                 -501.153409   \n",
       "2                                 -501.559663   \n",
       "3                                 -501.287889   \n",
       "4                                 -499.947838   \n",
       "\n",
       "   secondary_cleaner.state.floatbank4_b_air  \\\n",
       "0                                 20.020205   \n",
       "1                                 20.054122   \n",
       "2                                 20.029144   \n",
       "3                                 19.977466   \n",
       "4                                 20.023735   \n",
       "\n",
       "   secondary_cleaner.state.floatbank4_b_level  \\\n",
       "0                                 -500.220296   \n",
       "1                                 -500.314711   \n",
       "2                                 -500.000662   \n",
       "3                                 -500.159903   \n",
       "4                                 -499.713680   \n",
       "\n",
       "   secondary_cleaner.state.floatbank5_a_air  \\\n",
       "0                                 17.963512   \n",
       "1                                 17.979515   \n",
       "2                                 18.012723   \n",
       "3                                 17.980463   \n",
       "4                                 17.990955   \n",
       "\n",
       "   secondary_cleaner.state.floatbank5_a_level  \\\n",
       "0                                 -499.939490   \n",
       "1                                 -499.272871   \n",
       "2                                 -500.024764   \n",
       "3                                 -500.504602   \n",
       "4                                 -500.334769   \n",
       "\n",
       "   secondary_cleaner.state.floatbank5_b_air  \\\n",
       "0                                 12.990306   \n",
       "1                                 12.992404   \n",
       "2                                 13.016445   \n",
       "3                                 12.949071   \n",
       "4                                 13.007523   \n",
       "\n",
       "   secondary_cleaner.state.floatbank5_b_level  \\\n",
       "0                                 -500.080993   \n",
       "1                                 -499.976268   \n",
       "2                                 -500.058432   \n",
       "3                                 -500.009937   \n",
       "4                                 -499.968459   \n",
       "\n",
       "   secondary_cleaner.state.floatbank6_a_air  \\\n",
       "0                                 19.990336   \n",
       "1                                 20.013986   \n",
       "2                                 19.973767   \n",
       "3                                 20.010332   \n",
       "4                                 19.995999   \n",
       "\n",
       "   secondary_cleaner.state.floatbank6_a_level  \n",
       "0                                 -499.191575  \n",
       "1                                 -500.625471  \n",
       "2                                 -501.394155  \n",
       "3                                 -508.337973  \n",
       "4                                 -499.788805  \n",
       "\n",
       "[5 rows x 53 columns]"
      ]
     },
     "metadata": {},
     "output_type": "display_data"
    },
    {
     "name": "stdout",
     "output_type": "stream",
     "text": [
      "Размеры датафрейма: (4860, 53)\n",
      "Количество пропусков: date                                            0\n",
      "rougher.input.feed_au                           0\n",
      "rougher.input.feed_ag                           0\n",
      "primary_cleaner.input.feed_size                 0\n",
      "rougher.state.floatbank10_f_level               0\n",
      "rougher.state.floatbank10_f_air                 0\n",
      "rougher.state.floatbank10_e_level               0\n",
      "rougher.state.floatbank10_d_level               0\n",
      "rougher.state.floatbank10_d_air                 0\n",
      "primary_cleaner.state.floatbank8_c_level        1\n",
      "primary_cleaner.state.floatbank8_d_level        1\n",
      "secondary_cleaner.state.floatbank2_a_level      1\n",
      "secondary_cleaner.state.floatbank2_b_air        1\n",
      "secondary_cleaner.state.floatbank2_b_level      1\n",
      "secondary_cleaner.state.floatbank3_a_level      1\n",
      "primary_cleaner.state.floatbank8_b_level        1\n",
      "secondary_cleaner.state.floatbank3_b_air        1\n",
      "secondary_cleaner.state.floatbank3_b_level      1\n",
      "secondary_cleaner.state.floatbank4_a_air        1\n",
      "secondary_cleaner.state.floatbank4_a_level      1\n",
      "secondary_cleaner.state.floatbank4_b_air        1\n",
      "secondary_cleaner.state.floatbank4_b_level      1\n",
      "secondary_cleaner.state.floatbank5_a_air        1\n",
      "secondary_cleaner.state.floatbank5_a_level      1\n",
      "secondary_cleaner.state.floatbank5_b_air        1\n",
      "secondary_cleaner.state.floatbank5_b_level      1\n",
      "secondary_cleaner.state.floatbank3_a_air        1\n",
      "primary_cleaner.state.floatbank8_b_air          1\n",
      "secondary_cleaner.state.floatbank6_a_level      1\n",
      "primary_cleaner.state.floatbank8_a_air          1\n",
      "rougher.input.floatbank10_xanthate              1\n",
      "rougher.state.floatbank10_a_air                 1\n",
      "rougher.state.floatbank10_a_level               1\n",
      "rougher.state.floatbank10_b_air                 1\n",
      "rougher.state.floatbank10_b_level               1\n",
      "primary_cleaner.state.floatbank8_a_level        1\n",
      "rougher.state.floatbank10_c_level               1\n",
      "rougher.state.floatbank10_c_air                 1\n",
      "primary_cleaner.input.sulfate                   1\n",
      "secondary_cleaner.state.floatbank6_a_air        1\n",
      "primary_cleaner.state.floatbank8_d_air          2\n",
      "primary_cleaner.state.floatbank8_c_air          2\n",
      "rougher.input.floatbank10_sulfate               3\n",
      "rougher.input.feed_rate                         4\n",
      "rougher.state.floatbank10_e_air                 7\n",
      "rougher.input.floatbank11_sulfate               8\n",
      "primary_cleaner.input.depressant                9\n",
      "rougher.input.feed_sol                         22\n",
      "rougher.input.feed_pb                          28\n",
      "primary_cleaner.input.xanthate                 43\n",
      "rougher.input.feed_size                        44\n",
      "rougher.input.floatbank11_xanthate             46\n",
      "secondary_cleaner.state.floatbank2_a_air      126\n",
      "dtype: int64\n",
      "Количество явных дубликатов 0\n",
      "<class 'pandas.core.frame.DataFrame'>\n",
      "RangeIndex: 4860 entries, 0 to 4859\n",
      "Data columns (total 53 columns):\n",
      " #   Column                                      Non-Null Count  Dtype  \n",
      "---  ------                                      --------------  -----  \n",
      " 0   date                                        4860 non-null   object \n",
      " 1   rougher.input.feed_au                       4860 non-null   float64\n",
      " 2   rougher.input.feed_ag                       4860 non-null   float64\n",
      " 3   rougher.input.feed_pb                       4832 non-null   float64\n",
      " 4   rougher.input.feed_sol                      4838 non-null   float64\n",
      " 5   rougher.input.feed_rate                     4856 non-null   float64\n",
      " 6   rougher.input.feed_size                     4816 non-null   float64\n",
      " 7   rougher.input.floatbank10_sulfate           4857 non-null   float64\n",
      " 8   rougher.input.floatbank10_xanthate          4859 non-null   float64\n",
      " 9   rougher.state.floatbank10_a_air             4859 non-null   float64\n",
      " 10  rougher.state.floatbank10_a_level           4859 non-null   float64\n",
      " 11  rougher.state.floatbank10_b_air             4859 non-null   float64\n",
      " 12  rougher.state.floatbank10_b_level           4859 non-null   float64\n",
      " 13  rougher.state.floatbank10_c_air             4859 non-null   float64\n",
      " 14  rougher.state.floatbank10_c_level           4859 non-null   float64\n",
      " 15  rougher.state.floatbank10_d_air             4860 non-null   float64\n",
      " 16  rougher.state.floatbank10_d_level           4860 non-null   float64\n",
      " 17  rougher.state.floatbank10_e_air             4853 non-null   float64\n",
      " 18  rougher.state.floatbank10_e_level           4860 non-null   float64\n",
      " 19  rougher.state.floatbank10_f_air             4860 non-null   float64\n",
      " 20  rougher.state.floatbank10_f_level           4860 non-null   float64\n",
      " 21  rougher.input.floatbank11_sulfate           4852 non-null   float64\n",
      " 22  rougher.input.floatbank11_xanthate          4814 non-null   float64\n",
      " 23  primary_cleaner.input.sulfate               4859 non-null   float64\n",
      " 24  primary_cleaner.input.depressant            4851 non-null   float64\n",
      " 25  primary_cleaner.input.feed_size             4860 non-null   float64\n",
      " 26  primary_cleaner.input.xanthate              4817 non-null   float64\n",
      " 27  primary_cleaner.state.floatbank8_a_air      4859 non-null   float64\n",
      " 28  primary_cleaner.state.floatbank8_a_level    4859 non-null   float64\n",
      " 29  primary_cleaner.state.floatbank8_b_air      4859 non-null   float64\n",
      " 30  primary_cleaner.state.floatbank8_b_level    4859 non-null   float64\n",
      " 31  primary_cleaner.state.floatbank8_c_air      4858 non-null   float64\n",
      " 32  primary_cleaner.state.floatbank8_c_level    4859 non-null   float64\n",
      " 33  primary_cleaner.state.floatbank8_d_air      4858 non-null   float64\n",
      " 34  primary_cleaner.state.floatbank8_d_level    4859 non-null   float64\n",
      " 35  secondary_cleaner.state.floatbank2_a_air    4734 non-null   float64\n",
      " 36  secondary_cleaner.state.floatbank2_a_level  4859 non-null   float64\n",
      " 37  secondary_cleaner.state.floatbank2_b_air    4859 non-null   float64\n",
      " 38  secondary_cleaner.state.floatbank2_b_level  4859 non-null   float64\n",
      " 39  secondary_cleaner.state.floatbank3_a_air    4859 non-null   float64\n",
      " 40  secondary_cleaner.state.floatbank3_a_level  4859 non-null   float64\n",
      " 41  secondary_cleaner.state.floatbank3_b_air    4859 non-null   float64\n",
      " 42  secondary_cleaner.state.floatbank3_b_level  4859 non-null   float64\n",
      " 43  secondary_cleaner.state.floatbank4_a_air    4859 non-null   float64\n",
      " 44  secondary_cleaner.state.floatbank4_a_level  4859 non-null   float64\n",
      " 45  secondary_cleaner.state.floatbank4_b_air    4859 non-null   float64\n",
      " 46  secondary_cleaner.state.floatbank4_b_level  4859 non-null   float64\n",
      " 47  secondary_cleaner.state.floatbank5_a_air    4859 non-null   float64\n",
      " 48  secondary_cleaner.state.floatbank5_a_level  4859 non-null   float64\n",
      " 49  secondary_cleaner.state.floatbank5_b_air    4859 non-null   float64\n",
      " 50  secondary_cleaner.state.floatbank5_b_level  4859 non-null   float64\n",
      " 51  secondary_cleaner.state.floatbank6_a_air    4859 non-null   float64\n",
      " 52  secondary_cleaner.state.floatbank6_a_level  4859 non-null   float64\n",
      "dtypes: float64(52), object(1)\n",
      "memory usage: 2.0+ MB\n"
     ]
    }
   ],
   "source": [
    "check(gold_industry_test)"
   ]
  },
  {
   "cell_type": "code",
   "execution_count": 10,
   "metadata": {
    "scrolled": false
   },
   "outputs": [
    {
     "data": {
      "text/html": [
       "<div>\n",
       "<style scoped>\n",
       "    .dataframe tbody tr th:only-of-type {\n",
       "        vertical-align: middle;\n",
       "    }\n",
       "\n",
       "    .dataframe tbody tr th {\n",
       "        vertical-align: top;\n",
       "    }\n",
       "\n",
       "    .dataframe thead th {\n",
       "        text-align: right;\n",
       "    }\n",
       "</style>\n",
       "<table border=\"1\" class=\"dataframe\">\n",
       "  <thead>\n",
       "    <tr style=\"text-align: right;\">\n",
       "      <th></th>\n",
       "      <th>date</th>\n",
       "      <th>rougher.input.feed_au</th>\n",
       "      <th>rougher.input.feed_ag</th>\n",
       "      <th>rougher.input.feed_pb</th>\n",
       "      <th>rougher.input.feed_sol</th>\n",
       "      <th>rougher.input.feed_rate</th>\n",
       "      <th>rougher.input.feed_size</th>\n",
       "      <th>rougher.input.floatbank10_sulfate</th>\n",
       "      <th>rougher.input.floatbank10_xanthate</th>\n",
       "      <th>rougher.state.floatbank10_a_air</th>\n",
       "      <th>...</th>\n",
       "      <th>secondary_cleaner.output.tail_sol</th>\n",
       "      <th>final.output.concentrate_au</th>\n",
       "      <th>final.output.concentrate_ag</th>\n",
       "      <th>final.output.concentrate_pb</th>\n",
       "      <th>final.output.concentrate_sol</th>\n",
       "      <th>final.output.recovery</th>\n",
       "      <th>final.output.tail_au</th>\n",
       "      <th>final.output.tail_ag</th>\n",
       "      <th>final.output.tail_pb</th>\n",
       "      <th>final.output.tail_sol</th>\n",
       "    </tr>\n",
       "  </thead>\n",
       "  <tbody>\n",
       "    <tr>\n",
       "      <th>0</th>\n",
       "      <td>2016-01-15 00:00:00</td>\n",
       "      <td>6.486150</td>\n",
       "      <td>6.100378</td>\n",
       "      <td>2.284912</td>\n",
       "      <td>36.808594</td>\n",
       "      <td>523.546326</td>\n",
       "      <td>55.486599</td>\n",
       "      <td>11.986616</td>\n",
       "      <td>6.007990</td>\n",
       "      <td>999.706909</td>\n",
       "      <td>...</td>\n",
       "      <td>8.764648</td>\n",
       "      <td>42.192020</td>\n",
       "      <td>6.055403</td>\n",
       "      <td>9.889648</td>\n",
       "      <td>5.507324</td>\n",
       "      <td>70.541216</td>\n",
       "      <td>2.143149</td>\n",
       "      <td>10.411962</td>\n",
       "      <td>0.895447</td>\n",
       "      <td>16.904297</td>\n",
       "    </tr>\n",
       "    <tr>\n",
       "      <th>1</th>\n",
       "      <td>2016-01-15 01:00:00</td>\n",
       "      <td>6.478583</td>\n",
       "      <td>6.161113</td>\n",
       "      <td>2.266033</td>\n",
       "      <td>35.753385</td>\n",
       "      <td>525.290581</td>\n",
       "      <td>57.278666</td>\n",
       "      <td>11.971193</td>\n",
       "      <td>6.005766</td>\n",
       "      <td>1000.286398</td>\n",
       "      <td>...</td>\n",
       "      <td>9.001494</td>\n",
       "      <td>42.701629</td>\n",
       "      <td>6.029369</td>\n",
       "      <td>9.968944</td>\n",
       "      <td>5.257781</td>\n",
       "      <td>69.266198</td>\n",
       "      <td>2.224930</td>\n",
       "      <td>10.462676</td>\n",
       "      <td>0.927452</td>\n",
       "      <td>16.634514</td>\n",
       "    </tr>\n",
       "    <tr>\n",
       "      <th>2</th>\n",
       "      <td>2016-01-15 02:00:00</td>\n",
       "      <td>6.362222</td>\n",
       "      <td>6.116455</td>\n",
       "      <td>2.159622</td>\n",
       "      <td>35.971630</td>\n",
       "      <td>530.026610</td>\n",
       "      <td>57.510649</td>\n",
       "      <td>11.920603</td>\n",
       "      <td>6.197377</td>\n",
       "      <td>999.719565</td>\n",
       "      <td>...</td>\n",
       "      <td>8.842896</td>\n",
       "      <td>42.657501</td>\n",
       "      <td>6.055926</td>\n",
       "      <td>10.213995</td>\n",
       "      <td>5.383759</td>\n",
       "      <td>68.116445</td>\n",
       "      <td>2.257889</td>\n",
       "      <td>10.507046</td>\n",
       "      <td>0.953716</td>\n",
       "      <td>16.208849</td>\n",
       "    </tr>\n",
       "    <tr>\n",
       "      <th>3</th>\n",
       "      <td>2016-01-15 03:00:00</td>\n",
       "      <td>6.118189</td>\n",
       "      <td>6.043309</td>\n",
       "      <td>2.037807</td>\n",
       "      <td>36.862241</td>\n",
       "      <td>542.590390</td>\n",
       "      <td>57.792734</td>\n",
       "      <td>11.630094</td>\n",
       "      <td>6.203177</td>\n",
       "      <td>999.814770</td>\n",
       "      <td>...</td>\n",
       "      <td>9.122857</td>\n",
       "      <td>42.689819</td>\n",
       "      <td>6.047977</td>\n",
       "      <td>9.977019</td>\n",
       "      <td>4.858634</td>\n",
       "      <td>68.347543</td>\n",
       "      <td>2.146849</td>\n",
       "      <td>10.422762</td>\n",
       "      <td>0.883763</td>\n",
       "      <td>16.532835</td>\n",
       "    </tr>\n",
       "    <tr>\n",
       "      <th>4</th>\n",
       "      <td>2016-01-15 04:00:00</td>\n",
       "      <td>5.663707</td>\n",
       "      <td>6.060915</td>\n",
       "      <td>1.786875</td>\n",
       "      <td>34.347666</td>\n",
       "      <td>540.531893</td>\n",
       "      <td>56.047189</td>\n",
       "      <td>10.957755</td>\n",
       "      <td>6.198826</td>\n",
       "      <td>999.678690</td>\n",
       "      <td>...</td>\n",
       "      <td>8.871028</td>\n",
       "      <td>42.774141</td>\n",
       "      <td>6.148599</td>\n",
       "      <td>10.142511</td>\n",
       "      <td>4.939416</td>\n",
       "      <td>66.927016</td>\n",
       "      <td>2.055292</td>\n",
       "      <td>10.360302</td>\n",
       "      <td>0.792826</td>\n",
       "      <td>16.525686</td>\n",
       "    </tr>\n",
       "  </tbody>\n",
       "</table>\n",
       "<p>5 rows × 87 columns</p>\n",
       "</div>"
      ],
      "text/plain": [
       "                  date  rougher.input.feed_au  rougher.input.feed_ag  \\\n",
       "0  2016-01-15 00:00:00               6.486150               6.100378   \n",
       "1  2016-01-15 01:00:00               6.478583               6.161113   \n",
       "2  2016-01-15 02:00:00               6.362222               6.116455   \n",
       "3  2016-01-15 03:00:00               6.118189               6.043309   \n",
       "4  2016-01-15 04:00:00               5.663707               6.060915   \n",
       "\n",
       "   rougher.input.feed_pb  rougher.input.feed_sol  rougher.input.feed_rate  \\\n",
       "0               2.284912               36.808594               523.546326   \n",
       "1               2.266033               35.753385               525.290581   \n",
       "2               2.159622               35.971630               530.026610   \n",
       "3               2.037807               36.862241               542.590390   \n",
       "4               1.786875               34.347666               540.531893   \n",
       "\n",
       "   rougher.input.feed_size  rougher.input.floatbank10_sulfate  \\\n",
       "0                55.486599                          11.986616   \n",
       "1                57.278666                          11.971193   \n",
       "2                57.510649                          11.920603   \n",
       "3                57.792734                          11.630094   \n",
       "4                56.047189                          10.957755   \n",
       "\n",
       "   rougher.input.floatbank10_xanthate  rougher.state.floatbank10_a_air  ...  \\\n",
       "0                            6.007990                       999.706909  ...   \n",
       "1                            6.005766                      1000.286398  ...   \n",
       "2                            6.197377                       999.719565  ...   \n",
       "3                            6.203177                       999.814770  ...   \n",
       "4                            6.198826                       999.678690  ...   \n",
       "\n",
       "   secondary_cleaner.output.tail_sol  final.output.concentrate_au  \\\n",
       "0                           8.764648                    42.192020   \n",
       "1                           9.001494                    42.701629   \n",
       "2                           8.842896                    42.657501   \n",
       "3                           9.122857                    42.689819   \n",
       "4                           8.871028                    42.774141   \n",
       "\n",
       "   final.output.concentrate_ag  final.output.concentrate_pb  \\\n",
       "0                     6.055403                     9.889648   \n",
       "1                     6.029369                     9.968944   \n",
       "2                     6.055926                    10.213995   \n",
       "3                     6.047977                     9.977019   \n",
       "4                     6.148599                    10.142511   \n",
       "\n",
       "   final.output.concentrate_sol  final.output.recovery  final.output.tail_au  \\\n",
       "0                      5.507324              70.541216              2.143149   \n",
       "1                      5.257781              69.266198              2.224930   \n",
       "2                      5.383759              68.116445              2.257889   \n",
       "3                      4.858634              68.347543              2.146849   \n",
       "4                      4.939416              66.927016              2.055292   \n",
       "\n",
       "   final.output.tail_ag  final.output.tail_pb  final.output.tail_sol  \n",
       "0             10.411962              0.895447              16.904297  \n",
       "1             10.462676              0.927452              16.634514  \n",
       "2             10.507046              0.953716              16.208849  \n",
       "3             10.422762              0.883763              16.532835  \n",
       "4             10.360302              0.792826              16.525686  \n",
       "\n",
       "[5 rows x 87 columns]"
      ]
     },
     "metadata": {},
     "output_type": "display_data"
    },
    {
     "name": "stdout",
     "output_type": "stream",
     "text": [
      "Размеры датафрейма: (19439, 87)\n",
      "Количество пропусков: date                                           0\n",
      "primary_cleaner.output.concentrate_au          0\n",
      "primary_cleaner.input.feed_size                0\n",
      "primary_cleaner.output.concentrate_ag          0\n",
      "primary_cleaner.output.tail_au                 0\n",
      "                                            ... \n",
      "secondary_cleaner.state.floatbank2_a_air     220\n",
      "primary_cleaner.output.concentrate_sol       370\n",
      "rougher.state.floatbank10_e_air              436\n",
      "rougher.input.floatbank11_xanthate           453\n",
      "secondary_cleaner.output.tail_sol           1748\n",
      "Length: 87, dtype: int64\n",
      "Количество явных дубликатов 0\n",
      "<class 'pandas.core.frame.DataFrame'>\n",
      "RangeIndex: 19439 entries, 0 to 19438\n",
      "Data columns (total 87 columns):\n",
      " #   Column                                              Non-Null Count  Dtype  \n",
      "---  ------                                              --------------  -----  \n",
      " 0   date                                                19439 non-null  object \n",
      " 1   rougher.input.feed_au                               19439 non-null  float64\n",
      " 2   rougher.input.feed_ag                               19439 non-null  float64\n",
      " 3   rougher.input.feed_pb                               19339 non-null  float64\n",
      " 4   rougher.input.feed_sol                              19340 non-null  float64\n",
      " 5   rougher.input.feed_rate                             19428 non-null  float64\n",
      " 6   rougher.input.feed_size                             19294 non-null  float64\n",
      " 7   rougher.input.floatbank10_sulfate                   19405 non-null  float64\n",
      " 8   rougher.input.floatbank10_xanthate                  19431 non-null  float64\n",
      " 9   rougher.state.floatbank10_a_air                     19438 non-null  float64\n",
      " 10  rougher.state.floatbank10_a_level                   19438 non-null  float64\n",
      " 11  rougher.state.floatbank10_b_air                     19438 non-null  float64\n",
      " 12  rougher.state.floatbank10_b_level                   19438 non-null  float64\n",
      " 13  rougher.state.floatbank10_c_air                     19438 non-null  float64\n",
      " 14  rougher.state.floatbank10_c_level                   19438 non-null  float64\n",
      " 15  rougher.state.floatbank10_d_air                     19439 non-null  float64\n",
      " 16  rougher.state.floatbank10_d_level                   19439 non-null  float64\n",
      " 17  rougher.state.floatbank10_e_air                     19003 non-null  float64\n",
      " 18  rougher.state.floatbank10_e_level                   19439 non-null  float64\n",
      " 19  rougher.state.floatbank10_f_air                     19439 non-null  float64\n",
      " 20  rougher.state.floatbank10_f_level                   19439 non-null  float64\n",
      " 21  rougher.input.floatbank11_sulfate                   19395 non-null  float64\n",
      " 22  rougher.input.floatbank11_xanthate                  18986 non-null  float64\n",
      " 23  rougher.calculation.sulfate_to_au_concentrate       19437 non-null  float64\n",
      " 24  rougher.calculation.floatbank10_sulfate_to_au_feed  19437 non-null  float64\n",
      " 25  rougher.calculation.floatbank11_sulfate_to_au_feed  19437 non-null  float64\n",
      " 26  rougher.calculation.au_pb_ratio                     19439 non-null  float64\n",
      " 27  rougher.output.concentrate_au                       19439 non-null  float64\n",
      " 28  rougher.output.concentrate_ag                       19439 non-null  float64\n",
      " 29  rougher.output.concentrate_pb                       19439 non-null  float64\n",
      " 30  rougher.output.concentrate_sol                      19416 non-null  float64\n",
      " 31  rougher.output.recovery                             19439 non-null  float64\n",
      " 32  rougher.output.tail_au                              19439 non-null  float64\n",
      " 33  rougher.output.tail_ag                              19438 non-null  float64\n",
      " 34  rougher.output.tail_pb                              19439 non-null  float64\n",
      " 35  rougher.output.tail_sol                             19439 non-null  float64\n",
      " 36  primary_cleaner.input.sulfate                       19415 non-null  float64\n",
      " 37  primary_cleaner.input.depressant                    19402 non-null  float64\n",
      " 38  primary_cleaner.input.feed_size                     19439 non-null  float64\n",
      " 39  primary_cleaner.input.xanthate                      19335 non-null  float64\n",
      " 40  primary_cleaner.state.floatbank8_a_air              19435 non-null  float64\n",
      " 41  primary_cleaner.state.floatbank8_a_level            19438 non-null  float64\n",
      " 42  primary_cleaner.state.floatbank8_b_air              19435 non-null  float64\n",
      " 43  primary_cleaner.state.floatbank8_b_level            19438 non-null  float64\n",
      " 44  primary_cleaner.state.floatbank8_c_air              19437 non-null  float64\n",
      " 45  primary_cleaner.state.floatbank8_c_level            19438 non-null  float64\n",
      " 46  primary_cleaner.state.floatbank8_d_air              19436 non-null  float64\n",
      " 47  primary_cleaner.state.floatbank8_d_level            19438 non-null  float64\n",
      " 48  primary_cleaner.output.concentrate_au               19439 non-null  float64\n",
      " 49  primary_cleaner.output.concentrate_ag               19439 non-null  float64\n",
      " 50  primary_cleaner.output.concentrate_pb               19323 non-null  float64\n",
      " 51  primary_cleaner.output.concentrate_sol              19069 non-null  float64\n",
      " 52  primary_cleaner.output.tail_au                      19439 non-null  float64\n",
      " 53  primary_cleaner.output.tail_ag                      19435 non-null  float64\n",
      " 54  primary_cleaner.output.tail_pb                      19418 non-null  float64\n",
      " 55  primary_cleaner.output.tail_sol                     19377 non-null  float64\n",
      " 56  secondary_cleaner.state.floatbank2_a_air            19219 non-null  float64\n",
      " 57  secondary_cleaner.state.floatbank2_a_level          19438 non-null  float64\n",
      " 58  secondary_cleaner.state.floatbank2_b_air            19416 non-null  float64\n",
      " 59  secondary_cleaner.state.floatbank2_b_level          19438 non-null  float64\n",
      " 60  secondary_cleaner.state.floatbank3_a_air            19426 non-null  float64\n",
      " 61  secondary_cleaner.state.floatbank3_a_level          19438 non-null  float64\n",
      " 62  secondary_cleaner.state.floatbank3_b_air            19438 non-null  float64\n",
      " 63  secondary_cleaner.state.floatbank3_b_level          19438 non-null  float64\n",
      " 64  secondary_cleaner.state.floatbank4_a_air            19433 non-null  float64\n",
      " 65  secondary_cleaner.state.floatbank4_a_level          19438 non-null  float64\n",
      " 66  secondary_cleaner.state.floatbank4_b_air            19438 non-null  float64\n",
      " 67  secondary_cleaner.state.floatbank4_b_level          19438 non-null  float64\n",
      " 68  secondary_cleaner.state.floatbank5_a_air            19438 non-null  float64\n",
      " 69  secondary_cleaner.state.floatbank5_a_level          19438 non-null  float64\n",
      " 70  secondary_cleaner.state.floatbank5_b_air            19438 non-null  float64\n",
      " 71  secondary_cleaner.state.floatbank5_b_level          19438 non-null  float64\n",
      " 72  secondary_cleaner.state.floatbank6_a_air            19437 non-null  float64\n",
      " 73  secondary_cleaner.state.floatbank6_a_level          19438 non-null  float64\n",
      " 74  secondary_cleaner.output.tail_au                    19439 non-null  float64\n",
      " 75  secondary_cleaner.output.tail_ag                    19437 non-null  float64\n",
      " 76  secondary_cleaner.output.tail_pb                    19427 non-null  float64\n",
      " 77  secondary_cleaner.output.tail_sol                   17691 non-null  float64\n",
      " 78  final.output.concentrate_au                         19439 non-null  float64\n",
      " 79  final.output.concentrate_ag                         19438 non-null  float64\n",
      " 80  final.output.concentrate_pb                         19438 non-null  float64\n",
      " 81  final.output.concentrate_sol                        19228 non-null  float64\n",
      " 82  final.output.recovery                               19439 non-null  float64\n",
      " 83  final.output.tail_au                                19439 non-null  float64\n",
      " 84  final.output.tail_ag                                19438 non-null  float64\n",
      " 85  final.output.tail_pb                                19338 non-null  float64\n",
      " 86  final.output.tail_sol                               19433 non-null  float64\n",
      "dtypes: float64(86), object(1)\n",
      "memory usage: 12.9+ MB\n"
     ]
    }
   ],
   "source": [
    "check(gold_industry_full)"
   ]
  },
  {
   "cell_type": "markdown",
   "metadata": {},
   "source": [
    "**Вывод по результатам выгрузки данных**\n",
    "\n",
    "На вход получены три датафрейма:\n",
    "\n",
    "- `gold_industry_train` - обучающая выборка. Размер обучающей выборки (14579, 87);\n",
    "- `gold_industry_test` - тестовая выборка. Размер тестовой выборки (4860, 53);\n",
    "- `gold_industry_full` - исходные данные. Размер полной выборки с исходными данными (19439, 87)\n",
    "\n",
    "В данных присутствуют пропуски, которые мы заменим далее на соседние значния, так как из условия задачи можно понять, что данные индексируются датой и временем получения информации, и соседние параметры часто похожи.\n",
    "\n",
    "В данных отсутствуют явные дубликаты.\n",
    "\n",
    "Тип данных в колонке `data` нужно заменить на тип `datatime`"
   ]
  },
  {
   "cell_type": "markdown",
   "metadata": {},
   "source": [
    "#### Замена типов данных"
   ]
  },
  {
   "cell_type": "code",
   "execution_count": 11,
   "metadata": {},
   "outputs": [],
   "source": [
    "gold_industry_train['date'] = pd.to_datetime(gold_industry_train['date'], format='%Y-%m-%d %H:%M:%S')\n",
    "gold_industry_test['date'] = pd.to_datetime(gold_industry_test['date'], format='%Y-%m-%d %H:%M:%S')\n",
    "gold_industry_full['date'] = pd.to_datetime(gold_industry_full['date'], format='%Y-%m-%d %H:%M:%S')"
   ]
  },
  {
   "cell_type": "code",
   "execution_count": 12,
   "metadata": {},
   "outputs": [
    {
     "data": {
      "text/plain": [
       "date                      datetime64[ns]\n",
       "rougher.input.feed_au            float64\n",
       "rougher.input.feed_ag            float64\n",
       "rougher.input.feed_pb            float64\n",
       "rougher.input.feed_sol           float64\n",
       "                               ...      \n",
       "final.output.recovery            float64\n",
       "final.output.tail_au             float64\n",
       "final.output.tail_ag             float64\n",
       "final.output.tail_pb             float64\n",
       "final.output.tail_sol            float64\n",
       "Length: 87, dtype: object"
      ]
     },
     "execution_count": 12,
     "metadata": {},
     "output_type": "execute_result"
    }
   ],
   "source": [
    "gold_industry_train.dtypes"
   ]
  },
  {
   "cell_type": "code",
   "execution_count": 13,
   "metadata": {},
   "outputs": [
    {
     "data": {
      "text/plain": [
       "date                                          datetime64[ns]\n",
       "rougher.input.feed_au                                float64\n",
       "rougher.input.feed_ag                                float64\n",
       "rougher.input.feed_pb                                float64\n",
       "rougher.input.feed_sol                               float64\n",
       "rougher.input.feed_rate                              float64\n",
       "rougher.input.feed_size                              float64\n",
       "rougher.input.floatbank10_sulfate                    float64\n",
       "rougher.input.floatbank10_xanthate                   float64\n",
       "rougher.state.floatbank10_a_air                      float64\n",
       "rougher.state.floatbank10_a_level                    float64\n",
       "rougher.state.floatbank10_b_air                      float64\n",
       "rougher.state.floatbank10_b_level                    float64\n",
       "rougher.state.floatbank10_c_air                      float64\n",
       "rougher.state.floatbank10_c_level                    float64\n",
       "rougher.state.floatbank10_d_air                      float64\n",
       "rougher.state.floatbank10_d_level                    float64\n",
       "rougher.state.floatbank10_e_air                      float64\n",
       "rougher.state.floatbank10_e_level                    float64\n",
       "rougher.state.floatbank10_f_air                      float64\n",
       "rougher.state.floatbank10_f_level                    float64\n",
       "rougher.input.floatbank11_sulfate                    float64\n",
       "rougher.input.floatbank11_xanthate                   float64\n",
       "primary_cleaner.input.sulfate                        float64\n",
       "primary_cleaner.input.depressant                     float64\n",
       "primary_cleaner.input.feed_size                      float64\n",
       "primary_cleaner.input.xanthate                       float64\n",
       "primary_cleaner.state.floatbank8_a_air               float64\n",
       "primary_cleaner.state.floatbank8_a_level             float64\n",
       "primary_cleaner.state.floatbank8_b_air               float64\n",
       "primary_cleaner.state.floatbank8_b_level             float64\n",
       "primary_cleaner.state.floatbank8_c_air               float64\n",
       "primary_cleaner.state.floatbank8_c_level             float64\n",
       "primary_cleaner.state.floatbank8_d_air               float64\n",
       "primary_cleaner.state.floatbank8_d_level             float64\n",
       "secondary_cleaner.state.floatbank2_a_air             float64\n",
       "secondary_cleaner.state.floatbank2_a_level           float64\n",
       "secondary_cleaner.state.floatbank2_b_air             float64\n",
       "secondary_cleaner.state.floatbank2_b_level           float64\n",
       "secondary_cleaner.state.floatbank3_a_air             float64\n",
       "secondary_cleaner.state.floatbank3_a_level           float64\n",
       "secondary_cleaner.state.floatbank3_b_air             float64\n",
       "secondary_cleaner.state.floatbank3_b_level           float64\n",
       "secondary_cleaner.state.floatbank4_a_air             float64\n",
       "secondary_cleaner.state.floatbank4_a_level           float64\n",
       "secondary_cleaner.state.floatbank4_b_air             float64\n",
       "secondary_cleaner.state.floatbank4_b_level           float64\n",
       "secondary_cleaner.state.floatbank5_a_air             float64\n",
       "secondary_cleaner.state.floatbank5_a_level           float64\n",
       "secondary_cleaner.state.floatbank5_b_air             float64\n",
       "secondary_cleaner.state.floatbank5_b_level           float64\n",
       "secondary_cleaner.state.floatbank6_a_air             float64\n",
       "secondary_cleaner.state.floatbank6_a_level           float64\n",
       "dtype: object"
      ]
     },
     "execution_count": 13,
     "metadata": {},
     "output_type": "execute_result"
    }
   ],
   "source": [
    "gold_industry_test.dtypes"
   ]
  },
  {
   "cell_type": "code",
   "execution_count": 14,
   "metadata": {},
   "outputs": [
    {
     "data": {
      "text/plain": [
       "date                      datetime64[ns]\n",
       "rougher.input.feed_au            float64\n",
       "rougher.input.feed_ag            float64\n",
       "rougher.input.feed_pb            float64\n",
       "rougher.input.feed_sol           float64\n",
       "                               ...      \n",
       "final.output.recovery            float64\n",
       "final.output.tail_au             float64\n",
       "final.output.tail_ag             float64\n",
       "final.output.tail_pb             float64\n",
       "final.output.tail_sol            float64\n",
       "Length: 87, dtype: object"
      ]
     },
     "execution_count": 14,
     "metadata": {},
     "output_type": "execute_result"
    }
   ],
   "source": [
    "gold_industry_full.dtypes"
   ]
  },
  {
   "cell_type": "markdown",
   "metadata": {},
   "source": [
    "#### Заполнение пропусков соседними значениями"
   ]
  },
  {
   "cell_type": "markdown",
   "metadata": {},
   "source": [
    "Заменим пропуски соседними значениями по столбцу с помощью функции `ffill()`"
   ]
  },
  {
   "cell_type": "code",
   "execution_count": 15,
   "metadata": {},
   "outputs": [
    {
     "name": "stdout",
     "output_type": "stream",
     "text": [
      "\n",
      "Размер тренировочной выборки - (14579, 87) и количество строк без пропусков - 14579\n",
      "\n",
      "Размер тестовой выборки - (4860, 53) и количество строк без пропусков - 4860\n",
      "\n",
      "Размер исходной выборки - (19439, 87) и количество строк без пропусков - 19439\n"
     ]
    }
   ],
   "source": [
    "size_of_train_df_before = gold_industry_train.shape\n",
    "size_of_test_df_before = gold_industry_test.shape\n",
    "size_of_full_df_before = gold_industry_full.shape\n",
    "gold_industry_train = gold_industry_train.ffill(axis=0)\n",
    "gold_industry_test = gold_industry_test.ffill(axis=0)\n",
    "gold_industry_full = gold_industry_full.ffill(axis=0)\n",
    "print(f'\\nРазмер тренировочной выборки - {size_of_train_df_before} и количество строк без пропусков - {len(gold_industry_train.notna())}')\n",
    "print(f'\\nРазмер тестовой выборки - {size_of_test_df_before} и количество строк без пропусков - {len(gold_industry_test.notna())}')\n",
    "print(f'\\nРазмер исходной выборки - {size_of_full_df_before} и количество строк без пропусков - {len(gold_industry_full.notna())}')"
   ]
  },
  {
   "cell_type": "markdown",
   "metadata": {},
   "source": [
    "#### Проверка правильности расчетов эффективности обогащения"
   ]
  },
  {
   "cell_type": "markdown",
   "metadata": {},
   "source": [
    "Расчет эффективности обогащения проводят по следующей формуле \n",
    "\n",
    "RECOVERY = (Cх(F - T) / Fх(C - T))х100%\n",
    "где:\n",
    "\n",
    "- C — доля золота в концентрате после флотации/очистки;\n",
    "- F — доля золота в сырье/концентрате до флотации/очистки;\n",
    "- T — доля золота в отвальных хвостах после флотации/очистки\n",
    "\n",
    "Учитывая условия задачи, в качестве наших переменных для расчета эффективности будут выступать:\n",
    "\n",
    "- С - rougher.output.concentrate_au\n",
    "- F - rougher.input.feed_au\n",
    "- T - rougher.output.tail_au"
   ]
  },
  {
   "cell_type": "code",
   "execution_count": 16,
   "metadata": {},
   "outputs": [
    {
     "name": "stdout",
     "output_type": "stream",
     "text": [
      "0        87.107763\n",
      "1        86.843261\n",
      "2        86.842308\n",
      "3        87.226430\n",
      "4        86.688794\n",
      "           ...    \n",
      "14574    87.684717\n",
      "14575    90.677361\n",
      "14576    89.574376\n",
      "14577    87.724007\n",
      "14578    88.890579\n",
      "Length: 14579, dtype: float64\n"
     ]
    }
   ],
   "source": [
    "c = gold_industry_train['rougher.output.concentrate_au']\n",
    "f = gold_industry_train['rougher.input.feed_au']\n",
    "t = gold_industry_train['rougher.output.tail_au']\n",
    "recovery = ((c*(f - t)) / (f*(c - t))) * 100\n",
    "print(recovery)"
   ]
  },
  {
   "cell_type": "markdown",
   "metadata": {},
   "source": [
    "Вычислим MAE между нашими расчетами и значениями признака `rougher.output.recovery`\n"
   ]
  },
  {
   "cell_type": "code",
   "execution_count": 17,
   "metadata": {},
   "outputs": [
    {
     "name": "stdout",
     "output_type": "stream",
     "text": [
      "9.83758577644259e-15\n"
     ]
    }
   ],
   "source": [
    "mae = mean_absolute_error(gold_industry_train['rougher.output.recovery'], recovery)\n",
    "print(mae)"
   ]
  },
  {
   "cell_type": "markdown",
   "metadata": {},
   "source": [
    "МАЕ описывает среднюю абсолютную ошибку, и так как в нашем случае получили довольно маленькое значение MAE, будем считать что эффективность обогощения на обучающей выборке для `rougher.output.recovery` рассчитана правильно."
   ]
  },
  {
   "cell_type": "markdown",
   "metadata": {},
   "source": [
    "#### Анализ признаков, недоступных в выборке"
   ]
  },
  {
   "cell_type": "markdown",
   "metadata": {},
   "source": [
    "Еще при выгрузке данных, замечено, что в тестовой выборке отсутсвуют ряд признаков, восстановим их по исходному датафрейму `gold_industry_full`"
   ]
  },
  {
   "cell_type": "markdown",
   "metadata": {},
   "source": [
    "Посмотрим, каких именно признаков нет в тестовой выборке"
   ]
  },
  {
   "cell_type": "code",
   "execution_count": 18,
   "metadata": {},
   "outputs": [
    {
     "data": {
      "text/plain": [
       "{'final.output.concentrate_ag',\n",
       " 'final.output.concentrate_au',\n",
       " 'final.output.concentrate_pb',\n",
       " 'final.output.concentrate_sol',\n",
       " 'final.output.recovery',\n",
       " 'final.output.tail_ag',\n",
       " 'final.output.tail_au',\n",
       " 'final.output.tail_pb',\n",
       " 'final.output.tail_sol',\n",
       " 'primary_cleaner.output.concentrate_ag',\n",
       " 'primary_cleaner.output.concentrate_au',\n",
       " 'primary_cleaner.output.concentrate_pb',\n",
       " 'primary_cleaner.output.concentrate_sol',\n",
       " 'primary_cleaner.output.tail_ag',\n",
       " 'primary_cleaner.output.tail_au',\n",
       " 'primary_cleaner.output.tail_pb',\n",
       " 'primary_cleaner.output.tail_sol',\n",
       " 'rougher.calculation.au_pb_ratio',\n",
       " 'rougher.calculation.floatbank10_sulfate_to_au_feed',\n",
       " 'rougher.calculation.floatbank11_sulfate_to_au_feed',\n",
       " 'rougher.calculation.sulfate_to_au_concentrate',\n",
       " 'rougher.output.concentrate_ag',\n",
       " 'rougher.output.concentrate_au',\n",
       " 'rougher.output.concentrate_pb',\n",
       " 'rougher.output.concentrate_sol',\n",
       " 'rougher.output.recovery',\n",
       " 'rougher.output.tail_ag',\n",
       " 'rougher.output.tail_au',\n",
       " 'rougher.output.tail_pb',\n",
       " 'rougher.output.tail_sol',\n",
       " 'secondary_cleaner.output.tail_ag',\n",
       " 'secondary_cleaner.output.tail_au',\n",
       " 'secondary_cleaner.output.tail_pb',\n",
       " 'secondary_cleaner.output.tail_sol'}"
      ]
     },
     "metadata": {},
     "output_type": "display_data"
    },
    {
     "name": "stdout",
     "output_type": "stream",
     "text": [
      "\n",
      "Количество отсутствующих признаков - 34\n"
     ]
    }
   ],
   "source": [
    "missed_sign = set(gold_industry_train.columns) - set(gold_industry_test.columns)\n",
    "display(missed_sign)\n",
    "print('\\nКоличество отсутствующих признаков -', len(missed_sign))"
   ]
  },
  {
   "cell_type": "markdown",
   "metadata": {},
   "source": [
    "Посмотрим каких еще признаков нет в тестовой выборке"
   ]
  },
  {
   "cell_type": "code",
   "execution_count": 19,
   "metadata": {},
   "outputs": [],
   "source": [
    "name_of_values = {'final' : 'финальные характеристики',\n",
    "                 'primary_cleaner': 'первичная очистка', \n",
    "                 'secondary_cleaner': 'вторичная очистка',\n",
    "                 'input': 'параметры сырья',\n",
    "                 'output': 'параметры продукта',\n",
    "                 'rougher': 'флотация',\n",
    "                 'state': 'параметры, характеризующие текущее состояние этапа',\n",
    "                 'calculation': 'расчётные характеристики'}"
   ]
  },
  {
   "cell_type": "code",
   "execution_count": 20,
   "metadata": {},
   "outputs": [
    {
     "name": "stdout",
     "output_type": "stream",
     "text": [
      "====================================================================================================\n",
      "Для этапа \"ВТОРИЧНАЯ ОЧИСТКА\" с опцией ПАРАМЕТРЫ ПРОДУКТА\n",
      "====================================================================================================\n",
      " - tail_au\n",
      " - tail_pb\n",
      " - tail_sol\n",
      " - tail_ag\n",
      "====================================================================================================\n",
      "Для этапа \"ФЛОТАЦИЯ\" с опцией ПАРАМЕТРЫ ПРОДУКТА\n",
      "====================================================================================================\n",
      " - concentrate_sol\n",
      " - concentrate_au\n",
      " - tail_au\n",
      " - tail_sol\n",
      " - tail_ag\n",
      " - recovery\n",
      " - concentrate_pb\n",
      " - tail_pb\n",
      " - concentrate_ag\n",
      "====================================================================================================\n",
      "Для этапа \"ФИНАЛЬНЫЕ ХАРАКТЕРИСТИКИ\" с опцией ПАРАМЕТРЫ ПРОДУКТА\n",
      "====================================================================================================\n",
      " - concentrate_pb\n",
      " - tail_au\n",
      " - concentrate_sol\n",
      " - recovery\n",
      " - tail_ag\n",
      " - concentrate_au\n",
      " - tail_sol\n",
      " - tail_pb\n",
      " - concentrate_ag\n",
      "====================================================================================================\n",
      "Для этапа \"ПЕРВИЧНАЯ ОЧИСТКА\" с опцией ПАРАМЕТРЫ ПРОДУКТА\n",
      "====================================================================================================\n",
      " - concentrate_au\n",
      " - tail_pb\n",
      " - tail_sol\n",
      " - tail_au\n",
      " - concentrate_ag\n",
      " - tail_ag\n",
      " - concentrate_pb\n",
      " - concentrate_sol\n",
      "====================================================================================================\n",
      "Для этапа \"ФЛОТАЦИЯ\" с опцией РАСЧЁТНЫЕ ХАРАКТЕРИСТИКИ\n",
      "====================================================================================================\n",
      " - au_pb_ratio\n",
      " - floatbank11_sulfate_to_au_feed\n",
      " - floatbank10_sulfate_to_au_feed\n",
      " - sulfate_to_au_concentrate\n"
     ]
    }
   ],
   "source": [
    "dict_missed_signs = {}\n",
    "for sign in missed_sign:\n",
    "    list_with_words = sign.split('.')\n",
    "    stage = list_with_words[0]+'-'+list_with_words[1]\n",
    "    if stage in dict_missed_signs:\n",
    "        dict_missed_signs[stage].append(list_with_words[2])\n",
    "    elif stage not in dict_missed_signs:\n",
    "        dict_missed_signs[stage] = [list_with_words[2]]\n",
    "\n",
    "for key in dict_missed_signs.keys():\n",
    "    split_key = key.split('-')\n",
    "    print('=' * 100)\n",
    "    print(f'Для этапа \"{(name_of_values[split_key[0]]).upper()}\" с опцией {(name_of_values[split_key[1]]).upper()}')\n",
    "    print('=' * 100)\n",
    "    for elem in dict_missed_signs[key]:\n",
    "        print(f' - {elem}')"
   ]
  },
  {
   "cell_type": "markdown",
   "metadata": {},
   "source": [
    "Так же в тестовой выборке отсутствуют два целевых признака `rougher.output.recovery` и `final.output.recovery`. Добавим их в тестовую выборку из исходного датафреме с помощью метода `merge` по колонке `date`"
   ]
  },
  {
   "cell_type": "code",
   "execution_count": 21,
   "metadata": {
    "scrolled": false
   },
   "outputs": [
    {
     "data": {
      "text/html": [
       "<div>\n",
       "<style scoped>\n",
       "    .dataframe tbody tr th:only-of-type {\n",
       "        vertical-align: middle;\n",
       "    }\n",
       "\n",
       "    .dataframe tbody tr th {\n",
       "        vertical-align: top;\n",
       "    }\n",
       "\n",
       "    .dataframe thead th {\n",
       "        text-align: right;\n",
       "    }\n",
       "</style>\n",
       "<table border=\"1\" class=\"dataframe\">\n",
       "  <thead>\n",
       "    <tr style=\"text-align: right;\">\n",
       "      <th></th>\n",
       "      <th>date</th>\n",
       "      <th>rougher.input.feed_au</th>\n",
       "      <th>rougher.input.feed_ag</th>\n",
       "      <th>rougher.input.feed_pb</th>\n",
       "      <th>rougher.input.feed_sol</th>\n",
       "      <th>rougher.input.feed_rate</th>\n",
       "      <th>rougher.input.feed_size</th>\n",
       "      <th>rougher.input.floatbank10_sulfate</th>\n",
       "      <th>rougher.input.floatbank10_xanthate</th>\n",
       "      <th>rougher.state.floatbank10_a_air</th>\n",
       "      <th>...</th>\n",
       "      <th>secondary_cleaner.state.floatbank4_b_air</th>\n",
       "      <th>secondary_cleaner.state.floatbank4_b_level</th>\n",
       "      <th>secondary_cleaner.state.floatbank5_a_air</th>\n",
       "      <th>secondary_cleaner.state.floatbank5_a_level</th>\n",
       "      <th>secondary_cleaner.state.floatbank5_b_air</th>\n",
       "      <th>secondary_cleaner.state.floatbank5_b_level</th>\n",
       "      <th>secondary_cleaner.state.floatbank6_a_air</th>\n",
       "      <th>secondary_cleaner.state.floatbank6_a_level</th>\n",
       "      <th>rougher.output.recovery</th>\n",
       "      <th>final.output.recovery</th>\n",
       "    </tr>\n",
       "  </thead>\n",
       "  <tbody>\n",
       "    <tr>\n",
       "      <th>0</th>\n",
       "      <td>2017-12-09 14:59:59</td>\n",
       "      <td>4.365491</td>\n",
       "      <td>6.158718</td>\n",
       "      <td>3.875727</td>\n",
       "      <td>39.135119</td>\n",
       "      <td>555.820208</td>\n",
       "      <td>94.544358</td>\n",
       "      <td>6.146982</td>\n",
       "      <td>9.308612</td>\n",
       "      <td>1196.238112</td>\n",
       "      <td>...</td>\n",
       "      <td>20.020205</td>\n",
       "      <td>-500.220296</td>\n",
       "      <td>17.963512</td>\n",
       "      <td>-499.939490</td>\n",
       "      <td>12.990306</td>\n",
       "      <td>-500.080993</td>\n",
       "      <td>19.990336</td>\n",
       "      <td>-499.191575</td>\n",
       "      <td>89.514960</td>\n",
       "      <td>70.281454</td>\n",
       "    </tr>\n",
       "    <tr>\n",
       "      <th>1</th>\n",
       "      <td>2017-12-09 15:59:59</td>\n",
       "      <td>4.362781</td>\n",
       "      <td>6.048130</td>\n",
       "      <td>3.902537</td>\n",
       "      <td>39.713906</td>\n",
       "      <td>544.731687</td>\n",
       "      <td>123.742430</td>\n",
       "      <td>6.210119</td>\n",
       "      <td>9.297709</td>\n",
       "      <td>1201.904177</td>\n",
       "      <td>...</td>\n",
       "      <td>20.054122</td>\n",
       "      <td>-500.314711</td>\n",
       "      <td>17.979515</td>\n",
       "      <td>-499.272871</td>\n",
       "      <td>12.992404</td>\n",
       "      <td>-499.976268</td>\n",
       "      <td>20.013986</td>\n",
       "      <td>-500.625471</td>\n",
       "      <td>89.858126</td>\n",
       "      <td>65.523246</td>\n",
       "    </tr>\n",
       "    <tr>\n",
       "      <th>2</th>\n",
       "      <td>2017-12-09 16:59:59</td>\n",
       "      <td>5.081681</td>\n",
       "      <td>6.082745</td>\n",
       "      <td>4.564078</td>\n",
       "      <td>37.208683</td>\n",
       "      <td>558.155110</td>\n",
       "      <td>82.610855</td>\n",
       "      <td>7.363824</td>\n",
       "      <td>9.003562</td>\n",
       "      <td>1200.826926</td>\n",
       "      <td>...</td>\n",
       "      <td>20.029144</td>\n",
       "      <td>-500.000662</td>\n",
       "      <td>18.012723</td>\n",
       "      <td>-500.024764</td>\n",
       "      <td>13.016445</td>\n",
       "      <td>-500.058432</td>\n",
       "      <td>19.973767</td>\n",
       "      <td>-501.394155</td>\n",
       "      <td>91.816623</td>\n",
       "      <td>74.817644</td>\n",
       "    </tr>\n",
       "    <tr>\n",
       "      <th>3</th>\n",
       "      <td>2017-12-09 17:59:59</td>\n",
       "      <td>5.145949</td>\n",
       "      <td>6.084374</td>\n",
       "      <td>4.768124</td>\n",
       "      <td>36.808874</td>\n",
       "      <td>539.713765</td>\n",
       "      <td>77.984784</td>\n",
       "      <td>6.927072</td>\n",
       "      <td>8.955597</td>\n",
       "      <td>1199.292489</td>\n",
       "      <td>...</td>\n",
       "      <td>19.977466</td>\n",
       "      <td>-500.159903</td>\n",
       "      <td>17.980463</td>\n",
       "      <td>-500.504602</td>\n",
       "      <td>12.949071</td>\n",
       "      <td>-500.009937</td>\n",
       "      <td>20.010332</td>\n",
       "      <td>-508.337973</td>\n",
       "      <td>88.478959</td>\n",
       "      <td>63.082720</td>\n",
       "    </tr>\n",
       "    <tr>\n",
       "      <th>4</th>\n",
       "      <td>2017-12-09 18:59:59</td>\n",
       "      <td>5.735249</td>\n",
       "      <td>6.165220</td>\n",
       "      <td>4.512346</td>\n",
       "      <td>37.810642</td>\n",
       "      <td>558.713584</td>\n",
       "      <td>86.434874</td>\n",
       "      <td>7.823471</td>\n",
       "      <td>7.490356</td>\n",
       "      <td>1198.005449</td>\n",
       "      <td>...</td>\n",
       "      <td>20.023735</td>\n",
       "      <td>-499.713680</td>\n",
       "      <td>17.990955</td>\n",
       "      <td>-500.334769</td>\n",
       "      <td>13.007523</td>\n",
       "      <td>-499.968459</td>\n",
       "      <td>19.995999</td>\n",
       "      <td>-499.788805</td>\n",
       "      <td>89.230316</td>\n",
       "      <td>74.463380</td>\n",
       "    </tr>\n",
       "  </tbody>\n",
       "</table>\n",
       "<p>5 rows × 55 columns</p>\n",
       "</div>"
      ],
      "text/plain": [
       "                 date  rougher.input.feed_au  rougher.input.feed_ag  \\\n",
       "0 2017-12-09 14:59:59               4.365491               6.158718   \n",
       "1 2017-12-09 15:59:59               4.362781               6.048130   \n",
       "2 2017-12-09 16:59:59               5.081681               6.082745   \n",
       "3 2017-12-09 17:59:59               5.145949               6.084374   \n",
       "4 2017-12-09 18:59:59               5.735249               6.165220   \n",
       "\n",
       "   rougher.input.feed_pb  rougher.input.feed_sol  rougher.input.feed_rate  \\\n",
       "0               3.875727               39.135119               555.820208   \n",
       "1               3.902537               39.713906               544.731687   \n",
       "2               4.564078               37.208683               558.155110   \n",
       "3               4.768124               36.808874               539.713765   \n",
       "4               4.512346               37.810642               558.713584   \n",
       "\n",
       "   rougher.input.feed_size  rougher.input.floatbank10_sulfate  \\\n",
       "0                94.544358                           6.146982   \n",
       "1               123.742430                           6.210119   \n",
       "2                82.610855                           7.363824   \n",
       "3                77.984784                           6.927072   \n",
       "4                86.434874                           7.823471   \n",
       "\n",
       "   rougher.input.floatbank10_xanthate  rougher.state.floatbank10_a_air  ...  \\\n",
       "0                            9.308612                      1196.238112  ...   \n",
       "1                            9.297709                      1201.904177  ...   \n",
       "2                            9.003562                      1200.826926  ...   \n",
       "3                            8.955597                      1199.292489  ...   \n",
       "4                            7.490356                      1198.005449  ...   \n",
       "\n",
       "   secondary_cleaner.state.floatbank4_b_air  \\\n",
       "0                                 20.020205   \n",
       "1                                 20.054122   \n",
       "2                                 20.029144   \n",
       "3                                 19.977466   \n",
       "4                                 20.023735   \n",
       "\n",
       "   secondary_cleaner.state.floatbank4_b_level  \\\n",
       "0                                 -500.220296   \n",
       "1                                 -500.314711   \n",
       "2                                 -500.000662   \n",
       "3                                 -500.159903   \n",
       "4                                 -499.713680   \n",
       "\n",
       "   secondary_cleaner.state.floatbank5_a_air  \\\n",
       "0                                 17.963512   \n",
       "1                                 17.979515   \n",
       "2                                 18.012723   \n",
       "3                                 17.980463   \n",
       "4                                 17.990955   \n",
       "\n",
       "   secondary_cleaner.state.floatbank5_a_level  \\\n",
       "0                                 -499.939490   \n",
       "1                                 -499.272871   \n",
       "2                                 -500.024764   \n",
       "3                                 -500.504602   \n",
       "4                                 -500.334769   \n",
       "\n",
       "   secondary_cleaner.state.floatbank5_b_air  \\\n",
       "0                                 12.990306   \n",
       "1                                 12.992404   \n",
       "2                                 13.016445   \n",
       "3                                 12.949071   \n",
       "4                                 13.007523   \n",
       "\n",
       "   secondary_cleaner.state.floatbank5_b_level  \\\n",
       "0                                 -500.080993   \n",
       "1                                 -499.976268   \n",
       "2                                 -500.058432   \n",
       "3                                 -500.009937   \n",
       "4                                 -499.968459   \n",
       "\n",
       "   secondary_cleaner.state.floatbank6_a_air  \\\n",
       "0                                 19.990336   \n",
       "1                                 20.013986   \n",
       "2                                 19.973767   \n",
       "3                                 20.010332   \n",
       "4                                 19.995999   \n",
       "\n",
       "   secondary_cleaner.state.floatbank6_a_level  rougher.output.recovery  \\\n",
       "0                                 -499.191575                89.514960   \n",
       "1                                 -500.625471                89.858126   \n",
       "2                                 -501.394155                91.816623   \n",
       "3                                 -508.337973                88.478959   \n",
       "4                                 -499.788805                89.230316   \n",
       "\n",
       "   final.output.recovery  \n",
       "0              70.281454  \n",
       "1              65.523246  \n",
       "2              74.817644  \n",
       "3              63.082720  \n",
       "4              74.463380  \n",
       "\n",
       "[5 rows x 55 columns]"
      ]
     },
     "metadata": {},
     "output_type": "display_data"
    },
    {
     "data": {
      "text/plain": [
       "(4860, 55)"
      ]
     },
     "execution_count": 21,
     "metadata": {},
     "output_type": "execute_result"
    }
   ],
   "source": [
    "gold_industry_test = gold_industry_test.merge(\n",
    "    gold_industry_full.loc[:, ['date', 'rougher.output.recovery', 'final.output.recovery']], on='date')\n",
    "\n",
    "display(gold_industry_test.head())\n",
    "gold_industry_test.shape"
   ]
  },
  {
   "cell_type": "markdown",
   "metadata": {},
   "source": [
    "Так как для обучения модели информация, содержащая в колонке `date` не информативна, удалим ее из обучающей и тестовой выборок"
   ]
  },
  {
   "cell_type": "code",
   "execution_count": 22,
   "metadata": {},
   "outputs": [],
   "source": [
    "gold_industry_test = gold_industry_test.drop('date', axis=1)\n",
    "gold_industry_train = gold_industry_train.drop('date', axis=1)\n"
   ]
  },
  {
   "cell_type": "code",
   "execution_count": 23,
   "metadata": {},
   "outputs": [
    {
     "name": "stdout",
     "output_type": "stream",
     "text": [
      "\n",
      "Размер тестовой выборки - (4860, 54) | Размер тренировочной выборки - (14579, 86)\n"
     ]
    }
   ],
   "source": [
    "print('\\nРазмер тестовой выборки - {} | Размер тренировочной выборки - {}'.format(\n",
    "    gold_industry_test.shape,gold_industry_train.shape))"
   ]
  },
  {
   "cell_type": "markdown",
   "metadata": {},
   "source": [
    "#### Вывод по разделу 1"
   ]
  },
  {
   "cell_type": "markdown",
   "metadata": {},
   "source": [
    "После выгрузки данных была проведена предобработка данных для их дальнейшего исследования и формирования моделей.\n",
    "\n",
    "1. В данных был изменен тип данных для колонки `date` с `object` на `datetime`. В остальных признаках типы данных соответствуют содержимому;\n",
    "2. Пропуски во всех датафреймах (обучающей выборке, тестовой выборке, исходнных данных) были заполнены значениями предшествующими по времени (с помощью функции `ffill()` по столбцу), так как в условии поставленной задачи указано, что соседние по времени параметры часто похожи;\n",
    "3. Для признака `rougher.output.recovery` на обчающей выборке проверена эффективность обогащения с помощью вычисления МАЕ, которое получилось равное 9.83758577644259e-15. МАЕ описывает среднюю абсолютную ошибку, и так как в нашем случае получили довольно маленькое значение MAE, будем считать что эффективность обогощения на обучающей выборке для `rougher.output.recovery` рассчитана правильно.\n",
    "4. По результатам анализа признаков, установлено, что в тестовой выборке отсутствуют 34 признака, из которых два ялвяются целевыми - `rougher.output.recovery` и `final.output.recovery`. Для восстановления целевых признаков в тестовой выборке, \"подтянули\" их из исходного датафрема по столбцу `date`.\n",
    "5. После этого колонка `date` была удалена из обучающей и тестовой выборок, как не представляющая ценности для обучения моделей\n"
   ]
  },
  {
   "cell_type": "markdown",
   "metadata": {},
   "source": [
    "## Анализ данных"
   ]
  },
  {
   "cell_type": "markdown",
   "metadata": {},
   "source": [
    "### Анализ изменения концентрации металлов на различных этапах"
   ]
  },
  {
   "cell_type": "markdown",
   "metadata": {},
   "source": [
    "Необходмио проанализировать изменение концентрации металлов (Au, Ag, Pb) на различных этапах:\n",
    "\n",
    "- в сырье (`rougher.input.feed`)\n",
    "- в черновом концентрате (`rougher.output.concentrate`)\n",
    "- в концентрате после первой очистки (`primary_cleaner.output.concentrate`)\n",
    "- и в финальном концентрате (`final.output.concentrate`)\n",
    "\n",
    "Построим гистограммы для всех видов металлов на разных этапах"
   ]
  },
  {
   "cell_type": "code",
   "execution_count": 24,
   "metadata": {},
   "outputs": [
    {
     "data": {
      "image/png": "[encoded data removed]",
      "text/plain": [
       "<Figure size 1500x1700 with 3 Axes>"
      ]
     },
     "metadata": {},
     "output_type": "display_data"
    }
   ],
   "source": [
    "position = 0\n",
    "plt.figure(figsize=[15,17])\n",
    "plt.suptitle('ГРАФИКИ КОНЦЕНТРАЦИИ МЕТАЛЛОВ НА РАЗЛИЧНЫХ ЭТАПАХ ОЧИСТКИ', fontsize=15)\n",
    "\n",
    "for metal in ['au', 'ag', 'pb']:\n",
    "    position += 1\n",
    "    plt.subplot(3, 1, position)\n",
    "    plt.title(f'ГРАФИК РАСПРЕДЕЛЕНИЯ МЕТАЛЛА {str(metal).upper()} НА РАЗЛИЧНЫХ ЭТАПАХ ОЧИСТКИ', fontsize=13)\n",
    "    plt.hist(gold_industry_train[f'rougher.input.feed_{metal}'], \n",
    "                 bins=100, label='сырье', alpha=0.5)\n",
    "    plt.hist(gold_industry_train[f'rougher.output.concentrate_{metal}'], \n",
    "                 bins=100, label='черновой концентрат', alpha=0.5)\n",
    "    plt.hist(gold_industry_train[f'primary_cleaner.output.concentrate_{metal}'], \n",
    "                 bins=100, label='после первой очистки', alpha=0.5)    \n",
    "    plt.hist(gold_industry_train[f'final.output.concentrate_{metal}'], \n",
    "                 bins=100, label='финальный концентрат', alpha=0.5)\n",
    "    plt.xlabel('Концентрация металла')\n",
    "    plt.ylabel('Количество наблюдений')\n",
    "    plt.legend()\n",
    "plt.show();"
   ]
  },
  {
   "cell_type": "markdown",
   "metadata": {},
   "source": [
    "**Выводы**\n",
    "По результатам анализа изменения концентрации металлов на различных этапах можно сказать следующее:\n",
    "\n",
    "1. Для золота (AU):\n",
    "\n",
    "   - концентрация золота увеличивается после каждого этапа очистки\n",
    "\n",
    "2. Для серебра (AG):\n",
    "\n",
    "   - концентрация серебра на этапе флотации увеличивается, а затем, на последующих этапах начинает постепенно уменьшаться\n",
    "   \n",
    "3. Для свинца (PB):\n",
    "\n",
    "   - концентрация свинца на этапах флотации и после первичной очистки увеличивается, а далее на последующих этапах остается практически на том же уровне\n",
    "   \n",
    "Так же из полученных гистограмм для всех видов рассматриваемых металлов видно, что присутствуют аномолии в районе \"нулевого\" значения."
   ]
  },
  {
   "cell_type": "markdown",
   "metadata": {},
   "source": [
    "### Сравнение распределения размеров гранул исходного сырья на обучающей и тестовой выборках"
   ]
  },
  {
   "cell_type": "markdown",
   "metadata": {},
   "source": [
    "Необходимо провести сравнение распределений гранул исходного сырья на обучающей и тестовой выборках. Будем исследовать данные из столбцов `rougher.input.feed_size` и `primary_cleaner.input.feed_size`\n",
    "\n",
    "Построим гистограммы для обучающей и тестовой выборок для сырья до флотации и до первичной очистки"
   ]
  },
  {
   "cell_type": "code",
   "execution_count": 25,
   "metadata": {},
   "outputs": [
    {
     "data": {
      "image/png": "[encoded data removed]",
      "text/plain": [
       "<Figure size 1500x1700 with 2 Axes>"
      ]
     },
     "metadata": {},
     "output_type": "display_data"
    }
   ],
   "source": [
    "position = 0\n",
    "plt.figure(figsize=[15,17])\n",
    "plt.suptitle('ГРАФИКИ РАСПРЕДЕЛЕНИЯ ГРАНУЛ СЫРЬЯ НА ОБУЧАЮЩЕЙ И ТЕСТОВОЙ ВЫБОРКАХ', fontsize=15)\n",
    "for stage in ['rougher', 'primary_cleaner']:\n",
    "    position += 1\n",
    "    plt.subplot(2, 1, position)\n",
    "    plt.title(f'ГРАФИК РАСПРЕДЕЛЕНИЯ ГРАНУЛ ДЛЯ ЭТАПА {str(stage).upper()} НА ОБУЧАЮЩЕЙ и ТЕСТОВОЙ ВЫБОРКАХ', fontsize=13)\n",
    "    plt.hist(gold_industry_train[f'{stage}.input.feed_size'], bins=100, label='обучающая выборка', alpha=0.5, density=True)\n",
    "    plt.hist(gold_industry_test[f'{stage}.input.feed_size'], bins=100, label='тестовая выборка', alpha=0.5, density=True)\n",
    "    plt.xlabel('Размер гранул')\n",
    "    plt.ylabel('Количество наблюдений')\n",
    "    plt.legend()\n",
    "plt.show();"
   ]
  },
  {
   "cell_type": "markdown",
   "metadata": {},
   "source": [
    "**ВЫВОДЫ**\n",
    "\n",
    "По результатам сравнения распределений размеров гранул исходного сырья на обучающей и тестовой выборках можно сказать следующее:\n",
    "- Распределение гранул до флотации похоже на нормальное со смещением влево как в обучающей, так и в тестовой выбрке. Существует много выбросов после размера гранул 100.\n",
    "- Размеры гранул перед первичной очисткой обладают нормальным распределением как для тестовой, так и обучающей выборки \n",
    "\n",
    "Так как в обоих случаях распределения тестовой и обучающей выборок носят нормальный характер, оценка моделей должна быть правильной"
   ]
  },
  {
   "cell_type": "markdown",
   "metadata": {},
   "source": [
    "### Исследование суммарной концентрации металлов на разных стадиях"
   ]
  },
  {
   "cell_type": "markdown",
   "metadata": {},
   "source": [
    "Для исследования суммарной концентрации на различных стадиях необходимо просуммировать соответствуующие данные по всем видам металлов, имеющиеся в датафрейме"
   ]
  },
  {
   "cell_type": "code",
   "execution_count": 26,
   "metadata": {},
   "outputs": [],
   "source": [
    "sum_concentrate_rougher_input = 0\n",
    "sum_concentrate_rougher_output = 0\n",
    "sum_concentrate_primary_cleaner = 0\n",
    "sum_concentrate_final_output = 0\n",
    "for metal in ['au', 'ag', 'pb', 'sol']:\n",
    "    sum_concentrate_rougher_input += gold_industry_train[f'rougher.input.feed_{metal}']\n",
    "    sum_concentrate_rougher_output += gold_industry_train[f'rougher.output.concentrate_{metal}']\n",
    "    sum_concentrate_primary_cleaner += gold_industry_train[f'primary_cleaner.output.concentrate_{metal}']\n",
    "    sum_concentrate_final_output += gold_industry_train[f'final.output.concentrate_{metal}']"
   ]
  },
  {
   "cell_type": "markdown",
   "metadata": {},
   "source": [
    "Построим гистограммы суммарной концентрации на различных стадиях"
   ]
  },
  {
   "cell_type": "code",
   "execution_count": 27,
   "metadata": {},
   "outputs": [
    {
     "data": {
      "image/png": "[encoded data removed]",
      "text/plain": [
       "<Figure size 1500x900 with 1 Axes>"
      ]
     },
     "metadata": {},
     "output_type": "display_data"
    }
   ],
   "source": [
    "plt.figure(figsize=[15, 9])\n",
    "plt.suptitle('ГРАФИК СУММАРНОЙ КОНЦЕНТРАЦИИ ВЕЩЕСТВ НА РАЗНЫХ СТАДИЯХ.', fontsize=15)\n",
    "plt.hist(sum_concentrate_rougher_input, bins=100, label='сырье', alpha=0.5)\n",
    "plt.hist(sum_concentrate_rougher_output, bins=100, label='черновой концентрат', alpha=0.5)\n",
    "plt.hist(sum_concentrate_primary_cleaner, bins=100, label='после первой очистки', alpha=0.5)\n",
    "plt.hist(sum_concentrate_final_output, bins=100, label='финальный концентрат', alpha=0.5)\n",
    "plt.xlabel('Концентрация веществ')\n",
    "plt.ylabel('Количество наблюдений')\n",
    "plt.legend()\n",
    "plt.show();"
   ]
  },
  {
   "cell_type": "markdown",
   "metadata": {},
   "source": [
    "**ВЫВОДЫ**\n",
    "\n",
    "Исследование суммарной концентрации металлов на разных стадиях показало, что суммарная концентрация веществ увеличивается к финальному этапу, а диапазон распределения суммарной концентрации веществ уменьшается."
   ]
  },
  {
   "cell_type": "markdown",
   "metadata": {},
   "source": [
    "Из полученных выше графиков видно, что в данных присутствуют аномалии в виде нулевых значений на этапах черновой флотации, первой очистки и финального концентрата. Для того, чтобы эти аномальные значения не вносили изменений при обучении моделей и получения метрик, сохраним датафреймы для обучающей выборки и для исходного датафрейма без аномальных нулевых значений"
   ]
  },
  {
   "cell_type": "code",
   "execution_count": 28,
   "metadata": {},
   "outputs": [],
   "source": [
    "#для обучающей выборки\n",
    "gold_industry_train = gold_industry_train[(gold_industry_train['rougher.output.concentrate_au'] != 0) & (\n",
    "    gold_industry_train['rougher.output.concentrate_ag'] != 0) & (\n",
    "    gold_industry_train['rougher.output.concentrate_pb'] != 0) & (\n",
    "    gold_industry_train['rougher.output.concentrate_sol'] != 0)]\n",
    "\n",
    "\n",
    "gold_industry_train = gold_industry_train[(gold_industry_train['primary_cleaner.output.concentrate_au'] != 0) & (\n",
    "    gold_industry_train['primary_cleaner.output.concentrate_ag'] != 0) & (\n",
    "    gold_industry_train['primary_cleaner.output.concentrate_pb'] != 0) & (\n",
    "    gold_industry_train['primary_cleaner.output.concentrate_sol'] != 0)]\n",
    "\n",
    "gold_industry_train = gold_industry_train[(gold_industry_train['final.output.concentrate_au'] != 0) & (\n",
    "    gold_industry_train['final.output.concentrate_ag'] != 0) & (\n",
    "    gold_industry_train['final.output.concentrate_pb'] != 0) & (\n",
    "    gold_industry_train['final.output.concentrate_sol'] != 0)]"
   ]
  },
  {
   "cell_type": "code",
   "execution_count": 29,
   "metadata": {
    "scrolled": true
   },
   "outputs": [
    {
     "data": {
      "text/plain": [
       "(13978, 86)"
      ]
     },
     "execution_count": 29,
     "metadata": {},
     "output_type": "execute_result"
    }
   ],
   "source": [
    "gold_industry_train.shape"
   ]
  },
  {
   "cell_type": "markdown",
   "metadata": {},
   "source": [
    "### Выводы по разделу 2\n",
    "\n",
    "1. Распределения тестовой и обучающей выборок носят нормальный характер, оценка моделей должна быть правильной\n",
    "2. Концентрация золота увеличивается по мере прохождения этапов очистки\n",
    "3. В анализе суммарной концентрации веществ на разных стадиях были выявлены аномалии, которые были удалены для улучшения качества будущих моделей прогнозирования"
   ]
  },
  {
   "cell_type": "markdown",
   "metadata": {},
   "source": [
    "## Модель"
   ]
  },
  {
   "cell_type": "markdown",
   "metadata": {},
   "source": [
    "Так как в тестовой выборке, помимо целевых признаков отсутствовали еще ряд признаков, удалим эти же признаки из обучающей выборки, для того, чтобы не случилась утечка целевых признаков"
   ]
  },
  {
   "cell_type": "code",
   "execution_count": 30,
   "metadata": {},
   "outputs": [
    {
     "data": {
      "text/plain": [
       "{'final.output.concentrate_ag',\n",
       " 'final.output.concentrate_au',\n",
       " 'final.output.concentrate_pb',\n",
       " 'final.output.concentrate_sol',\n",
       " 'final.output.tail_ag',\n",
       " 'final.output.tail_au',\n",
       " 'final.output.tail_pb',\n",
       " 'final.output.tail_sol',\n",
       " 'primary_cleaner.output.concentrate_ag',\n",
       " 'primary_cleaner.output.concentrate_au',\n",
       " 'primary_cleaner.output.concentrate_pb',\n",
       " 'primary_cleaner.output.concentrate_sol',\n",
       " 'primary_cleaner.output.tail_ag',\n",
       " 'primary_cleaner.output.tail_au',\n",
       " 'primary_cleaner.output.tail_pb',\n",
       " 'primary_cleaner.output.tail_sol',\n",
       " 'rougher.calculation.au_pb_ratio',\n",
       " 'rougher.calculation.floatbank10_sulfate_to_au_feed',\n",
       " 'rougher.calculation.floatbank11_sulfate_to_au_feed',\n",
       " 'rougher.calculation.sulfate_to_au_concentrate',\n",
       " 'rougher.output.concentrate_ag',\n",
       " 'rougher.output.concentrate_au',\n",
       " 'rougher.output.concentrate_pb',\n",
       " 'rougher.output.concentrate_sol',\n",
       " 'rougher.output.tail_ag',\n",
       " 'rougher.output.tail_au',\n",
       " 'rougher.output.tail_pb',\n",
       " 'rougher.output.tail_sol',\n",
       " 'secondary_cleaner.output.tail_ag',\n",
       " 'secondary_cleaner.output.tail_au',\n",
       " 'secondary_cleaner.output.tail_pb',\n",
       " 'secondary_cleaner.output.tail_sol'}"
      ]
     },
     "metadata": {},
     "output_type": "display_data"
    }
   ],
   "source": [
    "delete_signs = missed_sign - set(['rougher.output.recovery','final.output.recovery'])\n",
    "display(delete_signs)"
   ]
  },
  {
   "cell_type": "code",
   "execution_count": 31,
   "metadata": {},
   "outputs": [
    {
     "name": "stdout",
     "output_type": "stream",
     "text": [
      "\n",
      "Количество признаков для удаления из тренировочной выборки - 32\n"
     ]
    }
   ],
   "source": [
    "print('\\nКоличество признаков для удаления из тренировочной выборки -', len(delete_signs))"
   ]
  },
  {
   "cell_type": "code",
   "execution_count": 32,
   "metadata": {},
   "outputs": [
    {
     "data": {
      "text/plain": [
       "(13978, 54)"
      ]
     },
     "execution_count": 32,
     "metadata": {},
     "output_type": "execute_result"
    }
   ],
   "source": [
    "gold_industry_train = gold_industry_train.drop(columns=delete_signs, axis=1)\n",
    "gold_industry_train.shape"
   ]
  },
  {
   "cell_type": "markdown",
   "metadata": {},
   "source": [
    "### Функция для вычисления sMAPE"
   ]
  },
  {
   "cell_type": "markdown",
   "metadata": {},
   "source": [
    "Напишем функцию для вычисления симметричного среднего абсолютного процентного отклонения, sMAPE"
   ]
  },
  {
   "cell_type": "code",
   "execution_count": 33,
   "metadata": {},
   "outputs": [],
   "source": [
    "def get_smape(target, predict):\n",
    "    numerator = np.abs(target - predict)\n",
    "    deminator = (np.abs(target) + np.abs(predict))/ 2\n",
    "    smape = 1 / len(target) * np.sum(numerator / deminator) * 100\n",
    "    \n",
    "    return smape"
   ]
  },
  {
   "cell_type": "markdown",
   "metadata": {},
   "source": [
    "Напишем функцию для вычисления итогового sMAPE"
   ]
  },
  {
   "cell_type": "code",
   "execution_count": 34,
   "metadata": {},
   "outputs": [],
   "source": [
    "def get_final_smape(rougher, final):\n",
    "    final = 0.25*rougher+0.75*final\n",
    "    return final"
   ]
  },
  {
   "cell_type": "markdown",
   "metadata": {},
   "source": [
    "Добавим `smape_scorer` с использованием `make_scorer` для использования этой функции при кросс-валидации и обучении модели, для того чтобы данная функция возвращала нам значения sMAPE"
   ]
  },
  {
   "cell_type": "code",
   "execution_count": 35,
   "metadata": {},
   "outputs": [],
   "source": [
    "smape_scorer = make_scorer(get_smape) "
   ]
  },
  {
   "cell_type": "markdown",
   "metadata": {},
   "source": [
    "### Обучение моделей и проверка метрик"
   ]
  },
  {
   "cell_type": "markdown",
   "metadata": {},
   "source": [
    "Подготовим данные для обучения"
   ]
  },
  {
   "cell_type": "code",
   "execution_count": 36,
   "metadata": {},
   "outputs": [
    {
     "name": "stdout",
     "output_type": "stream",
     "text": [
      "(13978, 52) (13978,) (13978,)\n"
     ]
    }
   ],
   "source": [
    "feature_gold_industry_train = gold_industry_train.drop(['rougher.output.recovery','final.output.recovery'], axis=1)\n",
    "target_rougher_train = gold_industry_train['rougher.output.recovery']\n",
    "target_final_train = gold_industry_train['final.output.recovery']\n",
    "print(feature_gold_industry_train.shape, target_rougher_train.shape, target_final_train.shape)"
   ]
  },
  {
   "cell_type": "markdown",
   "metadata": {},
   "source": [
    "Перед нами задача регрессии, поэтому найдем наилучшее значение sMAPE для моделей Дерева Решений, Случайного леса и Линейной регрессии.\n",
    "\n",
    "Создадим переменную в виде словаря, куда будем записывать полученные значения sMAPE для всех моделей"
   ]
  },
  {
   "cell_type": "code",
   "execution_count": 37,
   "metadata": {},
   "outputs": [],
   "source": [
    "best_smape = {}"
   ]
  },
  {
   "cell_type": "markdown",
   "metadata": {},
   "source": [
    "#### Модель Дерева Решений"
   ]
  },
  {
   "cell_type": "code",
   "execution_count": 38,
   "metadata": {},
   "outputs": [],
   "source": [
    "state = RandomState(12345)"
   ]
  },
  {
   "cell_type": "code",
   "execution_count": 39,
   "metadata": {},
   "outputs": [
    {
     "name": "stdout",
     "output_type": "stream",
     "text": [
      "Значение SMAPE для дерева решений: 8.650101959854426\n",
      "CPU times: total: 52.5 s\n",
      "Wall time: 55.3 s\n"
     ]
    }
   ],
   "source": [
    "%%time\n",
    "best_result_dt = 100\n",
    "best_depth_dt = 0\n",
    "for n in range(1, 10, 1):\n",
    "    model_dt_rougher = DecisionTreeRegressor(max_depth=n, random_state=state)\n",
    "    smape_rougher = cross_val_score(model_dt_rougher,\n",
    "                                   feature_gold_industry_train,\n",
    "                                   target_rougher_train,\n",
    "                                   scoring=smape_scorer, cv=5)\n",
    "    final_smape_rougher = smape_rougher.mean()\n",
    "    \n",
    "    model_dt_final = DecisionTreeRegressor(max_depth=n, random_state=state)\n",
    "    smape_final = cross_val_score(model_dt_rougher,\n",
    "                                   feature_gold_industry_train,\n",
    "                                   target_final_train,\n",
    "                                   scoring=smape_scorer, cv=5)\n",
    "    final_smape_final = smape_final.mean()\n",
    "    result_smape = get_final_smape(final_smape_rougher, final_smape_final)\n",
    "    if result_smape < best_result_dt:\n",
    "        best_result_dt = result_smape\n",
    "        best_depth_dt = n\n",
    "        \n",
    "best_smape['decision_tree'] = [best_result_dt]\n",
    "print('Значение SMAPE для дерева решений:', best_result_dt)\n"
   ]
  },
  {
   "cell_type": "markdown",
   "metadata": {},
   "source": [
    "#### Модель Случайный лес"
   ]
  },
  {
   "cell_type": "code",
   "execution_count": 40,
   "metadata": {},
   "outputs": [
    {
     "name": "stdout",
     "output_type": "stream",
     "text": [
      "Значение SMAPE для случайного леса: 8.256730528193911\n",
      "[50, 5] [40, 2]\n"
     ]
    }
   ],
   "source": [
    "best_result_rf = 100\n",
    "best_param_rf_rougher = 0\n",
    "best_param_rf_final = 0\n",
    "for n in range(10, 100, 40):\n",
    "    for k in range (2, 10, 3):\n",
    "        for m in (10, 100, 40):\n",
    "            for l in range (2, 10, 3):\n",
    "                model_rf_rougher = RandomForestRegressor(n_estimators=n, max_depth=k, random_state=state)\n",
    "                smape_rougher = cross_val_score(model_rf_rougher,\n",
    "                                  feature_gold_industry_train,\n",
    "                                  target_rougher_train,\n",
    "                                  scoring=smape_scorer,\n",
    "                                  cv=5)\n",
    "                final_smape_rougher = smape_rougher.mean()\n",
    "                        \n",
    "                model_rf_final = RandomForestRegressor(n_estimators=m, max_depth=l, random_state=state)\n",
    "                smape_final = cross_val_score(model_rf_final,\n",
    "                                  feature_gold_industry_train,\n",
    "                                  target_final_train,\n",
    "                                  scoring=smape_scorer,\n",
    "                                  cv=5)\n",
    "                final_smape_final = smape_final.mean()\n",
    "                result_smape = get_final_smape(final_smape_rougher, final_smape_final)\n",
    "                if result_smape < best_result_rf:\n",
    "                    best_result_rf = result_smape\n",
    "                    best_param_rf_rougher = [n , k]\n",
    "                    best_param_rf_final = [m , l]\n",
    "best_smape['random_forrest'] = [best_result_rf, best_param_rf_rougher, best_param_rf_final]\n",
    "print('Значение SMAPE для случайного леса:', best_result_rf)\n",
    "print(best_param_rf_rougher, best_param_rf_final)"
   ]
  },
  {
   "cell_type": "markdown",
   "metadata": {},
   "source": [
    "#### Линейная регрессия"
   ]
  },
  {
   "cell_type": "code",
   "execution_count": 41,
   "metadata": {},
   "outputs": [
    {
     "name": "stdout",
     "output_type": "stream",
     "text": [
      "Значение SMAPE для линейной регрессии: 8.864227576916525\n"
     ]
    }
   ],
   "source": [
    "model_lr_rougher = LinearRegression()\n",
    "smape_rougher = cross_val_score(model_lr_rougher,\n",
    "                          feature_gold_industry_train,\n",
    "                          target_rougher_train,\n",
    "                          scoring=smape_scorer,\n",
    "                          cv=5)\n",
    "final_smape_rougher = smape_rougher.mean()\n",
    "\n",
    "model_lr_final = LinearRegression()\n",
    "smape_final = cross_val_score(model_lr_rougher,\n",
    "                          feature_gold_industry_train,\n",
    "                          target_final_train,\n",
    "                          scoring=smape_scorer,\n",
    "                          cv=5)\n",
    "final_smape_final = smape_final.mean()\n",
    "result_smape = get_final_smape(final_smape_rougher, final_smape_final)\n",
    "best_smape['linnear_regression'] = [result_smape]\n",
    "print('Значение SMAPE для линейной регрессии:', result_smape)"
   ]
  },
  {
   "cell_type": "code",
   "execution_count": 42,
   "metadata": {},
   "outputs": [
    {
     "name": "stdout",
     "output_type": "stream",
     "text": [
      "\n",
      "МОДЕЛЬ DECISION_TREE С РЕЗУЛЬТАТОМ - 8.650101959854426\n",
      "\n",
      "МОДЕЛЬ RANDOM_FORREST С РЕЗУЛЬТАТОМ - 8.256730528193911\n",
      "\n",
      "МОДЕЛЬ LINNEAR_REGRESSION С РЕЗУЛЬТАТОМ - 8.864227576916525\n"
     ]
    }
   ],
   "source": [
    "for key in best_smape.keys():\n",
    "    print(f'\\nМОДЕЛЬ {str(key).upper()} С РЕЗУЛЬТАТОМ - {best_smape[key][0]}')"
   ]
  },
  {
   "cell_type": "markdown",
   "metadata": {},
   "source": [
    "**ВЫВОДЫ**\n",
    "\n",
    "При обучении моделей дерева решений, случайного леса и линейной регрессии получили следующие значения sMAPE:\n",
    "\n",
    "- модель Дерева Решений sMAPE = 8.650101959854426\n",
    "- модель Случайного Леса sMAPE = 8.256730528193911\n",
    "- модель Линейной Регрессии sMAPE = 8.864227576916532\n",
    "\n",
    "Таким образом, сравнивая значения sMAPE, получили, что лучший результат показывает модель Случайного Леса. Поэтому далее проверим именно ее на тестовой выборке"
   ]
  },
  {
   "cell_type": "markdown",
   "metadata": {},
   "source": [
    "#### Проверка модели на тестовой выборке"
   ]
  },
  {
   "cell_type": "markdown",
   "metadata": {},
   "source": [
    "Подготовим данные для тестирования"
   ]
  },
  {
   "cell_type": "code",
   "execution_count": 43,
   "metadata": {},
   "outputs": [
    {
     "name": "stdout",
     "output_type": "stream",
     "text": [
      "Лучшие пар. для модели случ. леса флотация: N_ESTIMATORS: 50 MAX_DEPTH: 5\n",
      "Лучшие пар. для модели случ. леса финальный этап: N_ESTIMATORS: 40 MAX_DEPTH: 2\n"
     ]
    }
   ],
   "source": [
    "print('Лучшие пар. для модели случ. леса флотация: N_ESTIMATORS:', best_param_rf_rougher[0], 'MAX_DEPTH:', best_param_rf_rougher[1])\n",
    "print('Лучшие пар. для модели случ. леса финальный этап: N_ESTIMATORS:', best_param_rf_final[0], 'MAX_DEPTH:', best_param_rf_final[1])"
   ]
  },
  {
   "cell_type": "code",
   "execution_count": 44,
   "metadata": {},
   "outputs": [
    {
     "name": "stdout",
     "output_type": "stream",
     "text": [
      "(4860, 52) (4860,) (4860,)\n"
     ]
    }
   ],
   "source": [
    "feature_gold_industry_test = gold_industry_test.drop(['rougher.output.recovery','final.output.recovery'], axis=1)\n",
    "target_rougher_test = gold_industry_test['rougher.output.recovery']\n",
    "target_final_test = gold_industry_test['final.output.recovery']\n",
    "print(feature_gold_industry_test.shape, target_rougher_test.shape, target_final_test.shape)"
   ]
  },
  {
   "cell_type": "code",
   "execution_count": 45,
   "metadata": {},
   "outputs": [],
   "source": [
    "model_test_rougher = RandomForestRegressor(n_estimators=50, max_depth=5, random_state=state)\n",
    "model_test_rougher.fit(feature_gold_industry_train, target_rougher_train)\n",
    "predicted_rougher = model_test_rougher.predict(feature_gold_industry_test)\n",
    "\n",
    "model_test_final = RandomForestRegressor(n_estimators=40, max_depth=2, random_state=state)\n",
    "model_test_final.fit(feature_gold_industry_train, target_final_train)\n",
    "predicted_final = model_test_final.predict(feature_gold_industry_test)\n",
    "\n",
    "smape_test_rougher = get_smape(target_rougher_test, predicted_rougher)\n",
    "smape_test_final = get_smape(target_final_test, predicted_final)\n",
    "final_smape_test = get_final_smape(smape_test_rougher, smape_test_final)"
   ]
  },
  {
   "cell_type": "code",
   "execution_count": 46,
   "metadata": {
    "scrolled": true
   },
   "outputs": [
    {
     "name": "stdout",
     "output_type": "stream",
     "text": [
      "\n",
      "SMAPE ДЛЯ ТЕСТОВОЙ ВЫБОРКИ СОСТАВЛЯЕТ - 7.351098299437813\n"
     ]
    }
   ],
   "source": [
    "print(f'\\nSMAPE ДЛЯ ТЕСТОВОЙ ВЫБОРКИ СОСТАВЛЯЕТ - {final_smape_test}')"
   ]
  },
  {
   "cell_type": "markdown",
   "metadata": {},
   "source": [
    "#### Проверка модели на адекватность"
   ]
  },
  {
   "cell_type": "code",
   "execution_count": 47,
   "metadata": {
    "scrolled": true
   },
   "outputs": [
    {
     "name": "stdout",
     "output_type": "stream",
     "text": [
      "\n",
      "ПОКАЗАТЕЛЬ SMAPE ДЛЯ КОНСТАНТНОЙ МОДЕЛИ - 8.471360971505119\n"
     ]
    }
   ],
   "source": [
    "dummy_regr_rougher = DummyRegressor(strategy=\"mean\")\n",
    "dummy_regr_final = DummyRegressor(strategy=\"mean\")\n",
    "\n",
    "dummy_regr_rougher.fit(feature_gold_industry_train, target_rougher_train)\n",
    "dummy_regr_final.fit(feature_gold_industry_train, target_final_train)\n",
    "\n",
    "DummyRegressor()\n",
    "\n",
    "dummy_predicted_rougher = dummy_regr_rougher.predict(feature_gold_industry_test)\n",
    "dummy_predicted_final = dummy_regr_final.predict(feature_gold_industry_test)\n",
    "\n",
    "smape_const_rougher = get_smape(target_rougher_test, dummy_predicted_rougher)\n",
    "smape_const_final = get_smape(target_final_test, dummy_predicted_final)\n",
    "\n",
    "final_smape_const = get_final_smape(smape_const_rougher, smape_const_final)\n",
    "\n",
    "print(f'\\nПОКАЗАТЕЛЬ SMAPE ДЛЯ КОНСТАНТНОЙ МОДЕЛИ - {final_smape_const}')"
   ]
  },
  {
   "cell_type": "markdown",
   "metadata": {},
   "source": [
    "### Выводы по разделу 3\n",
    "\n",
    "1. Перед обучением моделей создали функцию для расчета sMAPE и итогого sMAPE на основе данных об эффективности обогащения черного концентрата (rougher) и об эффективности обогащения финального концетрата (final).\n",
    "2. Были обучены три вида моделей: Дерева Решений, Случайного Леса и Линейной регрессии. Качество моделей было оценено с помощью кросс-валидации. \n",
    "3. При обучении моделей дерева решений, случайного леса и линейной регрессии получили следующие значения sMAPE:\n",
    "\n",
    "- модель Дерева Решений sMAPE = 8.650101959854426\n",
    "- модель Случайного Леса sMAPE = 8.256730528193911\n",
    "- модель Линейной Регрессии sMAPE = 8.864227576916532\n",
    "\n",
    "4. Так наилучшие результаты показала модель Случайного леса именно ее мы проверили на тестовой выборке, получили значение  sMAPE = 7.351098299437813, еще лучшее по сравнению с тренировочной выборкой\n",
    "5. Оценили адекватность модели на константной модели с помощью `DummyRegressor`, получили, что показатель модели Случайного Леса (8.256730528193911) меньше показателя константной (8.471360971505119), что означает  качество полученной модели"
   ]
  },
  {
   "cell_type": "markdown",
   "metadata": {},
   "source": [
    "## Итоговый вывод"
   ]
  },
  {
   "cell_type": "markdown",
   "metadata": {},
   "source": [
    "Нашей задачей являлась необходимость спрогнозировать сразу две величины, что и является целевыми признаками для нашей задачи:\n",
    "1. Эффективность обогащения чернового концентрата `rougher.output.recovery`\n",
    "2. Эффективность обогащения финального концентрата `final.output.recovery`.\n",
    "\n",
    "Предсказывая по данным целевым признакам, необходимо расчитать итоговую метрику sMAPE.\n",
    "\n",
    "На **1 этапе** проведена выгрузка необходимых для выполнения задачи библиотек, выгрузка датафреймов с обучающей, тренировочной выборками, а также исходными данными. Была проведена предобработка данных с определением наличия прропусков, явных дубликатов, заменой типов данных на соответствующие.\n",
    "\n",
    "На **2 этапе** провели исследовательский анализ данных. \n",
    "1) Проведено сравнение концентрации металлов (Au, Ag, Pb) на различных этапах: в сырье, в черновом концентрате, в концентрате после первой очистки и в финальном концентрате. Установлено, что:\n",
    "1. Для золота (AU):\n",
    "\n",
    "   - концентрация золота увеличивается после каждого этапа очистки\n",
    "\n",
    "2. Для серебра (AG):\n",
    "\n",
    "   - концентрация серебра на этапе флотации величивается, а затем, на последующих этапах начинает постепенно уменьшаться\n",
    "   \n",
    "3. Для свинца (PB):\n",
    "\n",
    "   - концентрация свинца на этапах флотации и после первичной очистки увеличвается, а далее на последующих этапах остается практически на том же уровне\n",
    "\n",
    "2) Проведено сравнение распределений размеров гранул исходного сырья на обучающей и тестовой выборках. Установлено, что распределения гранул как на этапа флотации, так и после первичной обработки для обучающей и тестовой выборок носит характер нормального распределения и могут быть использованы для оценки моделей;\n",
    "\n",
    "3) Исследована суммарная концентрация металлов на разных стадиях: в сырье, в черновом концентрате, в концентрате после первой очистки и в финальном концентрате. Установлено, что суммарная концентрация веществ увеличивается к финальному этапу, а диапазон распределения суммарной концентрации веществ уменьшается\n",
    "\n",
    "Также на **этапе 2** из всех датафреймов удалены нулевые значения, так как они могут сильно влиять на обучение моделей.\n",
    "\n",
    "На **3 этапе** написана функция для расчета sMAPE и итогого sMAPE. Были обучены три вида моделей: Дерева Решений, Случайного Леса и Линейной регрессии. Качество моделей было оценено с помощью кросс-валидации. Наилучший результат показала модель Случайного Леса, поэтому далее проверка качества модели на тестовой выборки проводилась для модели Случайного леса, получили значение  sMAPE = 7.578191684253338, еще лучшее по сравнению с тренировочной выборкой \n",
    "Также на этом этапе оценили адекватность модели на константной модели с помощью `DummyRegressor`, получили, что показатель модели Случайного Леса намного меньше показателя константной, что означает хорошее качество полученной модели\n",
    "  "
   ]
  }
 ],
 "metadata": {
  "ExecuteTimeLog": [
   {
    "duration": 1558,
    "start_time": "2023-07-26T07:39:28.676Z"
   },
   {
    "duration": 3738,
    "start_time": "2023-07-26T08:14:47.756Z"
   },
   {
    "duration": 3,
    "start_time": "2023-07-26T08:15:23.027Z"
   },
   {
    "duration": 179,
    "start_time": "2023-07-26T08:15:36.642Z"
   },
   {
    "duration": 3,
    "start_time": "2023-07-26T08:16:12.948Z"
   },
   {
    "duration": 142,
    "start_time": "2023-07-26T08:16:21.723Z"
   },
   {
    "duration": 4,
    "start_time": "2023-07-26T08:17:07.813Z"
   },
   {
    "duration": 183,
    "start_time": "2023-07-26T08:17:08.910Z"
   },
   {
    "duration": 49,
    "start_time": "2023-07-26T08:18:16.046Z"
   },
   {
    "duration": 146,
    "start_time": "2023-07-26T08:20:06.209Z"
   },
   {
    "duration": 13,
    "start_time": "2023-07-26T08:25:00.938Z"
   },
   {
    "duration": 4,
    "start_time": "2023-07-26T08:46:23.400Z"
   },
   {
    "duration": 158,
    "start_time": "2023-07-26T08:46:27.607Z"
   },
   {
    "duration": 45,
    "start_time": "2023-07-26T08:47:59.914Z"
   },
   {
    "duration": 122,
    "start_time": "2023-07-26T08:48:41.691Z"
   },
   {
    "duration": 7,
    "start_time": "2023-07-26T09:49:31.864Z"
   },
   {
    "duration": 20,
    "start_time": "2023-07-26T09:50:42.959Z"
   },
   {
    "duration": 107,
    "start_time": "2023-07-26T09:51:00.632Z"
   },
   {
    "duration": 7,
    "start_time": "2023-07-26T09:51:06.767Z"
   },
   {
    "duration": 12,
    "start_time": "2023-07-26T09:51:10.447Z"
   },
   {
    "duration": 6,
    "start_time": "2023-07-26T09:51:12.975Z"
   },
   {
    "duration": 19,
    "start_time": "2023-07-26T09:51:43.520Z"
   },
   {
    "duration": 6,
    "start_time": "2023-07-26T09:51:45.344Z"
   },
   {
    "duration": 20,
    "start_time": "2023-07-26T09:52:05.905Z"
   },
   {
    "duration": 7,
    "start_time": "2023-07-26T09:52:08.384Z"
   },
   {
    "duration": 14,
    "start_time": "2023-07-26T09:52:26.953Z"
   },
   {
    "duration": 3,
    "start_time": "2023-07-26T09:53:07.143Z"
   },
   {
    "duration": 779,
    "start_time": "2023-07-26T09:53:07.149Z"
   },
   {
    "duration": 4,
    "start_time": "2023-07-26T09:53:07.929Z"
   },
   {
    "duration": 190,
    "start_time": "2023-07-26T09:53:07.935Z"
   },
   {
    "duration": 64,
    "start_time": "2023-07-26T09:53:08.128Z"
   },
   {
    "duration": 153,
    "start_time": "2023-07-26T09:53:08.194Z"
   },
   {
    "duration": 19,
    "start_time": "2023-07-26T09:53:08.349Z"
   },
   {
    "duration": 18,
    "start_time": "2023-07-26T09:53:08.370Z"
   },
   {
    "duration": 15,
    "start_time": "2023-07-26T09:53:08.389Z"
   },
   {
    "duration": 6,
    "start_time": "2023-07-26T09:53:34.554Z"
   },
   {
    "duration": 3,
    "start_time": "2023-07-26T10:00:20.907Z"
   },
   {
    "duration": 18,
    "start_time": "2023-07-26T10:00:38.532Z"
   },
   {
    "duration": 3,
    "start_time": "2023-07-26T10:00:57.354Z"
   },
   {
    "duration": 13,
    "start_time": "2023-07-26T10:00:59.612Z"
   },
   {
    "duration": 7,
    "start_time": "2023-07-26T11:20:39.521Z"
   },
   {
    "duration": 16,
    "start_time": "2023-07-26T11:21:08.213Z"
   },
   {
    "duration": 13,
    "start_time": "2023-07-26T12:12:38.421Z"
   },
   {
    "duration": 8,
    "start_time": "2023-07-26T12:13:39.439Z"
   },
   {
    "duration": 6,
    "start_time": "2023-07-26T12:17:18.451Z"
   },
   {
    "duration": 4,
    "start_time": "2023-07-26T12:43:57.303Z"
   },
   {
    "duration": 5,
    "start_time": "2023-07-26T12:44:55.089Z"
   },
   {
    "duration": 12,
    "start_time": "2023-07-26T12:48:13.052Z"
   },
   {
    "duration": 6,
    "start_time": "2023-07-26T12:48:18.955Z"
   },
   {
    "duration": 12,
    "start_time": "2023-07-26T13:06:57.416Z"
   },
   {
    "duration": 12,
    "start_time": "2023-07-26T13:07:19.872Z"
   },
   {
    "duration": 12,
    "start_time": "2023-07-26T13:07:32.384Z"
   },
   {
    "duration": 30,
    "start_time": "2023-07-26T13:07:47.944Z"
   },
   {
    "duration": 4,
    "start_time": "2023-07-26T13:11:00.134Z"
   },
   {
    "duration": 727,
    "start_time": "2023-07-26T13:11:00.140Z"
   },
   {
    "duration": 4,
    "start_time": "2023-07-26T13:11:00.869Z"
   },
   {
    "duration": 216,
    "start_time": "2023-07-26T13:11:00.875Z"
   },
   {
    "duration": 70,
    "start_time": "2023-07-26T13:11:01.094Z"
   },
   {
    "duration": 153,
    "start_time": "2023-07-26T13:11:01.166Z"
   },
   {
    "duration": 14,
    "start_time": "2023-07-26T13:11:01.321Z"
   },
   {
    "duration": 31,
    "start_time": "2023-07-26T13:11:01.337Z"
   },
   {
    "duration": 70,
    "start_time": "2023-07-26T13:11:01.370Z"
   },
   {
    "duration": 40,
    "start_time": "2023-07-26T13:11:01.442Z"
   },
   {
    "duration": 33,
    "start_time": "2023-07-26T13:11:01.484Z"
   },
   {
    "duration": 37,
    "start_time": "2023-07-26T13:11:01.519Z"
   },
   {
    "duration": 13,
    "start_time": "2023-07-26T13:11:01.557Z"
   },
   {
    "duration": 41,
    "start_time": "2023-07-26T13:11:01.573Z"
   },
   {
    "duration": 31,
    "start_time": "2023-07-26T13:11:01.616Z"
   },
   {
    "duration": 48,
    "start_time": "2023-07-26T13:11:01.649Z"
   },
   {
    "duration": 27,
    "start_time": "2023-07-26T13:11:01.698Z"
   },
   {
    "duration": 62,
    "start_time": "2023-07-26T13:11:01.727Z"
   },
   {
    "duration": 29,
    "start_time": "2023-07-26T13:11:18.702Z"
   },
   {
    "duration": 9,
    "start_time": "2023-07-26T13:14:41.600Z"
   },
   {
    "duration": 4,
    "start_time": "2023-07-26T13:15:15.914Z"
   },
   {
    "duration": 136,
    "start_time": "2023-07-26T13:47:07.885Z"
   },
   {
    "duration": 1409,
    "start_time": "2023-07-26T13:47:36.510Z"
   },
   {
    "duration": 2343,
    "start_time": "2023-07-26T13:48:32.622Z"
   },
   {
    "duration": 2715,
    "start_time": "2023-07-26T13:49:11.575Z"
   },
   {
    "duration": 2547,
    "start_time": "2023-07-26T13:50:20.472Z"
   },
   {
    "duration": 1314,
    "start_time": "2023-07-26T14:42:33.400Z"
   },
   {
    "duration": 1337,
    "start_time": "2023-07-26T14:43:16.153Z"
   },
   {
    "duration": 629,
    "start_time": "2023-07-26T14:43:38.529Z"
   },
   {
    "duration": 574,
    "start_time": "2023-07-26T14:43:49.090Z"
   },
   {
    "duration": 1143,
    "start_time": "2023-07-26T14:44:00.089Z"
   },
   {
    "duration": 10,
    "start_time": "2023-07-26T15:15:00.279Z"
   },
   {
    "duration": 290,
    "start_time": "2023-07-26T15:16:23.032Z"
   },
   {
    "duration": 642,
    "start_time": "2023-07-26T15:17:08.409Z"
   },
   {
    "duration": 891,
    "start_time": "2023-07-26T15:18:33.020Z"
   },
   {
    "duration": 73,
    "start_time": "2023-07-26T15:33:48.857Z"
   },
   {
    "duration": 65,
    "start_time": "2023-07-26T15:35:15.911Z"
   },
   {
    "duration": 72,
    "start_time": "2023-07-26T15:35:40.691Z"
   },
   {
    "duration": 63,
    "start_time": "2023-07-26T15:39:22.308Z"
   },
   {
    "duration": 60,
    "start_time": "2023-07-26T15:39:40.821Z"
   },
   {
    "duration": 16,
    "start_time": "2023-07-26T15:40:10.965Z"
   },
   {
    "duration": 707,
    "start_time": "2023-07-26T15:40:29.870Z"
   },
   {
    "duration": 687,
    "start_time": "2023-07-26T15:43:09.843Z"
   },
   {
    "duration": 3,
    "start_time": "2023-07-26T15:44:01.626Z"
   },
   {
    "duration": 11,
    "start_time": "2023-07-26T15:47:06.102Z"
   },
   {
    "duration": 15,
    "start_time": "2023-07-26T15:47:26.094Z"
   },
   {
    "duration": 1115,
    "start_time": "2023-07-26T15:47:38.535Z"
   },
   {
    "duration": 12,
    "start_time": "2023-07-26T15:48:06.543Z"
   },
   {
    "duration": 10,
    "start_time": "2023-07-26T15:48:08.376Z"
   },
   {
    "duration": 867,
    "start_time": "2023-07-26T15:48:10.893Z"
   },
   {
    "duration": 3,
    "start_time": "2023-07-26T15:48:46.849Z"
   },
   {
    "duration": 2806,
    "start_time": "2023-07-26T15:48:46.854Z"
   },
   {
    "duration": 3,
    "start_time": "2023-07-26T15:48:49.662Z"
   },
   {
    "duration": 179,
    "start_time": "2023-07-26T15:48:49.667Z"
   },
   {
    "duration": 57,
    "start_time": "2023-07-26T15:48:49.848Z"
   },
   {
    "duration": 153,
    "start_time": "2023-07-26T15:48:49.907Z"
   },
   {
    "duration": 14,
    "start_time": "2023-07-26T15:48:50.062Z"
   },
   {
    "duration": 16,
    "start_time": "2023-07-26T15:48:50.078Z"
   },
   {
    "duration": 16,
    "start_time": "2023-07-26T15:48:50.095Z"
   },
   {
    "duration": 11,
    "start_time": "2023-07-26T15:48:50.114Z"
   },
   {
    "duration": 6,
    "start_time": "2023-07-26T15:48:50.127Z"
   },
   {
    "duration": 36,
    "start_time": "2023-07-26T15:48:50.135Z"
   },
   {
    "duration": 9,
    "start_time": "2023-07-26T15:48:50.174Z"
   },
   {
    "duration": 22,
    "start_time": "2023-07-26T15:48:50.186Z"
   },
   {
    "duration": 10,
    "start_time": "2023-07-26T15:48:50.211Z"
   },
   {
    "duration": 35,
    "start_time": "2023-07-26T15:48:50.223Z"
   },
   {
    "duration": 12,
    "start_time": "2023-07-26T15:48:50.260Z"
   },
   {
    "duration": 46,
    "start_time": "2023-07-26T15:48:50.274Z"
   },
   {
    "duration": 11,
    "start_time": "2023-07-26T15:48:50.321Z"
   },
   {
    "duration": 5,
    "start_time": "2023-07-26T15:48:50.335Z"
   },
   {
    "duration": 2862,
    "start_time": "2023-07-26T15:48:50.357Z"
   },
   {
    "duration": 1069,
    "start_time": "2023-07-26T15:48:53.221Z"
   },
   {
    "duration": 12,
    "start_time": "2023-07-26T15:48:54.292Z"
   },
   {
    "duration": 1154,
    "start_time": "2023-07-26T15:48:54.306Z"
   },
   {
    "duration": 2,
    "start_time": "2023-07-26T15:48:55.463Z"
   },
   {
    "duration": 13,
    "start_time": "2023-07-26T15:48:55.467Z"
   },
   {
    "duration": 10,
    "start_time": "2023-07-26T15:48:55.482Z"
   },
   {
    "duration": 813,
    "start_time": "2023-07-26T15:48:55.495Z"
   },
   {
    "duration": 708,
    "start_time": "2023-07-26T15:50:19.170Z"
   },
   {
    "duration": 65,
    "start_time": "2023-07-26T15:51:16.828Z"
   },
   {
    "duration": 706,
    "start_time": "2023-07-26T15:51:30.395Z"
   },
   {
    "duration": 6,
    "start_time": "2023-07-26T15:53:50.023Z"
   },
   {
    "duration": 4,
    "start_time": "2023-07-26T15:54:44.873Z"
   },
   {
    "duration": 62,
    "start_time": "2023-07-26T15:55:11.185Z"
   },
   {
    "duration": 72,
    "start_time": "2023-07-26T15:55:19.177Z"
   },
   {
    "duration": 6,
    "start_time": "2023-07-26T15:56:48.836Z"
   },
   {
    "duration": 12,
    "start_time": "2023-07-26T15:58:54.030Z"
   },
   {
    "duration": 9,
    "start_time": "2023-07-26T15:58:59.604Z"
   },
   {
    "duration": 8,
    "start_time": "2023-07-26T15:59:15.894Z"
   },
   {
    "duration": 14,
    "start_time": "2023-07-26T16:02:03.993Z"
   },
   {
    "duration": 22,
    "start_time": "2023-07-26T16:02:51.107Z"
   },
   {
    "duration": 10,
    "start_time": "2023-07-26T16:03:18.394Z"
   },
   {
    "duration": 1069,
    "start_time": "2023-07-26T16:03:20.635Z"
   },
   {
    "duration": 20,
    "start_time": "2023-07-26T16:07:29.608Z"
   },
   {
    "duration": 8,
    "start_time": "2023-07-26T16:08:03.050Z"
   },
   {
    "duration": 6,
    "start_time": "2023-07-26T16:08:18.001Z"
   },
   {
    "duration": 3,
    "start_time": "2023-07-26T16:31:42.393Z"
   },
   {
    "duration": 3,
    "start_time": "2023-07-26T16:31:55.530Z"
   },
   {
    "duration": 7,
    "start_time": "2023-07-26T16:32:35.036Z"
   },
   {
    "duration": 13,
    "start_time": "2023-07-26T16:32:47.099Z"
   },
   {
    "duration": 13,
    "start_time": "2023-07-26T16:33:23.620Z"
   },
   {
    "duration": 4,
    "start_time": "2023-07-26T16:34:01.493Z"
   },
   {
    "duration": 14,
    "start_time": "2023-07-26T16:34:46.782Z"
   },
   {
    "duration": 13,
    "start_time": "2023-07-26T16:35:39.183Z"
   },
   {
    "duration": 4,
    "start_time": "2023-07-26T16:35:48.328Z"
   },
   {
    "duration": 717,
    "start_time": "2023-07-26T16:35:48.334Z"
   },
   {
    "duration": 4,
    "start_time": "2023-07-26T16:35:49.055Z"
   },
   {
    "duration": 173,
    "start_time": "2023-07-26T16:35:49.061Z"
   },
   {
    "duration": 60,
    "start_time": "2023-07-26T16:35:49.236Z"
   },
   {
    "duration": 150,
    "start_time": "2023-07-26T16:35:49.298Z"
   },
   {
    "duration": 17,
    "start_time": "2023-07-26T16:35:49.450Z"
   },
   {
    "duration": 67,
    "start_time": "2023-07-26T16:35:49.469Z"
   },
   {
    "duration": 30,
    "start_time": "2023-07-26T16:35:49.538Z"
   },
   {
    "duration": 19,
    "start_time": "2023-07-26T16:35:49.569Z"
   },
   {
    "duration": 13,
    "start_time": "2023-07-26T16:35:49.589Z"
   },
   {
    "duration": 17,
    "start_time": "2023-07-26T16:35:49.604Z"
   },
   {
    "duration": 6,
    "start_time": "2023-07-26T16:35:49.623Z"
   },
   {
    "duration": 25,
    "start_time": "2023-07-26T16:35:49.631Z"
   },
   {
    "duration": 7,
    "start_time": "2023-07-26T16:35:49.657Z"
   },
   {
    "duration": 22,
    "start_time": "2023-07-26T16:35:49.666Z"
   },
   {
    "duration": 13,
    "start_time": "2023-07-26T16:35:49.690Z"
   },
   {
    "duration": 38,
    "start_time": "2023-07-26T16:35:49.704Z"
   },
   {
    "duration": 8,
    "start_time": "2023-07-26T16:35:49.743Z"
   },
   {
    "duration": 5,
    "start_time": "2023-07-26T16:35:49.753Z"
   },
   {
    "duration": 2420,
    "start_time": "2023-07-26T16:35:49.759Z"
   },
   {
    "duration": 1129,
    "start_time": "2023-07-26T16:35:52.181Z"
   },
   {
    "duration": 8,
    "start_time": "2023-07-26T16:35:53.311Z"
   },
   {
    "duration": 776,
    "start_time": "2023-07-26T16:35:53.320Z"
   },
   {
    "duration": 17,
    "start_time": "2023-07-26T16:35:54.098Z"
   },
   {
    "duration": 19,
    "start_time": "2023-07-26T16:35:54.116Z"
   },
   {
    "duration": 5,
    "start_time": "2023-07-26T16:35:54.156Z"
   },
   {
    "duration": 4,
    "start_time": "2023-07-26T16:35:54.162Z"
   },
   {
    "duration": 29,
    "start_time": "2023-07-26T16:35:54.168Z"
   },
   {
    "duration": 14,
    "start_time": "2023-07-26T16:36:06.935Z"
   },
   {
    "duration": 4,
    "start_time": "2023-07-26T16:36:14.144Z"
   },
   {
    "duration": 631,
    "start_time": "2023-07-26T16:36:14.149Z"
   },
   {
    "duration": 3,
    "start_time": "2023-07-26T16:36:14.782Z"
   },
   {
    "duration": 316,
    "start_time": "2023-07-26T16:36:14.787Z"
   },
   {
    "duration": 61,
    "start_time": "2023-07-26T16:36:15.105Z"
   },
   {
    "duration": 148,
    "start_time": "2023-07-26T16:36:15.168Z"
   },
   {
    "duration": 13,
    "start_time": "2023-07-26T16:36:15.318Z"
   },
   {
    "duration": 17,
    "start_time": "2023-07-26T16:36:15.333Z"
   },
   {
    "duration": 10,
    "start_time": "2023-07-26T16:36:15.351Z"
   },
   {
    "duration": 5,
    "start_time": "2023-07-26T16:36:15.363Z"
   },
   {
    "duration": 5,
    "start_time": "2023-07-26T16:36:15.370Z"
   },
   {
    "duration": 15,
    "start_time": "2023-07-26T16:36:15.376Z"
   },
   {
    "duration": 6,
    "start_time": "2023-07-26T16:36:15.392Z"
   },
   {
    "duration": 17,
    "start_time": "2023-07-26T16:36:15.400Z"
   },
   {
    "duration": 6,
    "start_time": "2023-07-26T16:36:15.419Z"
   },
   {
    "duration": 9,
    "start_time": "2023-07-26T16:36:15.426Z"
   },
   {
    "duration": 5,
    "start_time": "2023-07-26T16:36:15.437Z"
   },
   {
    "duration": 38,
    "start_time": "2023-07-26T16:36:15.444Z"
   },
   {
    "duration": 8,
    "start_time": "2023-07-26T16:36:15.484Z"
   },
   {
    "duration": 9,
    "start_time": "2023-07-26T16:36:15.493Z"
   },
   {
    "duration": 2495,
    "start_time": "2023-07-26T16:36:15.504Z"
   },
   {
    "duration": 1271,
    "start_time": "2023-07-26T16:36:18.001Z"
   },
   {
    "duration": 9,
    "start_time": "2023-07-26T16:36:19.274Z"
   },
   {
    "duration": 817,
    "start_time": "2023-07-26T16:36:19.284Z"
   },
   {
    "duration": 17,
    "start_time": "2023-07-26T16:36:20.103Z"
   },
   {
    "duration": 43,
    "start_time": "2023-07-26T16:36:20.122Z"
   },
   {
    "duration": 23,
    "start_time": "2023-07-26T16:36:20.167Z"
   },
   {
    "duration": 19,
    "start_time": "2023-07-26T16:36:20.193Z"
   },
   {
    "duration": 40,
    "start_time": "2023-07-26T16:36:20.214Z"
   },
   {
    "duration": 4,
    "start_time": "2023-07-26T16:39:40.299Z"
   },
   {
    "duration": 4,
    "start_time": "2023-07-26T16:46:55.738Z"
   },
   {
    "duration": 7,
    "start_time": "2023-07-26T16:50:05.639Z"
   },
   {
    "duration": 4,
    "start_time": "2023-07-26T16:52:57.386Z"
   },
   {
    "duration": 3,
    "start_time": "2023-07-26T16:53:03.033Z"
   },
   {
    "duration": 3,
    "start_time": "2023-07-26T17:00:08.692Z"
   },
   {
    "duration": 2089,
    "start_time": "2023-07-27T07:21:52.069Z"
   },
   {
    "duration": 2341,
    "start_time": "2023-07-27T07:21:54.161Z"
   },
   {
    "duration": 4,
    "start_time": "2023-07-27T07:21:56.504Z"
   },
   {
    "duration": 189,
    "start_time": "2023-07-27T07:21:56.510Z"
   },
   {
    "duration": 72,
    "start_time": "2023-07-27T07:21:56.701Z"
   },
   {
    "duration": 169,
    "start_time": "2023-07-27T07:21:56.775Z"
   },
   {
    "duration": 16,
    "start_time": "2023-07-27T07:21:56.952Z"
   },
   {
    "duration": 12,
    "start_time": "2023-07-27T07:21:56.970Z"
   },
   {
    "duration": 15,
    "start_time": "2023-07-27T07:21:56.984Z"
   },
   {
    "duration": 9,
    "start_time": "2023-07-27T07:21:57.001Z"
   },
   {
    "duration": 5,
    "start_time": "2023-07-27T07:21:57.012Z"
   },
   {
    "duration": 67,
    "start_time": "2023-07-27T07:21:57.019Z"
   },
   {
    "duration": 8,
    "start_time": "2023-07-27T07:21:57.088Z"
   },
   {
    "duration": 57,
    "start_time": "2023-07-27T07:21:57.099Z"
   },
   {
    "duration": 8,
    "start_time": "2023-07-27T07:21:57.158Z"
   },
   {
    "duration": 7,
    "start_time": "2023-07-27T07:21:57.168Z"
   },
   {
    "duration": 14,
    "start_time": "2023-07-27T07:21:57.177Z"
   },
   {
    "duration": 38,
    "start_time": "2023-07-27T07:21:57.193Z"
   },
   {
    "duration": 31,
    "start_time": "2023-07-27T07:21:57.232Z"
   },
   {
    "duration": 13,
    "start_time": "2023-07-27T07:21:57.265Z"
   },
   {
    "duration": 3043,
    "start_time": "2023-07-27T07:21:57.280Z"
   },
   {
    "duration": 1194,
    "start_time": "2023-07-27T07:22:00.325Z"
   },
   {
    "duration": 12,
    "start_time": "2023-07-27T07:22:01.522Z"
   },
   {
    "duration": 1299,
    "start_time": "2023-07-27T07:22:01.536Z"
   },
   {
    "duration": 28,
    "start_time": "2023-07-27T07:22:02.837Z"
   },
   {
    "duration": 244,
    "start_time": "2023-07-27T07:22:02.867Z"
   },
   {
    "duration": 6,
    "start_time": "2023-07-27T07:22:03.113Z"
   },
   {
    "duration": 17,
    "start_time": "2023-07-27T07:22:03.121Z"
   },
   {
    "duration": 156,
    "start_time": "2023-07-27T07:22:03.140Z"
   },
   {
    "duration": 8,
    "start_time": "2023-07-27T07:22:03.298Z"
   },
   {
    "duration": 34,
    "start_time": "2023-07-27T07:22:03.307Z"
   },
   {
    "duration": 24,
    "start_time": "2023-07-27T07:22:03.343Z"
   },
   {
    "duration": 18,
    "start_time": "2023-07-27T07:22:03.369Z"
   },
   {
    "duration": 32,
    "start_time": "2023-07-27T07:22:03.389Z"
   },
   {
    "duration": 6,
    "start_time": "2023-07-27T07:29:00.493Z"
   },
   {
    "duration": 4,
    "start_time": "2023-07-27T07:29:27.772Z"
   },
   {
    "duration": 699,
    "start_time": "2023-07-27T07:39:34.824Z"
   },
   {
    "duration": 679,
    "start_time": "2023-07-27T07:43:14.637Z"
   },
   {
    "duration": 673,
    "start_time": "2023-07-27T07:43:43.246Z"
   },
   {
    "duration": 668,
    "start_time": "2023-07-27T07:46:54.313Z"
   },
   {
    "duration": 73,
    "start_time": "2023-07-27T07:48:51.308Z"
   },
   {
    "duration": 71,
    "start_time": "2023-07-27T07:49:25.804Z"
   },
   {
    "duration": 2219,
    "start_time": "2023-07-27T07:51:01.891Z"
   },
   {
    "duration": 1141,
    "start_time": "2023-07-27T07:51:04.113Z"
   },
   {
    "duration": 5,
    "start_time": "2023-07-27T07:51:05.256Z"
   },
   {
    "duration": 208,
    "start_time": "2023-07-27T07:51:05.264Z"
   },
   {
    "duration": 58,
    "start_time": "2023-07-27T07:51:05.475Z"
   },
   {
    "duration": 169,
    "start_time": "2023-07-27T07:51:05.553Z"
   },
   {
    "duration": 16,
    "start_time": "2023-07-27T07:51:05.724Z"
   },
   {
    "duration": 17,
    "start_time": "2023-07-27T07:51:05.752Z"
   },
   {
    "duration": 33,
    "start_time": "2023-07-27T07:51:05.771Z"
   },
   {
    "duration": 27,
    "start_time": "2023-07-27T07:51:05.807Z"
   },
   {
    "duration": 40,
    "start_time": "2023-07-27T07:51:05.835Z"
   },
   {
    "duration": 42,
    "start_time": "2023-07-27T07:51:05.877Z"
   },
   {
    "duration": 22,
    "start_time": "2023-07-27T07:51:05.921Z"
   },
   {
    "duration": 52,
    "start_time": "2023-07-27T07:51:05.945Z"
   },
   {
    "duration": 14,
    "start_time": "2023-07-27T07:51:05.999Z"
   },
   {
    "duration": 26,
    "start_time": "2023-07-27T07:51:06.015Z"
   },
   {
    "duration": 22,
    "start_time": "2023-07-27T07:51:06.043Z"
   },
   {
    "duration": 40,
    "start_time": "2023-07-27T07:51:06.066Z"
   },
   {
    "duration": 10,
    "start_time": "2023-07-27T07:51:06.108Z"
   },
   {
    "duration": 13,
    "start_time": "2023-07-27T07:51:06.120Z"
   },
   {
    "duration": 2950,
    "start_time": "2023-07-27T07:51:06.134Z"
   },
   {
    "duration": 1128,
    "start_time": "2023-07-27T07:51:09.119Z"
   },
   {
    "duration": 11,
    "start_time": "2023-07-27T07:51:10.249Z"
   },
   {
    "duration": 1217,
    "start_time": "2023-07-27T07:51:10.262Z"
   },
   {
    "duration": 20,
    "start_time": "2023-07-27T07:51:11.481Z"
   },
   {
    "duration": 49,
    "start_time": "2023-07-27T07:51:11.503Z"
   },
   {
    "duration": 6,
    "start_time": "2023-07-27T07:51:11.554Z"
   },
   {
    "duration": 7,
    "start_time": "2023-07-27T07:51:11.563Z"
   },
   {
    "duration": 30,
    "start_time": "2023-07-27T07:51:11.572Z"
   },
   {
    "duration": 17,
    "start_time": "2023-07-27T07:51:11.604Z"
   },
   {
    "duration": 10,
    "start_time": "2023-07-27T07:51:11.623Z"
   },
   {
    "duration": 22,
    "start_time": "2023-07-27T07:51:11.635Z"
   },
   {
    "duration": 15,
    "start_time": "2023-07-27T07:51:11.660Z"
   },
   {
    "duration": 19,
    "start_time": "2023-07-27T07:51:11.677Z"
   },
   {
    "duration": 16,
    "start_time": "2023-07-27T07:51:11.698Z"
   },
   {
    "duration": 80,
    "start_time": "2023-07-27T07:51:11.716Z"
   },
   {
    "duration": 27,
    "start_time": "2023-07-27T07:57:38.023Z"
   },
   {
    "duration": 4,
    "start_time": "2023-07-27T08:39:43.921Z"
   },
   {
    "duration": 13,
    "start_time": "2023-07-27T08:39:44.792Z"
   },
   {
    "duration": 13,
    "start_time": "2023-07-27T08:39:57.985Z"
   },
   {
    "duration": 8,
    "start_time": "2023-07-27T08:40:04.240Z"
   },
   {
    "duration": 19,
    "start_time": "2023-07-27T08:40:07.832Z"
   },
   {
    "duration": 5,
    "start_time": "2023-07-27T08:43:19.326Z"
   },
   {
    "duration": 5,
    "start_time": "2023-07-27T08:43:48.909Z"
   },
   {
    "duration": 8,
    "start_time": "2023-07-27T08:44:47.702Z"
   },
   {
    "duration": 9,
    "start_time": "2023-07-27T08:45:52.360Z"
   },
   {
    "duration": 12,
    "start_time": "2023-07-27T08:46:49.714Z"
   },
   {
    "duration": 9,
    "start_time": "2023-07-27T08:47:05.762Z"
   },
   {
    "duration": 4,
    "start_time": "2023-07-27T08:47:16.906Z"
   },
   {
    "duration": 837,
    "start_time": "2023-07-27T08:47:16.912Z"
   },
   {
    "duration": 4,
    "start_time": "2023-07-27T08:47:17.752Z"
   },
   {
    "duration": 201,
    "start_time": "2023-07-27T08:47:17.758Z"
   },
   {
    "duration": 56,
    "start_time": "2023-07-27T08:47:17.962Z"
   },
   {
    "duration": 187,
    "start_time": "2023-07-27T08:47:18.020Z"
   },
   {
    "duration": 22,
    "start_time": "2023-07-27T08:47:18.210Z"
   },
   {
    "duration": 49,
    "start_time": "2023-07-27T08:47:18.234Z"
   },
   {
    "duration": 43,
    "start_time": "2023-07-27T08:47:18.285Z"
   },
   {
    "duration": 43,
    "start_time": "2023-07-27T08:47:18.330Z"
   },
   {
    "duration": 12,
    "start_time": "2023-07-27T08:47:18.375Z"
   },
   {
    "duration": 42,
    "start_time": "2023-07-27T08:47:18.389Z"
   },
   {
    "duration": 35,
    "start_time": "2023-07-27T08:47:18.436Z"
   },
   {
    "duration": 57,
    "start_time": "2023-07-27T08:47:18.473Z"
   },
   {
    "duration": 92,
    "start_time": "2023-07-27T08:47:18.532Z"
   },
   {
    "duration": 42,
    "start_time": "2023-07-27T08:47:18.627Z"
   },
   {
    "duration": 20,
    "start_time": "2023-07-27T08:47:18.671Z"
   },
   {
    "duration": 63,
    "start_time": "2023-07-27T08:47:18.693Z"
   },
   {
    "duration": 11,
    "start_time": "2023-07-27T08:47:18.759Z"
   },
   {
    "duration": 16,
    "start_time": "2023-07-27T08:47:18.772Z"
   },
   {
    "duration": 2857,
    "start_time": "2023-07-27T08:47:18.790Z"
   },
   {
    "duration": 1349,
    "start_time": "2023-07-27T08:47:21.650Z"
   },
   {
    "duration": 10,
    "start_time": "2023-07-27T08:47:23.000Z"
   },
   {
    "duration": 936,
    "start_time": "2023-07-27T08:47:23.012Z"
   },
   {
    "duration": 21,
    "start_time": "2023-07-27T08:47:23.949Z"
   },
   {
    "duration": 5,
    "start_time": "2023-07-27T08:47:23.972Z"
   },
   {
    "duration": 41,
    "start_time": "2023-07-27T08:47:23.978Z"
   },
   {
    "duration": 4,
    "start_time": "2023-07-27T08:47:24.021Z"
   },
   {
    "duration": 43,
    "start_time": "2023-07-27T08:47:24.027Z"
   },
   {
    "duration": 6,
    "start_time": "2023-07-27T08:47:24.072Z"
   },
   {
    "duration": 15,
    "start_time": "2023-07-27T08:47:24.080Z"
   },
   {
    "duration": 16,
    "start_time": "2023-07-27T08:47:24.097Z"
   },
   {
    "duration": 23,
    "start_time": "2023-07-27T08:47:24.115Z"
   },
   {
    "duration": 20,
    "start_time": "2023-07-27T08:47:24.140Z"
   },
   {
    "duration": 11,
    "start_time": "2023-07-27T08:47:24.163Z"
   },
   {
    "duration": 19,
    "start_time": "2023-07-27T08:47:24.176Z"
   },
   {
    "duration": 46,
    "start_time": "2023-07-27T08:47:24.199Z"
   },
   {
    "duration": 44,
    "start_time": "2023-07-27T08:47:24.247Z"
   },
   {
    "duration": 26,
    "start_time": "2023-07-27T08:47:24.293Z"
   },
   {
    "duration": 5,
    "start_time": "2023-07-27T08:48:28.328Z"
   },
   {
    "duration": 12,
    "start_time": "2023-07-27T08:48:29.056Z"
   },
   {
    "duration": 3,
    "start_time": "2023-07-27T08:48:46.235Z"
   },
   {
    "duration": 13,
    "start_time": "2023-07-27T08:48:47.284Z"
   },
   {
    "duration": 10,
    "start_time": "2023-07-27T08:49:14.594Z"
   },
   {
    "duration": 20,
    "start_time": "2023-07-27T08:49:18.051Z"
   },
   {
    "duration": 4,
    "start_time": "2023-07-27T08:49:22.212Z"
   },
   {
    "duration": 834,
    "start_time": "2023-07-27T08:49:22.218Z"
   },
   {
    "duration": 4,
    "start_time": "2023-07-27T08:49:23.054Z"
   },
   {
    "duration": 191,
    "start_time": "2023-07-27T08:49:23.061Z"
   },
   {
    "duration": 55,
    "start_time": "2023-07-27T08:49:23.254Z"
   },
   {
    "duration": 183,
    "start_time": "2023-07-27T08:49:23.311Z"
   },
   {
    "duration": 16,
    "start_time": "2023-07-27T08:49:23.495Z"
   },
   {
    "duration": 41,
    "start_time": "2023-07-27T08:49:23.512Z"
   },
   {
    "duration": 23,
    "start_time": "2023-07-27T08:49:23.556Z"
   },
   {
    "duration": 19,
    "start_time": "2023-07-27T08:49:23.581Z"
   },
   {
    "duration": 21,
    "start_time": "2023-07-27T08:49:23.602Z"
   },
   {
    "duration": 68,
    "start_time": "2023-07-27T08:49:23.626Z"
   },
   {
    "duration": 11,
    "start_time": "2023-07-27T08:49:23.697Z"
   },
   {
    "duration": 32,
    "start_time": "2023-07-27T08:49:23.710Z"
   },
   {
    "duration": 30,
    "start_time": "2023-07-27T08:49:23.744Z"
   },
   {
    "duration": 17,
    "start_time": "2023-07-27T08:49:23.776Z"
   },
   {
    "duration": 26,
    "start_time": "2023-07-27T08:49:23.795Z"
   },
   {
    "duration": 50,
    "start_time": "2023-07-27T08:49:23.824Z"
   },
   {
    "duration": 10,
    "start_time": "2023-07-27T08:49:23.876Z"
   },
   {
    "duration": 12,
    "start_time": "2023-07-27T08:49:23.887Z"
   },
   {
    "duration": 3006,
    "start_time": "2023-07-27T08:49:23.901Z"
   },
   {
    "duration": 1100,
    "start_time": "2023-07-27T08:49:26.910Z"
   },
   {
    "duration": 8,
    "start_time": "2023-07-27T08:49:28.012Z"
   },
   {
    "duration": 1276,
    "start_time": "2023-07-27T08:49:28.024Z"
   },
   {
    "duration": 21,
    "start_time": "2023-07-27T08:49:29.302Z"
   },
   {
    "duration": 26,
    "start_time": "2023-07-27T08:49:29.326Z"
   },
   {
    "duration": 32,
    "start_time": "2023-07-27T08:49:29.356Z"
   },
   {
    "duration": 5,
    "start_time": "2023-07-27T08:49:29.393Z"
   },
   {
    "duration": 41,
    "start_time": "2023-07-27T08:49:29.400Z"
   },
   {
    "duration": 24,
    "start_time": "2023-07-27T08:49:29.443Z"
   },
   {
    "duration": 23,
    "start_time": "2023-07-27T08:49:29.470Z"
   },
   {
    "duration": 40,
    "start_time": "2023-07-27T08:49:29.495Z"
   },
   {
    "duration": 33,
    "start_time": "2023-07-27T08:49:29.537Z"
   },
   {
    "duration": 24,
    "start_time": "2023-07-27T08:49:29.572Z"
   },
   {
    "duration": 18,
    "start_time": "2023-07-27T08:49:29.598Z"
   },
   {
    "duration": 63,
    "start_time": "2023-07-27T08:49:29.618Z"
   },
   {
    "duration": 53,
    "start_time": "2023-07-27T08:49:29.683Z"
   },
   {
    "duration": 22,
    "start_time": "2023-07-27T08:49:29.738Z"
   },
   {
    "duration": 12,
    "start_time": "2023-07-27T08:49:29.762Z"
   },
   {
    "duration": 7,
    "start_time": "2023-07-27T08:53:09.248Z"
   },
   {
    "duration": 9,
    "start_time": "2023-07-27T08:53:52.386Z"
   },
   {
    "duration": 11,
    "start_time": "2023-07-27T08:54:00.660Z"
   },
   {
    "duration": 158,
    "start_time": "2023-07-27T08:54:58.219Z"
   },
   {
    "duration": 8,
    "start_time": "2023-07-27T08:55:06.555Z"
   },
   {
    "duration": 16,
    "start_time": "2023-07-27T08:56:50.902Z"
   },
   {
    "duration": 11,
    "start_time": "2023-07-27T08:56:53.324Z"
   },
   {
    "duration": 15,
    "start_time": "2023-07-27T08:57:41.782Z"
   },
   {
    "duration": 25,
    "start_time": "2023-07-27T08:57:53.695Z"
   },
   {
    "duration": 4,
    "start_time": "2023-07-27T08:58:12.734Z"
   },
   {
    "duration": 19,
    "start_time": "2023-07-27T08:58:15.344Z"
   },
   {
    "duration": 12,
    "start_time": "2023-07-27T09:03:26.918Z"
   },
   {
    "duration": 4,
    "start_time": "2023-07-27T09:03:40.542Z"
   },
   {
    "duration": 794,
    "start_time": "2023-07-27T09:03:40.547Z"
   },
   {
    "duration": 9,
    "start_time": "2023-07-27T09:03:41.343Z"
   },
   {
    "duration": 183,
    "start_time": "2023-07-27T09:03:41.355Z"
   },
   {
    "duration": 55,
    "start_time": "2023-07-27T09:03:41.539Z"
   },
   {
    "duration": 160,
    "start_time": "2023-07-27T09:03:41.596Z"
   },
   {
    "duration": 13,
    "start_time": "2023-07-27T09:03:41.758Z"
   },
   {
    "duration": 18,
    "start_time": "2023-07-27T09:03:41.773Z"
   },
   {
    "duration": 14,
    "start_time": "2023-07-27T09:03:41.793Z"
   },
   {
    "duration": 13,
    "start_time": "2023-07-27T09:03:41.809Z"
   },
   {
    "duration": 44,
    "start_time": "2023-07-27T09:03:41.823Z"
   },
   {
    "duration": 0,
    "start_time": "2023-07-27T09:03:41.869Z"
   },
   {
    "duration": 0,
    "start_time": "2023-07-27T09:03:41.871Z"
   },
   {
    "duration": 0,
    "start_time": "2023-07-27T09:03:41.872Z"
   },
   {
    "duration": 0,
    "start_time": "2023-07-27T09:03:41.873Z"
   },
   {
    "duration": 0,
    "start_time": "2023-07-27T09:03:41.874Z"
   },
   {
    "duration": 0,
    "start_time": "2023-07-27T09:03:41.875Z"
   },
   {
    "duration": 0,
    "start_time": "2023-07-27T09:03:41.876Z"
   },
   {
    "duration": 0,
    "start_time": "2023-07-27T09:03:41.878Z"
   },
   {
    "duration": 0,
    "start_time": "2023-07-27T09:03:41.880Z"
   },
   {
    "duration": 0,
    "start_time": "2023-07-27T09:03:41.881Z"
   },
   {
    "duration": 0,
    "start_time": "2023-07-27T09:03:41.882Z"
   },
   {
    "duration": 0,
    "start_time": "2023-07-27T09:03:41.883Z"
   },
   {
    "duration": 1,
    "start_time": "2023-07-27T09:03:41.884Z"
   },
   {
    "duration": 0,
    "start_time": "2023-07-27T09:03:41.885Z"
   },
   {
    "duration": 0,
    "start_time": "2023-07-27T09:03:41.886Z"
   },
   {
    "duration": 0,
    "start_time": "2023-07-27T09:03:41.887Z"
   },
   {
    "duration": 0,
    "start_time": "2023-07-27T09:03:41.888Z"
   },
   {
    "duration": 0,
    "start_time": "2023-07-27T09:03:41.889Z"
   },
   {
    "duration": 0,
    "start_time": "2023-07-27T09:03:41.890Z"
   },
   {
    "duration": 0,
    "start_time": "2023-07-27T09:03:41.890Z"
   },
   {
    "duration": 0,
    "start_time": "2023-07-27T09:03:41.891Z"
   },
   {
    "duration": 0,
    "start_time": "2023-07-27T09:03:41.892Z"
   },
   {
    "duration": 0,
    "start_time": "2023-07-27T09:03:41.893Z"
   },
   {
    "duration": 0,
    "start_time": "2023-07-27T09:03:41.895Z"
   },
   {
    "duration": 0,
    "start_time": "2023-07-27T09:03:41.896Z"
   },
   {
    "duration": 0,
    "start_time": "2023-07-27T09:03:41.897Z"
   },
   {
    "duration": 0,
    "start_time": "2023-07-27T09:03:41.898Z"
   },
   {
    "duration": 27,
    "start_time": "2023-07-27T09:03:58.030Z"
   },
   {
    "duration": 8,
    "start_time": "2023-07-27T09:04:55.135Z"
   },
   {
    "duration": 4,
    "start_time": "2023-07-27T09:04:57.711Z"
   },
   {
    "duration": 6,
    "start_time": "2023-07-27T09:05:00.943Z"
   },
   {
    "duration": 41,
    "start_time": "2023-07-27T09:05:05.319Z"
   },
   {
    "duration": 8,
    "start_time": "2023-07-27T09:05:14.095Z"
   },
   {
    "duration": 3,
    "start_time": "2023-07-27T09:05:16.071Z"
   },
   {
    "duration": 9,
    "start_time": "2023-07-27T09:05:26.855Z"
   },
   {
    "duration": 2695,
    "start_time": "2023-07-27T09:05:38.552Z"
   },
   {
    "duration": 1217,
    "start_time": "2023-07-27T09:05:51.099Z"
   },
   {
    "duration": 10,
    "start_time": "2023-07-27T09:05:57.353Z"
   },
   {
    "duration": 1007,
    "start_time": "2023-07-27T09:05:59.698Z"
   },
   {
    "duration": 19,
    "start_time": "2023-07-27T09:06:04.753Z"
   },
   {
    "duration": 4,
    "start_time": "2023-07-27T09:06:07.313Z"
   },
   {
    "duration": 20,
    "start_time": "2023-07-27T09:06:12.209Z"
   },
   {
    "duration": 5,
    "start_time": "2023-07-27T09:06:14.312Z"
   },
   {
    "duration": 5,
    "start_time": "2023-07-27T09:06:21.584Z"
   },
   {
    "duration": 4,
    "start_time": "2023-07-27T09:06:25.921Z"
   },
   {
    "duration": 8,
    "start_time": "2023-07-27T09:07:36.530Z"
   },
   {
    "duration": 3,
    "start_time": "2023-07-27T09:07:44.963Z"
   },
   {
    "duration": 3,
    "start_time": "2023-07-27T09:07:47.682Z"
   },
   {
    "duration": 3,
    "start_time": "2023-07-27T09:07:50.697Z"
   },
   {
    "duration": 8,
    "start_time": "2023-07-27T09:07:54.106Z"
   },
   {
    "duration": 3,
    "start_time": "2023-07-27T09:08:19.731Z"
   },
   {
    "duration": 3,
    "start_time": "2023-07-27T09:08:21.955Z"
   },
   {
    "duration": 24528,
    "start_time": "2023-07-27T09:08:30.467Z"
   },
   {
    "duration": 2796,
    "start_time": "2023-07-27T09:09:20.356Z"
   },
   {
    "duration": 24754,
    "start_time": "2023-07-27T09:10:14.669Z"
   },
   {
    "duration": 2597,
    "start_time": "2023-07-27T09:14:29.059Z"
   },
   {
    "duration": 2329,
    "start_time": "2023-07-27T09:14:53.028Z"
   },
   {
    "duration": 26599,
    "start_time": "2023-07-27T09:31:45.431Z"
   },
   {
    "duration": 26355,
    "start_time": "2023-07-27T09:32:20.040Z"
   },
   {
    "duration": 25777,
    "start_time": "2023-07-27T09:42:22.148Z"
   },
   {
    "duration": 25112,
    "start_time": "2023-07-27T09:42:58.726Z"
   },
   {
    "duration": 24828,
    "start_time": "2023-07-27T09:57:56.415Z"
   },
   {
    "duration": 15,
    "start_time": "2023-07-27T09:58:21.245Z"
   },
   {
    "duration": 14,
    "start_time": "2023-07-27T09:58:40.863Z"
   },
   {
    "duration": 3726,
    "start_time": "2023-07-27T09:58:47.528Z"
   },
   {
    "duration": 792866,
    "start_time": "2023-07-27T09:59:40.744Z"
   },
   {
    "duration": 4,
    "start_time": "2023-07-27T11:21:51.926Z"
   },
   {
    "duration": 3,
    "start_time": "2023-07-27T11:27:34.194Z"
   },
   {
    "duration": 3,
    "start_time": "2023-07-27T11:27:56.806Z"
   },
   {
    "duration": 2693,
    "start_time": "2023-07-27T11:28:08.390Z"
   },
   {
    "duration": 11400,
    "start_time": "2023-07-27T11:31:44.386Z"
   },
   {
    "duration": 4,
    "start_time": "2023-07-27T11:34:44.169Z"
   },
   {
    "duration": 4,
    "start_time": "2023-07-27T11:34:51.175Z"
   },
   {
    "duration": 833,
    "start_time": "2023-07-27T11:34:51.182Z"
   },
   {
    "duration": 5,
    "start_time": "2023-07-27T11:34:52.017Z"
   },
   {
    "duration": 236,
    "start_time": "2023-07-27T11:34:52.024Z"
   },
   {
    "duration": 56,
    "start_time": "2023-07-27T11:34:52.268Z"
   },
   {
    "duration": 161,
    "start_time": "2023-07-27T11:34:52.327Z"
   },
   {
    "duration": 18,
    "start_time": "2023-07-27T11:34:52.490Z"
   },
   {
    "duration": 46,
    "start_time": "2023-07-27T11:34:52.510Z"
   },
   {
    "duration": 9,
    "start_time": "2023-07-27T11:34:52.558Z"
   },
   {
    "duration": 22,
    "start_time": "2023-07-27T11:34:52.570Z"
   },
   {
    "duration": 75,
    "start_time": "2023-07-27T11:34:52.593Z"
   },
   {
    "duration": 18,
    "start_time": "2023-07-27T11:34:52.670Z"
   },
   {
    "duration": 40,
    "start_time": "2023-07-27T11:34:52.689Z"
   },
   {
    "duration": 45,
    "start_time": "2023-07-27T11:34:52.730Z"
   },
   {
    "duration": 91,
    "start_time": "2023-07-27T11:34:52.776Z"
   },
   {
    "duration": 29,
    "start_time": "2023-07-27T11:34:52.869Z"
   },
   {
    "duration": 37,
    "start_time": "2023-07-27T11:34:52.900Z"
   },
   {
    "duration": 2935,
    "start_time": "2023-07-27T11:34:52.939Z"
   },
   {
    "duration": 1333,
    "start_time": "2023-07-27T11:34:55.876Z"
   },
   {
    "duration": 8,
    "start_time": "2023-07-27T11:34:57.212Z"
   },
   {
    "duration": 952,
    "start_time": "2023-07-27T11:34:57.222Z"
   },
   {
    "duration": 20,
    "start_time": "2023-07-27T11:34:58.176Z"
   },
   {
    "duration": 21,
    "start_time": "2023-07-27T11:34:58.198Z"
   },
   {
    "duration": 60,
    "start_time": "2023-07-27T11:34:58.221Z"
   },
   {
    "duration": 35,
    "start_time": "2023-07-27T11:34:58.284Z"
   },
   {
    "duration": 34,
    "start_time": "2023-07-27T11:34:58.321Z"
   },
   {
    "duration": 77,
    "start_time": "2023-07-27T11:34:58.357Z"
   },
   {
    "duration": 57,
    "start_time": "2023-07-27T11:34:58.438Z"
   },
   {
    "duration": 33,
    "start_time": "2023-07-27T11:34:58.497Z"
   },
   {
    "duration": 62,
    "start_time": "2023-07-27T11:34:58.532Z"
   },
   {
    "duration": 77,
    "start_time": "2023-07-27T11:34:58.596Z"
   },
   {
    "duration": 73,
    "start_time": "2023-07-27T11:34:58.675Z"
   },
   {
    "duration": 62,
    "start_time": "2023-07-27T11:34:58.750Z"
   },
   {
    "duration": 26,
    "start_time": "2023-07-27T11:34:58.814Z"
   },
   {
    "duration": 32,
    "start_time": "2023-07-27T11:34:58.842Z"
   },
   {
    "duration": 5960,
    "start_time": "2023-07-27T11:34:58.876Z"
   },
   {
    "duration": 12962,
    "start_time": "2023-07-27T11:35:04.838Z"
   },
   {
    "duration": 0,
    "start_time": "2023-07-27T11:35:17.802Z"
   },
   {
    "duration": 4060,
    "start_time": "2023-07-27T11:35:32.111Z"
   },
   {
    "duration": 5838,
    "start_time": "2023-07-27T11:36:12.368Z"
   },
   {
    "duration": 52,
    "start_time": "2023-07-27T12:07:10.999Z"
   },
   {
    "duration": 4974,
    "start_time": "2023-07-27T12:07:34.468Z"
   },
   {
    "duration": 2816,
    "start_time": "2023-07-27T12:07:39.444Z"
   },
   {
    "duration": 7,
    "start_time": "2023-07-27T12:07:42.262Z"
   },
   {
    "duration": 304,
    "start_time": "2023-07-27T12:07:42.271Z"
   },
   {
    "duration": 58,
    "start_time": "2023-07-27T12:07:42.583Z"
   },
   {
    "duration": 178,
    "start_time": "2023-07-27T12:07:42.642Z"
   },
   {
    "duration": 34,
    "start_time": "2023-07-27T12:07:42.823Z"
   },
   {
    "duration": 64,
    "start_time": "2023-07-27T12:07:42.858Z"
   },
   {
    "duration": 71,
    "start_time": "2023-07-27T12:07:42.923Z"
   },
   {
    "duration": 141,
    "start_time": "2023-07-27T12:07:42.996Z"
   },
   {
    "duration": 174,
    "start_time": "2023-07-27T12:07:43.139Z"
   },
   {
    "duration": 20,
    "start_time": "2023-07-27T12:07:43.315Z"
   },
   {
    "duration": 58,
    "start_time": "2023-07-27T12:07:43.337Z"
   },
   {
    "duration": 46,
    "start_time": "2023-07-27T12:07:43.400Z"
   },
   {
    "duration": 148,
    "start_time": "2023-07-27T12:07:43.449Z"
   },
   {
    "duration": 24,
    "start_time": "2023-07-27T12:07:43.600Z"
   },
   {
    "duration": 24,
    "start_time": "2023-07-27T12:07:43.626Z"
   },
   {
    "duration": 3276,
    "start_time": "2023-07-27T12:07:43.659Z"
   },
   {
    "duration": 1184,
    "start_time": "2023-07-27T12:07:46.938Z"
   },
   {
    "duration": 9,
    "start_time": "2023-07-27T12:07:48.124Z"
   },
   {
    "duration": 1386,
    "start_time": "2023-07-27T12:07:48.134Z"
   },
   {
    "duration": 17,
    "start_time": "2023-07-27T12:07:49.522Z"
   },
   {
    "duration": 41,
    "start_time": "2023-07-27T12:07:49.552Z"
   },
   {
    "duration": 75,
    "start_time": "2023-07-27T12:07:49.594Z"
   },
   {
    "duration": 39,
    "start_time": "2023-07-27T12:07:49.675Z"
   },
   {
    "duration": 32,
    "start_time": "2023-07-27T12:07:49.716Z"
   },
   {
    "duration": 240,
    "start_time": "2023-07-27T12:07:49.753Z"
   },
   {
    "duration": 78,
    "start_time": "2023-07-27T12:07:49.995Z"
   },
   {
    "duration": 73,
    "start_time": "2023-07-27T12:07:50.076Z"
   },
   {
    "duration": 50,
    "start_time": "2023-07-27T12:07:50.151Z"
   },
   {
    "duration": 40,
    "start_time": "2023-07-27T12:07:50.203Z"
   },
   {
    "duration": 82,
    "start_time": "2023-07-27T12:07:50.244Z"
   },
   {
    "duration": 91,
    "start_time": "2023-07-27T12:07:50.328Z"
   },
   {
    "duration": 78,
    "start_time": "2023-07-27T12:08:01.767Z"
   },
   {
    "duration": 5,
    "start_time": "2023-07-27T12:08:06.581Z"
   },
   {
    "duration": 4,
    "start_time": "2023-07-27T12:08:10.178Z"
   },
   {
    "duration": 7,
    "start_time": "2023-07-27T12:08:13.800Z"
   },
   {
    "duration": 8,
    "start_time": "2023-07-27T12:08:18.705Z"
   },
   {
    "duration": 3654,
    "start_time": "2023-07-27T12:08:23.618Z"
   },
   {
    "duration": 2661,
    "start_time": "2023-07-27T12:08:27.279Z"
   },
   {
    "duration": 4,
    "start_time": "2023-07-27T12:08:29.941Z"
   },
   {
    "duration": 332,
    "start_time": "2023-07-27T12:08:29.947Z"
   },
   {
    "duration": 70,
    "start_time": "2023-07-27T12:08:30.285Z"
   },
   {
    "duration": 226,
    "start_time": "2023-07-27T12:08:30.361Z"
   },
   {
    "duration": 25,
    "start_time": "2023-07-27T12:08:30.590Z"
   },
   {
    "duration": 148,
    "start_time": "2023-07-27T12:08:30.616Z"
   },
   {
    "duration": 155,
    "start_time": "2023-07-27T12:08:30.767Z"
   },
   {
    "duration": 246,
    "start_time": "2023-07-27T12:08:30.925Z"
   },
   {
    "duration": 226,
    "start_time": "2023-07-27T12:08:31.175Z"
   },
   {
    "duration": 100,
    "start_time": "2023-07-27T12:08:31.403Z"
   },
   {
    "duration": 74,
    "start_time": "2023-07-27T12:08:31.505Z"
   },
   {
    "duration": 97,
    "start_time": "2023-07-27T12:08:31.586Z"
   },
   {
    "duration": 106,
    "start_time": "2023-07-27T12:08:31.685Z"
   },
   {
    "duration": 74,
    "start_time": "2023-07-27T12:08:31.792Z"
   },
   {
    "duration": 233,
    "start_time": "2023-07-27T12:08:31.874Z"
   },
   {
    "duration": 3298,
    "start_time": "2023-07-27T12:08:32.109Z"
   },
   {
    "duration": 1252,
    "start_time": "2023-07-27T12:08:35.432Z"
   },
   {
    "duration": 10,
    "start_time": "2023-07-27T12:08:36.686Z"
   },
   {
    "duration": 1426,
    "start_time": "2023-07-27T12:08:36.697Z"
   },
   {
    "duration": 36,
    "start_time": "2023-07-27T12:08:38.125Z"
   },
   {
    "duration": 100,
    "start_time": "2023-07-27T12:08:38.163Z"
   },
   {
    "duration": 110,
    "start_time": "2023-07-27T12:08:38.266Z"
   },
   {
    "duration": 138,
    "start_time": "2023-07-27T12:08:38.382Z"
   },
   {
    "duration": 159,
    "start_time": "2023-07-27T12:08:38.523Z"
   },
   {
    "duration": 97,
    "start_time": "2023-07-27T12:08:38.685Z"
   },
   {
    "duration": 103,
    "start_time": "2023-07-27T12:08:38.785Z"
   },
   {
    "duration": 114,
    "start_time": "2023-07-27T12:08:38.890Z"
   },
   {
    "duration": 89,
    "start_time": "2023-07-27T12:08:39.006Z"
   },
   {
    "duration": 107,
    "start_time": "2023-07-27T12:08:39.097Z"
   },
   {
    "duration": 76,
    "start_time": "2023-07-27T12:08:39.206Z"
   },
   {
    "duration": 193,
    "start_time": "2023-07-27T12:08:39.284Z"
   },
   {
    "duration": 73,
    "start_time": "2023-07-27T12:09:18.466Z"
   },
   {
    "duration": 3,
    "start_time": "2023-07-27T12:10:22.620Z"
   },
   {
    "duration": 3165,
    "start_time": "2023-07-27T12:10:32.682Z"
   },
   {
    "duration": 2900,
    "start_time": "2023-07-27T12:10:35.850Z"
   },
   {
    "duration": 7,
    "start_time": "2023-07-27T12:10:38.752Z"
   },
   {
    "duration": 321,
    "start_time": "2023-07-27T12:10:38.761Z"
   },
   {
    "duration": 63,
    "start_time": "2023-07-27T12:10:39.085Z"
   },
   {
    "duration": 182,
    "start_time": "2023-07-27T12:10:39.152Z"
   },
   {
    "duration": 31,
    "start_time": "2023-07-27T12:10:39.336Z"
   },
   {
    "duration": 79,
    "start_time": "2023-07-27T12:10:39.369Z"
   },
   {
    "duration": 67,
    "start_time": "2023-07-27T12:10:39.450Z"
   },
   {
    "duration": 30,
    "start_time": "2023-07-27T12:10:39.520Z"
   },
   {
    "duration": 85,
    "start_time": "2023-07-27T12:10:39.553Z"
   },
   {
    "duration": 9,
    "start_time": "2023-07-27T12:10:39.640Z"
   },
   {
    "duration": 45,
    "start_time": "2023-07-27T12:10:39.650Z"
   },
   {
    "duration": 27,
    "start_time": "2023-07-27T12:10:39.699Z"
   },
   {
    "duration": 90,
    "start_time": "2023-07-27T12:10:39.728Z"
   },
   {
    "duration": 72,
    "start_time": "2023-07-27T12:10:39.821Z"
   },
   {
    "duration": 34,
    "start_time": "2023-07-27T12:10:39.895Z"
   },
   {
    "duration": 3254,
    "start_time": "2023-07-27T12:10:39.931Z"
   },
   {
    "duration": 1220,
    "start_time": "2023-07-27T12:10:43.187Z"
   },
   {
    "duration": 13,
    "start_time": "2023-07-27T12:10:44.409Z"
   },
   {
    "duration": 1466,
    "start_time": "2023-07-27T12:10:44.424Z"
   },
   {
    "duration": 19,
    "start_time": "2023-07-27T12:10:45.894Z"
   },
   {
    "duration": 68,
    "start_time": "2023-07-27T12:10:45.915Z"
   },
   {
    "duration": 56,
    "start_time": "2023-07-27T12:10:45.984Z"
   },
   {
    "duration": 39,
    "start_time": "2023-07-27T12:10:46.042Z"
   },
   {
    "duration": 40,
    "start_time": "2023-07-27T12:10:46.084Z"
   },
   {
    "duration": 49,
    "start_time": "2023-07-27T12:10:46.126Z"
   },
   {
    "duration": 35,
    "start_time": "2023-07-27T12:10:46.176Z"
   },
   {
    "duration": 36,
    "start_time": "2023-07-27T12:10:46.213Z"
   },
   {
    "duration": 69,
    "start_time": "2023-07-27T12:10:46.251Z"
   },
   {
    "duration": 19,
    "start_time": "2023-07-27T12:10:46.322Z"
   },
   {
    "duration": 77,
    "start_time": "2023-07-27T12:10:46.342Z"
   },
   {
    "duration": 93,
    "start_time": "2023-07-27T12:10:46.422Z"
   },
   {
    "duration": 27,
    "start_time": "2023-07-27T12:10:46.517Z"
   },
   {
    "duration": 58,
    "start_time": "2023-07-27T12:10:46.546Z"
   },
   {
    "duration": 7921,
    "start_time": "2023-07-27T12:10:46.607Z"
   },
   {
    "duration": 15539,
    "start_time": "2023-07-27T12:10:54.529Z"
   },
   {
    "duration": 0,
    "start_time": "2023-07-27T12:11:10.074Z"
   },
   {
    "duration": 11,
    "start_time": "2023-07-27T12:15:42.779Z"
   },
   {
    "duration": 3,
    "start_time": "2023-07-27T12:15:48.187Z"
   },
   {
    "duration": 8,
    "start_time": "2023-07-27T12:15:50.095Z"
   },
   {
    "duration": 3,
    "start_time": "2023-07-27T12:15:52.298Z"
   },
   {
    "duration": 6,
    "start_time": "2023-07-27T12:15:54.569Z"
   },
   {
    "duration": 7594,
    "start_time": "2023-07-27T12:15:57.115Z"
   },
   {
    "duration": 9,
    "start_time": "2023-07-27T12:16:59.278Z"
   },
   {
    "duration": 7,
    "start_time": "2023-07-27T12:17:02.152Z"
   },
   {
    "duration": 13,
    "start_time": "2023-07-27T12:17:04.148Z"
   },
   {
    "duration": 7,
    "start_time": "2023-07-27T12:17:06.568Z"
   },
   {
    "duration": 13,
    "start_time": "2023-07-27T12:17:09.152Z"
   },
   {
    "duration": 1606,
    "start_time": "2023-07-27T12:17:16.422Z"
   },
   {
    "duration": 11,
    "start_time": "2023-07-27T12:26:09.779Z"
   },
   {
    "duration": 13,
    "start_time": "2023-07-27T12:26:14.069Z"
   },
   {
    "duration": 7,
    "start_time": "2023-07-27T12:26:16.016Z"
   },
   {
    "duration": 10,
    "start_time": "2023-07-27T12:26:18.284Z"
   },
   {
    "duration": 10,
    "start_time": "2023-07-27T12:26:20.480Z"
   },
   {
    "duration": 1093,
    "start_time": "2023-07-27T12:26:22.995Z"
   },
   {
    "duration": 4,
    "start_time": "2023-07-27T12:30:53.492Z"
   },
   {
    "duration": 3,
    "start_time": "2023-07-27T12:30:56.388Z"
   },
   {
    "duration": 5,
    "start_time": "2023-07-27T12:31:11.675Z"
   },
   {
    "duration": 12,
    "start_time": "2023-07-27T12:31:17.580Z"
   },
   {
    "duration": 3,
    "start_time": "2023-07-27T12:31:20.918Z"
   },
   {
    "duration": 7,
    "start_time": "2023-07-27T12:31:22.780Z"
   },
   {
    "duration": 27687,
    "start_time": "2023-07-27T12:31:26.190Z"
   },
   {
    "duration": 191874,
    "start_time": "2023-07-27T12:32:08.888Z"
   },
   {
    "duration": 0,
    "start_time": "2023-07-27T12:35:20.767Z"
   },
   {
    "duration": 12362,
    "start_time": "2023-07-27T12:35:28.666Z"
   },
   {
    "duration": 27645,
    "start_time": "2023-07-27T12:35:57.281Z"
   },
   {
    "duration": 20091,
    "start_time": "2023-07-27T12:36:54.118Z"
   },
   {
    "duration": 28159,
    "start_time": "2023-07-27T12:37:21.688Z"
   },
   {
    "duration": 27803,
    "start_time": "2023-07-27T12:38:57.290Z"
   },
   {
    "duration": 11777,
    "start_time": "2023-07-27T12:40:01.278Z"
   },
   {
    "duration": 871068,
    "start_time": "2023-07-27T12:40:37.581Z"
   },
   {
    "duration": 3812,
    "start_time": "2023-07-27T12:55:08.661Z"
   },
   {
    "duration": 3695,
    "start_time": "2023-07-27T12:57:43.262Z"
   },
   {
    "duration": 183,
    "start_time": "2023-07-27T12:59:37.762Z"
   },
   {
    "duration": 4711,
    "start_time": "2023-07-27T12:59:51.246Z"
   },
   {
    "duration": 4,
    "start_time": "2023-07-27T13:06:48.691Z"
   },
   {
    "duration": 528,
    "start_time": "2023-07-27T13:09:10.050Z"
   },
   {
    "duration": 218,
    "start_time": "2023-07-27T13:09:40.039Z"
   },
   {
    "duration": 19,
    "start_time": "2023-07-27T13:11:44.050Z"
   },
   {
    "duration": 4,
    "start_time": "2023-07-27T13:12:13.277Z"
   },
   {
    "duration": 3,
    "start_time": "2023-07-27T13:12:23.599Z"
   },
   {
    "duration": 4,
    "start_time": "2023-07-27T13:13:09.101Z"
   },
   {
    "duration": 4,
    "start_time": "2023-07-27T13:13:37.651Z"
   },
   {
    "duration": 14,
    "start_time": "2023-07-27T13:15:03.850Z"
   },
   {
    "duration": 8212,
    "start_time": "2023-07-27T13:19:10.594Z"
   },
   {
    "duration": 8291,
    "start_time": "2023-07-27T13:20:13.187Z"
   },
   {
    "duration": 4,
    "start_time": "2023-07-27T13:20:21.482Z"
   },
   {
    "duration": 5,
    "start_time": "2023-07-27T13:22:22.876Z"
   },
   {
    "duration": 16,
    "start_time": "2023-07-27T13:31:39.378Z"
   },
   {
    "duration": 5,
    "start_time": "2023-07-27T14:50:43.970Z"
   },
   {
    "duration": 1747,
    "start_time": "2023-07-27T15:14:53.612Z"
   },
   {
    "duration": 1034,
    "start_time": "2023-07-27T15:14:55.361Z"
   },
   {
    "duration": 8,
    "start_time": "2023-07-27T15:14:56.398Z"
   },
   {
    "duration": 260,
    "start_time": "2023-07-27T15:14:56.411Z"
   },
   {
    "duration": 69,
    "start_time": "2023-07-27T15:14:56.677Z"
   },
   {
    "duration": 185,
    "start_time": "2023-07-27T15:14:56.749Z"
   },
   {
    "duration": 33,
    "start_time": "2023-07-27T15:14:56.935Z"
   },
   {
    "duration": 57,
    "start_time": "2023-07-27T15:14:56.973Z"
   },
   {
    "duration": 82,
    "start_time": "2023-07-27T15:14:57.032Z"
   },
   {
    "duration": 35,
    "start_time": "2023-07-27T15:14:57.115Z"
   },
   {
    "duration": 102,
    "start_time": "2023-07-27T15:14:57.152Z"
   },
   {
    "duration": 9,
    "start_time": "2023-07-27T15:14:57.256Z"
   },
   {
    "duration": 69,
    "start_time": "2023-07-27T15:14:57.268Z"
   },
   {
    "duration": 10,
    "start_time": "2023-07-27T15:14:57.342Z"
   },
   {
    "duration": 145,
    "start_time": "2023-07-27T15:14:57.362Z"
   },
   {
    "duration": 26,
    "start_time": "2023-07-27T15:14:57.511Z"
   },
   {
    "duration": 8,
    "start_time": "2023-07-27T15:14:57.539Z"
   },
   {
    "duration": 3666,
    "start_time": "2023-07-27T15:14:57.549Z"
   },
   {
    "duration": 1321,
    "start_time": "2023-07-27T15:15:01.217Z"
   },
   {
    "duration": 29,
    "start_time": "2023-07-27T15:15:02.541Z"
   },
   {
    "duration": 1423,
    "start_time": "2023-07-27T15:15:02.578Z"
   },
   {
    "duration": 21,
    "start_time": "2023-07-27T15:15:04.002Z"
   },
   {
    "duration": 8,
    "start_time": "2023-07-27T15:15:04.025Z"
   },
   {
    "duration": 51,
    "start_time": "2023-07-27T15:15:04.035Z"
   },
   {
    "duration": 12,
    "start_time": "2023-07-27T15:15:04.088Z"
   },
   {
    "duration": 27,
    "start_time": "2023-07-27T15:15:04.105Z"
   },
   {
    "duration": 11,
    "start_time": "2023-07-27T15:15:04.134Z"
   },
   {
    "duration": 76,
    "start_time": "2023-07-27T15:15:04.147Z"
   },
   {
    "duration": 11,
    "start_time": "2023-07-27T15:15:04.225Z"
   },
   {
    "duration": 59,
    "start_time": "2023-07-27T15:15:04.239Z"
   },
   {
    "duration": 12,
    "start_time": "2023-07-27T15:15:04.300Z"
   },
   {
    "duration": 14,
    "start_time": "2023-07-27T15:15:04.317Z"
   },
   {
    "duration": 15,
    "start_time": "2023-07-27T15:15:04.333Z"
   },
   {
    "duration": 84,
    "start_time": "2023-07-27T15:15:04.350Z"
   },
   {
    "duration": 30098,
    "start_time": "2023-07-27T15:15:04.436Z"
   },
   {
    "duration": 931451,
    "start_time": "2023-07-27T15:15:34.536Z"
   },
   {
    "duration": 8177,
    "start_time": "2023-07-27T15:31:05.989Z"
   },
   {
    "duration": 26,
    "start_time": "2023-07-27T15:31:14.169Z"
   },
   {
    "duration": 57,
    "start_time": "2023-07-27T15:31:14.199Z"
   },
   {
    "duration": 14,
    "start_time": "2023-07-27T15:31:14.261Z"
   },
   {
    "duration": 8914,
    "start_time": "2023-07-27T15:31:14.284Z"
   },
   {
    "duration": 8,
    "start_time": "2023-07-27T15:31:23.205Z"
   },
   {
    "duration": 20,
    "start_time": "2023-07-27T15:31:23.215Z"
   },
   {
    "duration": 1725,
    "start_time": "2023-07-28T07:53:52.476Z"
   },
   {
    "duration": 4,
    "start_time": "2023-07-28T08:07:16.098Z"
   },
   {
    "duration": 4,
    "start_time": "2023-07-28T08:07:27.830Z"
   },
   {
    "duration": 2031,
    "start_time": "2023-07-28T08:07:30.411Z"
   },
   {
    "duration": 3,
    "start_time": "2023-07-28T08:07:33.810Z"
   },
   {
    "duration": 157,
    "start_time": "2023-07-28T08:07:35.901Z"
   },
   {
    "duration": 46,
    "start_time": "2023-07-28T08:07:41.305Z"
   },
   {
    "duration": 121,
    "start_time": "2023-07-28T08:07:44.968Z"
   },
   {
    "duration": 14,
    "start_time": "2023-07-28T08:07:49.901Z"
   },
   {
    "duration": 5,
    "start_time": "2023-07-28T08:07:52.301Z"
   },
   {
    "duration": 5,
    "start_time": "2023-07-28T08:07:59.597Z"
   },
   {
    "duration": 6,
    "start_time": "2023-07-28T08:08:05.249Z"
   },
   {
    "duration": 29,
    "start_time": "2023-07-28T08:08:10.311Z"
   },
   {
    "duration": 57,
    "start_time": "2023-07-28T08:08:14.120Z"
   },
   {
    "duration": 5,
    "start_time": "2023-07-28T08:08:17.794Z"
   },
   {
    "duration": 6,
    "start_time": "2023-07-28T08:08:21.369Z"
   },
   {
    "duration": 4,
    "start_time": "2023-07-28T08:08:30.320Z"
   },
   {
    "duration": 9,
    "start_time": "2023-07-28T08:16:31.592Z"
   },
   {
    "duration": 993,
    "start_time": "2023-07-28T08:28:15.885Z"
   },
   {
    "duration": 2,
    "start_time": "2023-07-28T08:41:17.012Z"
   },
   {
    "duration": 3,
    "start_time": "2023-07-28T08:41:20.291Z"
   },
   {
    "duration": 3,
    "start_time": "2023-07-28T08:41:29.337Z"
   },
   {
    "duration": 4,
    "start_time": "2023-07-28T08:53:31.683Z"
   },
   {
    "duration": 4,
    "start_time": "2023-07-28T08:53:37.705Z"
   },
   {
    "duration": 7,
    "start_time": "2023-07-28T08:53:39.734Z"
   },
   {
    "duration": 3,
    "start_time": "2023-07-28T08:53:42.608Z"
   },
   {
    "duration": 3,
    "start_time": "2023-07-28T08:53:45.118Z"
   },
   {
    "duration": 2,
    "start_time": "2023-07-28T08:53:52.457Z"
   },
   {
    "duration": 8,
    "start_time": "2023-07-28T08:54:02.601Z"
   },
   {
    "duration": 3,
    "start_time": "2023-07-28T08:54:51.301Z"
   },
   {
    "duration": 802,
    "start_time": "2023-07-28T08:54:58.206Z"
   },
   {
    "duration": 3,
    "start_time": "2023-07-28T08:55:11.437Z"
   },
   {
    "duration": 3,
    "start_time": "2023-07-28T08:55:13.801Z"
   },
   {
    "duration": 350,
    "start_time": "2023-07-28T08:55:15.548Z"
   },
   {
    "duration": 3,
    "start_time": "2023-07-28T08:55:52.807Z"
   },
   {
    "duration": 694,
    "start_time": "2023-07-28T08:55:52.814Z"
   },
   {
    "duration": 3,
    "start_time": "2023-07-28T08:55:53.510Z"
   },
   {
    "duration": 178,
    "start_time": "2023-07-28T08:55:53.519Z"
   },
   {
    "duration": 47,
    "start_time": "2023-07-28T08:55:53.699Z"
   },
   {
    "duration": 134,
    "start_time": "2023-07-28T08:55:53.747Z"
   },
   {
    "duration": 15,
    "start_time": "2023-07-28T08:55:53.883Z"
   },
   {
    "duration": 8,
    "start_time": "2023-07-28T08:55:53.900Z"
   },
   {
    "duration": 5,
    "start_time": "2023-07-28T08:55:53.920Z"
   },
   {
    "duration": 18,
    "start_time": "2023-07-28T08:55:53.926Z"
   },
   {
    "duration": 20,
    "start_time": "2023-07-28T08:55:53.947Z"
   },
   {
    "duration": 12,
    "start_time": "2023-07-28T08:55:53.969Z"
   },
   {
    "duration": 6,
    "start_time": "2023-07-28T08:55:53.983Z"
   },
   {
    "duration": 6,
    "start_time": "2023-07-28T08:55:53.990Z"
   },
   {
    "duration": 15,
    "start_time": "2023-07-28T08:55:53.998Z"
   },
   {
    "duration": 17,
    "start_time": "2023-07-28T08:55:54.014Z"
   },
   {
    "duration": 28,
    "start_time": "2023-07-28T08:55:54.033Z"
   },
   {
    "duration": 7,
    "start_time": "2023-07-28T08:55:54.062Z"
   },
   {
    "duration": 7,
    "start_time": "2023-07-28T08:55:54.070Z"
   },
   {
    "duration": 2122,
    "start_time": "2023-07-28T08:55:54.078Z"
   },
   {
    "duration": 958,
    "start_time": "2023-07-28T08:55:56.202Z"
   },
   {
    "duration": 8,
    "start_time": "2023-07-28T08:55:57.161Z"
   },
   {
    "duration": 702,
    "start_time": "2023-07-28T08:55:57.170Z"
   },
   {
    "duration": 15,
    "start_time": "2023-07-28T08:55:57.873Z"
   },
   {
    "duration": 8,
    "start_time": "2023-07-28T08:55:57.889Z"
   },
   {
    "duration": 9,
    "start_time": "2023-07-28T08:55:57.898Z"
   },
   {
    "duration": 11,
    "start_time": "2023-07-28T08:55:57.908Z"
   },
   {
    "duration": 7,
    "start_time": "2023-07-28T08:55:57.920Z"
   },
   {
    "duration": 4,
    "start_time": "2023-07-28T08:55:57.930Z"
   },
   {
    "duration": 11,
    "start_time": "2023-07-28T08:55:57.935Z"
   },
   {
    "duration": 11,
    "start_time": "2023-07-28T08:55:57.947Z"
   },
   {
    "duration": 30,
    "start_time": "2023-07-28T08:55:57.959Z"
   },
   {
    "duration": 13,
    "start_time": "2023-07-28T08:55:57.990Z"
   },
   {
    "duration": 12,
    "start_time": "2023-07-28T08:55:58.004Z"
   },
   {
    "duration": 14,
    "start_time": "2023-07-28T08:55:58.017Z"
   },
   {
    "duration": 11,
    "start_time": "2023-07-28T08:55:58.032Z"
   },
   {
    "duration": 25605,
    "start_time": "2023-07-28T08:55:58.044Z"
   },
   {
    "duration": 23781,
    "start_time": "2023-07-28T08:56:23.650Z"
   },
   {
    "duration": 0,
    "start_time": "2023-07-28T08:56:47.433Z"
   },
   {
    "duration": 0,
    "start_time": "2023-07-28T08:56:47.434Z"
   },
   {
    "duration": 0,
    "start_time": "2023-07-28T08:56:47.435Z"
   },
   {
    "duration": 0,
    "start_time": "2023-07-28T08:56:47.436Z"
   },
   {
    "duration": 0,
    "start_time": "2023-07-28T08:56:47.437Z"
   },
   {
    "duration": 0,
    "start_time": "2023-07-28T08:56:47.438Z"
   },
   {
    "duration": 0,
    "start_time": "2023-07-28T08:56:47.439Z"
   },
   {
    "duration": 10,
    "start_time": "2023-07-28T09:14:43.161Z"
   },
   {
    "duration": 5,
    "start_time": "2023-07-28T09:14:52.329Z"
   },
   {
    "duration": 7750,
    "start_time": "2023-07-28T09:14:54.857Z"
   },
   {
    "duration": 4,
    "start_time": "2023-07-28T09:15:02.608Z"
   },
   {
    "duration": 9,
    "start_time": "2023-07-28T09:15:06.761Z"
   },
   {
    "duration": 7,
    "start_time": "2023-07-28T09:15:16.361Z"
   },
   {
    "duration": 409825,
    "start_time": "2023-07-28T10:03:21.924Z"
   },
   {
    "duration": 426778,
    "start_time": "2023-07-28T10:10:11.751Z"
   },
   {
    "duration": 4,
    "start_time": "2023-07-28T10:17:18.530Z"
   },
   {
    "duration": 852025,
    "start_time": "2023-07-28T10:47:06.322Z"
   },
   {
    "duration": 847090,
    "start_time": "2023-07-28T11:03:05.708Z"
   },
   {
    "duration": 825369,
    "start_time": "2023-07-28T11:18:08.930Z"
   },
   {
    "duration": 6150989,
    "start_time": "2023-07-28T11:50:18.403Z"
   },
   {
    "duration": 1502612,
    "start_time": "2023-07-28T13:33:36.920Z"
   },
   {
    "duration": 1488,
    "start_time": "2023-07-28T20:06:17.747Z"
   },
   {
    "duration": 1923,
    "start_time": "2023-07-28T20:06:19.237Z"
   },
   {
    "duration": 3,
    "start_time": "2023-07-28T20:06:21.162Z"
   },
   {
    "duration": 163,
    "start_time": "2023-07-28T20:06:21.166Z"
   },
   {
    "duration": 53,
    "start_time": "2023-07-28T20:06:21.332Z"
   },
   {
    "duration": 127,
    "start_time": "2023-07-28T20:06:21.399Z"
   },
   {
    "duration": 12,
    "start_time": "2023-07-28T20:06:21.527Z"
   },
   {
    "duration": 9,
    "start_time": "2023-07-28T20:06:21.541Z"
   },
   {
    "duration": 7,
    "start_time": "2023-07-28T20:06:21.551Z"
   },
   {
    "duration": 6,
    "start_time": "2023-07-28T20:06:21.560Z"
   },
   {
    "duration": 47,
    "start_time": "2023-07-28T20:06:21.567Z"
   },
   {
    "duration": 8,
    "start_time": "2023-07-28T20:06:21.616Z"
   },
   {
    "duration": 4,
    "start_time": "2023-07-28T20:06:21.626Z"
   },
   {
    "duration": 5,
    "start_time": "2023-07-28T20:06:21.634Z"
   },
   {
    "duration": 3,
    "start_time": "2023-07-28T20:06:21.641Z"
   },
   {
    "duration": 9,
    "start_time": "2023-07-28T20:06:21.646Z"
   },
   {
    "duration": 80,
    "start_time": "2023-07-28T20:06:21.656Z"
   },
   {
    "duration": 11,
    "start_time": "2023-07-28T20:06:21.738Z"
   },
   {
    "duration": 3,
    "start_time": "2023-07-28T20:06:21.750Z"
   },
   {
    "duration": 2084,
    "start_time": "2023-07-28T20:06:21.754Z"
   },
   {
    "duration": 824,
    "start_time": "2023-07-28T20:06:23.840Z"
   },
   {
    "duration": 7,
    "start_time": "2023-07-28T20:06:24.665Z"
   },
   {
    "duration": 833,
    "start_time": "2023-07-28T20:06:24.673Z"
   },
   {
    "duration": 17,
    "start_time": "2023-07-28T20:06:25.508Z"
   },
   {
    "duration": 4,
    "start_time": "2023-07-28T20:06:25.527Z"
   },
   {
    "duration": 7,
    "start_time": "2023-07-28T20:06:25.532Z"
   },
   {
    "duration": 12,
    "start_time": "2023-07-28T20:06:25.540Z"
   },
   {
    "duration": 10,
    "start_time": "2023-07-28T20:06:25.553Z"
   },
   {
    "duration": 5,
    "start_time": "2023-07-28T20:06:25.564Z"
   },
   {
    "duration": 9,
    "start_time": "2023-07-28T20:06:25.570Z"
   },
   {
    "duration": 5,
    "start_time": "2023-07-28T20:06:25.580Z"
   },
   {
    "duration": 14,
    "start_time": "2023-07-28T20:06:25.586Z"
   },
   {
    "duration": 5,
    "start_time": "2023-07-28T20:06:25.602Z"
   },
   {
    "duration": 8,
    "start_time": "2023-07-28T20:06:25.608Z"
   },
   {
    "duration": 5,
    "start_time": "2023-07-28T20:06:25.617Z"
   },
   {
    "duration": 4,
    "start_time": "2023-07-28T20:06:25.623Z"
   },
   {
    "duration": 26282,
    "start_time": "2023-07-28T20:06:25.629Z"
   },
   {
    "duration": 6883894,
    "start_time": "2023-07-28T20:06:51.912Z"
   },
   {
    "duration": 3,
    "start_time": "2023-07-28T22:01:35.807Z"
   },
   {
    "duration": 2092,
    "start_time": "2023-07-28T22:01:35.811Z"
   },
   {
    "duration": 6,
    "start_time": "2023-07-28T22:01:37.907Z"
   },
   {
    "duration": 235,
    "start_time": "2023-07-28T22:01:37.914Z"
   },
   {
    "duration": 0,
    "start_time": "2023-07-28T22:01:38.151Z"
   },
   {
    "duration": 0,
    "start_time": "2023-07-28T22:01:38.152Z"
   },
   {
    "duration": 0,
    "start_time": "2023-07-28T22:01:38.152Z"
   },
   {
    "duration": 0,
    "start_time": "2023-07-28T22:01:38.153Z"
   },
   {
    "duration": 47,
    "start_time": "2023-07-29T10:18:08.736Z"
   },
   {
    "duration": 1560,
    "start_time": "2023-07-29T10:20:19.230Z"
   },
   {
    "duration": 3169,
    "start_time": "2023-07-29T10:20:20.792Z"
   },
   {
    "duration": 4,
    "start_time": "2023-07-29T10:20:23.963Z"
   },
   {
    "duration": 192,
    "start_time": "2023-07-29T10:20:23.969Z"
   },
   {
    "duration": 51,
    "start_time": "2023-07-29T10:20:24.163Z"
   },
   {
    "duration": 162,
    "start_time": "2023-07-29T10:20:24.216Z"
   },
   {
    "duration": 12,
    "start_time": "2023-07-29T10:20:24.380Z"
   },
   {
    "duration": 12,
    "start_time": "2023-07-29T10:20:24.394Z"
   },
   {
    "duration": 9,
    "start_time": "2023-07-29T10:20:24.407Z"
   },
   {
    "duration": 13,
    "start_time": "2023-07-29T10:20:24.419Z"
   },
   {
    "duration": 44,
    "start_time": "2023-07-29T10:20:24.433Z"
   },
   {
    "duration": 8,
    "start_time": "2023-07-29T10:20:24.479Z"
   },
   {
    "duration": 9,
    "start_time": "2023-07-29T10:20:24.488Z"
   },
   {
    "duration": 13,
    "start_time": "2023-07-29T10:20:24.498Z"
   },
   {
    "duration": 10,
    "start_time": "2023-07-29T10:20:24.513Z"
   },
   {
    "duration": 25,
    "start_time": "2023-07-29T10:20:24.525Z"
   },
   {
    "duration": 34,
    "start_time": "2023-07-29T10:20:24.551Z"
   },
   {
    "duration": 9,
    "start_time": "2023-07-29T10:20:24.586Z"
   },
   {
    "duration": 3,
    "start_time": "2023-07-29T10:20:24.597Z"
   },
   {
    "duration": 2468,
    "start_time": "2023-07-29T10:20:24.601Z"
   },
   {
    "duration": 952,
    "start_time": "2023-07-29T10:20:27.071Z"
   },
   {
    "duration": 8,
    "start_time": "2023-07-29T10:20:28.025Z"
   },
   {
    "duration": 1084,
    "start_time": "2023-07-29T10:20:28.034Z"
   },
   {
    "duration": 17,
    "start_time": "2023-07-29T10:20:29.121Z"
   },
   {
    "duration": 18,
    "start_time": "2023-07-29T10:20:29.139Z"
   },
   {
    "duration": 19,
    "start_time": "2023-07-29T10:20:29.158Z"
   },
   {
    "duration": 30,
    "start_time": "2023-07-29T10:20:29.178Z"
   },
   {
    "duration": 22,
    "start_time": "2023-07-29T10:20:29.212Z"
   },
   {
    "duration": 41,
    "start_time": "2023-07-29T10:20:29.236Z"
   },
   {
    "duration": 30,
    "start_time": "2023-07-29T10:20:29.279Z"
   },
   {
    "duration": 9,
    "start_time": "2023-07-29T10:20:29.310Z"
   },
   {
    "duration": 17,
    "start_time": "2023-07-29T10:20:29.320Z"
   },
   {
    "duration": 10,
    "start_time": "2023-07-29T10:20:29.338Z"
   },
   {
    "duration": 26,
    "start_time": "2023-07-29T10:20:29.349Z"
   },
   {
    "duration": 11,
    "start_time": "2023-07-29T10:20:29.377Z"
   },
   {
    "duration": 18,
    "start_time": "2023-07-29T10:20:29.389Z"
   },
   {
    "duration": 22222,
    "start_time": "2023-07-29T10:20:29.409Z"
   },
   {
    "duration": 6135230,
    "start_time": "2023-07-29T10:20:51.633Z"
   },
   {
    "duration": 4293,
    "start_time": "2023-07-29T12:03:06.874Z"
   },
   {
    "duration": 7,
    "start_time": "2023-07-29T12:03:11.170Z"
   },
   {
    "duration": 222,
    "start_time": "2023-07-29T12:03:11.179Z"
   },
   {
    "duration": 0,
    "start_time": "2023-07-29T12:03:11.402Z"
   },
   {
    "duration": 0,
    "start_time": "2023-07-29T12:03:11.404Z"
   },
   {
    "duration": 0,
    "start_time": "2023-07-29T12:03:11.405Z"
   },
   {
    "duration": 0,
    "start_time": "2023-07-29T12:03:11.407Z"
   },
   {
    "duration": 4,
    "start_time": "2023-07-29T12:11:03.459Z"
   },
   {
    "duration": 6,
    "start_time": "2023-07-29T12:11:10.901Z"
   },
   {
    "duration": 12523,
    "start_time": "2023-07-29T12:11:14.213Z"
   },
   {
    "duration": 5,
    "start_time": "2023-07-29T12:11:36.016Z"
   },
   {
    "duration": 12,
    "start_time": "2023-07-29T12:11:58.796Z"
   }
  ],
  "kernelspec": {
   "display_name": "Python 3 (ipykernel)",
   "language": "python",
   "name": "python3"
  },
  "language_info": {
   "codemirror_mode": {
    "name": "ipython",
    "version": 3
   },
   "file_extension": ".py",
   "mimetype": "text/x-python",
   "name": "python",
   "nbconvert_exporter": "python",
   "pygments_lexer": "ipython3",
   "version": "3.10.9"
  },
  "toc": {
   "base_numbering": 1,
   "nav_menu": {},
   "number_sections": true,
   "sideBar": true,
   "skip_h1_title": true,
   "title_cell": "Содержание",
   "title_sidebar": "Contents",
   "toc_cell": true,
   "toc_position": {},
   "toc_section_display": true,
   "toc_window_display": true
  }
 },
 "nbformat": 4,
 "nbformat_minor": 2
}
