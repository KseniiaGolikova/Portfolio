{
 "cells": [
  {
   "cell_type": "markdown",
   "metadata": {
    "toc": true
   },
   "source": [
    "<h1>Содержание<span class=\"tocSkip\"></span></h1>\n",
    "<div class=\"toc\"><ul class=\"toc-item\"><li><span><a href=\"#Обзор-данных\" data-toc-modified-id=\"Обзор-данных-1\"><span class=\"toc-item-num\">1&nbsp;&nbsp;</span>Обзор данных</a></span><ul class=\"toc-item\"><li><span><a href=\"#Выводы-по-разделу-1\" data-toc-modified-id=\"Выводы-по-разделу-1-1.1\"><span class=\"toc-item-num\">1.1&nbsp;&nbsp;</span>Выводы по разделу 1</a></span></li></ul></li><li><span><a href=\"#Подготовка-данных\" data-toc-modified-id=\"Подготовка-данных-2\"><span class=\"toc-item-num\">2&nbsp;&nbsp;</span>Подготовка данных</a></span><ul class=\"toc-item\"><li><span><a href=\"#Выводы-по-разделу-2\" data-toc-modified-id=\"Выводы-по-разделу-2-2.1\"><span class=\"toc-item-num\">2.1&nbsp;&nbsp;</span>Выводы по разделу 2</a></span></li></ul></li><li><span><a href=\"#Обучение\" data-toc-modified-id=\"Обучение-3\"><span class=\"toc-item-num\">3&nbsp;&nbsp;</span>Обучение</a></span><ul class=\"toc-item\"><li><span><a href=\"#Логистическая-регрессия\" data-toc-modified-id=\"Логистическая-регрессия-3.1\"><span class=\"toc-item-num\">3.1&nbsp;&nbsp;</span>Логистическая регрессия</a></span></li><li><span><a href=\"#RandomForestClassifier\" data-toc-modified-id=\"RandomForestClassifier-3.2\"><span class=\"toc-item-num\">3.2&nbsp;&nbsp;</span>RandomForestClassifier</a></span></li><li><span><a href=\"#Модель-CatBoostClassifier\" data-toc-modified-id=\"Модель-CatBoostClassifier-3.3\"><span class=\"toc-item-num\">3.3&nbsp;&nbsp;</span>Модель CatBoostClassifier</a></span></li></ul></li><li><span><a href=\"#Проверка-наилучшей-модели-на-тестовой-выборке\" data-toc-modified-id=\"Проверка-наилучшей-модели-на-тестовой-выборке-4\"><span class=\"toc-item-num\">4&nbsp;&nbsp;</span>Проверка наилучшей модели на тестовой выборке</a></span></li><li><span><a href=\"#Выводы\" data-toc-modified-id=\"Выводы-5\"><span class=\"toc-item-num\">5&nbsp;&nbsp;</span>Выводы</a></span></li><li><span><a href=\"#Чек-лист-проверки\" data-toc-modified-id=\"Чек-лист-проверки-6\"><span class=\"toc-item-num\">6&nbsp;&nbsp;</span>Чек-лист проверки</a></span></li></ul></div>"
   ]
  },
  {
   "cell_type": "markdown",
   "metadata": {},
   "source": [
    "# Проект для «Викишоп»"
   ]
  },
  {
   "cell_type": "markdown",
   "metadata": {},
   "source": [
    "Интернет-магазин «Викишоп» запускает новый сервис. Теперь пользователи могут редактировать и дополнять описания товаров, как в вики-сообществах. То есть клиенты предлагают свои правки и комментируют изменения других. Магазину нужен инструмент, который будет искать токсичные комментарии и отправлять их на модерацию. \n",
    "\n",
    "**Наша Задача** Найти и обучить модель классифицировать комментарии на позитивные и негативные. Необходимо построить модель со значением метрики качества *F1* не меньше 0.75. \n",
    "\n",
    "В нашем распоряжении набор данных с разметкой о токсичности правок.\n",
    "\n",
    "**План действий**\n",
    "\n",
    "1. Загрузка необходимых библиотек и проведение обзора имеющихся данных.\n",
    "2. Подготовка данных к обучению\n",
    "3. Обучение нескольких видов моделей. \n",
    "4. Формулирование выводов и рекомендаций заказчику.\n",
    "\n"
   ]
  },
  {
   "cell_type": "markdown",
   "metadata": {},
   "source": [
    "## Обзор данных"
   ]
  },
  {
   "cell_type": "markdown",
   "metadata": {},
   "source": [
    "Выгрузим необходимые для проведения исследования библиотеки"
   ]
  },
  {
   "cell_type": "code",
   "execution_count": 1,
   "metadata": {},
   "outputs": [],
   "source": [
    "import warnings\n",
    "warnings.filterwarnings(\"ignore\")"
   ]
  },
  {
   "cell_type": "code",
   "execution_count": 2,
   "metadata": {},
   "outputs": [
    {
     "name": "stderr",
     "output_type": "stream",
     "text": [
      "[nltk_data] Downloading package wordnet to\n",
      "[nltk_data]     C:\\Users\\kseni\\AppData\\Roaming\\nltk_data...\n",
      "[nltk_data]   Package wordnet is already up-to-date!\n",
      "[nltk_data] Downloading package stopwords to\n",
      "[nltk_data]     C:\\Users\\kseni\\AppData\\Roaming\\nltk_data...\n",
      "[nltk_data]   Package stopwords is already up-to-date!\n",
      "[nltk_data] Downloading package punkt to\n",
      "[nltk_data]     C:\\Users\\kseni\\AppData\\Roaming\\nltk_data...\n",
      "[nltk_data]   Package punkt is already up-to-date!\n",
      "[nltk_data] Downloading package averaged_perceptron_tagger to\n",
      "[nltk_data]     C:\\Users\\kseni\\AppData\\Roaming\\nltk_data...\n",
      "[nltk_data]   Package averaged_perceptron_tagger is already up-to-\n",
      "[nltk_data]       date!\n"
     ]
    },
    {
     "data": {
      "text/plain": [
       "True"
      ]
     },
     "execution_count": 2,
     "metadata": {},
     "output_type": "execute_result"
    }
   ],
   "source": [
    "import pandas as pd\n",
    "import nltk\n",
    "from nltk.stem import WordNetLemmatizer \n",
    "from nltk.corpus import wordnet\n",
    "import re\n",
    "from sklearn.feature_extraction.text import TfidfVectorizer\n",
    "from nltk.corpus import stopwords as nltk_stopwords\n",
    "from sklearn.pipeline import Pipeline\n",
    "from sklearn.linear_model import LogisticRegression\n",
    "from catboost import CatBoostClassifier\n",
    "from sklearn.ensemble import RandomForestClassifier\n",
    "from sklearn.tree import DecisionTreeClassifier\n",
    "from sklearn.model_selection import RandomizedSearchCV\n",
    "from sklearn.model_selection import train_test_split\n",
    "from sklearn.metrics import f1_score, confusion_matrix\n",
    "from sklearn.model_selection import train_test_split, cross_val_score, GridSearchCV\n",
    "nltk.download('wordnet')\n",
    "nltk.download('stopwords')\n",
    "nltk.download('punkt')\n",
    "nltk.download('averaged_perceptron_tagger')"
   ]
  },
  {
   "cell_type": "markdown",
   "metadata": {},
   "source": [
    "Загрузим датасет"
   ]
  },
  {
   "cell_type": "code",
   "execution_count": 3,
   "metadata": {},
   "outputs": [],
   "source": [
    "toxic_comments = pd.read_csv('C:/Users/kseni/OneDrive/Desktop/практика/датасеты/toxic_comments.csv')"
   ]
  },
  {
   "cell_type": "markdown",
   "metadata": {},
   "source": [
    "Посмотрим информацию об имеющемся датасете"
   ]
  },
  {
   "cell_type": "code",
   "execution_count": 4,
   "metadata": {},
   "outputs": [
    {
     "name": "stdout",
     "output_type": "stream",
     "text": [
      "<class 'pandas.core.frame.DataFrame'>\n",
      "RangeIndex: 159292 entries, 0 to 159291\n",
      "Data columns (total 3 columns):\n",
      " #   Column      Non-Null Count   Dtype \n",
      "---  ------      --------------   ----- \n",
      " 0   Unnamed: 0  159292 non-null  int64 \n",
      " 1   text        159292 non-null  object\n",
      " 2   toxic       159292 non-null  int64 \n",
      "dtypes: int64(2), object(1)\n",
      "memory usage: 3.6+ MB\n"
     ]
    }
   ],
   "source": [
    "toxic_comments.info()"
   ]
  },
  {
   "cell_type": "code",
   "execution_count": 5,
   "metadata": {},
   "outputs": [
    {
     "data": {
      "text/html": [
       "<div>\n",
       "<style scoped>\n",
       "    .dataframe tbody tr th:only-of-type {\n",
       "        vertical-align: middle;\n",
       "    }\n",
       "\n",
       "    .dataframe tbody tr th {\n",
       "        vertical-align: top;\n",
       "    }\n",
       "\n",
       "    .dataframe thead th {\n",
       "        text-align: right;\n",
       "    }\n",
       "</style>\n",
       "<table border=\"1\" class=\"dataframe\">\n",
       "  <thead>\n",
       "    <tr style=\"text-align: right;\">\n",
       "      <th></th>\n",
       "      <th>Unnamed: 0</th>\n",
       "      <th>text</th>\n",
       "      <th>toxic</th>\n",
       "    </tr>\n",
       "  </thead>\n",
       "  <tbody>\n",
       "    <tr>\n",
       "      <th>114518</th>\n",
       "      <td>114616</td>\n",
       "      <td>Hi, \\n\\na small thing, but shouldn't the words...</td>\n",
       "      <td>0</td>\n",
       "    </tr>\n",
       "    <tr>\n",
       "      <th>30581</th>\n",
       "      <td>30621</td>\n",
       "      <td>I have mixed feelings about an FA of the year ...</td>\n",
       "      <td>0</td>\n",
       "    </tr>\n",
       "    <tr>\n",
       "      <th>79928</th>\n",
       "      <td>80004</td>\n",
       "      <td>\"\\n Your submission at Articles for creation \\...</td>\n",
       "      <td>0</td>\n",
       "    </tr>\n",
       "    <tr>\n",
       "      <th>128163</th>\n",
       "      <td>128295</td>\n",
       "      <td>\":::::: Appreciate your comments.  IMO, Wikipe...</td>\n",
       "      <td>0</td>\n",
       "    </tr>\n",
       "    <tr>\n",
       "      <th>154350</th>\n",
       "      <td>154507</td>\n",
       "      <td>So let me see if I understand this correctly. ...</td>\n",
       "      <td>0</td>\n",
       "    </tr>\n",
       "    <tr>\n",
       "      <th>52202</th>\n",
       "      <td>52259</td>\n",
       "      <td>\"Gunner POV ==\\n\\nThe remarks about \"\"gunners\"...</td>\n",
       "      <td>0</td>\n",
       "    </tr>\n",
       "    <tr>\n",
       "      <th>27299</th>\n",
       "      <td>27336</td>\n",
       "      <td>\"\\n\\nImage copyright problem with Image:Catani...</td>\n",
       "      <td>0</td>\n",
       "    </tr>\n",
       "    <tr>\n",
       "      <th>116724</th>\n",
       "      <td>116823</td>\n",
       "      <td>The whole moon landing was fake.. if it was tr...</td>\n",
       "      <td>0</td>\n",
       "    </tr>\n",
       "    <tr>\n",
       "      <th>19741</th>\n",
       "      <td>19761</td>\n",
       "      <td>That's not true at all.  Name one area WITH VE...</td>\n",
       "      <td>0</td>\n",
       "    </tr>\n",
       "    <tr>\n",
       "      <th>93358</th>\n",
       "      <td>93450</td>\n",
       "      <td>\"\\n\\nHello HeirToPendragon, I'm  from the Asso...</td>\n",
       "      <td>0</td>\n",
       "    </tr>\n",
       "  </tbody>\n",
       "</table>\n",
       "</div>"
      ],
      "text/plain": [
       "        Unnamed: 0                                               text  toxic\n",
       "114518      114616  Hi, \\n\\na small thing, but shouldn't the words...      0\n",
       "30581        30621  I have mixed feelings about an FA of the year ...      0\n",
       "79928        80004  \"\\n Your submission at Articles for creation \\...      0\n",
       "128163      128295  \":::::: Appreciate your comments.  IMO, Wikipe...      0\n",
       "154350      154507  So let me see if I understand this correctly. ...      0\n",
       "52202        52259  \"Gunner POV ==\\n\\nThe remarks about \"\"gunners\"...      0\n",
       "27299        27336  \"\\n\\nImage copyright problem with Image:Catani...      0\n",
       "116724      116823  The whole moon landing was fake.. if it was tr...      0\n",
       "19741        19761  That's not true at all.  Name one area WITH VE...      0\n",
       "93358        93450  \"\\n\\nHello HeirToPendragon, I'm  from the Asso...      0"
      ]
     },
     "execution_count": 5,
     "metadata": {},
     "output_type": "execute_result"
    }
   ],
   "source": [
    "toxic_comments.sample(10)"
   ]
  },
  {
   "cell_type": "markdown",
   "metadata": {},
   "source": [
    "Посмотрим на сбалансированность классов в целевой признаке"
   ]
  },
  {
   "cell_type": "code",
   "execution_count": 6,
   "metadata": {},
   "outputs": [
    {
     "data": {
      "image/png": "[encoded data removed]",
      "text/plain": [
       "<Figure size 640x480 with 1 Axes>"
      ]
     },
     "metadata": {},
     "output_type": "display_data"
    }
   ],
   "source": [
    "toxic_comments['toxic'].value_counts().plot(kind='bar', title='Распределение классов');\n"
   ]
  },
  {
   "cell_type": "markdown",
   "metadata": {},
   "source": [
    "Наблюдается сильный дисбаланс классов, что в будущем нужно будет учитывать при обучении моделей"
   ]
  },
  {
   "cell_type": "markdown",
   "metadata": {},
   "source": [
    "Посмотрим на наличие дубликатов и пропусков"
   ]
  },
  {
   "cell_type": "code",
   "execution_count": 7,
   "metadata": {
    "scrolled": true
   },
   "outputs": [
    {
     "name": "stdout",
     "output_type": "stream",
     "text": [
      "-----------------------------------------------------------------\n",
      "Количество явных Дубликатов - 0\n",
      "-----------------------------------------------------------------\n",
      "Количество Пропусков:\n"
     ]
    },
    {
     "data": {
      "text/plain": [
       "Unnamed: 0    0\n",
       "text          0\n",
       "toxic         0\n",
       "dtype: int64"
      ]
     },
     "metadata": {},
     "output_type": "display_data"
    }
   ],
   "source": [
    "print('-----------------------------------------------------------------')\n",
    "\n",
    "print('Количество явных Дубликатов -', toxic_comments.duplicated().sum())\n",
    "\n",
    "print('-----------------------------------------------------------------')\n",
    "\n",
    "print('Количество Пропусков:')\n",
    "display(toxic_comments.isna().sum())"
   ]
  },
  {
   "cell_type": "markdown",
   "metadata": {},
   "source": [
    "### Выводы по разделу 1"
   ]
  },
  {
   "cell_type": "markdown",
   "metadata": {},
   "source": [
    "\n",
    "\n",
    "1. На вход мы получили датасет соостоящий из трех столбцов `Unnamed: 0`, `text`, `toxic` и 159292 строк. \n",
    "\n",
    "   - В столбце `text` находятся интересующие нас комментарии, из которых далее мы сформируем признаки, принимаемые моделями.\n",
    "   - В столбце `toxic` находится целевой признак, обозначемый в случае положительного комментария \"1\", в случае отрицательного \"0\".\n",
    "   - В столбце `Unnamed: 0` фактически дублируются индексы, поэтому для дальнейших исследований он нам не нужен поэтому мы его удалим\n",
    "   \n",
    "2. В данных не обнаружено не дубликатов, ни пропусков\n",
    "\n",
    "3. В данных присуствует сильный дисбаланс классов, поэтому при обучении моделей нужно будет это учитывать\n",
    "\n",
    "4. В текстах комментариев помимо букв английского алфавита присутствуют лишние знаки, поэтому при подготовки данных тексты нужно будет почистить\n",
    "   \n",
    "\n"
   ]
  },
  {
   "cell_type": "markdown",
   "metadata": {},
   "source": [
    "## Подготовка данных"
   ]
  },
  {
   "cell_type": "markdown",
   "metadata": {},
   "source": [
    "Удалим столбец Unnamed: 0, так как он фактически дублирует индексы"
   ]
  },
  {
   "cell_type": "code",
   "execution_count": 8,
   "metadata": {},
   "outputs": [],
   "source": [
    "toxic_comments = toxic_comments.drop(['Unnamed: 0'], axis=1)"
   ]
  },
  {
   "cell_type": "markdown",
   "metadata": {},
   "source": [
    "Очистим текст от лишних символов. Для этого напишем функцию с использованием регулрных выражений, которая оставит в тексте только символы английского алфавита и пробелы"
   ]
  },
  {
   "cell_type": "code",
   "execution_count": 9,
   "metadata": {},
   "outputs": [],
   "source": [
    "def clear_text(text):\n",
    "    clear_list = re.sub(r'[^a-zA-Z ]', ' ', text)\n",
    "    clear_text = \" \".join(clear_list.split())\n",
    "    return clear_text"
   ]
  },
  {
   "cell_type": "markdown",
   "metadata": {},
   "source": [
    "Применим функцию"
   ]
  },
  {
   "cell_type": "code",
   "execution_count": 10,
   "metadata": {},
   "outputs": [],
   "source": [
    "toxic_comments['text'] = toxic_comments['text'].apply(clear_text)"
   ]
  },
  {
   "cell_type": "code",
   "execution_count": 11,
   "metadata": {},
   "outputs": [
    {
     "data": {
      "text/html": [
       "<div>\n",
       "<style scoped>\n",
       "    .dataframe tbody tr th:only-of-type {\n",
       "        vertical-align: middle;\n",
       "    }\n",
       "\n",
       "    .dataframe tbody tr th {\n",
       "        vertical-align: top;\n",
       "    }\n",
       "\n",
       "    .dataframe thead th {\n",
       "        text-align: right;\n",
       "    }\n",
       "</style>\n",
       "<table border=\"1\" class=\"dataframe\">\n",
       "  <thead>\n",
       "    <tr style=\"text-align: right;\">\n",
       "      <th></th>\n",
       "      <th>text</th>\n",
       "      <th>toxic</th>\n",
       "    </tr>\n",
       "  </thead>\n",
       "  <tbody>\n",
       "    <tr>\n",
       "      <th>0</th>\n",
       "      <td>Explanation Why the edits made under my userna...</td>\n",
       "      <td>0</td>\n",
       "    </tr>\n",
       "    <tr>\n",
       "      <th>1</th>\n",
       "      <td>D aww He matches this background colour I m se...</td>\n",
       "      <td>0</td>\n",
       "    </tr>\n",
       "    <tr>\n",
       "      <th>2</th>\n",
       "      <td>Hey man I m really not trying to edit war It s...</td>\n",
       "      <td>0</td>\n",
       "    </tr>\n",
       "    <tr>\n",
       "      <th>3</th>\n",
       "      <td>More I can t make any real suggestions on impr...</td>\n",
       "      <td>0</td>\n",
       "    </tr>\n",
       "    <tr>\n",
       "      <th>4</th>\n",
       "      <td>You sir are my hero Any chance you remember wh...</td>\n",
       "      <td>0</td>\n",
       "    </tr>\n",
       "  </tbody>\n",
       "</table>\n",
       "</div>"
      ],
      "text/plain": [
       "                                                text  toxic\n",
       "0  Explanation Why the edits made under my userna...      0\n",
       "1  D aww He matches this background colour I m se...      0\n",
       "2  Hey man I m really not trying to edit war It s...      0\n",
       "3  More I can t make any real suggestions on impr...      0\n",
       "4  You sir are my hero Any chance you remember wh...      0"
      ]
     },
     "execution_count": 11,
     "metadata": {},
     "output_type": "execute_result"
    }
   ],
   "source": [
    "toxic_comments.head()"
   ]
  },
  {
   "cell_type": "markdown",
   "metadata": {},
   "source": [
    "Лемматизируем текст с помощью библиотеки WordNet:"
   ]
  },
  {
   "cell_type": "code",
   "execution_count": 12,
   "metadata": {},
   "outputs": [],
   "source": [
    "def get_wordnet_pos(word):\n",
    "    tag = nltk.pos_tag([word])[0][1][0].upper()\n",
    "    tag_dict = {\"J\": wordnet.ADJ,               #прилагательное\n",
    "                \"N\": wordnet.NOUN,              #существительное\n",
    "                \"V\": wordnet.VERB,              #глагол\n",
    "                \"R\": wordnet.ADV                #наречие\n",
    "               }  \n",
    "    return tag_dict.get(tag, wordnet.NOUN)\n",
    "\n",
    "\n",
    "m = WordNetLemmatizer()\n",
    "\n",
    "def lemmatize(text):\n",
    "    text = [m.lemmatize(w, get_wordnet_pos(w)) for w in nltk.word_tokenize(text)]\n",
    "    return ' '.join(text)\n"
   ]
  },
  {
   "cell_type": "markdown",
   "metadata": {},
   "source": [
    "Применим функцию"
   ]
  },
  {
   "cell_type": "code",
   "execution_count": 13,
   "metadata": {},
   "outputs": [],
   "source": [
    "toxic_comments['text'] = toxic_comments['text'].apply(lemmatize)"
   ]
  },
  {
   "cell_type": "code",
   "execution_count": 14,
   "metadata": {},
   "outputs": [
    {
     "data": {
      "text/html": [
       "<div>\n",
       "<style scoped>\n",
       "    .dataframe tbody tr th:only-of-type {\n",
       "        vertical-align: middle;\n",
       "    }\n",
       "\n",
       "    .dataframe tbody tr th {\n",
       "        vertical-align: top;\n",
       "    }\n",
       "\n",
       "    .dataframe thead th {\n",
       "        text-align: right;\n",
       "    }\n",
       "</style>\n",
       "<table border=\"1\" class=\"dataframe\">\n",
       "  <thead>\n",
       "    <tr style=\"text-align: right;\">\n",
       "      <th></th>\n",
       "      <th>text</th>\n",
       "      <th>toxic</th>\n",
       "    </tr>\n",
       "  </thead>\n",
       "  <tbody>\n",
       "    <tr>\n",
       "      <th>0</th>\n",
       "      <td>Explanation Why the edits make under my userna...</td>\n",
       "      <td>0</td>\n",
       "    </tr>\n",
       "    <tr>\n",
       "      <th>1</th>\n",
       "      <td>D aww He match this background colour I m seem...</td>\n",
       "      <td>0</td>\n",
       "    </tr>\n",
       "    <tr>\n",
       "      <th>2</th>\n",
       "      <td>Hey man I m really not try to edit war It s ju...</td>\n",
       "      <td>0</td>\n",
       "    </tr>\n",
       "    <tr>\n",
       "      <th>3</th>\n",
       "      <td>More I can t make any real suggestion on impro...</td>\n",
       "      <td>0</td>\n",
       "    </tr>\n",
       "    <tr>\n",
       "      <th>4</th>\n",
       "      <td>You sir be my hero Any chance you remember wha...</td>\n",
       "      <td>0</td>\n",
       "    </tr>\n",
       "  </tbody>\n",
       "</table>\n",
       "</div>"
      ],
      "text/plain": [
       "                                                text  toxic\n",
       "0  Explanation Why the edits make under my userna...      0\n",
       "1  D aww He match this background colour I m seem...      0\n",
       "2  Hey man I m really not try to edit war It s ju...      0\n",
       "3  More I can t make any real suggestion on impro...      0\n",
       "4  You sir be my hero Any chance you remember wha...      0"
      ]
     },
     "execution_count": 14,
     "metadata": {},
     "output_type": "execute_result"
    }
   ],
   "source": [
    "toxic_comments.head()"
   ]
  },
  {
   "cell_type": "markdown",
   "metadata": {},
   "source": [
    "Разобьем выборки"
   ]
  },
  {
   "cell_type": "code",
   "execution_count": 15,
   "metadata": {},
   "outputs": [
    {
     "name": "stdout",
     "output_type": "stream",
     "text": [
      "(127433, 2) (31859, 2)\n"
     ]
    }
   ],
   "source": [
    "train, test = train_test_split(toxic_comments, test_size=0.2, random_state=12345)\n",
    "print(train.shape, test.shape)"
   ]
  },
  {
   "cell_type": "markdown",
   "metadata": {},
   "source": [
    "Создадим корпус текстов и целевой признак для каждой выборки (train и test):"
   ]
  },
  {
   "cell_type": "code",
   "execution_count": 16,
   "metadata": {},
   "outputs": [
    {
     "name": "stdout",
     "output_type": "stream",
     "text": [
      "(127433,) (31859,)\n",
      "(127433,) (31859,)\n"
     ]
    }
   ],
   "source": [
    "corpus_train = train['text'].values\n",
    "corpus_test = test['text'].values\n",
    "\n",
    "target_train = train['toxic']\n",
    "target_test = test['toxic']\n",
    "\n",
    "print(corpus_train.shape, corpus_test.shape)\n",
    "print(target_train.shape, target_test.shape)"
   ]
  },
  {
   "cell_type": "markdown",
   "metadata": {},
   "source": [
    "Вычислим TF-IDF для корпуса текстов, указав стоп-слова:"
   ]
  },
  {
   "cell_type": "code",
   "execution_count": 17,
   "metadata": {},
   "outputs": [
    {
     "name": "stderr",
     "output_type": "stream",
     "text": [
      "[nltk_data] Downloading package stopwords to\n",
      "[nltk_data]     C:\\Users\\kseni\\AppData\\Roaming\\nltk_data...\n",
      "[nltk_data]   Package stopwords is already up-to-date!\n"
     ]
    },
    {
     "name": "stdout",
     "output_type": "stream",
     "text": [
      "Размер матрицы: (127433, 55867)\n",
      "Размер матрицы: (31859, 55867)\n"
     ]
    }
   ],
   "source": [
    "nltk.download('stopwords')\n",
    "stopwords = set(nltk_stopwords.words('english'))\n",
    "\n",
    "count_tf_idf = TfidfVectorizer(min_df=2, stop_words=list(stopwords)) \n",
    "tf_idf_train = count_tf_idf.fit_transform(corpus_train) \n",
    "tf_idf_test = count_tf_idf.transform(corpus_test) \n",
    "\n",
    "print(\"Размер матрицы:\", tf_idf_train.shape)\n",
    "print(\"Размер матрицы:\", tf_idf_test.shape)"
   ]
  },
  {
   "cell_type": "markdown",
   "metadata": {},
   "source": [
    "### Выводы по разделу 2"
   ]
  },
  {
   "cell_type": "markdown",
   "metadata": {},
   "source": [
    "1. Из датасета удалили не информативный столбец `Unnamed: 0`\n",
    "\n",
    "2. Очистили с помощью функции и регулярных выражений тексты от лишних символов. Оставили только буквы английского алфавита, как строчные, так и прописные, а также пробелы\n",
    "\n",
    "3. Лемматизировали тексты с помощью `WordNetLemmatizer`. Сделали это для того, чтобы унифицировать слова в имеющихся данных, чтобы различные формы одного слова считалисб одним и тем же термином. Это поволяет нам упростить анализ этих текстов и снизить размерность данных\n",
    "\n",
    "4. Далее разбили наша датасет на обучающую и тестовую выборки в соотношении 80/20. Тренировочная выборка имеет размер (127433, 2), тестовая выборка имеет размер (31859, 2)\n",
    "\n",
    "5. Создали корпус текстов и выделили целевой признак, находящийся в столбце `toxic`. \n",
    "\n",
    "6. Вычислили TF-IDF для корпуса текстов, указав стоп-слова. Получили матрицу TF-IDF для обучающей выборки равную (127433, 56449), и матрицу TF-IDF для тестовой выборки равную (31859, 56449)"
   ]
  },
  {
   "cell_type": "markdown",
   "metadata": {},
   "source": [
    "## Обучение"
   ]
  },
  {
   "cell_type": "markdown",
   "metadata": {},
   "source": [
    "В качестве обучаемых моделей выбрали модели:\n",
    "- LogisticRegression;\n",
    "- RandomForestClassifier;\n",
    "- CatBoostClassifier\n",
    "\n",
    "Далее обучим каждую из них, вычислим значения F1 как для обучающей, так и для тестовой выборок. Выберем наилучшую модель.\n",
    "\n",
    "Перебор гиперпараметров будем осуществлять с помощью `RandomizedSearchCV`."
   ]
  },
  {
   "cell_type": "markdown",
   "metadata": {},
   "source": [
    "###  Логистическая регрессия"
   ]
  },
  {
   "cell_type": "code",
   "execution_count": 18,
   "metadata": {
    "scrolled": false
   },
   "outputs": [
    {
     "name": "stdout",
     "output_type": "stream",
     "text": [
      "Fitting 5 folds for each of 8 candidates, totalling 40 fits\n",
      "[CV 1/5] END lrc__C=5, lrc__class_weight=balanced, lrc__penalty=l1, tfidf__min_df=1;, score=nan total time=   3.3s\n",
      "[CV 2/5] END lrc__C=5, lrc__class_weight=balanced, lrc__penalty=l1, tfidf__min_df=1;, score=nan total time=   3.2s\n",
      "[CV 3/5] END lrc__C=5, lrc__class_weight=balanced, lrc__penalty=l1, tfidf__min_df=1;, score=nan total time=   3.3s\n",
      "[CV 4/5] END lrc__C=5, lrc__class_weight=balanced, lrc__penalty=l1, tfidf__min_df=1;, score=nan total time=   3.3s\n",
      "[CV 5/5] END lrc__C=5, lrc__class_weight=balanced, lrc__penalty=l1, tfidf__min_df=1;, score=nan total time=   3.4s\n",
      "[CV 1/5] END lrc__C=5, lrc__class_weight=balanced, lrc__penalty=l1, tfidf__min_df=2;, score=nan total time=   3.3s\n",
      "[CV 2/5] END lrc__C=5, lrc__class_weight=balanced, lrc__penalty=l1, tfidf__min_df=2;, score=nan total time=   3.4s\n",
      "[CV 3/5] END lrc__C=5, lrc__class_weight=balanced, lrc__penalty=l1, tfidf__min_df=2;, score=nan total time=   3.2s\n",
      "[CV 4/5] END lrc__C=5, lrc__class_weight=balanced, lrc__penalty=l1, tfidf__min_df=2;, score=nan total time=   3.4s\n",
      "[CV 5/5] END lrc__C=5, lrc__class_weight=balanced, lrc__penalty=l1, tfidf__min_df=2;, score=nan total time=   3.2s\n",
      "[CV 1/5] END lrc__C=5, lrc__class_weight=balanced, lrc__penalty=l2, tfidf__min_df=1;, score=0.749 total time=   7.8s\n",
      "[CV 2/5] END lrc__C=5, lrc__class_weight=balanced, lrc__penalty=l2, tfidf__min_df=1;, score=0.760 total time=   7.4s\n",
      "[CV 3/5] END lrc__C=5, lrc__class_weight=balanced, lrc__penalty=l2, tfidf__min_df=1;, score=0.750 total time=   6.9s\n",
      "[CV 4/5] END lrc__C=5, lrc__class_weight=balanced, lrc__penalty=l2, tfidf__min_df=1;, score=0.753 total time=   7.3s\n",
      "[CV 5/5] END lrc__C=5, lrc__class_weight=balanced, lrc__penalty=l2, tfidf__min_df=1;, score=0.761 total time=   7.0s\n",
      "[CV 1/5] END lrc__C=5, lrc__class_weight=balanced, lrc__penalty=l2, tfidf__min_df=2;, score=0.746 total time=   5.9s\n",
      "[CV 2/5] END lrc__C=5, lrc__class_weight=balanced, lrc__penalty=l2, tfidf__min_df=2;, score=0.755 total time=   5.7s\n",
      "[CV 3/5] END lrc__C=5, lrc__class_weight=balanced, lrc__penalty=l2, tfidf__min_df=2;, score=0.743 total time=   6.0s\n",
      "[CV 4/5] END lrc__C=5, lrc__class_weight=balanced, lrc__penalty=l2, tfidf__min_df=2;, score=0.748 total time=   5.9s\n",
      "[CV 5/5] END lrc__C=5, lrc__class_weight=balanced, lrc__penalty=l2, tfidf__min_df=2;, score=0.753 total time=   5.5s\n",
      "[CV 1/5] END lrc__C=15, lrc__class_weight=balanced, lrc__penalty=l1, tfidf__min_df=1;, score=nan total time=   3.3s\n",
      "[CV 2/5] END lrc__C=15, lrc__class_weight=balanced, lrc__penalty=l1, tfidf__min_df=1;, score=nan total time=   3.2s\n",
      "[CV 3/5] END lrc__C=15, lrc__class_weight=balanced, lrc__penalty=l1, tfidf__min_df=1;, score=nan total time=   3.5s\n",
      "[CV 4/5] END lrc__C=15, lrc__class_weight=balanced, lrc__penalty=l1, tfidf__min_df=1;, score=nan total time=   3.5s\n",
      "[CV 5/5] END lrc__C=15, lrc__class_weight=balanced, lrc__penalty=l1, tfidf__min_df=1;, score=nan total time=   3.2s\n",
      "[CV 1/5] END lrc__C=15, lrc__class_weight=balanced, lrc__penalty=l1, tfidf__min_df=2;, score=nan total time=   3.1s\n",
      "[CV 2/5] END lrc__C=15, lrc__class_weight=balanced, lrc__penalty=l1, tfidf__min_df=2;, score=nan total time=   3.4s\n",
      "[CV 3/5] END lrc__C=15, lrc__class_weight=balanced, lrc__penalty=l1, tfidf__min_df=2;, score=nan total time=   3.1s\n",
      "[CV 4/5] END lrc__C=15, lrc__class_weight=balanced, lrc__penalty=l1, tfidf__min_df=2;, score=nan total time=   3.4s\n",
      "[CV 5/5] END lrc__C=15, lrc__class_weight=balanced, lrc__penalty=l1, tfidf__min_df=2;, score=nan total time=   3.2s\n",
      "[CV 1/5] END lrc__C=15, lrc__class_weight=balanced, lrc__penalty=l2, tfidf__min_df=1;, score=0.751 total time=   6.9s\n",
      "[CV 2/5] END lrc__C=15, lrc__class_weight=balanced, lrc__penalty=l2, tfidf__min_df=1;, score=0.758 total time=   7.3s\n",
      "[CV 3/5] END lrc__C=15, lrc__class_weight=balanced, lrc__penalty=l2, tfidf__min_df=1;, score=0.752 total time=   7.1s\n",
      "[CV 4/5] END lrc__C=15, lrc__class_weight=balanced, lrc__penalty=l2, tfidf__min_df=1;, score=0.752 total time=   6.9s\n",
      "[CV 5/5] END lrc__C=15, lrc__class_weight=balanced, lrc__penalty=l2, tfidf__min_df=1;, score=0.762 total time=   7.4s\n",
      "[CV 1/5] END lrc__C=15, lrc__class_weight=balanced, lrc__penalty=l2, tfidf__min_df=2;, score=0.746 total time=   5.5s\n",
      "[CV 2/5] END lrc__C=15, lrc__class_weight=balanced, lrc__penalty=l2, tfidf__min_df=2;, score=0.751 total time=   5.8s\n",
      "[CV 3/5] END lrc__C=15, lrc__class_weight=balanced, lrc__penalty=l2, tfidf__min_df=2;, score=0.742 total time=   5.6s\n",
      "[CV 4/5] END lrc__C=15, lrc__class_weight=balanced, lrc__penalty=l2, tfidf__min_df=2;, score=0.750 total time=   5.7s\n",
      "[CV 5/5] END lrc__C=15, lrc__class_weight=balanced, lrc__penalty=l2, tfidf__min_df=2;, score=0.753 total time=   5.9s\n",
      "\n",
      "Значение F1 модели на трейне: 0.755\n",
      "Оптимальные гиперпараметры для модели: {'tfidf__min_df': 1, 'lrc__penalty': 'l2', 'lrc__class_weight': 'balanced', 'lrc__C': 15}\n",
      "\n",
      "CPU times: total: 1min 53s\n",
      "Wall time: 3min 28s\n"
     ]
    }
   ],
   "source": [
    "%%time\n",
    "\n",
    "pipe = Pipeline([('tfidf', TfidfVectorizer(stop_words=list(stopwords))), ('lrc', LogisticRegression())])\n",
    "parameters = {\n",
    "    'tfidf__min_df': range(1, 3, 1),\n",
    "    'lrc__C': [5, 15],\n",
    "    'lrc__penalty': ['l1', 'l2'],     \n",
    "    'lrc__class_weight': (['balanced'])\n",
    "}\n",
    "\n",
    "grid = RandomizedSearchCV(pipe, param_distributions=parameters, verbose=5, scoring='f1') \n",
    "grid.fit(corpus_train, target_train) \n",
    "\n",
    "f1_train = round(abs(grid.best_score_), 3)\n",
    "print()\n",
    "print(f\"Значение F1 модели на трейне: {f1_train}\")\n",
    "print(f\"Оптимальные гиперпараметры для модели: {grid.best_params_}\")\n",
    "print()"
   ]
  },
  {
   "cell_type": "markdown",
   "metadata": {},
   "source": [
    "### RandomForestClassifier"
   ]
  },
  {
   "cell_type": "code",
   "execution_count": 19,
   "metadata": {},
   "outputs": [
    {
     "name": "stdout",
     "output_type": "stream",
     "text": [
      "Fitting 5 folds for each of 4 candidates, totalling 20 fits\n"
     ]
    },
    {
     "ename": "KeyboardInterrupt",
     "evalue": "",
     "output_type": "error",
     "traceback": [
      "\u001b[1;31m---------------------------------------------------------------------------\u001b[0m",
      "\u001b[1;31mKeyboardInterrupt\u001b[0m                         Traceback (most recent call last)",
      "File \u001b[1;32m<timed exec>:8\u001b[0m\n",
      "File \u001b[1;32m~\\anaconda3\\Lib\\site-packages\\sklearn\\base.py:1151\u001b[0m, in \u001b[0;36m_fit_context.<locals>.decorator.<locals>.wrapper\u001b[1;34m(estimator, *args, **kwargs)\u001b[0m\n\u001b[0;32m   1144\u001b[0m     estimator\u001b[38;5;241m.\u001b[39m_validate_params()\n\u001b[0;32m   1146\u001b[0m \u001b[38;5;28;01mwith\u001b[39;00m config_context(\n\u001b[0;32m   1147\u001b[0m     skip_parameter_validation\u001b[38;5;241m=\u001b[39m(\n\u001b[0;32m   1148\u001b[0m         prefer_skip_nested_validation \u001b[38;5;129;01mor\u001b[39;00m global_skip_validation\n\u001b[0;32m   1149\u001b[0m     )\n\u001b[0;32m   1150\u001b[0m ):\n\u001b[1;32m-> 1151\u001b[0m     \u001b[38;5;28;01mreturn\u001b[39;00m fit_method(estimator, \u001b[38;5;241m*\u001b[39margs, \u001b[38;5;241m*\u001b[39m\u001b[38;5;241m*\u001b[39mkwargs)\n",
      "File \u001b[1;32m~\\anaconda3\\Lib\\site-packages\\sklearn\\model_selection\\_search.py:933\u001b[0m, in \u001b[0;36mBaseSearchCV.fit\u001b[1;34m(self, X, y, groups, **fit_params)\u001b[0m\n\u001b[0;32m    931\u001b[0m refit_start_time \u001b[38;5;241m=\u001b[39m time\u001b[38;5;241m.\u001b[39mtime()\n\u001b[0;32m    932\u001b[0m \u001b[38;5;28;01mif\u001b[39;00m y \u001b[38;5;129;01mis\u001b[39;00m \u001b[38;5;129;01mnot\u001b[39;00m \u001b[38;5;28;01mNone\u001b[39;00m:\n\u001b[1;32m--> 933\u001b[0m     \u001b[38;5;28mself\u001b[39m\u001b[38;5;241m.\u001b[39mbest_estimator_\u001b[38;5;241m.\u001b[39mfit(X, y, \u001b[38;5;241m*\u001b[39m\u001b[38;5;241m*\u001b[39mfit_params)\n\u001b[0;32m    934\u001b[0m \u001b[38;5;28;01melse\u001b[39;00m:\n\u001b[0;32m    935\u001b[0m     \u001b[38;5;28mself\u001b[39m\u001b[38;5;241m.\u001b[39mbest_estimator_\u001b[38;5;241m.\u001b[39mfit(X, \u001b[38;5;241m*\u001b[39m\u001b[38;5;241m*\u001b[39mfit_params)\n",
      "File \u001b[1;32m~\\anaconda3\\Lib\\site-packages\\sklearn\\base.py:1151\u001b[0m, in \u001b[0;36m_fit_context.<locals>.decorator.<locals>.wrapper\u001b[1;34m(estimator, *args, **kwargs)\u001b[0m\n\u001b[0;32m   1144\u001b[0m     estimator\u001b[38;5;241m.\u001b[39m_validate_params()\n\u001b[0;32m   1146\u001b[0m \u001b[38;5;28;01mwith\u001b[39;00m config_context(\n\u001b[0;32m   1147\u001b[0m     skip_parameter_validation\u001b[38;5;241m=\u001b[39m(\n\u001b[0;32m   1148\u001b[0m         prefer_skip_nested_validation \u001b[38;5;129;01mor\u001b[39;00m global_skip_validation\n\u001b[0;32m   1149\u001b[0m     )\n\u001b[0;32m   1150\u001b[0m ):\n\u001b[1;32m-> 1151\u001b[0m     \u001b[38;5;28;01mreturn\u001b[39;00m fit_method(estimator, \u001b[38;5;241m*\u001b[39margs, \u001b[38;5;241m*\u001b[39m\u001b[38;5;241m*\u001b[39mkwargs)\n",
      "File \u001b[1;32m~\\anaconda3\\Lib\\site-packages\\sklearn\\pipeline.py:420\u001b[0m, in \u001b[0;36mPipeline.fit\u001b[1;34m(self, X, y, **fit_params)\u001b[0m\n\u001b[0;32m    418\u001b[0m     \u001b[38;5;28;01mif\u001b[39;00m \u001b[38;5;28mself\u001b[39m\u001b[38;5;241m.\u001b[39m_final_estimator \u001b[38;5;241m!=\u001b[39m \u001b[38;5;124m\"\u001b[39m\u001b[38;5;124mpassthrough\u001b[39m\u001b[38;5;124m\"\u001b[39m:\n\u001b[0;32m    419\u001b[0m         fit_params_last_step \u001b[38;5;241m=\u001b[39m fit_params_steps[\u001b[38;5;28mself\u001b[39m\u001b[38;5;241m.\u001b[39msteps[\u001b[38;5;241m-\u001b[39m\u001b[38;5;241m1\u001b[39m][\u001b[38;5;241m0\u001b[39m]]\n\u001b[1;32m--> 420\u001b[0m         \u001b[38;5;28mself\u001b[39m\u001b[38;5;241m.\u001b[39m_final_estimator\u001b[38;5;241m.\u001b[39mfit(Xt, y, \u001b[38;5;241m*\u001b[39m\u001b[38;5;241m*\u001b[39mfit_params_last_step)\n\u001b[0;32m    422\u001b[0m \u001b[38;5;28;01mreturn\u001b[39;00m \u001b[38;5;28mself\u001b[39m\n",
      "File \u001b[1;32m~\\anaconda3\\Lib\\site-packages\\sklearn\\base.py:1151\u001b[0m, in \u001b[0;36m_fit_context.<locals>.decorator.<locals>.wrapper\u001b[1;34m(estimator, *args, **kwargs)\u001b[0m\n\u001b[0;32m   1144\u001b[0m     estimator\u001b[38;5;241m.\u001b[39m_validate_params()\n\u001b[0;32m   1146\u001b[0m \u001b[38;5;28;01mwith\u001b[39;00m config_context(\n\u001b[0;32m   1147\u001b[0m     skip_parameter_validation\u001b[38;5;241m=\u001b[39m(\n\u001b[0;32m   1148\u001b[0m         prefer_skip_nested_validation \u001b[38;5;129;01mor\u001b[39;00m global_skip_validation\n\u001b[0;32m   1149\u001b[0m     )\n\u001b[0;32m   1150\u001b[0m ):\n\u001b[1;32m-> 1151\u001b[0m     \u001b[38;5;28;01mreturn\u001b[39;00m fit_method(estimator, \u001b[38;5;241m*\u001b[39margs, \u001b[38;5;241m*\u001b[39m\u001b[38;5;241m*\u001b[39mkwargs)\n",
      "File \u001b[1;32m~\\anaconda3\\Lib\\site-packages\\sklearn\\ensemble\\_forest.py:456\u001b[0m, in \u001b[0;36mBaseForest.fit\u001b[1;34m(self, X, y, sample_weight)\u001b[0m\n\u001b[0;32m    445\u001b[0m trees \u001b[38;5;241m=\u001b[39m [\n\u001b[0;32m    446\u001b[0m     \u001b[38;5;28mself\u001b[39m\u001b[38;5;241m.\u001b[39m_make_estimator(append\u001b[38;5;241m=\u001b[39m\u001b[38;5;28;01mFalse\u001b[39;00m, random_state\u001b[38;5;241m=\u001b[39mrandom_state)\n\u001b[0;32m    447\u001b[0m     \u001b[38;5;28;01mfor\u001b[39;00m i \u001b[38;5;129;01min\u001b[39;00m \u001b[38;5;28mrange\u001b[39m(n_more_estimators)\n\u001b[0;32m    448\u001b[0m ]\n\u001b[0;32m    450\u001b[0m \u001b[38;5;66;03m# Parallel loop: we prefer the threading backend as the Cython code\u001b[39;00m\n\u001b[0;32m    451\u001b[0m \u001b[38;5;66;03m# for fitting the trees is internally releasing the Python GIL\u001b[39;00m\n\u001b[0;32m    452\u001b[0m \u001b[38;5;66;03m# making threading more efficient than multiprocessing in\u001b[39;00m\n\u001b[0;32m    453\u001b[0m \u001b[38;5;66;03m# that case. However, for joblib 0.12+ we respect any\u001b[39;00m\n\u001b[0;32m    454\u001b[0m \u001b[38;5;66;03m# parallel_backend contexts set at a higher level,\u001b[39;00m\n\u001b[0;32m    455\u001b[0m \u001b[38;5;66;03m# since correctness does not rely on using threads.\u001b[39;00m\n\u001b[1;32m--> 456\u001b[0m trees \u001b[38;5;241m=\u001b[39m Parallel(\n\u001b[0;32m    457\u001b[0m     n_jobs\u001b[38;5;241m=\u001b[39m\u001b[38;5;28mself\u001b[39m\u001b[38;5;241m.\u001b[39mn_jobs,\n\u001b[0;32m    458\u001b[0m     verbose\u001b[38;5;241m=\u001b[39m\u001b[38;5;28mself\u001b[39m\u001b[38;5;241m.\u001b[39mverbose,\n\u001b[0;32m    459\u001b[0m     prefer\u001b[38;5;241m=\u001b[39m\u001b[38;5;124m\"\u001b[39m\u001b[38;5;124mthreads\u001b[39m\u001b[38;5;124m\"\u001b[39m,\n\u001b[0;32m    460\u001b[0m )(\n\u001b[0;32m    461\u001b[0m     delayed(_parallel_build_trees)(\n\u001b[0;32m    462\u001b[0m         t,\n\u001b[0;32m    463\u001b[0m         \u001b[38;5;28mself\u001b[39m\u001b[38;5;241m.\u001b[39mbootstrap,\n\u001b[0;32m    464\u001b[0m         X,\n\u001b[0;32m    465\u001b[0m         y,\n\u001b[0;32m    466\u001b[0m         sample_weight,\n\u001b[0;32m    467\u001b[0m         i,\n\u001b[0;32m    468\u001b[0m         \u001b[38;5;28mlen\u001b[39m(trees),\n\u001b[0;32m    469\u001b[0m         verbose\u001b[38;5;241m=\u001b[39m\u001b[38;5;28mself\u001b[39m\u001b[38;5;241m.\u001b[39mverbose,\n\u001b[0;32m    470\u001b[0m         class_weight\u001b[38;5;241m=\u001b[39m\u001b[38;5;28mself\u001b[39m\u001b[38;5;241m.\u001b[39mclass_weight,\n\u001b[0;32m    471\u001b[0m         n_samples_bootstrap\u001b[38;5;241m=\u001b[39mn_samples_bootstrap,\n\u001b[0;32m    472\u001b[0m     )\n\u001b[0;32m    473\u001b[0m     \u001b[38;5;28;01mfor\u001b[39;00m i, t \u001b[38;5;129;01min\u001b[39;00m \u001b[38;5;28menumerate\u001b[39m(trees)\n\u001b[0;32m    474\u001b[0m )\n\u001b[0;32m    476\u001b[0m \u001b[38;5;66;03m# Collect newly grown trees\u001b[39;00m\n\u001b[0;32m    477\u001b[0m \u001b[38;5;28mself\u001b[39m\u001b[38;5;241m.\u001b[39mestimators_\u001b[38;5;241m.\u001b[39mextend(trees)\n",
      "File \u001b[1;32m~\\anaconda3\\Lib\\site-packages\\sklearn\\utils\\parallel.py:65\u001b[0m, in \u001b[0;36mParallel.__call__\u001b[1;34m(self, iterable)\u001b[0m\n\u001b[0;32m     60\u001b[0m config \u001b[38;5;241m=\u001b[39m get_config()\n\u001b[0;32m     61\u001b[0m iterable_with_config \u001b[38;5;241m=\u001b[39m (\n\u001b[0;32m     62\u001b[0m     (_with_config(delayed_func, config), args, kwargs)\n\u001b[0;32m     63\u001b[0m     \u001b[38;5;28;01mfor\u001b[39;00m delayed_func, args, kwargs \u001b[38;5;129;01min\u001b[39;00m iterable\n\u001b[0;32m     64\u001b[0m )\n\u001b[1;32m---> 65\u001b[0m \u001b[38;5;28;01mreturn\u001b[39;00m \u001b[38;5;28msuper\u001b[39m()\u001b[38;5;241m.\u001b[39m\u001b[38;5;21m__call__\u001b[39m(iterable_with_config)\n",
      "File \u001b[1;32m~\\anaconda3\\Lib\\site-packages\\joblib\\parallel.py:1088\u001b[0m, in \u001b[0;36mParallel.__call__\u001b[1;34m(self, iterable)\u001b[0m\n\u001b[0;32m   1085\u001b[0m \u001b[38;5;28;01mif\u001b[39;00m \u001b[38;5;28mself\u001b[39m\u001b[38;5;241m.\u001b[39mdispatch_one_batch(iterator):\n\u001b[0;32m   1086\u001b[0m     \u001b[38;5;28mself\u001b[39m\u001b[38;5;241m.\u001b[39m_iterating \u001b[38;5;241m=\u001b[39m \u001b[38;5;28mself\u001b[39m\u001b[38;5;241m.\u001b[39m_original_iterator \u001b[38;5;129;01mis\u001b[39;00m \u001b[38;5;129;01mnot\u001b[39;00m \u001b[38;5;28;01mNone\u001b[39;00m\n\u001b[1;32m-> 1088\u001b[0m \u001b[38;5;28;01mwhile\u001b[39;00m \u001b[38;5;28mself\u001b[39m\u001b[38;5;241m.\u001b[39mdispatch_one_batch(iterator):\n\u001b[0;32m   1089\u001b[0m     \u001b[38;5;28;01mpass\u001b[39;00m\n\u001b[0;32m   1091\u001b[0m \u001b[38;5;28;01mif\u001b[39;00m pre_dispatch \u001b[38;5;241m==\u001b[39m \u001b[38;5;124m\"\u001b[39m\u001b[38;5;124mall\u001b[39m\u001b[38;5;124m\"\u001b[39m \u001b[38;5;129;01mor\u001b[39;00m n_jobs \u001b[38;5;241m==\u001b[39m \u001b[38;5;241m1\u001b[39m:\n\u001b[0;32m   1092\u001b[0m     \u001b[38;5;66;03m# The iterable was consumed all at once by the above for loop.\u001b[39;00m\n\u001b[0;32m   1093\u001b[0m     \u001b[38;5;66;03m# No need to wait for async callbacks to trigger to\u001b[39;00m\n\u001b[0;32m   1094\u001b[0m     \u001b[38;5;66;03m# consumption.\u001b[39;00m\n",
      "File \u001b[1;32m~\\anaconda3\\Lib\\site-packages\\joblib\\parallel.py:901\u001b[0m, in \u001b[0;36mParallel.dispatch_one_batch\u001b[1;34m(self, iterator)\u001b[0m\n\u001b[0;32m    899\u001b[0m     \u001b[38;5;28;01mreturn\u001b[39;00m \u001b[38;5;28;01mFalse\u001b[39;00m\n\u001b[0;32m    900\u001b[0m \u001b[38;5;28;01melse\u001b[39;00m:\n\u001b[1;32m--> 901\u001b[0m     \u001b[38;5;28mself\u001b[39m\u001b[38;5;241m.\u001b[39m_dispatch(tasks)\n\u001b[0;32m    902\u001b[0m     \u001b[38;5;28;01mreturn\u001b[39;00m \u001b[38;5;28;01mTrue\u001b[39;00m\n",
      "File \u001b[1;32m~\\anaconda3\\Lib\\site-packages\\joblib\\parallel.py:819\u001b[0m, in \u001b[0;36mParallel._dispatch\u001b[1;34m(self, batch)\u001b[0m\n\u001b[0;32m    817\u001b[0m \u001b[38;5;28;01mwith\u001b[39;00m \u001b[38;5;28mself\u001b[39m\u001b[38;5;241m.\u001b[39m_lock:\n\u001b[0;32m    818\u001b[0m     job_idx \u001b[38;5;241m=\u001b[39m \u001b[38;5;28mlen\u001b[39m(\u001b[38;5;28mself\u001b[39m\u001b[38;5;241m.\u001b[39m_jobs)\n\u001b[1;32m--> 819\u001b[0m     job \u001b[38;5;241m=\u001b[39m \u001b[38;5;28mself\u001b[39m\u001b[38;5;241m.\u001b[39m_backend\u001b[38;5;241m.\u001b[39mapply_async(batch, callback\u001b[38;5;241m=\u001b[39mcb)\n\u001b[0;32m    820\u001b[0m     \u001b[38;5;66;03m# A job can complete so quickly than its callback is\u001b[39;00m\n\u001b[0;32m    821\u001b[0m     \u001b[38;5;66;03m# called before we get here, causing self._jobs to\u001b[39;00m\n\u001b[0;32m    822\u001b[0m     \u001b[38;5;66;03m# grow. To ensure correct results ordering, .insert is\u001b[39;00m\n\u001b[0;32m    823\u001b[0m     \u001b[38;5;66;03m# used (rather than .append) in the following line\u001b[39;00m\n\u001b[0;32m    824\u001b[0m     \u001b[38;5;28mself\u001b[39m\u001b[38;5;241m.\u001b[39m_jobs\u001b[38;5;241m.\u001b[39minsert(job_idx, job)\n",
      "File \u001b[1;32m~\\anaconda3\\Lib\\site-packages\\joblib\\_parallel_backends.py:208\u001b[0m, in \u001b[0;36mSequentialBackend.apply_async\u001b[1;34m(self, func, callback)\u001b[0m\n\u001b[0;32m    206\u001b[0m \u001b[38;5;28;01mdef\u001b[39;00m \u001b[38;5;21mapply_async\u001b[39m(\u001b[38;5;28mself\u001b[39m, func, callback\u001b[38;5;241m=\u001b[39m\u001b[38;5;28;01mNone\u001b[39;00m):\n\u001b[0;32m    207\u001b[0m \u001b[38;5;250m    \u001b[39m\u001b[38;5;124;03m\"\"\"Schedule a func to be run\"\"\"\u001b[39;00m\n\u001b[1;32m--> 208\u001b[0m     result \u001b[38;5;241m=\u001b[39m ImmediateResult(func)\n\u001b[0;32m    209\u001b[0m     \u001b[38;5;28;01mif\u001b[39;00m callback:\n\u001b[0;32m    210\u001b[0m         callback(result)\n",
      "File \u001b[1;32m~\\anaconda3\\Lib\\site-packages\\joblib\\_parallel_backends.py:597\u001b[0m, in \u001b[0;36mImmediateResult.__init__\u001b[1;34m(self, batch)\u001b[0m\n\u001b[0;32m    594\u001b[0m \u001b[38;5;28;01mdef\u001b[39;00m \u001b[38;5;21m__init__\u001b[39m(\u001b[38;5;28mself\u001b[39m, batch):\n\u001b[0;32m    595\u001b[0m     \u001b[38;5;66;03m# Don't delay the application, to avoid keeping the input\u001b[39;00m\n\u001b[0;32m    596\u001b[0m     \u001b[38;5;66;03m# arguments in memory\u001b[39;00m\n\u001b[1;32m--> 597\u001b[0m     \u001b[38;5;28mself\u001b[39m\u001b[38;5;241m.\u001b[39mresults \u001b[38;5;241m=\u001b[39m batch()\n",
      "File \u001b[1;32m~\\anaconda3\\Lib\\site-packages\\joblib\\parallel.py:288\u001b[0m, in \u001b[0;36mBatchedCalls.__call__\u001b[1;34m(self)\u001b[0m\n\u001b[0;32m    284\u001b[0m \u001b[38;5;28;01mdef\u001b[39;00m \u001b[38;5;21m__call__\u001b[39m(\u001b[38;5;28mself\u001b[39m):\n\u001b[0;32m    285\u001b[0m     \u001b[38;5;66;03m# Set the default nested backend to self._backend but do not set the\u001b[39;00m\n\u001b[0;32m    286\u001b[0m     \u001b[38;5;66;03m# change the default number of processes to -1\u001b[39;00m\n\u001b[0;32m    287\u001b[0m     \u001b[38;5;28;01mwith\u001b[39;00m parallel_backend(\u001b[38;5;28mself\u001b[39m\u001b[38;5;241m.\u001b[39m_backend, n_jobs\u001b[38;5;241m=\u001b[39m\u001b[38;5;28mself\u001b[39m\u001b[38;5;241m.\u001b[39m_n_jobs):\n\u001b[1;32m--> 288\u001b[0m         \u001b[38;5;28;01mreturn\u001b[39;00m [func(\u001b[38;5;241m*\u001b[39margs, \u001b[38;5;241m*\u001b[39m\u001b[38;5;241m*\u001b[39mkwargs)\n\u001b[0;32m    289\u001b[0m                 \u001b[38;5;28;01mfor\u001b[39;00m func, args, kwargs \u001b[38;5;129;01min\u001b[39;00m \u001b[38;5;28mself\u001b[39m\u001b[38;5;241m.\u001b[39mitems]\n",
      "File \u001b[1;32m~\\anaconda3\\Lib\\site-packages\\joblib\\parallel.py:288\u001b[0m, in \u001b[0;36m<listcomp>\u001b[1;34m(.0)\u001b[0m\n\u001b[0;32m    284\u001b[0m \u001b[38;5;28;01mdef\u001b[39;00m \u001b[38;5;21m__call__\u001b[39m(\u001b[38;5;28mself\u001b[39m):\n\u001b[0;32m    285\u001b[0m     \u001b[38;5;66;03m# Set the default nested backend to self._backend but do not set the\u001b[39;00m\n\u001b[0;32m    286\u001b[0m     \u001b[38;5;66;03m# change the default number of processes to -1\u001b[39;00m\n\u001b[0;32m    287\u001b[0m     \u001b[38;5;28;01mwith\u001b[39;00m parallel_backend(\u001b[38;5;28mself\u001b[39m\u001b[38;5;241m.\u001b[39m_backend, n_jobs\u001b[38;5;241m=\u001b[39m\u001b[38;5;28mself\u001b[39m\u001b[38;5;241m.\u001b[39m_n_jobs):\n\u001b[1;32m--> 288\u001b[0m         \u001b[38;5;28;01mreturn\u001b[39;00m [func(\u001b[38;5;241m*\u001b[39margs, \u001b[38;5;241m*\u001b[39m\u001b[38;5;241m*\u001b[39mkwargs)\n\u001b[0;32m    289\u001b[0m                 \u001b[38;5;28;01mfor\u001b[39;00m func, args, kwargs \u001b[38;5;129;01min\u001b[39;00m \u001b[38;5;28mself\u001b[39m\u001b[38;5;241m.\u001b[39mitems]\n",
      "File \u001b[1;32m~\\anaconda3\\Lib\\site-packages\\sklearn\\utils\\parallel.py:127\u001b[0m, in \u001b[0;36m_FuncWrapper.__call__\u001b[1;34m(self, *args, **kwargs)\u001b[0m\n\u001b[0;32m    125\u001b[0m     config \u001b[38;5;241m=\u001b[39m {}\n\u001b[0;32m    126\u001b[0m \u001b[38;5;28;01mwith\u001b[39;00m config_context(\u001b[38;5;241m*\u001b[39m\u001b[38;5;241m*\u001b[39mconfig):\n\u001b[1;32m--> 127\u001b[0m     \u001b[38;5;28;01mreturn\u001b[39;00m \u001b[38;5;28mself\u001b[39m\u001b[38;5;241m.\u001b[39mfunction(\u001b[38;5;241m*\u001b[39margs, \u001b[38;5;241m*\u001b[39m\u001b[38;5;241m*\u001b[39mkwargs)\n",
      "File \u001b[1;32m~\\anaconda3\\Lib\\site-packages\\sklearn\\ensemble\\_forest.py:188\u001b[0m, in \u001b[0;36m_parallel_build_trees\u001b[1;34m(tree, bootstrap, X, y, sample_weight, tree_idx, n_trees, verbose, class_weight, n_samples_bootstrap)\u001b[0m\n\u001b[0;32m    185\u001b[0m     \u001b[38;5;28;01melif\u001b[39;00m class_weight \u001b[38;5;241m==\u001b[39m \u001b[38;5;124m\"\u001b[39m\u001b[38;5;124mbalanced_subsample\u001b[39m\u001b[38;5;124m\"\u001b[39m:\n\u001b[0;32m    186\u001b[0m         curr_sample_weight \u001b[38;5;241m*\u001b[39m\u001b[38;5;241m=\u001b[39m compute_sample_weight(\u001b[38;5;124m\"\u001b[39m\u001b[38;5;124mbalanced\u001b[39m\u001b[38;5;124m\"\u001b[39m, y, indices\u001b[38;5;241m=\u001b[39mindices)\n\u001b[1;32m--> 188\u001b[0m     tree\u001b[38;5;241m.\u001b[39mfit(X, y, sample_weight\u001b[38;5;241m=\u001b[39mcurr_sample_weight, check_input\u001b[38;5;241m=\u001b[39m\u001b[38;5;28;01mFalse\u001b[39;00m)\n\u001b[0;32m    189\u001b[0m \u001b[38;5;28;01melse\u001b[39;00m:\n\u001b[0;32m    190\u001b[0m     tree\u001b[38;5;241m.\u001b[39mfit(X, y, sample_weight\u001b[38;5;241m=\u001b[39msample_weight, check_input\u001b[38;5;241m=\u001b[39m\u001b[38;5;28;01mFalse\u001b[39;00m)\n",
      "File \u001b[1;32m~\\anaconda3\\Lib\\site-packages\\sklearn\\base.py:1151\u001b[0m, in \u001b[0;36m_fit_context.<locals>.decorator.<locals>.wrapper\u001b[1;34m(estimator, *args, **kwargs)\u001b[0m\n\u001b[0;32m   1144\u001b[0m     estimator\u001b[38;5;241m.\u001b[39m_validate_params()\n\u001b[0;32m   1146\u001b[0m \u001b[38;5;28;01mwith\u001b[39;00m config_context(\n\u001b[0;32m   1147\u001b[0m     skip_parameter_validation\u001b[38;5;241m=\u001b[39m(\n\u001b[0;32m   1148\u001b[0m         prefer_skip_nested_validation \u001b[38;5;129;01mor\u001b[39;00m global_skip_validation\n\u001b[0;32m   1149\u001b[0m     )\n\u001b[0;32m   1150\u001b[0m ):\n\u001b[1;32m-> 1151\u001b[0m     \u001b[38;5;28;01mreturn\u001b[39;00m fit_method(estimator, \u001b[38;5;241m*\u001b[39margs, \u001b[38;5;241m*\u001b[39m\u001b[38;5;241m*\u001b[39mkwargs)\n",
      "File \u001b[1;32m~\\anaconda3\\Lib\\site-packages\\sklearn\\tree\\_classes.py:959\u001b[0m, in \u001b[0;36mDecisionTreeClassifier.fit\u001b[1;34m(self, X, y, sample_weight, check_input)\u001b[0m\n\u001b[0;32m    928\u001b[0m \u001b[38;5;129m@_fit_context\u001b[39m(prefer_skip_nested_validation\u001b[38;5;241m=\u001b[39m\u001b[38;5;28;01mTrue\u001b[39;00m)\n\u001b[0;32m    929\u001b[0m \u001b[38;5;28;01mdef\u001b[39;00m \u001b[38;5;21mfit\u001b[39m(\u001b[38;5;28mself\u001b[39m, X, y, sample_weight\u001b[38;5;241m=\u001b[39m\u001b[38;5;28;01mNone\u001b[39;00m, check_input\u001b[38;5;241m=\u001b[39m\u001b[38;5;28;01mTrue\u001b[39;00m):\n\u001b[0;32m    930\u001b[0m \u001b[38;5;250m    \u001b[39m\u001b[38;5;124;03m\"\"\"Build a decision tree classifier from the training set (X, y).\u001b[39;00m\n\u001b[0;32m    931\u001b[0m \n\u001b[0;32m    932\u001b[0m \u001b[38;5;124;03m    Parameters\u001b[39;00m\n\u001b[1;32m   (...)\u001b[0m\n\u001b[0;32m    956\u001b[0m \u001b[38;5;124;03m        Fitted estimator.\u001b[39;00m\n\u001b[0;32m    957\u001b[0m \u001b[38;5;124;03m    \"\"\"\u001b[39;00m\n\u001b[1;32m--> 959\u001b[0m     \u001b[38;5;28msuper\u001b[39m()\u001b[38;5;241m.\u001b[39m_fit(\n\u001b[0;32m    960\u001b[0m         X,\n\u001b[0;32m    961\u001b[0m         y,\n\u001b[0;32m    962\u001b[0m         sample_weight\u001b[38;5;241m=\u001b[39msample_weight,\n\u001b[0;32m    963\u001b[0m         check_input\u001b[38;5;241m=\u001b[39mcheck_input,\n\u001b[0;32m    964\u001b[0m     )\n\u001b[0;32m    965\u001b[0m     \u001b[38;5;28;01mreturn\u001b[39;00m \u001b[38;5;28mself\u001b[39m\n",
      "File \u001b[1;32m~\\anaconda3\\Lib\\site-packages\\sklearn\\tree\\_classes.py:443\u001b[0m, in \u001b[0;36mBaseDecisionTree._fit\u001b[1;34m(self, X, y, sample_weight, check_input, missing_values_in_feature_mask)\u001b[0m\n\u001b[0;32m    432\u001b[0m \u001b[38;5;28;01melse\u001b[39;00m:\n\u001b[0;32m    433\u001b[0m     builder \u001b[38;5;241m=\u001b[39m BestFirstTreeBuilder(\n\u001b[0;32m    434\u001b[0m         splitter,\n\u001b[0;32m    435\u001b[0m         min_samples_split,\n\u001b[1;32m   (...)\u001b[0m\n\u001b[0;32m    440\u001b[0m         \u001b[38;5;28mself\u001b[39m\u001b[38;5;241m.\u001b[39mmin_impurity_decrease,\n\u001b[0;32m    441\u001b[0m     )\n\u001b[1;32m--> 443\u001b[0m builder\u001b[38;5;241m.\u001b[39mbuild(\u001b[38;5;28mself\u001b[39m\u001b[38;5;241m.\u001b[39mtree_, X, y, sample_weight, missing_values_in_feature_mask)\n\u001b[0;32m    445\u001b[0m \u001b[38;5;28;01mif\u001b[39;00m \u001b[38;5;28mself\u001b[39m\u001b[38;5;241m.\u001b[39mn_outputs_ \u001b[38;5;241m==\u001b[39m \u001b[38;5;241m1\u001b[39m \u001b[38;5;129;01mand\u001b[39;00m is_classifier(\u001b[38;5;28mself\u001b[39m):\n\u001b[0;32m    446\u001b[0m     \u001b[38;5;28mself\u001b[39m\u001b[38;5;241m.\u001b[39mn_classes_ \u001b[38;5;241m=\u001b[39m \u001b[38;5;28mself\u001b[39m\u001b[38;5;241m.\u001b[39mn_classes_[\u001b[38;5;241m0\u001b[39m]\n",
      "\u001b[1;31mKeyboardInterrupt\u001b[0m: "
     ]
    }
   ],
   "source": [
    "%%time\n",
    "\n",
    "pipe = Pipeline([('tfidf', TfidfVectorizer(stop_words=list(stopwords))), ('rfc', RandomForestClassifier(random_state=12345))])\n",
    "parameters = {\n",
    "    'rfc__n_estimators': [90, 150],\n",
    "    'tfidf__min_df': range(1, 3, 1)\n",
    "}\n",
    "\n",
    "grid = RandomizedSearchCV(pipe, param_distributions=parameters, scoring='f1', verbose=5, n_jobs=-1) \n",
    "grid.fit(corpus_train, target_train) \n",
    "\n",
    "f1_train = round(abs(grid.best_score_), 3)\n",
    "rf_best_params = grid.best_params_\n",
    "print()\n",
    "print(f\"Значение F1 модели на трейне: {f1_train}\")\n",
    "print(f\"Оптимальные гиперпараметры для модели: {grid.best_params_}\")\n",
    "print()"
   ]
  },
  {
   "cell_type": "markdown",
   "metadata": {},
   "source": [
    "### Модель CatBoostClassifier"
   ]
  },
  {
   "cell_type": "code",
   "execution_count": 22,
   "metadata": {},
   "outputs": [
    {
     "name": "stdout",
     "output_type": "stream",
     "text": [
      "Fitting 5 folds for each of 4 candidates, totalling 20 fits\n"
     ]
    },
    {
     "ename": "KeyboardInterrupt",
     "evalue": "",
     "output_type": "error",
     "traceback": [
      "\u001b[1;31m---------------------------------------------------------------------------\u001b[0m",
      "\u001b[1;31mTerminatedWorkerError\u001b[0m                     Traceback (most recent call last)",
      "File \u001b[1;32m~\\anaconda3\\Lib\\site-packages\\joblib\\parallel.py:975\u001b[0m, in \u001b[0;36mParallel.retrieve\u001b[1;34m(self)\u001b[0m\n\u001b[0;32m    974\u001b[0m \u001b[38;5;28;01mif\u001b[39;00m \u001b[38;5;28mgetattr\u001b[39m(\u001b[38;5;28mself\u001b[39m\u001b[38;5;241m.\u001b[39m_backend, \u001b[38;5;124m'\u001b[39m\u001b[38;5;124msupports_timeout\u001b[39m\u001b[38;5;124m'\u001b[39m, \u001b[38;5;28;01mFalse\u001b[39;00m):\n\u001b[1;32m--> 975\u001b[0m     \u001b[38;5;28mself\u001b[39m\u001b[38;5;241m.\u001b[39m_output\u001b[38;5;241m.\u001b[39mextend(job\u001b[38;5;241m.\u001b[39mget(timeout\u001b[38;5;241m=\u001b[39m\u001b[38;5;28mself\u001b[39m\u001b[38;5;241m.\u001b[39mtimeout))\n\u001b[0;32m    976\u001b[0m \u001b[38;5;28;01melse\u001b[39;00m:\n",
      "File \u001b[1;32m~\\anaconda3\\Lib\\site-packages\\joblib\\_parallel_backends.py:567\u001b[0m, in \u001b[0;36mLokyBackend.wrap_future_result\u001b[1;34m(future, timeout)\u001b[0m\n\u001b[0;32m    566\u001b[0m \u001b[38;5;28;01mtry\u001b[39;00m:\n\u001b[1;32m--> 567\u001b[0m     \u001b[38;5;28;01mreturn\u001b[39;00m future\u001b[38;5;241m.\u001b[39mresult(timeout\u001b[38;5;241m=\u001b[39mtimeout)\n\u001b[0;32m    568\u001b[0m \u001b[38;5;28;01mexcept\u001b[39;00m CfTimeoutError \u001b[38;5;28;01mas\u001b[39;00m e:\n",
      "File \u001b[1;32m~\\anaconda3\\Lib\\concurrent\\futures\\_base.py:456\u001b[0m, in \u001b[0;36mFuture.result\u001b[1;34m(self, timeout)\u001b[0m\n\u001b[0;32m    455\u001b[0m \u001b[38;5;28;01melif\u001b[39;00m \u001b[38;5;28mself\u001b[39m\u001b[38;5;241m.\u001b[39m_state \u001b[38;5;241m==\u001b[39m FINISHED:\n\u001b[1;32m--> 456\u001b[0m     \u001b[38;5;28;01mreturn\u001b[39;00m \u001b[38;5;28mself\u001b[39m\u001b[38;5;241m.\u001b[39m__get_result()\n\u001b[0;32m    457\u001b[0m \u001b[38;5;28;01melse\u001b[39;00m:\n",
      "File \u001b[1;32m~\\anaconda3\\Lib\\concurrent\\futures\\_base.py:401\u001b[0m, in \u001b[0;36mFuture.__get_result\u001b[1;34m(self)\u001b[0m\n\u001b[0;32m    400\u001b[0m \u001b[38;5;28;01mtry\u001b[39;00m:\n\u001b[1;32m--> 401\u001b[0m     \u001b[38;5;28;01mraise\u001b[39;00m \u001b[38;5;28mself\u001b[39m\u001b[38;5;241m.\u001b[39m_exception\n\u001b[0;32m    402\u001b[0m \u001b[38;5;28;01mfinally\u001b[39;00m:\n\u001b[0;32m    403\u001b[0m     \u001b[38;5;66;03m# Break a reference cycle with the exception in self._exception\u001b[39;00m\n",
      "\u001b[1;31mTerminatedWorkerError\u001b[0m: A worker process managed by the executor was unexpectedly terminated. This could be caused by a segmentation fault while calling the function or by an excessive memory usage causing the Operating System to kill the worker.\n",
      "\nDuring handling of the above exception, another exception occurred:\n",
      "\u001b[1;31mKeyboardInterrupt\u001b[0m                         Traceback (most recent call last)",
      "File \u001b[1;32m<timed exec>:9\u001b[0m\n",
      "File \u001b[1;32m~\\anaconda3\\Lib\\site-packages\\sklearn\\base.py:1151\u001b[0m, in \u001b[0;36m_fit_context.<locals>.decorator.<locals>.wrapper\u001b[1;34m(estimator, *args, **kwargs)\u001b[0m\n\u001b[0;32m   1144\u001b[0m     estimator\u001b[38;5;241m.\u001b[39m_validate_params()\n\u001b[0;32m   1146\u001b[0m \u001b[38;5;28;01mwith\u001b[39;00m config_context(\n\u001b[0;32m   1147\u001b[0m     skip_parameter_validation\u001b[38;5;241m=\u001b[39m(\n\u001b[0;32m   1148\u001b[0m         prefer_skip_nested_validation \u001b[38;5;129;01mor\u001b[39;00m global_skip_validation\n\u001b[0;32m   1149\u001b[0m     )\n\u001b[0;32m   1150\u001b[0m ):\n\u001b[1;32m-> 1151\u001b[0m     \u001b[38;5;28;01mreturn\u001b[39;00m fit_method(estimator, \u001b[38;5;241m*\u001b[39margs, \u001b[38;5;241m*\u001b[39m\u001b[38;5;241m*\u001b[39mkwargs)\n",
      "File \u001b[1;32m~\\anaconda3\\Lib\\site-packages\\sklearn\\model_selection\\_search.py:898\u001b[0m, in \u001b[0;36mBaseSearchCV.fit\u001b[1;34m(self, X, y, groups, **fit_params)\u001b[0m\n\u001b[0;32m    892\u001b[0m     results \u001b[38;5;241m=\u001b[39m \u001b[38;5;28mself\u001b[39m\u001b[38;5;241m.\u001b[39m_format_results(\n\u001b[0;32m    893\u001b[0m         all_candidate_params, n_splits, all_out, all_more_results\n\u001b[0;32m    894\u001b[0m     )\n\u001b[0;32m    896\u001b[0m     \u001b[38;5;28;01mreturn\u001b[39;00m results\n\u001b[1;32m--> 898\u001b[0m \u001b[38;5;28mself\u001b[39m\u001b[38;5;241m.\u001b[39m_run_search(evaluate_candidates)\n\u001b[0;32m    900\u001b[0m \u001b[38;5;66;03m# multimetric is determined here because in the case of a callable\u001b[39;00m\n\u001b[0;32m    901\u001b[0m \u001b[38;5;66;03m# self.scoring the return type is only known after calling\u001b[39;00m\n\u001b[0;32m    902\u001b[0m first_test_score \u001b[38;5;241m=\u001b[39m all_out[\u001b[38;5;241m0\u001b[39m][\u001b[38;5;124m\"\u001b[39m\u001b[38;5;124mtest_scores\u001b[39m\u001b[38;5;124m\"\u001b[39m]\n",
      "File \u001b[1;32m~\\anaconda3\\Lib\\site-packages\\sklearn\\model_selection\\_search.py:1806\u001b[0m, in \u001b[0;36mRandomizedSearchCV._run_search\u001b[1;34m(self, evaluate_candidates)\u001b[0m\n\u001b[0;32m   1804\u001b[0m \u001b[38;5;28;01mdef\u001b[39;00m \u001b[38;5;21m_run_search\u001b[39m(\u001b[38;5;28mself\u001b[39m, evaluate_candidates):\n\u001b[0;32m   1805\u001b[0m \u001b[38;5;250m    \u001b[39m\u001b[38;5;124;03m\"\"\"Search n_iter candidates from param_distributions\"\"\"\u001b[39;00m\n\u001b[1;32m-> 1806\u001b[0m     evaluate_candidates(\n\u001b[0;32m   1807\u001b[0m         ParameterSampler(\n\u001b[0;32m   1808\u001b[0m             \u001b[38;5;28mself\u001b[39m\u001b[38;5;241m.\u001b[39mparam_distributions, \u001b[38;5;28mself\u001b[39m\u001b[38;5;241m.\u001b[39mn_iter, random_state\u001b[38;5;241m=\u001b[39m\u001b[38;5;28mself\u001b[39m\u001b[38;5;241m.\u001b[39mrandom_state\n\u001b[0;32m   1809\u001b[0m         )\n\u001b[0;32m   1810\u001b[0m     )\n",
      "File \u001b[1;32m~\\anaconda3\\Lib\\site-packages\\sklearn\\model_selection\\_search.py:845\u001b[0m, in \u001b[0;36mBaseSearchCV.fit.<locals>.evaluate_candidates\u001b[1;34m(candidate_params, cv, more_results)\u001b[0m\n\u001b[0;32m    837\u001b[0m \u001b[38;5;28;01mif\u001b[39;00m \u001b[38;5;28mself\u001b[39m\u001b[38;5;241m.\u001b[39mverbose \u001b[38;5;241m>\u001b[39m \u001b[38;5;241m0\u001b[39m:\n\u001b[0;32m    838\u001b[0m     \u001b[38;5;28mprint\u001b[39m(\n\u001b[0;32m    839\u001b[0m         \u001b[38;5;124m\"\u001b[39m\u001b[38;5;124mFitting \u001b[39m\u001b[38;5;132;01m{0}\u001b[39;00m\u001b[38;5;124m folds for each of \u001b[39m\u001b[38;5;132;01m{1}\u001b[39;00m\u001b[38;5;124m candidates,\u001b[39m\u001b[38;5;124m\"\u001b[39m\n\u001b[0;32m    840\u001b[0m         \u001b[38;5;124m\"\u001b[39m\u001b[38;5;124m totalling \u001b[39m\u001b[38;5;132;01m{2}\u001b[39;00m\u001b[38;5;124m fits\u001b[39m\u001b[38;5;124m\"\u001b[39m\u001b[38;5;241m.\u001b[39mformat(\n\u001b[0;32m    841\u001b[0m             n_splits, n_candidates, n_candidates \u001b[38;5;241m*\u001b[39m n_splits\n\u001b[0;32m    842\u001b[0m         )\n\u001b[0;32m    843\u001b[0m     )\n\u001b[1;32m--> 845\u001b[0m out \u001b[38;5;241m=\u001b[39m parallel(\n\u001b[0;32m    846\u001b[0m     delayed(_fit_and_score)(\n\u001b[0;32m    847\u001b[0m         clone(base_estimator),\n\u001b[0;32m    848\u001b[0m         X,\n\u001b[0;32m    849\u001b[0m         y,\n\u001b[0;32m    850\u001b[0m         train\u001b[38;5;241m=\u001b[39mtrain,\n\u001b[0;32m    851\u001b[0m         test\u001b[38;5;241m=\u001b[39mtest,\n\u001b[0;32m    852\u001b[0m         parameters\u001b[38;5;241m=\u001b[39mparameters,\n\u001b[0;32m    853\u001b[0m         split_progress\u001b[38;5;241m=\u001b[39m(split_idx, n_splits),\n\u001b[0;32m    854\u001b[0m         candidate_progress\u001b[38;5;241m=\u001b[39m(cand_idx, n_candidates),\n\u001b[0;32m    855\u001b[0m         \u001b[38;5;241m*\u001b[39m\u001b[38;5;241m*\u001b[39mfit_and_score_kwargs,\n\u001b[0;32m    856\u001b[0m     )\n\u001b[0;32m    857\u001b[0m     \u001b[38;5;28;01mfor\u001b[39;00m (cand_idx, parameters), (split_idx, (train, test)) \u001b[38;5;129;01min\u001b[39;00m product(\n\u001b[0;32m    858\u001b[0m         \u001b[38;5;28menumerate\u001b[39m(candidate_params), \u001b[38;5;28menumerate\u001b[39m(cv\u001b[38;5;241m.\u001b[39msplit(X, y, groups))\n\u001b[0;32m    859\u001b[0m     )\n\u001b[0;32m    860\u001b[0m )\n\u001b[0;32m    862\u001b[0m \u001b[38;5;28;01mif\u001b[39;00m \u001b[38;5;28mlen\u001b[39m(out) \u001b[38;5;241m<\u001b[39m \u001b[38;5;241m1\u001b[39m:\n\u001b[0;32m    863\u001b[0m     \u001b[38;5;28;01mraise\u001b[39;00m \u001b[38;5;167;01mValueError\u001b[39;00m(\n\u001b[0;32m    864\u001b[0m         \u001b[38;5;124m\"\u001b[39m\u001b[38;5;124mNo fits were performed. \u001b[39m\u001b[38;5;124m\"\u001b[39m\n\u001b[0;32m    865\u001b[0m         \u001b[38;5;124m\"\u001b[39m\u001b[38;5;124mWas the CV iterator empty? \u001b[39m\u001b[38;5;124m\"\u001b[39m\n\u001b[0;32m    866\u001b[0m         \u001b[38;5;124m\"\u001b[39m\u001b[38;5;124mWere there no candidates?\u001b[39m\u001b[38;5;124m\"\u001b[39m\n\u001b[0;32m    867\u001b[0m     )\n",
      "File \u001b[1;32m~\\anaconda3\\Lib\\site-packages\\sklearn\\utils\\parallel.py:65\u001b[0m, in \u001b[0;36mParallel.__call__\u001b[1;34m(self, iterable)\u001b[0m\n\u001b[0;32m     60\u001b[0m config \u001b[38;5;241m=\u001b[39m get_config()\n\u001b[0;32m     61\u001b[0m iterable_with_config \u001b[38;5;241m=\u001b[39m (\n\u001b[0;32m     62\u001b[0m     (_with_config(delayed_func, config), args, kwargs)\n\u001b[0;32m     63\u001b[0m     \u001b[38;5;28;01mfor\u001b[39;00m delayed_func, args, kwargs \u001b[38;5;129;01min\u001b[39;00m iterable\n\u001b[0;32m     64\u001b[0m )\n\u001b[1;32m---> 65\u001b[0m \u001b[38;5;28;01mreturn\u001b[39;00m \u001b[38;5;28msuper\u001b[39m()\u001b[38;5;241m.\u001b[39m\u001b[38;5;21m__call__\u001b[39m(iterable_with_config)\n",
      "File \u001b[1;32m~\\anaconda3\\Lib\\site-packages\\joblib\\parallel.py:1098\u001b[0m, in \u001b[0;36mParallel.__call__\u001b[1;34m(self, iterable)\u001b[0m\n\u001b[0;32m   1095\u001b[0m     \u001b[38;5;28mself\u001b[39m\u001b[38;5;241m.\u001b[39m_iterating \u001b[38;5;241m=\u001b[39m \u001b[38;5;28;01mFalse\u001b[39;00m\n\u001b[0;32m   1097\u001b[0m \u001b[38;5;28;01mwith\u001b[39;00m \u001b[38;5;28mself\u001b[39m\u001b[38;5;241m.\u001b[39m_backend\u001b[38;5;241m.\u001b[39mretrieval_context():\n\u001b[1;32m-> 1098\u001b[0m     \u001b[38;5;28mself\u001b[39m\u001b[38;5;241m.\u001b[39mretrieve()\n\u001b[0;32m   1099\u001b[0m \u001b[38;5;66;03m# Make sure that we get a last message telling us we are done\u001b[39;00m\n\u001b[0;32m   1100\u001b[0m elapsed_time \u001b[38;5;241m=\u001b[39m time\u001b[38;5;241m.\u001b[39mtime() \u001b[38;5;241m-\u001b[39m \u001b[38;5;28mself\u001b[39m\u001b[38;5;241m.\u001b[39m_start_time\n",
      "File \u001b[1;32m~\\anaconda3\\Lib\\site-packages\\joblib\\parallel.py:997\u001b[0m, in \u001b[0;36mParallel.retrieve\u001b[1;34m(self)\u001b[0m\n\u001b[0;32m    991\u001b[0m \u001b[38;5;28;01mif\u001b[39;00m (backend \u001b[38;5;129;01mis\u001b[39;00m \u001b[38;5;129;01mnot\u001b[39;00m \u001b[38;5;28;01mNone\u001b[39;00m \u001b[38;5;129;01mand\u001b[39;00m\n\u001b[0;32m    992\u001b[0m         \u001b[38;5;28mhasattr\u001b[39m(backend, \u001b[38;5;124m'\u001b[39m\u001b[38;5;124mabort_everything\u001b[39m\u001b[38;5;124m'\u001b[39m)):\n\u001b[0;32m    993\u001b[0m     \u001b[38;5;66;03m# If the backend is managed externally we need to make sure\u001b[39;00m\n\u001b[0;32m    994\u001b[0m     \u001b[38;5;66;03m# to leave it in a working state to allow for future jobs\u001b[39;00m\n\u001b[0;32m    995\u001b[0m     \u001b[38;5;66;03m# scheduling.\u001b[39;00m\n\u001b[0;32m    996\u001b[0m     ensure_ready \u001b[38;5;241m=\u001b[39m \u001b[38;5;28mself\u001b[39m\u001b[38;5;241m.\u001b[39m_managed_backend\n\u001b[1;32m--> 997\u001b[0m     backend\u001b[38;5;241m.\u001b[39mabort_everything(ensure_ready\u001b[38;5;241m=\u001b[39mensure_ready)\n\u001b[0;32m    998\u001b[0m \u001b[38;5;28;01mraise\u001b[39;00m\n",
      "File \u001b[1;32m~\\anaconda3\\Lib\\site-packages\\joblib\\_parallel_backends.py:586\u001b[0m, in \u001b[0;36mLokyBackend.abort_everything\u001b[1;34m(self, ensure_ready)\u001b[0m\n\u001b[0;32m    583\u001b[0m \u001b[38;5;28;01mdef\u001b[39;00m \u001b[38;5;21mabort_everything\u001b[39m(\u001b[38;5;28mself\u001b[39m, ensure_ready\u001b[38;5;241m=\u001b[39m\u001b[38;5;28;01mTrue\u001b[39;00m):\n\u001b[0;32m    584\u001b[0m \u001b[38;5;250m    \u001b[39m\u001b[38;5;124;03m\"\"\"Shutdown the workers and restart a new one with the same parameters\u001b[39;00m\n\u001b[0;32m    585\u001b[0m \u001b[38;5;124;03m    \"\"\"\u001b[39;00m\n\u001b[1;32m--> 586\u001b[0m     \u001b[38;5;28mself\u001b[39m\u001b[38;5;241m.\u001b[39m_workers\u001b[38;5;241m.\u001b[39mterminate(kill_workers\u001b[38;5;241m=\u001b[39m\u001b[38;5;28;01mTrue\u001b[39;00m)\n\u001b[0;32m    587\u001b[0m     \u001b[38;5;28mself\u001b[39m\u001b[38;5;241m.\u001b[39m_workers \u001b[38;5;241m=\u001b[39m \u001b[38;5;28;01mNone\u001b[39;00m\n\u001b[0;32m    589\u001b[0m     \u001b[38;5;28;01mif\u001b[39;00m ensure_ready:\n",
      "File \u001b[1;32m~\\anaconda3\\Lib\\site-packages\\joblib\\executor.py:74\u001b[0m, in \u001b[0;36mMemmappingExecutor.terminate\u001b[1;34m(self, kill_workers)\u001b[0m\n\u001b[0;32m     73\u001b[0m \u001b[38;5;28;01mdef\u001b[39;00m \u001b[38;5;21mterminate\u001b[39m(\u001b[38;5;28mself\u001b[39m, kill_workers\u001b[38;5;241m=\u001b[39m\u001b[38;5;28;01mFalse\u001b[39;00m):\n\u001b[1;32m---> 74\u001b[0m     \u001b[38;5;28mself\u001b[39m\u001b[38;5;241m.\u001b[39mshutdown(kill_workers\u001b[38;5;241m=\u001b[39mkill_workers)\n\u001b[0;32m     75\u001b[0m     \u001b[38;5;28;01mif\u001b[39;00m kill_workers:\n\u001b[0;32m     76\u001b[0m         \u001b[38;5;66;03m# When workers are killed in such a brutal manner, they cannot\u001b[39;00m\n\u001b[0;32m     77\u001b[0m         \u001b[38;5;66;03m# execute the finalizer of their shared memmaps. The refcount of\u001b[39;00m\n\u001b[1;32m   (...)\u001b[0m\n\u001b[0;32m     83\u001b[0m \n\u001b[0;32m     84\u001b[0m         \u001b[38;5;66;03m# unregister temporary resources from all contexts\u001b[39;00m\n\u001b[0;32m     85\u001b[0m         \u001b[38;5;28;01mwith\u001b[39;00m \u001b[38;5;28mself\u001b[39m\u001b[38;5;241m.\u001b[39m_submit_resize_lock:\n",
      "File \u001b[1;32m~\\anaconda3\\Lib\\site-packages\\joblib\\externals\\loky\\process_executor.py:1199\u001b[0m, in \u001b[0;36mProcessPoolExecutor.shutdown\u001b[1;34m(self, wait, kill_workers)\u001b[0m\n\u001b[0;32m   1196\u001b[0m         \u001b[38;5;28mself\u001b[39m\u001b[38;5;241m.\u001b[39m_executor_manager_thread_wakeup\u001b[38;5;241m.\u001b[39mwakeup()\n\u001b[0;32m   1198\u001b[0m \u001b[38;5;28;01mif\u001b[39;00m executor_manager_thread \u001b[38;5;129;01mis\u001b[39;00m \u001b[38;5;129;01mnot\u001b[39;00m \u001b[38;5;28;01mNone\u001b[39;00m \u001b[38;5;129;01mand\u001b[39;00m wait:\n\u001b[1;32m-> 1199\u001b[0m     executor_manager_thread\u001b[38;5;241m.\u001b[39mjoin()\n\u001b[0;32m   1201\u001b[0m \u001b[38;5;66;03m# To reduce the risk of opening too many files, remove references to\u001b[39;00m\n\u001b[0;32m   1202\u001b[0m \u001b[38;5;66;03m# objects that use file descriptors.\u001b[39;00m\n\u001b[0;32m   1203\u001b[0m \u001b[38;5;28mself\u001b[39m\u001b[38;5;241m.\u001b[39m_executor_manager_thread \u001b[38;5;241m=\u001b[39m \u001b[38;5;28;01mNone\u001b[39;00m\n",
      "File \u001b[1;32m~\\anaconda3\\Lib\\threading.py:1112\u001b[0m, in \u001b[0;36mThread.join\u001b[1;34m(self, timeout)\u001b[0m\n\u001b[0;32m   1109\u001b[0m     \u001b[38;5;28;01mraise\u001b[39;00m \u001b[38;5;167;01mRuntimeError\u001b[39;00m(\u001b[38;5;124m\"\u001b[39m\u001b[38;5;124mcannot join current thread\u001b[39m\u001b[38;5;124m\"\u001b[39m)\n\u001b[0;32m   1111\u001b[0m \u001b[38;5;28;01mif\u001b[39;00m timeout \u001b[38;5;129;01mis\u001b[39;00m \u001b[38;5;28;01mNone\u001b[39;00m:\n\u001b[1;32m-> 1112\u001b[0m     \u001b[38;5;28mself\u001b[39m\u001b[38;5;241m.\u001b[39m_wait_for_tstate_lock()\n\u001b[0;32m   1113\u001b[0m \u001b[38;5;28;01melse\u001b[39;00m:\n\u001b[0;32m   1114\u001b[0m     \u001b[38;5;66;03m# the behavior of a negative timeout isn't documented, but\u001b[39;00m\n\u001b[0;32m   1115\u001b[0m     \u001b[38;5;66;03m# historically .join(timeout=x) for x<0 has acted as if timeout=0\u001b[39;00m\n\u001b[0;32m   1116\u001b[0m     \u001b[38;5;28mself\u001b[39m\u001b[38;5;241m.\u001b[39m_wait_for_tstate_lock(timeout\u001b[38;5;241m=\u001b[39m\u001b[38;5;28mmax\u001b[39m(timeout, \u001b[38;5;241m0\u001b[39m))\n",
      "File \u001b[1;32m~\\anaconda3\\Lib\\threading.py:1132\u001b[0m, in \u001b[0;36mThread._wait_for_tstate_lock\u001b[1;34m(self, block, timeout)\u001b[0m\n\u001b[0;32m   1129\u001b[0m     \u001b[38;5;28;01mreturn\u001b[39;00m\n\u001b[0;32m   1131\u001b[0m \u001b[38;5;28;01mtry\u001b[39;00m:\n\u001b[1;32m-> 1132\u001b[0m     \u001b[38;5;28;01mif\u001b[39;00m lock\u001b[38;5;241m.\u001b[39macquire(block, timeout):\n\u001b[0;32m   1133\u001b[0m         lock\u001b[38;5;241m.\u001b[39mrelease()\n\u001b[0;32m   1134\u001b[0m         \u001b[38;5;28mself\u001b[39m\u001b[38;5;241m.\u001b[39m_stop()\n",
      "\u001b[1;31mKeyboardInterrupt\u001b[0m: "
     ]
    }
   ],
   "source": [
    "%%time\n",
    "\n",
    "pipe = Pipeline([('tfidf', TfidfVectorizer(stop_words=list(stopwords))),\n",
    "                 ('cbc', CatBoostClassifier(random_state=12345, verbose=False))])\n",
    "parameters = {\n",
    "    'cbc__iterations': [100, 500],\n",
    "    'tfidf__min_df': range(1, 3, 1)\n",
    "}\n",
    "\n",
    "grid = RandomizedSearchCV(pipe, param_distributions=parameters, scoring='f1', verbose=5, n_jobs=-1) \n",
    "grid.fit(corpus_train, target_train) \n",
    "\n",
    "f1_train = round(abs(grid.best_score_), 3)\n",
    "rf_best_params = grid.best_params_\n",
    "\n",
    "print()\n",
    "print(f\"Значение F1 модели на трейне: {f1_train}\")\n",
    "print(f\"Оптимальные гиперпараметры для модели: {grid.best_params_}\")\n",
    "print()"
   ]
  },
  {
   "cell_type": "markdown",
   "metadata": {},
   "source": [
    "## Проверка наилучшей модели на тестовой выборке"
   ]
  },
  {
   "cell_type": "markdown",
   "metadata": {},
   "source": [
    "По результатам исслдоевания различных моделей получено, что наилучший показатель F1 меры имеет модель Логистической регрессии. Проверим эту модель на тестовой выборке с наилучшими гиперпараметрами"
   ]
  },
  {
   "cell_type": "code",
   "execution_count": 24,
   "metadata": {
    "scrolled": false
   },
   "outputs": [
    {
     "ename": "AttributeError",
     "evalue": "'RandomizedSearchCV' object has no attribute 'best_params_'",
     "output_type": "error",
     "traceback": [
      "\u001b[1;31m---------------------------------------------------------------------------\u001b[0m",
      "\u001b[1;31mAttributeError\u001b[0m                            Traceback (most recent call last)",
      "File \u001b[1;32m<timed exec>:2\u001b[0m\n",
      "\u001b[1;31mAttributeError\u001b[0m: 'RandomizedSearchCV' object has no attribute 'best_params_'"
     ]
    }
   ],
   "source": [
    "%%time\n",
    "\n",
    "pipe = Pipeline([('tfidf', TfidfVectorizer(stop_words=list(stopwords))), ('lrc', LogisticRegression())])\n",
    "pipe.set_params(**grid.best_params_)\n",
    "pipe.fit(corpus_train, target_train)\n",
    "\n",
    "target_predict = pipe.predict(corpus_test)\n",
    "f1_test = round(f1_score(target_test, target_predict), 3)\n",
    "print(f\"F1 модели на тесте: {f1_test}\")\n",
    "print()"
   ]
  },
  {
   "cell_type": "markdown",
   "metadata": {},
   "source": [
    "Таким образом, получили что F1 мера на тестовой выборке для модели логистической регрессии получилась равной 0,761"
   ]
  },
  {
   "cell_type": "markdown",
   "metadata": {},
   "source": [
    "## Выводы"
   ]
  },
  {
   "cell_type": "markdown",
   "metadata": {},
   "source": [
    "Нашей задачей было найти и обучить модель классифицировать комментарии на позитивные и негативные. Необходимо было построить модель со значением метрики качества *F1* не меньше 0.75. \n",
    "\n",
    "Для решения поставленной задачи мы выгрузили и подготовили данные, состоящие из текстов комментариев, которые определены как положительные или негативные. Очистили тексты от лишних символом, лемматизировали его, подготовли тексты в качестве признаков.\n",
    "\n",
    "В качестве исследуемых моделей выбрали модели:\n",
    "- LogisticRegression;\n",
    "- RandomForestClassifier;\n",
    "- CatBoostClassifier\n",
    "\n",
    "Значения F1 получились следующими:\n",
    "- для LogisticRegression значение на обучающей выборке F1=0.755, на тестовой выборке F1=0.761\n",
    "- для RandomForestClassifier значение на обучающей выборке F1=0.725, на тестовой выборке F1=0.728\n",
    "- для CatBoostClassifier значение на обучающей выборке F1=0.743, на тестовой выборке F1=0.759\n",
    "\n",
    "Очевидно, что наилучшем результатом обладает модель LogisticRegression, так как помимо достигнутого порога F1=0.75, данная модель выполнила вычисления горзда быстрее остальных, что так же не маловажно при выборе подходящей модели."
   ]
  }
 ],
 "metadata": {
  "ExecuteTimeLog": [
   {
    "duration": 441,
    "start_time": "2023-10-20T06:27:25.049Z"
   },
   {
    "duration": 2378,
    "start_time": "2023-10-20T06:27:50.821Z"
   },
   {
    "duration": 20,
    "start_time": "2023-10-20T06:28:04.340Z"
   },
   {
    "duration": 34,
    "start_time": "2023-10-20T06:28:16.557Z"
   },
   {
    "duration": 1296,
    "start_time": "2023-10-20T06:31:15.283Z"
   },
   {
    "duration": 8,
    "start_time": "2023-10-20T06:34:46.340Z"
   },
   {
    "duration": 129,
    "start_time": "2023-10-20T06:39:51.066Z"
   },
   {
    "duration": 22,
    "start_time": "2023-10-20T06:40:02.034Z"
   },
   {
    "duration": 9,
    "start_time": "2023-10-20T07:12:54.242Z"
   },
   {
    "duration": 689,
    "start_time": "2023-10-20T07:21:41.789Z"
   },
   {
    "duration": 418,
    "start_time": "2023-10-20T07:23:25.192Z"
   },
   {
    "duration": 4,
    "start_time": "2023-10-20T07:26:56.901Z"
   },
   {
    "duration": 2312,
    "start_time": "2023-10-20T07:28:25.725Z"
   },
   {
    "duration": 4,
    "start_time": "2023-10-20T07:28:49.349Z"
   },
   {
    "duration": 90392,
    "start_time": "2023-10-20T07:29:20.222Z"
   },
   {
    "duration": 624,
    "start_time": "2023-10-20T07:30:50.617Z"
   },
   {
    "duration": 21,
    "start_time": "2023-10-20T07:31:39.543Z"
   },
   {
    "duration": 11,
    "start_time": "2023-10-20T07:31:48.751Z"
   },
   {
    "duration": 33,
    "start_time": "2023-10-20T07:58:15.781Z"
   },
   {
    "duration": 11,
    "start_time": "2023-10-20T07:58:44.269Z"
   },
   {
    "duration": 5,
    "start_time": "2023-10-20T08:14:05.072Z"
   },
   {
    "duration": 12,
    "start_time": "2023-10-20T08:14:42.046Z"
   },
   {
    "duration": 266,
    "start_time": "2023-10-20T08:15:21.174Z"
   },
   {
    "duration": 8088,
    "start_time": "2023-10-20T08:15:25.823Z"
   },
   {
    "duration": 264,
    "start_time": "2023-10-20T09:28:59.528Z"
   },
   {
    "duration": 89261,
    "start_time": "2023-10-20T10:43:34.446Z"
   },
   {
    "duration": 1218,
    "start_time": "2023-10-20T10:48:57.077Z"
   },
   {
    "duration": 13,
    "start_time": "2023-10-20T10:49:00.348Z"
   },
   {
    "duration": 17,
    "start_time": "2023-10-20T10:51:26.752Z"
   },
   {
    "duration": 4,
    "start_time": "2023-10-20T10:51:38.735Z"
   },
   {
    "duration": 11,
    "start_time": "2023-10-20T10:51:47.911Z"
   },
   {
    "duration": 5,
    "start_time": "2023-10-20T10:52:04.190Z"
   },
   {
    "duration": 1707,
    "start_time": "2023-10-20T10:56:42.679Z"
   },
   {
    "duration": 1007,
    "start_time": "2023-10-20T10:56:44.388Z"
   },
   {
    "duration": 51,
    "start_time": "2023-10-20T10:56:45.396Z"
   },
   {
    "duration": 26,
    "start_time": "2023-10-20T10:56:45.449Z"
   },
   {
    "duration": 470,
    "start_time": "2023-10-20T10:56:45.478Z"
   },
   {
    "duration": 325,
    "start_time": "2023-10-20T10:56:45.950Z"
   },
   {
    "duration": 3,
    "start_time": "2023-10-20T10:56:46.278Z"
   },
   {
    "duration": 2318,
    "start_time": "2023-10-20T10:56:46.282Z"
   },
   {
    "duration": 4,
    "start_time": "2023-10-20T10:56:48.602Z"
   },
   {
    "duration": 90890,
    "start_time": "2023-10-20T10:56:48.608Z"
   },
   {
    "duration": 1238,
    "start_time": "2023-10-20T10:58:19.500Z"
   },
   {
    "duration": 29,
    "start_time": "2023-10-20T10:58:20.740Z"
   },
   {
    "duration": 120,
    "start_time": "2023-10-20T10:58:20.771Z"
   },
   {
    "duration": 36,
    "start_time": "2023-10-20T10:58:20.895Z"
   },
   {
    "duration": 104,
    "start_time": "2023-10-20T10:58:20.933Z"
   },
   {
    "duration": 44,
    "start_time": "2023-10-20T10:58:21.039Z"
   },
   {
    "duration": 160,
    "start_time": "2023-10-20T10:58:21.085Z"
   },
   {
    "duration": 0,
    "start_time": "2023-10-20T10:58:21.247Z"
   },
   {
    "duration": 12,
    "start_time": "2023-10-20T10:58:29.253Z"
   },
   {
    "duration": 21,
    "start_time": "2023-10-20T10:59:31.661Z"
   },
   {
    "duration": 3,
    "start_time": "2023-10-20T10:59:56.773Z"
   },
   {
    "duration": 1740,
    "start_time": "2023-10-20T11:09:37.702Z"
   },
   {
    "duration": 1037,
    "start_time": "2023-10-20T11:09:39.444Z"
   },
   {
    "duration": 34,
    "start_time": "2023-10-20T11:09:40.483Z"
   },
   {
    "duration": 285,
    "start_time": "2023-10-20T11:09:40.519Z"
   },
   {
    "duration": 521,
    "start_time": "2023-10-20T11:09:40.806Z"
   },
   {
    "duration": 349,
    "start_time": "2023-10-20T11:09:41.329Z"
   },
   {
    "duration": 5,
    "start_time": "2023-10-20T11:09:41.681Z"
   },
   {
    "duration": 2513,
    "start_time": "2023-10-20T11:09:41.688Z"
   },
   {
    "duration": 3,
    "start_time": "2023-10-20T11:09:44.204Z"
   },
   {
    "duration": 93328,
    "start_time": "2023-10-20T11:09:44.210Z"
   },
   {
    "duration": 1250,
    "start_time": "2023-10-20T11:11:17.540Z"
   },
   {
    "duration": 12,
    "start_time": "2023-10-20T11:11:18.791Z"
   },
   {
    "duration": 61,
    "start_time": "2023-10-20T11:11:18.805Z"
   },
   {
    "duration": 73,
    "start_time": "2023-10-20T11:11:18.868Z"
   },
   {
    "duration": 195,
    "start_time": "2023-10-20T11:11:18.942Z"
   },
   {
    "duration": 0,
    "start_time": "2023-10-20T11:11:19.140Z"
   },
   {
    "duration": 0,
    "start_time": "2023-10-20T11:11:19.141Z"
   },
   {
    "duration": 23,
    "start_time": "2023-10-20T11:14:14.753Z"
   },
   {
    "duration": 10,
    "start_time": "2023-10-20T11:14:28.066Z"
   },
   {
    "duration": 6067,
    "start_time": "2023-10-20T11:15:07.952Z"
   },
   {
    "duration": 1423,
    "start_time": "2023-10-20T11:15:16.579Z"
   },
   {
    "duration": 3,
    "start_time": "2023-10-20T11:15:38.659Z"
   },
   {
    "duration": 13,
    "start_time": "2023-10-20T11:17:00.940Z"
   },
   {
    "duration": 16,
    "start_time": "2023-10-20T11:17:15.660Z"
   },
   {
    "duration": 12,
    "start_time": "2023-10-20T12:29:24.468Z"
   },
   {
    "duration": 259,
    "start_time": "2023-10-20T12:29:40.821Z"
   },
   {
    "duration": 258,
    "start_time": "2023-10-20T12:30:02.980Z"
   },
   {
    "duration": 11,
    "start_time": "2023-10-20T12:30:50.485Z"
   },
   {
    "duration": 254,
    "start_time": "2023-10-20T12:32:08.719Z"
   },
   {
    "duration": 910,
    "start_time": "2023-10-20T12:32:11.437Z"
   },
   {
    "duration": 43,
    "start_time": "2023-10-20T12:32:13.974Z"
   },
   {
    "duration": 14,
    "start_time": "2023-10-20T12:32:19.709Z"
   },
   {
    "duration": 143,
    "start_time": "2023-10-20T12:32:24.230Z"
   },
   {
    "duration": 266,
    "start_time": "2023-10-20T12:32:31.246Z"
   },
   {
    "duration": 14,
    "start_time": "2023-10-20T12:32:35.022Z"
   },
   {
    "duration": 321,
    "start_time": "2023-10-20T12:32:36.958Z"
   },
   {
    "duration": 3,
    "start_time": "2023-10-20T12:32:44.335Z"
   },
   {
    "duration": 2458,
    "start_time": "2023-10-20T12:32:48.111Z"
   },
   {
    "duration": 8,
    "start_time": "2023-10-20T12:33:09.094Z"
   },
   {
    "duration": 5,
    "start_time": "2023-10-20T12:33:38.536Z"
   },
   {
    "duration": 90720,
    "start_time": "2023-10-20T12:33:43.551Z"
   },
   {
    "duration": 8,
    "start_time": "2023-10-20T12:35:14.273Z"
   },
   {
    "duration": 92344,
    "start_time": "2023-10-20T12:36:12.434Z"
   },
   {
    "duration": 9,
    "start_time": "2023-10-20T12:37:44.780Z"
   },
   {
    "duration": 9,
    "start_time": "2023-10-20T12:38:13.524Z"
   },
   {
    "duration": 911,
    "start_time": "2023-10-20T12:38:17.372Z"
   },
   {
    "duration": 34,
    "start_time": "2023-10-20T12:38:19.404Z"
   },
   {
    "duration": 12,
    "start_time": "2023-10-20T12:38:22.492Z"
   },
   {
    "duration": 122,
    "start_time": "2023-10-20T12:38:25.652Z"
   },
   {
    "duration": 271,
    "start_time": "2023-10-20T12:38:28.004Z"
   },
   {
    "duration": 18,
    "start_time": "2023-10-20T12:38:32.172Z"
   },
   {
    "duration": 331,
    "start_time": "2023-10-20T12:38:34.948Z"
   },
   {
    "duration": 3,
    "start_time": "2023-10-20T12:38:37.532Z"
   },
   {
    "duration": 2325,
    "start_time": "2023-10-20T12:38:40.732Z"
   },
   {
    "duration": 7,
    "start_time": "2023-10-20T12:38:45.286Z"
   },
   {
    "duration": 4,
    "start_time": "2023-10-20T12:38:47.892Z"
   },
   {
    "duration": 89461,
    "start_time": "2023-10-20T12:38:50.988Z"
   },
   {
    "duration": 8,
    "start_time": "2023-10-20T12:40:24.185Z"
   },
   {
    "duration": 22,
    "start_time": "2023-10-20T12:43:32.995Z"
   },
   {
    "duration": 6322,
    "start_time": "2023-10-20T12:43:48.850Z"
   },
   {
    "duration": 1477,
    "start_time": "2023-10-20T12:44:08.594Z"
   },
   {
    "duration": 4,
    "start_time": "2023-10-20T12:44:27.402Z"
   },
   {
    "duration": 93,
    "start_time": "2023-10-20T12:53:53.739Z"
   },
   {
    "duration": 659,
    "start_time": "2023-10-20T12:54:30.565Z"
   },
   {
    "duration": 12,
    "start_time": "2023-10-20T12:57:22.127Z"
   },
   {
    "duration": 11,
    "start_time": "2023-10-20T12:58:38.681Z"
   },
   {
    "duration": 35,
    "start_time": "2023-10-20T12:58:46.937Z"
   },
   {
    "duration": 8,
    "start_time": "2023-10-20T12:59:00.993Z"
   },
   {
    "duration": 7354,
    "start_time": "2023-10-20T12:59:12.457Z"
   },
   {
    "duration": 295426,
    "start_time": "2023-10-20T12:59:59.763Z"
   },
   {
    "duration": 1167612,
    "start_time": "2023-10-20T13:05:22.400Z"
   },
   {
    "duration": 47665,
    "start_time": "2023-10-20T13:25:10.671Z"
   },
   {
    "duration": 21,
    "start_time": "2023-10-20T13:26:03.640Z"
   },
   {
    "duration": 3,
    "start_time": "2023-10-20T13:26:08.319Z"
   },
   {
    "duration": 4,
    "start_time": "2023-10-20T13:26:11.663Z"
   },
   {
    "duration": 73378,
    "start_time": "2023-10-20T13:26:15.664Z"
   },
   {
    "duration": 8973,
    "start_time": "2023-10-20T13:27:29.045Z"
   },
   {
    "duration": 4,
    "start_time": "2023-10-20T13:27:38.020Z"
   },
   {
    "duration": 113412,
    "start_time": "2023-10-20T13:27:38.026Z"
   },
   {
    "duration": 9119,
    "start_time": "2023-10-20T13:29:31.440Z"
   },
   {
    "duration": 4,
    "start_time": "2023-10-20T13:29:40.562Z"
   },
   {
    "duration": 31,
    "start_time": "2023-10-20T13:29:40.568Z"
   },
   {
    "duration": 55643,
    "start_time": "2023-10-20T13:30:33.614Z"
   },
   {
    "duration": 152,
    "start_time": "2023-10-20T13:32:12.180Z"
   },
   {
    "duration": 286,
    "start_time": "2023-10-20T13:32:34.630Z"
   },
   {
    "duration": 665355,
    "start_time": "2023-10-20T13:32:45.703Z"
   },
   {
    "duration": 113,
    "start_time": "2023-10-20T13:43:51.060Z"
   },
   {
    "duration": 1864,
    "start_time": "2023-10-20T17:58:32.071Z"
   },
   {
    "duration": 2338,
    "start_time": "2023-10-20T17:58:33.938Z"
   },
   {
    "duration": 30,
    "start_time": "2023-10-20T17:58:36.278Z"
   },
   {
    "duration": 27,
    "start_time": "2023-10-20T17:58:36.311Z"
   },
   {
    "duration": 607,
    "start_time": "2023-10-20T17:58:36.340Z"
   },
   {
    "duration": 305,
    "start_time": "2023-10-20T17:58:36.949Z"
   },
   {
    "duration": 14,
    "start_time": "2023-10-20T17:58:37.256Z"
   },
   {
    "duration": 22,
    "start_time": "2023-10-20T17:58:37.272Z"
   },
   {
    "duration": 2075,
    "start_time": "2023-10-20T17:58:37.295Z"
   },
   {
    "duration": 6,
    "start_time": "2023-10-20T17:58:39.374Z"
   },
   {
    "duration": 11,
    "start_time": "2023-10-20T17:58:39.382Z"
   },
   {
    "duration": 78367,
    "start_time": "2023-10-20T17:58:39.394Z"
   },
   {
    "duration": 6,
    "start_time": "2023-10-20T17:59:57.763Z"
   },
   {
    "duration": 27,
    "start_time": "2023-10-20T17:59:57.771Z"
   },
   {
    "duration": 7,
    "start_time": "2023-10-20T17:59:57.799Z"
   },
   {
    "duration": 6554,
    "start_time": "2023-10-20T17:59:57.808Z"
   },
   {
    "duration": 3,
    "start_time": "2023-10-20T18:00:04.363Z"
   },
   {
    "duration": 1224547,
    "start_time": "2023-10-20T18:00:04.368Z"
   },
   {
    "duration": 50692,
    "start_time": "2023-10-20T18:20:28.917Z"
   },
   {
    "duration": 3,
    "start_time": "2023-10-20T18:21:19.611Z"
   },
   {
    "duration": 7902635,
    "start_time": "2023-10-20T18:21:19.616Z"
   },
   {
    "duration": 542021,
    "start_time": "2023-10-20T20:33:02.253Z"
   },
   {
    "duration": 2,
    "start_time": "2023-10-20T20:42:04.276Z"
   },
   {
    "duration": 104878,
    "start_time": "2023-10-20T20:42:04.280Z"
   },
   {
    "duration": 6919,
    "start_time": "2023-10-20T20:43:49.159Z"
   },
   {
    "duration": 3,
    "start_time": "2023-10-20T20:43:56.079Z"
   },
   {
    "duration": 17,
    "start_time": "2023-10-20T20:43:56.083Z"
   },
   {
    "duration": 14,
    "start_time": "2023-10-20T20:50:23.011Z"
   },
   {
    "duration": 12175378,
    "start_time": "2023-10-20T20:50:41.551Z"
   },
   {
    "duration": 1145219,
    "start_time": "2023-10-21T00:13:36.931Z"
   },
   {
    "duration": 38,
    "start_time": "2023-10-21T00:32:42.151Z"
   },
   {
    "duration": 0,
    "start_time": "2023-10-21T00:32:42.191Z"
   },
   {
    "duration": 13,
    "start_time": "2023-10-21T07:43:51.712Z"
   },
   {
    "duration": 11,
    "start_time": "2023-10-21T07:44:22.163Z"
   },
   {
    "duration": 12,
    "start_time": "2023-10-21T07:46:41.138Z"
   },
   {
    "duration": 13,
    "start_time": "2023-10-21T07:46:59.982Z"
   },
   {
    "duration": 2075,
    "start_time": "2023-10-23T06:08:19.970Z"
   },
   {
    "duration": 2396,
    "start_time": "2023-10-23T06:08:24.539Z"
   },
   {
    "duration": 31,
    "start_time": "2023-10-23T06:08:29.210Z"
   },
   {
    "duration": 14,
    "start_time": "2023-10-23T06:08:32.114Z"
   },
   {
    "duration": 563,
    "start_time": "2023-10-23T06:08:34.459Z"
   },
   {
    "duration": 273,
    "start_time": "2023-10-23T06:08:37.995Z"
   },
   {
    "duration": 13,
    "start_time": "2023-10-23T06:08:51.339Z"
   },
   {
    "duration": 2,
    "start_time": "2023-10-23T06:08:55.522Z"
   },
   {
    "duration": 7,
    "start_time": "2023-10-23T06:09:47.852Z"
   },
   {
    "duration": 2191,
    "start_time": "2023-10-23T06:09:50.533Z"
   },
   {
    "duration": 8,
    "start_time": "2023-10-23T06:09:54.842Z"
   },
   {
    "duration": 5,
    "start_time": "2023-10-23T06:14:17.514Z"
   },
   {
    "duration": 4,
    "start_time": "2023-10-23T06:14:22.058Z"
   },
   {
    "duration": 5,
    "start_time": "2023-10-23T06:14:52.043Z"
   },
   {
    "duration": 500,
    "start_time": "2023-10-23T06:14:56.579Z"
   },
   {
    "duration": 5,
    "start_time": "2023-10-23T06:15:13.989Z"
   },
   {
    "duration": 384,
    "start_time": "2023-10-23T06:15:16.259Z"
   },
   {
    "duration": 439,
    "start_time": "2023-10-23T06:15:46.195Z"
   },
   {
    "duration": 534,
    "start_time": "2023-10-23T06:15:52.908Z"
   },
   {
    "duration": 18,
    "start_time": "2023-10-23T06:16:42.406Z"
   },
   {
    "duration": 5,
    "start_time": "2023-10-23T06:16:53.477Z"
   },
   {
    "duration": 1131658,
    "start_time": "2023-10-23T06:16:57.373Z"
   },
   {
    "duration": 8,
    "start_time": "2023-10-23T06:44:31.887Z"
   },
   {
    "duration": 38,
    "start_time": "2023-10-23T06:44:39.687Z"
   },
   {
    "duration": 8,
    "start_time": "2023-10-23T06:44:41.722Z"
   },
   {
    "duration": 7231,
    "start_time": "2023-10-23T06:44:44.302Z"
   },
   {
    "duration": 1139877,
    "start_time": "2023-10-23T06:45:00.418Z"
   },
   {
    "duration": 55,
    "start_time": "2023-10-23T07:09:11.125Z"
   },
   {
    "duration": 1213583,
    "start_time": "2023-10-23T07:09:18.757Z"
   },
   {
    "duration": 992300,
    "start_time": "2023-10-23T07:36:15.724Z"
   },
   {
    "duration": 1047327,
    "start_time": "2023-10-23T08:01:18.490Z"
   },
   {
    "duration": 101,
    "start_time": "2023-10-23T08:32:45.961Z"
   },
   {
    "duration": 92,
    "start_time": "2023-10-23T08:33:20.030Z"
   },
   {
    "duration": 56336,
    "start_time": "2023-10-23T08:33:29.494Z"
   }
  ],
  "kernelspec": {
   "display_name": "Python 3 (ipykernel)",
   "language": "python",
   "name": "python3"
  },
  "language_info": {
   "codemirror_mode": {
    "name": "ipython",
    "version": 3
   },
   "file_extension": ".py",
   "mimetype": "text/x-python",
   "name": "python",
   "nbconvert_exporter": "python",
   "pygments_lexer": "ipython3",
   "version": "3.11.5"
  },
  "toc": {
   "base_numbering": 1,
   "nav_menu": {},
   "number_sections": true,
   "sideBar": true,
   "skip_h1_title": true,
   "title_cell": "Содержание",
   "title_sidebar": "Contents",
   "toc_cell": true,
   "toc_position": {
    "height": "calc(100% - 180px)",
    "left": "10px",
    "top": "150px",
    "width": "165px"
   },
   "toc_section_display": true,
   "toc_window_display": true
  }
 },
 "nbformat": 4,
 "nbformat_minor": 2
}
