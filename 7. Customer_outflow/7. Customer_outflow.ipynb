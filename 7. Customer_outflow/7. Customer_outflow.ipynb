{
 "cells": [
  {
   "cell_type": "markdown",
   "metadata": {
    "toc": true
   },
   "source": [
    "<h1>Содержание<span class=\"tocSkip\"></span></h1>\n",
    "<div class=\"toc\"><ul class=\"toc-item\"><li><span><a href=\"#Подготовка-данных\" data-toc-modified-id=\"Подготовка-данных-1\"><span class=\"toc-item-num\">1&nbsp;&nbsp;</span>Подготовка данных</a></span><ul class=\"toc-item\"><li><span><a href=\"#Импортирование-библиотек\" data-toc-modified-id=\"Импортирование-библиотек-1.1\"><span class=\"toc-item-num\">1.1&nbsp;&nbsp;</span>Импортирование библиотек</a></span></li><li><span><a href=\"#Выгрузка-и-анализ--данных\" data-toc-modified-id=\"Выгрузка-и-анализ--данных-1.2\"><span class=\"toc-item-num\">1.2&nbsp;&nbsp;</span>Выгрузка и анализ  данных</a></span><ul class=\"toc-item\"><li><span><a href=\"#Выгрузка-данных\" data-toc-modified-id=\"Выгрузка-данных-1.2.1\"><span class=\"toc-item-num\">1.2.1&nbsp;&nbsp;</span>Выгрузка данных</a></span></li><li><span><a href=\"#Исследование-данных\" data-toc-modified-id=\"Исследование-данных-1.2.2\"><span class=\"toc-item-num\">1.2.2&nbsp;&nbsp;</span>Исследование данных</a></span></li></ul></li></ul></li><li><span><a href=\"#Исследование-задачи\" data-toc-modified-id=\"Исследование-задачи-2\"><span class=\"toc-item-num\">2&nbsp;&nbsp;</span>Исследование задачи</a></span><ul class=\"toc-item\"><li><span><a href=\"#Разделение-данных\" data-toc-modified-id=\"Разделение-данных-2.1\"><span class=\"toc-item-num\">2.1&nbsp;&nbsp;</span>Разделение данных</a></span></li><li><span><a href=\"#Преобразование-категориальных-переменных-в-численные\" data-toc-modified-id=\"Преобразование-категориальных-переменных-в-численные-2.2\"><span class=\"toc-item-num\">2.2&nbsp;&nbsp;</span>Преобразование категориальных переменных в численные</a></span></li><li><span><a href=\"#Масштабирование-признаков\" data-toc-modified-id=\"Масштабирование-признаков-2.3\"><span class=\"toc-item-num\">2.3&nbsp;&nbsp;</span>Масштабирование признаков</a></span></li><li><span><a href=\"#Обучение-модели-Решающего-дерева-и-рассмотрение-его-метрик\" data-toc-modified-id=\"Обучение-модели-Решающего-дерева-и-рассмотрение-его-метрик-2.4\"><span class=\"toc-item-num\">2.4&nbsp;&nbsp;</span>Обучение модели Решающего дерева и рассмотрение его метрик</a></span></li><li><span><a href=\"#Обучение-модели-Случайного-леса-и-рассмотрение-его-метрик\" data-toc-modified-id=\"Обучение-модели-Случайного-леса-и-рассмотрение-его-метрик-2.5\"><span class=\"toc-item-num\">2.5&nbsp;&nbsp;</span>Обучение модели Случайного леса и рассмотрение его метрик</a></span></li></ul></li><li><span><a href=\"#Борьба-с-дисбалансом\" data-toc-modified-id=\"Борьба-с-дисбалансом-3\"><span class=\"toc-item-num\">3&nbsp;&nbsp;</span>Борьба с дисбалансом</a></span><ul class=\"toc-item\"><li><span><a href=\"#Увеличение-выборки-класса-&quot;1&quot;\" data-toc-modified-id=\"Увеличение-выборки-класса-&quot;1&quot;-3.1\"><span class=\"toc-item-num\">3.1&nbsp;&nbsp;</span>Увеличение выборки класса \"1\"</a></span><ul class=\"toc-item\"><li><span><a href=\"#Обучим-модель-Решающего-дерева-и-посмотрим-на-его-метрики:-F1-меру-и--AUC-ROC\" data-toc-modified-id=\"Обучим-модель-Решающего-дерева-и-посмотрим-на-его-метрики:-F1-меру-и--AUC-ROC-3.1.1\"><span class=\"toc-item-num\">3.1.1&nbsp;&nbsp;</span>Обучим модель Решающего дерева и посмотрим на его метрики: F1-меру и  AUC-ROC</a></span></li><li><span><a href=\"#Обучим-модель-Случайного-леса-и-посмотрим-на-его-метрики:-F1-меру-и--AUC-ROC\" data-toc-modified-id=\"Обучим-модель-Случайного-леса-и-посмотрим-на-его-метрики:-F1-меру-и--AUC-ROC-3.1.2\"><span class=\"toc-item-num\">3.1.2&nbsp;&nbsp;</span>Обучим модель Случайного леса и посмотрим на его метрики: F1-меру и  AUC-ROC</a></span></li></ul></li><li><span><a href=\"#Уменьшение-выборки-класса-&quot;0&quot;\" data-toc-modified-id=\"Уменьшение-выборки-класса-&quot;0&quot;-3.2\"><span class=\"toc-item-num\">3.2&nbsp;&nbsp;</span>Уменьшение выборки класса \"0\"</a></span><ul class=\"toc-item\"><li><span><a href=\"#Обучим-модель-Решающего-дерева-и-посмотрим-на-его-метрики:-F1-меру-и--AUC-ROC\" data-toc-modified-id=\"Обучим-модель-Решающего-дерева-и-посмотрим-на-его-метрики:-F1-меру-и--AUC-ROC-3.2.1\"><span class=\"toc-item-num\">3.2.1&nbsp;&nbsp;</span>Обучим модель Решающего дерева и посмотрим на его метрики: F1-меру и  AUC-ROC</a></span></li><li><span><a href=\"#Обучим-модель-Случайного-леса-и-посмотрим-на-его-метрики:-F1-меру-и--AUC-ROC\" data-toc-modified-id=\"Обучим-модель-Случайного-леса-и-посмотрим-на-его-метрики:-F1-меру-и--AUC-ROC-3.2.2\"><span class=\"toc-item-num\">3.2.2&nbsp;&nbsp;</span>Обучим модель Случайного леса и посмотрим на его метрики: F1-меру и  AUC-ROC</a></span></li></ul></li><li><span><a href=\"#Сбалансирование-класса-за-счет-параметра-class_weight-=-'balanced'\" data-toc-modified-id=\"Сбалансирование-класса-за-счет-параметра-class_weight-=-'balanced'-3.3\"><span class=\"toc-item-num\">3.3&nbsp;&nbsp;</span>Сбалансирование класса за счет параметра class_weight = 'balanced'</a></span><ul class=\"toc-item\"><li><span><a href=\"#Обучим-модель-случайного-дерева\" data-toc-modified-id=\"Обучим-модель-случайного-дерева-3.3.1\"><span class=\"toc-item-num\">3.3.1&nbsp;&nbsp;</span>Обучим модель случайного дерева</a></span></li><li><span><a href=\"#Обучим-модель-случайного-дерева\" data-toc-modified-id=\"Обучим-модель-случайного-дерева-3.3.2\"><span class=\"toc-item-num\">3.3.2&nbsp;&nbsp;</span>Обучим модель случайного дерева</a></span></li></ul></li></ul></li><li><span><a href=\"#Тестирование-модели\" data-toc-modified-id=\"Тестирование-модели-4\"><span class=\"toc-item-num\">4&nbsp;&nbsp;</span>Тестирование модели</a></span></li><li><span><a href=\"#Итоговые-выводы\" data-toc-modified-id=\"Итоговые-выводы-5\"><span class=\"toc-item-num\">5&nbsp;&nbsp;</span>Итоговые выводы</a></span>"
   ]
  },
  {
   "cell_type": "markdown",
   "metadata": {},
   "source": [
    "# Отток клиентов"
   ]
  },
  {
   "cell_type": "markdown",
   "metadata": {},
   "source": [
    "Из «Бета-Банка» стали уходить клиенты. Каждый месяц. Немного, но заметно. Банковские маркетологи посчитали: сохранять текущих клиентов дешевле, чем привлекать новых.\n",
    "\n",
    "Нужно спрогнозировать, уйдёт клиент из банка в ближайшее время или нет. Для анализа нам представлены исторические данные о поведении клиентов и расторжении договоров с банком. \n",
    "\n",
    "Нам необходимо построить модель с предельно большим значением *F1*-меры. Метрика *F1*  должна быть не менее 0.59. Также необходимо проверить *F1*-меру на тестовой выборке самостоятельно.\n",
    "\n",
    "При проведении анализа будем дополнительно измерять *AUC-ROC*, и сравнивать её значение с *F1*-мерой.\n",
    "\n",
    "Источник данных: [https://www.kaggle.com/barelydedicated/bank-customer-churn-modeling](https://www.kaggle.com/barelydedicated/bank-customer-churn-modeling)"
   ]
  },
  {
   "cell_type": "markdown",
   "metadata": {},
   "source": [
    "## Подготовка данных"
   ]
  },
  {
   "cell_type": "markdown",
   "metadata": {},
   "source": [
    "### Импортирование библиотек"
   ]
  },
  {
   "cell_type": "code",
   "execution_count": 1,
   "metadata": {},
   "outputs": [],
   "source": [
    "import pandas as pd\n",
    "from sklearn.model_selection import train_test_split\n",
    "from sklearn.ensemble import RandomForestClassifier\n",
    "from sklearn.tree import DecisionTreeClassifier\n",
    "import matplotlib.pyplot as plt\n",
    "from sklearn.preprocessing import StandardScaler\n",
    "from sklearn.metrics import accuracy_score\n",
    "from sklearn.metrics import roc_auc_score\n",
    "from sklearn.metrics import roc_curve \n",
    "from sklearn.metrics import f1_score\n",
    "from sklearn.model_selection import GridSearchCV\n",
    "from sklearn.utils import shuffle\n",
    "import seaborn as sns\n"
   ]
  },
  {
   "cell_type": "markdown",
   "metadata": {},
   "source": [
    "### Выгрузка и анализ  данных"
   ]
  },
  {
   "cell_type": "markdown",
   "metadata": {},
   "source": [
    "#### Выгрузка данных"
   ]
  },
  {
   "cell_type": "code",
   "execution_count": 2,
   "metadata": {},
   "outputs": [],
   "source": [
    "df = pd.read_csv('C:/Users/hk/Desktop/практика/датасеты/Churn.csv')"
   ]
  },
  {
   "cell_type": "code",
   "execution_count": 3,
   "metadata": {},
   "outputs": [
    {
     "data": {
      "text/html": [
       "<div>\n",
       "<style scoped>\n",
       "    .dataframe tbody tr th:only-of-type {\n",
       "        vertical-align: middle;\n",
       "    }\n",
       "\n",
       "    .dataframe tbody tr th {\n",
       "        vertical-align: top;\n",
       "    }\n",
       "\n",
       "    .dataframe thead th {\n",
       "        text-align: right;\n",
       "    }\n",
       "</style>\n",
       "<table border=\"1\" class=\"dataframe\">\n",
       "  <thead>\n",
       "    <tr style=\"text-align: right;\">\n",
       "      <th></th>\n",
       "      <th>RowNumber</th>\n",
       "      <th>CustomerId</th>\n",
       "      <th>Surname</th>\n",
       "      <th>CreditScore</th>\n",
       "      <th>Geography</th>\n",
       "      <th>Gender</th>\n",
       "      <th>Age</th>\n",
       "      <th>Tenure</th>\n",
       "      <th>Balance</th>\n",
       "      <th>NumOfProducts</th>\n",
       "      <th>HasCrCard</th>\n",
       "      <th>IsActiveMember</th>\n",
       "      <th>EstimatedSalary</th>\n",
       "      <th>Exited</th>\n",
       "    </tr>\n",
       "  </thead>\n",
       "  <tbody>\n",
       "    <tr>\n",
       "      <th>0</th>\n",
       "      <td>1</td>\n",
       "      <td>15634602</td>\n",
       "      <td>Hargrave</td>\n",
       "      <td>619</td>\n",
       "      <td>France</td>\n",
       "      <td>Female</td>\n",
       "      <td>42</td>\n",
       "      <td>2.0</td>\n",
       "      <td>0.00</td>\n",
       "      <td>1</td>\n",
       "      <td>1</td>\n",
       "      <td>1</td>\n",
       "      <td>101348.88</td>\n",
       "      <td>1</td>\n",
       "    </tr>\n",
       "    <tr>\n",
       "      <th>1</th>\n",
       "      <td>2</td>\n",
       "      <td>15647311</td>\n",
       "      <td>Hill</td>\n",
       "      <td>608</td>\n",
       "      <td>Spain</td>\n",
       "      <td>Female</td>\n",
       "      <td>41</td>\n",
       "      <td>1.0</td>\n",
       "      <td>83807.86</td>\n",
       "      <td>1</td>\n",
       "      <td>0</td>\n",
       "      <td>1</td>\n",
       "      <td>112542.58</td>\n",
       "      <td>0</td>\n",
       "    </tr>\n",
       "    <tr>\n",
       "      <th>2</th>\n",
       "      <td>3</td>\n",
       "      <td>15619304</td>\n",
       "      <td>Onio</td>\n",
       "      <td>502</td>\n",
       "      <td>France</td>\n",
       "      <td>Female</td>\n",
       "      <td>42</td>\n",
       "      <td>8.0</td>\n",
       "      <td>159660.80</td>\n",
       "      <td>3</td>\n",
       "      <td>1</td>\n",
       "      <td>0</td>\n",
       "      <td>113931.57</td>\n",
       "      <td>1</td>\n",
       "    </tr>\n",
       "    <tr>\n",
       "      <th>3</th>\n",
       "      <td>4</td>\n",
       "      <td>15701354</td>\n",
       "      <td>Boni</td>\n",
       "      <td>699</td>\n",
       "      <td>France</td>\n",
       "      <td>Female</td>\n",
       "      <td>39</td>\n",
       "      <td>1.0</td>\n",
       "      <td>0.00</td>\n",
       "      <td>2</td>\n",
       "      <td>0</td>\n",
       "      <td>0</td>\n",
       "      <td>93826.63</td>\n",
       "      <td>0</td>\n",
       "    </tr>\n",
       "    <tr>\n",
       "      <th>4</th>\n",
       "      <td>5</td>\n",
       "      <td>15737888</td>\n",
       "      <td>Mitchell</td>\n",
       "      <td>850</td>\n",
       "      <td>Spain</td>\n",
       "      <td>Female</td>\n",
       "      <td>43</td>\n",
       "      <td>2.0</td>\n",
       "      <td>125510.82</td>\n",
       "      <td>1</td>\n",
       "      <td>1</td>\n",
       "      <td>1</td>\n",
       "      <td>79084.10</td>\n",
       "      <td>0</td>\n",
       "    </tr>\n",
       "    <tr>\n",
       "      <th>5</th>\n",
       "      <td>6</td>\n",
       "      <td>15574012</td>\n",
       "      <td>Chu</td>\n",
       "      <td>645</td>\n",
       "      <td>Spain</td>\n",
       "      <td>Male</td>\n",
       "      <td>44</td>\n",
       "      <td>8.0</td>\n",
       "      <td>113755.78</td>\n",
       "      <td>2</td>\n",
       "      <td>1</td>\n",
       "      <td>0</td>\n",
       "      <td>149756.71</td>\n",
       "      <td>1</td>\n",
       "    </tr>\n",
       "    <tr>\n",
       "      <th>6</th>\n",
       "      <td>7</td>\n",
       "      <td>15592531</td>\n",
       "      <td>Bartlett</td>\n",
       "      <td>822</td>\n",
       "      <td>France</td>\n",
       "      <td>Male</td>\n",
       "      <td>50</td>\n",
       "      <td>7.0</td>\n",
       "      <td>0.00</td>\n",
       "      <td>2</td>\n",
       "      <td>1</td>\n",
       "      <td>1</td>\n",
       "      <td>10062.80</td>\n",
       "      <td>0</td>\n",
       "    </tr>\n",
       "    <tr>\n",
       "      <th>7</th>\n",
       "      <td>8</td>\n",
       "      <td>15656148</td>\n",
       "      <td>Obinna</td>\n",
       "      <td>376</td>\n",
       "      <td>Germany</td>\n",
       "      <td>Female</td>\n",
       "      <td>29</td>\n",
       "      <td>4.0</td>\n",
       "      <td>115046.74</td>\n",
       "      <td>4</td>\n",
       "      <td>1</td>\n",
       "      <td>0</td>\n",
       "      <td>119346.88</td>\n",
       "      <td>1</td>\n",
       "    </tr>\n",
       "    <tr>\n",
       "      <th>8</th>\n",
       "      <td>9</td>\n",
       "      <td>15792365</td>\n",
       "      <td>He</td>\n",
       "      <td>501</td>\n",
       "      <td>France</td>\n",
       "      <td>Male</td>\n",
       "      <td>44</td>\n",
       "      <td>4.0</td>\n",
       "      <td>142051.07</td>\n",
       "      <td>2</td>\n",
       "      <td>0</td>\n",
       "      <td>1</td>\n",
       "      <td>74940.50</td>\n",
       "      <td>0</td>\n",
       "    </tr>\n",
       "    <tr>\n",
       "      <th>9</th>\n",
       "      <td>10</td>\n",
       "      <td>15592389</td>\n",
       "      <td>H?</td>\n",
       "      <td>684</td>\n",
       "      <td>France</td>\n",
       "      <td>Male</td>\n",
       "      <td>27</td>\n",
       "      <td>2.0</td>\n",
       "      <td>134603.88</td>\n",
       "      <td>1</td>\n",
       "      <td>1</td>\n",
       "      <td>1</td>\n",
       "      <td>71725.73</td>\n",
       "      <td>0</td>\n",
       "    </tr>\n",
       "  </tbody>\n",
       "</table>\n",
       "</div>"
      ],
      "text/plain": [
       "   RowNumber  CustomerId   Surname  CreditScore Geography  Gender  Age  \\\n",
       "0          1    15634602  Hargrave          619    France  Female   42   \n",
       "1          2    15647311      Hill          608     Spain  Female   41   \n",
       "2          3    15619304      Onio          502    France  Female   42   \n",
       "3          4    15701354      Boni          699    France  Female   39   \n",
       "4          5    15737888  Mitchell          850     Spain  Female   43   \n",
       "5          6    15574012       Chu          645     Spain    Male   44   \n",
       "6          7    15592531  Bartlett          822    France    Male   50   \n",
       "7          8    15656148    Obinna          376   Germany  Female   29   \n",
       "8          9    15792365        He          501    France    Male   44   \n",
       "9         10    15592389        H?          684    France    Male   27   \n",
       "\n",
       "   Tenure    Balance  NumOfProducts  HasCrCard  IsActiveMember  \\\n",
       "0     2.0       0.00              1          1               1   \n",
       "1     1.0   83807.86              1          0               1   \n",
       "2     8.0  159660.80              3          1               0   \n",
       "3     1.0       0.00              2          0               0   \n",
       "4     2.0  125510.82              1          1               1   \n",
       "5     8.0  113755.78              2          1               0   \n",
       "6     7.0       0.00              2          1               1   \n",
       "7     4.0  115046.74              4          1               0   \n",
       "8     4.0  142051.07              2          0               1   \n",
       "9     2.0  134603.88              1          1               1   \n",
       "\n",
       "   EstimatedSalary  Exited  \n",
       "0        101348.88       1  \n",
       "1        112542.58       0  \n",
       "2        113931.57       1  \n",
       "3         93826.63       0  \n",
       "4         79084.10       0  \n",
       "5        149756.71       1  \n",
       "6         10062.80       0  \n",
       "7        119346.88       1  \n",
       "8         74940.50       0  \n",
       "9         71725.73       0  "
      ]
     },
     "execution_count": 3,
     "metadata": {},
     "output_type": "execute_result"
    }
   ],
   "source": [
    "df.head(10)"
   ]
  },
  {
   "cell_type": "markdown",
   "metadata": {},
   "source": [
    "**Описание данных**\n",
    "\n",
    "*Признаки*:\n",
    "- `RowNumber` - индекс строки в данных;\n",
    "- `CustomerId` - уникальный идентификатор клиента;\n",
    "- `Surname` - фамилия\n",
    "- `CreditScore` - кредитный рейтинг;\n",
    "- `Geography` - страна проживания;\n",
    "- `Gender` - пол;\n",
    "- `Age` - возраст;\n",
    "- `Tenure` - сколько лет человек является клиентом банка;\n",
    "- `Balance` - баланс на счёте;\n",
    "- `NumOfProducts` - количество продуктов банка, используемых клиентом;\n",
    "- `HasCrCard` - наличие кредитной карты;\n",
    "- `IsActiveMember` - активность клиента;\n",
    "- `EstimatedSalary` - предполагаемая зарплата;\n",
    "\n",
    "*Целевой признак*:\n",
    "- `Exited` - факт ухода клиента. "
   ]
  },
  {
   "cell_type": "markdown",
   "metadata": {},
   "source": [
    "#### Исследование данных"
   ]
  },
  {
   "cell_type": "code",
   "execution_count": 4,
   "metadata": {},
   "outputs": [
    {
     "name": "stdout",
     "output_type": "stream",
     "text": [
      "<class 'pandas.core.frame.DataFrame'>\n",
      "RangeIndex: 10000 entries, 0 to 9999\n",
      "Data columns (total 14 columns):\n",
      " #   Column           Non-Null Count  Dtype  \n",
      "---  ------           --------------  -----  \n",
      " 0   RowNumber        10000 non-null  int64  \n",
      " 1   CustomerId       10000 non-null  int64  \n",
      " 2   Surname          10000 non-null  object \n",
      " 3   CreditScore      10000 non-null  int64  \n",
      " 4   Geography        10000 non-null  object \n",
      " 5   Gender           10000 non-null  object \n",
      " 6   Age              10000 non-null  int64  \n",
      " 7   Tenure           9091 non-null   float64\n",
      " 8   Balance          10000 non-null  float64\n",
      " 9   NumOfProducts    10000 non-null  int64  \n",
      " 10  HasCrCard        10000 non-null  int64  \n",
      " 11  IsActiveMember   10000 non-null  int64  \n",
      " 12  EstimatedSalary  10000 non-null  float64\n",
      " 13  Exited           10000 non-null  int64  \n",
      "dtypes: float64(3), int64(8), object(3)\n",
      "memory usage: 1.1+ MB\n"
     ]
    }
   ],
   "source": [
    "df.info()"
   ]
  },
  {
   "cell_type": "code",
   "execution_count": 5,
   "metadata": {},
   "outputs": [
    {
     "data": {
      "text/plain": [
       "Exited\n",
       "0    7963\n",
       "1    2037\n",
       "Name: count, dtype: int64"
      ]
     },
     "execution_count": 5,
     "metadata": {},
     "output_type": "execute_result"
    }
   ],
   "source": [
    "df['Exited'].value_counts()"
   ]
  },
  {
   "cell_type": "code",
   "execution_count": 6,
   "metadata": {},
   "outputs": [
    {
     "data": {
      "text/plain": [
       "Gender\n",
       "Male      5457\n",
       "Female    4543\n",
       "Name: count, dtype: int64"
      ]
     },
     "execution_count": 6,
     "metadata": {},
     "output_type": "execute_result"
    }
   ],
   "source": [
    "df['Gender'].value_counts()"
   ]
  },
  {
   "cell_type": "code",
   "execution_count": 7,
   "metadata": {},
   "outputs": [
    {
     "data": {
      "text/plain": [
       "Geography\n",
       "France     5014\n",
       "Germany    2509\n",
       "Spain      2477\n",
       "Name: count, dtype: int64"
      ]
     },
     "execution_count": 7,
     "metadata": {},
     "output_type": "execute_result"
    }
   ],
   "source": [
    "df['Geography'].value_counts()"
   ]
  },
  {
   "cell_type": "markdown",
   "metadata": {},
   "source": [
    "Проверим данные на явные дубликаты"
   ]
  },
  {
   "cell_type": "code",
   "execution_count": 8,
   "metadata": {},
   "outputs": [
    {
     "data": {
      "text/plain": [
       "0"
      ]
     },
     "execution_count": 8,
     "metadata": {},
     "output_type": "execute_result"
    }
   ],
   "source": [
    "df.duplicated().sum()"
   ]
  },
  {
   "cell_type": "markdown",
   "metadata": {},
   "source": [
    "Явные дубликаты отсутствуют. Посмотрим на пропуски"
   ]
  },
  {
   "cell_type": "code",
   "execution_count": 9,
   "metadata": {},
   "outputs": [
    {
     "data": {
      "text/plain": [
       "RowNumber            0\n",
       "CustomerId           0\n",
       "Surname              0\n",
       "CreditScore          0\n",
       "Geography            0\n",
       "Gender               0\n",
       "Age                  0\n",
       "Tenure             909\n",
       "Balance              0\n",
       "NumOfProducts        0\n",
       "HasCrCard            0\n",
       "IsActiveMember       0\n",
       "EstimatedSalary      0\n",
       "Exited               0\n",
       "dtype: int64"
      ]
     },
     "execution_count": 9,
     "metadata": {},
     "output_type": "execute_result"
    }
   ],
   "source": [
    "df.isna().sum()"
   ]
  },
  {
   "cell_type": "markdown",
   "metadata": {},
   "source": [
    "В колонке с данными о количестве лет человек является клиентом банка обнаружено 909 пропусков, что составляет практически 10% от всех данных в данной колонке, поэтому удалить эти пропуски является нецелесообразным. На данном этапе заполним эти пропуски медианным значением чтобы не сильно влиять на распределение признака.\n"
   ]
  },
  {
   "cell_type": "code",
   "execution_count": 10,
   "metadata": {},
   "outputs": [
    {
     "data": {
      "text/plain": [
       "RowNumber          0\n",
       "CustomerId         0\n",
       "Surname            0\n",
       "CreditScore        0\n",
       "Geography          0\n",
       "Gender             0\n",
       "Age                0\n",
       "Tenure             0\n",
       "Balance            0\n",
       "NumOfProducts      0\n",
       "HasCrCard          0\n",
       "IsActiveMember     0\n",
       "EstimatedSalary    0\n",
       "Exited             0\n",
       "dtype: int64"
      ]
     },
     "execution_count": 10,
     "metadata": {},
     "output_type": "execute_result"
    }
   ],
   "source": [
    "df['Tenure'].fillna(df['Tenure'].median(), inplace=True)\n",
    "df.isna().sum()"
   ]
  },
  {
   "cell_type": "markdown",
   "metadata": {},
   "source": [
    "Преобразуем тип данных в колонке `Tenure` к int"
   ]
  },
  {
   "cell_type": "code",
   "execution_count": 11,
   "metadata": {},
   "outputs": [],
   "source": [
    "df['Tenure'] = df['Tenure'].astype('int')"
   ]
  },
  {
   "cell_type": "markdown",
   "metadata": {},
   "source": [
    "Так как для решения поставленной задачи нам не нужно отследить конкретного клиента, а нужна общая информация об уходе/не уходе из банка, удалим из датафрейма столбцы `RowNumber`, `Surname`, `CustomerId`. "
   ]
  },
  {
   "cell_type": "code",
   "execution_count": 12,
   "metadata": {},
   "outputs": [],
   "source": [
    "df = df.drop(['Surname','RowNumber','CustomerId'], axis=1)"
   ]
  },
  {
   "cell_type": "code",
   "execution_count": 13,
   "metadata": {},
   "outputs": [
    {
     "name": "stdout",
     "output_type": "stream",
     "text": [
      "<class 'pandas.core.frame.DataFrame'>\n",
      "RangeIndex: 10000 entries, 0 to 9999\n",
      "Data columns (total 11 columns):\n",
      " #   Column           Non-Null Count  Dtype  \n",
      "---  ------           --------------  -----  \n",
      " 0   CreditScore      10000 non-null  int64  \n",
      " 1   Geography        10000 non-null  object \n",
      " 2   Gender           10000 non-null  object \n",
      " 3   Age              10000 non-null  int64  \n",
      " 4   Tenure           10000 non-null  int32  \n",
      " 5   Balance          10000 non-null  float64\n",
      " 6   NumOfProducts    10000 non-null  int64  \n",
      " 7   HasCrCard        10000 non-null  int64  \n",
      " 8   IsActiveMember   10000 non-null  int64  \n",
      " 9   EstimatedSalary  10000 non-null  float64\n",
      " 10  Exited           10000 non-null  int64  \n",
      "dtypes: float64(2), int32(1), int64(6), object(2)\n",
      "memory usage: 820.4+ KB\n"
     ]
    }
   ],
   "source": [
    "df.info()"
   ]
  },
  {
   "cell_type": "code",
   "execution_count": 14,
   "metadata": {},
   "outputs": [
    {
     "data": {
      "text/html": [
       "<div>\n",
       "<style scoped>\n",
       "    .dataframe tbody tr th:only-of-type {\n",
       "        vertical-align: middle;\n",
       "    }\n",
       "\n",
       "    .dataframe tbody tr th {\n",
       "        vertical-align: top;\n",
       "    }\n",
       "\n",
       "    .dataframe thead th {\n",
       "        text-align: right;\n",
       "    }\n",
       "</style>\n",
       "<table border=\"1\" class=\"dataframe\">\n",
       "  <thead>\n",
       "    <tr style=\"text-align: right;\">\n",
       "      <th></th>\n",
       "      <th>CreditScore</th>\n",
       "      <th>Age</th>\n",
       "      <th>Tenure</th>\n",
       "      <th>Balance</th>\n",
       "      <th>NumOfProducts</th>\n",
       "      <th>HasCrCard</th>\n",
       "      <th>IsActiveMember</th>\n",
       "      <th>EstimatedSalary</th>\n",
       "      <th>Exited</th>\n",
       "    </tr>\n",
       "  </thead>\n",
       "  <tbody>\n",
       "    <tr>\n",
       "      <th>count</th>\n",
       "      <td>10000.000000</td>\n",
       "      <td>10000.000000</td>\n",
       "      <td>10000.00000</td>\n",
       "      <td>10000.000000</td>\n",
       "      <td>10000.000000</td>\n",
       "      <td>10000.00000</td>\n",
       "      <td>10000.000000</td>\n",
       "      <td>10000.000000</td>\n",
       "      <td>10000.000000</td>\n",
       "    </tr>\n",
       "    <tr>\n",
       "      <th>mean</th>\n",
       "      <td>650.528800</td>\n",
       "      <td>38.921800</td>\n",
       "      <td>4.99790</td>\n",
       "      <td>76485.889288</td>\n",
       "      <td>1.530200</td>\n",
       "      <td>0.70550</td>\n",
       "      <td>0.515100</td>\n",
       "      <td>100090.239881</td>\n",
       "      <td>0.203700</td>\n",
       "    </tr>\n",
       "    <tr>\n",
       "      <th>std</th>\n",
       "      <td>96.653299</td>\n",
       "      <td>10.487806</td>\n",
       "      <td>2.76001</td>\n",
       "      <td>62397.405202</td>\n",
       "      <td>0.581654</td>\n",
       "      <td>0.45584</td>\n",
       "      <td>0.499797</td>\n",
       "      <td>57510.492818</td>\n",
       "      <td>0.402769</td>\n",
       "    </tr>\n",
       "    <tr>\n",
       "      <th>min</th>\n",
       "      <td>350.000000</td>\n",
       "      <td>18.000000</td>\n",
       "      <td>0.00000</td>\n",
       "      <td>0.000000</td>\n",
       "      <td>1.000000</td>\n",
       "      <td>0.00000</td>\n",
       "      <td>0.000000</td>\n",
       "      <td>11.580000</td>\n",
       "      <td>0.000000</td>\n",
       "    </tr>\n",
       "    <tr>\n",
       "      <th>25%</th>\n",
       "      <td>584.000000</td>\n",
       "      <td>32.000000</td>\n",
       "      <td>3.00000</td>\n",
       "      <td>0.000000</td>\n",
       "      <td>1.000000</td>\n",
       "      <td>0.00000</td>\n",
       "      <td>0.000000</td>\n",
       "      <td>51002.110000</td>\n",
       "      <td>0.000000</td>\n",
       "    </tr>\n",
       "    <tr>\n",
       "      <th>50%</th>\n",
       "      <td>652.000000</td>\n",
       "      <td>37.000000</td>\n",
       "      <td>5.00000</td>\n",
       "      <td>97198.540000</td>\n",
       "      <td>1.000000</td>\n",
       "      <td>1.00000</td>\n",
       "      <td>1.000000</td>\n",
       "      <td>100193.915000</td>\n",
       "      <td>0.000000</td>\n",
       "    </tr>\n",
       "    <tr>\n",
       "      <th>75%</th>\n",
       "      <td>718.000000</td>\n",
       "      <td>44.000000</td>\n",
       "      <td>7.00000</td>\n",
       "      <td>127644.240000</td>\n",
       "      <td>2.000000</td>\n",
       "      <td>1.00000</td>\n",
       "      <td>1.000000</td>\n",
       "      <td>149388.247500</td>\n",
       "      <td>0.000000</td>\n",
       "    </tr>\n",
       "    <tr>\n",
       "      <th>max</th>\n",
       "      <td>850.000000</td>\n",
       "      <td>92.000000</td>\n",
       "      <td>10.00000</td>\n",
       "      <td>250898.090000</td>\n",
       "      <td>4.000000</td>\n",
       "      <td>1.00000</td>\n",
       "      <td>1.000000</td>\n",
       "      <td>199992.480000</td>\n",
       "      <td>1.000000</td>\n",
       "    </tr>\n",
       "  </tbody>\n",
       "</table>\n",
       "</div>"
      ],
      "text/plain": [
       "        CreditScore           Age       Tenure        Balance  NumOfProducts  \\\n",
       "count  10000.000000  10000.000000  10000.00000   10000.000000   10000.000000   \n",
       "mean     650.528800     38.921800      4.99790   76485.889288       1.530200   \n",
       "std       96.653299     10.487806      2.76001   62397.405202       0.581654   \n",
       "min      350.000000     18.000000      0.00000       0.000000       1.000000   \n",
       "25%      584.000000     32.000000      3.00000       0.000000       1.000000   \n",
       "50%      652.000000     37.000000      5.00000   97198.540000       1.000000   \n",
       "75%      718.000000     44.000000      7.00000  127644.240000       2.000000   \n",
       "max      850.000000     92.000000     10.00000  250898.090000       4.000000   \n",
       "\n",
       "         HasCrCard  IsActiveMember  EstimatedSalary        Exited  \n",
       "count  10000.00000    10000.000000     10000.000000  10000.000000  \n",
       "mean       0.70550        0.515100    100090.239881      0.203700  \n",
       "std        0.45584        0.499797     57510.492818      0.402769  \n",
       "min        0.00000        0.000000        11.580000      0.000000  \n",
       "25%        0.00000        0.000000     51002.110000      0.000000  \n",
       "50%        1.00000        1.000000    100193.915000      0.000000  \n",
       "75%        1.00000        1.000000    149388.247500      0.000000  \n",
       "max        1.00000        1.000000    199992.480000      1.000000  "
      ]
     },
     "execution_count": 14,
     "metadata": {},
     "output_type": "execute_result"
    }
   ],
   "source": [
    "df.describe()"
   ]
  },
  {
   "cell_type": "markdown",
   "metadata": {},
   "source": [
    "**Вывод по разделу 1 \"Подготовка данных\"**\n",
    "\n",
    "В исходном датафрейме 10000 строк, из них:\n",
    "- факт ухода клиента из банка отрицательный (0) - 7963 признака;\n",
    "- факт ухода клиента из банка положительный (1) - 2037 признаков.\n",
    "\n",
    "В данных присутствует информация о 5457 мужчинах и 4543 женщинах, проживающих во Франции (5014), Германии (2509), Испании(2477). Это категориальные признаки, находящиеся в колонках `Geography`, `Gender`, которые в дальнейшем необходимо будет привести к численным, чтобы при обучении моделей не возникало ошибок. Колонку `Surname`  фамилиями клиентов в банке мы удалили из датафрейма, поэтому ее приводить к численным значениям не будем\n",
    "\n",
    "В целом исходные даннные \"чистые\", за исключением колонки с данными `Tenure` о количестве лет, сколько человек является клиентом данного банка. Данные в этой колонке были заменены нулевыми значениями. Дубликатов в датафрейме не обнаружено.\n",
    "Таким образом, данные могут быть использованы для формирования моделей"
   ]
  },
  {
   "cell_type": "markdown",
   "metadata": {},
   "source": [
    "## Исследование задачи"
   ]
  },
  {
   "cell_type": "markdown",
   "metadata": {},
   "source": [
    "### Разделение данных"
   ]
  },
  {
   "cell_type": "markdown",
   "metadata": {},
   "source": [
    "Наилучшая модель должна предсказать, уйдет ли клиент из банка или нет, значит целевой признак в этой задаче - `Exited`. Целевой признак категориальный (0 и 1), поэтому будем решать задачу классификации.\n",
    "\n",
    "Разобьем данные на обучающие признаки и целовой признак"
   ]
  },
  {
   "cell_type": "code",
   "execution_count": 15,
   "metadata": {},
   "outputs": [],
   "source": [
    "features = df.drop(['Exited'], axis=1)\n",
    "target = df['Exited']"
   ]
  },
  {
   "cell_type": "markdown",
   "metadata": {},
   "source": [
    "Так как в представленном датафрейме скрытой тестовой выборки нет, данные нужно разбить на три части: обучающую, валидационную и тестовую в соотношении 3:1:1 соответственно\n",
    "\n",
    "Определим обучающую выборку"
   ]
  },
  {
   "cell_type": "code",
   "execution_count": 16,
   "metadata": {},
   "outputs": [],
   "source": [
    "features_train, features_test, target_train, target_test = train_test_split(features,\n",
    "                                                                            target,\n",
    "                                                                           test_size = 0.4,\n",
    "                                                                           random_state=12345)"
   ]
  },
  {
   "cell_type": "markdown",
   "metadata": {},
   "source": [
    "Посмотрим на размеры обучающей выборки:"
   ]
  },
  {
   "cell_type": "code",
   "execution_count": 17,
   "metadata": {},
   "outputs": [
    {
     "name": "stdout",
     "output_type": "stream",
     "text": [
      "(6000, 10)\n",
      "(6000,)\n"
     ]
    }
   ],
   "source": [
    "print(features_train.shape)\n",
    "print(target_train.shape)"
   ]
  },
  {
   "cell_type": "markdown",
   "metadata": {},
   "source": [
    "Определим тестовую и валидационную выборки"
   ]
  },
  {
   "cell_type": "code",
   "execution_count": 18,
   "metadata": {},
   "outputs": [],
   "source": [
    "features_valid, features_test, target_valid, target_test = train_test_split(features_test,\n",
    "                                                                            target_test,\n",
    "                                                                           test_size = 0.5,\n",
    "                                                                           random_state=12345)"
   ]
  },
  {
   "cell_type": "markdown",
   "metadata": {},
   "source": [
    "Посмотрим на размер валидационной и тестовой выборок"
   ]
  },
  {
   "cell_type": "code",
   "execution_count": 19,
   "metadata": {},
   "outputs": [
    {
     "name": "stdout",
     "output_type": "stream",
     "text": [
      "(2000, 10)\n",
      "(2000,)\n",
      "(2000, 10)\n",
      "(2000,)\n"
     ]
    }
   ],
   "source": [
    "print(features_test.shape)\n",
    "print(target_test.shape)\n",
    "print(features_valid.shape)\n",
    "print(target_valid.shape)"
   ]
  },
  {
   "cell_type": "markdown",
   "metadata": {},
   "source": [
    "**Вывод**\n",
    "Получили разделенные на три части в соотношении 3:1:1 выборки:\n",
    "- обучающая 60% (6000 признаков);\n",
    "- тестовая 20% (2000 признаков);\n",
    "- валидационная 20% (2000 признаков)"
   ]
  },
  {
   "cell_type": "markdown",
   "metadata": {},
   "source": [
    "### Преобразование категориальных переменных в численные"
   ]
  },
  {
   "cell_type": "markdown",
   "metadata": {},
   "source": [
    "Для преобразования категориальных признаков воспользуемся техникой прямого кодирования (OHE) с помощью функции pd.get_dummies() для всех выборок, кроме целевых"
   ]
  },
  {
   "cell_type": "code",
   "execution_count": 20,
   "metadata": {},
   "outputs": [],
   "source": [
    "features_train = pd.get_dummies(features_train, drop_first=True) #для того, чтобы не попасть в дамми-ловушку удаляем первую \n",
    "features_test = pd.get_dummies(features_test, drop_first=True)   #колонку во всех преобразованных датафреймах\n",
    "features_valid = pd.get_dummies(features_valid, drop_first=True)"
   ]
  },
  {
   "cell_type": "code",
   "execution_count": 21,
   "metadata": {},
   "outputs": [
    {
     "name": "stdout",
     "output_type": "stream",
     "text": [
      "(6000, 11) (2000, 11) (2000, 11)\n"
     ]
    }
   ],
   "source": [
    "print(features_train.shape, features_test.shape, features_valid.shape)"
   ]
  },
  {
   "cell_type": "code",
   "execution_count": 22,
   "metadata": {
    "scrolled": true
   },
   "outputs": [
    {
     "name": "stdout",
     "output_type": "stream",
     "text": [
      "Index(['CreditScore', 'Age', 'Tenure', 'Balance', 'NumOfProducts', 'HasCrCard',\n",
      "       'IsActiveMember', 'EstimatedSalary', 'Geography_Germany',\n",
      "       'Geography_Spain', 'Gender_Male'],\n",
      "      dtype='object') Index(['CreditScore', 'Age', 'Tenure', 'Balance', 'NumOfProducts', 'HasCrCard',\n",
      "       'IsActiveMember', 'EstimatedSalary', 'Geography_Germany',\n",
      "       'Geography_Spain', 'Gender_Male'],\n",
      "      dtype='object') Index(['CreditScore', 'Age', 'Tenure', 'Balance', 'NumOfProducts', 'HasCrCard',\n",
      "       'IsActiveMember', 'EstimatedSalary', 'Geography_Germany',\n",
      "       'Geography_Spain', 'Gender_Male'],\n",
      "      dtype='object')\n"
     ]
    }
   ],
   "source": [
    "print(features_train.columns, features_test.columns, features_valid.columns)"
   ]
  },
  {
   "cell_type": "code",
   "execution_count": 23,
   "metadata": {},
   "outputs": [
    {
     "data": {
      "text/html": [
       "<div>\n",
       "<style scoped>\n",
       "    .dataframe tbody tr th:only-of-type {\n",
       "        vertical-align: middle;\n",
       "    }\n",
       "\n",
       "    .dataframe tbody tr th {\n",
       "        vertical-align: top;\n",
       "    }\n",
       "\n",
       "    .dataframe thead th {\n",
       "        text-align: right;\n",
       "    }\n",
       "</style>\n",
       "<table border=\"1\" class=\"dataframe\">\n",
       "  <thead>\n",
       "    <tr style=\"text-align: right;\">\n",
       "      <th></th>\n",
       "      <th>CreditScore</th>\n",
       "      <th>Age</th>\n",
       "      <th>Tenure</th>\n",
       "      <th>Balance</th>\n",
       "      <th>NumOfProducts</th>\n",
       "      <th>HasCrCard</th>\n",
       "      <th>IsActiveMember</th>\n",
       "      <th>EstimatedSalary</th>\n",
       "      <th>Geography_Germany</th>\n",
       "      <th>Geography_Spain</th>\n",
       "      <th>Gender_Male</th>\n",
       "    </tr>\n",
       "  </thead>\n",
       "  <tbody>\n",
       "    <tr>\n",
       "      <th>7479</th>\n",
       "      <td>567</td>\n",
       "      <td>35</td>\n",
       "      <td>8</td>\n",
       "      <td>153137.74</td>\n",
       "      <td>1</td>\n",
       "      <td>1</td>\n",
       "      <td>0</td>\n",
       "      <td>88659.07</td>\n",
       "      <td>False</td>\n",
       "      <td>True</td>\n",
       "      <td>True</td>\n",
       "    </tr>\n",
       "    <tr>\n",
       "      <th>3411</th>\n",
       "      <td>711</td>\n",
       "      <td>37</td>\n",
       "      <td>8</td>\n",
       "      <td>113899.92</td>\n",
       "      <td>1</td>\n",
       "      <td>0</td>\n",
       "      <td>0</td>\n",
       "      <td>80215.20</td>\n",
       "      <td>False</td>\n",
       "      <td>False</td>\n",
       "      <td>False</td>\n",
       "    </tr>\n",
       "    <tr>\n",
       "      <th>6027</th>\n",
       "      <td>850</td>\n",
       "      <td>44</td>\n",
       "      <td>3</td>\n",
       "      <td>140393.65</td>\n",
       "      <td>2</td>\n",
       "      <td>0</td>\n",
       "      <td>1</td>\n",
       "      <td>186285.52</td>\n",
       "      <td>True</td>\n",
       "      <td>False</td>\n",
       "      <td>True</td>\n",
       "    </tr>\n",
       "    <tr>\n",
       "      <th>1247</th>\n",
       "      <td>512</td>\n",
       "      <td>24</td>\n",
       "      <td>6</td>\n",
       "      <td>0.00</td>\n",
       "      <td>2</td>\n",
       "      <td>1</td>\n",
       "      <td>0</td>\n",
       "      <td>37654.31</td>\n",
       "      <td>False</td>\n",
       "      <td>False</td>\n",
       "      <td>True</td>\n",
       "    </tr>\n",
       "    <tr>\n",
       "      <th>3716</th>\n",
       "      <td>665</td>\n",
       "      <td>27</td>\n",
       "      <td>2</td>\n",
       "      <td>147435.96</td>\n",
       "      <td>1</td>\n",
       "      <td>0</td>\n",
       "      <td>0</td>\n",
       "      <td>187508.06</td>\n",
       "      <td>True</td>\n",
       "      <td>False</td>\n",
       "      <td>False</td>\n",
       "    </tr>\n",
       "  </tbody>\n",
       "</table>\n",
       "</div>"
      ],
      "text/plain": [
       "      CreditScore  Age  Tenure    Balance  NumOfProducts  HasCrCard  \\\n",
       "7479          567   35       8  153137.74              1          1   \n",
       "3411          711   37       8  113899.92              1          0   \n",
       "6027          850   44       3  140393.65              2          0   \n",
       "1247          512   24       6       0.00              2          1   \n",
       "3716          665   27       2  147435.96              1          0   \n",
       "\n",
       "      IsActiveMember  EstimatedSalary  Geography_Germany  Geography_Spain  \\\n",
       "7479               0         88659.07              False             True   \n",
       "3411               0         80215.20              False            False   \n",
       "6027               1        186285.52               True            False   \n",
       "1247               0         37654.31              False            False   \n",
       "3716               0        187508.06               True            False   \n",
       "\n",
       "      Gender_Male  \n",
       "7479         True  \n",
       "3411        False  \n",
       "6027         True  \n",
       "1247         True  \n",
       "3716        False  "
      ]
     },
     "execution_count": 23,
     "metadata": {},
     "output_type": "execute_result"
    }
   ],
   "source": [
    "features_train.head()"
   ]
  },
  {
   "cell_type": "code",
   "execution_count": 24,
   "metadata": {},
   "outputs": [
    {
     "data": {
      "text/plain": [
       "(6000, 11)"
      ]
     },
     "execution_count": 24,
     "metadata": {},
     "output_type": "execute_result"
    }
   ],
   "source": [
    "features_train.shape"
   ]
  },
  {
   "cell_type": "code",
   "execution_count": 25,
   "metadata": {},
   "outputs": [
    {
     "data": {
      "text/html": [
       "<div>\n",
       "<style scoped>\n",
       "    .dataframe tbody tr th:only-of-type {\n",
       "        vertical-align: middle;\n",
       "    }\n",
       "\n",
       "    .dataframe tbody tr th {\n",
       "        vertical-align: top;\n",
       "    }\n",
       "\n",
       "    .dataframe thead th {\n",
       "        text-align: right;\n",
       "    }\n",
       "</style>\n",
       "<table border=\"1\" class=\"dataframe\">\n",
       "  <thead>\n",
       "    <tr style=\"text-align: right;\">\n",
       "      <th></th>\n",
       "      <th>CreditScore</th>\n",
       "      <th>Age</th>\n",
       "      <th>Tenure</th>\n",
       "      <th>Balance</th>\n",
       "      <th>NumOfProducts</th>\n",
       "      <th>HasCrCard</th>\n",
       "      <th>IsActiveMember</th>\n",
       "      <th>EstimatedSalary</th>\n",
       "      <th>Geography_Germany</th>\n",
       "      <th>Geography_Spain</th>\n",
       "      <th>Gender_Male</th>\n",
       "    </tr>\n",
       "  </thead>\n",
       "  <tbody>\n",
       "    <tr>\n",
       "      <th>7041</th>\n",
       "      <td>438</td>\n",
       "      <td>38</td>\n",
       "      <td>2</td>\n",
       "      <td>0.00</td>\n",
       "      <td>2</td>\n",
       "      <td>1</td>\n",
       "      <td>0</td>\n",
       "      <td>136859.55</td>\n",
       "      <td>False</td>\n",
       "      <td>False</td>\n",
       "      <td>True</td>\n",
       "    </tr>\n",
       "    <tr>\n",
       "      <th>5709</th>\n",
       "      <td>644</td>\n",
       "      <td>39</td>\n",
       "      <td>9</td>\n",
       "      <td>0.00</td>\n",
       "      <td>1</td>\n",
       "      <td>1</td>\n",
       "      <td>0</td>\n",
       "      <td>3740.93</td>\n",
       "      <td>False</td>\n",
       "      <td>False</td>\n",
       "      <td>False</td>\n",
       "    </tr>\n",
       "    <tr>\n",
       "      <th>7117</th>\n",
       "      <td>564</td>\n",
       "      <td>31</td>\n",
       "      <td>5</td>\n",
       "      <td>121461.87</td>\n",
       "      <td>1</td>\n",
       "      <td>1</td>\n",
       "      <td>1</td>\n",
       "      <td>20432.09</td>\n",
       "      <td>False</td>\n",
       "      <td>True</td>\n",
       "      <td>True</td>\n",
       "    </tr>\n",
       "    <tr>\n",
       "      <th>7775</th>\n",
       "      <td>628</td>\n",
       "      <td>40</td>\n",
       "      <td>10</td>\n",
       "      <td>0.00</td>\n",
       "      <td>2</td>\n",
       "      <td>1</td>\n",
       "      <td>0</td>\n",
       "      <td>103832.58</td>\n",
       "      <td>False</td>\n",
       "      <td>True</td>\n",
       "      <td>True</td>\n",
       "    </tr>\n",
       "    <tr>\n",
       "      <th>8735</th>\n",
       "      <td>728</td>\n",
       "      <td>30</td>\n",
       "      <td>10</td>\n",
       "      <td>114835.43</td>\n",
       "      <td>1</td>\n",
       "      <td>0</td>\n",
       "      <td>1</td>\n",
       "      <td>37662.49</td>\n",
       "      <td>False</td>\n",
       "      <td>False</td>\n",
       "      <td>True</td>\n",
       "    </tr>\n",
       "  </tbody>\n",
       "</table>\n",
       "</div>"
      ],
      "text/plain": [
       "      CreditScore  Age  Tenure    Balance  NumOfProducts  HasCrCard  \\\n",
       "7041          438   38       2       0.00              2          1   \n",
       "5709          644   39       9       0.00              1          1   \n",
       "7117          564   31       5  121461.87              1          1   \n",
       "7775          628   40      10       0.00              2          1   \n",
       "8735          728   30      10  114835.43              1          0   \n",
       "\n",
       "      IsActiveMember  EstimatedSalary  Geography_Germany  Geography_Spain  \\\n",
       "7041               0        136859.55              False            False   \n",
       "5709               0          3740.93              False            False   \n",
       "7117               1         20432.09              False             True   \n",
       "7775               0        103832.58              False             True   \n",
       "8735               1         37662.49              False            False   \n",
       "\n",
       "      Gender_Male  \n",
       "7041         True  \n",
       "5709        False  \n",
       "7117         True  \n",
       "7775         True  \n",
       "8735         True  "
      ]
     },
     "execution_count": 25,
     "metadata": {},
     "output_type": "execute_result"
    }
   ],
   "source": [
    "features_test.head()"
   ]
  },
  {
   "cell_type": "code",
   "execution_count": 26,
   "metadata": {},
   "outputs": [
    {
     "data": {
      "text/plain": [
       "(2000, 11)"
      ]
     },
     "execution_count": 26,
     "metadata": {},
     "output_type": "execute_result"
    }
   ],
   "source": [
    "features_test.shape"
   ]
  },
  {
   "cell_type": "code",
   "execution_count": 27,
   "metadata": {},
   "outputs": [
    {
     "data": {
      "text/html": [
       "<div>\n",
       "<style scoped>\n",
       "    .dataframe tbody tr th:only-of-type {\n",
       "        vertical-align: middle;\n",
       "    }\n",
       "\n",
       "    .dataframe tbody tr th {\n",
       "        vertical-align: top;\n",
       "    }\n",
       "\n",
       "    .dataframe thead th {\n",
       "        text-align: right;\n",
       "    }\n",
       "</style>\n",
       "<table border=\"1\" class=\"dataframe\">\n",
       "  <thead>\n",
       "    <tr style=\"text-align: right;\">\n",
       "      <th></th>\n",
       "      <th>CreditScore</th>\n",
       "      <th>Age</th>\n",
       "      <th>Tenure</th>\n",
       "      <th>Balance</th>\n",
       "      <th>NumOfProducts</th>\n",
       "      <th>HasCrCard</th>\n",
       "      <th>IsActiveMember</th>\n",
       "      <th>EstimatedSalary</th>\n",
       "      <th>Geography_Germany</th>\n",
       "      <th>Geography_Spain</th>\n",
       "      <th>Gender_Male</th>\n",
       "    </tr>\n",
       "  </thead>\n",
       "  <tbody>\n",
       "    <tr>\n",
       "      <th>8532</th>\n",
       "      <td>585</td>\n",
       "      <td>35</td>\n",
       "      <td>2</td>\n",
       "      <td>0.00</td>\n",
       "      <td>2</td>\n",
       "      <td>1</td>\n",
       "      <td>0</td>\n",
       "      <td>98621.04</td>\n",
       "      <td>False</td>\n",
       "      <td>False</td>\n",
       "      <td>False</td>\n",
       "    </tr>\n",
       "    <tr>\n",
       "      <th>5799</th>\n",
       "      <td>625</td>\n",
       "      <td>45</td>\n",
       "      <td>3</td>\n",
       "      <td>0.00</td>\n",
       "      <td>1</td>\n",
       "      <td>1</td>\n",
       "      <td>1</td>\n",
       "      <td>184474.15</td>\n",
       "      <td>False</td>\n",
       "      <td>False</td>\n",
       "      <td>False</td>\n",
       "    </tr>\n",
       "    <tr>\n",
       "      <th>5511</th>\n",
       "      <td>667</td>\n",
       "      <td>32</td>\n",
       "      <td>0</td>\n",
       "      <td>103846.65</td>\n",
       "      <td>1</td>\n",
       "      <td>1</td>\n",
       "      <td>0</td>\n",
       "      <td>20560.69</td>\n",
       "      <td>True</td>\n",
       "      <td>False</td>\n",
       "      <td>True</td>\n",
       "    </tr>\n",
       "    <tr>\n",
       "      <th>7365</th>\n",
       "      <td>568</td>\n",
       "      <td>36</td>\n",
       "      <td>10</td>\n",
       "      <td>153610.61</td>\n",
       "      <td>1</td>\n",
       "      <td>1</td>\n",
       "      <td>1</td>\n",
       "      <td>54083.80</td>\n",
       "      <td>False</td>\n",
       "      <td>True</td>\n",
       "      <td>False</td>\n",
       "    </tr>\n",
       "    <tr>\n",
       "      <th>7367</th>\n",
       "      <td>606</td>\n",
       "      <td>42</td>\n",
       "      <td>10</td>\n",
       "      <td>0.00</td>\n",
       "      <td>2</td>\n",
       "      <td>1</td>\n",
       "      <td>0</td>\n",
       "      <td>177938.52</td>\n",
       "      <td>False</td>\n",
       "      <td>True</td>\n",
       "      <td>True</td>\n",
       "    </tr>\n",
       "  </tbody>\n",
       "</table>\n",
       "</div>"
      ],
      "text/plain": [
       "      CreditScore  Age  Tenure    Balance  NumOfProducts  HasCrCard  \\\n",
       "8532          585   35       2       0.00              2          1   \n",
       "5799          625   45       3       0.00              1          1   \n",
       "5511          667   32       0  103846.65              1          1   \n",
       "7365          568   36      10  153610.61              1          1   \n",
       "7367          606   42      10       0.00              2          1   \n",
       "\n",
       "      IsActiveMember  EstimatedSalary  Geography_Germany  Geography_Spain  \\\n",
       "8532               0         98621.04              False            False   \n",
       "5799               1        184474.15              False            False   \n",
       "5511               0         20560.69               True            False   \n",
       "7365               1         54083.80              False             True   \n",
       "7367               0        177938.52              False             True   \n",
       "\n",
       "      Gender_Male  \n",
       "8532        False  \n",
       "5799        False  \n",
       "5511         True  \n",
       "7365        False  \n",
       "7367         True  "
      ]
     },
     "execution_count": 27,
     "metadata": {},
     "output_type": "execute_result"
    }
   ],
   "source": [
    "features_valid.head()"
   ]
  },
  {
   "cell_type": "code",
   "execution_count": 28,
   "metadata": {},
   "outputs": [
    {
     "data": {
      "text/plain": [
       "(2000, 11)"
      ]
     },
     "execution_count": 28,
     "metadata": {},
     "output_type": "execute_result"
    }
   ],
   "source": [
    "features_valid.shape"
   ]
  },
  {
   "cell_type": "markdown",
   "metadata": {},
   "source": [
    "### Масштабирование признаков"
   ]
  },
  {
   "cell_type": "markdown",
   "metadata": {},
   "source": [
    "В данных присутствуют числовые признаки, такие как `CreditScore`, `Age`, `Tenure`, `Balance`, `NumOfProducts`, `EstimatedSalary`, которые имеют разные диапазоны разброса. Для того, чтобы модель не приняла один признак важнее другого масштабируем их."
   ]
  },
  {
   "cell_type": "code",
   "execution_count": 29,
   "metadata": {},
   "outputs": [],
   "source": [
    "pd.options.mode.chained_assignment = None\n",
    "numeric = ['CreditScore', 'Age', 'Tenure', 'Balance', 'NumOfProducts', 'EstimatedSalary']\n",
    "\n",
    "scaler = StandardScaler()\n",
    "scaler.fit(features_train[numeric])\n",
    "features_train[numeric] = scaler.transform(features_train[numeric])\n",
    "features_valid[numeric] = scaler.transform(features_valid[numeric])\n",
    "features_test[numeric] = scaler.transform(features_test[numeric])"
   ]
  },
  {
   "cell_type": "code",
   "execution_count": 30,
   "metadata": {},
   "outputs": [
    {
     "name": "stdout",
     "output_type": "stream",
     "text": [
      "(6000, 11) (2000, 11) (2000, 11)\n"
     ]
    }
   ],
   "source": [
    "print(features_train.shape, features_valid.shape, features_test.shape)"
   ]
  },
  {
   "cell_type": "markdown",
   "metadata": {},
   "source": [
    "### Обучение модели Решающего дерева и рассмотрение его метрик"
   ]
  },
  {
   "cell_type": "markdown",
   "metadata": {},
   "source": [
    "Создадим словарь параметров, которые будем \"прогонять\" с помощью GridSearch."
   ]
  },
  {
   "cell_type": "code",
   "execution_count": 31,
   "metadata": {},
   "outputs": [],
   "source": [
    "parametrs_dtc = {'max_depth' : range(1, 12, 1), \n",
    "                'min_samples_split' : range(2, 6),\n",
    "                'min_samples_leaf' : range(1, 10)}"
   ]
  },
  {
   "cell_type": "code",
   "execution_count": 32,
   "metadata": {},
   "outputs": [],
   "source": [
    "dtc_grid = GridSearchCV(DecisionTreeClassifier(random_state=12345), \n",
    "                       param_grid = parametrs_dtc, n_jobs = -1, verbose = False, scoring = 'f1', error_score=0.0)"
   ]
  },
  {
   "cell_type": "code",
   "execution_count": 33,
   "metadata": {},
   "outputs": [],
   "source": [
    "dtc_grid_model = dtc_grid.fit(features_train, target_train)\n"
   ]
  },
  {
   "cell_type": "code",
   "execution_count": 34,
   "metadata": {},
   "outputs": [],
   "source": [
    "predicted_valid = dtc_grid_model.predict(features_valid)"
   ]
  },
  {
   "cell_type": "markdown",
   "metadata": {},
   "source": [
    "Посчитаем долю правильных ответов с помощью accuracy_score"
   ]
  },
  {
   "cell_type": "code",
   "execution_count": 35,
   "metadata": {},
   "outputs": [],
   "source": [
    "accuracy_valid = accuracy_score(predicted_valid, target_valid)\n"
   ]
  },
  {
   "cell_type": "markdown",
   "metadata": {},
   "source": [
    "Посчитаем F1-меру с помощью f1_score"
   ]
  },
  {
   "cell_type": "code",
   "execution_count": 36,
   "metadata": {},
   "outputs": [],
   "source": [
    "f1 = f1_score(target_valid, predicted_valid)"
   ]
  },
  {
   "cell_type": "code",
   "execution_count": 37,
   "metadata": {},
   "outputs": [
    {
     "name": "stdout",
     "output_type": "stream",
     "text": [
      "{'max_depth': 7, 'min_samples_leaf': 8, 'min_samples_split': 2}\n",
      "0.5720550348500384\n"
     ]
    }
   ],
   "source": [
    "print(dtc_grid.best_params_)\n",
    "print(dtc_grid.best_score_)"
   ]
  },
  {
   "cell_type": "markdown",
   "metadata": {},
   "source": [
    "Построим ROC кривую и посчитаем площадь под ней с помощью auc_roc"
   ]
  },
  {
   "cell_type": "code",
   "execution_count": 38,
   "metadata": {},
   "outputs": [],
   "source": [
    "probabilities_valid = dtc_grid_model.predict_proba(features_valid)\n",
    "probabilities_one_valid = probabilities_valid[:, 1]\n",
    "auc_roc = roc_auc_score(target_valid, probabilities_one_valid)"
   ]
  },
  {
   "cell_type": "code",
   "execution_count": 39,
   "metadata": {},
   "outputs": [
    {
     "data": {
      "image/png": "[encoded data removed]",
      "text/plain": [
       "<Figure size 640x480 with 1 Axes>"
      ]
     },
     "metadata": {},
     "output_type": "display_data"
    }
   ],
   "source": [
    "fpr, tpr, thresholds = roc_curve(target_valid, probabilities_one_valid)\n",
    "\n",
    "plt.figure()\n",
    "plt.plot([0, 1], [0, 1], linestyle='--')\n",
    "plt.plot(fpr, tpr)\n",
    "plt.xlim([0.0, 1.0])\n",
    "plt.ylim([0.0, 1.0])\n",
    "plt.xlabel('False Positive Rate')\n",
    "plt.ylabel('True Positive Rate')\n",
    "plt.title('ROC-кривая')\n",
    "\n",
    "plt.show()"
   ]
  },
  {
   "cell_type": "code",
   "execution_count": 40,
   "metadata": {
    "scrolled": true
   },
   "outputs": [
    {
     "name": "stdout",
     "output_type": "stream",
     "text": [
      "показатель Accuracy 0.851\n",
      "Показатель F1 0.5386996904024768\n",
      "Показатель auc_roc 0.8251955310641849\n"
     ]
    }
   ],
   "source": [
    "print('показатель Accuracy', accuracy_valid )\n",
    "print('Показатель F1', f1)\n",
    "print('Показатель auc_roc', auc_roc)"
   ]
  },
  {
   "cell_type": "markdown",
   "metadata": {},
   "source": [
    "### Обучение модели Случайного леса и рассмотрение его метрик"
   ]
  },
  {
   "cell_type": "code",
   "execution_count": 41,
   "metadata": {},
   "outputs": [],
   "source": [
    "parametrs_rfc = {'max_depth' : range(1, 12, 1), \n",
    "                'min_samples_split' : range(2, 6),\n",
    "                'min_samples_leaf' : range(1, 10), \n",
    "                'n_estimators' : range(1, 10, 5)}"
   ]
  },
  {
   "cell_type": "code",
   "execution_count": 42,
   "metadata": {},
   "outputs": [],
   "source": [
    "rfc_grid = GridSearchCV(RandomForestClassifier(random_state=12345), \n",
    "                       param_grid = parametrs_rfc, n_jobs = -1, verbose = False, scoring = 'f1')"
   ]
  },
  {
   "cell_type": "code",
   "execution_count": 43,
   "metadata": {},
   "outputs": [],
   "source": [
    "rfc_grid_model = rfc_grid.fit(features_train, target_train)"
   ]
  },
  {
   "cell_type": "code",
   "execution_count": 44,
   "metadata": {},
   "outputs": [],
   "source": [
    "predicted_valid = rfc_grid_model.predict(features_valid)"
   ]
  },
  {
   "cell_type": "markdown",
   "metadata": {},
   "source": [
    "Посчитаем долю правильных ответов с помощью accuracy_score"
   ]
  },
  {
   "cell_type": "code",
   "execution_count": 45,
   "metadata": {},
   "outputs": [],
   "source": [
    "accuracy_valid = accuracy_score(predicted_valid, target_valid)"
   ]
  },
  {
   "cell_type": "markdown",
   "metadata": {},
   "source": [
    "Посчитаем F1-меру с помощью f1_score"
   ]
  },
  {
   "cell_type": "code",
   "execution_count": 46,
   "metadata": {},
   "outputs": [],
   "source": [
    "f1 = f1_score(target_valid, predicted_valid)"
   ]
  },
  {
   "cell_type": "code",
   "execution_count": 47,
   "metadata": {},
   "outputs": [
    {
     "name": "stdout",
     "output_type": "stream",
     "text": [
      "{'max_depth': 10, 'min_samples_leaf': 1, 'min_samples_split': 4, 'n_estimators': 6}\n",
      "0.5663641944852096\n"
     ]
    }
   ],
   "source": [
    "print(rfc_grid.best_params_)\n",
    "print(rfc_grid.best_score_)"
   ]
  },
  {
   "cell_type": "markdown",
   "metadata": {},
   "source": [
    "Построим ROC кривую и посчитаем площадь под ней с помощью auc_roc"
   ]
  },
  {
   "cell_type": "code",
   "execution_count": 48,
   "metadata": {},
   "outputs": [],
   "source": [
    "probabilities_valid = rfc_grid_model.predict_proba(features_valid)\n",
    "probabilities_one_valid = probabilities_valid[:, 1]\n",
    "auc_roc = roc_auc_score(target_valid, probabilities_one_valid)"
   ]
  },
  {
   "cell_type": "code",
   "execution_count": 49,
   "metadata": {},
   "outputs": [
    {
     "data": {
      "image/png": "[encoded data removed]",
      "text/plain": [
       "<Figure size 640x480 with 1 Axes>"
      ]
     },
     "metadata": {},
     "output_type": "display_data"
    }
   ],
   "source": [
    "fpr, tpr, thresholds = roc_curve(target_valid, probabilities_one_valid)\n",
    "\n",
    "plt.figure()\n",
    "plt.plot([0, 1], [0, 1], linestyle='--')\n",
    "plt.plot(fpr, tpr)\n",
    "plt.xlim([0.0, 1.0])\n",
    "plt.ylim([0.0, 1.0])\n",
    "plt.xlabel('False Positive Rate')\n",
    "plt.ylabel('True Positive Rate')\n",
    "plt.title('ROC-кривая')\n",
    "\n",
    "plt.show()"
   ]
  },
  {
   "cell_type": "code",
   "execution_count": 50,
   "metadata": {},
   "outputs": [
    {
     "name": "stdout",
     "output_type": "stream",
     "text": [
      "показатель Accuracy 0.8535\n",
      "Показатель F1 0.5540334855403348\n",
      "Показатель auc_roc 0.8329971146692152\n"
     ]
    }
   ],
   "source": [
    "print('показатель Accuracy', accuracy_valid )\n",
    "print('Показатель F1', f1)\n",
    "print('Показатель auc_roc', auc_roc)"
   ]
  },
  {
   "cell_type": "markdown",
   "metadata": {},
   "source": [
    "**Вывод по разделу 2 \"Исследование задачи\"**\n",
    "\n",
    "Задачей исследования является прогонозирование факта ухода клиента из банка в ближайшее время. Целевым признаком является `Exited` - факт ухода клиента из банка. Это категориальный признак состоящий из 0 и 1.\n",
    "\n",
    "Для подготовки данные к обучению выполнили следующие действия:\n",
    "\n",
    "1) разделили данные на обучающую, валидационную и тестовую выборки в соотношении 3:1:1, получили выборки размером: \n",
    "\n",
    "- обучающая (6000, 10);\n",
    "- валидационная (2000, 10);\n",
    "- тестовая (2000, 10)\n",
    "\n",
    "2) преобразовали категориальные признаки в числовые методом ОНЕ, при этом один из столбцов удалили, для того, чтобы не угодить в дамми-ловушку;\n",
    "\n",
    "3) в данных присутсвует информация о возрасте, кредитном рейтинге, количестве лет, сколько человек являеется клиентом банка, балансе на счете, ориентировочной зарплате. Все эти числовые признаки имеют разный масштаб, и для того, чтобы при обучении модель не счиатала один признак важнее другого провели масштабирования признаков;\n",
    "\n",
    "4) провели обучение с помощью модели РЕШАЮЩЕГО ДЕРЕВА, получили, что наилучшие метрики при параметрах модели `max_depth=7`, `min_samples_leaf=8`, `min_samples_split=2` составляют:\n",
    "\n",
    "- показатель Accuracy 0.851\n",
    "- показатель F1-меры 0.5386996904024768\n",
    "- показатель AUC-ROC 0.825916107646429\n",
    "\n",
    "5) провели обучение с помощью модели СЛУЧАЙНОГО ЛЕСА, получили, что наилучшие метрики при параметрах модели `max_depth=10`, `min_samples_leaf=1`, `'min_samples_split=4`, `'n_estimators=6` составляют:\n",
    "\n",
    "- показатель Accuracy 0.8535\n",
    "- показатель F1 0.5540334855403348\n",
    "- Показатель auc_roc 0.8329971146692152\n",
    "\n",
    "Так как F1-мера это среднее гармоническое полноты и точности, и при его значении равным единице мы имеем идельное соотношение этих метрик 1:1, задачей явлется как можно больше улучшить этот показатель. В задаче минимальный порог F1-меры составляет 0,59, будем стремится улучшить этот показатель.\n",
    "По результатам моделирования получили, что показатель F1-меры у модели Случайного леса лучше (0,55), чем у Решающего дерева (0,53), однако не дотягивает до минимально требуемого в 0,59. \n",
    "\n",
    "Показатель AUC-ROC демонстрирует, насколько наша модель отличается от случайной и насколько качественная наша модель. AUC-ROC случайной модели равно 0,5, поэтому нашей задачей является увеличение этого показателя относительно этого значения, а точнее сделать так, чтобы она как можно больше стремилась к точке (0,1), где 0 - ложноположительные значения, а 1 - истинноположительные значения. Так же качество модели можно проверить с помощью ROC-кривой, она должна проходить выше относитльно линии некой случайно модели. \n",
    "\n",
    "По результатам нашего моделирования получили, что AUC-ROC у модели Случайного леса немного лучше (0,83), чем у Решающего дерева (0,82) и определенно у обеих моделей она лучше относительно случайно и стремится к точке (0,1).\n",
    "\n",
    "Для того чтобы улучшить качество моделей, нужно учитывать дисбаланс классов, так как даже из раздела 1 \"ПОдготовка данных\" видно, что данных с классом \"0\" сильно больше, чем с классом \"1\". Далее учтем этот момент, и сбалансируем целевые признаки.\n",
    "\n",
    "\n"
   ]
  },
  {
   "cell_type": "markdown",
   "metadata": {},
   "source": [
    "## Борьба с дисбалансом"
   ]
  },
  {
   "cell_type": "markdown",
   "metadata": {},
   "source": [
    "Попробуем улучшить нашу модель за счет борьбы с дисбалансом классов. Посмотрим на графике, какой класс в данных преобладает"
   ]
  },
  {
   "cell_type": "code",
   "execution_count": 51,
   "metadata": {},
   "outputs": [
    {
     "data": {
      "image/png": "[encoded data removed]",
      "text/plain": [
       "<Figure size 640x480 with 1 Axes>"
      ]
     },
     "metadata": {},
     "output_type": "display_data"
    }
   ],
   "source": [
    "df['Exited'].value_counts().plot(kind='bar', title = 'Class balance');"
   ]
  },
  {
   "cell_type": "markdown",
   "metadata": {},
   "source": [
    "Вес класса \"0\" практически в 4 раза больше класса \"1\". Решением данной проблемы может служить либо увеличение класса \"1\", либо уменьшение класса \"0\". Попробуем оба варианта и сравним, какое решение даст лучшие результаты "
   ]
  },
  {
   "cell_type": "markdown",
   "metadata": {},
   "source": [
    "### Увеличение выборки класса \"1\""
   ]
  },
  {
   "cell_type": "markdown",
   "metadata": {},
   "source": [
    "Напишем функцию upsample(), в которой увеличим количество класса \"1\" в 4 раза"
   ]
  },
  {
   "cell_type": "code",
   "execution_count": 52,
   "metadata": {},
   "outputs": [],
   "source": [
    "def upsample(features, target, repeat):\n",
    "    features_zeros = features[target == 0]\n",
    "    features_ones = features[target == 1]\n",
    "    target_zeros = target[target == 0]\n",
    "    target_ones = target[target == 1]\n",
    "    \n",
    "    features_upsampled = pd.concat([features_zeros] + [features_ones] * repeat)\n",
    "    target_upsampled = pd.concat([target_zeros] + [target_ones] * repeat)\n",
    "    \n",
    "    features_upsampled, target_upsampled = shuffle(\n",
    "        features_upsampled, target_upsampled, random_state=12345)\n",
    "    return features_upsampled, target_upsampled\n",
    "\n",
    "features_upsampled, target_upsampled = upsample(features_train, target_train, 4)"
   ]
  },
  {
   "cell_type": "markdown",
   "metadata": {},
   "source": [
    "#### Обучим модель Решающего дерева и посмотрим на его метрики: F1-меру и  AUC-ROC"
   ]
  },
  {
   "cell_type": "code",
   "execution_count": 53,
   "metadata": {},
   "outputs": [],
   "source": [
    "best_model_dtc_up = None\n",
    "best_depth_dtc_up = 0\n",
    "best_result_dtc_up = 0\n",
    "best_samples_split_dtc_up = 0\n",
    "best_samples_leaf_dtc_up = 0\n",
    "for leafs in range(1, 5, 1):\n",
    "    for depth in range(1, 10):\n",
    "        for samples in range(10, 50, 100):\n",
    "            model_dtc_up = DecisionTreeClassifier(random_state=12345,\n",
    "                                               max_depth=depth,\n",
    "                                               min_samples_split=samples,\n",
    "                                               max_features='log2', \n",
    "                                               min_samples_leaf=leafs)\n",
    "            model_dtc_up.fit(features_upsampled,target_upsampled)\n",
    "            predictions_valid_dtc_up = model_dtc_up.predict(features_valid)\n",
    "            result_dtc_up = f1_score(target_valid, predictions_valid_dtc_up)\n",
    "            if result_dtc_up > best_result_dtc_up:\n",
    "                best_model_dtc_up =  model_dtc_up #сохраняем лучшую модель\n",
    "                best_depth_dtc_up = depth #сохраняем лучшую глубину дерева\n",
    "                best_result_dtc_up = result_dtc_up #сохраняем лучшее значение accuracy на валидационной выборке\n",
    "                best_samples_split_dtc_up = samples #сохраняем лучшее \"минимальное\" количество выборок \n",
    "                best_samples_leaf_dtc_up = leafs #сохраняем лучшее \"Минимальное\" количество выборок,\n",
    "                                              #необходимое для нахождения в конечном узлe"
   ]
  },
  {
   "cell_type": "code",
   "execution_count": 54,
   "metadata": {},
   "outputs": [
    {
     "name": "stdout",
     "output_type": "stream",
     "text": [
      "F1-мера лучшей модели дерева решений: 0.569550930996714\n",
      "Глубина дерева лучшей модели 5\n",
      "Минимальное количество выборок 10\n",
      "Минимальное количество выборок, необходимое для нахождения в конечном узле 2\n"
     ]
    }
   ],
   "source": [
    "print('F1-мера лучшей модели дерева решений:', best_result_dtc_up)\n",
    "print('Глубина дерева лучшей модели', best_depth_dtc_up)\n",
    "print('Минимальное количество выборок', best_samples_split_dtc_up)\n",
    "print('Минимальное количество выборок, необходимое для нахождения в конечном узле',  best_samples_leaf_dtc_up)"
   ]
  },
  {
   "cell_type": "markdown",
   "metadata": {},
   "source": [
    "Посчитаем AUC-ROC наилучшей модели Решающего дерева и построим ROC-кривую"
   ]
  },
  {
   "cell_type": "code",
   "execution_count": 55,
   "metadata": {},
   "outputs": [
    {
     "name": "stdout",
     "output_type": "stream",
     "text": [
      "AUC-ROC лучшей модели дерева решений: 0.7954243008970535\n"
     ]
    }
   ],
   "source": [
    "best_model_dtc_up = DecisionTreeClassifier(random_state=12345,\n",
    "                                               max_depth=5,\n",
    "                                               min_samples_split=10,\n",
    "                                               max_features='log2',  #параметры выбраны для наилучшей модели\n",
    "                                               min_samples_leaf=2)\n",
    "best_model_dtc_up.fit(features_upsampled, target_upsampled) #обучение модели на увеличенной выборке\n",
    "\n",
    "probabilities_valid_up = best_model_dtc_up.predict_proba(features_valid)\n",
    "probabilities_one_valid_up = probabilities_valid_up[:, 1]\n",
    "auc_roc = roc_auc_score(target_valid, probabilities_one_valid_up)\n",
    "print('AUC-ROC лучшей модели дерева решений:', auc_roc)"
   ]
  },
  {
   "cell_type": "code",
   "execution_count": 56,
   "metadata": {},
   "outputs": [
    {
     "data": {
      "image/png": "[encoded data removed]",
      "text/plain": [
       "<Figure size 640x480 with 1 Axes>"
      ]
     },
     "metadata": {},
     "output_type": "display_data"
    }
   ],
   "source": [
    "fpr, tpr, thresholds = roc_curve(target_valid, probabilities_one_valid_up)\n",
    "\n",
    "plt.figure()\n",
    "plt.plot([0, 1], [0, 1], linestyle='--')\n",
    "plt.plot(fpr, tpr)\n",
    "plt.xlim([0.0, 1.0])\n",
    "plt.ylim([0.0, 1.0])\n",
    "plt.xlabel('False Positive Rate')\n",
    "plt.ylabel('True Positive Rate')\n",
    "plt.title('ROC-кривая')\n",
    "\n",
    "plt.show()"
   ]
  },
  {
   "cell_type": "markdown",
   "metadata": {},
   "source": [
    "**Вывод**\n",
    "\n",
    "Получили, что для модели Решающего дерева при парметрах `max_depth=5`, `min_samples_leaf=2`, `min_samples_split=10` F1-мера составляет 0,56, а площадь под ROC-кривой 0.79, что по прежнему не удовлетворяет минимально требуемого значению F1-меры равное 0,59. Таким образом, даже при \"балансировки\" классов, путем увеличения выборки, модель Решающего дерева не подходит для нашей задачи. Далее посмотрим на поведение при уменьшении выборки"
   ]
  },
  {
   "cell_type": "markdown",
   "metadata": {},
   "source": [
    "#### Обучим модель Случайного леса и посмотрим на его метрики: F1-меру и  AUC-ROC"
   ]
  },
  {
   "cell_type": "code",
   "execution_count": 57,
   "metadata": {},
   "outputs": [],
   "source": [
    "best_model_rfc_up = None\n",
    "best_depth_rfc_up = 0\n",
    "best_result_rfc_up = 0\n",
    "best_samples_split_rfc_up = 0\n",
    "best_est_rfc_up = 0\n",
    "best_samples_leaf_rfc_up = 0\n",
    "for leafs in range(1, 5, 1):\n",
    "    for samples in range(10, 100, 10):\n",
    "        for est in range(1, 20):\n",
    "            for depth in range(1, 11):\n",
    "                model_rfc_up = RandomForestClassifier(random_state=12345,\n",
    "                                                   n_estimators=est,\n",
    "                                                   max_depth=depth,\n",
    "                                                   min_samples_split=samples,\n",
    "                                                   max_features='log2',\n",
    "                                                   min_samples_leaf=leafs)\n",
    "                model_rfc_up.fit(features_upsampled,target_upsampled)\n",
    "                predictions_valid_rfc_up = model_rfc_up.predict(features_valid)\n",
    "                result_rfc_up = f1_score(target_valid, predictions_valid_rfc_up)\n",
    "                if result_rfc_up > best_result_rfc_up:\n",
    "                    best_model_rfc_up =  model_rfc_up #сохраняем лучшую модель\n",
    "                    best_depth_rfc_up = depth #сохраняем лучшую глубину дерева\n",
    "                    best_result_rfc_up = result_rfc_up #сохраняем лучшее значение accuracy на валидационной выборке\n",
    "                    best_est_rfc_up = est #сохраняем лучшее значение количества дереьвев \n",
    "                    best_samples_split_rfc_up = samples #сохраняем лучшее \"минимальное\" количество выборок\n",
    "                    best_samples_leaf_rfc_up = leafs #сохраняем лучшее \"Минимальное\" количество выборок, \n",
    "                                                  #необходимое для нахождения в конечном узле"
   ]
  },
  {
   "cell_type": "code",
   "execution_count": 58,
   "metadata": {},
   "outputs": [
    {
     "name": "stdout",
     "output_type": "stream",
     "text": [
      "F1-мера наилучшей модели на валидационной выборке: 0.6348547717842323\n",
      "Количество деревьев в наилучшей модели 19\n",
      "Глубина деревьев 7\n",
      "Минимальное количество выборок 60\n",
      "Минимальное количество выборок, необходимое для нахождения в конечном узле 4\n"
     ]
    }
   ],
   "source": [
    "print('F1-мера наилучшей модели на валидационной выборке:',  best_result_rfc_up)    \n",
    "print('Количество деревьев в наилучшей модели', best_est_rfc_up)\n",
    "print('Глубина деревьев', best_depth_rfc_up)\n",
    "print('Минимальное количество выборок', best_samples_split_rfc_up)\n",
    "print('Минимальное количество выборок, необходимое для нахождения в конечном узле',  best_samples_leaf_rfc_up)"
   ]
  },
  {
   "cell_type": "markdown",
   "metadata": {},
   "source": [
    "Посчитаем AUC-ROC наилучшей модели случайного дерева и построим ROC-кривую"
   ]
  },
  {
   "cell_type": "code",
   "execution_count": 59,
   "metadata": {},
   "outputs": [
    {
     "name": "stdout",
     "output_type": "stream",
     "text": [
      "AUC-ROC лучшей модели дерева решений: 0.8550832027776601\n"
     ]
    }
   ],
   "source": [
    "best_model_rfc_up = RandomForestClassifier(random_state=12345,\n",
    "                                                   n_estimators=19,\n",
    "                                                   max_depth=7,\n",
    "                                                   min_samples_split=60,\n",
    "                                                   max_features='log2',\n",
    "                                                   min_samples_leaf=4)\n",
    "best_model_rfc_up.fit(features_upsampled, target_upsampled) #обучение модели на увеличенной выборке\n",
    "\n",
    "probabilities_valid_up = best_model_rfc_up.predict_proba(features_valid)\n",
    "probabilities_one_valid_up = probabilities_valid_up[:, 1]\n",
    "auc_roc = roc_auc_score(target_valid, probabilities_one_valid_up)\n",
    "print('AUC-ROC лучшей модели дерева решений:', auc_roc)"
   ]
  },
  {
   "cell_type": "code",
   "execution_count": 60,
   "metadata": {},
   "outputs": [
    {
     "data": {
      "image/png": "[encoded data removed]",
      "text/plain": [
       "<Figure size 640x480 with 1 Axes>"
      ]
     },
     "metadata": {},
     "output_type": "display_data"
    }
   ],
   "source": [
    "fpr, tpr, thresholds = roc_curve(target_valid, probabilities_one_valid_up)\n",
    "\n",
    "plt.figure()\n",
    "plt.plot([0, 1], [0, 1], linestyle='--')\n",
    "plt.plot(fpr, tpr)\n",
    "plt.xlim([0.0, 1.0])\n",
    "plt.ylim([0.0, 1.0])\n",
    "plt.xlabel('False Positive Rate')\n",
    "plt.ylabel('True Positive Rate')\n",
    "plt.title('ROC-кривая')\n",
    "\n",
    "plt.show()"
   ]
  },
  {
   "cell_type": "markdown",
   "metadata": {},
   "source": [
    "**Вывод**\n",
    "\n",
    "Получили, что для модели Случайного леса при парметрах `max_depth=7`, `min_samples_leaf=4`, `'min_samples_split=60`, `'n_estimators=19` F1-мера составляет 0,62, а площадь под ROC-кривой 0.84, что удовлетворяет требованию минимально требуемого значения F1-меры. Посмотрим какое значени F1-меры получится достичь при уменьшении выборки"
   ]
  },
  {
   "cell_type": "markdown",
   "metadata": {},
   "source": [
    "### Уменьшение выборки класса \"0\""
   ]
  },
  {
   "cell_type": "markdown",
   "metadata": {},
   "source": [
    "Напишем функцию downsample()"
   ]
  },
  {
   "cell_type": "code",
   "execution_count": 61,
   "metadata": {},
   "outputs": [],
   "source": [
    "def downsample(features, target, fraction):\n",
    "    features_zeros = features[target == 0]\n",
    "    features_ones = features[target == 1]\n",
    "    target_zeros = target[target == 0]\n",
    "    target_ones = target[target == 1]\n",
    "\n",
    "    features_downsampled = pd.concat(\n",
    "        [features_zeros.sample(frac=fraction, random_state=12345)] + [features_ones])\n",
    "    target_downsampled = pd.concat(\n",
    "        [target_zeros.sample(frac=fraction, random_state=12345)] + [target_ones])\n",
    "    \n",
    "    features_downsampled, target_downsampled = shuffle(\n",
    "        features_downsampled, target_downsampled, random_state=12345)\n",
    "    \n",
    "    return features_downsampled, target_downsampled\n",
    "\n",
    "features_downsampled, target_downsampled = downsample(features_train, target_train, 0.26)"
   ]
  },
  {
   "cell_type": "markdown",
   "metadata": {},
   "source": [
    "#### Обучим модель Решающего дерева и посмотрим на его метрики: F1-меру и  AUC-ROC"
   ]
  },
  {
   "cell_type": "code",
   "execution_count": 62,
   "metadata": {},
   "outputs": [],
   "source": [
    "best_model_dtc_down = None\n",
    "best_depth_dtc_down = 0\n",
    "best_result_dtc_down = 0\n",
    "best_samples_split_dtc_down = 0\n",
    "best_samples_leaf_dtc_down = 0\n",
    "for leafs in range(1, 5, 1):\n",
    "    for depth in range(1, 6):\n",
    "        for samples in range(10, 100, 10):\n",
    "            model_dtc_down = DecisionTreeClassifier(random_state=12345,\n",
    "                                               max_depth=depth,\n",
    "                                               min_samples_split=samples,\n",
    "                                               max_features='log2', \n",
    "                                               min_samples_leaf=leafs)\n",
    "            model_dtc_down.fit(features_downsampled, target_downsampled)\n",
    "            predictions_valid_dtc_down = model_dtc_down.predict(features_valid)\n",
    "            result_dtc_down = f1_score(target_valid, predictions_valid_dtc_down)\n",
    "            if result_dtc_down > best_result_dtc_down:\n",
    "                best_model_dtc_down =  model_dtc_down #сохраняем лучшую модель\n",
    "                best_depth_dtc_down = depth #сохраняем лучшую глубину дерева\n",
    "                best_result_dtc_down = result_dtc_down #сохраняем лучшее значение accuracy на валидационной выборке\n",
    "                best_samples_split_dtc_down = samples #сохраняем лучшее \"минимальное\" количество выборок \n",
    "                best_samples_leaf_dtc_down = leafs #сохраняем лучшее \"Минимальное\" количество выборок,\n",
    "                                              #необходимое для нахождения в конечном узлe"
   ]
  },
  {
   "cell_type": "code",
   "execution_count": 63,
   "metadata": {},
   "outputs": [
    {
     "name": "stdout",
     "output_type": "stream",
     "text": [
      "F1-мера лучшей модели дерева решений: 0.5643564356435643\n",
      "Глубина дерева лучшей модели 5\n",
      "Минимальное количество выборок 90\n",
      "Минимальное количество выборок, необходимое для нахождения в конечном узле 1\n"
     ]
    }
   ],
   "source": [
    "print('F1-мера лучшей модели дерева решений:', best_result_dtc_down)\n",
    "print('Глубина дерева лучшей модели', best_depth_dtc_down)\n",
    "print('Минимальное количество выборок', best_samples_split_dtc_down)\n",
    "print('Минимальное количество выборок, необходимое для нахождения в конечном узле',  best_samples_leaf_dtc_down)"
   ]
  },
  {
   "cell_type": "markdown",
   "metadata": {},
   "source": [
    "Посчитаем AUC-ROC наилучшей модели Решающего дерева и построим ROC-кривую"
   ]
  },
  {
   "cell_type": "code",
   "execution_count": 64,
   "metadata": {},
   "outputs": [
    {
     "name": "stdout",
     "output_type": "stream",
     "text": [
      "AUC-ROC лучшей модели дерева решений: 0.7896770788596592\n"
     ]
    }
   ],
   "source": [
    "best_model_dtc_down = DecisionTreeClassifier(random_state=12345,\n",
    "                                               max_depth=5,\n",
    "                                               min_samples_split=90,\n",
    "                                               max_features='log2',  #параметры выбраны для наилучшей модели\n",
    "                                               min_samples_leaf=1)\n",
    "best_model_dtc_down.fit(features_downsampled, target_downsampled) #обучение модели на увеличенной выборке\n",
    "\n",
    "probabilities_valid_down = best_model_dtc_down.predict_proba(features_valid)\n",
    "probabilities_one_valid_down = probabilities_valid_down[:, 1]\n",
    "auc_roc = roc_auc_score(target_valid, probabilities_one_valid_down)\n",
    "print('AUC-ROC лучшей модели дерева решений:', auc_roc)"
   ]
  },
  {
   "cell_type": "code",
   "execution_count": 65,
   "metadata": {},
   "outputs": [
    {
     "data": {
      "image/png": "[encoded data removed]",
      "text/plain": [
       "<Figure size 640x480 with 1 Axes>"
      ]
     },
     "metadata": {},
     "output_type": "display_data"
    }
   ],
   "source": [
    "fpr, tpr, thresholds = roc_curve(target_valid, probabilities_one_valid_down)\n",
    "\n",
    "plt.figure()\n",
    "plt.plot([0, 1], [0, 1], linestyle='--')\n",
    "plt.plot(fpr, tpr)\n",
    "plt.xlim([0.0, 1.0])\n",
    "plt.ylim([0.0, 1.0])\n",
    "plt.xlabel('False Positive Rate')\n",
    "plt.ylabel('True Positive Rate')\n",
    "plt.title('ROC-кривая')\n",
    "\n",
    "plt.show()"
   ]
  },
  {
   "cell_type": "markdown",
   "metadata": {},
   "source": [
    "**Вывод**\n",
    "\n",
    "Получили, что для модели Решающего дерева при парметрах `max_depth=5`, `min_samples_leaf=1`, `min_samples_split=90` F1-мера составляет 0,56, а площадь под ROC-кривой 0.78, что по прежнему не удовлетворяет минимально требуемого значению F1-меры равное 0,59. Таким образом, даже при \"балансировки\" классов, путем уменьшения выборки, модель Решающего дерева не подходит для нашей задачи. Далее посмотрим на поведение при балансировке классов"
   ]
  },
  {
   "cell_type": "markdown",
   "metadata": {},
   "source": [
    "#### Обучим модель Случайного леса и посмотрим на его метрики: F1-меру и  AUC-ROC"
   ]
  },
  {
   "cell_type": "code",
   "execution_count": 66,
   "metadata": {},
   "outputs": [],
   "source": [
    "best_model_rfc_down = None\n",
    "best_depth_rfc_down = 0\n",
    "best_result_rfc_down = 0\n",
    "best_samples_split_rfc_down = 0\n",
    "best_est_rfc_down = 0\n",
    "best_samples_leaf_rfc_down = 0\n",
    "for leafs in range(1, 5, 1):\n",
    "    for samples in range(10, 100, 10):\n",
    "        for est in range(1, 20):\n",
    "            for depth in range(1, 11):\n",
    "                model_rfc_down = RandomForestClassifier(random_state=12345,\n",
    "                                                   n_estimators=est,\n",
    "                                                   max_depth=depth,\n",
    "                                                   min_samples_split=samples,\n",
    "                                                   max_features='log2',\n",
    "                                                   min_samples_leaf=leafs)\n",
    "                model_rfc_down.fit(features_downsampled, target_downsampled)\n",
    "                predictions_valid_rfc_down = model_rfc_down.predict(features_valid)\n",
    "                result_rfc_down = f1_score(target_valid, predictions_valid_rfc_down)\n",
    "                if result_rfc_down > best_result_rfc_down:\n",
    "                    best_model_rfc_down =  model_rfc_down #сохраняем лучшую модель\n",
    "                    best_depth_rfc_down = depth #сохраняем лучшую глубину дерева\n",
    "                    best_result_rfc_down = result_rfc_down #сохраняем лучшее значение accuracy на валидационной выборке\n",
    "                    best_est_rfc_down = est #сохраняем лучшее значение количества дереьвев \n",
    "                    best_samples_split_rfc_down = samples #сохраняем лучшее \"минимальное\" количество выборок\n",
    "                    best_samples_leaf_rfc_down = leafs #сохраняем лучшее \"Минимальное\" количество выборок, \n",
    "                                                  #необходимое для нахождения в конечном узле"
   ]
  },
  {
   "cell_type": "code",
   "execution_count": 67,
   "metadata": {},
   "outputs": [
    {
     "name": "stdout",
     "output_type": "stream",
     "text": [
      "F1-мера наилучшей модели на валидационной выборке: 0.6270161290322581\n",
      "Количество деревьев в наилучшей модели 14\n",
      "Глубина деревьев 9\n",
      "Минимальное количество выборок 90\n",
      "Минимальное количество выборок, необходимое для нахождения в конечном узле 1\n"
     ]
    }
   ],
   "source": [
    "print('F1-мера наилучшей модели на валидационной выборке:',  best_result_rfc_down)    \n",
    "print('Количество деревьев в наилучшей модели', best_est_rfc_down)\n",
    "print('Глубина деревьев', best_depth_rfc_down)\n",
    "print('Минимальное количество выборок', best_samples_split_rfc_down)\n",
    "print('Минимальное количество выборок, необходимое для нахождения в конечном узле',  best_samples_leaf_rfc_down)"
   ]
  },
  {
   "cell_type": "markdown",
   "metadata": {},
   "source": [
    "Посчитаем AUC-ROC наилучшей модели случайного дерева и построим ROC-кривую"
   ]
  },
  {
   "cell_type": "code",
   "execution_count": 68,
   "metadata": {},
   "outputs": [
    {
     "name": "stdout",
     "output_type": "stream",
     "text": [
      "AUC-ROC лучшей модели дерева решений: 0.8475303806580006\n"
     ]
    }
   ],
   "source": [
    "best_model_rfc_down = RandomForestClassifier(random_state=12345,\n",
    "                                                   n_estimators=19,\n",
    "                                                   max_depth=9,\n",
    "                                                   min_samples_split=90,\n",
    "                                                   max_features='log2',\n",
    "                                                   min_samples_leaf=1)\n",
    "best_model_rfc_down.fit(features_downsampled, target_downsampled) #обучение модели на уменьшенной выборке\n",
    "\n",
    "probabilities_valid_down = best_model_rfc_down.predict_proba(features_valid)\n",
    "probabilities_one_valid_down = probabilities_valid_down[:, 1]\n",
    "auc_roc = roc_auc_score(target_valid, probabilities_one_valid_down)\n",
    "print('AUC-ROC лучшей модели дерева решений:', auc_roc)"
   ]
  },
  {
   "cell_type": "code",
   "execution_count": 69,
   "metadata": {},
   "outputs": [
    {
     "data": {
      "image/png": "[encoded data removed]",
      "text/plain": [
       "<Figure size 640x480 with 1 Axes>"
      ]
     },
     "metadata": {},
     "output_type": "display_data"
    }
   ],
   "source": [
    "fpr, tpr, thresholds = roc_curve(target_valid, probabilities_one_valid_down)\n",
    "\n",
    "plt.figure()\n",
    "plt.plot([0, 1], [0, 1], linestyle='--')\n",
    "plt.plot(fpr, tpr)\n",
    "plt.xlim([0.0, 1.0])\n",
    "plt.ylim([0.0, 1.0])\n",
    "plt.xlabel('False Positive Rate')\n",
    "plt.ylabel('True Positive Rate')\n",
    "plt.title('ROC-кривая')\n",
    "\n",
    "plt.show()"
   ]
  },
  {
   "cell_type": "markdown",
   "metadata": {},
   "source": [
    "**Вывод**\n",
    "\n",
    "Получили, что для модели Случайного леса при парметрах `max_depth=9`, `min_samples_leaf=1`, `'min_samples_split=90`, `'n_estimators=14` F1-мера составляет 0,62, а площадь под ROC-кривой 0.84, что удовлетворяет требованию минимально требуемого значения F1-меры. Посмотрим какое значени F1-меры получится достичь при балансировке классов"
   ]
  },
  {
   "cell_type": "markdown",
   "metadata": {},
   "source": [
    "### Сбалансирование класса за счет параметра class_weight = 'balanced'"
   ]
  },
  {
   "cell_type": "markdown",
   "metadata": {},
   "source": [
    "#### Обучим модель случайного дерева"
   ]
  },
  {
   "cell_type": "code",
   "execution_count": 70,
   "metadata": {},
   "outputs": [],
   "source": [
    "best_model_dtc_balance = None\n",
    "best_depth_dtc_balance = 0\n",
    "best_result_dtc_balance = 0\n",
    "best_samples_split_dtc_balance = 0\n",
    "best_samples_leaf_dtc_balance = 0\n",
    "for leafs in range(1, 5, 1):\n",
    "    for depth in range(1, 6):\n",
    "        for samples in range(10, 100, 10):\n",
    "            model_dtc_balance = DecisionTreeClassifier(random_state=12345,\n",
    "                                               max_depth=depth,\n",
    "                                               min_samples_split=samples,\n",
    "                                               max_features='log2', \n",
    "                                               min_samples_leaf=leafs,\n",
    "                                               class_weight='balanced')\n",
    "            model_dtc_balance.fit(features_train, target_train)\n",
    "            predictions_valid_dtc_balance = model_dtc_balance.predict(features_valid)\n",
    "            result_dtc_balance = f1_score(target_valid, predictions_valid_dtc_balance)\n",
    "            if result_dtc_balance > best_result_dtc_balance:\n",
    "                best_model_dtc_balance =  model_dtc_balance #сохраняем лучшую модель\n",
    "                best_depth_dtc_balance = depth #сохраняем лучшую глубину дерева\n",
    "                best_result_dtc_balance = result_dtc_balance #сохраняем лучшее значение accuracy на валидационной выборке\n",
    "                best_samples_split_dtc_balance = samples #сохраняем лучшее \"минимальное\" количество выборок \n",
    "                best_samples_leaf_dtc_balance = leafs #сохраняем лучшее \"Минимальное\" количество выборок,\n",
    "                                              #необходимое для нахождения в конечном узлe"
   ]
  },
  {
   "cell_type": "code",
   "execution_count": 71,
   "metadata": {},
   "outputs": [
    {
     "name": "stdout",
     "output_type": "stream",
     "text": [
      "F1-мера лучшей модели дерева решений: 0.569550930996714\n",
      "Глубина дерева лучшей модели 5\n",
      "Минимальное количество выборок 10\n",
      "Минимальное количество выборок, необходимое для нахождения в конечном узле 2\n"
     ]
    }
   ],
   "source": [
    "print('F1-мера лучшей модели дерева решений:', best_result_dtc_balance)\n",
    "print('Глубина дерева лучшей модели', best_depth_dtc_balance)\n",
    "print('Минимальное количество выборок', best_samples_split_dtc_balance)\n",
    "print('Минимальное количество выборок, необходимое для нахождения в конечном узле',  best_samples_leaf_dtc_balance)"
   ]
  },
  {
   "cell_type": "markdown",
   "metadata": {},
   "source": [
    "Посчитаем AUC-ROC наилучшей модели случайного дерева и построим ROC-кривую"
   ]
  },
  {
   "cell_type": "code",
   "execution_count": 72,
   "metadata": {},
   "outputs": [
    {
     "name": "stdout",
     "output_type": "stream",
     "text": [
      "AUC-ROC лучшей модели дерева решений: 0.7954243008970535\n"
     ]
    }
   ],
   "source": [
    "best_model_dtc_balance = DecisionTreeClassifier(random_state=12345,\n",
    "                                               max_depth=5,\n",
    "                                               min_samples_split=10,\n",
    "                                               max_features='log2',  #параметры выбраны для наилучшей модели\n",
    "                                               min_samples_leaf=2,\n",
    "                                               class_weight='balanced')\n",
    "best_model_dtc_balance.fit(features_train, target_train) #обучение модели на увеличенной выборке\n",
    "\n",
    "probabilities_valid_balance = best_model_dtc_balance.predict_proba(features_valid)\n",
    "probabilities_one_valid_balance = probabilities_valid_balance[:, 1]\n",
    "auc_roc = roc_auc_score(target_valid, probabilities_one_valid_balance)\n",
    "print('AUC-ROC лучшей модели дерева решений:', auc_roc)"
   ]
  },
  {
   "cell_type": "code",
   "execution_count": 73,
   "metadata": {},
   "outputs": [
    {
     "data": {
      "image/png": "[encoded data removed]",
      "text/plain": [
       "<Figure size 640x480 with 1 Axes>"
      ]
     },
     "metadata": {},
     "output_type": "display_data"
    }
   ],
   "source": [
    "fpr, tpr, thresholds = roc_curve(target_valid, probabilities_one_valid_balance)\n",
    "\n",
    "plt.figure()\n",
    "plt.plot([0, 1], [0, 1], linestyle='--')\n",
    "plt.plot(fpr, tpr)\n",
    "plt.xlim([0.0, 1.0])\n",
    "plt.ylim([0.0, 1.0])\n",
    "plt.xlabel('False Positive Rate')\n",
    "plt.ylabel('True Positive Rate')\n",
    "plt.title('ROC-кривая')\n",
    "\n",
    "plt.show()"
   ]
  },
  {
   "cell_type": "markdown",
   "metadata": {},
   "source": [
    "###### **Вывод**\n",
    "\n",
    "Получили, что для модели Решающего дерева при парметрах `max_depth=5`, `min_samples_leaf=2`, `min_samples_split=10` F1-мера составляет 0,56, а площадь под ROC-кривой 0.79, что по прежнему не удовлетворяет минимально требуемого значению F1-меры равное 0,59, хотя при таком способе значение получилось самым большим. Таким образом, даже при \"балансировки\" классов,  модель Решающего дерева не подходит для нашей задачи. "
   ]
  },
  {
   "cell_type": "markdown",
   "metadata": {},
   "source": [
    "#### Обучим модель случайного дерева"
   ]
  },
  {
   "cell_type": "code",
   "execution_count": 74,
   "metadata": {},
   "outputs": [],
   "source": [
    "best_model_rfc_balance = None\n",
    "best_depth_rfc_balance = 0\n",
    "best_result_rfc_balance = 0\n",
    "best_samples_split_rfc_balance = 0\n",
    "best_est_rfc_balance = 0\n",
    "best_samples_leaf_rfc_balance = 0\n",
    "for leafs in range(1, 5, 1):\n",
    "    for samples in range(10, 100, 10):\n",
    "        for est in range(1, 20):\n",
    "            for depth in range(1, 11):\n",
    "                model_rfc_balance = RandomForestClassifier(random_state=12345,\n",
    "                                                   n_estimators=est,\n",
    "                                                   max_depth=depth,\n",
    "                                                   min_samples_split=samples,\n",
    "                                                   max_features='log2',\n",
    "                                                   min_samples_leaf=leafs,\n",
    "                                                   class_weight='balanced')\n",
    "                model_rfc_balance.fit(features_train, target_train)\n",
    "                predictions_valid_rfc_balance = model_rfc_balance.predict(features_valid)\n",
    "                result_rfc_balance = f1_score(target_valid, predictions_valid_rfc_balance)\n",
    "                if result_rfc_balance > best_result_rfc_balance:\n",
    "                    best_model_rfc_balance =  model_rfc_balance #сохраняем лучшую модель\n",
    "                    best_depth_rfc_balance = depth #сохраняем лучшую глубину дерева\n",
    "                    best_result_rfc_balance = result_rfc_balance #сохраняем лучшее значение accuracy на валидационной выборке\n",
    "                    best_est_rfc_balance = est #сохраняем лучшее значение количества дереьвев \n",
    "                    best_samples_split_rfc_balance = samples #сохраняем лучшее \"минимальное\" количество выборок\n",
    "                    best_samples_leaf_rfc_balance = leafs #сохраняем лучшее \"Минимальное\" количество выборок, \n",
    "                                                  #необходимое для нахождения в конечном узле"
   ]
  },
  {
   "cell_type": "code",
   "execution_count": 75,
   "metadata": {},
   "outputs": [
    {
     "name": "stdout",
     "output_type": "stream",
     "text": [
      "F1-мера наилучшей модели на валидационной выборке: 0.6403326403326404\n",
      "Количество деревьев в наилучшей модели 19\n",
      "Глубина деревьев 7\n",
      "Минимальное количество выборок 20\n",
      "Минимальное количество выборок, необходимое для нахождения в конечном узле 1\n"
     ]
    }
   ],
   "source": [
    "print('F1-мера наилучшей модели на валидационной выборке:',  best_result_rfc_balance)    \n",
    "print('Количество деревьев в наилучшей модели', best_est_rfc_balance)\n",
    "print('Глубина деревьев', best_depth_rfc_balance)\n",
    "print('Минимальное количество выборок', best_samples_split_rfc_balance)\n",
    "print('Минимальное количество выборок, необходимое для нахождения в конечном узле',  best_samples_leaf_rfc_balance)"
   ]
  },
  {
   "cell_type": "markdown",
   "metadata": {},
   "source": [
    "Посчитаем AUC-ROC наилучшей модели случайного дерева и построим ROC-кривую"
   ]
  },
  {
   "cell_type": "code",
   "execution_count": 76,
   "metadata": {},
   "outputs": [
    {
     "name": "stdout",
     "output_type": "stream",
     "text": [
      "AUC-ROC лучшей модели дерева решений: 0.8538877866427936\n"
     ]
    }
   ],
   "source": [
    "best_model_rfc_balance = RandomForestClassifier(random_state=12345,\n",
    "                                                   n_estimators=19,\n",
    "                                                   max_depth=7,\n",
    "                                                   min_samples_split=20,\n",
    "                                                   max_features='log2',\n",
    "                                                   min_samples_leaf=1,\n",
    "                                                   class_weight='balanced')\n",
    "best_model_rfc_balance.fit(features_train, target_train) #обучение модели на увеличенной выборке\n",
    "\n",
    "probabilities_valid_balance = best_model_rfc_balance.predict_proba(features_valid)\n",
    "probabilities_one_valid_balance = probabilities_valid_balance[:, 1]\n",
    "auc_roc = roc_auc_score(target_valid, probabilities_one_valid_balance)\n",
    "print('AUC-ROC лучшей модели дерева решений:', auc_roc)"
   ]
  },
  {
   "cell_type": "code",
   "execution_count": 77,
   "metadata": {},
   "outputs": [
    {
     "data": {
      "image/png": "[encoded data removed]",
      "text/plain": [
       "<Figure size 640x480 with 1 Axes>"
      ]
     },
     "metadata": {},
     "output_type": "display_data"
    }
   ],
   "source": [
    "fpr, tpr, thresholds = roc_curve(target_valid, probabilities_one_valid_balance)\n",
    "\n",
    "plt.figure()\n",
    "plt.plot([0, 1], [0, 1], linestyle='--')\n",
    "plt.plot(fpr, tpr)\n",
    "plt.xlim([0.0, 1.0])\n",
    "plt.ylim([0.0, 1.0])\n",
    "plt.xlabel('False Positive Rate')\n",
    "plt.ylabel('True Positive Rate')\n",
    "plt.title('ROC-кривая')\n",
    "\n",
    "plt.show()"
   ]
  },
  {
   "cell_type": "markdown",
   "metadata": {},
   "source": [
    "**Вывод**\n",
    "\n",
    "Получили, что для модели Случайного леса при парметрах `max_depth=7`, `min_samples_leaf=2`, `'min_samples_split=20`, `'n_estimators=19` F1-мера составляет 0,64, а площадь под ROC-кривой 0.85, что удовлетворяет требованию минимально требуемого значения F1-меры и даже еще немного больше, чем при увеличении и уменьшении выборки. \n",
    "\n",
    "Таким образом наилучшего результата удалось достичь при балансировке классов, для модели случайного дерева. Проверим ее на тестовой выборке"
   ]
  },
  {
   "cell_type": "markdown",
   "metadata": {},
   "source": [
    "## Тестирование модели"
   ]
  },
  {
   "cell_type": "markdown",
   "metadata": {},
   "source": [
    "Рассмотрим метрики лучшей модели Решающего дерева для лучшей модели, полученной в предыдущем этапе"
   ]
  },
  {
   "cell_type": "code",
   "execution_count": 78,
   "metadata": {},
   "outputs": [],
   "source": [
    "prediction_test_rfc = best_model_rfc_balance.predict(features_test)\n",
    "accuracy_test_rfc = accuracy_score(prediction_test_rfc, target_test)\n",
    "f1_test_rfc = f1_score(target_test, prediction_test_rfc)\n",
    "#auc_roc_test_rfc = roc_auc_score(target_test, prediction_test_rfc)"
   ]
  },
  {
   "cell_type": "code",
   "execution_count": 79,
   "metadata": {},
   "outputs": [],
   "source": [
    "probabilities_valid_balance = best_model_rfc_balance.predict_proba(features_valid)\n",
    "probabilities_one_valid_balance = probabilities_valid_balance[:, 1]\n",
    "auc_roc_test_rfc = roc_auc_score(target_valid, probabilities_one_valid_balance)\n"
   ]
  },
  {
   "cell_type": "code",
   "execution_count": 80,
   "metadata": {},
   "outputs": [
    {
     "name": "stdout",
     "output_type": "stream",
     "text": [
      "показатель Accuracy 0.8035\n",
      "Показатель F1 0.599388379204893\n",
      "Показатель auc_roc 0.8538877866427936\n"
     ]
    }
   ],
   "source": [
    "print('показатель Accuracy', accuracy_test_rfc)\n",
    "print('Показатель F1', f1_test_rfc)\n",
    "print('Показатель auc_roc', auc_roc_test_rfc)"
   ]
  },
  {
   "cell_type": "code",
   "execution_count": 81,
   "metadata": {},
   "outputs": [],
   "source": [
    "probabilities_test = best_model_rfc_balance.predict_proba(features_test)\n",
    "probabilities_one_test = probabilities_test[:, 1]\n",
    "auc_roc_test = roc_auc_score(target_test, probabilities_one_test)"
   ]
  },
  {
   "cell_type": "code",
   "execution_count": 82,
   "metadata": {},
   "outputs": [
    {
     "name": "stdout",
     "output_type": "stream",
     "text": [
      "Показатель auc_roc 0.8494073344516551\n"
     ]
    }
   ],
   "source": [
    "print('Показатель auc_roc', auc_roc_test)"
   ]
  },
  {
   "cell_type": "code",
   "execution_count": 83,
   "metadata": {
    "scrolled": false
   },
   "outputs": [
    {
     "data": {
      "image/png": "[encoded data removed]",
      "text/plain": [
       "<Figure size 640x480 with 1 Axes>"
      ]
     },
     "metadata": {},
     "output_type": "display_data"
    }
   ],
   "source": [
    "fpr, tpr, thresholds = roc_curve(target_test, probabilities_one_test)\n",
    "\n",
    "plt.figure()\n",
    "plt.plot([0, 1], [0, 1], linestyle='--')\n",
    "plt.plot(fpr, tpr)\n",
    "plt.xlim([0.0, 1.0])\n",
    "plt.ylim([0.0, 1.0])\n",
    "plt.xlabel('False Positive Rate')\n",
    "plt.ylabel('True Positive Rate')\n",
    "plt.title('ROC-кривая')\n",
    "\n",
    "plt.show()"
   ]
  },
  {
   "cell_type": "code",
   "execution_count": 84,
   "metadata": {},
   "outputs": [
    {
     "data": {
      "image/png": "[encoded data removed]",
      "text/plain": [
       "<Figure size 640x480 with 1 Axes>"
      ]
     },
     "metadata": {},
     "output_type": "display_data"
    }
   ],
   "source": [
    "feature_importance = best_model_rfc_balance.feature_importances_\n",
    "feature_imp = pd.DataFrame(sorted(zip(feature_importance, features.columns)), columns=['Value','Feature'])\n",
    "sns.barplot(x=\"Value\", y=\"Feature\", data=feature_imp.sort_values(by=\"Value\", ascending=False))\n",
    "plt.title('Feature importance')\n",
    "plt.tight_layout()\n",
    "plt.show();"
   ]
  },
  {
   "cell_type": "markdown",
   "metadata": {},
   "source": [
    "## Итоговые выводы"
   ]
  },
  {
   "cell_type": "markdown",
   "metadata": {},
   "source": [
    "Целью данного исследования было подобрать модель, которая способна спрогнозировать уйдёт клиент из банка в ближайшее время или нет. Нам были предоставлены исторические данные о поведении клиентов и расторжении договоров с банком. \n",
    "\n",
    "В исходном датафрейме 10000 строк, из них:\n",
    "- факт ухода клиента из банка отрицательный (0) - 7963 признака;\n",
    "- факт ухода клиента из банка положительный (1) - 2037 признаков.\n",
    "\n",
    "В данных присутствует информация о 5457 мужчинах и 4543 женщинах, проживающих во Франции (5014), Германии (2509), Испании(2477). Это категориальные признаки, находящиеся в колонках `Geography`, `Gender`, которые в дальнейшем необходимо будет привести к численным, чтобы при обучении моделей не возникало ошибок. Колонку `Surname`  фамилиями клиентов в банке мы удалили из датафрейма, поэтому ее приводить к численным значениям не будем\n",
    "\n",
    "В целом исходные даннные были \"чистые\", за исключением колонки с данными `Tenure` о количестве лет, сколько человек является клиентом данного банка. Данные в этой колонке были заменены нулевыми значениями. В случае возможности, стоит уточнить у разработчиков, по какой причине в колонке `Tenure` столько пропусков. Может быть причина в том, что статистика по количеству лет, сколько лет человек является клиентом банка за какой-то период не велась по причине сбоя, или есть еще какие-то причны, которые стоит уточнить.\n",
    "Дубликатов в датафрейме не обнаружено.\n",
    "Таким образом, после небольшой предобработки данных, они были использованы для дальнеших исследований.\n",
    "\n",
    "Далее данные был разделен на три выборки: обучающую, валидационную и тестовую (60%, 20%, 20% соответветственно). Произведено преобразование категориальных данных о Поле и Месте проживания клиента в числовые, для того, чтобы при обучении моделей не возникало ошибок. Также было произведено машстабирование числовых признаков, для того, чтобы модель не оценила один признак важнее другого, по причине того, что его числовые признаки больше.\n",
    "\n",
    "Далее были рассмотрены две модели:\n",
    "\n",
    "дерева решений - DecisionTreeClassifier,\n",
    "случайного леса - RandomForestClassifier,\n",
    "\n",
    "Качество обучаемых моделей контролировали с помощью таких метрик, как F1-мера, ROC-кривая и значение площади под ней AUC-ROC. В задаче минимальное требуемое значение F1-меры составляет 0,59, что мы и пытались достичь при решении задач. Наряду с этой метрикой контролировали и AUC-ROC, чтобы ее значение как минимум было больше порогого 0,5 и стремилось к 1. Выбрали именно эти два параметра, так с помощью них можно оценить качество моделей и исключить \"случайность\" моделей.\n",
    "\n",
    "По результатам моделирования получили, что показатель F1-меры у модели Случайного леса лучше (0,57), чем у Решающего дерева (0,53), однако не дотягивает до минимально требуемого в 0,59. \n",
    "По результатам моделирования получили, что AUC-ROC у модели Случайного леса немного лучше (0,83), чем у Решающего дерева (0,82).\n",
    "\n",
    "Для того чтобы улучшить качество моделей, далее учитывали дисбаланс классов. Проверили метрики для моделей Решающего дерева и Случаного леса для трех случаев:\n",
    "\n",
    "1) *увеличение выборки*. \n",
    "Получили, что:\n",
    "\n",
    "- для наилучшей модели Решающего Дерева F1-мера=0,56, AUC-ROC=0,79\n",
    "- для наилучшей модели Случайного Леса F1-мера=0,63, AUC-ROC=0,85\n",
    "\n",
    "2) *уменьшение выборки*.\n",
    "Получили что:\n",
    "\n",
    "- для наилучшей модели Решающего Дерева F1-мера=0,56, AUC-ROC=0,78\n",
    "- для наилучшей модели Случайного Леса F1-мера=0,62, AUC-ROC=0,84\n",
    "\n",
    "3) *балансировка классов применением параметра class_weight='balanced'*\n",
    "\n",
    "- для наилучшей модели Решающего Дерева F1-мера=0,56, AUC-ROC=0,79\n",
    "- для наилучшей модели Случайного Леса F1-мера=0,64, AUC-ROC=0,84\n",
    "\n",
    "\n",
    "Таким образом, получили, что наилучшей моделью оказалась модель случайного леса с применением метода балансировки классов  и с параметрами `max_depth=7`, `min_samples_leaf=1`, `min_samples_split=20`, `n_estimators=19`\n",
    "\n",
    "При тестировании обученной модели на тестовой выборке результат оказался следующим:\n",
    "\n",
    "F1-мера: 0.599\n",
    "AUC-ROC: 0.84, что также удовлетворяет минимально требуемому значению F1-меры 0,59.\n",
    "\n"
   ]
  }
 ],
 "metadata": {
  "ExecuteTimeLog": [
   {
    "duration": 1391,
    "start_time": "2023-07-03T07:41:25.337Z"
   },
   {
    "duration": 188,
    "start_time": "2023-07-03T07:41:59.037Z"
   },
   {
    "duration": 33,
    "start_time": "2023-07-03T07:42:07.595Z"
   },
   {
    "duration": 35,
    "start_time": "2023-07-03T07:51:50.143Z"
   },
   {
    "duration": 6,
    "start_time": "2023-07-03T07:53:06.529Z"
   },
   {
    "duration": 142,
    "start_time": "2023-07-03T07:55:13.611Z"
   },
   {
    "duration": 16,
    "start_time": "2023-07-03T08:00:01.694Z"
   },
   {
    "duration": 8,
    "start_time": "2023-07-03T08:01:01.084Z"
   },
   {
    "duration": 11,
    "start_time": "2023-07-03T08:19:01.369Z"
   },
   {
    "duration": 4,
    "start_time": "2023-07-03T09:08:37.031Z"
   },
   {
    "duration": 14,
    "start_time": "2023-07-03T09:08:50.810Z"
   },
   {
    "duration": 46,
    "start_time": "2023-07-03T09:09:16.696Z"
   },
   {
    "duration": 47,
    "start_time": "2023-07-03T09:09:35.808Z"
   },
   {
    "duration": 7,
    "start_time": "2023-07-03T09:29:22.421Z"
   },
   {
    "duration": 12,
    "start_time": "2023-07-03T09:29:26.189Z"
   },
   {
    "duration": 36,
    "start_time": "2023-07-03T09:29:31.600Z"
   },
   {
    "duration": 11,
    "start_time": "2023-07-03T09:31:21.452Z"
   },
   {
    "duration": 13,
    "start_time": "2023-07-03T09:31:42.983Z"
   },
   {
    "duration": 5,
    "start_time": "2023-07-03T09:44:57.990Z"
   },
   {
    "duration": 8,
    "start_time": "2023-07-03T09:45:32.724Z"
   },
   {
    "duration": 4,
    "start_time": "2023-07-03T09:45:51.781Z"
   },
   {
    "duration": 9,
    "start_time": "2023-07-03T09:46:25.148Z"
   },
   {
    "duration": 3,
    "start_time": "2023-07-03T09:46:40.527Z"
   },
   {
    "duration": 3,
    "start_time": "2023-07-03T09:55:05.600Z"
   },
   {
    "duration": 9,
    "start_time": "2023-07-03T09:58:24.798Z"
   },
   {
    "duration": 33,
    "start_time": "2023-07-03T09:58:47.630Z"
   },
   {
    "duration": 45,
    "start_time": "2023-07-03T09:59:00.167Z"
   },
   {
    "duration": 28,
    "start_time": "2023-07-03T09:59:27.980Z"
   },
   {
    "duration": 7,
    "start_time": "2023-07-03T09:59:38.750Z"
   },
   {
    "duration": 15,
    "start_time": "2023-07-03T09:59:50.720Z"
   },
   {
    "duration": 14,
    "start_time": "2023-07-03T10:00:00.150Z"
   },
   {
    "duration": 8,
    "start_time": "2023-07-03T10:00:12.809Z"
   },
   {
    "duration": 17,
    "start_time": "2023-07-03T10:00:25.343Z"
   },
   {
    "duration": 9,
    "start_time": "2023-07-03T10:00:41.482Z"
   },
   {
    "duration": 16,
    "start_time": "2023-07-03T10:02:41.610Z"
   },
   {
    "duration": 3,
    "start_time": "2023-07-03T10:07:47.401Z"
   },
   {
    "duration": 32,
    "start_time": "2023-07-03T13:07:49.172Z"
   },
   {
    "duration": 14,
    "start_time": "2023-07-03T13:08:18.104Z"
   },
   {
    "duration": 4,
    "start_time": "2023-07-03T13:09:03.269Z"
   },
   {
    "duration": 3,
    "start_time": "2023-07-03T13:19:13.391Z"
   },
   {
    "duration": 471,
    "start_time": "2023-07-03T13:19:59.172Z"
   },
   {
    "duration": 4,
    "start_time": "2023-07-03T13:20:44.206Z"
   },
   {
    "duration": 4,
    "start_time": "2023-07-03T13:26:40.027Z"
   },
   {
    "duration": 4,
    "start_time": "2023-07-03T13:27:36.644Z"
   },
   {
    "duration": 44081,
    "start_time": "2023-07-03T13:28:21.421Z"
   },
   {
    "duration": 13,
    "start_time": "2023-07-03T13:39:43.723Z"
   },
   {
    "duration": 20,
    "start_time": "2023-07-03T13:40:00.083Z"
   },
   {
    "duration": 4,
    "start_time": "2023-07-03T13:40:18.643Z"
   },
   {
    "duration": 2,
    "start_time": "2023-07-03T13:43:18.994Z"
   },
   {
    "duration": 4,
    "start_time": "2023-07-03T13:43:22.771Z"
   },
   {
    "duration": 3,
    "start_time": "2023-07-03T13:43:26.943Z"
   },
   {
    "duration": 20082,
    "start_time": "2023-07-03T13:43:28.067Z"
   },
   {
    "duration": 13,
    "start_time": "2023-07-03T13:43:52.023Z"
   },
   {
    "duration": 3,
    "start_time": "2023-07-03T13:43:53.223Z"
   },
   {
    "duration": 4,
    "start_time": "2023-07-03T13:44:22.575Z"
   },
   {
    "duration": 3,
    "start_time": "2023-07-03T13:45:22.537Z"
   },
   {
    "duration": 3,
    "start_time": "2023-07-03T13:45:23.737Z"
   },
   {
    "duration": 34693,
    "start_time": "2023-07-03T13:45:24.606Z"
   },
   {
    "duration": 12,
    "start_time": "2023-07-03T13:46:01.930Z"
   },
   {
    "duration": 3,
    "start_time": "2023-07-03T13:46:02.868Z"
   },
   {
    "duration": 4,
    "start_time": "2023-07-03T13:46:47.331Z"
   },
   {
    "duration": 9,
    "start_time": "2023-07-03T13:50:40.853Z"
   },
   {
    "duration": 4,
    "start_time": "2023-07-03T13:50:42.800Z"
   },
   {
    "duration": 6,
    "start_time": "2023-07-03T13:50:48.152Z"
   },
   {
    "duration": 11,
    "start_time": "2023-07-03T13:50:56.169Z"
   },
   {
    "duration": 9,
    "start_time": "2023-07-03T13:50:58.712Z"
   },
   {
    "duration": 5,
    "start_time": "2023-07-03T13:51:26.415Z"
   },
   {
    "duration": 202,
    "start_time": "2023-07-03T13:51:26.422Z"
   },
   {
    "duration": 16,
    "start_time": "2023-07-03T13:51:26.627Z"
   },
   {
    "duration": 26,
    "start_time": "2023-07-03T13:51:26.646Z"
   },
   {
    "duration": 13,
    "start_time": "2023-07-03T13:51:26.675Z"
   },
   {
    "duration": 9,
    "start_time": "2023-07-03T13:51:26.690Z"
   },
   {
    "duration": 7,
    "start_time": "2023-07-03T13:51:26.701Z"
   },
   {
    "duration": 21,
    "start_time": "2023-07-03T13:51:26.710Z"
   },
   {
    "duration": 26,
    "start_time": "2023-07-03T13:51:26.733Z"
   },
   {
    "duration": 16,
    "start_time": "2023-07-03T13:51:26.763Z"
   },
   {
    "duration": 15,
    "start_time": "2023-07-03T13:51:26.785Z"
   },
   {
    "duration": 19,
    "start_time": "2023-07-03T13:51:26.802Z"
   },
   {
    "duration": 20,
    "start_time": "2023-07-03T13:51:26.823Z"
   },
   {
    "duration": 47,
    "start_time": "2023-07-03T13:51:26.846Z"
   },
   {
    "duration": 4,
    "start_time": "2023-07-03T13:51:26.895Z"
   },
   {
    "duration": 12,
    "start_time": "2023-07-03T13:51:26.901Z"
   },
   {
    "duration": 8,
    "start_time": "2023-07-03T13:51:26.915Z"
   },
   {
    "duration": 6,
    "start_time": "2023-07-03T13:51:26.924Z"
   },
   {
    "duration": 4,
    "start_time": "2023-07-03T13:51:26.931Z"
   },
   {
    "duration": 50,
    "start_time": "2023-07-03T13:51:26.936Z"
   },
   {
    "duration": 11,
    "start_time": "2023-07-03T13:51:26.988Z"
   },
   {
    "duration": 4,
    "start_time": "2023-07-03T13:51:27.001Z"
   },
   {
    "duration": 10,
    "start_time": "2023-07-03T13:51:27.007Z"
   },
   {
    "duration": 5,
    "start_time": "2023-07-03T13:51:27.019Z"
   },
   {
    "duration": 37,
    "start_time": "2023-07-03T13:51:27.025Z"
   },
   {
    "duration": 5,
    "start_time": "2023-07-03T13:51:27.069Z"
   },
   {
    "duration": 28,
    "start_time": "2023-07-03T13:51:27.077Z"
   },
   {
    "duration": 3,
    "start_time": "2023-07-03T13:51:27.107Z"
   },
   {
    "duration": 5,
    "start_time": "2023-07-03T13:51:27.112Z"
   },
   {
    "duration": 6,
    "start_time": "2023-07-03T13:51:27.119Z"
   },
   {
    "duration": 36748,
    "start_time": "2023-07-03T13:51:27.126Z"
   },
   {
    "duration": 7,
    "start_time": "2023-07-03T13:52:03.876Z"
   },
   {
    "duration": 8,
    "start_time": "2023-07-03T13:52:03.885Z"
   },
   {
    "duration": 5,
    "start_time": "2023-07-03T13:52:03.897Z"
   },
   {
    "duration": 10,
    "start_time": "2023-07-03T13:52:03.904Z"
   },
   {
    "duration": 5,
    "start_time": "2023-07-03T13:52:03.916Z"
   },
   {
    "duration": 43,
    "start_time": "2023-07-03T13:52:03.923Z"
   },
   {
    "duration": 3,
    "start_time": "2023-07-03T13:54:40.150Z"
   },
   {
    "duration": 3,
    "start_time": "2023-07-03T13:55:33.522Z"
   },
   {
    "duration": 87710,
    "start_time": "2023-07-03T13:55:51.360Z"
   },
   {
    "duration": 9,
    "start_time": "2023-07-03T13:57:29.576Z"
   },
   {
    "duration": 4,
    "start_time": "2023-07-03T13:57:32.328Z"
   },
   {
    "duration": 5,
    "start_time": "2023-07-03T13:57:34.217Z"
   },
   {
    "duration": 8,
    "start_time": "2023-07-03T13:58:01.566Z"
   },
   {
    "duration": 12,
    "start_time": "2023-07-03T13:58:16.922Z"
   },
   {
    "duration": 4,
    "start_time": "2023-07-03T13:58:33.730Z"
   },
   {
    "duration": 11,
    "start_time": "2023-07-03T13:59:22.355Z"
   },
   {
    "duration": 1348,
    "start_time": "2023-07-03T14:48:52.535Z"
   },
   {
    "duration": 164,
    "start_time": "2023-07-03T14:49:03.935Z"
   },
   {
    "duration": 4,
    "start_time": "2023-07-03T14:54:14.998Z"
   },
   {
    "duration": 18,
    "start_time": "2023-07-03T14:55:40.728Z"
   },
   {
    "duration": 1721,
    "start_time": "2023-07-03T15:00:00.815Z"
   },
   {
    "duration": 6,
    "start_time": "2023-07-03T15:00:25.944Z"
   },
   {
    "duration": 1601,
    "start_time": "2023-07-03T15:04:40.416Z"
   },
   {
    "duration": 6,
    "start_time": "2023-07-03T15:04:43.932Z"
   },
   {
    "duration": 4,
    "start_time": "2023-07-03T15:07:47.882Z"
   },
   {
    "duration": 18,
    "start_time": "2023-07-03T15:09:07.307Z"
   },
   {
    "duration": 22,
    "start_time": "2023-07-03T15:09:49.844Z"
   },
   {
    "duration": 20,
    "start_time": "2023-07-03T15:15:42.107Z"
   },
   {
    "duration": 499322,
    "start_time": "2023-07-03T15:18:55.402Z"
   },
   {
    "duration": 8,
    "start_time": "2023-07-03T15:27:18.139Z"
   },
   {
    "duration": 171,
    "start_time": "2023-07-03T15:29:00.179Z"
   },
   {
    "duration": 170,
    "start_time": "2023-07-03T15:29:15.573Z"
   },
   {
    "duration": 20,
    "start_time": "2023-07-03T15:34:23.164Z"
   },
   {
    "duration": 1073,
    "start_time": "2023-07-03T15:35:33.829Z"
   },
   {
    "duration": 4,
    "start_time": "2023-07-03T15:35:49.486Z"
   },
   {
    "duration": 12,
    "start_time": "2023-07-03T15:39:04.626Z"
   },
   {
    "duration": 246792,
    "start_time": "2023-07-03T15:40:32.004Z"
   },
   {
    "duration": 7,
    "start_time": "2023-07-03T15:44:38.799Z"
   },
   {
    "duration": 89,
    "start_time": "2023-07-03T15:46:38.946Z"
   },
   {
    "duration": 66,
    "start_time": "2023-07-03T15:47:04.075Z"
   },
   {
    "duration": 1450,
    "start_time": "2023-07-03T15:53:42.780Z"
   },
   {
    "duration": 5,
    "start_time": "2023-07-03T15:53:56.949Z"
   },
   {
    "duration": 17,
    "start_time": "2023-07-03T15:55:01.493Z"
   },
   {
    "duration": 362798,
    "start_time": "2023-07-03T15:55:53.862Z"
   },
   {
    "duration": 5,
    "start_time": "2023-07-03T16:08:24.505Z"
   },
   {
    "duration": 115,
    "start_time": "2023-07-03T16:08:44.275Z"
   },
   {
    "duration": 52,
    "start_time": "2023-07-03T17:38:24.208Z"
   },
   {
    "duration": 1940,
    "start_time": "2023-07-03T17:38:34.567Z"
   },
   {
    "duration": 174,
    "start_time": "2023-07-03T17:38:36.510Z"
   },
   {
    "duration": 28,
    "start_time": "2023-07-03T17:38:36.689Z"
   },
   {
    "duration": 24,
    "start_time": "2023-07-03T17:38:36.719Z"
   },
   {
    "duration": 17,
    "start_time": "2023-07-03T17:38:36.745Z"
   },
   {
    "duration": 8,
    "start_time": "2023-07-03T17:38:36.765Z"
   },
   {
    "duration": 11,
    "start_time": "2023-07-03T17:38:36.774Z"
   },
   {
    "duration": 23,
    "start_time": "2023-07-03T17:38:36.787Z"
   },
   {
    "duration": 10,
    "start_time": "2023-07-03T17:38:36.812Z"
   },
   {
    "duration": 14,
    "start_time": "2023-07-03T17:38:36.827Z"
   },
   {
    "duration": 6,
    "start_time": "2023-07-03T17:38:36.867Z"
   },
   {
    "duration": 11,
    "start_time": "2023-07-03T17:38:36.875Z"
   },
   {
    "duration": 26,
    "start_time": "2023-07-03T17:38:36.888Z"
   },
   {
    "duration": 52,
    "start_time": "2023-07-03T17:38:36.916Z"
   },
   {
    "duration": 6,
    "start_time": "2023-07-03T17:38:36.972Z"
   },
   {
    "duration": 11,
    "start_time": "2023-07-03T17:38:36.980Z"
   },
   {
    "duration": 19,
    "start_time": "2023-07-03T17:38:36.993Z"
   },
   {
    "duration": 9,
    "start_time": "2023-07-03T17:38:37.014Z"
   },
   {
    "duration": 14,
    "start_time": "2023-07-03T17:38:37.026Z"
   },
   {
    "duration": 44,
    "start_time": "2023-07-03T17:38:37.042Z"
   },
   {
    "duration": 18,
    "start_time": "2023-07-03T17:38:37.089Z"
   },
   {
    "duration": 5,
    "start_time": "2023-07-03T17:38:37.110Z"
   },
   {
    "duration": 24,
    "start_time": "2023-07-03T17:38:37.118Z"
   },
   {
    "duration": 217,
    "start_time": "2023-07-03T17:38:37.144Z"
   },
   {
    "duration": 314,
    "start_time": "2023-07-03T17:38:37.363Z"
   },
   {
    "duration": 56,
    "start_time": "2023-07-03T17:38:37.679Z"
   },
   {
    "duration": 127,
    "start_time": "2023-07-03T17:38:37.737Z"
   },
   {
    "duration": 164,
    "start_time": "2023-07-03T17:38:37.869Z"
   },
   {
    "duration": 200,
    "start_time": "2023-07-03T17:38:38.036Z"
   },
   {
    "duration": 9,
    "start_time": "2023-07-03T17:38:38.238Z"
   },
   {
    "duration": 37539,
    "start_time": "2023-07-03T17:38:38.249Z"
   },
   {
    "duration": 8,
    "start_time": "2023-07-03T17:39:15.790Z"
   },
   {
    "duration": 5,
    "start_time": "2023-07-03T17:39:15.800Z"
   },
   {
    "duration": 7,
    "start_time": "2023-07-03T17:39:15.808Z"
   },
   {
    "duration": 12,
    "start_time": "2023-07-03T17:39:15.817Z"
   },
   {
    "duration": 204,
    "start_time": "2023-07-03T17:39:15.831Z"
   },
   {
    "duration": 3,
    "start_time": "2023-07-03T17:39:16.037Z"
   },
   {
    "duration": 25,
    "start_time": "2023-07-03T17:39:16.042Z"
   },
   {
    "duration": 8,
    "start_time": "2023-07-03T17:39:16.069Z"
   },
   {
    "duration": 5,
    "start_time": "2023-07-03T17:39:16.079Z"
   },
   {
    "duration": 91,
    "start_time": "2023-07-04T06:30:50.575Z"
   },
   {
    "duration": 1988,
    "start_time": "2023-07-04T06:30:53.921Z"
   },
   {
    "duration": 112,
    "start_time": "2023-07-04T06:30:55.912Z"
   },
   {
    "duration": 21,
    "start_time": "2023-07-04T06:30:56.027Z"
   },
   {
    "duration": 59,
    "start_time": "2023-07-04T06:30:56.051Z"
   },
   {
    "duration": 7,
    "start_time": "2023-07-04T06:30:56.113Z"
   },
   {
    "duration": 14,
    "start_time": "2023-07-04T06:30:56.122Z"
   },
   {
    "duration": 56,
    "start_time": "2023-07-04T06:30:56.138Z"
   },
   {
    "duration": 19,
    "start_time": "2023-07-04T06:30:56.196Z"
   },
   {
    "duration": 11,
    "start_time": "2023-07-04T06:30:56.217Z"
   },
   {
    "duration": 17,
    "start_time": "2023-07-04T06:30:56.232Z"
   },
   {
    "duration": 31,
    "start_time": "2023-07-04T06:30:56.250Z"
   },
   {
    "duration": 12,
    "start_time": "2023-07-04T06:30:56.284Z"
   },
   {
    "duration": 31,
    "start_time": "2023-07-04T06:30:56.298Z"
   },
   {
    "duration": 43,
    "start_time": "2023-07-04T06:30:56.331Z"
   },
   {
    "duration": 6,
    "start_time": "2023-07-04T06:30:56.375Z"
   },
   {
    "duration": 25,
    "start_time": "2023-07-04T06:30:56.383Z"
   },
   {
    "duration": 10,
    "start_time": "2023-07-04T06:30:56.410Z"
   },
   {
    "duration": 13,
    "start_time": "2023-07-04T06:30:56.422Z"
   },
   {
    "duration": 13,
    "start_time": "2023-07-04T06:30:56.437Z"
   },
   {
    "duration": 59,
    "start_time": "2023-07-04T06:30:56.452Z"
   },
   {
    "duration": 17,
    "start_time": "2023-07-04T06:30:56.519Z"
   },
   {
    "duration": 24,
    "start_time": "2023-07-04T06:30:56.538Z"
   },
   {
    "duration": 24,
    "start_time": "2023-07-04T06:30:56.570Z"
   },
   {
    "duration": 26,
    "start_time": "2023-07-04T06:30:56.596Z"
   },
   {
    "duration": 65,
    "start_time": "2023-07-04T06:30:56.624Z"
   },
   {
    "duration": 27,
    "start_time": "2023-07-04T06:30:56.691Z"
   },
   {
    "duration": 73,
    "start_time": "2023-07-04T06:30:56.721Z"
   },
   {
    "duration": 6,
    "start_time": "2023-07-04T06:30:56.801Z"
   },
   {
    "duration": 30,
    "start_time": "2023-07-04T06:30:56.809Z"
   },
   {
    "duration": 56,
    "start_time": "2023-07-04T06:30:56.842Z"
   },
   {
    "duration": 38375,
    "start_time": "2023-07-04T06:30:56.900Z"
   },
   {
    "duration": 7,
    "start_time": "2023-07-04T06:31:35.277Z"
   },
   {
    "duration": 39,
    "start_time": "2023-07-04T06:31:35.286Z"
   },
   {
    "duration": 68,
    "start_time": "2023-07-04T06:31:35.328Z"
   },
   {
    "duration": 26,
    "start_time": "2023-07-04T06:31:35.400Z"
   },
   {
    "duration": 27,
    "start_time": "2023-07-04T06:31:35.428Z"
   },
   {
    "duration": 211,
    "start_time": "2023-07-04T06:31:35.462Z"
   },
   {
    "duration": 5,
    "start_time": "2023-07-04T06:31:35.676Z"
   },
   {
    "duration": 6,
    "start_time": "2023-07-04T06:31:35.683Z"
   },
   {
    "duration": 8,
    "start_time": "2023-07-04T06:31:35.690Z"
   },
   {
    "duration": 99580,
    "start_time": "2023-07-04T06:31:35.700Z"
   },
   {
    "duration": 14,
    "start_time": "2023-07-04T06:33:15.282Z"
   },
   {
    "duration": 81,
    "start_time": "2023-07-04T06:33:15.300Z"
   },
   {
    "duration": 59,
    "start_time": "2023-07-04T06:33:15.384Z"
   },
   {
    "duration": 50,
    "start_time": "2023-07-04T06:33:15.445Z"
   },
   {
    "duration": 17,
    "start_time": "2023-07-04T06:33:15.498Z"
   },
   {
    "duration": 67,
    "start_time": "2023-07-04T06:33:15.517Z"
   },
   {
    "duration": 222,
    "start_time": "2023-07-04T06:33:15.587Z"
   },
   {
    "duration": 19,
    "start_time": "2023-07-04T06:33:15.811Z"
   },
   {
    "duration": 1895,
    "start_time": "2023-07-04T06:33:15.832Z"
   },
   {
    "duration": 7,
    "start_time": "2023-07-04T06:33:17.729Z"
   },
   {
    "duration": 33,
    "start_time": "2023-07-04T06:33:17.739Z"
   },
   {
    "duration": 505079,
    "start_time": "2023-07-04T06:33:17.775Z"
   },
   {
    "duration": 11,
    "start_time": "2023-07-04T06:41:42.859Z"
   },
   {
    "duration": 304,
    "start_time": "2023-07-04T06:41:42.872Z"
   },
   {
    "duration": 16,
    "start_time": "2023-07-04T06:41:43.179Z"
   },
   {
    "duration": 1270,
    "start_time": "2023-07-04T06:41:43.198Z"
   },
   {
    "duration": 5,
    "start_time": "2023-07-04T06:41:44.470Z"
   },
   {
    "duration": 42,
    "start_time": "2023-07-04T06:41:44.477Z"
   },
   {
    "duration": 245240,
    "start_time": "2023-07-04T06:41:44.522Z"
   },
   {
    "duration": 9,
    "start_time": "2023-07-04T06:45:49.764Z"
   },
   {
    "duration": 89,
    "start_time": "2023-07-04T06:45:49.775Z"
   },
   {
    "duration": 1584,
    "start_time": "2023-07-04T06:45:49.866Z"
   },
   {
    "duration": 8,
    "start_time": "2023-07-04T06:45:51.454Z"
   },
   {
    "duration": 40,
    "start_time": "2023-07-04T06:45:51.468Z"
   },
   {
    "duration": 388117,
    "start_time": "2023-07-04T06:45:51.511Z"
   },
   {
    "duration": 8,
    "start_time": "2023-07-04T06:52:19.631Z"
   },
   {
    "duration": 199,
    "start_time": "2023-07-04T06:52:19.641Z"
   },
   {
    "duration": 4,
    "start_time": "2023-07-04T06:52:19.844Z"
   },
   {
    "duration": 206,
    "start_time": "2023-07-04T06:52:19.850Z"
   },
   {
    "duration": 91,
    "start_time": "2023-07-04T07:18:51.791Z"
   },
   {
    "duration": 9,
    "start_time": "2023-07-04T07:19:15.320Z"
   },
   {
    "duration": 4,
    "start_time": "2023-07-04T07:19:41.929Z"
   },
   {
    "duration": 18,
    "start_time": "2023-07-04T07:21:23.078Z"
   },
   {
    "duration": 4,
    "start_time": "2023-07-04T07:21:46.894Z"
   },
   {
    "duration": 9,
    "start_time": "2023-07-04T07:24:38.055Z"
   },
   {
    "duration": 4,
    "start_time": "2023-07-04T07:24:40.390Z"
   },
   {
    "duration": 31,
    "start_time": "2023-07-04T07:25:05.551Z"
   },
   {
    "duration": 9,
    "start_time": "2023-07-04T07:25:36.293Z"
   },
   {
    "duration": 5,
    "start_time": "2023-07-04T07:25:38.369Z"
   },
   {
    "duration": 138,
    "start_time": "2023-07-04T07:25:41.752Z"
   },
   {
    "duration": 14,
    "start_time": "2023-07-04T07:26:50.317Z"
   },
   {
    "duration": 4,
    "start_time": "2023-07-04T07:26:52.974Z"
   },
   {
    "duration": 113,
    "start_time": "2023-07-04T07:26:59.216Z"
   },
   {
    "duration": 1457,
    "start_time": "2023-07-04T08:39:58.968Z"
   },
   {
    "duration": 5,
    "start_time": "2023-07-04T08:40:21.026Z"
   },
   {
    "duration": 14,
    "start_time": "2023-07-04T08:42:52.065Z"
   },
   {
    "duration": 15,
    "start_time": "2023-07-04T08:43:06.220Z"
   },
   {
    "duration": 17,
    "start_time": "2023-07-04T08:44:26.220Z"
   },
   {
    "duration": 1479,
    "start_time": "2023-07-04T08:44:30.571Z"
   },
   {
    "duration": 5,
    "start_time": "2023-07-04T08:44:34.629Z"
   },
   {
    "duration": 3417,
    "start_time": "2023-07-04T08:44:59.174Z"
   },
   {
    "duration": 5,
    "start_time": "2023-07-04T08:45:04.728Z"
   },
   {
    "duration": 18,
    "start_time": "2023-07-04T08:46:31.984Z"
   },
   {
    "duration": 20,
    "start_time": "2023-07-04T08:46:43.364Z"
   },
   {
    "duration": 18,
    "start_time": "2023-07-04T08:46:53.225Z"
   },
   {
    "duration": 349,
    "start_time": "2023-07-04T08:47:03.624Z"
   },
   {
    "duration": 8,
    "start_time": "2023-07-04T08:47:06.968Z"
   },
   {
    "duration": 21,
    "start_time": "2023-07-04T08:47:32.761Z"
   },
   {
    "duration": 15,
    "start_time": "2023-07-04T08:47:53.025Z"
   },
   {
    "duration": 396,
    "start_time": "2023-07-04T08:47:55.920Z"
   },
   {
    "duration": 6,
    "start_time": "2023-07-04T08:47:59.005Z"
   },
   {
    "duration": 20,
    "start_time": "2023-07-04T08:49:22.928Z"
   },
   {
    "duration": 22,
    "start_time": "2023-07-04T08:52:12.742Z"
   },
   {
    "duration": 223,
    "start_time": "2023-07-04T08:52:42.628Z"
   },
   {
    "duration": 26,
    "start_time": "2023-07-04T08:53:03.622Z"
   },
   {
    "duration": 213,
    "start_time": "2023-07-04T08:53:05.693Z"
   },
   {
    "duration": 493086,
    "start_time": "2023-07-04T08:55:59.643Z"
   },
   {
    "duration": 6,
    "start_time": "2023-07-04T09:04:12.732Z"
   },
   {
    "duration": 19,
    "start_time": "2023-07-04T09:07:30.071Z"
   },
   {
    "duration": 170,
    "start_time": "2023-07-04T09:07:32.183Z"
   },
   {
    "duration": 253,
    "start_time": "2023-07-04T09:09:29.550Z"
   },
   {
    "duration": 181,
    "start_time": "2023-07-04T09:09:35.832Z"
   },
   {
    "duration": 1112,
    "start_time": "2023-07-04T09:17:18.732Z"
   },
   {
    "duration": 6,
    "start_time": "2023-07-04T09:17:24.069Z"
   },
   {
    "duration": 137,
    "start_time": "2023-07-04T09:18:02.441Z"
   },
   {
    "duration": 13,
    "start_time": "2023-07-04T09:18:43.970Z"
   },
   {
    "duration": 131,
    "start_time": "2023-07-04T09:19:05.792Z"
   },
   {
    "duration": 240963,
    "start_time": "2023-07-04T09:24:56.254Z"
   },
   {
    "duration": 6,
    "start_time": "2023-07-04T09:28:57.221Z"
   },
   {
    "duration": 62,
    "start_time": "2023-07-04T09:31:09.172Z"
   },
   {
    "duration": 149,
    "start_time": "2023-07-04T09:31:37.949Z"
   },
   {
    "duration": 1409,
    "start_time": "2023-07-04T09:37:15.957Z"
   },
   {
    "duration": 5,
    "start_time": "2023-07-04T09:37:20.108Z"
   },
   {
    "duration": 20,
    "start_time": "2023-07-04T09:38:11.030Z"
   },
   {
    "duration": 138,
    "start_time": "2023-07-04T09:39:23.535Z"
   },
   {
    "duration": 358973,
    "start_time": "2023-07-04T09:41:44.989Z"
   },
   {
    "duration": 9,
    "start_time": "2023-07-04T09:47:43.970Z"
   },
   {
    "duration": 114,
    "start_time": "2023-07-04T09:49:37.899Z"
   },
   {
    "duration": 176,
    "start_time": "2023-07-04T09:49:52.708Z"
   },
   {
    "duration": 17,
    "start_time": "2023-07-04T09:54:39.835Z"
   },
   {
    "duration": 4,
    "start_time": "2023-07-04T09:54:40.802Z"
   },
   {
    "duration": 15,
    "start_time": "2023-07-04T09:55:05.018Z"
   },
   {
    "duration": 3,
    "start_time": "2023-07-04T09:55:08.019Z"
   },
   {
    "duration": 144,
    "start_time": "2023-07-04T09:55:09.687Z"
   },
   {
    "duration": 1715,
    "start_time": "2023-07-04T10:23:42.231Z"
   },
   {
    "duration": 104,
    "start_time": "2023-07-04T10:23:43.948Z"
   },
   {
    "duration": 26,
    "start_time": "2023-07-04T10:23:44.058Z"
   },
   {
    "duration": 41,
    "start_time": "2023-07-04T10:23:44.086Z"
   },
   {
    "duration": 37,
    "start_time": "2023-07-04T10:23:44.130Z"
   },
   {
    "duration": 54,
    "start_time": "2023-07-04T10:23:44.169Z"
   },
   {
    "duration": 89,
    "start_time": "2023-07-04T10:23:44.225Z"
   },
   {
    "duration": 38,
    "start_time": "2023-07-04T10:23:44.316Z"
   },
   {
    "duration": 56,
    "start_time": "2023-07-04T10:23:44.356Z"
   },
   {
    "duration": 43,
    "start_time": "2023-07-04T10:23:44.415Z"
   },
   {
    "duration": 38,
    "start_time": "2023-07-04T10:23:44.459Z"
   },
   {
    "duration": 38,
    "start_time": "2023-07-04T10:23:44.499Z"
   },
   {
    "duration": 72,
    "start_time": "2023-07-04T10:23:44.538Z"
   },
   {
    "duration": 51,
    "start_time": "2023-07-04T10:23:44.613Z"
   },
   {
    "duration": 11,
    "start_time": "2023-07-04T10:23:44.666Z"
   },
   {
    "duration": 47,
    "start_time": "2023-07-04T10:23:44.679Z"
   },
   {
    "duration": 24,
    "start_time": "2023-07-04T10:23:44.728Z"
   },
   {
    "duration": 65,
    "start_time": "2023-07-04T10:23:44.754Z"
   },
   {
    "duration": 62,
    "start_time": "2023-07-04T10:23:44.821Z"
   },
   {
    "duration": 34,
    "start_time": "2023-07-04T10:23:44.885Z"
   },
   {
    "duration": 11,
    "start_time": "2023-07-04T10:23:44.921Z"
   },
   {
    "duration": 18,
    "start_time": "2023-07-04T10:23:44.933Z"
   },
   {
    "duration": 46,
    "start_time": "2023-07-04T10:23:44.956Z"
   },
   {
    "duration": 41,
    "start_time": "2023-07-04T10:23:45.004Z"
   },
   {
    "duration": 50,
    "start_time": "2023-07-04T10:23:45.047Z"
   },
   {
    "duration": 20,
    "start_time": "2023-07-04T10:23:45.099Z"
   },
   {
    "duration": 58,
    "start_time": "2023-07-04T10:23:45.121Z"
   },
   {
    "duration": 15,
    "start_time": "2023-07-04T10:23:45.186Z"
   },
   {
    "duration": 41,
    "start_time": "2023-07-04T10:23:45.202Z"
   },
   {
    "duration": 64,
    "start_time": "2023-07-04T10:23:45.246Z"
   },
   {
    "duration": 36205,
    "start_time": "2023-07-04T10:23:45.312Z"
   },
   {
    "duration": 6,
    "start_time": "2023-07-04T10:24:21.519Z"
   },
   {
    "duration": 10,
    "start_time": "2023-07-04T10:24:21.527Z"
   },
   {
    "duration": 20,
    "start_time": "2023-07-04T10:24:21.539Z"
   },
   {
    "duration": 52,
    "start_time": "2023-07-04T10:24:21.560Z"
   },
   {
    "duration": 28,
    "start_time": "2023-07-04T10:24:21.614Z"
   },
   {
    "duration": 182,
    "start_time": "2023-07-04T10:24:21.644Z"
   },
   {
    "duration": 4,
    "start_time": "2023-07-04T10:24:21.828Z"
   },
   {
    "duration": 32,
    "start_time": "2023-07-04T10:24:21.834Z"
   },
   {
    "duration": 31,
    "start_time": "2023-07-04T10:24:21.876Z"
   },
   {
    "duration": 88519,
    "start_time": "2023-07-04T10:24:21.909Z"
   },
   {
    "duration": 8,
    "start_time": "2023-07-04T10:25:50.430Z"
   },
   {
    "duration": 26,
    "start_time": "2023-07-04T10:25:50.440Z"
   },
   {
    "duration": 29,
    "start_time": "2023-07-04T10:25:50.469Z"
   },
   {
    "duration": 17,
    "start_time": "2023-07-04T10:25:50.499Z"
   },
   {
    "duration": 18,
    "start_time": "2023-07-04T10:25:50.518Z"
   },
   {
    "duration": 152,
    "start_time": "2023-07-04T10:25:50.538Z"
   },
   {
    "duration": 4,
    "start_time": "2023-07-04T10:25:50.691Z"
   },
   {
    "duration": 145,
    "start_time": "2023-07-04T10:25:50.697Z"
   },
   {
    "duration": 33,
    "start_time": "2023-07-04T10:25:50.844Z"
   },
   {
    "duration": 172,
    "start_time": "2023-07-04T10:25:50.879Z"
   },
   {
    "duration": 0,
    "start_time": "2023-07-04T10:25:51.055Z"
   },
   {
    "duration": 0,
    "start_time": "2023-07-04T10:25:51.056Z"
   },
   {
    "duration": 0,
    "start_time": "2023-07-04T10:25:51.059Z"
   },
   {
    "duration": 0,
    "start_time": "2023-07-04T10:25:51.061Z"
   },
   {
    "duration": 0,
    "start_time": "2023-07-04T10:25:51.062Z"
   },
   {
    "duration": 0,
    "start_time": "2023-07-04T10:25:51.064Z"
   },
   {
    "duration": 0,
    "start_time": "2023-07-04T10:25:51.066Z"
   },
   {
    "duration": 0,
    "start_time": "2023-07-04T10:25:51.068Z"
   },
   {
    "duration": 0,
    "start_time": "2023-07-04T10:25:51.069Z"
   },
   {
    "duration": 0,
    "start_time": "2023-07-04T10:25:51.071Z"
   },
   {
    "duration": 0,
    "start_time": "2023-07-04T10:25:51.073Z"
   },
   {
    "duration": 0,
    "start_time": "2023-07-04T10:25:51.074Z"
   },
   {
    "duration": 0,
    "start_time": "2023-07-04T10:25:51.076Z"
   },
   {
    "duration": 0,
    "start_time": "2023-07-04T10:25:51.077Z"
   },
   {
    "duration": 0,
    "start_time": "2023-07-04T10:25:51.079Z"
   },
   {
    "duration": 0,
    "start_time": "2023-07-04T10:25:51.080Z"
   },
   {
    "duration": 0,
    "start_time": "2023-07-04T10:25:51.082Z"
   },
   {
    "duration": 0,
    "start_time": "2023-07-04T10:25:51.085Z"
   },
   {
    "duration": 0,
    "start_time": "2023-07-04T10:25:51.088Z"
   },
   {
    "duration": 0,
    "start_time": "2023-07-04T10:25:51.089Z"
   },
   {
    "duration": 0,
    "start_time": "2023-07-04T10:25:51.091Z"
   },
   {
    "duration": 0,
    "start_time": "2023-07-04T10:25:51.092Z"
   },
   {
    "duration": 0,
    "start_time": "2023-07-04T10:25:51.098Z"
   },
   {
    "duration": 0,
    "start_time": "2023-07-04T10:25:51.099Z"
   },
   {
    "duration": 0,
    "start_time": "2023-07-04T10:25:51.100Z"
   },
   {
    "duration": 0,
    "start_time": "2023-07-04T10:25:51.102Z"
   },
   {
    "duration": 0,
    "start_time": "2023-07-04T10:25:51.104Z"
   },
   {
    "duration": 0,
    "start_time": "2023-07-04T10:25:51.105Z"
   },
   {
    "duration": 0,
    "start_time": "2023-07-04T10:25:51.106Z"
   },
   {
    "duration": 400,
    "start_time": "2023-07-04T10:27:31.434Z"
   },
   {
    "duration": 4,
    "start_time": "2023-07-04T10:27:38.312Z"
   },
   {
    "duration": 25,
    "start_time": "2023-07-04T10:28:02.468Z"
   },
   {
    "duration": 139,
    "start_time": "2023-07-04T10:28:05.323Z"
   },
   {
    "duration": 11323,
    "start_time": "2023-07-04T10:35:28.490Z"
   },
   {
    "duration": 117,
    "start_time": "2023-07-04T10:35:39.815Z"
   },
   {
    "duration": 35,
    "start_time": "2023-07-04T10:35:39.933Z"
   },
   {
    "duration": 18,
    "start_time": "2023-07-04T10:35:39.971Z"
   },
   {
    "duration": 47,
    "start_time": "2023-07-04T10:35:39.992Z"
   },
   {
    "duration": 63,
    "start_time": "2023-07-04T10:35:40.041Z"
   },
   {
    "duration": 11,
    "start_time": "2023-07-04T10:35:40.106Z"
   },
   {
    "duration": 41,
    "start_time": "2023-07-04T10:35:40.119Z"
   },
   {
    "duration": 21,
    "start_time": "2023-07-04T10:35:40.162Z"
   },
   {
    "duration": 67,
    "start_time": "2023-07-04T10:35:40.190Z"
   },
   {
    "duration": 66,
    "start_time": "2023-07-04T10:35:40.260Z"
   },
   {
    "duration": 78,
    "start_time": "2023-07-04T10:35:40.328Z"
   },
   {
    "duration": 40,
    "start_time": "2023-07-04T10:35:40.408Z"
   },
   {
    "duration": 104,
    "start_time": "2023-07-04T10:35:40.451Z"
   },
   {
    "duration": 15,
    "start_time": "2023-07-04T10:35:40.562Z"
   },
   {
    "duration": 43,
    "start_time": "2023-07-04T10:35:40.579Z"
   },
   {
    "duration": 11,
    "start_time": "2023-07-04T10:35:40.625Z"
   },
   {
    "duration": 12,
    "start_time": "2023-07-04T10:35:40.638Z"
   },
   {
    "duration": 60,
    "start_time": "2023-07-04T10:35:40.652Z"
   },
   {
    "duration": 37,
    "start_time": "2023-07-04T10:35:40.714Z"
   },
   {
    "duration": 25,
    "start_time": "2023-07-04T10:35:40.753Z"
   },
   {
    "duration": 30,
    "start_time": "2023-07-04T10:35:40.780Z"
   },
   {
    "duration": 16,
    "start_time": "2023-07-04T10:35:40.812Z"
   },
   {
    "duration": 17,
    "start_time": "2023-07-04T10:35:40.830Z"
   },
   {
    "duration": 31,
    "start_time": "2023-07-04T10:35:40.850Z"
   },
   {
    "duration": 29,
    "start_time": "2023-07-04T10:35:40.883Z"
   },
   {
    "duration": 57,
    "start_time": "2023-07-04T10:35:40.914Z"
   },
   {
    "duration": 10,
    "start_time": "2023-07-04T10:35:40.979Z"
   },
   {
    "duration": 22,
    "start_time": "2023-07-04T10:35:41.000Z"
   },
   {
    "duration": 62,
    "start_time": "2023-07-04T10:35:41.024Z"
   },
   {
    "duration": 38986,
    "start_time": "2023-07-04T10:35:41.088Z"
   },
   {
    "duration": 10,
    "start_time": "2023-07-04T10:36:20.079Z"
   },
   {
    "duration": 34,
    "start_time": "2023-07-04T10:36:20.093Z"
   },
   {
    "duration": 80,
    "start_time": "2023-07-04T10:36:20.130Z"
   },
   {
    "duration": 34,
    "start_time": "2023-07-04T10:36:20.213Z"
   },
   {
    "duration": 73,
    "start_time": "2023-07-04T10:36:20.249Z"
   },
   {
    "duration": 214,
    "start_time": "2023-07-04T10:36:20.324Z"
   },
   {
    "duration": 5,
    "start_time": "2023-07-04T10:36:20.541Z"
   },
   {
    "duration": 78,
    "start_time": "2023-07-04T10:36:20.547Z"
   },
   {
    "duration": 81,
    "start_time": "2023-07-04T10:36:20.627Z"
   },
   {
    "duration": 96599,
    "start_time": "2023-07-04T10:36:20.710Z"
   },
   {
    "duration": 10,
    "start_time": "2023-07-04T10:37:57.311Z"
   },
   {
    "duration": 8,
    "start_time": "2023-07-04T10:37:57.324Z"
   },
   {
    "duration": 27,
    "start_time": "2023-07-04T10:37:57.335Z"
   },
   {
    "duration": 25,
    "start_time": "2023-07-04T10:37:57.364Z"
   },
   {
    "duration": 20,
    "start_time": "2023-07-04T10:37:57.391Z"
   },
   {
    "duration": 157,
    "start_time": "2023-07-04T10:37:57.413Z"
   },
   {
    "duration": 4,
    "start_time": "2023-07-04T10:37:57.571Z"
   },
   {
    "duration": 200,
    "start_time": "2023-07-04T10:37:57.577Z"
   },
   {
    "duration": 27,
    "start_time": "2023-07-04T10:37:57.779Z"
   },
   {
    "duration": 397,
    "start_time": "2023-07-04T10:37:57.808Z"
   },
   {
    "duration": 5,
    "start_time": "2023-07-04T10:37:58.206Z"
   },
   {
    "duration": 32,
    "start_time": "2023-07-04T10:37:58.213Z"
   },
   {
    "duration": 144,
    "start_time": "2023-07-04T10:37:58.259Z"
   },
   {
    "duration": 535009,
    "start_time": "2023-07-04T10:37:58.405Z"
   },
   {
    "duration": 7,
    "start_time": "2023-07-04T10:46:53.418Z"
   },
   {
    "duration": 277,
    "start_time": "2023-07-04T10:46:53.429Z"
   },
   {
    "duration": 180,
    "start_time": "2023-07-04T10:46:53.708Z"
   },
   {
    "duration": 29,
    "start_time": "2023-07-04T10:46:53.890Z"
   },
   {
    "duration": 1300,
    "start_time": "2023-07-04T10:46:53.922Z"
   },
   {
    "duration": 5,
    "start_time": "2023-07-04T10:46:55.224Z"
   },
   {
    "duration": 90,
    "start_time": "2023-07-04T10:46:55.231Z"
   },
   {
    "duration": 186,
    "start_time": "2023-07-04T10:46:55.323Z"
   },
   {
    "duration": 288911,
    "start_time": "2023-07-04T10:46:55.511Z"
   },
   {
    "duration": 11,
    "start_time": "2023-07-04T10:51:44.425Z"
   },
   {
    "duration": 85,
    "start_time": "2023-07-04T10:51:44.439Z"
   },
   {
    "duration": 173,
    "start_time": "2023-07-04T10:51:44.526Z"
   },
   {
    "duration": 1653,
    "start_time": "2023-07-04T10:51:44.710Z"
   },
   {
    "duration": 8,
    "start_time": "2023-07-04T10:51:46.365Z"
   },
   {
    "duration": 51,
    "start_time": "2023-07-04T10:51:46.376Z"
   },
   {
    "duration": 267,
    "start_time": "2023-07-04T10:51:46.429Z"
   },
   {
    "duration": 432645,
    "start_time": "2023-07-04T10:51:46.698Z"
   },
   {
    "duration": 10,
    "start_time": "2023-07-04T10:58:59.345Z"
   },
   {
    "duration": 204,
    "start_time": "2023-07-04T10:58:59.359Z"
   },
   {
    "duration": 189,
    "start_time": "2023-07-04T10:58:59.565Z"
   },
   {
    "duration": 19,
    "start_time": "2023-07-04T10:58:59.763Z"
   },
   {
    "duration": 55,
    "start_time": "2023-07-04T10:58:59.784Z"
   },
   {
    "duration": 28,
    "start_time": "2023-07-04T10:58:59.842Z"
   },
   {
    "duration": 52,
    "start_time": "2023-07-04T10:58:59.873Z"
   },
   {
    "duration": 221,
    "start_time": "2023-07-04T10:58:59.928Z"
   },
   {
    "duration": 75,
    "start_time": "2023-07-04T14:30:34.931Z"
   },
   {
    "duration": 1897,
    "start_time": "2023-07-04T14:30:59.847Z"
   },
   {
    "duration": 232,
    "start_time": "2023-07-04T14:31:01.747Z"
   },
   {
    "duration": 31,
    "start_time": "2023-07-04T14:31:01.985Z"
   },
   {
    "duration": 14,
    "start_time": "2023-07-04T14:31:02.018Z"
   },
   {
    "duration": 7,
    "start_time": "2023-07-04T14:31:02.034Z"
   },
   {
    "duration": 44,
    "start_time": "2023-07-04T14:31:02.043Z"
   },
   {
    "duration": 19,
    "start_time": "2023-07-04T14:31:02.089Z"
   },
   {
    "duration": 51,
    "start_time": "2023-07-04T14:31:02.111Z"
   },
   {
    "duration": 35,
    "start_time": "2023-07-04T14:31:02.167Z"
   },
   {
    "duration": 35,
    "start_time": "2023-07-04T14:31:02.205Z"
   },
   {
    "duration": 20,
    "start_time": "2023-07-04T14:31:02.243Z"
   },
   {
    "duration": 19,
    "start_time": "2023-07-04T14:31:02.265Z"
   },
   {
    "duration": 34,
    "start_time": "2023-07-04T14:31:02.286Z"
   },
   {
    "duration": 92,
    "start_time": "2023-07-04T14:31:02.323Z"
   },
   {
    "duration": 5,
    "start_time": "2023-07-04T14:31:02.417Z"
   },
   {
    "duration": 80,
    "start_time": "2023-07-04T14:31:02.424Z"
   },
   {
    "duration": 29,
    "start_time": "2023-07-04T14:31:02.506Z"
   },
   {
    "duration": 34,
    "start_time": "2023-07-04T14:31:02.537Z"
   },
   {
    "duration": 22,
    "start_time": "2023-07-04T14:31:02.573Z"
   },
   {
    "duration": 40,
    "start_time": "2023-07-04T14:31:02.596Z"
   },
   {
    "duration": 13,
    "start_time": "2023-07-04T14:31:02.638Z"
   },
   {
    "duration": 58,
    "start_time": "2023-07-04T14:31:02.654Z"
   },
   {
    "duration": 48,
    "start_time": "2023-07-04T14:31:02.714Z"
   },
   {
    "duration": 12,
    "start_time": "2023-07-04T14:31:02.763Z"
   },
   {
    "duration": 40,
    "start_time": "2023-07-04T14:31:02.777Z"
   },
   {
    "duration": 22,
    "start_time": "2023-07-04T14:31:02.819Z"
   },
   {
    "duration": 70,
    "start_time": "2023-07-04T14:31:02.843Z"
   },
   {
    "duration": 4,
    "start_time": "2023-07-04T14:31:02.918Z"
   },
   {
    "duration": 17,
    "start_time": "2023-07-04T14:31:02.924Z"
   },
   {
    "duration": 32,
    "start_time": "2023-07-04T14:31:02.944Z"
   },
   {
    "duration": 38119,
    "start_time": "2023-07-04T14:31:02.982Z"
   },
   {
    "duration": 6,
    "start_time": "2023-07-04T14:31:41.103Z"
   },
   {
    "duration": 24,
    "start_time": "2023-07-04T14:31:41.111Z"
   },
   {
    "duration": 12,
    "start_time": "2023-07-04T14:31:41.136Z"
   },
   {
    "duration": 25,
    "start_time": "2023-07-04T14:31:41.150Z"
   },
   {
    "duration": 25,
    "start_time": "2023-07-04T14:31:41.177Z"
   },
   {
    "duration": 159,
    "start_time": "2023-07-04T14:31:41.204Z"
   },
   {
    "duration": 8,
    "start_time": "2023-07-04T14:31:41.370Z"
   },
   {
    "duration": 17,
    "start_time": "2023-07-04T14:31:41.379Z"
   },
   {
    "duration": 9,
    "start_time": "2023-07-04T14:31:41.398Z"
   },
   {
    "duration": 94064,
    "start_time": "2023-07-04T14:31:41.408Z"
   },
   {
    "duration": 15,
    "start_time": "2023-07-04T14:33:15.478Z"
   },
   {
    "duration": 3,
    "start_time": "2023-07-04T14:33:15.501Z"
   },
   {
    "duration": 5,
    "start_time": "2023-07-04T14:33:15.506Z"
   },
   {
    "duration": 3,
    "start_time": "2023-07-04T14:33:15.513Z"
   },
   {
    "duration": 15,
    "start_time": "2023-07-04T14:33:15.518Z"
   },
   {
    "duration": 185,
    "start_time": "2023-07-04T14:33:15.534Z"
   },
   {
    "duration": 4,
    "start_time": "2023-07-04T14:33:15.721Z"
   },
   {
    "duration": 186,
    "start_time": "2023-07-04T14:33:15.727Z"
   },
   {
    "duration": 13,
    "start_time": "2023-07-04T14:33:15.915Z"
   },
   {
    "duration": 394,
    "start_time": "2023-07-04T14:33:15.929Z"
   },
   {
    "duration": 5,
    "start_time": "2023-07-04T14:33:16.325Z"
   },
   {
    "duration": 28,
    "start_time": "2023-07-04T14:33:16.331Z"
   },
   {
    "duration": 162,
    "start_time": "2023-07-04T14:33:16.361Z"
   },
   {
    "duration": 491659,
    "start_time": "2023-07-04T14:33:16.525Z"
   },
   {
    "duration": 5,
    "start_time": "2023-07-04T14:41:28.186Z"
   },
   {
    "duration": 180,
    "start_time": "2023-07-04T14:41:28.193Z"
   },
   {
    "duration": 137,
    "start_time": "2023-07-04T14:41:28.377Z"
   },
   {
    "duration": 11,
    "start_time": "2023-07-04T14:41:28.516Z"
   },
   {
    "duration": 1030,
    "start_time": "2023-07-04T14:41:28.529Z"
   },
   {
    "duration": 7,
    "start_time": "2023-07-04T14:41:29.566Z"
   },
   {
    "duration": 41,
    "start_time": "2023-07-04T14:41:29.578Z"
   },
   {
    "duration": 126,
    "start_time": "2023-07-04T14:41:29.621Z"
   },
   {
    "duration": 236549,
    "start_time": "2023-07-04T14:41:29.749Z"
   },
   {
    "duration": 4,
    "start_time": "2023-07-04T14:45:26.300Z"
   },
   {
    "duration": 84,
    "start_time": "2023-07-04T14:45:26.306Z"
   },
   {
    "duration": 172,
    "start_time": "2023-07-04T14:45:26.393Z"
   },
   {
    "duration": 1573,
    "start_time": "2023-07-04T14:45:26.567Z"
   },
   {
    "duration": 4,
    "start_time": "2023-07-04T14:45:28.142Z"
   },
   {
    "duration": 33,
    "start_time": "2023-07-04T14:45:28.155Z"
   },
   {
    "duration": 211,
    "start_time": "2023-07-04T14:45:28.190Z"
   },
   {
    "duration": 376352,
    "start_time": "2023-07-04T14:45:28.404Z"
   },
   {
    "duration": 12,
    "start_time": "2023-07-04T14:51:44.758Z"
   },
   {
    "duration": 122,
    "start_time": "2023-07-04T14:51:44.775Z"
   },
   {
    "duration": 139,
    "start_time": "2023-07-04T14:51:44.899Z"
   },
   {
    "duration": 25,
    "start_time": "2023-07-04T14:51:45.039Z"
   },
   {
    "duration": 34,
    "start_time": "2023-07-04T14:51:45.066Z"
   },
   {
    "duration": 11,
    "start_time": "2023-07-04T14:51:45.102Z"
   },
   {
    "duration": 24,
    "start_time": "2023-07-04T14:51:45.114Z"
   },
   {
    "duration": 20,
    "start_time": "2023-07-04T14:51:45.140Z"
   },
   {
    "duration": 144,
    "start_time": "2023-07-04T14:51:45.170Z"
   },
   {
    "duration": 13,
    "start_time": "2023-07-04T15:04:26.306Z"
   },
   {
    "duration": 12,
    "start_time": "2023-07-04T15:04:30.185Z"
   },
   {
    "duration": 1653,
    "start_time": "2023-07-05T07:43:11.970Z"
   },
   {
    "duration": 159,
    "start_time": "2023-07-05T07:43:16.883Z"
   },
   {
    "duration": 20,
    "start_time": "2023-07-05T07:43:19.076Z"
   },
   {
    "duration": 15,
    "start_time": "2023-07-05T07:43:22.026Z"
   },
   {
    "duration": 7,
    "start_time": "2023-07-05T07:43:24.800Z"
   },
   {
    "duration": 7,
    "start_time": "2023-07-05T07:43:26.810Z"
   },
   {
    "duration": 7,
    "start_time": "2023-07-05T07:43:29.314Z"
   },
   {
    "duration": 12,
    "start_time": "2023-07-05T07:43:31.523Z"
   },
   {
    "duration": 12,
    "start_time": "2023-07-05T07:43:34.084Z"
   },
   {
    "duration": 10,
    "start_time": "2023-07-05T07:43:37.253Z"
   },
   {
    "duration": 18,
    "start_time": "2023-07-05T07:44:23.804Z"
   },
   {
    "duration": 9,
    "start_time": "2023-07-05T07:44:48.664Z"
   },
   {
    "duration": 9,
    "start_time": "2023-07-05T07:45:17.272Z"
   },
   {
    "duration": 38,
    "start_time": "2023-07-05T07:45:24.638Z"
   },
   {
    "duration": 15,
    "start_time": "2023-07-05T07:45:26.284Z"
   },
   {
    "duration": 13,
    "start_time": "2023-07-05T07:45:28.908Z"
   },
   {
    "duration": 15,
    "start_time": "2023-07-05T07:45:33.500Z"
   },
   {
    "duration": 8,
    "start_time": "2023-07-05T07:45:35.468Z"
   },
   {
    "duration": 9,
    "start_time": "2023-07-05T07:45:39.277Z"
   },
   {
    "duration": 109,
    "start_time": "2023-07-05T07:53:27.562Z"
   },
   {
    "duration": 16,
    "start_time": "2023-07-05T07:53:40.663Z"
   },
   {
    "duration": 11,
    "start_time": "2023-07-05T07:53:50.230Z"
   },
   {
    "duration": 7,
    "start_time": "2023-07-05T07:53:52.867Z"
   },
   {
    "duration": 9,
    "start_time": "2023-07-05T07:53:55.096Z"
   },
   {
    "duration": 4,
    "start_time": "2023-07-05T07:53:57.463Z"
   },
   {
    "duration": 6,
    "start_time": "2023-07-05T07:54:00.895Z"
   },
   {
    "duration": 12,
    "start_time": "2023-07-05T07:54:02.975Z"
   },
   {
    "duration": 36,
    "start_time": "2023-07-05T07:54:06.238Z"
   },
   {
    "duration": 4,
    "start_time": "2023-07-05T07:59:53.415Z"
   },
   {
    "duration": 6,
    "start_time": "2023-07-05T07:59:55.718Z"
   },
   {
    "duration": 4,
    "start_time": "2023-07-05T07:59:59.117Z"
   },
   {
    "duration": 6,
    "start_time": "2023-07-05T08:00:01.399Z"
   },
   {
    "duration": 4,
    "start_time": "2023-07-05T08:00:03.286Z"
   },
   {
    "duration": 22,
    "start_time": "2023-07-05T08:00:33.903Z"
   },
   {
    "duration": 3,
    "start_time": "2023-07-05T08:00:36.205Z"
   },
   {
    "duration": 3,
    "start_time": "2023-07-05T08:01:05.432Z"
   },
   {
    "duration": 12,
    "start_time": "2023-07-05T08:17:04.619Z"
   },
   {
    "duration": 5,
    "start_time": "2023-07-05T08:17:44.211Z"
   },
   {
    "duration": 5,
    "start_time": "2023-07-05T08:18:11.264Z"
   },
   {
    "duration": 13,
    "start_time": "2023-07-05T08:27:37.104Z"
   },
   {
    "duration": 4,
    "start_time": "2023-07-05T08:27:39.256Z"
   },
   {
    "duration": 11,
    "start_time": "2023-07-05T08:27:40.976Z"
   },
   {
    "duration": 5,
    "start_time": "2023-07-05T08:27:43.514Z"
   },
   {
    "duration": 14,
    "start_time": "2023-07-05T08:27:45.857Z"
   },
   {
    "duration": 4,
    "start_time": "2023-07-05T08:27:48.063Z"
   },
   {
    "duration": 31,
    "start_time": "2023-07-05T08:27:52.050Z"
   },
   {
    "duration": 3,
    "start_time": "2023-07-05T08:27:54.968Z"
   },
   {
    "duration": 4,
    "start_time": "2023-07-05T08:27:57.630Z"
   },
   {
    "duration": 3,
    "start_time": "2023-07-05T08:27:59.956Z"
   },
   {
    "duration": 31247,
    "start_time": "2023-07-05T08:28:02.183Z"
   },
   {
    "duration": 6,
    "start_time": "2023-07-05T08:28:45.824Z"
   },
   {
    "duration": 4,
    "start_time": "2023-07-05T08:28:48.363Z"
   },
   {
    "duration": 16,
    "start_time": "2023-07-05T08:28:51.464Z"
   },
   {
    "duration": 4,
    "start_time": "2023-07-05T08:28:53.792Z"
   },
   {
    "duration": 8,
    "start_time": "2023-07-05T08:28:59.632Z"
   },
   {
    "duration": 134,
    "start_time": "2023-07-05T08:29:01.585Z"
   },
   {
    "duration": 4,
    "start_time": "2023-07-05T08:29:05.056Z"
   },
   {
    "duration": 4,
    "start_time": "2023-07-05T08:29:08.033Z"
   },
   {
    "duration": 3,
    "start_time": "2023-07-05T08:29:10.312Z"
   },
   {
    "duration": 77536,
    "start_time": "2023-07-05T08:29:12.865Z"
   },
   {
    "duration": 9,
    "start_time": "2023-07-05T08:30:36.682Z"
   },
   {
    "duration": 4,
    "start_time": "2023-07-05T08:30:39.930Z"
   },
   {
    "duration": 6,
    "start_time": "2023-07-05T08:30:42.559Z"
   },
   {
    "duration": 3,
    "start_time": "2023-07-05T08:30:44.787Z"
   },
   {
    "duration": 12,
    "start_time": "2023-07-05T08:30:47.257Z"
   },
   {
    "duration": 121,
    "start_time": "2023-07-05T08:30:48.961Z"
   },
   {
    "duration": 4,
    "start_time": "2023-07-05T08:30:52.637Z"
   },
   {
    "duration": 129,
    "start_time": "2023-07-05T08:33:45.563Z"
   },
   {
    "duration": 12,
    "start_time": "2023-07-05T08:33:49.727Z"
   },
   {
    "duration": 311,
    "start_time": "2023-07-05T08:33:56.758Z"
   },
   {
    "duration": 5,
    "start_time": "2023-07-05T08:34:00.838Z"
   },
   {
    "duration": 15,
    "start_time": "2023-07-05T08:34:18.903Z"
   },
   {
    "duration": 141,
    "start_time": "2023-07-05T08:34:25.259Z"
   },
   {
    "duration": 406942,
    "start_time": "2023-07-05T08:34:57.217Z"
   },
   {
    "duration": 5,
    "start_time": "2023-07-05T08:42:01.001Z"
   },
   {
    "duration": 160,
    "start_time": "2023-07-05T08:42:23.417Z"
   },
   {
    "duration": 11,
    "start_time": "2023-07-05T08:43:11.218Z"
   },
   {
    "duration": 894,
    "start_time": "2023-07-05T08:43:20.029Z"
   },
   {
    "duration": 4,
    "start_time": "2023-07-05T08:43:24.410Z"
   },
   {
    "duration": 14,
    "start_time": "2023-07-05T08:43:38.514Z"
   },
   {
    "duration": 131,
    "start_time": "2023-07-05T08:43:42.590Z"
   },
   {
    "duration": 203581,
    "start_time": "2023-07-05T08:44:25.563Z"
   },
   {
    "duration": 4,
    "start_time": "2023-07-05T08:50:38.131Z"
   },
   {
    "duration": 58,
    "start_time": "2023-07-05T08:50:55.869Z"
   },
   {
    "duration": 126,
    "start_time": "2023-07-05T08:50:59.279Z"
   },
   {
    "duration": 1317,
    "start_time": "2023-07-05T08:51:40.075Z"
   },
   {
    "duration": 5,
    "start_time": "2023-07-05T08:51:44.795Z"
   },
   {
    "duration": 15,
    "start_time": "2023-07-05T08:51:48.694Z"
   },
   {
    "duration": 120,
    "start_time": "2023-07-05T08:51:50.802Z"
   },
   {
    "duration": 321343,
    "start_time": "2023-07-05T08:52:09.430Z"
   },
   {
    "duration": 5,
    "start_time": "2023-07-05T08:57:37.962Z"
   },
   {
    "duration": 103,
    "start_time": "2023-07-05T08:57:47.237Z"
   },
   {
    "duration": 122,
    "start_time": "2023-07-05T08:58:01.587Z"
   },
   {
    "duration": 15,
    "start_time": "2023-07-05T09:02:11.575Z"
   },
   {
    "duration": 13,
    "start_time": "2023-07-05T09:02:13.700Z"
   },
   {
    "duration": 4,
    "start_time": "2023-07-05T09:02:17.783Z"
   },
   {
    "duration": 15,
    "start_time": "2023-07-05T09:03:06.036Z"
   },
   {
    "duration": 14,
    "start_time": "2023-07-05T09:03:08.663Z"
   },
   {
    "duration": 4,
    "start_time": "2023-07-05T09:03:10.931Z"
   },
   {
    "duration": 13,
    "start_time": "2023-07-05T09:03:25.942Z"
   },
   {
    "duration": 14,
    "start_time": "2023-07-05T09:03:27.790Z"
   },
   {
    "duration": 4,
    "start_time": "2023-07-05T09:03:29.919Z"
   },
   {
    "duration": 18,
    "start_time": "2023-07-05T09:03:36.621Z"
   },
   {
    "duration": 15,
    "start_time": "2023-07-05T09:03:38.582Z"
   },
   {
    "duration": 4,
    "start_time": "2023-07-05T09:03:40.927Z"
   },
   {
    "duration": 14,
    "start_time": "2023-07-05T09:03:54.524Z"
   },
   {
    "duration": 16,
    "start_time": "2023-07-05T09:04:01.132Z"
   },
   {
    "duration": 5,
    "start_time": "2023-07-05T09:04:04.267Z"
   },
   {
    "duration": 126,
    "start_time": "2023-07-05T09:04:06.392Z"
   }
  ],
  "kernelspec": {
   "display_name": "Python 3 (ipykernel)",
   "language": "python",
   "name": "python3"
  },
  "language_info": {
   "codemirror_mode": {
    "name": "ipython",
    "version": 3
   },
   "file_extension": ".py",
   "mimetype": "text/x-python",
   "name": "python",
   "nbconvert_exporter": "python",
   "pygments_lexer": "ipython3",
   "version": "3.11.5"
  },
  "toc": {
   "base_numbering": 1,
   "nav_menu": {},
   "number_sections": true,
   "sideBar": true,
   "skip_h1_title": true,
   "title_cell": "Содержание",
   "title_sidebar": "Contents",
   "toc_cell": true,
   "toc_position": {},
   "toc_section_display": true,
   "toc_window_display": true
  }
 },
 "nbformat": 4,
 "nbformat_minor": 2
}
