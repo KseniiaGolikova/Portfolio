{
 "cells": [
  {
   "cell_type": "markdown",
   "metadata": {
    "toc": true
   },
   "source": [
    "<h1>Содержание<span class=\"tocSkip\"></span></h1>\n",
    "<div class=\"toc\"><ul class=\"toc-item\"><li><span><a href=\"#Загрузка-данных\" data-toc-modified-id=\"Загрузка-данных-1\"><span class=\"toc-item-num\">1&nbsp;&nbsp;</span>Загрузка данных</a></span><ul class=\"toc-item\"><li><span><a href=\"#Выгрузка-библиотек-и-датафрейма\" data-toc-modified-id=\"Выгрузка-библиотек-и-датафрейма-1.1\"><span class=\"toc-item-num\">1.1&nbsp;&nbsp;</span>Выгрузка библиотек и датафрейма</a></span></li><li><span><a href=\"#Изучение-данных\" data-toc-modified-id=\"Изучение-данных-1.2\"><span class=\"toc-item-num\">1.2&nbsp;&nbsp;</span>Изучение данных</a></span></li><li><span><a href=\"#Вывод-по-разделу-1\" data-toc-modified-id=\"Вывод-по-разделу-1-1.3\"><span class=\"toc-item-num\">1.3&nbsp;&nbsp;</span>Вывод по разделу 1</a></span></li></ul></li><li><span><a href=\"#Умножение-матриц\" data-toc-modified-id=\"Умножение-матриц-2\"><span class=\"toc-item-num\">2&nbsp;&nbsp;</span>Умножение матриц</a></span><ul class=\"toc-item\"><li><span><a href=\"#Исследование-вопроса:-изменится-ли--качество-линейной-регрессии-при-умножении-признаков-на-обратимую-матрицу\" data-toc-modified-id=\"Исследование-вопроса:-изменится-ли--качество-линейной-регрессии-при-умножении-признаков-на-обратимую-матрицу-2.1\"><span class=\"toc-item-num\">2.1&nbsp;&nbsp;</span>Исследование вопроса: изменится ли  качество линейной регрессии при умножении признаков на обратимую матрицу</a></span></li><li><span><a href=\"#Выводы-по-разделу-2\" data-toc-modified-id=\"Выводы-по-разделу-2-2.2\"><span class=\"toc-item-num\">2.2&nbsp;&nbsp;</span>Выводы по разделу 2</a></span></li></ul></li><li><span><a href=\"#Алгоритм-преобразования\" data-toc-modified-id=\"Алгоритм-преобразования-3\"><span class=\"toc-item-num\">3&nbsp;&nbsp;</span>Алгоритм преобразования</a></span></li><li><span><a href=\"#Проверка-алгоритма\" data-toc-modified-id=\"Проверка-алгоритма-4\"><span class=\"toc-item-num\">4&nbsp;&nbsp;</span>Проверка алгоритма</a></span></li><li><span><a href=\"#Итоговые-выводы\" data-toc-modified-id=\"Итоговые-выводы-5\"><span class=\"toc-item-num\">5&nbsp;&nbsp;</span>Итоговые выводы</a></span></li><li><span><a href=\"#Чек-лист-проверки\" data-toc-modified-id=\"Чек-лист-проверки-6\"><span class=\"toc-item-num\">6&nbsp;&nbsp;</span>Чек-лист проверки</a></span></li></ul></div>"
   ]
  },
  {
   "cell_type": "markdown",
   "metadata": {},
   "source": [
    "# Защита персональных данных клиентов"
   ]
  },
  {
   "cell_type": "markdown",
   "metadata": {},
   "source": [
    "Перед нами стоит задача защиты данных клиентов страховой компании «Хоть потоп». Необходимо разработать такой метод преобразования данных, чтобы по ним было сложно восстановить персональную информацию. При выполнении работы необходимо обосновать выбранный вариант.\n",
    "\n",
    "Нужно защитить данные, чтобы при преобразовании качество моделей машинного обучения не ухудшилось. Подбирать наилучшую модель не требуется."
   ]
  },
  {
   "cell_type": "markdown",
   "metadata": {},
   "source": [
    "## Загрузка данных"
   ]
  },
  {
   "cell_type": "markdown",
   "metadata": {},
   "source": [
    "### Выгрузка библиотек и датафрейма"
   ]
  },
  {
   "cell_type": "code",
   "execution_count": 1,
   "metadata": {},
   "outputs": [],
   "source": [
    "import pandas as pd\n",
    "import numpy as np\n",
    "from sklearn.metrics import r2_score\n",
    "from sklearn.model_selection import train_test_split\n",
    "from sklearn.linear_model import LinearRegression"
   ]
  },
  {
   "cell_type": "code",
   "execution_count": 2,
   "metadata": {},
   "outputs": [],
   "source": [
    "data = pd.read_csv('C:/Users/hk/Desktop/практика/датасеты/insurance.csv')"
   ]
  },
  {
   "cell_type": "markdown",
   "metadata": {},
   "source": [
    "### Изучение данных"
   ]
  },
  {
   "cell_type": "markdown",
   "metadata": {},
   "source": [
    "Напишем функцию для выгрузки и анализа данных"
   ]
  },
  {
   "cell_type": "code",
   "execution_count": 3,
   "metadata": {},
   "outputs": [],
   "source": [
    "def check_data(df):\n",
    "    display(data.head())\n",
    "    print(f'Размеры датафрейма: {df.shape}')\n",
    "    print('Количество пропусков:', df.isna().sum())\n",
    "    print('Количество явных дубликатов', df.duplicated().sum())\n",
    "    print(df.describe())\n",
    "    df.info()\n",
    "    "
   ]
  },
  {
   "cell_type": "markdown",
   "metadata": {},
   "source": [
    "Проверим с помощью созданной функции наши данные на наличие пропусков и дубликатов, выведем первые несколько строк и информацию о данных"
   ]
  },
  {
   "cell_type": "code",
   "execution_count": 4,
   "metadata": {},
   "outputs": [
    {
     "data": {
      "text/html": [
       "<div>\n",
       "<style scoped>\n",
       "    .dataframe tbody tr th:only-of-type {\n",
       "        vertical-align: middle;\n",
       "    }\n",
       "\n",
       "    .dataframe tbody tr th {\n",
       "        vertical-align: top;\n",
       "    }\n",
       "\n",
       "    .dataframe thead th {\n",
       "        text-align: right;\n",
       "    }\n",
       "</style>\n",
       "<table border=\"1\" class=\"dataframe\">\n",
       "  <thead>\n",
       "    <tr style=\"text-align: right;\">\n",
       "      <th></th>\n",
       "      <th>Пол</th>\n",
       "      <th>Возраст</th>\n",
       "      <th>Зарплата</th>\n",
       "      <th>Члены семьи</th>\n",
       "      <th>Страховые выплаты</th>\n",
       "    </tr>\n",
       "  </thead>\n",
       "  <tbody>\n",
       "    <tr>\n",
       "      <th>0</th>\n",
       "      <td>1</td>\n",
       "      <td>41.0</td>\n",
       "      <td>49600.0</td>\n",
       "      <td>1</td>\n",
       "      <td>0</td>\n",
       "    </tr>\n",
       "    <tr>\n",
       "      <th>1</th>\n",
       "      <td>0</td>\n",
       "      <td>46.0</td>\n",
       "      <td>38000.0</td>\n",
       "      <td>1</td>\n",
       "      <td>1</td>\n",
       "    </tr>\n",
       "    <tr>\n",
       "      <th>2</th>\n",
       "      <td>0</td>\n",
       "      <td>29.0</td>\n",
       "      <td>21000.0</td>\n",
       "      <td>0</td>\n",
       "      <td>0</td>\n",
       "    </tr>\n",
       "    <tr>\n",
       "      <th>3</th>\n",
       "      <td>0</td>\n",
       "      <td>21.0</td>\n",
       "      <td>41700.0</td>\n",
       "      <td>2</td>\n",
       "      <td>0</td>\n",
       "    </tr>\n",
       "    <tr>\n",
       "      <th>4</th>\n",
       "      <td>1</td>\n",
       "      <td>28.0</td>\n",
       "      <td>26100.0</td>\n",
       "      <td>0</td>\n",
       "      <td>0</td>\n",
       "    </tr>\n",
       "  </tbody>\n",
       "</table>\n",
       "</div>"
      ],
      "text/plain": [
       "   Пол  Возраст  Зарплата  Члены семьи  Страховые выплаты\n",
       "0    1     41.0   49600.0            1                  0\n",
       "1    0     46.0   38000.0            1                  1\n",
       "2    0     29.0   21000.0            0                  0\n",
       "3    0     21.0   41700.0            2                  0\n",
       "4    1     28.0   26100.0            0                  0"
      ]
     },
     "metadata": {},
     "output_type": "display_data"
    },
    {
     "name": "stdout",
     "output_type": "stream",
     "text": [
      "Размеры датафрейма: (5000, 5)\n",
      "Количество пропусков: Пол                  0\n",
      "Возраст              0\n",
      "Зарплата             0\n",
      "Члены семьи          0\n",
      "Страховые выплаты    0\n",
      "dtype: int64\n",
      "Количество явных дубликатов 153\n",
      "               Пол      Возраст      Зарплата  Члены семьи  Страховые выплаты\n",
      "count  5000.000000  5000.000000   5000.000000  5000.000000        5000.000000\n",
      "mean      0.499000    30.952800  39916.360000     1.194200           0.148000\n",
      "std       0.500049     8.440807   9900.083569     1.091387           0.463183\n",
      "min       0.000000    18.000000   5300.000000     0.000000           0.000000\n",
      "25%       0.000000    24.000000  33300.000000     0.000000           0.000000\n",
      "50%       0.000000    30.000000  40200.000000     1.000000           0.000000\n",
      "75%       1.000000    37.000000  46600.000000     2.000000           0.000000\n",
      "max       1.000000    65.000000  79000.000000     6.000000           5.000000\n",
      "<class 'pandas.core.frame.DataFrame'>\n",
      "RangeIndex: 5000 entries, 0 to 4999\n",
      "Data columns (total 5 columns):\n",
      " #   Column             Non-Null Count  Dtype  \n",
      "---  ------             --------------  -----  \n",
      " 0   Пол                5000 non-null   int64  \n",
      " 1   Возраст            5000 non-null   float64\n",
      " 2   Зарплата           5000 non-null   float64\n",
      " 3   Члены семьи        5000 non-null   int64  \n",
      " 4   Страховые выплаты  5000 non-null   int64  \n",
      "dtypes: float64(2), int64(3)\n",
      "memory usage: 195.4 KB\n"
     ]
    }
   ],
   "source": [
    "check_data(data)"
   ]
  },
  {
   "cell_type": "markdown",
   "metadata": {},
   "source": [
    "**Выводы по результатам выгрузки данных**\n",
    "\n",
    "В качестве исходных данных имеем датафрейм размерностью 5000 на 5, со следующими параметрами:\n",
    "\n",
    "- `Пол`, определяемый 0 и 1;\n",
    "- `Возраст`, тип данных float\n",
    "- `Зарплата`, тип данных float\n",
    "- `Члены семьи`, определяемый 0 и 1\n",
    "- `Страховые выплаты`, определяемый 0 и 1\n",
    "\n",
    "В данных отстутствуют пропуски, однако есть явные дубликаты. На данном этапе, удалять дубликаты не будем, так как размер датафрейма не очень большой, и с малым количеством признаков это могут быть вовсе не дубликаты, а просто совпадение данных о пользователях страховой компании\n",
    "\n",
    "Так как значения в столбцах `Возраст` и `Зарплата` целочисленные, изменим их тип данных с float на int"
   ]
  },
  {
   "cell_type": "code",
   "execution_count": 5,
   "metadata": {},
   "outputs": [],
   "source": [
    "data['Возраст'] = data['Возраст'].astype(int)\n",
    "data['Зарплата'] = data['Зарплата'].astype(int)"
   ]
  },
  {
   "cell_type": "code",
   "execution_count": 6,
   "metadata": {},
   "outputs": [
    {
     "name": "stdout",
     "output_type": "stream",
     "text": [
      "<class 'pandas.core.frame.DataFrame'>\n",
      "RangeIndex: 5000 entries, 0 to 4999\n",
      "Data columns (total 5 columns):\n",
      " #   Column             Non-Null Count  Dtype\n",
      "---  ------             --------------  -----\n",
      " 0   Пол                5000 non-null   int64\n",
      " 1   Возраст            5000 non-null   int32\n",
      " 2   Зарплата           5000 non-null   int32\n",
      " 3   Члены семьи        5000 non-null   int64\n",
      " 4   Страховые выплаты  5000 non-null   int64\n",
      "dtypes: int32(2), int64(3)\n",
      "memory usage: 156.4 KB\n"
     ]
    }
   ],
   "source": [
    "data.info()"
   ]
  },
  {
   "cell_type": "code",
   "execution_count": 7,
   "metadata": {},
   "outputs": [
    {
     "data": {
      "text/html": [
       "<div>\n",
       "<style scoped>\n",
       "    .dataframe tbody tr th:only-of-type {\n",
       "        vertical-align: middle;\n",
       "    }\n",
       "\n",
       "    .dataframe tbody tr th {\n",
       "        vertical-align: top;\n",
       "    }\n",
       "\n",
       "    .dataframe thead th {\n",
       "        text-align: right;\n",
       "    }\n",
       "</style>\n",
       "<table border=\"1\" class=\"dataframe\">\n",
       "  <thead>\n",
       "    <tr style=\"text-align: right;\">\n",
       "      <th></th>\n",
       "      <th>Пол</th>\n",
       "      <th>Возраст</th>\n",
       "      <th>Зарплата</th>\n",
       "      <th>Члены семьи</th>\n",
       "      <th>Страховые выплаты</th>\n",
       "    </tr>\n",
       "  </thead>\n",
       "  <tbody>\n",
       "    <tr>\n",
       "      <th>count</th>\n",
       "      <td>5000.000000</td>\n",
       "      <td>5000.000000</td>\n",
       "      <td>5000.000000</td>\n",
       "      <td>5000.000000</td>\n",
       "      <td>5000.000000</td>\n",
       "    </tr>\n",
       "    <tr>\n",
       "      <th>mean</th>\n",
       "      <td>0.499000</td>\n",
       "      <td>30.952800</td>\n",
       "      <td>39916.359400</td>\n",
       "      <td>1.194200</td>\n",
       "      <td>0.148000</td>\n",
       "    </tr>\n",
       "    <tr>\n",
       "      <th>std</th>\n",
       "      <td>0.500049</td>\n",
       "      <td>8.440807</td>\n",
       "      <td>9900.082063</td>\n",
       "      <td>1.091387</td>\n",
       "      <td>0.463183</td>\n",
       "    </tr>\n",
       "    <tr>\n",
       "      <th>min</th>\n",
       "      <td>0.000000</td>\n",
       "      <td>18.000000</td>\n",
       "      <td>5300.000000</td>\n",
       "      <td>0.000000</td>\n",
       "      <td>0.000000</td>\n",
       "    </tr>\n",
       "    <tr>\n",
       "      <th>25%</th>\n",
       "      <td>0.000000</td>\n",
       "      <td>24.000000</td>\n",
       "      <td>33300.000000</td>\n",
       "      <td>0.000000</td>\n",
       "      <td>0.000000</td>\n",
       "    </tr>\n",
       "    <tr>\n",
       "      <th>50%</th>\n",
       "      <td>0.000000</td>\n",
       "      <td>30.000000</td>\n",
       "      <td>40200.000000</td>\n",
       "      <td>1.000000</td>\n",
       "      <td>0.000000</td>\n",
       "    </tr>\n",
       "    <tr>\n",
       "      <th>75%</th>\n",
       "      <td>1.000000</td>\n",
       "      <td>37.000000</td>\n",
       "      <td>46600.000000</td>\n",
       "      <td>2.000000</td>\n",
       "      <td>0.000000</td>\n",
       "    </tr>\n",
       "    <tr>\n",
       "      <th>max</th>\n",
       "      <td>1.000000</td>\n",
       "      <td>65.000000</td>\n",
       "      <td>79000.000000</td>\n",
       "      <td>6.000000</td>\n",
       "      <td>5.000000</td>\n",
       "    </tr>\n",
       "  </tbody>\n",
       "</table>\n",
       "</div>"
      ],
      "text/plain": [
       "               Пол      Возраст      Зарплата  Члены семьи  Страховые выплаты\n",
       "count  5000.000000  5000.000000   5000.000000  5000.000000        5000.000000\n",
       "mean      0.499000    30.952800  39916.359400     1.194200           0.148000\n",
       "std       0.500049     8.440807   9900.082063     1.091387           0.463183\n",
       "min       0.000000    18.000000   5300.000000     0.000000           0.000000\n",
       "25%       0.000000    24.000000  33300.000000     0.000000           0.000000\n",
       "50%       0.000000    30.000000  40200.000000     1.000000           0.000000\n",
       "75%       1.000000    37.000000  46600.000000     2.000000           0.000000\n",
       "max       1.000000    65.000000  79000.000000     6.000000           5.000000"
      ]
     },
     "execution_count": 7,
     "metadata": {},
     "output_type": "execute_result"
    }
   ],
   "source": [
    "data.describe()"
   ]
  },
  {
   "cell_type": "markdown",
   "metadata": {},
   "source": [
    "### Вывод по разделу 1"
   ]
  },
  {
   "cell_type": "markdown",
   "metadata": {},
   "source": [
    "На 1 этапе выгрузили все необходимые библиотеки, выгрузили датафрейм из файла, провели предварительный анализ. По результатам анализа установлено, что на вход имеем датафрейм размерностью (5000, 5), в которых не обнаружено пропусков, однако есть дубликаты, которые принято решение не удалять. Так же преобразовали тип данных в столбцах `Возраст` и `Зарплата`, так как все значения в этих столбцах целочисленные. "
   ]
  },
  {
   "cell_type": "markdown",
   "metadata": {},
   "source": [
    "## Умножение матриц"
   ]
  },
  {
   "cell_type": "markdown",
   "metadata": {},
   "source": [
    " Разделим наши данные на признаки `features`, содержащий данные о клиентах, и целевой признак `target`, содержащий данные о наличии страховых выплат"
   ]
  },
  {
   "cell_type": "code",
   "execution_count": 8,
   "metadata": {},
   "outputs": [],
   "source": [
    "features = data.drop('Страховые выплаты', axis=1)\n",
    "target = data['Страховые выплаты']"
   ]
  },
  {
   "cell_type": "markdown",
   "metadata": {},
   "source": [
    "### Исследование вопроса: изменится ли  качество линейной регрессии при умножении признаков на обратимую матрицу"
   ]
  },
  {
   "cell_type": "markdown",
   "metadata": {},
   "source": [
    "В этом разделе рассмотрим этот вопрос используя правила матричного умножения"
   ]
  },
  {
   "cell_type": "markdown",
   "metadata": {},
   "source": [
    "Обозначения:\n",
    "\n",
    "- $X$ — матрица признаков (нулевой столбец состоит из единиц)\n",
    "\n",
    "- $y$ — вектор целевого признака\n",
    "\n",
    "- $P$ — матрица, на которую умножаются признаки\n",
    "\n",
    "- $w$ — вектор весов линейной регрессии (нулевой элемент равен сдвигу)"
   ]
  },
  {
   "cell_type": "markdown",
   "metadata": {},
   "source": [
    "Предсказания:\n",
    "\n",
    "$$\n",
    "a = Xw\n",
    "$$\n",
    "\n",
    "Задача обучения:\n",
    "\n",
    "$$\n",
    "w = \\arg\\min_w MSE(Xw, y)\n",
    "$$\n",
    "\n",
    "Формула обучения:\n",
    "\n",
    "$$\n",
    "w = (X^T X)^{-1} X^T y\n",
    "$$"
   ]
  },
  {
   "cell_type": "markdown",
   "metadata": {},
   "source": [
    "**Обоснование:** Ниже приведем обоснование"
   ]
  },
  {
   "cell_type": "markdown",
   "metadata": {},
   "source": [
    "Для того, чтобы доказать, что при умножении матрицы признаков на произвольную матрицу качество линейной регрессии не изменится, нам необходимо доказать, что \n",
    "\n",
    "$$\n",
    "a = a_p\n",
    "$$\n",
    "где $a_p = XPw^{'}$, $w^{'} = ((XP)^T (XP))^{-1} (XP)^T y$"
   ]
  },
  {
   "cell_type": "markdown",
   "metadata": {},
   "source": [
    "Преобразуем выражение, описавающее $w'$: \n",
    "\n",
    "$$\n",
    "w' = ((XP)^T (XP))^{-1} (XP)^T y\n",
    "$$\n",
    "\n",
    "Раскроем скобки в соответствии с правилами транспонирования и получим следущее:\n",
    "\n",
    "$$\n",
    "w' = (P^TX^TXP)^{-1}(XP)^Ty\n",
    "$$\n",
    "\n",
    "Для наглядности добавим дополнительные скобки, обозначающие произведение $X^T$ и $X$:\n",
    "\n",
    "$$\n",
    "w' = (P^T(X^TX)P)^{-1}P^TX^Ty\n",
    "$$\n",
    "\n",
    "Таким образом, мы получаем три квадратные матрицы $P^T$, $(X^TX)$, $P$, на которые распространяется правило обратимости, и можем раскрыть скобки следующим образом:\n",
    "\n",
    "$$\n",
    "w' = P^{-1}(X^TX)^{-1}(P^T)^{-1}P^TX^Ty\n",
    "$$\n",
    "\n",
    "Так как произведение матриц $(P^T)^{-1}$ и $P^T$ дает единичную матрицу $E$, перепишем выражение так:\n",
    "\n",
    "$$\n",
    "w' = P^{-1}(X^TX)^{-1}EX^Ty = P^{-1}(X^TX)^{-1}X^Ty\n",
    "$$\n",
    "\n",
    "где $(X^TX)^{-1}X^Ty = w$, и таким образом получаем:\n",
    "\n",
    "$$\n",
    "w' = P^{-1}w\n",
    "$$\n",
    "\n",
    "Так как нужно доказать, что $a = a_p$, при этом $a = Xw$, $a_p = XPw'$, подставив это в соотношение получим следующее:\n",
    "\n",
    "$$\n",
    "Xw = XPP^{-1}w = XEw = Xw\n",
    "$$\n",
    "\n",
    "получили, что \n",
    "\n",
    "$$\n",
    "a = a_p\n",
    "$$\n",
    "\n",
    "Таким образом получили, что при умножении на обратимую матрицу получаем те же предсказания, что и без умножения\n"
   ]
  },
  {
   "cell_type": "markdown",
   "metadata": {},
   "source": [
    "### Выводы по разделу 2\n",
    "\n",
    "Таким образом получили, что при умножении матрицы на обратимую матрицу, получаем вектор весов линейной регрессии, умноженный на эту же обратимую матрицу. "
   ]
  },
  {
   "cell_type": "markdown",
   "metadata": {},
   "source": [
    "## Алгоритм преобразования"
   ]
  },
  {
   "cell_type": "markdown",
   "metadata": {},
   "source": [
    "**Алгоритм**\n",
    "\n",
    "Для сохранения данных клиентов страховой компании \"Хоть потоп\" предлагается следующий алгоритм преобразования:\n",
    "\n",
    "1. Создается произвольная матрица $P$. Произвольная матрица должна быть квадратной, так как у прямоугольной матрицы обратимой матрицы не существует. Размер произвольной матрицы определяется количеством признаков.\n",
    "\n",
    "2. Произвольная матрица $P$ проверяется на обратимость. В случае, если произвольно генерируемая матрица не является обратимой, нужно вновь сгенерировать произвольную матрицу и провести проверку. Эти действия выполняются до тех пор, пока не получим обратимую матрицу. Это делается для того, чтобы при \"поточном\" использовании данного метода на практике, код не выдавал ошибок, при отсутствии обратимой матрицы\n",
    "\n",
    "3. Путем перемножения матрицы признаков на произваольную матрицу создается новая матрица преобразованная матрица $A$\n",
    "\n",
    "4. По метрике `R2` проверяется качество построенной модели путем сравнения метрик для матрицы признаков до и после преобразования"
   ]
  },
  {
   "cell_type": "markdown",
   "metadata": {},
   "source": [
    "**Обоснование предложенного алгоритма**\n",
    "\n",
    "С учетом математических преобразований, полученных в разделе 2, можно утверждать, что при умножении матрицы с признаками (как тренировочной, так и тестовой) на одну и ту же произвольную матрицу, мы получаем в качестве результата предсказания: \n",
    "\n",
    "произведение нашей изменённой матрицы с признаками на вектор, который был получен из той же матрицы с изменёнными данными и увеличенную на ту же величину, что и признаки тренировочных данных. \n",
    "\n",
    "Проверим предложенный алгоритм с помощью кода"
   ]
  },
  {
   "cell_type": "markdown",
   "metadata": {},
   "source": [
    "## Проверка алгоритма"
   ]
  },
  {
   "cell_type": "markdown",
   "metadata": {},
   "source": [
    "Перед проверкой предложенного алгоритма разобьем данные на обоучающую и тестовую выборки"
   ]
  },
  {
   "cell_type": "code",
   "execution_count": 9,
   "metadata": {},
   "outputs": [],
   "source": [
    "features_train, features_test, target_train, target_test = train_test_split(\n",
    "    features, target, test_size=0.25, random_state=12345)"
   ]
  },
  {
   "cell_type": "markdown",
   "metadata": {},
   "source": [
    "**1. Создадим произвольную матрицу $P$ и проверим ее на обратимость с помощью универсальной функции**"
   ]
  },
  {
   "cell_type": "code",
   "execution_count": 10,
   "metadata": {},
   "outputs": [],
   "source": [
    "def get_rand_matrix():\n",
    "    det = 0\n",
    "    n = features.shape[1]\n",
    "    while det == 0:\n",
    "        matrix = np.random.normal(size=(n, n))\n",
    "        det = np.linalg.det(matrix)\n",
    "    return matrix"
   ]
  },
  {
   "cell_type": "code",
   "execution_count": 11,
   "metadata": {},
   "outputs": [
    {
     "data": {
      "text/plain": [
       "array([[ 1.08057248,  1.3059187 ,  2.15282819, -0.51242855],\n",
       "       [-2.7638657 , -0.70204936, -0.30714024,  0.11874025],\n",
       "       [ 0.94763313, -0.63721167,  0.95477797,  0.36504245],\n",
       "       [ 0.5462353 , -0.04317848,  0.98099358,  0.2577706 ]])"
      ]
     },
     "execution_count": 11,
     "metadata": {},
     "output_type": "execute_result"
    }
   ],
   "source": [
    "P = get_rand_matrix()\n",
    "P"
   ]
  },
  {
   "cell_type": "markdown",
   "metadata": {},
   "source": [
    "С помощью созданной функции можем получать обратимую матрицу с размерами, соответствующую количеству признаков в исходной матрице, и 100% обратимой"
   ]
  },
  {
   "cell_type": "markdown",
   "metadata": {},
   "source": [
    "**3. Выполним умножение тренировочной выборки на произвольную матрицу $P$ и затем умножение тестовой выборки на произвольную матрицу $P$, получим новые изменненные матрицы $M$ и $Mtest$**"
   ]
  },
  {
   "cell_type": "code",
   "execution_count": 12,
   "metadata": {},
   "outputs": [
    {
     "data": {
      "text/html": [
       "<div>\n",
       "<style scoped>\n",
       "    .dataframe tbody tr th:only-of-type {\n",
       "        vertical-align: middle;\n",
       "    }\n",
       "\n",
       "    .dataframe tbody tr th {\n",
       "        vertical-align: top;\n",
       "    }\n",
       "\n",
       "    .dataframe thead th {\n",
       "        text-align: right;\n",
       "    }\n",
       "</style>\n",
       "<table border=\"1\" class=\"dataframe\">\n",
       "  <thead>\n",
       "    <tr style=\"text-align: right;\">\n",
       "      <th></th>\n",
       "      <th>Пол</th>\n",
       "      <th>Возраст</th>\n",
       "      <th>Зарплата</th>\n",
       "      <th>Члены семьи</th>\n",
       "    </tr>\n",
       "  </thead>\n",
       "  <tbody>\n",
       "    <tr>\n",
       "      <th>3369</th>\n",
       "      <td>34187.099891</td>\n",
       "      <td>-23095.987750</td>\n",
       "      <td>34552.889263</td>\n",
       "      <td>13219.387925</td>\n",
       "    </tr>\n",
       "    <tr>\n",
       "      <th>1441</th>\n",
       "      <td>54490.777430</td>\n",
       "      <td>-36725.955814</td>\n",
       "      <td>54986.921064</td>\n",
       "      <td>21029.969959</td>\n",
       "    </tr>\n",
       "    <tr>\n",
       "      <th>571</th>\n",
       "      <td>38859.824178</td>\n",
       "      <td>-26211.908297</td>\n",
       "      <td>39232.527024</td>\n",
       "      <td>15007.302224</td>\n",
       "    </tr>\n",
       "    <tr>\n",
       "      <th>225</th>\n",
       "      <td>42639.301235</td>\n",
       "      <td>-28763.563165</td>\n",
       "      <td>43050.410339</td>\n",
       "      <td>16467.946992</td>\n",
       "    </tr>\n",
       "    <tr>\n",
       "      <th>2558</th>\n",
       "      <td>47860.121283</td>\n",
       "      <td>-32266.164367</td>\n",
       "      <td>48303.591582</td>\n",
       "      <td>18475.582026</td>\n",
       "    </tr>\n",
       "  </tbody>\n",
       "</table>\n",
       "</div>"
      ],
      "text/plain": [
       "               Пол       Возраст      Зарплата   Члены семьи\n",
       "3369  34187.099891 -23095.987750  34552.889263  13219.387925\n",
       "1441  54490.777430 -36725.955814  54986.921064  21029.969959\n",
       "571   38859.824178 -26211.908297  39232.527024  15007.302224\n",
       "225   42639.301235 -28763.563165  43050.410339  16467.946992\n",
       "2558  47860.121283 -32266.164367  48303.591582  18475.582026"
      ]
     },
     "execution_count": 12,
     "metadata": {},
     "output_type": "execute_result"
    }
   ],
   "source": [
    "M = features_train.dot(P)\n",
    "M.columns = features_train.columns\n",
    "M.head()"
   ]
  },
  {
   "cell_type": "code",
   "execution_count": 13,
   "metadata": {},
   "outputs": [
    {
     "data": {
      "text/html": [
       "<div>\n",
       "<style scoped>\n",
       "    .dataframe tbody tr th:only-of-type {\n",
       "        vertical-align: middle;\n",
       "    }\n",
       "\n",
       "    .dataframe tbody tr th {\n",
       "        vertical-align: top;\n",
       "    }\n",
       "\n",
       "    .dataframe thead th {\n",
       "        text-align: right;\n",
       "    }\n",
       "</style>\n",
       "<table border=\"1\" class=\"dataframe\">\n",
       "  <thead>\n",
       "    <tr style=\"text-align: right;\">\n",
       "      <th></th>\n",
       "      <th>Пол</th>\n",
       "      <th>Возраст</th>\n",
       "      <th>Зарплата</th>\n",
       "      <th>Члены семьи</th>\n",
       "    </tr>\n",
       "  </thead>\n",
       "  <tbody>\n",
       "    <tr>\n",
       "      <th>3183</th>\n",
       "      <td>36868.669445</td>\n",
       "      <td>-24874.595380</td>\n",
       "      <td>37230.129130</td>\n",
       "      <td>14241.605127</td>\n",
       "    </tr>\n",
       "    <tr>\n",
       "      <th>1071</th>\n",
       "      <td>40705.887091</td>\n",
       "      <td>-27499.011699</td>\n",
       "      <td>41137.535431</td>\n",
       "      <td>15739.782223</td>\n",
       "    </tr>\n",
       "    <tr>\n",
       "      <th>2640</th>\n",
       "      <td>39788.644585</td>\n",
       "      <td>-26852.685213</td>\n",
       "      <td>40186.326846</td>\n",
       "      <td>15372.405658</td>\n",
       "    </tr>\n",
       "    <tr>\n",
       "      <th>2282</th>\n",
       "      <td>32922.355612</td>\n",
       "      <td>-22189.007020</td>\n",
       "      <td>33220.130510</td>\n",
       "      <td>12705.852125</td>\n",
       "    </tr>\n",
       "    <tr>\n",
       "      <th>1595</th>\n",
       "      <td>37794.191650</td>\n",
       "      <td>-25517.423442</td>\n",
       "      <td>38182.449977</td>\n",
       "      <td>14607.597501</td>\n",
       "    </tr>\n",
       "  </tbody>\n",
       "</table>\n",
       "</div>"
      ],
      "text/plain": [
       "               Пол       Возраст      Зарплата   Члены семьи\n",
       "3183  36868.669445 -24874.595380  37230.129130  14241.605127\n",
       "1071  40705.887091 -27499.011699  41137.535431  15739.782223\n",
       "2640  39788.644585 -26852.685213  40186.326846  15372.405658\n",
       "2282  32922.355612 -22189.007020  33220.130510  12705.852125\n",
       "1595  37794.191650 -25517.423442  38182.449977  14607.597501"
      ]
     },
     "execution_count": 13,
     "metadata": {},
     "output_type": "execute_result"
    }
   ],
   "source": [
    "M_test = features_test.dot(P)\n",
    "M_test.columns = features_test.columns\n",
    "M_test.head()"
   ]
  },
  {
   "cell_type": "markdown",
   "metadata": {},
   "source": [
    "**4. Проверим метрику `R2` для тренировочно и тестовой выборок до и после преобразования матриц**"
   ]
  },
  {
   "cell_type": "markdown",
   "metadata": {},
   "source": [
    "Для подсчета метрики `R2` напишем класс Линейной регрессии и расчитаем метрики"
   ]
  },
  {
   "cell_type": "code",
   "execution_count": 14,
   "metadata": {},
   "outputs": [],
   "source": [
    "class LinearRegression:\n",
    "    def fit(self, train_features, train_target):\n",
    "        X = np.concatenate((np.ones((train_features.shape[0], 1)), train_features), axis=1)\n",
    "        y = train_target\n",
    "        w = np.linalg.inv(X.T.dot(X)).dot(X.T).dot(y)# < напишите код здесь >\n",
    "        self.w = w[1:]\n",
    "        self.w0 = w[0]\n",
    "        \n",
    "    def predict(self, test_features):\n",
    "        return test_features.dot(self.w) + self.w0"
   ]
  },
  {
   "cell_type": "markdown",
   "metadata": {},
   "source": [
    "**4.1. Метрика `R2` для тренировочной выборки ДО преобразования**"
   ]
  },
  {
   "cell_type": "code",
   "execution_count": 15,
   "metadata": {},
   "outputs": [
    {
     "name": "stdout",
     "output_type": "stream",
     "text": [
      "0.42139202519255015\n"
     ]
    }
   ],
   "source": [
    "model = LinearRegression()\n",
    "model.fit(features_train, target_train)\n",
    "predictions = model.predict(features_train)\n",
    "r2_score_train_before = r2_score(target_train, predictions)\n",
    "print(r2_score_train_before)"
   ]
  },
  {
   "cell_type": "markdown",
   "metadata": {},
   "source": [
    "**4.2. Метрика `R2` для тренировочной выборки ПОСЛЕ преобразования**"
   ]
  },
  {
   "cell_type": "code",
   "execution_count": 16,
   "metadata": {},
   "outputs": [
    {
     "name": "stdout",
     "output_type": "stream",
     "text": [
      "0.4213920251925406\n"
     ]
    }
   ],
   "source": [
    "model = LinearRegression()\n",
    "model.fit(M, target_train)\n",
    "predictions = model.predict(M)\n",
    "r2_score_train_after = r2_score(target_train, predictions)\n",
    "print(r2_score_train_after)"
   ]
  },
  {
   "cell_type": "markdown",
   "metadata": {},
   "source": [
    "**4.3. Метрика `R2` для тестовой выборки ДО преобразования**"
   ]
  },
  {
   "cell_type": "code",
   "execution_count": 17,
   "metadata": {},
   "outputs": [
    {
     "name": "stdout",
     "output_type": "stream",
     "text": [
      "0.4385357514301551\n"
     ]
    }
   ],
   "source": [
    "model = LinearRegression()\n",
    "model.fit(features_test, target_test)\n",
    "predictions = model.predict(features_test)\n",
    "r2_score_test_before = r2_score(target_test, predictions)\n",
    "print(r2_score_test_before)"
   ]
  },
  {
   "cell_type": "markdown",
   "metadata": {},
   "source": [
    "**4.4. Метрика `R2` для тестовой выборки ПОСЛЕ преобразования**"
   ]
  },
  {
   "cell_type": "code",
   "execution_count": 18,
   "metadata": {},
   "outputs": [
    {
     "name": "stdout",
     "output_type": "stream",
     "text": [
      "0.43853575143015444\n"
     ]
    }
   ],
   "source": [
    "model = LinearRegression()\n",
    "model.fit(M_test, target_test)\n",
    "predictions = model.predict(M_test)\n",
    "r2_score_test_after = r2_score(target_test, predictions)\n",
    "print(r2_score_test_after)"
   ]
  },
  {
   "cell_type": "markdown",
   "metadata": {},
   "source": [
    "Для наглядности создадим сравнительную таблицу"
   ]
  },
  {
   "cell_type": "code",
   "execution_count": 19,
   "metadata": {},
   "outputs": [
    {
     "data": {
      "text/html": [
       "<div>\n",
       "<style scoped>\n",
       "    .dataframe tbody tr th:only-of-type {\n",
       "        vertical-align: middle;\n",
       "    }\n",
       "\n",
       "    .dataframe tbody tr th {\n",
       "        vertical-align: top;\n",
       "    }\n",
       "\n",
       "    .dataframe thead th {\n",
       "        text-align: right;\n",
       "    }\n",
       "</style>\n",
       "<table border=\"1\" class=\"dataframe\">\n",
       "  <thead>\n",
       "    <tr style=\"text-align: right;\">\n",
       "      <th></th>\n",
       "      <th>Изменённая матрица</th>\n",
       "      <th>Неизменённая матрица</th>\n",
       "    </tr>\n",
       "  </thead>\n",
       "  <tbody>\n",
       "    <tr>\n",
       "      <th>R2_score_train</th>\n",
       "      <td>0.421392</td>\n",
       "      <td>0.421392</td>\n",
       "    </tr>\n",
       "    <tr>\n",
       "      <th>R2_score_test</th>\n",
       "      <td>0.438536</td>\n",
       "      <td>0.438536</td>\n",
       "    </tr>\n",
       "  </tbody>\n",
       "</table>\n",
       "</div>"
      ],
      "text/plain": [
       "                Изменённая матрица  Неизменённая матрица\n",
       "R2_score_train            0.421392              0.421392\n",
       "R2_score_test             0.438536              0.438536"
      ]
     },
     "metadata": {},
     "output_type": "display_data"
    }
   ],
   "source": [
    "table = pd.DataFrame(index=['R2_score_train','R2_score_test'], columns=['Изменённая матрица','Неизменённая матрица'])\n",
    "table['Изменённая матрица'] = r2_score_train_before, r2_score_test_before\n",
    "table['Неизменённая матрица'] = r2_score_train_after, r2_score_test_after\n",
    "\n",
    "display(table)\n"
   ]
  },
  {
   "cell_type": "markdown",
   "metadata": {},
   "source": [
    "**Вывод по разделу 4**\n",
    "\n",
    "Таким образом получили, что метрика качества модели `R2` имеет одинаковые значения, как для неизменненной матрицы признаков, так и для измененной, путем умножения на произвольную, а так же это справедливо и для тестовой выборки"
   ]
  },
  {
   "cell_type": "markdown",
   "metadata": {},
   "source": [
    "## Итоговые выводы\n",
    "\n",
    "Нашей задачей было защитить данные клиентов страховой компании \"Хоть потоп\" и придумать такой алгоритм преобразования данных, чтобы по ним было сложно восстановить персональную информацию. Так же при этом требовалось, чтобы при применении предложенного метода качество модели машинного обучения не ухудшалось.\n",
    "\n",
    "В качестве такого метода было предложено использовать метод перемножения матрицы с признаками о клиентах на обратимую матрицу $P$. Дееспособность метода была проанализирована как теоретически (с помощью математических преобразований), так и практически (с применением кода).\n",
    "\n",
    "Качество модели линейной регрессии, построенной с помощью класса, оценивалось по метрике `R2` на тренировочной и тестовой выборка **ДО** и **ПОСЛЕ** применения предлагаемого метода. По результатам оценки установлено, что значене `R2` одинаково как для исходной матрицы признаков, так и при перемножении ее на обратимую матрицу $P$. Данный вывод также справедлив и для тестовой выборки.\n"
   ]
  }
 ],
 "metadata": {
  "ExecuteTimeLog": [
   {
    "duration": 1092,
    "start_time": "2023-08-15T07:18:12.786Z"
   },
   {
    "duration": 96,
    "start_time": "2023-08-15T07:18:54.805Z"
   },
   {
    "duration": 15,
    "start_time": "2023-08-15T07:19:01.770Z"
   },
   {
    "duration": 4,
    "start_time": "2023-08-15T07:25:02.570Z"
   },
   {
    "duration": 23,
    "start_time": "2023-08-15T07:27:11.755Z"
   },
   {
    "duration": 1115,
    "start_time": "2023-08-15T07:39:55.261Z"
   },
   {
    "duration": 4,
    "start_time": "2023-08-15T07:40:09.557Z"
   },
   {
    "duration": 11,
    "start_time": "2023-08-15T07:40:24.622Z"
   },
   {
    "duration": 11,
    "start_time": "2023-08-15T07:41:08.143Z"
   },
   {
    "duration": 3,
    "start_time": "2023-08-15T07:41:16.439Z"
   },
   {
    "duration": 34,
    "start_time": "2023-08-15T07:41:16.445Z"
   },
   {
    "duration": 4,
    "start_time": "2023-08-15T07:41:16.481Z"
   },
   {
    "duration": 20,
    "start_time": "2023-08-15T07:41:16.487Z"
   },
   {
    "duration": 4,
    "start_time": "2023-08-15T07:41:16.510Z"
   },
   {
    "duration": 11,
    "start_time": "2023-08-15T07:41:35.079Z"
   },
   {
    "duration": 36,
    "start_time": "2023-08-15T08:20:06.486Z"
   },
   {
    "duration": 5,
    "start_time": "2023-08-15T09:11:31.997Z"
   },
   {
    "duration": 7,
    "start_time": "2023-08-15T09:15:25.117Z"
   },
   {
    "duration": 9,
    "start_time": "2023-08-15T09:18:21.400Z"
   },
   {
    "duration": 7,
    "start_time": "2023-08-15T09:21:01.420Z"
   },
   {
    "duration": 1097,
    "start_time": "2023-08-16T06:52:47.592Z"
   },
   {
    "duration": 122,
    "start_time": "2023-08-16T06:52:48.691Z"
   },
   {
    "duration": 4,
    "start_time": "2023-08-16T06:52:48.815Z"
   },
   {
    "duration": 56,
    "start_time": "2023-08-16T06:52:48.821Z"
   },
   {
    "duration": 5,
    "start_time": "2023-08-16T06:52:48.879Z"
   },
   {
    "duration": 14,
    "start_time": "2023-08-16T06:52:48.885Z"
   },
   {
    "duration": 6,
    "start_time": "2023-08-16T06:52:48.901Z"
   },
   {
    "duration": 54,
    "start_time": "2023-08-16T06:52:48.908Z"
   },
   {
    "duration": 10,
    "start_time": "2023-08-16T06:52:48.964Z"
   },
   {
    "duration": 5,
    "start_time": "2023-08-16T10:06:48.151Z"
   },
   {
    "duration": 6,
    "start_time": "2023-08-16T10:07:18.362Z"
   },
   {
    "duration": 5,
    "start_time": "2023-08-16T10:09:15.933Z"
   },
   {
    "duration": 13,
    "start_time": "2023-08-16T10:10:59.224Z"
   },
   {
    "duration": 10,
    "start_time": "2023-08-16T10:11:49.312Z"
   },
   {
    "duration": 5,
    "start_time": "2023-08-16T10:15:59.759Z"
   },
   {
    "duration": 7,
    "start_time": "2023-08-16T10:17:40.407Z"
   },
   {
    "duration": 12,
    "start_time": "2023-08-16T10:18:27.584Z"
   },
   {
    "duration": 12,
    "start_time": "2023-08-16T10:19:28.281Z"
   },
   {
    "duration": 12,
    "start_time": "2023-08-16T10:19:31.097Z"
   },
   {
    "duration": 19,
    "start_time": "2023-08-16T10:20:47.524Z"
   },
   {
    "duration": 9,
    "start_time": "2023-08-16T10:21:08.436Z"
   },
   {
    "duration": 6,
    "start_time": "2023-08-16T10:22:06.173Z"
   },
   {
    "duration": 7,
    "start_time": "2023-08-16T10:24:31.064Z"
   },
   {
    "duration": 7,
    "start_time": "2023-08-16T10:24:33.879Z"
   },
   {
    "duration": 11,
    "start_time": "2023-08-16T10:24:50.351Z"
   },
   {
    "duration": 14,
    "start_time": "2023-08-16T10:25:30.448Z"
   },
   {
    "duration": 6,
    "start_time": "2023-08-16T11:02:21.784Z"
   },
   {
    "duration": 1108,
    "start_time": "2023-08-16T12:04:39.170Z"
   },
   {
    "duration": 29,
    "start_time": "2023-08-16T12:04:40.280Z"
   },
   {
    "duration": 3,
    "start_time": "2023-08-16T12:04:40.311Z"
   },
   {
    "duration": 34,
    "start_time": "2023-08-16T12:04:40.316Z"
   },
   {
    "duration": 4,
    "start_time": "2023-08-16T12:04:40.353Z"
   },
   {
    "duration": 20,
    "start_time": "2023-08-16T12:04:40.359Z"
   },
   {
    "duration": 15,
    "start_time": "2023-08-16T12:04:40.381Z"
   },
   {
    "duration": 11,
    "start_time": "2023-08-16T12:04:40.398Z"
   },
   {
    "duration": 16,
    "start_time": "2023-08-16T12:04:40.411Z"
   },
   {
    "duration": 21,
    "start_time": "2023-08-16T12:04:40.429Z"
   },
   {
    "duration": 23,
    "start_time": "2023-08-16T12:04:40.452Z"
   },
   {
    "duration": 92,
    "start_time": "2023-08-16T12:04:40.477Z"
   },
   {
    "duration": 16,
    "start_time": "2023-08-16T12:04:40.571Z"
   },
   {
    "duration": 71,
    "start_time": "2023-08-16T12:04:40.589Z"
   },
   {
    "duration": 99,
    "start_time": "2023-08-16T12:04:40.661Z"
   },
   {
    "duration": 102,
    "start_time": "2023-08-16T12:04:40.762Z"
   },
   {
    "duration": 101,
    "start_time": "2023-08-16T12:04:40.866Z"
   },
   {
    "duration": 92,
    "start_time": "2023-08-16T12:04:40.969Z"
   },
   {
    "duration": 2671,
    "start_time": "2023-08-16T12:16:34.166Z"
   },
   {
    "duration": 90,
    "start_time": "2023-08-16T12:16:36.838Z"
   },
   {
    "duration": 3,
    "start_time": "2023-08-16T12:16:36.929Z"
   },
   {
    "duration": 63,
    "start_time": "2023-08-16T12:16:36.935Z"
   },
   {
    "duration": 20,
    "start_time": "2023-08-16T12:16:37.000Z"
   },
   {
    "duration": 88,
    "start_time": "2023-08-16T12:16:37.022Z"
   },
   {
    "duration": 23,
    "start_time": "2023-08-16T12:16:37.111Z"
   },
   {
    "duration": 45,
    "start_time": "2023-08-16T12:16:37.135Z"
   },
   {
    "duration": 40,
    "start_time": "2023-08-16T12:16:37.181Z"
   },
   {
    "duration": 24,
    "start_time": "2023-08-16T12:16:37.224Z"
   },
   {
    "duration": 53,
    "start_time": "2023-08-16T12:16:37.250Z"
   },
   {
    "duration": 85,
    "start_time": "2023-08-16T12:16:37.307Z"
   },
   {
    "duration": 20,
    "start_time": "2023-08-16T12:16:37.395Z"
   },
   {
    "duration": 84,
    "start_time": "2023-08-16T12:16:37.416Z"
   },
   {
    "duration": 101,
    "start_time": "2023-08-16T12:16:37.504Z"
   },
   {
    "duration": 93,
    "start_time": "2023-08-16T12:16:37.608Z"
   },
   {
    "duration": 118,
    "start_time": "2023-08-16T12:16:37.705Z"
   },
   {
    "duration": 26,
    "start_time": "2023-08-16T12:16:37.887Z"
   },
   {
    "duration": 4,
    "start_time": "2023-08-16T12:53:32.504Z"
   },
   {
    "duration": 112,
    "start_time": "2023-08-16T12:53:34.649Z"
   },
   {
    "duration": 4,
    "start_time": "2023-08-16T12:53:43.425Z"
   },
   {
    "duration": 31,
    "start_time": "2023-08-16T12:53:45.914Z"
   },
   {
    "duration": 4,
    "start_time": "2023-08-16T12:54:30.203Z"
   },
   {
    "duration": 5,
    "start_time": "2023-08-16T12:54:33.786Z"
   },
   {
    "duration": 40,
    "start_time": "2023-08-16T12:54:35.947Z"
   },
   {
    "duration": 23,
    "start_time": "2023-08-16T12:55:06.340Z"
   },
   {
    "duration": 4,
    "start_time": "2023-08-16T13:06:27.753Z"
   },
   {
    "duration": 3,
    "start_time": "2023-08-16T13:06:40.336Z"
   },
   {
    "duration": 6,
    "start_time": "2023-08-16T13:06:44.328Z"
   },
   {
    "duration": 4,
    "start_time": "2023-08-16T13:16:08.680Z"
   },
   {
    "duration": 5,
    "start_time": "2023-08-16T13:16:09.819Z"
   },
   {
    "duration": 1211,
    "start_time": "2023-08-16T14:34:22.070Z"
   },
   {
    "duration": 32,
    "start_time": "2023-08-16T14:34:23.285Z"
   },
   {
    "duration": 4,
    "start_time": "2023-08-16T14:34:23.319Z"
   },
   {
    "duration": 68,
    "start_time": "2023-08-16T14:34:23.325Z"
   },
   {
    "duration": 4,
    "start_time": "2023-08-16T14:34:23.395Z"
   },
   {
    "duration": 16,
    "start_time": "2023-08-16T14:34:23.401Z"
   },
   {
    "duration": 25,
    "start_time": "2023-08-16T14:34:23.419Z"
   },
   {
    "duration": 7,
    "start_time": "2023-08-16T14:34:23.458Z"
   },
   {
    "duration": 16,
    "start_time": "2023-08-16T14:34:23.468Z"
   },
   {
    "duration": 6,
    "start_time": "2023-08-16T14:34:23.487Z"
   },
   {
    "duration": 14,
    "start_time": "2023-08-16T14:34:23.495Z"
   },
   {
    "duration": 17,
    "start_time": "2023-08-16T14:34:23.511Z"
   },
   {
    "duration": 11,
    "start_time": "2023-08-16T14:34:23.530Z"
   },
   {
    "duration": 19,
    "start_time": "2023-08-16T14:34:23.543Z"
   },
   {
    "duration": 102,
    "start_time": "2023-08-16T14:34:23.565Z"
   },
   {
    "duration": 91,
    "start_time": "2023-08-16T14:34:23.670Z"
   },
   {
    "duration": 101,
    "start_time": "2023-08-16T14:34:23.767Z"
   },
   {
    "duration": 15,
    "start_time": "2023-08-16T14:34:23.871Z"
   },
   {
    "duration": 177,
    "start_time": "2023-08-16T14:34:23.888Z"
   },
   {
    "duration": 1232,
    "start_time": "2023-08-17T07:58:44.083Z"
   },
   {
    "duration": 111,
    "start_time": "2023-08-17T07:58:45.317Z"
   },
   {
    "duration": 5,
    "start_time": "2023-08-17T07:58:45.429Z"
   },
   {
    "duration": 100,
    "start_time": "2023-08-17T07:58:45.436Z"
   },
   {
    "duration": 5,
    "start_time": "2023-08-17T07:58:45.538Z"
   },
   {
    "duration": 24,
    "start_time": "2023-08-17T07:58:45.544Z"
   },
   {
    "duration": 33,
    "start_time": "2023-08-17T07:58:45.574Z"
   },
   {
    "duration": 3,
    "start_time": "2023-08-17T07:58:45.609Z"
   },
   {
    "duration": 11,
    "start_time": "2023-08-17T07:58:45.614Z"
   },
   {
    "duration": 10,
    "start_time": "2023-08-17T07:58:45.628Z"
   },
   {
    "duration": 10,
    "start_time": "2023-08-17T07:58:45.639Z"
   },
   {
    "duration": 23,
    "start_time": "2023-08-17T07:58:45.651Z"
   },
   {
    "duration": 27,
    "start_time": "2023-08-17T07:58:45.677Z"
   },
   {
    "duration": 9,
    "start_time": "2023-08-17T07:58:45.707Z"
   },
   {
    "duration": 21,
    "start_time": "2023-08-17T07:58:45.718Z"
   },
   {
    "duration": 26,
    "start_time": "2023-08-17T07:58:45.764Z"
   },
   {
    "duration": 21,
    "start_time": "2023-08-17T07:58:45.857Z"
   },
   {
    "duration": 17,
    "start_time": "2023-08-17T07:58:45.960Z"
   },
   {
    "duration": 96,
    "start_time": "2023-08-17T07:58:45.979Z"
   }
  ],
  "kernelspec": {
   "display_name": "Python 3 (ipykernel)",
   "language": "python",
   "name": "python3"
  },
  "language_info": {
   "codemirror_mode": {
    "name": "ipython",
    "version": 3
   },
   "file_extension": ".py",
   "mimetype": "text/x-python",
   "name": "python",
   "nbconvert_exporter": "python",
   "pygments_lexer": "ipython3",
   "version": "3.11.5"
  },
  "toc": {
   "base_numbering": 1,
   "nav_menu": {},
   "number_sections": true,
   "sideBar": true,
   "skip_h1_title": true,
   "title_cell": "Содержание",
   "title_sidebar": "Contents",
   "toc_cell": true,
   "toc_position": {},
   "toc_section_display": true,
   "toc_window_display": false
  }
 },
 "nbformat": 4,
 "nbformat_minor": 2
}
