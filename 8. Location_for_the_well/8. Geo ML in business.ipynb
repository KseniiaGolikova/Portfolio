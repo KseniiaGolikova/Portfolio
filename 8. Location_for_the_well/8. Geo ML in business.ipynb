{
 "cells": [
  {
   "cell_type": "markdown",
   "metadata": {},
   "source": [
    "# Выбор локации для скважины"
   ]
  },
  {
   "cell_type": "markdown",
   "metadata": {},
   "source": [
    "Добывающей компания «ГлавРосГосНефть» нужно решить, где бурить новую скважину.\n",
    "\n",
    "Нам предоставлены пробы нефти в трёх регионах: в каждом 10 000 месторождений, где измерили качество нефти и объём её запасов. Необходимо построить модель машинного обучения, которая поможет определить регион, где добыча принесёт наибольшую прибыль. Возможную прибыль и риски техникой будем анализировать техникой *Bootstrap.*\n",
    "\n",
    "От заказчика в качестве исходных данных получена информация о шагах выполянемых при выборе локации:\n",
    "\n",
    "- В избранном регионе ищут месторождения, для каждого определяют значения признаков;\n",
    "- Строят модель и оценивают объём запасов;\n",
    "- Выбирают месторождения с самым высокими оценками значений. Количество месторождений зависит от бюджета компании и стоимости разработки одной скважины;\n",
    "- Прибыль равна суммарной прибыли отобранных месторождений."
   ]
  },
  {
   "cell_type": "markdown",
   "metadata": {},
   "source": [
    "## Загрузка и подготовка данных"
   ]
  },
  {
   "cell_type": "code",
   "execution_count": 1,
   "metadata": {},
   "outputs": [],
   "source": [
    "import pandas as pd\n",
    "import scipy.stats as st\n",
    "from sklearn.linear_model import LinearRegression\n",
    "from sklearn.metrics import mean_squared_error\n",
    "from sklearn.model_selection import train_test_split\n",
    "import matplotlib.pyplot as plt\n",
    "import numpy as np"
   ]
  },
  {
   "cell_type": "markdown",
   "metadata": {},
   "source": [
    "<div class=\"alert alert-block alert-success\">\n",
    "<b>Успех:</b> Отлично, что все импорты собраны в первой ячейке ноутбука! Если у того, кто будет запускать твой ноутбук будут отсутствовать некоторые библиотеки, то он это увидит сразу, а не в процессе!\n",
    "</div>"
   ]
  },
  {
   "cell_type": "code",
   "execution_count": 2,
   "metadata": {},
   "outputs": [],
   "source": [
    "df0 = pd.read_csv('C:/Users/hk/Desktop/практика/датасеты/geo_data_0.csv')\n",
    "df1 = pd.read_csv('C:/Users/hk/Desktop/практика/датасеты/geo_data_1.csv')\n",
    "df2 = pd.read_csv('C:/Users/hk/Desktop/практика/датасеты/geo_data_2.csv')"
   ]
  },
  {
   "cell_type": "markdown",
   "metadata": {},
   "source": [
    "Напишем функцию для предоставления информации о датафреймах, проверки данных в них на пропуски, явные дубликаты, и построения гистограмм по каждому столбцу датафреймов"
   ]
  },
  {
   "cell_type": "code",
   "execution_count": 3,
   "metadata": {},
   "outputs": [],
   "source": [
    "def check(data):\n",
    "    display(data.head())\n",
    "    print(f'Размеры датафрейма: {data.shape}')\n",
    "    print('Количество пропусков:', data.isna().sum())\n",
    "    print('Количество явных дубликатов', data.duplicated().sum())\n",
    "    print('Распределение признаков')\n",
    "    data[['f0', 'f1', 'f2', 'product']].hist()\n",
    "    plt.show()"
   ]
  },
  {
   "cell_type": "code",
   "execution_count": 4,
   "metadata": {},
   "outputs": [
    {
     "data": {
      "text/html": [
       "<div>\n",
       "<style scoped>\n",
       "    .dataframe tbody tr th:only-of-type {\n",
       "        vertical-align: middle;\n",
       "    }\n",
       "\n",
       "    .dataframe tbody tr th {\n",
       "        vertical-align: top;\n",
       "    }\n",
       "\n",
       "    .dataframe thead th {\n",
       "        text-align: right;\n",
       "    }\n",
       "</style>\n",
       "<table border=\"1\" class=\"dataframe\">\n",
       "  <thead>\n",
       "    <tr style=\"text-align: right;\">\n",
       "      <th></th>\n",
       "      <th>id</th>\n",
       "      <th>f0</th>\n",
       "      <th>f1</th>\n",
       "      <th>f2</th>\n",
       "      <th>product</th>\n",
       "    </tr>\n",
       "  </thead>\n",
       "  <tbody>\n",
       "    <tr>\n",
       "      <th>0</th>\n",
       "      <td>txEyH</td>\n",
       "      <td>0.705745</td>\n",
       "      <td>-0.497823</td>\n",
       "      <td>1.221170</td>\n",
       "      <td>105.280062</td>\n",
       "    </tr>\n",
       "    <tr>\n",
       "      <th>1</th>\n",
       "      <td>2acmU</td>\n",
       "      <td>1.334711</td>\n",
       "      <td>-0.340164</td>\n",
       "      <td>4.365080</td>\n",
       "      <td>73.037750</td>\n",
       "    </tr>\n",
       "    <tr>\n",
       "      <th>2</th>\n",
       "      <td>409Wp</td>\n",
       "      <td>1.022732</td>\n",
       "      <td>0.151990</td>\n",
       "      <td>1.419926</td>\n",
       "      <td>85.265647</td>\n",
       "    </tr>\n",
       "    <tr>\n",
       "      <th>3</th>\n",
       "      <td>iJLyR</td>\n",
       "      <td>-0.032172</td>\n",
       "      <td>0.139033</td>\n",
       "      <td>2.978566</td>\n",
       "      <td>168.620776</td>\n",
       "    </tr>\n",
       "    <tr>\n",
       "      <th>4</th>\n",
       "      <td>Xdl7t</td>\n",
       "      <td>1.988431</td>\n",
       "      <td>0.155413</td>\n",
       "      <td>4.751769</td>\n",
       "      <td>154.036647</td>\n",
       "    </tr>\n",
       "  </tbody>\n",
       "</table>\n",
       "</div>"
      ],
      "text/plain": [
       "      id        f0        f1        f2     product\n",
       "0  txEyH  0.705745 -0.497823  1.221170  105.280062\n",
       "1  2acmU  1.334711 -0.340164  4.365080   73.037750\n",
       "2  409Wp  1.022732  0.151990  1.419926   85.265647\n",
       "3  iJLyR -0.032172  0.139033  2.978566  168.620776\n",
       "4  Xdl7t  1.988431  0.155413  4.751769  154.036647"
      ]
     },
     "metadata": {},
     "output_type": "display_data"
    },
    {
     "name": "stdout",
     "output_type": "stream",
     "text": [
      "Размеры датафрейма: (100000, 5)\n",
      "Количество пропусков: id         0\n",
      "f0         0\n",
      "f1         0\n",
      "f2         0\n",
      "product    0\n",
      "dtype: int64\n",
      "Количество явных дубликатов 0\n",
      "Распределение признаков\n"
     ]
    },
    {
     "data": {
      "image/png": "[encoded data removed]",
      "text/plain": [
       "<Figure size 640x480 with 4 Axes>"
      ]
     },
     "metadata": {},
     "output_type": "display_data"
    }
   ],
   "source": [
    "check(df0)"
   ]
  },
  {
   "cell_type": "code",
   "execution_count": 5,
   "metadata": {},
   "outputs": [
    {
     "data": {
      "text/html": [
       "<div>\n",
       "<style scoped>\n",
       "    .dataframe tbody tr th:only-of-type {\n",
       "        vertical-align: middle;\n",
       "    }\n",
       "\n",
       "    .dataframe tbody tr th {\n",
       "        vertical-align: top;\n",
       "    }\n",
       "\n",
       "    .dataframe thead th {\n",
       "        text-align: right;\n",
       "    }\n",
       "</style>\n",
       "<table border=\"1\" class=\"dataframe\">\n",
       "  <thead>\n",
       "    <tr style=\"text-align: right;\">\n",
       "      <th></th>\n",
       "      <th>id</th>\n",
       "      <th>f0</th>\n",
       "      <th>f1</th>\n",
       "      <th>f2</th>\n",
       "      <th>product</th>\n",
       "    </tr>\n",
       "  </thead>\n",
       "  <tbody>\n",
       "    <tr>\n",
       "      <th>0</th>\n",
       "      <td>kBEdx</td>\n",
       "      <td>-15.001348</td>\n",
       "      <td>-8.276000</td>\n",
       "      <td>-0.005876</td>\n",
       "      <td>3.179103</td>\n",
       "    </tr>\n",
       "    <tr>\n",
       "      <th>1</th>\n",
       "      <td>62mP7</td>\n",
       "      <td>14.272088</td>\n",
       "      <td>-3.475083</td>\n",
       "      <td>0.999183</td>\n",
       "      <td>26.953261</td>\n",
       "    </tr>\n",
       "    <tr>\n",
       "      <th>2</th>\n",
       "      <td>vyE1P</td>\n",
       "      <td>6.263187</td>\n",
       "      <td>-5.948386</td>\n",
       "      <td>5.001160</td>\n",
       "      <td>134.766305</td>\n",
       "    </tr>\n",
       "    <tr>\n",
       "      <th>3</th>\n",
       "      <td>KcrkZ</td>\n",
       "      <td>-13.081196</td>\n",
       "      <td>-11.506057</td>\n",
       "      <td>4.999415</td>\n",
       "      <td>137.945408</td>\n",
       "    </tr>\n",
       "    <tr>\n",
       "      <th>4</th>\n",
       "      <td>AHL4O</td>\n",
       "      <td>12.702195</td>\n",
       "      <td>-8.147433</td>\n",
       "      <td>5.004363</td>\n",
       "      <td>134.766305</td>\n",
       "    </tr>\n",
       "  </tbody>\n",
       "</table>\n",
       "</div>"
      ],
      "text/plain": [
       "      id         f0         f1        f2     product\n",
       "0  kBEdx -15.001348  -8.276000 -0.005876    3.179103\n",
       "1  62mP7  14.272088  -3.475083  0.999183   26.953261\n",
       "2  vyE1P   6.263187  -5.948386  5.001160  134.766305\n",
       "3  KcrkZ -13.081196 -11.506057  4.999415  137.945408\n",
       "4  AHL4O  12.702195  -8.147433  5.004363  134.766305"
      ]
     },
     "metadata": {},
     "output_type": "display_data"
    },
    {
     "name": "stdout",
     "output_type": "stream",
     "text": [
      "Размеры датафрейма: (100000, 5)\n",
      "Количество пропусков: id         0\n",
      "f0         0\n",
      "f1         0\n",
      "f2         0\n",
      "product    0\n",
      "dtype: int64\n",
      "Количество явных дубликатов 0\n",
      "Распределение признаков\n"
     ]
    },
    {
     "data": {
      "image/png": "[encoded data removed]",
      "text/plain": [
       "<Figure size 640x480 with 4 Axes>"
      ]
     },
     "metadata": {},
     "output_type": "display_data"
    }
   ],
   "source": [
    "check(df1)"
   ]
  },
  {
   "cell_type": "code",
   "execution_count": 6,
   "metadata": {},
   "outputs": [
    {
     "data": {
      "text/html": [
       "<div>\n",
       "<style scoped>\n",
       "    .dataframe tbody tr th:only-of-type {\n",
       "        vertical-align: middle;\n",
       "    }\n",
       "\n",
       "    .dataframe tbody tr th {\n",
       "        vertical-align: top;\n",
       "    }\n",
       "\n",
       "    .dataframe thead th {\n",
       "        text-align: right;\n",
       "    }\n",
       "</style>\n",
       "<table border=\"1\" class=\"dataframe\">\n",
       "  <thead>\n",
       "    <tr style=\"text-align: right;\">\n",
       "      <th></th>\n",
       "      <th>id</th>\n",
       "      <th>f0</th>\n",
       "      <th>f1</th>\n",
       "      <th>f2</th>\n",
       "      <th>product</th>\n",
       "    </tr>\n",
       "  </thead>\n",
       "  <tbody>\n",
       "    <tr>\n",
       "      <th>0</th>\n",
       "      <td>fwXo0</td>\n",
       "      <td>-1.146987</td>\n",
       "      <td>0.963328</td>\n",
       "      <td>-0.828965</td>\n",
       "      <td>27.758673</td>\n",
       "    </tr>\n",
       "    <tr>\n",
       "      <th>1</th>\n",
       "      <td>WJtFt</td>\n",
       "      <td>0.262778</td>\n",
       "      <td>0.269839</td>\n",
       "      <td>-2.530187</td>\n",
       "      <td>56.069697</td>\n",
       "    </tr>\n",
       "    <tr>\n",
       "      <th>2</th>\n",
       "      <td>ovLUW</td>\n",
       "      <td>0.194587</td>\n",
       "      <td>0.289035</td>\n",
       "      <td>-5.586433</td>\n",
       "      <td>62.871910</td>\n",
       "    </tr>\n",
       "    <tr>\n",
       "      <th>3</th>\n",
       "      <td>q6cA6</td>\n",
       "      <td>2.236060</td>\n",
       "      <td>-0.553760</td>\n",
       "      <td>0.930038</td>\n",
       "      <td>114.572842</td>\n",
       "    </tr>\n",
       "    <tr>\n",
       "      <th>4</th>\n",
       "      <td>WPMUX</td>\n",
       "      <td>-0.515993</td>\n",
       "      <td>1.716266</td>\n",
       "      <td>5.899011</td>\n",
       "      <td>149.600746</td>\n",
       "    </tr>\n",
       "  </tbody>\n",
       "</table>\n",
       "</div>"
      ],
      "text/plain": [
       "      id        f0        f1        f2     product\n",
       "0  fwXo0 -1.146987  0.963328 -0.828965   27.758673\n",
       "1  WJtFt  0.262778  0.269839 -2.530187   56.069697\n",
       "2  ovLUW  0.194587  0.289035 -5.586433   62.871910\n",
       "3  q6cA6  2.236060 -0.553760  0.930038  114.572842\n",
       "4  WPMUX -0.515993  1.716266  5.899011  149.600746"
      ]
     },
     "metadata": {},
     "output_type": "display_data"
    },
    {
     "name": "stdout",
     "output_type": "stream",
     "text": [
      "Размеры датафрейма: (100000, 5)\n",
      "Количество пропусков: id         0\n",
      "f0         0\n",
      "f1         0\n",
      "f2         0\n",
      "product    0\n",
      "dtype: int64\n",
      "Количество явных дубликатов 0\n",
      "Распределение признаков\n"
     ]
    },
    {
     "data": {
      "image/png": "[encoded data removed]",
      "text/plain": [
       "<Figure size 640x480 with 4 Axes>"
      ]
     },
     "metadata": {},
     "output_type": "display_data"
    }
   ],
   "source": [
    "check(df2)"
   ]
  },
  {
   "cell_type": "markdown",
   "metadata": {},
   "source": [
    "Так как столбец с номерами ID не имеет значимости для обучения модели, удалим этот столбец иих всех датафреймов"
   ]
  },
  {
   "cell_type": "code",
   "execution_count": 7,
   "metadata": {},
   "outputs": [],
   "source": [
    "df0 = df0.drop(['id'], axis=1)\n",
    "df1 = df1.drop(['id'], axis=1)\n",
    "df2 = df2.drop(['id'], axis=1)"
   ]
  },
  {
   "cell_type": "code",
   "execution_count": 8,
   "metadata": {},
   "outputs": [
    {
     "data": {
      "text/html": [
       "<div>\n",
       "<style scoped>\n",
       "    .dataframe tbody tr th:only-of-type {\n",
       "        vertical-align: middle;\n",
       "    }\n",
       "\n",
       "    .dataframe tbody tr th {\n",
       "        vertical-align: top;\n",
       "    }\n",
       "\n",
       "    .dataframe thead th {\n",
       "        text-align: right;\n",
       "    }\n",
       "</style>\n",
       "<table border=\"1\" class=\"dataframe\">\n",
       "  <thead>\n",
       "    <tr style=\"text-align: right;\">\n",
       "      <th></th>\n",
       "      <th>f0</th>\n",
       "      <th>f1</th>\n",
       "      <th>f2</th>\n",
       "      <th>product</th>\n",
       "    </tr>\n",
       "  </thead>\n",
       "  <tbody>\n",
       "    <tr>\n",
       "      <th>0</th>\n",
       "      <td>0.705745</td>\n",
       "      <td>-0.497823</td>\n",
       "      <td>1.221170</td>\n",
       "      <td>105.280062</td>\n",
       "    </tr>\n",
       "    <tr>\n",
       "      <th>1</th>\n",
       "      <td>1.334711</td>\n",
       "      <td>-0.340164</td>\n",
       "      <td>4.365080</td>\n",
       "      <td>73.037750</td>\n",
       "    </tr>\n",
       "    <tr>\n",
       "      <th>2</th>\n",
       "      <td>1.022732</td>\n",
       "      <td>0.151990</td>\n",
       "      <td>1.419926</td>\n",
       "      <td>85.265647</td>\n",
       "    </tr>\n",
       "    <tr>\n",
       "      <th>3</th>\n",
       "      <td>-0.032172</td>\n",
       "      <td>0.139033</td>\n",
       "      <td>2.978566</td>\n",
       "      <td>168.620776</td>\n",
       "    </tr>\n",
       "    <tr>\n",
       "      <th>4</th>\n",
       "      <td>1.988431</td>\n",
       "      <td>0.155413</td>\n",
       "      <td>4.751769</td>\n",
       "      <td>154.036647</td>\n",
       "    </tr>\n",
       "  </tbody>\n",
       "</table>\n",
       "</div>"
      ],
      "text/plain": [
       "         f0        f1        f2     product\n",
       "0  0.705745 -0.497823  1.221170  105.280062\n",
       "1  1.334711 -0.340164  4.365080   73.037750\n",
       "2  1.022732  0.151990  1.419926   85.265647\n",
       "3 -0.032172  0.139033  2.978566  168.620776\n",
       "4  1.988431  0.155413  4.751769  154.036647"
      ]
     },
     "execution_count": 8,
     "metadata": {},
     "output_type": "execute_result"
    }
   ],
   "source": [
    "df0.head()"
   ]
  },
  {
   "cell_type": "markdown",
   "metadata": {},
   "source": [
    "По результатам предварительного анализа, можно сказать, что во всех регионах признаками являются данные, находящиеся в столбцах:\n",
    "- `f0`\n",
    "- `f1`\n",
    "- `f2`\n",
    "\n",
    "Целевым признаком, являются данные, находящиеся в столбце `product`.\n",
    "Из полученных гистограмм видно, что в 1 и 3 регионах данные в столбце с целевым признаком распределены почти нормально, что нельзя сказать о целевом признаке второго региона. Посмотрим подробнее на данные в этом столбце."
   ]
  },
  {
   "cell_type": "markdown",
   "metadata": {},
   "source": [
    "Напишем функцию, которая определяет количество нулевых значений в столбце с целевым признаком"
   ]
  },
  {
   "cell_type": "code",
   "execution_count": 9,
   "metadata": {},
   "outputs": [],
   "source": [
    "def check_zeroes(data, name):\n",
    "    zeroes = data[data[name] == 0][name].count()\n",
    "    persent = zeroes / len(data)\n",
    "    print('Количество нулевых значений:', zeroes)\n",
    "    print('Доля нулевых значений:', persent)"
   ]
  },
  {
   "cell_type": "code",
   "execution_count": 10,
   "metadata": {},
   "outputs": [
    {
     "name": "stdout",
     "output_type": "stream",
     "text": [
      "Количество нулевых значений: 1\n",
      "Доля нулевых значений: 1e-05\n"
     ]
    }
   ],
   "source": [
    "check_zeroes(df0, 'product')"
   ]
  },
  {
   "cell_type": "code",
   "execution_count": 11,
   "metadata": {},
   "outputs": [
    {
     "name": "stdout",
     "output_type": "stream",
     "text": [
      "Количество нулевых значений: 8235\n",
      "Доля нулевых значений: 0.08235\n"
     ]
    }
   ],
   "source": [
    "check_zeroes(df1, 'product')"
   ]
  },
  {
   "cell_type": "code",
   "execution_count": 12,
   "metadata": {},
   "outputs": [
    {
     "name": "stdout",
     "output_type": "stream",
     "text": [
      "Количество нулевых значений: 1\n",
      "Доля нулевых значений: 1e-05\n"
     ]
    }
   ],
   "source": [
    "check_zeroes(df2, 'product')"
   ]
  },
  {
   "cell_type": "markdown",
   "metadata": {},
   "source": [
    "**Вывод по разделу 1**\n",
    "\n",
    "На входе у нас данные геологоразведки трех регионов, находящиеся в трех файлах. После выгрузки и анализа данных установлено, что в данных нет пропусков и дубликатов, признаки в регионах 1 и 3 распределены нормально. Однако в признаках региона 2 обнаружено 8,2% нулевых значений, что может говорить об утерянности данных или отсутствию исследований по признаку `f2`.\n",
    "\n",
    "Для обучения модели будем считать признаками данные, находящиеся в столбцах `f0`, `f1`, `f2`, а целевым признаком данные в столбце `product`."
   ]
  },
  {
   "cell_type": "markdown",
   "metadata": {},
   "source": [
    "## Обучение и проверка модели"
   ]
  },
  {
   "cell_type": "markdown",
   "metadata": {},
   "source": [
    "Напишем функцию для разбивки данных на тренировочную и валидационную выборки, обучение модели линейной регрессии, подсчета среднего запаса предсказанного сырья и RMSE модели"
   ]
  },
  {
   "cell_type": "code",
   "execution_count": 13,
   "metadata": {},
   "outputs": [],
   "source": [
    "model = LinearRegression()\n",
    "\n",
    "def learning(data, target):\n",
    "    features = data.drop([target], axis=1)\n",
    "    target = data[target]\n",
    "    \n",
    "    features_train, features_valid, target_train, target_valid = train_test_split(\n",
    "    features, target, test_size=0.25, random_state=12345)\n",
    "    \n",
    "    model.fit(features_train, target_train)\n",
    "    predictions_valid = model.predict(features_valid)\n",
    "    dataframe = {'real_product' : target_valid,\n",
    "                'prediction_product' : predictions_valid}\n",
    "    data_frame = pd.DataFrame(dataframe, columns=['real_product', 'prediction_product'])\n",
    "   \n",
    "    \n",
    "    rmse = mean_squared_error(target_valid, predictions_valid)**0.5\n",
    "    mean = data_frame['prediction_product'].mean()\n",
    "    summa = data_frame['prediction_product'].sum()\n",
    "    \n",
    "    return data_frame, rmse, mean, summa "
   ]
  },
  {
   "cell_type": "markdown",
   "metadata": {},
   "source": [
    "### Обучение модели, расчет RMSE и среднего запас предсказанного сырья для 1 региона"
   ]
  },
  {
   "cell_type": "code",
   "execution_count": 14,
   "metadata": {},
   "outputs": [
    {
     "data": {
      "text/html": [
       "<div>\n",
       "<style scoped>\n",
       "    .dataframe tbody tr th:only-of-type {\n",
       "        vertical-align: middle;\n",
       "    }\n",
       "\n",
       "    .dataframe tbody tr th {\n",
       "        vertical-align: top;\n",
       "    }\n",
       "\n",
       "    .dataframe thead th {\n",
       "        text-align: right;\n",
       "    }\n",
       "</style>\n",
       "<table border=\"1\" class=\"dataframe\">\n",
       "  <thead>\n",
       "    <tr style=\"text-align: right;\">\n",
       "      <th></th>\n",
       "      <th>real_product</th>\n",
       "      <th>prediction_product</th>\n",
       "    </tr>\n",
       "  </thead>\n",
       "  <tbody>\n",
       "    <tr>\n",
       "      <th>71751</th>\n",
       "      <td>10.038645</td>\n",
       "      <td>95.894952</td>\n",
       "    </tr>\n",
       "    <tr>\n",
       "      <th>80493</th>\n",
       "      <td>114.551489</td>\n",
       "      <td>77.572583</td>\n",
       "    </tr>\n",
       "    <tr>\n",
       "      <th>2655</th>\n",
       "      <td>132.603635</td>\n",
       "      <td>77.892640</td>\n",
       "    </tr>\n",
       "    <tr>\n",
       "      <th>53233</th>\n",
       "      <td>169.072125</td>\n",
       "      <td>90.175134</td>\n",
       "    </tr>\n",
       "    <tr>\n",
       "      <th>91141</th>\n",
       "      <td>122.325180</td>\n",
       "      <td>70.510088</td>\n",
       "    </tr>\n",
       "  </tbody>\n",
       "</table>\n",
       "</div>"
      ],
      "text/plain": [
       "       real_product  prediction_product\n",
       "71751     10.038645           95.894952\n",
       "80493    114.551489           77.572583\n",
       "2655     132.603635           77.892640\n",
       "53233    169.072125           90.175134\n",
       "91141    122.325180           70.510088"
      ]
     },
     "metadata": {},
     "output_type": "display_data"
    },
    {
     "name": "stdout",
     "output_type": "stream",
     "text": [
      "Значение RMSE для 1 региона: 37.5794217150813\n",
      "Средний запас предсказанного сырья: 92.59256778438035\n"
     ]
    }
   ],
   "source": [
    "df0_predicted, df0_rmse, df0_mean, df0_sum = learning(df0, 'product')\n",
    "display(df0_predicted.head())\n",
    "print('Значение RMSE для 1 региона:', df0_rmse)\n",
    "print('Средний запас предсказанного сырья:', df0_mean)"
   ]
  },
  {
   "cell_type": "code",
   "execution_count": 15,
   "metadata": {},
   "outputs": [],
   "source": [
    "predictions_0 = df0_predicted['prediction_product']\n",
    "target_0 = df0_predicted['real_product'] #сохраняем предсказания и правильные ответы для 1 региона"
   ]
  },
  {
   "cell_type": "markdown",
   "metadata": {},
   "source": [
    "### Обучение модели, расчет RMSE и среднего запас предсказанного сырья для 2 региона"
   ]
  },
  {
   "cell_type": "code",
   "execution_count": 16,
   "metadata": {},
   "outputs": [
    {
     "data": {
      "text/html": [
       "<div>\n",
       "<style scoped>\n",
       "    .dataframe tbody tr th:only-of-type {\n",
       "        vertical-align: middle;\n",
       "    }\n",
       "\n",
       "    .dataframe tbody tr th {\n",
       "        vertical-align: top;\n",
       "    }\n",
       "\n",
       "    .dataframe thead th {\n",
       "        text-align: right;\n",
       "    }\n",
       "</style>\n",
       "<table border=\"1\" class=\"dataframe\">\n",
       "  <thead>\n",
       "    <tr style=\"text-align: right;\">\n",
       "      <th></th>\n",
       "      <th>real_product</th>\n",
       "      <th>prediction_product</th>\n",
       "    </tr>\n",
       "  </thead>\n",
       "  <tbody>\n",
       "    <tr>\n",
       "      <th>71751</th>\n",
       "      <td>80.859783</td>\n",
       "      <td>82.663314</td>\n",
       "    </tr>\n",
       "    <tr>\n",
       "      <th>80493</th>\n",
       "      <td>53.906522</td>\n",
       "      <td>54.431786</td>\n",
       "    </tr>\n",
       "    <tr>\n",
       "      <th>2655</th>\n",
       "      <td>30.132364</td>\n",
       "      <td>29.748760</td>\n",
       "    </tr>\n",
       "    <tr>\n",
       "      <th>53233</th>\n",
       "      <td>53.906522</td>\n",
       "      <td>53.552133</td>\n",
       "    </tr>\n",
       "    <tr>\n",
       "      <th>91141</th>\n",
       "      <td>0.000000</td>\n",
       "      <td>1.243856</td>\n",
       "    </tr>\n",
       "  </tbody>\n",
       "</table>\n",
       "</div>"
      ],
      "text/plain": [
       "       real_product  prediction_product\n",
       "71751     80.859783           82.663314\n",
       "80493     53.906522           54.431786\n",
       "2655      30.132364           29.748760\n",
       "53233     53.906522           53.552133\n",
       "91141      0.000000            1.243856"
      ]
     },
     "metadata": {},
     "output_type": "display_data"
    },
    {
     "name": "stdout",
     "output_type": "stream",
     "text": [
      "Значение RMSE для 1 региона: 0.8930992867756168\n",
      "Средний запас предсказанного сырья: 68.72854689544602\n"
     ]
    }
   ],
   "source": [
    "df1_predicted, df1_rmse, df1_mean, df1_sum = learning(df1, 'product')\n",
    "display(df1_predicted.head())\n",
    "print('Значение RMSE для 1 региона:', df1_rmse)\n",
    "print('Средний запас предсказанного сырья:', df1_mean)"
   ]
  },
  {
   "cell_type": "code",
   "execution_count": 17,
   "metadata": {},
   "outputs": [],
   "source": [
    "predictions_1 = df1_predicted['prediction_product']\n",
    "target_1 = df1_predicted['real_product'] #сохраняем предсказания и правильные ответы для 2 региона"
   ]
  },
  {
   "cell_type": "markdown",
   "metadata": {},
   "source": [
    "### Обучение модели, расчет RMSE и среднего запас предсказанного сырья для 3 региона"
   ]
  },
  {
   "cell_type": "code",
   "execution_count": 18,
   "metadata": {},
   "outputs": [
    {
     "data": {
      "text/html": [
       "<div>\n",
       "<style scoped>\n",
       "    .dataframe tbody tr th:only-of-type {\n",
       "        vertical-align: middle;\n",
       "    }\n",
       "\n",
       "    .dataframe tbody tr th {\n",
       "        vertical-align: top;\n",
       "    }\n",
       "\n",
       "    .dataframe thead th {\n",
       "        text-align: right;\n",
       "    }\n",
       "</style>\n",
       "<table border=\"1\" class=\"dataframe\">\n",
       "  <thead>\n",
       "    <tr style=\"text-align: right;\">\n",
       "      <th></th>\n",
       "      <th>real_product</th>\n",
       "      <th>prediction_product</th>\n",
       "    </tr>\n",
       "  </thead>\n",
       "  <tbody>\n",
       "    <tr>\n",
       "      <th>71751</th>\n",
       "      <td>61.212375</td>\n",
       "      <td>93.599633</td>\n",
       "    </tr>\n",
       "    <tr>\n",
       "      <th>80493</th>\n",
       "      <td>41.850118</td>\n",
       "      <td>75.105159</td>\n",
       "    </tr>\n",
       "    <tr>\n",
       "      <th>2655</th>\n",
       "      <td>57.776581</td>\n",
       "      <td>90.066809</td>\n",
       "    </tr>\n",
       "    <tr>\n",
       "      <th>53233</th>\n",
       "      <td>100.053761</td>\n",
       "      <td>105.162375</td>\n",
       "    </tr>\n",
       "    <tr>\n",
       "      <th>91141</th>\n",
       "      <td>109.897122</td>\n",
       "      <td>115.303310</td>\n",
       "    </tr>\n",
       "  </tbody>\n",
       "</table>\n",
       "</div>"
      ],
      "text/plain": [
       "       real_product  prediction_product\n",
       "71751     61.212375           93.599633\n",
       "80493     41.850118           75.105159\n",
       "2655      57.776581           90.066809\n",
       "53233    100.053761          105.162375\n",
       "91141    109.897122          115.303310"
      ]
     },
     "metadata": {},
     "output_type": "display_data"
    },
    {
     "name": "stdout",
     "output_type": "stream",
     "text": [
      "Значение RMSE для 1 региона: 40.02970873393434\n",
      "Средний запас предсказанного сырья: 94.96504596800489\n"
     ]
    }
   ],
   "source": [
    "df2_predicted, df2_rmse, df2_mean, df2_sum = learning(df2, 'product')\n",
    "display(df2_predicted.head())\n",
    "print('Значение RMSE для 1 региона:', df2_rmse)\n",
    "print('Средний запас предсказанного сырья:', df2_mean)"
   ]
  },
  {
   "cell_type": "code",
   "execution_count": 19,
   "metadata": {},
   "outputs": [],
   "source": [
    "predictions_2 = df2_predicted['prediction_product']\n",
    "target_2 = df2_predicted['real_product'] #сохраняем предсказания и правильные ответы для 3 региона"
   ]
  },
  {
   "cell_type": "markdown",
   "metadata": {},
   "source": [
    "### Оценка суммарного запаса по регионам по предсказанным данным"
   ]
  },
  {
   "cell_type": "code",
   "execution_count": 20,
   "metadata": {},
   "outputs": [
    {
     "name": "stdout",
     "output_type": "stream",
     "text": [
      "Суммарный предсказанный запас в 1 регионе: 2314814.194609509\n",
      "Суммарный реальный запас в 1 регионе: 2301964.918520732\n",
      "\n",
      "Суммарный предсказанный запас в 2 регионе: 1718213.6723861503\n",
      "Суммарный реальный запас в 2 регионе: 1718078.4006089992\n",
      "\n",
      "Суммарный предсказанный запас в 3 регионе: 2374126.1492001223\n",
      "Суммарный реальный запас в в 3 регионе: 2372105.8202213594\n"
     ]
    }
   ],
   "source": [
    "print('Суммарный предсказанный запас в 1 регионе:', df0_sum)\n",
    "print('Суммарный реальный запас в 1 регионе:', df0_predicted['real_product'].sum())\n",
    "print()\n",
    "print('Суммарный предсказанный запас в 2 регионе:', df1_sum)\n",
    "print('Суммарный реальный запас в 2 регионе:', df1_predicted['real_product'].sum())\n",
    "print()\n",
    "print('Суммарный предсказанный запас в 3 регионе:', df2_sum)\n",
    "print('Суммарный реальный запас в в 3 регионе:', df2_predicted['real_product'].sum())"
   ]
  },
  {
   "cell_type": "markdown",
   "metadata": {},
   "source": [
    "**Вывод по разделу 2** \n",
    "\n",
    "Для трех исследуемых регионов с помощью функции выполнили следующие действия:\n",
    "\n",
    "- разделили данные на тренировочную и валидационную выборки в соотношении 75:25;\n",
    "- обучили модель линейной регрессии и сформировали предсказания на валидационной выборке;\n",
    "- сохранили предсказания и правильные ответы в отдельный переменных `predictons_0`, `target_0`, `predictons_1`, `target_1`, `predictons_2`, `target_2` соответственно;\n",
    "- рассчитали и вывели на экран значения RMSE и средний запас предсказанного сырья модели для каждого региона.\n",
    "\n",
    "По результатам выполненных действий, получили что значения RMSE, а также средний запас предсказанного сырья для 1 и 3 региона примерно одинаковые и составляют:\n",
    "\n",
    "- `RMSE_0 = 37.57`, `mean_0 = 92.59`\n",
    "- `RMSE_2 = 40.02`, `mean_2 = 94.96`\n",
    "\n",
    "В отличие от второго региона, где полученно: `RMSE_1 = 0.89`, `mean_2 = 68.72`. Можно сказать, что модель для второго региона предсказывает лучше всех, так как значение RMSE минимальное, но это может быть так же обусловлено тем, что из-за приличного количества нулевых значений в признаке `f2` модель могла переобучиться."
   ]
  },
  {
   "cell_type": "markdown",
   "metadata": {},
   "source": [
    "## Подготовка к расчёту прибыли"
   ]
  },
  {
   "cell_type": "markdown",
   "metadata": {},
   "source": [
    "Все ключевые значения для расчётов сохраним в отдельных переменных"
   ]
  },
  {
   "cell_type": "code",
   "execution_count": 21,
   "metadata": {},
   "outputs": [],
   "source": [
    "BUDGET = 1e+07 #так как мы будем расчитывать прибыль в тысячах рублей, миллиард сохраним таким образом\n",
    "COMMON_POINTS = 500\n",
    "BEST_POINTS = 200\n",
    "BARREL_PRICE = 450"
   ]
  },
  {
   "cell_type": "markdown",
   "metadata": {},
   "source": [
    "Расчитаем достаточный объём сырья для безубыточной разработки новой скважины"
   ]
  },
  {
   "cell_type": "code",
   "execution_count": 22,
   "metadata": {},
   "outputs": [
    {
     "name": "stdout",
     "output_type": "stream",
     "text": [
      "Средняя прибыль на лучшую точку: 50000.0 тыс.руб.\n",
      "Средний объем нефти на точку: 111.11111111111111 тыс. барелей\n",
      "Средний объем нефти на регион: 22222.222222222223 тыс. барелей\n"
     ]
    }
   ],
   "source": [
    "average_profit_per_point = BUDGET / BEST_POINTS\n",
    "print('Средняя прибыль на лучшую точку:', average_profit_per_point, 'тыс.руб.')\n",
    "\n",
    "average_barrels_per_point = average_profit_per_point  / BARREL_PRICE\n",
    "print('Средний объем нефти на точку:', average_barrels_per_point, 'тыс. барелей')\n",
    "\n",
    "average_barrels = BUDGET / BARREL_PRICE\n",
    "print('Средний объем нефти на регион:',average_barrels, 'тыс. барелей')"
   ]
  },
  {
   "cell_type": "markdown",
   "metadata": {},
   "source": [
    "Отобразим средний запас фактическией на скважину по каждому региону"
   ]
  },
  {
   "cell_type": "code",
   "execution_count": 23,
   "metadata": {},
   "outputs": [
    {
     "name": "stdout",
     "output_type": "stream",
     "text": [
      "Средний запас фактичекой нефти на скважину в регионе 1: 92.50000000000001\n",
      "Средний запас фактичекой нефти на скважину в регионе 2: 68.82500000000002\n",
      "Средний запас фактичекой нефти на скважину в регионе 3: 95.00000000000004\n"
     ]
    }
   ],
   "source": [
    "print('Средний запас фактичекой нефти на скважину в регионе 1:', df0['product'].mean())\n",
    "print('Средний запас фактичекой нефти на скважину в регионе 2:', df1['product'].mean())\n",
    "print('Средний запас фактичекой нефти на скважину в регионе 3:', df2['product'].mean())"
   ]
  },
  {
   "cell_type": "markdown",
   "metadata": {},
   "source": [
    "**Вывод по разделу 3**\n",
    "\n",
    "В данном разделе была подготовлена средняя оценка прибыли за одну скважину и средний объем на одну скважину. \n",
    "Анализ полученных значений показал следующее:\n",
    "\n",
    "- для первого региона модель предсказала средний запас сырья равный = 92.59, что близко к реальному 92.5\n",
    "- для второго региона модель предсказала средний запас сырья равный = 68.72, что так же близко к реальному в 68.82\n",
    "- аналогичная ситуация и для третьего региона, где запас предсказанный = 94.96, практически соответствует реальному 95.00.\n",
    "\n",
    "Так как по полученным значениям о среднем значении нефти на точку для безубыточной разработки скважин необходим средний объем нефти на скважину равный 111 тыс.барелей, наиболее близкие к этому значения имеют регионы 1 и 3. Во втором регионе это значение сильно меньше, но опять же, это может быть вызвано нулевыми значениями в призанке `f2`, который по возможности нужно уточнить."
   ]
  },
  {
   "cell_type": "markdown",
   "metadata": {},
   "source": [
    "## Расчёт прибыли и рисков "
   ]
  },
  {
   "cell_type": "markdown",
   "metadata": {},
   "source": [
    "Напишем функцию для расчета прибыли"
   ]
  },
  {
   "cell_type": "code",
   "execution_count": 24,
   "metadata": {},
   "outputs": [],
   "source": [
    "def profit_calculation(target, probabilities, count):\n",
    "    probs_sorted = probabilities.sort_values(ascending=False)\n",
    "    selected = target[probs_sorted.index][:count]\n",
    "    return BARREL_PRICE * selected.sum() - BUDGET"
   ]
  },
  {
   "cell_type": "code",
   "execution_count": 25,
   "metadata": {},
   "outputs": [],
   "source": [
    "state = np.random.RandomState(12345)"
   ]
  },
  {
   "cell_type": "code",
   "execution_count": 26,
   "metadata": {},
   "outputs": [],
   "source": [
    "def bootstrap(target, probabilities):\n",
    "    values=[]\n",
    "    for i in range(1000):\n",
    "        target_subsample = target.sample(n=COMMON_POINTS, replace=True, random_state=state)\n",
    "        probs_subsample = probabilities[target_subsample.index]\n",
    "        profit = profit_calculation(target, probs_subsample, BEST_POINTS)\n",
    "        values.append(profit)\n",
    "    values = pd.Series(values)\n",
    "    lower = values.quantile(0.025)\n",
    "    upper = values.quantile(0.975)\n",
    "    average = values.mean()\n",
    "    risk = (values < 0).mean()\n",
    "    \n",
    "    return average, lower, upper, risk"
   ]
  },
  {
   "cell_type": "code",
   "execution_count": 27,
   "metadata": {},
   "outputs": [
    {
     "name": "stdout",
     "output_type": "stream",
     "text": [
      "Данные по ПЕРВОМУ региону.\n",
      "Средняя прибыль по региону = 396164.98 тыс.руб.\n",
      "95% доверительный интервал от -111215.55 до 909766.94 тыс.руб.\n",
      "Процент риска 6.90%\n"
     ]
    }
   ],
   "source": [
    "average_0, lower_0, upper_0, risk_0 = bootstrap(target_0, predictions_0)\n",
    "print('Данные по ПЕРВОМУ региону.')\n",
    "print('Средняя прибыль по региону = {:.2f} тыс.руб.'.format(average_0))\n",
    "print('95% доверительный интервал от {:.2f} до {:.2f} тыс.руб.'.format(lower_0, upper_0))\n",
    "print('Процент риска {:.2%}'.format(risk_0))"
   ]
  },
  {
   "cell_type": "code",
   "execution_count": 28,
   "metadata": {},
   "outputs": [
    {
     "name": "stdout",
     "output_type": "stream",
     "text": [
      "Данные по ВТОРОМУ региону.\n",
      "Средняя прибыль по региону = 461155.82 тыс.руб.\n",
      "95% доверительный интервал от 78050.81 до 862952.06 тыс.руб.\n",
      "Процент риска 0.70%\n"
     ]
    }
   ],
   "source": [
    "average_1, lower_1, upper_1, risk_1 = bootstrap(target_1, predictions_1)\n",
    "print('Данные по ВТОРОМУ региону.')\n",
    "print('Средняя прибыль по региону = {:.2f} тыс.руб.'.format(average_1))\n",
    "print('95% доверительный интервал от {:.2f} до {:.2f} тыс.руб.'.format(lower_1, upper_1))\n",
    "print('Процент риска {:.2%}'.format(risk_1))"
   ]
  },
  {
   "cell_type": "code",
   "execution_count": 29,
   "metadata": {
    "scrolled": true
   },
   "outputs": [
    {
     "name": "stdout",
     "output_type": "stream",
     "text": [
      "Данные по ПЕРВОМУ региону.\n",
      "Средняя прибыль по региону = 392950.48 тыс.руб.\n",
      "95% доверительный интервал от -112227.63 до 934562.91 тыс.руб.\n",
      "Процент риска 6.50%\n"
     ]
    }
   ],
   "source": [
    "average_2, lower_2, upper_2, risk_2 = bootstrap(target_2, predictions_2)\n",
    "print('Данные по ПЕРВОМУ региону.')\n",
    "print('Средняя прибыль по региону = {:.2f} тыс.руб.'.format(average_2))\n",
    "print('95% доверительный интервал от {:.2f} до {:.2f} тыс.руб.'.format(lower_2, upper_2))\n",
    "print('Процент риска {:.2%}'.format(risk_2))"
   ]
  },
  {
   "cell_type": "markdown",
   "metadata": {},
   "source": [
    "## Итоговый вывод\n",
    "\n",
    "Нашей задачей являлось на основе данных геологоразведки трёх регионов с помощью машинного обучения модели линейной регрессии определить регион, где добыча принесёт наибольшую прибыль.\n",
    "\n",
    "На 1 певром этапе провдена \n",
    "Для **региона 1** на вход получен датафрейм с размерами (10000, 5), в котором признаки `f0`, `f1`, `f2`, а также целевой признак `product` распределены близко к нормальному.\n",
    "Для **региона 2** на вход получен датафрейм с размерами (10000, 5), в котором признаки `f0`, `f1` распределены близко к нормальному, а в столбце из-за нулевых значений (8,2% от всех значений в данном признаке) распределение отличается от нормального, как и  целевой признак `product`.\n",
    "Для **региона 3** на вход получен датафрейм с размерами (10000, 5), в котором признаки `f0`, `f1`, `f2`, а также целевой признак `product` распределены близко к нормальному.\n",
    "\n",
    "Для всех датафреймов была проведена проверка на наличие пропусков и явных дубликатов. Ни того ни другого не обнаружено. \n",
    "Так же на этапе предобработки из данных обо всех регионах были удалены столбцы с указанием ID, так как  для обучения моделей они не нужны.\n",
    "\n",
    "На втором этапе была написана функция для разделения датафреймов на обучающие и валидационные выборки в соотношении 75:25, обученения модели линейной регрессии и получения предсказаний по валидационной выборке. Для всех регионов в отдельных переменных сохранены предсказания и правильные ответы, полученные на валидационной выборке. Расчитаны значения RMSE и  средний запас предсказанного сырья, получены следующие значения:\n",
    "\n",
    "- **регион 1** `RMSE_0 = 37.57`, `mean_0 = 92.59`\n",
    "- **регион 2** `RMSE_1 = 0.89`, `mean_1 = 68.72`\n",
    "- **регион 3** `RMSE_2 = 40.02`, `mean_2 = 94.96`\n",
    "\n",
    "Можно сказать, что модель для **региона 2** предсказывает лучше всех, так как значение RMSE минимальное, но это может быть так же обусловлено тем, что из-за приличного количества нулевых значений в признаке `f2` модель могла переобучиться.\n",
    "\n",
    "На третьем этапе были подготовлены данные для расчета прибыли. Все ключевые значения о количестве исследуемых точек, бюджете на разработку, доходов на 1 баррель сохранены в отдельных переменных. Расчитан достаточный объем сырья для безубыточной разработки новой скважины, который составляет 111 тыс. барелей. Для **региона 1** и **региона 3** средние предсказанные значения получились близкие к этом (92,59 и 94,96), что нельзя сказать о **регионе 2** (68,72). \n",
    "\n",
    "На четвертом этапе написана функция для расчёта прибыли по выбранным скважинам и предсказаниям модели. \n",
    "\n",
    "На пятом этапе на основе написанной функции с помощью метода Bootstrap  расчитаны риски и прибыль, а также определен доверительный интервал. Получены следующие значения:\n",
    "\n",
    "1) для **региона 1**:\n",
    "\n",
    "- прибыль составляет 396164.98 тыс.руб.;\n",
    "- доверительный интервал -111215.55 до 909766.94 тыс.руб.;\n",
    "- процент риска - 6.90%\n",
    "\n",
    "2) для **региона 2**:\n",
    "\n",
    "- прибыль составляет 461155.82 тыс.руб.;\n",
    "- доверительный интервал 78050.81 до 862952.06 тыс.руб.;\n",
    "- процент риска - 0.70%\n",
    "\n",
    "3) для **региона 3**:\n",
    "\n",
    "- прибыль составляет 392950.48 тыс.руб.;\n",
    "- доверительный интервал -112227.63 до 934562.91 тыс.руб;\n",
    "- процент риска - 6.50%\n",
    "\n",
    "С учетом полученных значений прибыли, доверительного интервала и процента рисков, рекомендую выбрать **регион 2** для бурения новых скважин, так как прибыль больше, а процент рисков меньше, по сравнению с двумя другими регионами. Однако для большей уверенности необходимо выяснить причины наличия нулевых значений в признаках описывающих **регион 2** и в случае обновления данных повторить обучение модели уже с новыми данными. "
   ]
  }
 ],
 "metadata": {
  "ExecuteTimeLog": [
   {
    "duration": 2141,
    "start_time": "2023-07-17T07:42:06.659Z"
   },
   {
    "duration": 2985,
    "start_time": "2023-07-17T07:44:29.474Z"
   },
   {
    "duration": 3,
    "start_time": "2023-07-17T07:55:07.771Z"
   },
   {
    "duration": 88,
    "start_time": "2023-07-17T07:55:19.889Z"
   },
   {
    "duration": 68,
    "start_time": "2023-07-17T07:56:00.098Z"
   },
   {
    "duration": 66,
    "start_time": "2023-07-17T07:56:16.855Z"
   },
   {
    "duration": 5,
    "start_time": "2023-07-17T07:58:51.472Z"
   },
   {
    "duration": 446,
    "start_time": "2023-07-17T07:58:52.456Z"
   },
   {
    "duration": 476,
    "start_time": "2023-07-17T07:59:03.206Z"
   },
   {
    "duration": 551,
    "start_time": "2023-07-17T07:59:08.469Z"
   },
   {
    "duration": 4,
    "start_time": "2023-07-17T08:13:23.007Z"
   },
   {
    "duration": 432,
    "start_time": "2023-07-17T08:13:24.966Z"
   },
   {
    "duration": 472,
    "start_time": "2023-07-17T08:13:29.271Z"
   },
   {
    "duration": 441,
    "start_time": "2023-07-17T08:13:34.946Z"
   },
   {
    "duration": 499,
    "start_time": "2023-07-17T08:41:13.968Z"
   },
   {
    "duration": 11,
    "start_time": "2023-07-17T08:41:16.313Z"
   },
   {
    "duration": 488,
    "start_time": "2023-07-17T08:41:20.999Z"
   },
   {
    "duration": 523,
    "start_time": "2023-07-17T08:41:25.376Z"
   },
   {
    "duration": 601,
    "start_time": "2023-07-17T08:41:31.751Z"
   },
   {
    "duration": 13,
    "start_time": "2023-07-17T08:42:28.755Z"
   },
   {
    "duration": 11,
    "start_time": "2023-07-17T08:43:04.548Z"
   },
   {
    "duration": 5,
    "start_time": "2023-07-17T08:43:49.786Z"
   },
   {
    "duration": 454,
    "start_time": "2023-07-17T08:43:51.570Z"
   },
   {
    "duration": 4,
    "start_time": "2023-07-17T08:44:13.300Z"
   },
   {
    "duration": 423,
    "start_time": "2023-07-17T08:44:14.043Z"
   },
   {
    "duration": 6,
    "start_time": "2023-07-17T08:44:21.411Z"
   },
   {
    "duration": 401,
    "start_time": "2023-07-17T08:44:22.459Z"
   },
   {
    "duration": 7,
    "start_time": "2023-07-17T08:44:24.434Z"
   },
   {
    "duration": 485,
    "start_time": "2023-07-17T08:44:25.566Z"
   },
   {
    "duration": 469,
    "start_time": "2023-07-17T08:44:31.083Z"
   },
   {
    "duration": 589,
    "start_time": "2023-07-17T08:44:35.091Z"
   },
   {
    "duration": 15,
    "start_time": "2023-07-17T08:44:42.548Z"
   },
   {
    "duration": 9,
    "start_time": "2023-07-17T08:44:44.876Z"
   },
   {
    "duration": 4,
    "start_time": "2023-07-17T09:22:40.392Z"
   },
   {
    "duration": 10,
    "start_time": "2023-07-17T09:23:06.408Z"
   },
   {
    "duration": 4,
    "start_time": "2023-07-17T09:23:19.145Z"
   },
   {
    "duration": 6,
    "start_time": "2023-07-17T09:23:19.947Z"
   },
   {
    "duration": 7,
    "start_time": "2023-07-17T09:23:38.281Z"
   },
   {
    "duration": 8,
    "start_time": "2023-07-17T09:24:10.506Z"
   },
   {
    "duration": 5,
    "start_time": "2023-07-17T09:50:11.993Z"
   },
   {
    "duration": 8,
    "start_time": "2023-07-17T09:51:24.370Z"
   },
   {
    "duration": 8,
    "start_time": "2023-07-17T09:51:38.707Z"
   },
   {
    "duration": 6,
    "start_time": "2023-07-17T09:51:46.555Z"
   },
   {
    "duration": 10,
    "start_time": "2023-07-17T09:52:08.535Z"
   },
   {
    "duration": 8,
    "start_time": "2023-07-17T09:52:20.571Z"
   },
   {
    "duration": 10,
    "start_time": "2023-07-17T12:42:02.312Z"
   },
   {
    "duration": 127,
    "start_time": "2023-07-17T12:43:50.952Z"
   },
   {
    "duration": 4,
    "start_time": "2023-07-17T12:44:01.480Z"
   },
   {
    "duration": 18,
    "start_time": "2023-07-17T12:44:03.468Z"
   },
   {
    "duration": 18,
    "start_time": "2023-07-17T12:44:09.735Z"
   },
   {
    "duration": 13,
    "start_time": "2023-07-17T12:44:26.962Z"
   },
   {
    "duration": 13,
    "start_time": "2023-07-17T12:44:42.667Z"
   },
   {
    "duration": 14,
    "start_time": "2023-07-17T12:48:32.352Z"
   },
   {
    "duration": 7,
    "start_time": "2023-07-17T13:01:00.351Z"
   },
   {
    "duration": 235,
    "start_time": "2023-07-17T13:04:23.593Z"
   },
   {
    "duration": 5,
    "start_time": "2023-07-17T13:06:42.666Z"
   },
   {
    "duration": 140,
    "start_time": "2023-07-17T13:06:45.478Z"
   },
   {
    "duration": 208,
    "start_time": "2023-07-17T13:07:37.510Z"
   },
   {
    "duration": 34,
    "start_time": "2023-07-17T13:10:08.288Z"
   },
   {
    "duration": 33,
    "start_time": "2023-07-17T13:10:27.784Z"
   },
   {
    "duration": 78,
    "start_time": "2023-07-17T13:11:38.443Z"
   },
   {
    "duration": 8,
    "start_time": "2023-07-17T13:16:10.456Z"
   },
   {
    "duration": 4,
    "start_time": "2023-07-17T14:13:06.891Z"
   },
   {
    "duration": 5,
    "start_time": "2023-07-17T14:14:45.596Z"
   },
   {
    "duration": 7,
    "start_time": "2023-07-17T14:17:42.852Z"
   },
   {
    "duration": 7,
    "start_time": "2023-07-17T14:17:53.182Z"
   },
   {
    "duration": 4,
    "start_time": "2023-07-17T14:30:11.113Z"
   },
   {
    "duration": 11,
    "start_time": "2023-07-17T14:31:43.652Z"
   },
   {
    "duration": 11,
    "start_time": "2023-07-17T14:32:10.056Z"
   },
   {
    "duration": 17,
    "start_time": "2023-07-17T14:33:26.391Z"
   },
   {
    "duration": 13,
    "start_time": "2023-07-17T14:35:12.985Z"
   },
   {
    "duration": 3,
    "start_time": "2023-07-17T14:35:57.089Z"
   },
   {
    "duration": 1769,
    "start_time": "2023-07-18T06:57:01.552Z"
   },
   {
    "duration": 791,
    "start_time": "2023-07-18T06:57:03.324Z"
   },
   {
    "duration": 4,
    "start_time": "2023-07-18T06:57:04.116Z"
   },
   {
    "duration": 479,
    "start_time": "2023-07-18T06:57:04.122Z"
   },
   {
    "duration": 468,
    "start_time": "2023-07-18T06:57:04.605Z"
   },
   {
    "duration": 558,
    "start_time": "2023-07-18T06:57:05.075Z"
   },
   {
    "duration": 19,
    "start_time": "2023-07-18T06:57:05.635Z"
   },
   {
    "duration": 32,
    "start_time": "2023-07-18T06:57:05.656Z"
   },
   {
    "duration": 41,
    "start_time": "2023-07-18T06:57:05.691Z"
   },
   {
    "duration": 72,
    "start_time": "2023-07-18T06:57:05.733Z"
   },
   {
    "duration": 21,
    "start_time": "2023-07-18T06:57:05.807Z"
   },
   {
    "duration": 13,
    "start_time": "2023-07-18T06:57:05.831Z"
   },
   {
    "duration": 43,
    "start_time": "2023-07-18T06:57:05.846Z"
   },
   {
    "duration": 272,
    "start_time": "2023-07-18T06:57:05.892Z"
   },
   {
    "duration": 186,
    "start_time": "2023-07-18T06:57:06.167Z"
   },
   {
    "duration": 203,
    "start_time": "2023-07-18T06:57:06.355Z"
   },
   {
    "duration": 119,
    "start_time": "2023-07-18T06:57:06.561Z"
   },
   {
    "duration": 176,
    "start_time": "2023-07-18T06:57:06.682Z"
   },
   {
    "duration": 15,
    "start_time": "2023-07-18T06:57:06.860Z"
   },
   {
    "duration": 27,
    "start_time": "2023-07-18T06:57:06.876Z"
   },
   {
    "duration": 6,
    "start_time": "2023-07-18T06:57:06.904Z"
   },
   {
    "duration": 327,
    "start_time": "2023-07-18T06:59:20.908Z"
   },
   {
    "duration": 5,
    "start_time": "2023-07-18T07:00:10.510Z"
   },
   {
    "duration": 45,
    "start_time": "2023-07-18T07:00:12.517Z"
   },
   {
    "duration": 5,
    "start_time": "2023-07-18T07:00:28.013Z"
   },
   {
    "duration": 127,
    "start_time": "2023-07-18T07:00:29.629Z"
   },
   {
    "duration": 5,
    "start_time": "2023-07-18T07:01:19.302Z"
   },
   {
    "duration": 3,
    "start_time": "2023-07-18T07:04:42.515Z"
   },
   {
    "duration": 3,
    "start_time": "2023-07-18T07:05:43.620Z"
   },
   {
    "duration": 2,
    "start_time": "2023-07-18T07:06:11.466Z"
   },
   {
    "duration": 3,
    "start_time": "2023-07-18T07:08:47.711Z"
   },
   {
    "duration": 4,
    "start_time": "2023-07-18T07:54:13.110Z"
   },
   {
    "duration": 3,
    "start_time": "2023-07-18T07:56:06.392Z"
   },
   {
    "duration": 5,
    "start_time": "2023-07-18T08:08:32.890Z"
   },
   {
    "duration": 11,
    "start_time": "2023-07-18T08:09:48.056Z"
   },
   {
    "duration": 15,
    "start_time": "2023-07-18T08:10:00.111Z"
   },
   {
    "duration": 15,
    "start_time": "2023-07-18T08:10:30.048Z"
   },
   {
    "duration": 15,
    "start_time": "2023-07-18T08:10:34.532Z"
   },
   {
    "duration": 5,
    "start_time": "2023-07-18T08:10:36.257Z"
   },
   {
    "duration": 1136,
    "start_time": "2023-07-18T08:10:37.992Z"
   },
   {
    "duration": 923,
    "start_time": "2023-07-18T08:11:39.498Z"
   },
   {
    "duration": 942,
    "start_time": "2023-07-18T08:12:22.251Z"
   },
   {
    "duration": 4,
    "start_time": "2023-07-18T10:03:49.738Z"
   },
   {
    "duration": 3,
    "start_time": "2023-07-18T10:03:51.607Z"
   },
   {
    "duration": 5,
    "start_time": "2023-07-18T10:03:53.599Z"
   },
   {
    "duration": 909,
    "start_time": "2023-07-18T10:03:55.635Z"
   },
   {
    "duration": 947,
    "start_time": "2023-07-18T10:03:59.664Z"
   },
   {
    "duration": 946,
    "start_time": "2023-07-18T10:04:02.270Z"
   },
   {
    "duration": 1561,
    "start_time": "2023-07-18T13:37:22.808Z"
   },
   {
    "duration": 459,
    "start_time": "2023-07-18T13:37:24.373Z"
   },
   {
    "duration": 3,
    "start_time": "2023-07-18T13:37:24.834Z"
   },
   {
    "duration": 497,
    "start_time": "2023-07-18T13:37:24.839Z"
   },
   {
    "duration": 497,
    "start_time": "2023-07-18T13:37:25.339Z"
   },
   {
    "duration": 501,
    "start_time": "2023-07-18T13:37:25.838Z"
   },
   {
    "duration": 51,
    "start_time": "2023-07-18T13:37:26.341Z"
   },
   {
    "duration": 18,
    "start_time": "2023-07-18T13:37:26.394Z"
   },
   {
    "duration": 13,
    "start_time": "2023-07-18T13:37:26.414Z"
   },
   {
    "duration": 28,
    "start_time": "2023-07-18T13:37:26.429Z"
   },
   {
    "duration": 28,
    "start_time": "2023-07-18T13:37:26.470Z"
   },
   {
    "duration": 22,
    "start_time": "2023-07-18T13:37:26.501Z"
   },
   {
    "duration": 120,
    "start_time": "2023-07-18T13:37:26.525Z"
   },
   {
    "duration": 138,
    "start_time": "2023-07-18T13:37:26.655Z"
   },
   {
    "duration": 12,
    "start_time": "2023-07-18T13:37:26.853Z"
   },
   {
    "duration": 126,
    "start_time": "2023-07-18T13:37:26.867Z"
   },
   {
    "duration": 62,
    "start_time": "2023-07-18T13:37:27.003Z"
   },
   {
    "duration": 110,
    "start_time": "2023-07-18T13:37:27.067Z"
   },
   {
    "duration": 8,
    "start_time": "2023-07-18T13:37:27.180Z"
   },
   {
    "duration": 63,
    "start_time": "2023-07-18T13:37:27.253Z"
   },
   {
    "duration": 26,
    "start_time": "2023-07-18T13:37:27.318Z"
   },
   {
    "duration": 65,
    "start_time": "2023-07-18T13:37:27.347Z"
   },
   {
    "duration": 20,
    "start_time": "2023-07-18T13:37:27.414Z"
   },
   {
    "duration": 5,
    "start_time": "2023-07-18T13:37:27.436Z"
   },
   {
    "duration": 53,
    "start_time": "2023-07-18T13:37:27.443Z"
   },
   {
    "duration": 19,
    "start_time": "2023-07-18T13:37:27.498Z"
   },
   {
    "duration": 1147,
    "start_time": "2023-07-18T13:37:27.519Z"
   },
   {
    "duration": 1127,
    "start_time": "2023-07-18T13:37:28.673Z"
   },
   {
    "duration": 1072,
    "start_time": "2023-07-18T13:37:29.803Z"
   },
   {
    "duration": 112,
    "start_time": "2023-07-18T14:04:13.268Z"
   },
   {
    "duration": 3,
    "start_time": "2023-07-18T14:04:17.939Z"
   },
   {
    "duration": 4,
    "start_time": "2023-07-18T14:04:22.130Z"
   },
   {
    "duration": 394,
    "start_time": "2023-07-18T14:04:22.136Z"
   },
   {
    "duration": 5,
    "start_time": "2023-07-18T14:04:22.532Z"
   },
   {
    "duration": 399,
    "start_time": "2023-07-18T14:04:22.551Z"
   },
   {
    "duration": 392,
    "start_time": "2023-07-18T14:04:22.953Z"
   },
   {
    "duration": 386,
    "start_time": "2023-07-18T14:04:23.347Z"
   },
   {
    "duration": 19,
    "start_time": "2023-07-18T14:04:23.735Z"
   },
   {
    "duration": 13,
    "start_time": "2023-07-18T14:04:23.755Z"
   },
   {
    "duration": 6,
    "start_time": "2023-07-18T14:04:23.770Z"
   },
   {
    "duration": 18,
    "start_time": "2023-07-18T14:04:23.778Z"
   },
   {
    "duration": 8,
    "start_time": "2023-07-18T14:04:23.798Z"
   },
   {
    "duration": 10,
    "start_time": "2023-07-18T14:04:23.807Z"
   },
   {
    "duration": 5,
    "start_time": "2023-07-18T14:04:23.819Z"
   },
   {
    "duration": 125,
    "start_time": "2023-07-18T14:04:23.827Z"
   },
   {
    "duration": 5,
    "start_time": "2023-07-18T14:04:23.953Z"
   },
   {
    "duration": 196,
    "start_time": "2023-07-18T14:04:23.959Z"
   },
   {
    "duration": 92,
    "start_time": "2023-07-18T14:04:24.160Z"
   },
   {
    "duration": 101,
    "start_time": "2023-07-18T14:04:24.254Z"
   },
   {
    "duration": 92,
    "start_time": "2023-07-18T14:04:24.360Z"
   },
   {
    "duration": 14,
    "start_time": "2023-07-18T14:04:24.454Z"
   },
   {
    "duration": 11,
    "start_time": "2023-07-18T14:04:24.470Z"
   },
   {
    "duration": 10,
    "start_time": "2023-07-18T14:04:24.483Z"
   },
   {
    "duration": 16,
    "start_time": "2023-07-18T14:04:24.495Z"
   },
   {
    "duration": 24,
    "start_time": "2023-07-18T14:04:24.512Z"
   },
   {
    "duration": 46,
    "start_time": "2023-07-18T14:04:24.538Z"
   },
   {
    "duration": 17,
    "start_time": "2023-07-18T14:04:24.586Z"
   },
   {
    "duration": 918,
    "start_time": "2023-07-18T14:04:24.605Z"
   },
   {
    "duration": 922,
    "start_time": "2023-07-18T14:04:25.525Z"
   },
   {
    "duration": 903,
    "start_time": "2023-07-18T14:04:26.451Z"
   },
   {
    "duration": 3,
    "start_time": "2023-07-18T14:05:02.399Z"
   },
   {
    "duration": 4,
    "start_time": "2023-07-18T14:05:05.416Z"
   },
   {
    "duration": 5,
    "start_time": "2023-07-18T14:05:56.905Z"
   },
   {
    "duration": 973,
    "start_time": "2023-07-18T14:06:05.185Z"
   },
   {
    "duration": 5,
    "start_time": "2023-07-18T14:08:56.820Z"
   },
   {
    "duration": 5,
    "start_time": "2023-07-18T14:09:58.556Z"
   },
   {
    "duration": 946,
    "start_time": "2023-07-18T14:10:04.068Z"
   },
   {
    "duration": 1028,
    "start_time": "2023-07-18T14:10:20.477Z"
   },
   {
    "duration": 1006,
    "start_time": "2023-07-18T14:10:24.430Z"
   },
   {
    "duration": 1471,
    "start_time": "2023-07-18T14:15:12.499Z"
   },
   {
    "duration": 397,
    "start_time": "2023-07-18T14:15:13.972Z"
   },
   {
    "duration": 5,
    "start_time": "2023-07-18T14:15:14.371Z"
   },
   {
    "duration": 471,
    "start_time": "2023-07-18T14:15:14.378Z"
   },
   {
    "duration": 535,
    "start_time": "2023-07-18T14:15:14.853Z"
   },
   {
    "duration": 469,
    "start_time": "2023-07-18T14:15:15.392Z"
   },
   {
    "duration": 17,
    "start_time": "2023-07-18T14:15:15.863Z"
   },
   {
    "duration": 22,
    "start_time": "2023-07-18T14:15:15.883Z"
   },
   {
    "duration": 14,
    "start_time": "2023-07-18T14:15:15.907Z"
   },
   {
    "duration": 32,
    "start_time": "2023-07-18T14:15:15.923Z"
   },
   {
    "duration": 22,
    "start_time": "2023-07-18T14:15:15.957Z"
   },
   {
    "duration": 25,
    "start_time": "2023-07-18T14:15:15.981Z"
   },
   {
    "duration": 110,
    "start_time": "2023-07-18T14:15:16.008Z"
   },
   {
    "duration": 135,
    "start_time": "2023-07-18T14:15:16.122Z"
   },
   {
    "duration": 4,
    "start_time": "2023-07-18T14:15:16.259Z"
   },
   {
    "duration": 194,
    "start_time": "2023-07-18T14:15:16.264Z"
   },
   {
    "duration": 93,
    "start_time": "2023-07-18T14:15:16.460Z"
   },
   {
    "duration": 107,
    "start_time": "2023-07-18T14:15:16.555Z"
   },
   {
    "duration": 89,
    "start_time": "2023-07-18T14:15:16.663Z"
   },
   {
    "duration": 21,
    "start_time": "2023-07-18T14:15:16.755Z"
   },
   {
    "duration": 11,
    "start_time": "2023-07-18T14:15:16.778Z"
   },
   {
    "duration": 13,
    "start_time": "2023-07-18T14:15:16.791Z"
   },
   {
    "duration": 13,
    "start_time": "2023-07-18T14:15:16.805Z"
   },
   {
    "duration": 13,
    "start_time": "2023-07-18T14:15:16.820Z"
   },
   {
    "duration": 26,
    "start_time": "2023-07-18T14:15:16.835Z"
   },
   {
    "duration": 7,
    "start_time": "2023-07-18T14:15:16.863Z"
   },
   {
    "duration": 5,
    "start_time": "2023-07-18T14:15:16.872Z"
   },
   {
    "duration": 981,
    "start_time": "2023-07-18T14:15:16.879Z"
   },
   {
    "duration": 972,
    "start_time": "2023-07-18T14:15:17.862Z"
   },
   {
    "duration": 1067,
    "start_time": "2023-07-18T14:15:18.836Z"
   },
   {
    "duration": 3,
    "start_time": "2023-07-18T14:17:14.779Z"
   },
   {
    "duration": 1623,
    "start_time": "2023-07-18T14:17:23.205Z"
   },
   {
    "duration": 391,
    "start_time": "2023-07-18T14:17:24.830Z"
   },
   {
    "duration": 4,
    "start_time": "2023-07-18T14:17:25.223Z"
   },
   {
    "duration": 543,
    "start_time": "2023-07-18T14:17:25.228Z"
   },
   {
    "duration": 533,
    "start_time": "2023-07-18T14:17:25.774Z"
   },
   {
    "duration": 466,
    "start_time": "2023-07-18T14:17:26.309Z"
   },
   {
    "duration": 109,
    "start_time": "2023-07-18T14:17:26.777Z"
   },
   {
    "duration": 36,
    "start_time": "2023-07-18T14:17:26.888Z"
   },
   {
    "duration": 45,
    "start_time": "2023-07-18T14:17:26.926Z"
   },
   {
    "duration": 45,
    "start_time": "2023-07-18T14:17:26.973Z"
   },
   {
    "duration": 34,
    "start_time": "2023-07-18T14:17:27.020Z"
   },
   {
    "duration": 29,
    "start_time": "2023-07-18T14:17:27.057Z"
   },
   {
    "duration": 119,
    "start_time": "2023-07-18T14:17:27.088Z"
   },
   {
    "duration": 159,
    "start_time": "2023-07-18T14:17:27.211Z"
   },
   {
    "duration": 82,
    "start_time": "2023-07-18T14:17:27.371Z"
   },
   {
    "duration": 400,
    "start_time": "2023-07-18T14:17:27.455Z"
   },
   {
    "duration": 111,
    "start_time": "2023-07-18T14:17:27.857Z"
   },
   {
    "duration": 197,
    "start_time": "2023-07-18T14:17:27.971Z"
   },
   {
    "duration": 117,
    "start_time": "2023-07-18T14:17:28.170Z"
   },
   {
    "duration": 146,
    "start_time": "2023-07-18T14:17:28.290Z"
   },
   {
    "duration": 51,
    "start_time": "2023-07-18T14:17:28.439Z"
   },
   {
    "duration": 52,
    "start_time": "2023-07-18T14:17:28.492Z"
   },
   {
    "duration": 111,
    "start_time": "2023-07-18T14:17:28.546Z"
   },
   {
    "duration": 37,
    "start_time": "2023-07-18T14:17:28.659Z"
   },
   {
    "duration": 32,
    "start_time": "2023-07-18T14:17:28.698Z"
   },
   {
    "duration": 45,
    "start_time": "2023-07-18T14:17:28.732Z"
   },
   {
    "duration": 20,
    "start_time": "2023-07-18T14:17:28.779Z"
   },
   {
    "duration": 1036,
    "start_time": "2023-07-18T14:17:28.801Z"
   },
   {
    "duration": 1010,
    "start_time": "2023-07-18T14:17:29.839Z"
   },
   {
    "duration": 959,
    "start_time": "2023-07-18T14:17:30.852Z"
   }
  ],
  "kernelspec": {
   "display_name": "Python 3 (ipykernel)",
   "language": "python",
   "name": "python3"
  },
  "language_info": {
   "codemirror_mode": {
    "name": "ipython",
    "version": 3
   },
   "file_extension": ".py",
   "mimetype": "text/x-python",
   "name": "python",
   "nbconvert_exporter": "python",
   "pygments_lexer": "ipython3",
   "version": "3.11.5"
  },
  "toc": {
   "base_numbering": 1,
   "nav_menu": {},
   "number_sections": true,
   "sideBar": true,
   "skip_h1_title": true,
   "title_cell": "Table of Contents",
   "title_sidebar": "Contents",
   "toc_cell": false,
   "toc_position": {},
   "toc_section_display": true,
   "toc_window_display": false
  }
 },
 "nbformat": 4,
 "nbformat_minor": 2
}
