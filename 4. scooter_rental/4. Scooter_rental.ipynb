{
 "cells": [
  {
   "cell_type": "markdown",
   "id": "a36654b7",
   "metadata": {
    "toc": true
   },
   "source": [
    "<h1>Содержание<span class=\"tocSkip\"></span></h1>\n",
    "<div class=\"toc\"><ul class=\"toc-item\"><li><span><a href=\"#Шаг-1.-Загрузка-данных\" data-toc-modified-id=\"Шаг-1.-Загрузка-данных-1\"><span class=\"toc-item-num\">1&nbsp;&nbsp;</span>Шаг 1. Загрузка данных</a></span><ul class=\"toc-item\"><li><span><a href=\"#Считывание-CSV-файлов-с-помощью-библиотеки-Pandas-и-сохранение-их-в-датафреймы\" data-toc-modified-id=\"Считывание-CSV-файлов-с-помощью-библиотеки-Pandas-и-сохранение-их-в-датафреймы-1.1\"><span class=\"toc-item-num\">1.1&nbsp;&nbsp;</span>Считывание CSV-файлов с помощью библиотеки Pandas и сохранение их в датафреймы</a></span></li><li><span><a href=\"#Вывод-первых-строк-всех-датафреймов-и-вывод-сводной-информации-о-них\" data-toc-modified-id=\"Вывод-первых-строк-всех-датафреймов-и-вывод-сводной-информации-о-них-1.2\"><span class=\"toc-item-num\">1.2&nbsp;&nbsp;</span>Вывод первых строк всех датафреймов и вывод сводной информации о них</a></span></li></ul></li><li><span><a href=\"#Шаг-2.-Предобработка-данных\" data-toc-modified-id=\"Шаг-2.-Предобработка-данных-2\"><span class=\"toc-item-num\">2&nbsp;&nbsp;</span>Шаг 2. Предобработка данных</a></span><ul class=\"toc-item\"><li><span><a href=\"#Преобразование-типов-данных\" data-toc-modified-id=\"Преобразование-типов-данных-2.1\"><span class=\"toc-item-num\">2.1&nbsp;&nbsp;</span>Преобразование типов данных</a></span></li><li><span><a href=\"#Добавление-новых-столбцов\" data-toc-modified-id=\"Добавление-новых-столбцов-2.2\"><span class=\"toc-item-num\">2.2&nbsp;&nbsp;</span>Добавление новых столбцов</a></span></li><li><span><a href=\"#Проверка-на-пропуски-и-дубликаты\" data-toc-modified-id=\"Проверка-на-пропуски-и-дубликаты-2.3\"><span class=\"toc-item-num\">2.3&nbsp;&nbsp;</span>Проверка на пропуски и дубликаты</a></span></li></ul></li><li><span><a href=\"#Шаг-3.-Исследовательский-анализ-данных\" data-toc-modified-id=\"Шаг-3.-Исследовательский-анализ-данных-3\"><span class=\"toc-item-num\">3&nbsp;&nbsp;</span>Шаг 3. Исследовательский анализ данных</a></span><ul class=\"toc-item\"><li><span><a href=\"#Описание-частоты-встречаемости-города\" data-toc-modified-id=\"Описание-частоты-встречаемости-города-3.1\"><span class=\"toc-item-num\">3.1&nbsp;&nbsp;</span>Описание частоты встречаемости города</a></span></li><li><span><a href=\"#Описание-соотношения-пользователей-с-подпиской-и-без\" data-toc-modified-id=\"Описание-соотношения-пользователей-с-подпиской-и-без-3.2\"><span class=\"toc-item-num\">3.2&nbsp;&nbsp;</span>Описание соотношения пользователей с подпиской и без</a></span></li><li><span><a href=\"#Описание-возраста-пользователей\" data-toc-modified-id=\"Описание-возраста-пользователей-3.3\"><span class=\"toc-item-num\">3.3&nbsp;&nbsp;</span>Описание возраста пользователей</a></span></li><li><span><a href=\"#Расстояние,-которое-пользователь-преодолел-за-одну-поездку\" data-toc-modified-id=\"Расстояние,-которое-пользователь-преодолел-за-одну-поездку-3.4\"><span class=\"toc-item-num\">3.4&nbsp;&nbsp;</span>Расстояние, которое пользователь преодолел за одну поездку</a></span></li><li><span><a href=\"#Продолжительность-поездок\" data-toc-modified-id=\"Продолжительность-поездок-3.5\"><span class=\"toc-item-num\">3.5&nbsp;&nbsp;</span>Продолжительность поездок</a></span></li></ul></li><li><span><a href=\"#Шаг-4.-Объединение-данных\" data-toc-modified-id=\"Шаг-4.-Объединение-данных-4\"><span class=\"toc-item-num\">4&nbsp;&nbsp;</span>Шаг 4. Объединение данных</a></span><ul class=\"toc-item\"><li><span><a href=\"#Объединение-датафрймов-с-помощью-метода-merge()\" data-toc-modified-id=\"Объединение-датафрймов-с-помощью-метода-merge()-4.1\"><span class=\"toc-item-num\">4.1&nbsp;&nbsp;</span>Объединение датафрймов с помощью метода merge()</a></span></li><li><span><a href=\"#Создание-двух-дополнительных-датафреймов\" data-toc-modified-id=\"Создание-двух-дополнительных-датафреймов-4.2\"><span class=\"toc-item-num\">4.2&nbsp;&nbsp;</span>Создание двух дополнительных датафреймов</a></span></li><li><span><a href=\"#Визуализация-информации-о-расстоянии-и-времени-поездки\" data-toc-modified-id=\"Визуализация-информации-о-расстоянии-и-времени-поездки-4.3\"><span class=\"toc-item-num\">4.3&nbsp;&nbsp;</span>Визуализация информации о расстоянии и времени поездки</a></span></li></ul></li><li><span><a href=\"#Шаг-5.-Подсчёт-выручки\" data-toc-modified-id=\"Шаг-5.-Подсчёт-выручки-5\"><span class=\"toc-item-num\">5&nbsp;&nbsp;</span>Шаг 5. Подсчёт выручки</a></span><ul class=\"toc-item\"><li><span><a href=\"#Создание-датафрейма-с-агрегированными-данными-по-каждому-пользователю\" data-toc-modified-id=\"Создание-датафрейма-с-агрегированными-данными-по-каждому-пользователю-5.1\"><span class=\"toc-item-num\">5.1&nbsp;&nbsp;</span>Создание датафрейма с агрегированными данными по каждому пользователю</a></span></li></ul></li><li><span><a href=\"#Шаг-6.-Проверка-гипотез\" data-toc-modified-id=\"Шаг-6.-Проверка-гипотез-6\"><span class=\"toc-item-num\">6&nbsp;&nbsp;</span>Шаг 6. Проверка гипотез</a></span><ul class=\"toc-item\"><li><span><a href=\"#Гипотезы-о-времени-поездки\" data-toc-modified-id=\"Гипотезы-о-времени-поездки-6.1\"><span class=\"toc-item-num\">6.1&nbsp;&nbsp;</span>Гипотезы о времени поездки</a></span></li><li><span><a href=\"#Гипотеза-о-пройденном-расстоянии\" data-toc-modified-id=\"Гипотеза-о-пройденном-расстоянии-6.2\"><span class=\"toc-item-num\">6.2&nbsp;&nbsp;</span>Гипотеза о пройденном расстоянии</a></span></li><li><span><a href=\"#Гипотеза-о-выручке\" data-toc-modified-id=\"Гипотеза-о-выручке-6.3\"><span class=\"toc-item-num\">6.3&nbsp;&nbsp;</span>Гипотеза о выручке</a></span></li><li><span><a href=\"#Представьте-такую-ситуацию:-техническая-команда-сервиса-обновила-сервера,-с-которыми-взаимодействует-мобильное-приложение.-Она-надеется,-что-из-за-этого-количество-обращений-в-техподдержку-значимо-снизилось.-Некоторый-файл-содержит-для-каждого-пользователя-данные-о-количестве-обращений-до-обновления-и-после-него.-Какой-тест-вам-понадобился-бы-для-проверки-этой-гипотезы?\" data-toc-modified-id=\"Представьте-такую-ситуацию:-техническая-команда-сервиса-обновила-сервера,-с-которыми-взаимодействует-мобильное-приложение.-Она-надеется,-что-из-за-этого-количество-обращений-в-техподдержку-значимо-снизилось.-Некоторый-файл-содержит-для-каждого-пользователя-данные-о-количестве-обращений-до-обновления-и-после-него.-Какой-тест-вам-понадобился-бы-для-проверки-этой-гипотезы?-6.4\"><span class=\"toc-item-num\">6.4&nbsp;&nbsp;</span>Представьте такую ситуацию: техническая команда сервиса обновила сервера, с которыми взаимодействует мобильное приложение. Она надеется, что из-за этого количество обращений в техподдержку значимо снизилось. Некоторый файл содержит для каждого пользователя данные о количестве обращений до обновления и после него. Какой тест вам понадобился бы для проверки этой гипотезы?</a></span></li></ul></li><li><span><a href=\"#Шаг-7.-Распределения\" data-toc-modified-id=\"Шаг-7.-Распределения-7\"><span class=\"toc-item-num\">7&nbsp;&nbsp;</span>Шаг 7. Распределения</a></span></li></ul></div>"
   ]
  },
  {
   "cell_type": "markdown",
   "id": "c65a060f",
   "metadata": {},
   "source": [
    "# Аналитика популярного сервиса аренды самокатов GoFast"
   ]
  },
  {
   "cell_type": "markdown",
   "id": "60db462f",
   "metadata": {},
   "source": [
    "У нас есть данные о некоторых пользователях из нескольких городов, а также об их поездках. Нужно проанализировать данные и проверить некоторые гипотезы, которые могут помочь бизнесу вырасти.\n",
    "\n",
    "В основных данных есть информация о пользователях, их поездках и подписках.\n",
    "\n",
    "Данные о пользователях находятся в файле `users_go.csv`, где:\n",
    "* `user_id` - уникальный идентификатор пользователя \n",
    "* `city` - город\n",
    "* `name` - имя пользователя\n",
    "* `age` - возраст\n",
    "* `subscription_type` - тип подписки (ultra или free)\n",
    "\n",
    "Данные о поездках находятся в файле `rides_go.csv`, где:\n",
    "* `user_id` - уникальный идентификатор пользователя\n",
    "* `distance` - расстояние, которое пользователь проехал в текущей сессии (в метрах)\n",
    "* `duration` - продолжительность сессии (в минутах) — время с того момента, как пользователь нажал кнопку «Начать поездку» до момента, как он нажал кнопку «Завершить поездку»\n",
    "* `date` - дата совершения поездки\n",
    "\n",
    "Данные о тарифиах находятся в файле `subscriptions_go.csv`, где:\n",
    "* `subscription_type` - тип подписки\n",
    "* `minute_price` - стоимость одной минуты поездки по данной подписке\n",
    "* `start_ride_price` - стоимость начала поездки\n",
    "* `subscription_fee` - стоимость ежемесячного платежа\n",
    "\n",
    "Для проведения анализа, проведем предобработку даных, там где это необходимо, проведем исследовательский анализ данных на основании имеющихся данных, проведем агрегацию данных для их дальнейшего использования при выдвижении гипотез необходимых для решения поставленных задач. "
   ]
  },
  {
   "cell_type": "markdown",
   "id": "ef4fff4c",
   "metadata": {},
   "source": [
    "Импортируем необходимые для предобработки, исследовательского и статистического анализа библиотеки"
   ]
  },
  {
   "cell_type": "code",
   "execution_count": 1,
   "id": "72576667",
   "metadata": {},
   "outputs": [],
   "source": [
    "import pandas as pd\n",
    "from scipy import stats as st\n",
    "import matplotlib.pyplot as plt\n",
    "import numpy as np\n",
    "from math import factorial, sqrt\n",
    "from scipy.stats import binom, norm"
   ]
  },
  {
   "cell_type": "markdown",
   "id": "c42cbe00",
   "metadata": {},
   "source": [
    "#### Шаг 1. Загрузка данных"
   ]
  },
  {
   "cell_type": "markdown",
   "id": "939a61b4",
   "metadata": {},
   "source": [
    "##### Считывание CSV-файлов с помощью библиотеки Pandas и сохранение их в датафреймы"
   ]
  },
  {
   "cell_type": "code",
   "execution_count": 2,
   "id": "eff9f206",
   "metadata": {},
   "outputs": [],
   "source": [
    "try:\n",
    "    data_users = pd.read_csv('/datasets/users_go.csv')\n",
    "    data_rides_go = pd.read_csv('/datasets/rides_go.csv')\n",
    "    data_subscriptions_go = pd.read_csv('/datasets/subscriptions_go.csv')\n",
    "    \n",
    "except:\n",
    "    data_users = pd.read_csv('C:/Users/hk/Desktop/практика/датасеты/users_go.csv')\n",
    "    data_rides_go = pd.read_csv('C:/Users/hk/Desktop/практика/датасеты/rides_go.csv')\n",
    "    data_subscriptions_go = pd.read_csv('C:/Users/hk/Desktop/практика/датасеты/subscriptions_go.csv')    "
   ]
  },
  {
   "cell_type": "markdown",
   "id": "e3b68303",
   "metadata": {},
   "source": [
    "##### Вывод первых строк всех датафреймов и вывод сводной информации о них"
   ]
  },
  {
   "cell_type": "code",
   "execution_count": 3,
   "id": "1f369c64",
   "metadata": {},
   "outputs": [
    {
     "data": {
      "text/html": [
       "<div>\n",
       "<style scoped>\n",
       "    .dataframe tbody tr th:only-of-type {\n",
       "        vertical-align: middle;\n",
       "    }\n",
       "\n",
       "    .dataframe tbody tr th {\n",
       "        vertical-align: top;\n",
       "    }\n",
       "\n",
       "    .dataframe thead th {\n",
       "        text-align: right;\n",
       "    }\n",
       "</style>\n",
       "<table border=\"1\" class=\"dataframe\">\n",
       "  <thead>\n",
       "    <tr style=\"text-align: right;\">\n",
       "      <th></th>\n",
       "      <th>user_id</th>\n",
       "      <th>name</th>\n",
       "      <th>age</th>\n",
       "      <th>city</th>\n",
       "      <th>subscription_type</th>\n",
       "    </tr>\n",
       "  </thead>\n",
       "  <tbody>\n",
       "    <tr>\n",
       "      <th>0</th>\n",
       "      <td>1</td>\n",
       "      <td>Кира</td>\n",
       "      <td>22</td>\n",
       "      <td>Тюмень</td>\n",
       "      <td>ultra</td>\n",
       "    </tr>\n",
       "    <tr>\n",
       "      <th>1</th>\n",
       "      <td>2</td>\n",
       "      <td>Станислав</td>\n",
       "      <td>31</td>\n",
       "      <td>Омск</td>\n",
       "      <td>ultra</td>\n",
       "    </tr>\n",
       "    <tr>\n",
       "      <th>2</th>\n",
       "      <td>3</td>\n",
       "      <td>Алексей</td>\n",
       "      <td>20</td>\n",
       "      <td>Москва</td>\n",
       "      <td>ultra</td>\n",
       "    </tr>\n",
       "    <tr>\n",
       "      <th>3</th>\n",
       "      <td>4</td>\n",
       "      <td>Константин</td>\n",
       "      <td>26</td>\n",
       "      <td>Ростов-на-Дону</td>\n",
       "      <td>ultra</td>\n",
       "    </tr>\n",
       "    <tr>\n",
       "      <th>4</th>\n",
       "      <td>5</td>\n",
       "      <td>Адель</td>\n",
       "      <td>28</td>\n",
       "      <td>Омск</td>\n",
       "      <td>ultra</td>\n",
       "    </tr>\n",
       "    <tr>\n",
       "      <th>5</th>\n",
       "      <td>6</td>\n",
       "      <td>Регина</td>\n",
       "      <td>25</td>\n",
       "      <td>Краснодар</td>\n",
       "      <td>ultra</td>\n",
       "    </tr>\n",
       "    <tr>\n",
       "      <th>6</th>\n",
       "      <td>7</td>\n",
       "      <td>Игорь</td>\n",
       "      <td>23</td>\n",
       "      <td>Омск</td>\n",
       "      <td>ultra</td>\n",
       "    </tr>\n",
       "    <tr>\n",
       "      <th>7</th>\n",
       "      <td>8</td>\n",
       "      <td>Юрий</td>\n",
       "      <td>23</td>\n",
       "      <td>Краснодар</td>\n",
       "      <td>ultra</td>\n",
       "    </tr>\n",
       "    <tr>\n",
       "      <th>8</th>\n",
       "      <td>9</td>\n",
       "      <td>Ян</td>\n",
       "      <td>21</td>\n",
       "      <td>Пятигорск</td>\n",
       "      <td>ultra</td>\n",
       "    </tr>\n",
       "    <tr>\n",
       "      <th>9</th>\n",
       "      <td>10</td>\n",
       "      <td>Валерий</td>\n",
       "      <td>18</td>\n",
       "      <td>Екатеринбург</td>\n",
       "      <td>ultra</td>\n",
       "    </tr>\n",
       "  </tbody>\n",
       "</table>\n",
       "</div>"
      ],
      "text/plain": [
       "   user_id        name  age            city subscription_type\n",
       "0        1        Кира   22          Тюмень             ultra\n",
       "1        2   Станислав   31            Омск             ultra\n",
       "2        3     Алексей   20          Москва             ultra\n",
       "3        4  Константин   26  Ростов-на-Дону             ultra\n",
       "4        5       Адель   28            Омск             ultra\n",
       "5        6      Регина   25       Краснодар             ultra\n",
       "6        7       Игорь   23            Омск             ultra\n",
       "7        8        Юрий   23       Краснодар             ultra\n",
       "8        9          Ян   21       Пятигорск             ultra\n",
       "9       10     Валерий   18    Екатеринбург             ultra"
      ]
     },
     "metadata": {},
     "output_type": "display_data"
    }
   ],
   "source": [
    "display(data_users.head(10))"
   ]
  },
  {
   "cell_type": "code",
   "execution_count": 4,
   "id": "a100403d",
   "metadata": {},
   "outputs": [
    {
     "name": "stdout",
     "output_type": "stream",
     "text": [
      "<class 'pandas.core.frame.DataFrame'>\n",
      "RangeIndex: 1565 entries, 0 to 1564\n",
      "Data columns (total 5 columns):\n",
      " #   Column             Non-Null Count  Dtype \n",
      "---  ------             --------------  ----- \n",
      " 0   user_id            1565 non-null   int64 \n",
      " 1   name               1565 non-null   object\n",
      " 2   age                1565 non-null   int64 \n",
      " 3   city               1565 non-null   object\n",
      " 4   subscription_type  1565 non-null   object\n",
      "dtypes: int64(2), object(3)\n",
      "memory usage: 61.3+ KB\n"
     ]
    }
   ],
   "source": [
    "data_users.info()"
   ]
  },
  {
   "cell_type": "code",
   "execution_count": 5,
   "id": "7285d485",
   "metadata": {
    "scrolled": true
   },
   "outputs": [
    {
     "data": {
      "text/html": [
       "<div>\n",
       "<style scoped>\n",
       "    .dataframe tbody tr th:only-of-type {\n",
       "        vertical-align: middle;\n",
       "    }\n",
       "\n",
       "    .dataframe tbody tr th {\n",
       "        vertical-align: top;\n",
       "    }\n",
       "\n",
       "    .dataframe thead th {\n",
       "        text-align: right;\n",
       "    }\n",
       "</style>\n",
       "<table border=\"1\" class=\"dataframe\">\n",
       "  <thead>\n",
       "    <tr style=\"text-align: right;\">\n",
       "      <th></th>\n",
       "      <th>user_id</th>\n",
       "      <th>distance</th>\n",
       "      <th>duration</th>\n",
       "      <th>date</th>\n",
       "    </tr>\n",
       "  </thead>\n",
       "  <tbody>\n",
       "    <tr>\n",
       "      <th>0</th>\n",
       "      <td>1</td>\n",
       "      <td>4409.919140</td>\n",
       "      <td>25.599769</td>\n",
       "      <td>2021-01-01</td>\n",
       "    </tr>\n",
       "    <tr>\n",
       "      <th>1</th>\n",
       "      <td>1</td>\n",
       "      <td>2617.592153</td>\n",
       "      <td>15.816871</td>\n",
       "      <td>2021-01-18</td>\n",
       "    </tr>\n",
       "    <tr>\n",
       "      <th>2</th>\n",
       "      <td>1</td>\n",
       "      <td>754.159807</td>\n",
       "      <td>6.232113</td>\n",
       "      <td>2021-04-20</td>\n",
       "    </tr>\n",
       "    <tr>\n",
       "      <th>3</th>\n",
       "      <td>1</td>\n",
       "      <td>2694.783254</td>\n",
       "      <td>18.511000</td>\n",
       "      <td>2021-08-11</td>\n",
       "    </tr>\n",
       "    <tr>\n",
       "      <th>4</th>\n",
       "      <td>1</td>\n",
       "      <td>4028.687306</td>\n",
       "      <td>26.265803</td>\n",
       "      <td>2021-08-28</td>\n",
       "    </tr>\n",
       "    <tr>\n",
       "      <th>5</th>\n",
       "      <td>1</td>\n",
       "      <td>2770.890808</td>\n",
       "      <td>16.650138</td>\n",
       "      <td>2021-10-09</td>\n",
       "    </tr>\n",
       "    <tr>\n",
       "      <th>6</th>\n",
       "      <td>1</td>\n",
       "      <td>3039.020292</td>\n",
       "      <td>14.927879</td>\n",
       "      <td>2021-10-19</td>\n",
       "    </tr>\n",
       "    <tr>\n",
       "      <th>7</th>\n",
       "      <td>1</td>\n",
       "      <td>2842.118050</td>\n",
       "      <td>23.117468</td>\n",
       "      <td>2021-11-06</td>\n",
       "    </tr>\n",
       "    <tr>\n",
       "      <th>8</th>\n",
       "      <td>1</td>\n",
       "      <td>3412.690668</td>\n",
       "      <td>15.238072</td>\n",
       "      <td>2021-11-14</td>\n",
       "    </tr>\n",
       "    <tr>\n",
       "      <th>9</th>\n",
       "      <td>1</td>\n",
       "      <td>748.690645</td>\n",
       "      <td>15.041884</td>\n",
       "      <td>2021-11-22</td>\n",
       "    </tr>\n",
       "  </tbody>\n",
       "</table>\n",
       "</div>"
      ],
      "text/plain": [
       "   user_id     distance   duration        date\n",
       "0        1  4409.919140  25.599769  2021-01-01\n",
       "1        1  2617.592153  15.816871  2021-01-18\n",
       "2        1   754.159807   6.232113  2021-04-20\n",
       "3        1  2694.783254  18.511000  2021-08-11\n",
       "4        1  4028.687306  26.265803  2021-08-28\n",
       "5        1  2770.890808  16.650138  2021-10-09\n",
       "6        1  3039.020292  14.927879  2021-10-19\n",
       "7        1  2842.118050  23.117468  2021-11-06\n",
       "8        1  3412.690668  15.238072  2021-11-14\n",
       "9        1   748.690645  15.041884  2021-11-22"
      ]
     },
     "metadata": {},
     "output_type": "display_data"
    }
   ],
   "source": [
    "display(data_rides_go.head(10))"
   ]
  },
  {
   "cell_type": "code",
   "execution_count": 6,
   "id": "71656b0e",
   "metadata": {},
   "outputs": [
    {
     "name": "stdout",
     "output_type": "stream",
     "text": [
      "<class 'pandas.core.frame.DataFrame'>\n",
      "RangeIndex: 18068 entries, 0 to 18067\n",
      "Data columns (total 4 columns):\n",
      " #   Column    Non-Null Count  Dtype  \n",
      "---  ------    --------------  -----  \n",
      " 0   user_id   18068 non-null  int64  \n",
      " 1   distance  18068 non-null  float64\n",
      " 2   duration  18068 non-null  float64\n",
      " 3   date      18068 non-null  object \n",
      "dtypes: float64(2), int64(1), object(1)\n",
      "memory usage: 564.8+ KB\n"
     ]
    }
   ],
   "source": [
    "data_rides_go.info()"
   ]
  },
  {
   "cell_type": "code",
   "execution_count": 7,
   "id": "5cb823b0",
   "metadata": {},
   "outputs": [
    {
     "data": {
      "text/html": [
       "<div>\n",
       "<style scoped>\n",
       "    .dataframe tbody tr th:only-of-type {\n",
       "        vertical-align: middle;\n",
       "    }\n",
       "\n",
       "    .dataframe tbody tr th {\n",
       "        vertical-align: top;\n",
       "    }\n",
       "\n",
       "    .dataframe thead th {\n",
       "        text-align: right;\n",
       "    }\n",
       "</style>\n",
       "<table border=\"1\" class=\"dataframe\">\n",
       "  <thead>\n",
       "    <tr style=\"text-align: right;\">\n",
       "      <th></th>\n",
       "      <th>subscription_type</th>\n",
       "      <th>minute_price</th>\n",
       "      <th>start_ride_price</th>\n",
       "      <th>subscription_fee</th>\n",
       "    </tr>\n",
       "  </thead>\n",
       "  <tbody>\n",
       "    <tr>\n",
       "      <th>0</th>\n",
       "      <td>free</td>\n",
       "      <td>8</td>\n",
       "      <td>50</td>\n",
       "      <td>0</td>\n",
       "    </tr>\n",
       "    <tr>\n",
       "      <th>1</th>\n",
       "      <td>ultra</td>\n",
       "      <td>6</td>\n",
       "      <td>0</td>\n",
       "      <td>199</td>\n",
       "    </tr>\n",
       "  </tbody>\n",
       "</table>\n",
       "</div>"
      ],
      "text/plain": [
       "  subscription_type  minute_price  start_ride_price  subscription_fee\n",
       "0              free             8                50                 0\n",
       "1             ultra             6                 0               199"
      ]
     },
     "metadata": {},
     "output_type": "display_data"
    }
   ],
   "source": [
    "display(data_subscriptions_go.head(10))"
   ]
  },
  {
   "cell_type": "code",
   "execution_count": 8,
   "id": "0db1c6f1",
   "metadata": {},
   "outputs": [
    {
     "name": "stdout",
     "output_type": "stream",
     "text": [
      "<class 'pandas.core.frame.DataFrame'>\n",
      "RangeIndex: 2 entries, 0 to 1\n",
      "Data columns (total 4 columns):\n",
      " #   Column             Non-Null Count  Dtype \n",
      "---  ------             --------------  ----- \n",
      " 0   subscription_type  2 non-null      object\n",
      " 1   minute_price       2 non-null      int64 \n",
      " 2   start_ride_price   2 non-null      int64 \n",
      " 3   subscription_fee   2 non-null      int64 \n",
      "dtypes: int64(3), object(1)\n",
      "memory usage: 196.0+ bytes\n"
     ]
    }
   ],
   "source": [
    "data_subscriptions_go.info()"
   ]
  },
  {
   "cell_type": "markdown",
   "id": "f1015352",
   "metadata": {},
   "source": [
    "**Выводы по этапу 1 \"Загрузка Данных\"**"
   ]
  },
  {
   "cell_type": "markdown",
   "id": "75a1014d",
   "metadata": {},
   "source": [
    "В исходнных таблицах представлены данные, описывающие информацию о пользователях сервиса аренды самокатов, имеющие подписку или нет, тарифах для пользования сервисом с подпиской или без, а также информация о пользователях сервиса с указанием длительности, расстоянии и даты поездки. \n",
    "\n",
    "Исходя из описания данных можно увидеть, в данных нет пропусков, однако типы данных не все соответствуют нужным для работы, например данные о дате."
   ]
  },
  {
   "cell_type": "markdown",
   "id": "e95ebca7",
   "metadata": {},
   "source": [
    "#### Шаг 2. Предобработка данных"
   ]
  },
  {
   "cell_type": "markdown",
   "id": "dc857d42",
   "metadata": {},
   "source": [
    "##### Преобразование типов данных "
   ]
  },
  {
   "cell_type": "markdown",
   "id": "b159d2d3",
   "metadata": {},
   "source": [
    "Из описания датафрейма видно, что формат даты не соответсвует datetime64, приведем в соответствие методом to_datetime()"
   ]
  },
  {
   "cell_type": "code",
   "execution_count": 9,
   "id": "6a05bcc5",
   "metadata": {},
   "outputs": [],
   "source": [
    "data_rides_go['date'] = pd.to_datetime(data_rides_go['date'], format='%Y-%m-%d')"
   ]
  },
  {
   "cell_type": "code",
   "execution_count": 10,
   "id": "a70d62f4",
   "metadata": {},
   "outputs": [
    {
     "name": "stdout",
     "output_type": "stream",
     "text": [
      "<class 'pandas.core.frame.DataFrame'>\n",
      "RangeIndex: 18068 entries, 0 to 18067\n",
      "Data columns (total 4 columns):\n",
      " #   Column    Non-Null Count  Dtype         \n",
      "---  ------    --------------  -----         \n",
      " 0   user_id   18068 non-null  int64         \n",
      " 1   distance  18068 non-null  float64       \n",
      " 2   duration  18068 non-null  float64       \n",
      " 3   date      18068 non-null  datetime64[ns]\n",
      "dtypes: datetime64[ns](1), float64(2), int64(1)\n",
      "memory usage: 564.8 KB\n"
     ]
    }
   ],
   "source": [
    "data_rides_go.info()"
   ]
  },
  {
   "cell_type": "markdown",
   "id": "786f269d",
   "metadata": {},
   "source": [
    "##### Добавление новых столбцов"
   ]
  },
  {
   "cell_type": "code",
   "execution_count": 11,
   "id": "b8c860e2",
   "metadata": {
    "scrolled": true
   },
   "outputs": [
    {
     "data": {
      "text/html": [
       "<div>\n",
       "<style scoped>\n",
       "    .dataframe tbody tr th:only-of-type {\n",
       "        vertical-align: middle;\n",
       "    }\n",
       "\n",
       "    .dataframe tbody tr th {\n",
       "        vertical-align: top;\n",
       "    }\n",
       "\n",
       "    .dataframe thead th {\n",
       "        text-align: right;\n",
       "    }\n",
       "</style>\n",
       "<table border=\"1\" class=\"dataframe\">\n",
       "  <thead>\n",
       "    <tr style=\"text-align: right;\">\n",
       "      <th></th>\n",
       "      <th>user_id</th>\n",
       "      <th>distance</th>\n",
       "      <th>duration</th>\n",
       "      <th>date</th>\n",
       "      <th>date_month</th>\n",
       "    </tr>\n",
       "  </thead>\n",
       "  <tbody>\n",
       "    <tr>\n",
       "      <th>0</th>\n",
       "      <td>1</td>\n",
       "      <td>4409.919140</td>\n",
       "      <td>25.599769</td>\n",
       "      <td>2021-01-01</td>\n",
       "      <td>1</td>\n",
       "    </tr>\n",
       "    <tr>\n",
       "      <th>1</th>\n",
       "      <td>1</td>\n",
       "      <td>2617.592153</td>\n",
       "      <td>15.816871</td>\n",
       "      <td>2021-01-18</td>\n",
       "      <td>1</td>\n",
       "    </tr>\n",
       "    <tr>\n",
       "      <th>2</th>\n",
       "      <td>1</td>\n",
       "      <td>754.159807</td>\n",
       "      <td>6.232113</td>\n",
       "      <td>2021-04-20</td>\n",
       "      <td>4</td>\n",
       "    </tr>\n",
       "    <tr>\n",
       "      <th>3</th>\n",
       "      <td>1</td>\n",
       "      <td>2694.783254</td>\n",
       "      <td>18.511000</td>\n",
       "      <td>2021-08-11</td>\n",
       "      <td>8</td>\n",
       "    </tr>\n",
       "    <tr>\n",
       "      <th>4</th>\n",
       "      <td>1</td>\n",
       "      <td>4028.687306</td>\n",
       "      <td>26.265803</td>\n",
       "      <td>2021-08-28</td>\n",
       "      <td>8</td>\n",
       "    </tr>\n",
       "    <tr>\n",
       "      <th>5</th>\n",
       "      <td>1</td>\n",
       "      <td>2770.890808</td>\n",
       "      <td>16.650138</td>\n",
       "      <td>2021-10-09</td>\n",
       "      <td>10</td>\n",
       "    </tr>\n",
       "    <tr>\n",
       "      <th>6</th>\n",
       "      <td>1</td>\n",
       "      <td>3039.020292</td>\n",
       "      <td>14.927879</td>\n",
       "      <td>2021-10-19</td>\n",
       "      <td>10</td>\n",
       "    </tr>\n",
       "    <tr>\n",
       "      <th>7</th>\n",
       "      <td>1</td>\n",
       "      <td>2842.118050</td>\n",
       "      <td>23.117468</td>\n",
       "      <td>2021-11-06</td>\n",
       "      <td>11</td>\n",
       "    </tr>\n",
       "    <tr>\n",
       "      <th>8</th>\n",
       "      <td>1</td>\n",
       "      <td>3412.690668</td>\n",
       "      <td>15.238072</td>\n",
       "      <td>2021-11-14</td>\n",
       "      <td>11</td>\n",
       "    </tr>\n",
       "    <tr>\n",
       "      <th>9</th>\n",
       "      <td>1</td>\n",
       "      <td>748.690645</td>\n",
       "      <td>15.041884</td>\n",
       "      <td>2021-11-22</td>\n",
       "      <td>11</td>\n",
       "    </tr>\n",
       "  </tbody>\n",
       "</table>\n",
       "</div>"
      ],
      "text/plain": [
       "   user_id     distance   duration       date  date_month\n",
       "0        1  4409.919140  25.599769 2021-01-01           1\n",
       "1        1  2617.592153  15.816871 2021-01-18           1\n",
       "2        1   754.159807   6.232113 2021-04-20           4\n",
       "3        1  2694.783254  18.511000 2021-08-11           8\n",
       "4        1  4028.687306  26.265803 2021-08-28           8\n",
       "5        1  2770.890808  16.650138 2021-10-09          10\n",
       "6        1  3039.020292  14.927879 2021-10-19          10\n",
       "7        1  2842.118050  23.117468 2021-11-06          11\n",
       "8        1  3412.690668  15.238072 2021-11-14          11\n",
       "9        1   748.690645  15.041884 2021-11-22          11"
      ]
     },
     "metadata": {},
     "output_type": "display_data"
    }
   ],
   "source": [
    "data_rides_go['date_month'] = data_rides_go['date'].dt.month\n",
    "display(data_rides_go.head(10))"
   ]
  },
  {
   "cell_type": "markdown",
   "id": "1d2983cb",
   "metadata": {},
   "source": [
    "Проверим за какой период имеющиеся данные о поездках"
   ]
  },
  {
   "cell_type": "code",
   "execution_count": 12,
   "id": "aa68768c",
   "metadata": {
    "scrolled": true
   },
   "outputs": [
    {
     "data": {
      "text/plain": [
       "0       2021-01-01\n",
       "13113   2021-01-01\n",
       "5445    2021-01-01\n",
       "12775   2021-01-01\n",
       "17096   2021-01-01\n",
       "           ...    \n",
       "15325   2021-12-30\n",
       "7541    2021-12-30\n",
       "6115    2021-12-30\n",
       "10991   2021-12-30\n",
       "11778   2021-12-30\n",
       "Name: date, Length: 18068, dtype: datetime64[ns]"
      ]
     },
     "execution_count": 12,
     "metadata": {},
     "output_type": "execute_result"
    }
   ],
   "source": [
    "data_rides_go['date'].sort_values()"
   ]
  },
  {
   "cell_type": "markdown",
   "id": "c524e12a",
   "metadata": {},
   "source": [
    "Таким образом получили, что имеем данные о поездках, совершаемых пользоватеоями за период с 1 января 2021 года по 30 декабря 2021 года."
   ]
  },
  {
   "cell_type": "markdown",
   "id": "0bc83423",
   "metadata": {},
   "source": [
    "##### Проверка на пропуски и дубликаты"
   ]
  },
  {
   "cell_type": "code",
   "execution_count": 13,
   "id": "47c277a4",
   "metadata": {},
   "outputs": [
    {
     "data": {
      "text/plain": [
       "user_id              0\n",
       "name                 0\n",
       "age                  0\n",
       "city                 0\n",
       "subscription_type    0\n",
       "dtype: int64"
      ]
     },
     "execution_count": 13,
     "metadata": {},
     "output_type": "execute_result"
    }
   ],
   "source": [
    "data_users.isna().sum() #проверяем наличе пропусков в data_users"
   ]
  },
  {
   "cell_type": "code",
   "execution_count": 14,
   "id": "e351d351",
   "metadata": {},
   "outputs": [
    {
     "data": {
      "text/plain": [
       "user_id       0\n",
       "distance      0\n",
       "duration      0\n",
       "date          0\n",
       "date_month    0\n",
       "dtype: int64"
      ]
     },
     "execution_count": 14,
     "metadata": {},
     "output_type": "execute_result"
    }
   ],
   "source": [
    "data_rides_go.isna().sum() #проверяем наличе пропусков в data_rides_go"
   ]
  },
  {
   "cell_type": "code",
   "execution_count": 15,
   "id": "3e599bd7",
   "metadata": {},
   "outputs": [
    {
     "data": {
      "text/plain": [
       "subscription_type    0\n",
       "minute_price         0\n",
       "start_ride_price     0\n",
       "subscription_fee     0\n",
       "dtype: int64"
      ]
     },
     "execution_count": 15,
     "metadata": {},
     "output_type": "execute_result"
    }
   ],
   "source": [
    "data_subscriptions_go.isna().sum() #проверяем наличе пропусков в data_subscriptions_go"
   ]
  },
  {
   "cell_type": "markdown",
   "id": "2c4abc12",
   "metadata": {},
   "source": [
    "Вывод: В исследумеых датафреймов пропущенных значений не обнаружено. \n",
    "\n",
    "Далее проверим на наличие дубликатов"
   ]
  },
  {
   "cell_type": "code",
   "execution_count": 16,
   "id": "0ba7b869",
   "metadata": {},
   "outputs": [
    {
     "data": {
      "text/plain": [
       "31"
      ]
     },
     "execution_count": 16,
     "metadata": {},
     "output_type": "execute_result"
    }
   ],
   "source": [
    "data_users.duplicated().sum() #проверка наличия явных дубликатов в data_users"
   ]
  },
  {
   "cell_type": "markdown",
   "id": "2e475b08",
   "metadata": {},
   "source": [
    "В датафрейме о пользователях присутствуют явные дубликаты, которые необходимо обработать. Для начала получим таблицу с такими дубликатами"
   ]
  },
  {
   "cell_type": "code",
   "execution_count": 17,
   "id": "31fdd16d",
   "metadata": {},
   "outputs": [
    {
     "data": {
      "text/html": [
       "<div>\n",
       "<style scoped>\n",
       "    .dataframe tbody tr th:only-of-type {\n",
       "        vertical-align: middle;\n",
       "    }\n",
       "\n",
       "    .dataframe tbody tr th {\n",
       "        vertical-align: top;\n",
       "    }\n",
       "\n",
       "    .dataframe thead th {\n",
       "        text-align: right;\n",
       "    }\n",
       "</style>\n",
       "<table border=\"1\" class=\"dataframe\">\n",
       "  <thead>\n",
       "    <tr style=\"text-align: right;\">\n",
       "      <th></th>\n",
       "      <th>user_id</th>\n",
       "      <th>name</th>\n",
       "      <th>age</th>\n",
       "      <th>city</th>\n",
       "      <th>subscription_type</th>\n",
       "    </tr>\n",
       "  </thead>\n",
       "  <tbody>\n",
       "    <tr>\n",
       "      <th>1534</th>\n",
       "      <td>293</td>\n",
       "      <td>Агата</td>\n",
       "      <td>26</td>\n",
       "      <td>Краснодар</td>\n",
       "      <td>ultra</td>\n",
       "    </tr>\n",
       "    <tr>\n",
       "      <th>1535</th>\n",
       "      <td>16</td>\n",
       "      <td>Амалия</td>\n",
       "      <td>27</td>\n",
       "      <td>Краснодар</td>\n",
       "      <td>ultra</td>\n",
       "    </tr>\n",
       "    <tr>\n",
       "      <th>1536</th>\n",
       "      <td>909</td>\n",
       "      <td>Константин</td>\n",
       "      <td>20</td>\n",
       "      <td>Екатеринбург</td>\n",
       "      <td>free</td>\n",
       "    </tr>\n",
       "    <tr>\n",
       "      <th>1537</th>\n",
       "      <td>403</td>\n",
       "      <td>Полина</td>\n",
       "      <td>19</td>\n",
       "      <td>Сочи</td>\n",
       "      <td>ultra</td>\n",
       "    </tr>\n",
       "    <tr>\n",
       "      <th>1538</th>\n",
       "      <td>908</td>\n",
       "      <td>Рустам</td>\n",
       "      <td>30</td>\n",
       "      <td>Тюмень</td>\n",
       "      <td>free</td>\n",
       "    </tr>\n",
       "  </tbody>\n",
       "</table>\n",
       "</div>"
      ],
      "text/plain": [
       "      user_id        name  age          city subscription_type\n",
       "1534      293       Агата   26     Краснодар             ultra\n",
       "1535       16      Амалия   27     Краснодар             ultra\n",
       "1536      909  Константин   20  Екатеринбург              free\n",
       "1537      403      Полина   19          Сочи             ultra\n",
       "1538      908      Рустам   30        Тюмень              free"
      ]
     },
     "metadata": {},
     "output_type": "display_data"
    }
   ],
   "source": [
    "duplicated_data_users = data_users[data_users.duplicated()]\n",
    "display(duplicated_data_users.head())"
   ]
  },
  {
   "cell_type": "markdown",
   "id": "17256351",
   "metadata": {},
   "source": [
    "Удалим все явные дубликаты из датафрейма и сразу восстановим индексы"
   ]
  },
  {
   "cell_type": "code",
   "execution_count": 18,
   "id": "4e5289eb",
   "metadata": {},
   "outputs": [],
   "source": [
    "data_users = data_users.drop_duplicates().reset_index(drop=True)"
   ]
  },
  {
   "cell_type": "code",
   "execution_count": 19,
   "id": "bcd8194d",
   "metadata": {},
   "outputs": [
    {
     "data": {
      "text/plain": [
       "0"
      ]
     },
     "execution_count": 19,
     "metadata": {},
     "output_type": "execute_result"
    }
   ],
   "source": [
    "data_users.duplicated().sum()"
   ]
  },
  {
   "cell_type": "code",
   "execution_count": 20,
   "id": "31549a52",
   "metadata": {},
   "outputs": [
    {
     "name": "stdout",
     "output_type": "stream",
     "text": [
      "<class 'pandas.core.frame.DataFrame'>\n",
      "RangeIndex: 1534 entries, 0 to 1533\n",
      "Data columns (total 5 columns):\n",
      " #   Column             Non-Null Count  Dtype \n",
      "---  ------             --------------  ----- \n",
      " 0   user_id            1534 non-null   int64 \n",
      " 1   name               1534 non-null   object\n",
      " 2   age                1534 non-null   int64 \n",
      " 3   city               1534 non-null   object\n",
      " 4   subscription_type  1534 non-null   object\n",
      "dtypes: int64(2), object(3)\n",
      "memory usage: 60.1+ KB\n"
     ]
    }
   ],
   "source": [
    "data_users.info()"
   ]
  },
  {
   "cell_type": "code",
   "execution_count": 21,
   "id": "eb5ace0d",
   "metadata": {},
   "outputs": [
    {
     "data": {
      "text/plain": [
       "0"
      ]
     },
     "execution_count": 21,
     "metadata": {},
     "output_type": "execute_result"
    }
   ],
   "source": [
    "data_rides_go.duplicated().sum() #проверка наличия явных дубликатов в data_rides_go"
   ]
  },
  {
   "cell_type": "markdown",
   "id": "230c665b",
   "metadata": {},
   "source": [
    "В исходных датафреймах больше явных дубликатов не обнаружено. Далее проверим данных на наличие неявных дубликатов"
   ]
  },
  {
   "cell_type": "code",
   "execution_count": 22,
   "id": "947b2445",
   "metadata": {},
   "outputs": [
    {
     "name": "stdout",
     "output_type": "stream",
     "text": [
      "1534\n"
     ]
    }
   ],
   "source": [
    "print(len(data_users['user_id'].sort_values().unique())) #проверяем по столбцу user_id в датафрейме data_users"
   ]
  },
  {
   "cell_type": "code",
   "execution_count": 23,
   "id": "b6c75985",
   "metadata": {},
   "outputs": [
    {
     "name": "stdout",
     "output_type": "stream",
     "text": [
      "1534\n"
     ]
    }
   ],
   "source": [
    "print(len(data_rides_go['user_id'].sort_values().unique())) #проверяем по столбцу user_id в датафрейме data_rides_go"
   ]
  },
  {
   "cell_type": "markdown",
   "id": "2f4dbd4b",
   "metadata": {},
   "source": [
    "Вывод: неявные дубликаты искали только в столбцах с user_id, так как в остальных считаем это нецелесообразным, так как возраст, название города, имя для разных пользователей серивса по прокату самокатов может повторяться."
   ]
  },
  {
   "cell_type": "markdown",
   "id": "212593c7",
   "metadata": {},
   "source": [
    "#### Шаг 3. Исследовательский анализ данных"
   ]
  },
  {
   "cell_type": "markdown",
   "id": "2a74dc54",
   "metadata": {},
   "source": [
    "##### Описание частоты встречаемости города"
   ]
  },
  {
   "cell_type": "code",
   "execution_count": 24,
   "id": "5bd8828d",
   "metadata": {},
   "outputs": [
    {
     "data": {
      "image/png": "[encoded data removed]",
      "text/plain": [
       "<Figure size 500x300 with 1 Axes>"
      ]
     },
     "metadata": {},
     "output_type": "display_data"
    }
   ],
   "source": [
    "data_users['city'].value_counts().plot.bar(figsize=(5, 3), legend=True, label='Город')\n",
    "plt.title('Частота встречаемости городов')\n",
    "plt.ylabel('Количество пользователей')\n",
    "plt.show()"
   ]
  },
  {
   "cell_type": "markdown",
   "id": "38abd80e",
   "metadata": {},
   "source": [
    "Как видно из полученного граифка, приложением по сервису аренды самокатов чаще всего пользуются жители Пятигоркска и Екатеринбурга, реже всего жители Москвы."
   ]
  },
  {
   "cell_type": "markdown",
   "id": "05f12f32",
   "metadata": {},
   "source": [
    "##### Описание соотношения пользователей с подпиской и без"
   ]
  },
  {
   "cell_type": "code",
   "execution_count": 25,
   "id": "e53ad383",
   "metadata": {},
   "outputs": [],
   "source": [
    "x_1 = (data_users.loc[data_users['subscription_type'] == 'ultra']\n",
    "          .pivot_table(values= 'user_id', index='city', aggfunc='count')\n",
    "          .sort_values(by = 'user_id', ascending = False))\n"
   ]
  },
  {
   "cell_type": "code",
   "execution_count": 26,
   "id": "40bc4495",
   "metadata": {},
   "outputs": [],
   "source": [
    "x_2 = (data_users.loc[data_users['subscription_type'] == 'free']\n",
    "          .pivot_table(values= 'user_id', index='city', aggfunc='count')\n",
    "          .sort_values(by = 'user_id', ascending = False))"
   ]
  },
  {
   "cell_type": "code",
   "execution_count": 27,
   "id": "9e3594b4",
   "metadata": {},
   "outputs": [],
   "source": [
    "x_1 = x_1.merge(x_2, on='city')"
   ]
  },
  {
   "cell_type": "code",
   "execution_count": 28,
   "id": "410ae143",
   "metadata": {},
   "outputs": [
    {
     "name": "stdout",
     "output_type": "stream",
     "text": [
      "                ultra  free\n",
      "city                       \n",
      "Пятигорск          94   125\n",
      "Екатеринбург       92   112\n",
      "Омск               91    92\n",
      "Ростов-на-Дону     89   109\n",
      "Сочи               86   103\n",
      "Москва             84    84\n",
      "Тюмень             82    98\n",
      "Краснодар          81   112\n"
     ]
    }
   ],
   "source": [
    "x_1.columns = ['ultra', 'free']\n",
    "print(x_1)"
   ]
  },
  {
   "cell_type": "code",
   "execution_count": 29,
   "id": "31fdd24b",
   "metadata": {
    "scrolled": false
   },
   "outputs": [
    {
     "data": {
      "text/plain": [
       "Text(0.5, 0, 'Город')"
      ]
     },
     "execution_count": 29,
     "metadata": {},
     "output_type": "execute_result"
    },
    {
     "data": {
      "image/png": "[encoded data removed]",
      "text/plain": [
       "<Figure size 800x600 with 1 Axes>"
      ]
     },
     "metadata": {},
     "output_type": "display_data"
    }
   ],
   "source": [
    "x_1.plot(kind='bar', legend=True, grid=True, figsize=(8, 6))\n",
    "plt.xlabel('Город')"
   ]
  },
  {
   "cell_type": "markdown",
   "id": "56c367c8",
   "metadata": {},
   "source": [
    "Для однозначности вывода построим круговую диаграмму, отражающую доли от общего числа пользователей с подпиской и без"
   ]
  },
  {
   "cell_type": "code",
   "execution_count": 30,
   "id": "daf6b27d",
   "metadata": {},
   "outputs": [
    {
     "data": {
      "image/png": "[encoded data removed]",
      "text/plain": [
       "<Figure size 640x480 with 1 Axes>"
      ]
     },
     "metadata": {},
     "output_type": "display_data"
    }
   ],
   "source": [
    "data_users.pivot_table(\n",
    "    index='subscription_type', values='user_id', aggfunc='count').plot(kind='pie', autopct='%1.1f%%', subplots=True);\n",
    "plt.title('Соотношение пользователей с подпиской и без')\n",
    "plt.ylabel('Пользователи')\n",
    "plt.show()"
   ]
  },
  {
   "cell_type": "markdown",
   "id": "46ca2739",
   "metadata": {},
   "source": [
    "Вывод: по полученному графику в виде барплот, а также по круговой диаграмме, можно однозначно сказать, что во всех исследуемых городах приложением GoFast чаще пользуются пользователи, не оформившие подписку (синий цвет на круговой диаграмме - 54,4%), чем пользователи с подпиской (оранжевый цвет на круговой диаграмме - 45,6%)."
   ]
  },
  {
   "cell_type": "markdown",
   "id": "0f53ae9d",
   "metadata": {},
   "source": [
    "##### Описание возраста пользователей"
   ]
  },
  {
   "cell_type": "code",
   "execution_count": 31,
   "id": "482643a1",
   "metadata": {},
   "outputs": [
    {
     "data": {
      "image/png": "[encoded data removed]",
      "text/plain": [
       "<Figure size 640x480 with 1 Axes>"
      ]
     },
     "metadata": {},
     "output_type": "display_data"
    }
   ],
   "source": [
    "data_users['age'].hist(bins=10, xlabelsize=10)\n",
    "plt.title('Частота встречаемости возраста')\n",
    "plt.xlabel('Возраст')\n",
    "plt.show()"
   ]
  },
  {
   "cell_type": "markdown",
   "id": "769dc309",
   "metadata": {},
   "source": [
    "По данной гистограмме, можно сделать вывод о том, что в основном пользователями сервиса по предоставлению услуги проката самокатов являются люди в возрасте между 20 и 30 годами."
   ]
  },
  {
   "cell_type": "markdown",
   "id": "353c13f5",
   "metadata": {},
   "source": [
    "##### Расстояние, которое пользователь преодолел за одну поездку"
   ]
  },
  {
   "cell_type": "code",
   "execution_count": 32,
   "id": "634ea62c",
   "metadata": {},
   "outputs": [
    {
     "data": {
      "text/plain": [
       "0.855682925681208"
      ]
     },
     "metadata": {},
     "output_type": "display_data"
    }
   ],
   "source": [
    "display(data_rides_go['distance'].min())"
   ]
  },
  {
   "cell_type": "code",
   "execution_count": 33,
   "id": "8bc1a95f",
   "metadata": {
    "scrolled": false
   },
   "outputs": [
    {
     "data": {
      "image/png": "[encoded data removed]",
      "text/plain": [
       "<Figure size 640x480 with 1 Axes>"
      ]
     },
     "metadata": {},
     "output_type": "display_data"
    }
   ],
   "source": [
    "data_rides_go['distance'].hist(bins=50, xlabelsize=10)\n",
    "plt.title('Преодоленное клиентом расстояние')\n",
    "plt.xlabel('Метры')\n",
    "plt.show()"
   ]
  },
  {
   "cell_type": "markdown",
   "id": "6781aee8",
   "metadata": {},
   "source": [
    "По полученной гистограмме видно, что наиболее часто самокатами пользуются на расстоянии от 2 до 4 км с наиболее частым  значением в 3 км. Что вполне логично, так как такими самокатами в основном пользуются туристы как раз на небольшие расстояния.\n",
    "Так же на гистограмме наблюдается скопление данных на коротких расстояниях до 1 км, что может быть как выбросом, так и просто данными о том, что некоторые пользователи переставали пользоваться самокатами через 1 км по каким-то причинам."
   ]
  },
  {
   "cell_type": "markdown",
   "id": "b97f75dd",
   "metadata": {},
   "source": [
    "##### Продолжительность поездок"
   ]
  },
  {
   "cell_type": "code",
   "execution_count": 34,
   "id": "bb5d0be8",
   "metadata": {},
   "outputs": [
    {
     "data": {
      "image/png": "[encoded data removed]",
      "text/plain": [
       "<Figure size 640x480 with 1 Axes>"
      ]
     },
     "metadata": {},
     "output_type": "display_data"
    }
   ],
   "source": [
    "data_rides_go['duration'].hist(bins=10, xlabelsize=10)\n",
    "plt.title('Продолжительность поездок')\n",
    "plt.xlabel('Продолжительность сессии')\n",
    "plt.show()"
   ]
  },
  {
   "cell_type": "markdown",
   "id": "68f26e09",
   "metadata": {},
   "source": [
    "По полученной гистограмме видно, что время поездки на самокате в основном составляет 15-20 мин, что справедливо, и для ранее проанализированного наиболее частого расстояния, так как средняя скорость современных сомакатов составляет 10-15 км/ч (данные взяты из поисковика). \n",
    "Наряду с этим по гистограмме видно, что присутствуют очень маленькие длительности поездок, посмотрим их подробнее."
   ]
  },
  {
   "cell_type": "code",
   "execution_count": 35,
   "id": "6b1c89bf",
   "metadata": {},
   "outputs": [
    {
     "data": {
      "text/html": [
       "<div>\n",
       "<style scoped>\n",
       "    .dataframe tbody tr th:only-of-type {\n",
       "        vertical-align: middle;\n",
       "    }\n",
       "\n",
       "    .dataframe tbody tr th {\n",
       "        vertical-align: top;\n",
       "    }\n",
       "\n",
       "    .dataframe thead th {\n",
       "        text-align: right;\n",
       "    }\n",
       "</style>\n",
       "<table border=\"1\" class=\"dataframe\">\n",
       "  <thead>\n",
       "    <tr style=\"text-align: right;\">\n",
       "      <th></th>\n",
       "      <th>user_id</th>\n",
       "      <th>distance</th>\n",
       "      <th>duration</th>\n",
       "      <th>date</th>\n",
       "      <th>date_month</th>\n",
       "    </tr>\n",
       "  </thead>\n",
       "  <tbody>\n",
       "    <tr>\n",
       "      <th>count</th>\n",
       "      <td>18068.000000</td>\n",
       "      <td>18068.000000</td>\n",
       "      <td>18068.000000</td>\n",
       "      <td>18068</td>\n",
       "      <td>18068.000000</td>\n",
       "    </tr>\n",
       "    <tr>\n",
       "      <th>mean</th>\n",
       "      <td>842.869936</td>\n",
       "      <td>3070.659976</td>\n",
       "      <td>17.805011</td>\n",
       "      <td>2021-06-30 19:47:21.266327296</td>\n",
       "      <td>6.486772</td>\n",
       "    </tr>\n",
       "    <tr>\n",
       "      <th>min</th>\n",
       "      <td>1.000000</td>\n",
       "      <td>0.855683</td>\n",
       "      <td>0.500000</td>\n",
       "      <td>2021-01-01 00:00:00</td>\n",
       "      <td>1.000000</td>\n",
       "    </tr>\n",
       "    <tr>\n",
       "      <th>25%</th>\n",
       "      <td>487.000000</td>\n",
       "      <td>2543.226360</td>\n",
       "      <td>13.597563</td>\n",
       "      <td>2021-04-02 00:00:00</td>\n",
       "      <td>4.000000</td>\n",
       "    </tr>\n",
       "    <tr>\n",
       "      <th>50%</th>\n",
       "      <td>889.000000</td>\n",
       "      <td>3133.609994</td>\n",
       "      <td>17.678395</td>\n",
       "      <td>2021-06-30 00:00:00</td>\n",
       "      <td>6.000000</td>\n",
       "    </tr>\n",
       "    <tr>\n",
       "      <th>75%</th>\n",
       "      <td>1213.250000</td>\n",
       "      <td>3776.222735</td>\n",
       "      <td>21.724800</td>\n",
       "      <td>2021-09-28 00:00:00</td>\n",
       "      <td>9.000000</td>\n",
       "    </tr>\n",
       "    <tr>\n",
       "      <th>max</th>\n",
       "      <td>1534.000000</td>\n",
       "      <td>7211.007745</td>\n",
       "      <td>40.823963</td>\n",
       "      <td>2021-12-30 00:00:00</td>\n",
       "      <td>12.000000</td>\n",
       "    </tr>\n",
       "    <tr>\n",
       "      <th>std</th>\n",
       "      <td>434.734317</td>\n",
       "      <td>1116.831209</td>\n",
       "      <td>6.091051</td>\n",
       "      <td>NaN</td>\n",
       "      <td>3.437410</td>\n",
       "    </tr>\n",
       "  </tbody>\n",
       "</table>\n",
       "</div>"
      ],
      "text/plain": [
       "            user_id      distance      duration  \\\n",
       "count  18068.000000  18068.000000  18068.000000   \n",
       "mean     842.869936   3070.659976     17.805011   \n",
       "min        1.000000      0.855683      0.500000   \n",
       "25%      487.000000   2543.226360     13.597563   \n",
       "50%      889.000000   3133.609994     17.678395   \n",
       "75%     1213.250000   3776.222735     21.724800   \n",
       "max     1534.000000   7211.007745     40.823963   \n",
       "std      434.734317   1116.831209      6.091051   \n",
       "\n",
       "                                date    date_month  \n",
       "count                          18068  18068.000000  \n",
       "mean   2021-06-30 19:47:21.266327296      6.486772  \n",
       "min              2021-01-01 00:00:00      1.000000  \n",
       "25%              2021-04-02 00:00:00      4.000000  \n",
       "50%              2021-06-30 00:00:00      6.000000  \n",
       "75%              2021-09-28 00:00:00      9.000000  \n",
       "max              2021-12-30 00:00:00     12.000000  \n",
       "std                              NaN      3.437410  "
      ]
     },
     "execution_count": 35,
     "metadata": {},
     "output_type": "execute_result"
    }
   ],
   "source": [
    "data_rides_go.describe()"
   ]
  },
  {
   "cell_type": "markdown",
   "id": "a48522a6",
   "metadata": {},
   "source": [
    "Действительно, в данных присутствуют значения длительности поездки меньше 1 минуты. Посмотрим по срезу данных сколько строк с данными о длительности меньше 1 минуты"
   ]
  },
  {
   "cell_type": "code",
   "execution_count": 36,
   "id": "d855a765",
   "metadata": {},
   "outputs": [
    {
     "data": {
      "text/html": [
       "<div>\n",
       "<style scoped>\n",
       "    .dataframe tbody tr th:only-of-type {\n",
       "        vertical-align: middle;\n",
       "    }\n",
       "\n",
       "    .dataframe tbody tr th {\n",
       "        vertical-align: top;\n",
       "    }\n",
       "\n",
       "    .dataframe thead th {\n",
       "        text-align: right;\n",
       "    }\n",
       "</style>\n",
       "<table border=\"1\" class=\"dataframe\">\n",
       "  <thead>\n",
       "    <tr style=\"text-align: right;\">\n",
       "      <th></th>\n",
       "      <th>user_id</th>\n",
       "      <th>distance</th>\n",
       "      <th>duration</th>\n",
       "      <th>date</th>\n",
       "      <th>date_month</th>\n",
       "    </tr>\n",
       "  </thead>\n",
       "  <tbody>\n",
       "    <tr>\n",
       "      <th>6531</th>\n",
       "      <td>701</td>\n",
       "      <td>4196.445201</td>\n",
       "      <td>0.5</td>\n",
       "      <td>2021-08-31</td>\n",
       "      <td>8</td>\n",
       "    </tr>\n",
       "    <tr>\n",
       "      <th>6570</th>\n",
       "      <td>704</td>\n",
       "      <td>4830.824371</td>\n",
       "      <td>0.5</td>\n",
       "      <td>2021-10-14</td>\n",
       "      <td>10</td>\n",
       "    </tr>\n",
       "    <tr>\n",
       "      <th>6680</th>\n",
       "      <td>712</td>\n",
       "      <td>4684.004397</td>\n",
       "      <td>0.5</td>\n",
       "      <td>2021-03-04</td>\n",
       "      <td>3</td>\n",
       "    </tr>\n",
       "    <tr>\n",
       "      <th>6695</th>\n",
       "      <td>713</td>\n",
       "      <td>5215.642710</td>\n",
       "      <td>0.5</td>\n",
       "      <td>2021-02-25</td>\n",
       "      <td>2</td>\n",
       "    </tr>\n",
       "    <tr>\n",
       "      <th>6768</th>\n",
       "      <td>718</td>\n",
       "      <td>5197.436649</td>\n",
       "      <td>0.5</td>\n",
       "      <td>2021-02-11</td>\n",
       "      <td>2</td>\n",
       "    </tr>\n",
       "    <tr>\n",
       "      <th>...</th>\n",
       "      <td>...</td>\n",
       "      <td>...</td>\n",
       "      <td>...</td>\n",
       "      <td>...</td>\n",
       "      <td>...</td>\n",
       "    </tr>\n",
       "    <tr>\n",
       "      <th>17004</th>\n",
       "      <td>1460</td>\n",
       "      <td>5531.335845</td>\n",
       "      <td>0.5</td>\n",
       "      <td>2021-01-19</td>\n",
       "      <td>1</td>\n",
       "    </tr>\n",
       "    <tr>\n",
       "      <th>17242</th>\n",
       "      <td>1477</td>\n",
       "      <td>6724.932981</td>\n",
       "      <td>0.5</td>\n",
       "      <td>2021-01-12</td>\n",
       "      <td>1</td>\n",
       "    </tr>\n",
       "    <tr>\n",
       "      <th>17314</th>\n",
       "      <td>1483</td>\n",
       "      <td>4445.481070</td>\n",
       "      <td>0.5</td>\n",
       "      <td>2021-03-06</td>\n",
       "      <td>3</td>\n",
       "    </tr>\n",
       "    <tr>\n",
       "      <th>17505</th>\n",
       "      <td>1496</td>\n",
       "      <td>5722.551787</td>\n",
       "      <td>0.5</td>\n",
       "      <td>2021-02-14</td>\n",
       "      <td>2</td>\n",
       "    </tr>\n",
       "    <tr>\n",
       "      <th>17909</th>\n",
       "      <td>1524</td>\n",
       "      <td>4103.998874</td>\n",
       "      <td>0.5</td>\n",
       "      <td>2021-06-18</td>\n",
       "      <td>6</td>\n",
       "    </tr>\n",
       "  </tbody>\n",
       "</table>\n",
       "<p>95 rows × 5 columns</p>\n",
       "</div>"
      ],
      "text/plain": [
       "       user_id     distance  duration       date  date_month\n",
       "6531       701  4196.445201       0.5 2021-08-31           8\n",
       "6570       704  4830.824371       0.5 2021-10-14          10\n",
       "6680       712  4684.004397       0.5 2021-03-04           3\n",
       "6695       713  5215.642710       0.5 2021-02-25           2\n",
       "6768       718  5197.436649       0.5 2021-02-11           2\n",
       "...        ...          ...       ...        ...         ...\n",
       "17004     1460  5531.335845       0.5 2021-01-19           1\n",
       "17242     1477  6724.932981       0.5 2021-01-12           1\n",
       "17314     1483  4445.481070       0.5 2021-03-06           3\n",
       "17505     1496  5722.551787       0.5 2021-02-14           2\n",
       "17909     1524  4103.998874       0.5 2021-06-18           6\n",
       "\n",
       "[95 rows x 5 columns]"
      ]
     },
     "execution_count": 36,
     "metadata": {},
     "output_type": "execute_result"
    }
   ],
   "source": [
    "data_rides_go.query('duration < 1')"
   ]
  },
  {
   "cell_type": "code",
   "execution_count": 37,
   "id": "e19e35dd",
   "metadata": {},
   "outputs": [
    {
     "data": {
      "text/html": [
       "<div>\n",
       "<style scoped>\n",
       "    .dataframe tbody tr th:only-of-type {\n",
       "        vertical-align: middle;\n",
       "    }\n",
       "\n",
       "    .dataframe tbody tr th {\n",
       "        vertical-align: top;\n",
       "    }\n",
       "\n",
       "    .dataframe thead th {\n",
       "        text-align: right;\n",
       "    }\n",
       "</style>\n",
       "<table border=\"1\" class=\"dataframe\">\n",
       "  <thead>\n",
       "    <tr style=\"text-align: right;\">\n",
       "      <th></th>\n",
       "      <th>user_id</th>\n",
       "      <th>distance</th>\n",
       "      <th>duration</th>\n",
       "      <th>date</th>\n",
       "      <th>date_month</th>\n",
       "    </tr>\n",
       "  </thead>\n",
       "  <tbody>\n",
       "    <tr>\n",
       "      <th>0</th>\n",
       "      <td>1</td>\n",
       "      <td>4409.919140</td>\n",
       "      <td>25.599769</td>\n",
       "      <td>2021-01-01</td>\n",
       "      <td>1</td>\n",
       "    </tr>\n",
       "    <tr>\n",
       "      <th>1</th>\n",
       "      <td>1</td>\n",
       "      <td>2617.592153</td>\n",
       "      <td>15.816871</td>\n",
       "      <td>2021-01-18</td>\n",
       "      <td>1</td>\n",
       "    </tr>\n",
       "    <tr>\n",
       "      <th>2</th>\n",
       "      <td>1</td>\n",
       "      <td>754.159807</td>\n",
       "      <td>6.232113</td>\n",
       "      <td>2021-04-20</td>\n",
       "      <td>4</td>\n",
       "    </tr>\n",
       "    <tr>\n",
       "      <th>3</th>\n",
       "      <td>1</td>\n",
       "      <td>2694.783254</td>\n",
       "      <td>18.511000</td>\n",
       "      <td>2021-08-11</td>\n",
       "      <td>8</td>\n",
       "    </tr>\n",
       "    <tr>\n",
       "      <th>4</th>\n",
       "      <td>1</td>\n",
       "      <td>4028.687306</td>\n",
       "      <td>26.265803</td>\n",
       "      <td>2021-08-28</td>\n",
       "      <td>8</td>\n",
       "    </tr>\n",
       "    <tr>\n",
       "      <th>...</th>\n",
       "      <td>...</td>\n",
       "      <td>...</td>\n",
       "      <td>...</td>\n",
       "      <td>...</td>\n",
       "      <td>...</td>\n",
       "    </tr>\n",
       "    <tr>\n",
       "      <th>18063</th>\n",
       "      <td>1534</td>\n",
       "      <td>3781.098080</td>\n",
       "      <td>19.822962</td>\n",
       "      <td>2021-11-04</td>\n",
       "      <td>11</td>\n",
       "    </tr>\n",
       "    <tr>\n",
       "      <th>18064</th>\n",
       "      <td>1534</td>\n",
       "      <td>2840.423057</td>\n",
       "      <td>21.409799</td>\n",
       "      <td>2021-11-16</td>\n",
       "      <td>11</td>\n",
       "    </tr>\n",
       "    <tr>\n",
       "      <th>18065</th>\n",
       "      <td>1534</td>\n",
       "      <td>3826.185507</td>\n",
       "      <td>18.435051</td>\n",
       "      <td>2021-11-18</td>\n",
       "      <td>11</td>\n",
       "    </tr>\n",
       "    <tr>\n",
       "      <th>18066</th>\n",
       "      <td>1534</td>\n",
       "      <td>2902.308661</td>\n",
       "      <td>16.674362</td>\n",
       "      <td>2021-11-27</td>\n",
       "      <td>11</td>\n",
       "    </tr>\n",
       "    <tr>\n",
       "      <th>18067</th>\n",
       "      <td>1534</td>\n",
       "      <td>2371.711192</td>\n",
       "      <td>15.893917</td>\n",
       "      <td>2021-12-29</td>\n",
       "      <td>12</td>\n",
       "    </tr>\n",
       "  </tbody>\n",
       "</table>\n",
       "<p>18068 rows × 5 columns</p>\n",
       "</div>"
      ],
      "text/plain": [
       "       user_id     distance   duration       date  date_month\n",
       "0            1  4409.919140  25.599769 2021-01-01           1\n",
       "1            1  2617.592153  15.816871 2021-01-18           1\n",
       "2            1   754.159807   6.232113 2021-04-20           4\n",
       "3            1  2694.783254  18.511000 2021-08-11           8\n",
       "4            1  4028.687306  26.265803 2021-08-28           8\n",
       "...        ...          ...        ...        ...         ...\n",
       "18063     1534  3781.098080  19.822962 2021-11-04          11\n",
       "18064     1534  2840.423057  21.409799 2021-11-16          11\n",
       "18065     1534  3826.185507  18.435051 2021-11-18          11\n",
       "18066     1534  2902.308661  16.674362 2021-11-27          11\n",
       "18067     1534  2371.711192  15.893917 2021-12-29          12\n",
       "\n",
       "[18068 rows x 5 columns]"
      ]
     },
     "execution_count": 37,
     "metadata": {},
     "output_type": "execute_result"
    }
   ],
   "source": [
    "data_rides_go"
   ]
  },
  {
   "cell_type": "markdown",
   "id": "af763913",
   "metadata": {},
   "source": [
    "Построим диаграмму размаха "
   ]
  },
  {
   "cell_type": "code",
   "execution_count": 38,
   "id": "7ce23d08",
   "metadata": {
    "scrolled": false
   },
   "outputs": [
    {
     "data": {
      "image/png": "[encoded data removed]",
      "text/plain": [
       "<Figure size 600x500 with 1 Axes>"
      ]
     },
     "metadata": {},
     "output_type": "display_data"
    }
   ],
   "source": [
    "data_rides_go.boxplot(column='duration', figsize=(6, 5))\n",
    "plt.title('Длительность поездок')\n",
    "plt.show()"
   ]
  },
  {
   "cell_type": "markdown",
   "id": "fcaf6c5b",
   "metadata": {},
   "source": [
    "По диаграмме размаха видно, что значения длительности 0.5 минут действительно являются выбросами, поэтому удалим их из датафрйма"
   ]
  },
  {
   "cell_type": "code",
   "execution_count": 39,
   "id": "49aebe3c",
   "metadata": {},
   "outputs": [
    {
     "name": "stdout",
     "output_type": "stream",
     "text": [
      "<class 'pandas.core.frame.DataFrame'>\n",
      "Index: 17973 entries, 0 to 18067\n",
      "Data columns (total 5 columns):\n",
      " #   Column      Non-Null Count  Dtype         \n",
      "---  ------      --------------  -----         \n",
      " 0   user_id     17973 non-null  int64         \n",
      " 1   distance    17973 non-null  float64       \n",
      " 2   duration    17973 non-null  float64       \n",
      " 3   date        17973 non-null  datetime64[ns]\n",
      " 4   date_month  17973 non-null  int32         \n",
      "dtypes: datetime64[ns](1), float64(2), int32(1), int64(1)\n",
      "memory usage: 772.3 KB\n"
     ]
    }
   ],
   "source": [
    "data_rides_go = data_rides_go.query('duration > 1')\n",
    "data_rides_go.info()"
   ]
  },
  {
   "cell_type": "markdown",
   "id": "1a640179",
   "metadata": {},
   "source": [
    "По результатам проведения исследовательского анализа можно сделать следующие вывожы:\n",
    "- Приложением по сервису аренды самокатов чаще всего пользуются жители Пятигоркска и Екатеринбурга, реже всего жители Москвы.\n",
    "- Во всех исследуемых городах приложением GoFast чаще пользуются пользователи, не оформившие подписку, чем те, у которых она есть\n",
    "- Пользователями сервиса по предоставлению услуги проката самокатов являются люди в возрасте между 20 и 30 годами\n",
    "- Наиболее часто самокатами пользуются на расстояниях от 2 до 4 км с наиболее частым значением в 3 км. Так же в данных наблюдается скопление данных на коротких расстояниях до 1 км, что может быть как выбросом, так и просто данными о том, что некоторые пользователи переставали пользоваться самокатами через 1 км по каким-то причинам\n",
    "- Время поездки на самокате в основном составляет 15-20 мин, что справедливо, с учетом наиболее частого расстояния, так как средняя скорость современных самокатов составляет 10-15 км/ч (данные взяты из поисковика). Однако в данных присутсовали занчения длительности поездки равные меньше минуты, с помощью диаграммы размаха эти данные были определены как выбросы и отброшены перед дальнейшим исследованием."
   ]
  },
  {
   "cell_type": "markdown",
   "id": "4ef51331",
   "metadata": {},
   "source": [
    "#### Шаг 4. Объединение данных"
   ]
  },
  {
   "cell_type": "markdown",
   "id": "63d9b38b",
   "metadata": {},
   "source": [
    "##### Объединение датафрймов с помощью метода merge()"
   ]
  },
  {
   "cell_type": "code",
   "execution_count": 40,
   "id": "8f4647c7",
   "metadata": {},
   "outputs": [
    {
     "data": {
      "text/html": [
       "<div>\n",
       "<style scoped>\n",
       "    .dataframe tbody tr th:only-of-type {\n",
       "        vertical-align: middle;\n",
       "    }\n",
       "\n",
       "    .dataframe tbody tr th {\n",
       "        vertical-align: top;\n",
       "    }\n",
       "\n",
       "    .dataframe thead th {\n",
       "        text-align: right;\n",
       "    }\n",
       "</style>\n",
       "<table border=\"1\" class=\"dataframe\">\n",
       "  <thead>\n",
       "    <tr style=\"text-align: right;\">\n",
       "      <th></th>\n",
       "      <th>user_id</th>\n",
       "      <th>name</th>\n",
       "      <th>age</th>\n",
       "      <th>city</th>\n",
       "      <th>subscription_type</th>\n",
       "      <th>distance</th>\n",
       "      <th>duration</th>\n",
       "      <th>date</th>\n",
       "      <th>date_month</th>\n",
       "    </tr>\n",
       "  </thead>\n",
       "  <tbody>\n",
       "    <tr>\n",
       "      <th>0</th>\n",
       "      <td>1</td>\n",
       "      <td>Кира</td>\n",
       "      <td>22</td>\n",
       "      <td>Тюмень</td>\n",
       "      <td>ultra</td>\n",
       "      <td>4409.919140</td>\n",
       "      <td>25.599769</td>\n",
       "      <td>2021-01-01</td>\n",
       "      <td>1</td>\n",
       "    </tr>\n",
       "    <tr>\n",
       "      <th>1</th>\n",
       "      <td>1</td>\n",
       "      <td>Кира</td>\n",
       "      <td>22</td>\n",
       "      <td>Тюмень</td>\n",
       "      <td>ultra</td>\n",
       "      <td>2617.592153</td>\n",
       "      <td>15.816871</td>\n",
       "      <td>2021-01-18</td>\n",
       "      <td>1</td>\n",
       "    </tr>\n",
       "    <tr>\n",
       "      <th>2</th>\n",
       "      <td>1</td>\n",
       "      <td>Кира</td>\n",
       "      <td>22</td>\n",
       "      <td>Тюмень</td>\n",
       "      <td>ultra</td>\n",
       "      <td>754.159807</td>\n",
       "      <td>6.232113</td>\n",
       "      <td>2021-04-20</td>\n",
       "      <td>4</td>\n",
       "    </tr>\n",
       "    <tr>\n",
       "      <th>3</th>\n",
       "      <td>1</td>\n",
       "      <td>Кира</td>\n",
       "      <td>22</td>\n",
       "      <td>Тюмень</td>\n",
       "      <td>ultra</td>\n",
       "      <td>2694.783254</td>\n",
       "      <td>18.511000</td>\n",
       "      <td>2021-08-11</td>\n",
       "      <td>8</td>\n",
       "    </tr>\n",
       "    <tr>\n",
       "      <th>4</th>\n",
       "      <td>1</td>\n",
       "      <td>Кира</td>\n",
       "      <td>22</td>\n",
       "      <td>Тюмень</td>\n",
       "      <td>ultra</td>\n",
       "      <td>4028.687306</td>\n",
       "      <td>26.265803</td>\n",
       "      <td>2021-08-28</td>\n",
       "      <td>8</td>\n",
       "    </tr>\n",
       "    <tr>\n",
       "      <th>5</th>\n",
       "      <td>1</td>\n",
       "      <td>Кира</td>\n",
       "      <td>22</td>\n",
       "      <td>Тюмень</td>\n",
       "      <td>ultra</td>\n",
       "      <td>2770.890808</td>\n",
       "      <td>16.650138</td>\n",
       "      <td>2021-10-09</td>\n",
       "      <td>10</td>\n",
       "    </tr>\n",
       "    <tr>\n",
       "      <th>6</th>\n",
       "      <td>1</td>\n",
       "      <td>Кира</td>\n",
       "      <td>22</td>\n",
       "      <td>Тюмень</td>\n",
       "      <td>ultra</td>\n",
       "      <td>3039.020292</td>\n",
       "      <td>14.927879</td>\n",
       "      <td>2021-10-19</td>\n",
       "      <td>10</td>\n",
       "    </tr>\n",
       "    <tr>\n",
       "      <th>7</th>\n",
       "      <td>1</td>\n",
       "      <td>Кира</td>\n",
       "      <td>22</td>\n",
       "      <td>Тюмень</td>\n",
       "      <td>ultra</td>\n",
       "      <td>2842.118050</td>\n",
       "      <td>23.117468</td>\n",
       "      <td>2021-11-06</td>\n",
       "      <td>11</td>\n",
       "    </tr>\n",
       "    <tr>\n",
       "      <th>8</th>\n",
       "      <td>1</td>\n",
       "      <td>Кира</td>\n",
       "      <td>22</td>\n",
       "      <td>Тюмень</td>\n",
       "      <td>ultra</td>\n",
       "      <td>3412.690668</td>\n",
       "      <td>15.238072</td>\n",
       "      <td>2021-11-14</td>\n",
       "      <td>11</td>\n",
       "    </tr>\n",
       "    <tr>\n",
       "      <th>9</th>\n",
       "      <td>1</td>\n",
       "      <td>Кира</td>\n",
       "      <td>22</td>\n",
       "      <td>Тюмень</td>\n",
       "      <td>ultra</td>\n",
       "      <td>748.690645</td>\n",
       "      <td>15.041884</td>\n",
       "      <td>2021-11-22</td>\n",
       "      <td>11</td>\n",
       "    </tr>\n",
       "  </tbody>\n",
       "</table>\n",
       "</div>"
      ],
      "text/plain": [
       "   user_id  name  age    city subscription_type     distance   duration  \\\n",
       "0        1  Кира   22  Тюмень             ultra  4409.919140  25.599769   \n",
       "1        1  Кира   22  Тюмень             ultra  2617.592153  15.816871   \n",
       "2        1  Кира   22  Тюмень             ultra   754.159807   6.232113   \n",
       "3        1  Кира   22  Тюмень             ultra  2694.783254  18.511000   \n",
       "4        1  Кира   22  Тюмень             ultra  4028.687306  26.265803   \n",
       "5        1  Кира   22  Тюмень             ultra  2770.890808  16.650138   \n",
       "6        1  Кира   22  Тюмень             ultra  3039.020292  14.927879   \n",
       "7        1  Кира   22  Тюмень             ultra  2842.118050  23.117468   \n",
       "8        1  Кира   22  Тюмень             ultra  3412.690668  15.238072   \n",
       "9        1  Кира   22  Тюмень             ultra   748.690645  15.041884   \n",
       "\n",
       "        date  date_month  \n",
       "0 2021-01-01           1  \n",
       "1 2021-01-18           1  \n",
       "2 2021-04-20           4  \n",
       "3 2021-08-11           8  \n",
       "4 2021-08-28           8  \n",
       "5 2021-10-09          10  \n",
       "6 2021-10-19          10  \n",
       "7 2021-11-06          11  \n",
       "8 2021-11-14          11  \n",
       "9 2021-11-22          11  "
      ]
     },
     "metadata": {},
     "output_type": "display_data"
    }
   ],
   "source": [
    "x_3 = data_users.merge(data_rides_go) #присоединяем к data_users датафрйем о поездках \n",
    "                                      # data_rides_go и называем промежуточным именем х_3\n",
    "display(x_3.head(10)) "
   ]
  },
  {
   "cell_type": "code",
   "execution_count": 41,
   "id": "218e4918",
   "metadata": {},
   "outputs": [
    {
     "data": {
      "text/html": [
       "<div>\n",
       "<style scoped>\n",
       "    .dataframe tbody tr th:only-of-type {\n",
       "        vertical-align: middle;\n",
       "    }\n",
       "\n",
       "    .dataframe tbody tr th {\n",
       "        vertical-align: top;\n",
       "    }\n",
       "\n",
       "    .dataframe thead th {\n",
       "        text-align: right;\n",
       "    }\n",
       "</style>\n",
       "<table border=\"1\" class=\"dataframe\">\n",
       "  <thead>\n",
       "    <tr style=\"text-align: right;\">\n",
       "      <th></th>\n",
       "      <th>user_id</th>\n",
       "      <th>name</th>\n",
       "      <th>age</th>\n",
       "      <th>city</th>\n",
       "      <th>subscription_type</th>\n",
       "      <th>distance</th>\n",
       "      <th>duration</th>\n",
       "      <th>date</th>\n",
       "      <th>date_month</th>\n",
       "      <th>minute_price</th>\n",
       "      <th>start_ride_price</th>\n",
       "      <th>subscription_fee</th>\n",
       "    </tr>\n",
       "  </thead>\n",
       "  <tbody>\n",
       "    <tr>\n",
       "      <th>17963</th>\n",
       "      <td>1534</td>\n",
       "      <td>Альберт</td>\n",
       "      <td>25</td>\n",
       "      <td>Краснодар</td>\n",
       "      <td>free</td>\n",
       "      <td>195.447469</td>\n",
       "      <td>6.469074</td>\n",
       "      <td>2021-06-11</td>\n",
       "      <td>6</td>\n",
       "      <td>8</td>\n",
       "      <td>50</td>\n",
       "      <td>0</td>\n",
       "    </tr>\n",
       "    <tr>\n",
       "      <th>17964</th>\n",
       "      <td>1534</td>\n",
       "      <td>Альберт</td>\n",
       "      <td>25</td>\n",
       "      <td>Краснодар</td>\n",
       "      <td>free</td>\n",
       "      <td>3214.021065</td>\n",
       "      <td>18.343604</td>\n",
       "      <td>2021-06-18</td>\n",
       "      <td>6</td>\n",
       "      <td>8</td>\n",
       "      <td>50</td>\n",
       "      <td>0</td>\n",
       "    </tr>\n",
       "    <tr>\n",
       "      <th>17965</th>\n",
       "      <td>1534</td>\n",
       "      <td>Альберт</td>\n",
       "      <td>25</td>\n",
       "      <td>Краснодар</td>\n",
       "      <td>free</td>\n",
       "      <td>3644.708038</td>\n",
       "      <td>20.289416</td>\n",
       "      <td>2021-08-08</td>\n",
       "      <td>8</td>\n",
       "      <td>8</td>\n",
       "      <td>50</td>\n",
       "      <td>0</td>\n",
       "    </tr>\n",
       "    <tr>\n",
       "      <th>17966</th>\n",
       "      <td>1534</td>\n",
       "      <td>Альберт</td>\n",
       "      <td>25</td>\n",
       "      <td>Краснодар</td>\n",
       "      <td>free</td>\n",
       "      <td>3977.744996</td>\n",
       "      <td>26.916544</td>\n",
       "      <td>2021-08-20</td>\n",
       "      <td>8</td>\n",
       "      <td>8</td>\n",
       "      <td>50</td>\n",
       "      <td>0</td>\n",
       "    </tr>\n",
       "    <tr>\n",
       "      <th>17967</th>\n",
       "      <td>1534</td>\n",
       "      <td>Альберт</td>\n",
       "      <td>25</td>\n",
       "      <td>Краснодар</td>\n",
       "      <td>free</td>\n",
       "      <td>4928.173852</td>\n",
       "      <td>22.560373</td>\n",
       "      <td>2021-09-13</td>\n",
       "      <td>9</td>\n",
       "      <td>8</td>\n",
       "      <td>50</td>\n",
       "      <td>0</td>\n",
       "    </tr>\n",
       "    <tr>\n",
       "      <th>17968</th>\n",
       "      <td>1534</td>\n",
       "      <td>Альберт</td>\n",
       "      <td>25</td>\n",
       "      <td>Краснодар</td>\n",
       "      <td>free</td>\n",
       "      <td>3781.098080</td>\n",
       "      <td>19.822962</td>\n",
       "      <td>2021-11-04</td>\n",
       "      <td>11</td>\n",
       "      <td>8</td>\n",
       "      <td>50</td>\n",
       "      <td>0</td>\n",
       "    </tr>\n",
       "    <tr>\n",
       "      <th>17969</th>\n",
       "      <td>1534</td>\n",
       "      <td>Альберт</td>\n",
       "      <td>25</td>\n",
       "      <td>Краснодар</td>\n",
       "      <td>free</td>\n",
       "      <td>2840.423057</td>\n",
       "      <td>21.409799</td>\n",
       "      <td>2021-11-16</td>\n",
       "      <td>11</td>\n",
       "      <td>8</td>\n",
       "      <td>50</td>\n",
       "      <td>0</td>\n",
       "    </tr>\n",
       "    <tr>\n",
       "      <th>17970</th>\n",
       "      <td>1534</td>\n",
       "      <td>Альберт</td>\n",
       "      <td>25</td>\n",
       "      <td>Краснодар</td>\n",
       "      <td>free</td>\n",
       "      <td>3826.185507</td>\n",
       "      <td>18.435051</td>\n",
       "      <td>2021-11-18</td>\n",
       "      <td>11</td>\n",
       "      <td>8</td>\n",
       "      <td>50</td>\n",
       "      <td>0</td>\n",
       "    </tr>\n",
       "    <tr>\n",
       "      <th>17971</th>\n",
       "      <td>1534</td>\n",
       "      <td>Альберт</td>\n",
       "      <td>25</td>\n",
       "      <td>Краснодар</td>\n",
       "      <td>free</td>\n",
       "      <td>2902.308661</td>\n",
       "      <td>16.674362</td>\n",
       "      <td>2021-11-27</td>\n",
       "      <td>11</td>\n",
       "      <td>8</td>\n",
       "      <td>50</td>\n",
       "      <td>0</td>\n",
       "    </tr>\n",
       "    <tr>\n",
       "      <th>17972</th>\n",
       "      <td>1534</td>\n",
       "      <td>Альберт</td>\n",
       "      <td>25</td>\n",
       "      <td>Краснодар</td>\n",
       "      <td>free</td>\n",
       "      <td>2371.711192</td>\n",
       "      <td>15.893917</td>\n",
       "      <td>2021-12-29</td>\n",
       "      <td>12</td>\n",
       "      <td>8</td>\n",
       "      <td>50</td>\n",
       "      <td>0</td>\n",
       "    </tr>\n",
       "  </tbody>\n",
       "</table>\n",
       "</div>"
      ],
      "text/plain": [
       "       user_id     name  age       city subscription_type     distance  \\\n",
       "17963     1534  Альберт   25  Краснодар              free   195.447469   \n",
       "17964     1534  Альберт   25  Краснодар              free  3214.021065   \n",
       "17965     1534  Альберт   25  Краснодар              free  3644.708038   \n",
       "17966     1534  Альберт   25  Краснодар              free  3977.744996   \n",
       "17967     1534  Альберт   25  Краснодар              free  4928.173852   \n",
       "17968     1534  Альберт   25  Краснодар              free  3781.098080   \n",
       "17969     1534  Альберт   25  Краснодар              free  2840.423057   \n",
       "17970     1534  Альберт   25  Краснодар              free  3826.185507   \n",
       "17971     1534  Альберт   25  Краснодар              free  2902.308661   \n",
       "17972     1534  Альберт   25  Краснодар              free  2371.711192   \n",
       "\n",
       "        duration       date  date_month  minute_price  start_ride_price  \\\n",
       "17963   6.469074 2021-06-11           6             8                50   \n",
       "17964  18.343604 2021-06-18           6             8                50   \n",
       "17965  20.289416 2021-08-08           8             8                50   \n",
       "17966  26.916544 2021-08-20           8             8                50   \n",
       "17967  22.560373 2021-09-13           9             8                50   \n",
       "17968  19.822962 2021-11-04          11             8                50   \n",
       "17969  21.409799 2021-11-16          11             8                50   \n",
       "17970  18.435051 2021-11-18          11             8                50   \n",
       "17971  16.674362 2021-11-27          11             8                50   \n",
       "17972  15.893917 2021-12-29          12             8                50   \n",
       "\n",
       "       subscription_fee  \n",
       "17963                 0  \n",
       "17964                 0  \n",
       "17965                 0  \n",
       "17966                 0  \n",
       "17967                 0  \n",
       "17968                 0  \n",
       "17969                 0  \n",
       "17970                 0  \n",
       "17971                 0  \n",
       "17972                 0  "
      ]
     },
     "metadata": {},
     "output_type": "display_data"
    }
   ],
   "source": [
    "data_full = x_3.merge(data_subscriptions_go) #присоединяем с помощью метода merge() к промежуточному\n",
    "                                             #датафрейму х_3 датафрейм с данными о типах и стоимости подписок и \n",
    "                                             #обозначаем полученный общий датафрейм как data_full\n",
    "display(data_full.tail(10))"
   ]
  },
  {
   "cell_type": "code",
   "execution_count": 42,
   "id": "d61bd18a",
   "metadata": {},
   "outputs": [],
   "source": [
    "data_full['duration'] = np.ceil(data_full['duration'])"
   ]
  },
  {
   "cell_type": "markdown",
   "id": "2c2dfd33",
   "metadata": {},
   "source": [
    "Проверим количество строк в исходных датафреймах и в объединенном. Ориентироваться будем на кол-во строк в датафрейме data_rides_go, так у него максимально количество строк"
   ]
  },
  {
   "cell_type": "code",
   "execution_count": 43,
   "id": "fb8ce458",
   "metadata": {},
   "outputs": [
    {
     "name": "stdout",
     "output_type": "stream",
     "text": [
      "True\n"
     ]
    }
   ],
   "source": [
    "if len(data_rides_go) == len(data_full):\n",
    "    print('True')\n",
    "else:\n",
    "    print('False')"
   ]
  },
  {
   "cell_type": "markdown",
   "id": "6e751928",
   "metadata": {},
   "source": [
    "Получили совпадение по количеству строк, поэтому проверим наш объединенный датафрейм на наличие пропусков"
   ]
  },
  {
   "cell_type": "code",
   "execution_count": 44,
   "id": "0707c123",
   "metadata": {},
   "outputs": [
    {
     "data": {
      "text/plain": [
       "user_id              0\n",
       "name                 0\n",
       "age                  0\n",
       "city                 0\n",
       "subscription_type    0\n",
       "distance             0\n",
       "duration             0\n",
       "date                 0\n",
       "date_month           0\n",
       "minute_price         0\n",
       "start_ride_price     0\n",
       "subscription_fee     0\n",
       "dtype: int64"
      ]
     },
     "execution_count": 44,
     "metadata": {},
     "output_type": "execute_result"
    }
   ],
   "source": [
    "data_full.isna().sum()"
   ]
  },
  {
   "cell_type": "markdown",
   "id": "60f66a9f",
   "metadata": {},
   "source": [
    "В объединенном датафрейме пропусков не обнаружено, следовательно можем переходить к следующему шагу"
   ]
  },
  {
   "cell_type": "markdown",
   "id": "5cc333b9",
   "metadata": {},
   "source": [
    "##### Создание двух дополнительных датафреймов\n",
    "- с данными о пользователях без подписки\n",
    "- с данными о пользователях с подпиской"
   ]
  },
  {
   "cell_type": "code",
   "execution_count": 45,
   "id": "0c012090",
   "metadata": {},
   "outputs": [
    {
     "data": {
      "text/html": [
       "<div>\n",
       "<style scoped>\n",
       "    .dataframe tbody tr th:only-of-type {\n",
       "        vertical-align: middle;\n",
       "    }\n",
       "\n",
       "    .dataframe tbody tr th {\n",
       "        vertical-align: top;\n",
       "    }\n",
       "\n",
       "    .dataframe thead th {\n",
       "        text-align: right;\n",
       "    }\n",
       "</style>\n",
       "<table border=\"1\" class=\"dataframe\">\n",
       "  <thead>\n",
       "    <tr style=\"text-align: right;\">\n",
       "      <th></th>\n",
       "      <th>user_id</th>\n",
       "      <th>name</th>\n",
       "      <th>age</th>\n",
       "      <th>city</th>\n",
       "      <th>subscription_type</th>\n",
       "      <th>distance</th>\n",
       "      <th>duration</th>\n",
       "      <th>date</th>\n",
       "      <th>date_month</th>\n",
       "      <th>minute_price</th>\n",
       "      <th>start_ride_price</th>\n",
       "      <th>subscription_fee</th>\n",
       "    </tr>\n",
       "  </thead>\n",
       "  <tbody>\n",
       "    <tr>\n",
       "      <th>6500</th>\n",
       "      <td>700</td>\n",
       "      <td>Айдар</td>\n",
       "      <td>22</td>\n",
       "      <td>Омск</td>\n",
       "      <td>free</td>\n",
       "      <td>2515.690719</td>\n",
       "      <td>15.0</td>\n",
       "      <td>2021-01-02</td>\n",
       "      <td>1</td>\n",
       "      <td>8</td>\n",
       "      <td>50</td>\n",
       "      <td>0</td>\n",
       "    </tr>\n",
       "    <tr>\n",
       "      <th>6501</th>\n",
       "      <td>700</td>\n",
       "      <td>Айдар</td>\n",
       "      <td>22</td>\n",
       "      <td>Омск</td>\n",
       "      <td>free</td>\n",
       "      <td>846.932642</td>\n",
       "      <td>17.0</td>\n",
       "      <td>2021-02-01</td>\n",
       "      <td>2</td>\n",
       "      <td>8</td>\n",
       "      <td>50</td>\n",
       "      <td>0</td>\n",
       "    </tr>\n",
       "    <tr>\n",
       "      <th>6502</th>\n",
       "      <td>700</td>\n",
       "      <td>Айдар</td>\n",
       "      <td>22</td>\n",
       "      <td>Омск</td>\n",
       "      <td>free</td>\n",
       "      <td>4004.434142</td>\n",
       "      <td>21.0</td>\n",
       "      <td>2021-02-04</td>\n",
       "      <td>2</td>\n",
       "      <td>8</td>\n",
       "      <td>50</td>\n",
       "      <td>0</td>\n",
       "    </tr>\n",
       "    <tr>\n",
       "      <th>6503</th>\n",
       "      <td>700</td>\n",
       "      <td>Айдар</td>\n",
       "      <td>22</td>\n",
       "      <td>Омск</td>\n",
       "      <td>free</td>\n",
       "      <td>1205.911290</td>\n",
       "      <td>10.0</td>\n",
       "      <td>2021-02-10</td>\n",
       "      <td>2</td>\n",
       "      <td>8</td>\n",
       "      <td>50</td>\n",
       "      <td>0</td>\n",
       "    </tr>\n",
       "    <tr>\n",
       "      <th>6504</th>\n",
       "      <td>700</td>\n",
       "      <td>Айдар</td>\n",
       "      <td>22</td>\n",
       "      <td>Омск</td>\n",
       "      <td>free</td>\n",
       "      <td>3047.379435</td>\n",
       "      <td>18.0</td>\n",
       "      <td>2021-02-14</td>\n",
       "      <td>2</td>\n",
       "      <td>8</td>\n",
       "      <td>50</td>\n",
       "      <td>0</td>\n",
       "    </tr>\n",
       "    <tr>\n",
       "      <th>...</th>\n",
       "      <td>...</td>\n",
       "      <td>...</td>\n",
       "      <td>...</td>\n",
       "      <td>...</td>\n",
       "      <td>...</td>\n",
       "      <td>...</td>\n",
       "      <td>...</td>\n",
       "      <td>...</td>\n",
       "      <td>...</td>\n",
       "      <td>...</td>\n",
       "      <td>...</td>\n",
       "      <td>...</td>\n",
       "    </tr>\n",
       "    <tr>\n",
       "      <th>17968</th>\n",
       "      <td>1534</td>\n",
       "      <td>Альберт</td>\n",
       "      <td>25</td>\n",
       "      <td>Краснодар</td>\n",
       "      <td>free</td>\n",
       "      <td>3781.098080</td>\n",
       "      <td>20.0</td>\n",
       "      <td>2021-11-04</td>\n",
       "      <td>11</td>\n",
       "      <td>8</td>\n",
       "      <td>50</td>\n",
       "      <td>0</td>\n",
       "    </tr>\n",
       "    <tr>\n",
       "      <th>17969</th>\n",
       "      <td>1534</td>\n",
       "      <td>Альберт</td>\n",
       "      <td>25</td>\n",
       "      <td>Краснодар</td>\n",
       "      <td>free</td>\n",
       "      <td>2840.423057</td>\n",
       "      <td>22.0</td>\n",
       "      <td>2021-11-16</td>\n",
       "      <td>11</td>\n",
       "      <td>8</td>\n",
       "      <td>50</td>\n",
       "      <td>0</td>\n",
       "    </tr>\n",
       "    <tr>\n",
       "      <th>17970</th>\n",
       "      <td>1534</td>\n",
       "      <td>Альберт</td>\n",
       "      <td>25</td>\n",
       "      <td>Краснодар</td>\n",
       "      <td>free</td>\n",
       "      <td>3826.185507</td>\n",
       "      <td>19.0</td>\n",
       "      <td>2021-11-18</td>\n",
       "      <td>11</td>\n",
       "      <td>8</td>\n",
       "      <td>50</td>\n",
       "      <td>0</td>\n",
       "    </tr>\n",
       "    <tr>\n",
       "      <th>17971</th>\n",
       "      <td>1534</td>\n",
       "      <td>Альберт</td>\n",
       "      <td>25</td>\n",
       "      <td>Краснодар</td>\n",
       "      <td>free</td>\n",
       "      <td>2902.308661</td>\n",
       "      <td>17.0</td>\n",
       "      <td>2021-11-27</td>\n",
       "      <td>11</td>\n",
       "      <td>8</td>\n",
       "      <td>50</td>\n",
       "      <td>0</td>\n",
       "    </tr>\n",
       "    <tr>\n",
       "      <th>17972</th>\n",
       "      <td>1534</td>\n",
       "      <td>Альберт</td>\n",
       "      <td>25</td>\n",
       "      <td>Краснодар</td>\n",
       "      <td>free</td>\n",
       "      <td>2371.711192</td>\n",
       "      <td>16.0</td>\n",
       "      <td>2021-12-29</td>\n",
       "      <td>12</td>\n",
       "      <td>8</td>\n",
       "      <td>50</td>\n",
       "      <td>0</td>\n",
       "    </tr>\n",
       "  </tbody>\n",
       "</table>\n",
       "<p>11473 rows × 12 columns</p>\n",
       "</div>"
      ],
      "text/plain": [
       "       user_id     name  age       city subscription_type     distance  \\\n",
       "6500       700    Айдар   22       Омск              free  2515.690719   \n",
       "6501       700    Айдар   22       Омск              free   846.932642   \n",
       "6502       700    Айдар   22       Омск              free  4004.434142   \n",
       "6503       700    Айдар   22       Омск              free  1205.911290   \n",
       "6504       700    Айдар   22       Омск              free  3047.379435   \n",
       "...        ...      ...  ...        ...               ...          ...   \n",
       "17968     1534  Альберт   25  Краснодар              free  3781.098080   \n",
       "17969     1534  Альберт   25  Краснодар              free  2840.423057   \n",
       "17970     1534  Альберт   25  Краснодар              free  3826.185507   \n",
       "17971     1534  Альберт   25  Краснодар              free  2902.308661   \n",
       "17972     1534  Альберт   25  Краснодар              free  2371.711192   \n",
       "\n",
       "       duration       date  date_month  minute_price  start_ride_price  \\\n",
       "6500       15.0 2021-01-02           1             8                50   \n",
       "6501       17.0 2021-02-01           2             8                50   \n",
       "6502       21.0 2021-02-04           2             8                50   \n",
       "6503       10.0 2021-02-10           2             8                50   \n",
       "6504       18.0 2021-02-14           2             8                50   \n",
       "...         ...        ...         ...           ...               ...   \n",
       "17968      20.0 2021-11-04          11             8                50   \n",
       "17969      22.0 2021-11-16          11             8                50   \n",
       "17970      19.0 2021-11-18          11             8                50   \n",
       "17971      17.0 2021-11-27          11             8                50   \n",
       "17972      16.0 2021-12-29          12             8                50   \n",
       "\n",
       "       subscription_fee  \n",
       "6500                  0  \n",
       "6501                  0  \n",
       "6502                  0  \n",
       "6503                  0  \n",
       "6504                  0  \n",
       "...                 ...  \n",
       "17968                 0  \n",
       "17969                 0  \n",
       "17970                 0  \n",
       "17971                 0  \n",
       "17972                 0  \n",
       "\n",
       "[11473 rows x 12 columns]"
      ]
     },
     "metadata": {},
     "output_type": "display_data"
    }
   ],
   "source": [
    "data_free = data_full.query('subscription_type == \"free\"')\n",
    "display((data_free))"
   ]
  },
  {
   "cell_type": "code",
   "execution_count": 46,
   "id": "5a91dfac",
   "metadata": {
    "scrolled": true
   },
   "outputs": [
    {
     "data": {
      "text/html": [
       "<div>\n",
       "<style scoped>\n",
       "    .dataframe tbody tr th:only-of-type {\n",
       "        vertical-align: middle;\n",
       "    }\n",
       "\n",
       "    .dataframe tbody tr th {\n",
       "        vertical-align: top;\n",
       "    }\n",
       "\n",
       "    .dataframe thead th {\n",
       "        text-align: right;\n",
       "    }\n",
       "</style>\n",
       "<table border=\"1\" class=\"dataframe\">\n",
       "  <thead>\n",
       "    <tr style=\"text-align: right;\">\n",
       "      <th></th>\n",
       "      <th>user_id</th>\n",
       "      <th>name</th>\n",
       "      <th>age</th>\n",
       "      <th>city</th>\n",
       "      <th>subscription_type</th>\n",
       "      <th>distance</th>\n",
       "      <th>duration</th>\n",
       "      <th>date</th>\n",
       "      <th>date_month</th>\n",
       "      <th>minute_price</th>\n",
       "      <th>start_ride_price</th>\n",
       "      <th>subscription_fee</th>\n",
       "    </tr>\n",
       "  </thead>\n",
       "  <tbody>\n",
       "    <tr>\n",
       "      <th>0</th>\n",
       "      <td>1</td>\n",
       "      <td>Кира</td>\n",
       "      <td>22</td>\n",
       "      <td>Тюмень</td>\n",
       "      <td>ultra</td>\n",
       "      <td>4409.919140</td>\n",
       "      <td>26.0</td>\n",
       "      <td>2021-01-01</td>\n",
       "      <td>1</td>\n",
       "      <td>6</td>\n",
       "      <td>0</td>\n",
       "      <td>199</td>\n",
       "    </tr>\n",
       "    <tr>\n",
       "      <th>1</th>\n",
       "      <td>1</td>\n",
       "      <td>Кира</td>\n",
       "      <td>22</td>\n",
       "      <td>Тюмень</td>\n",
       "      <td>ultra</td>\n",
       "      <td>2617.592153</td>\n",
       "      <td>16.0</td>\n",
       "      <td>2021-01-18</td>\n",
       "      <td>1</td>\n",
       "      <td>6</td>\n",
       "      <td>0</td>\n",
       "      <td>199</td>\n",
       "    </tr>\n",
       "    <tr>\n",
       "      <th>2</th>\n",
       "      <td>1</td>\n",
       "      <td>Кира</td>\n",
       "      <td>22</td>\n",
       "      <td>Тюмень</td>\n",
       "      <td>ultra</td>\n",
       "      <td>754.159807</td>\n",
       "      <td>7.0</td>\n",
       "      <td>2021-04-20</td>\n",
       "      <td>4</td>\n",
       "      <td>6</td>\n",
       "      <td>0</td>\n",
       "      <td>199</td>\n",
       "    </tr>\n",
       "    <tr>\n",
       "      <th>3</th>\n",
       "      <td>1</td>\n",
       "      <td>Кира</td>\n",
       "      <td>22</td>\n",
       "      <td>Тюмень</td>\n",
       "      <td>ultra</td>\n",
       "      <td>2694.783254</td>\n",
       "      <td>19.0</td>\n",
       "      <td>2021-08-11</td>\n",
       "      <td>8</td>\n",
       "      <td>6</td>\n",
       "      <td>0</td>\n",
       "      <td>199</td>\n",
       "    </tr>\n",
       "    <tr>\n",
       "      <th>4</th>\n",
       "      <td>1</td>\n",
       "      <td>Кира</td>\n",
       "      <td>22</td>\n",
       "      <td>Тюмень</td>\n",
       "      <td>ultra</td>\n",
       "      <td>4028.687306</td>\n",
       "      <td>27.0</td>\n",
       "      <td>2021-08-28</td>\n",
       "      <td>8</td>\n",
       "      <td>6</td>\n",
       "      <td>0</td>\n",
       "      <td>199</td>\n",
       "    </tr>\n",
       "  </tbody>\n",
       "</table>\n",
       "</div>"
      ],
      "text/plain": [
       "   user_id  name  age    city subscription_type     distance  duration  \\\n",
       "0        1  Кира   22  Тюмень             ultra  4409.919140      26.0   \n",
       "1        1  Кира   22  Тюмень             ultra  2617.592153      16.0   \n",
       "2        1  Кира   22  Тюмень             ultra   754.159807       7.0   \n",
       "3        1  Кира   22  Тюмень             ultra  2694.783254      19.0   \n",
       "4        1  Кира   22  Тюмень             ultra  4028.687306      27.0   \n",
       "\n",
       "        date  date_month  minute_price  start_ride_price  subscription_fee  \n",
       "0 2021-01-01           1             6                 0               199  \n",
       "1 2021-01-18           1             6                 0               199  \n",
       "2 2021-04-20           4             6                 0               199  \n",
       "3 2021-08-11           8             6                 0               199  \n",
       "4 2021-08-28           8             6                 0               199  "
      ]
     },
     "metadata": {},
     "output_type": "display_data"
    }
   ],
   "source": [
    "data_ultra = data_full.query('subscription_type == \"ultra\"')\n",
    "display((data_ultra.head()))"
   ]
  },
  {
   "cell_type": "code",
   "execution_count": 47,
   "id": "961c0820",
   "metadata": {},
   "outputs": [
    {
     "data": {
      "text/html": [
       "<div>\n",
       "<style scoped>\n",
       "    .dataframe tbody tr th:only-of-type {\n",
       "        vertical-align: middle;\n",
       "    }\n",
       "\n",
       "    .dataframe tbody tr th {\n",
       "        vertical-align: top;\n",
       "    }\n",
       "\n",
       "    .dataframe thead th {\n",
       "        text-align: right;\n",
       "    }\n",
       "</style>\n",
       "<table border=\"1\" class=\"dataframe\">\n",
       "  <thead>\n",
       "    <tr style=\"text-align: right;\">\n",
       "      <th></th>\n",
       "      <th></th>\n",
       "      <th>duration</th>\n",
       "    </tr>\n",
       "    <tr>\n",
       "      <th>user_id</th>\n",
       "      <th>date_month</th>\n",
       "      <th></th>\n",
       "    </tr>\n",
       "  </thead>\n",
       "  <tbody>\n",
       "    <tr>\n",
       "      <th rowspan=\"5\" valign=\"top\">700</th>\n",
       "      <th>1</th>\n",
       "      <td>15.0</td>\n",
       "    </tr>\n",
       "    <tr>\n",
       "      <th>2</th>\n",
       "      <td>17.8</td>\n",
       "    </tr>\n",
       "    <tr>\n",
       "      <th>3</th>\n",
       "      <td>19.0</td>\n",
       "    </tr>\n",
       "    <tr>\n",
       "      <th>4</th>\n",
       "      <td>16.0</td>\n",
       "    </tr>\n",
       "    <tr>\n",
       "      <th>6</th>\n",
       "      <td>14.5</td>\n",
       "    </tr>\n",
       "    <tr>\n",
       "      <th>...</th>\n",
       "      <th>...</th>\n",
       "      <td>...</td>\n",
       "    </tr>\n",
       "    <tr>\n",
       "      <th rowspan=\"5\" valign=\"top\">1534</th>\n",
       "      <th>6</th>\n",
       "      <td>13.0</td>\n",
       "    </tr>\n",
       "    <tr>\n",
       "      <th>8</th>\n",
       "      <td>24.0</td>\n",
       "    </tr>\n",
       "    <tr>\n",
       "      <th>9</th>\n",
       "      <td>23.0</td>\n",
       "    </tr>\n",
       "    <tr>\n",
       "      <th>11</th>\n",
       "      <td>19.5</td>\n",
       "    </tr>\n",
       "    <tr>\n",
       "      <th>12</th>\n",
       "      <td>16.0</td>\n",
       "    </tr>\n",
       "  </tbody>\n",
       "</table>\n",
       "<p>6767 rows × 1 columns</p>\n",
       "</div>"
      ],
      "text/plain": [
       "                    duration\n",
       "user_id date_month          \n",
       "700     1               15.0\n",
       "        2               17.8\n",
       "        3               19.0\n",
       "        4               16.0\n",
       "        6               14.5\n",
       "...                      ...\n",
       "1534    6               13.0\n",
       "        8               24.0\n",
       "        9               23.0\n",
       "        11              19.5\n",
       "        12              16.0\n",
       "\n",
       "[6767 rows x 1 columns]"
      ]
     },
     "execution_count": 47,
     "metadata": {},
     "output_type": "execute_result"
    }
   ],
   "source": [
    "data_free_month = data_free.pivot_table(index=['user_id', 'date_month'], values='duration')\n",
    "data_free_month "
   ]
  },
  {
   "cell_type": "markdown",
   "id": "aee580ec",
   "metadata": {},
   "source": [
    "##### Визуализация информации о расстоянии и времени поездки"
   ]
  },
  {
   "cell_type": "markdown",
   "id": "eee1dc38",
   "metadata": {},
   "source": [
    "- Создадим сводную таблицу по расстоянию"
   ]
  },
  {
   "cell_type": "code",
   "execution_count": 48,
   "id": "a821b3f2",
   "metadata": {},
   "outputs": [],
   "source": [
    "data_free_distance = data_free.pivot_table(index='user_id', values='distance', aggfunc='mean')\n",
    "#display(data_free_distance)"
   ]
  },
  {
   "cell_type": "code",
   "execution_count": 49,
   "id": "c14720e0",
   "metadata": {},
   "outputs": [],
   "source": [
    "data_free_duration = data_free.pivot_table(index='user_id', values='duration', aggfunc='mean')\n",
    "#display(data_free_duration)"
   ]
  },
  {
   "cell_type": "code",
   "execution_count": 50,
   "id": "2eae31e7",
   "metadata": {},
   "outputs": [],
   "source": [
    "data_ultra_distance = data_ultra.pivot_table(index='user_id', values='distance', aggfunc='mean')\n",
    "#display(data_ultra_distance)"
   ]
  },
  {
   "cell_type": "code",
   "execution_count": 51,
   "id": "92ba25e3",
   "metadata": {},
   "outputs": [],
   "source": [
    "data_ultra_duration = data_ultra.pivot_table(index='user_id', values='duration', aggfunc='mean')\n",
    "#display(data_ultra_duration)"
   ]
  },
  {
   "cell_type": "code",
   "execution_count": 52,
   "id": "d03610fe",
   "metadata": {},
   "outputs": [
    {
     "data": {
      "image/png": "[encoded data removed]",
      "text/plain": [
       "<Figure size 640x480 with 1 Axes>"
      ]
     },
     "metadata": {},
     "output_type": "display_data"
    }
   ],
   "source": [
    "plt.hist(data_free_distance, bins=10,  alpha = 0.5, label='Без подписки');\n",
    "plt.hist(data_ultra_distance, bins=10,  alpha = 0.5, label='C подпиской');\n",
    "plt.legend();"
   ]
  },
  {
   "cell_type": "code",
   "execution_count": 53,
   "id": "e52ece48",
   "metadata": {},
   "outputs": [
    {
     "data": {
      "image/png": "[encoded data removed]",
      "text/plain": [
       "<Figure size 640x480 with 1 Axes>"
      ]
     },
     "metadata": {},
     "output_type": "display_data"
    }
   ],
   "source": [
    "plt.hist(data_free_duration, bins=10,  alpha = 0.5, label='Без подписки');\n",
    "plt.hist(data_ultra_duration, bins=10,  alpha = 0.5, label='C подпиской');\n",
    "plt.legend();"
   ]
  },
  {
   "cell_type": "code",
   "execution_count": 54,
   "id": "a2faa8bd",
   "metadata": {},
   "outputs": [
    {
     "data": {
      "text/html": [
       "<div>\n",
       "<style scoped>\n",
       "    .dataframe tbody tr th:only-of-type {\n",
       "        vertical-align: middle;\n",
       "    }\n",
       "\n",
       "    .dataframe tbody tr th {\n",
       "        vertical-align: top;\n",
       "    }\n",
       "\n",
       "    .dataframe thead th {\n",
       "        text-align: right;\n",
       "    }\n",
       "</style>\n",
       "<table border=\"1\" class=\"dataframe\">\n",
       "  <thead>\n",
       "    <tr style=\"text-align: right;\">\n",
       "      <th></th>\n",
       "      <th>distance</th>\n",
       "    </tr>\n",
       "  </thead>\n",
       "  <tbody>\n",
       "    <tr>\n",
       "      <th>count</th>\n",
       "      <td>835.000000</td>\n",
       "    </tr>\n",
       "    <tr>\n",
       "      <th>mean</th>\n",
       "      <td>3029.490437</td>\n",
       "    </tr>\n",
       "    <tr>\n",
       "      <th>std</th>\n",
       "      <td>346.157301</td>\n",
       "    </tr>\n",
       "    <tr>\n",
       "      <th>min</th>\n",
       "      <td>1630.788427</td>\n",
       "    </tr>\n",
       "    <tr>\n",
       "      <th>25%</th>\n",
       "      <td>2798.050497</td>\n",
       "    </tr>\n",
       "    <tr>\n",
       "      <th>50%</th>\n",
       "      <td>3043.898267</td>\n",
       "    </tr>\n",
       "    <tr>\n",
       "      <th>75%</th>\n",
       "      <td>3263.868485</td>\n",
       "    </tr>\n",
       "    <tr>\n",
       "      <th>max</th>\n",
       "      <td>4287.519387</td>\n",
       "    </tr>\n",
       "  </tbody>\n",
       "</table>\n",
       "</div>"
      ],
      "text/plain": [
       "          distance\n",
       "count   835.000000\n",
       "mean   3029.490437\n",
       "std     346.157301\n",
       "min    1630.788427\n",
       "25%    2798.050497\n",
       "50%    3043.898267\n",
       "75%    3263.868485\n",
       "max    4287.519387"
      ]
     },
     "execution_count": 54,
     "metadata": {},
     "output_type": "execute_result"
    }
   ],
   "source": [
    "data_free_distance.describe()"
   ]
  },
  {
   "cell_type": "code",
   "execution_count": 55,
   "id": "73524dce",
   "metadata": {},
   "outputs": [
    {
     "data": {
      "text/html": [
       "<div>\n",
       "<style scoped>\n",
       "    .dataframe tbody tr th:only-of-type {\n",
       "        vertical-align: middle;\n",
       "    }\n",
       "\n",
       "    .dataframe tbody tr th {\n",
       "        vertical-align: top;\n",
       "    }\n",
       "\n",
       "    .dataframe thead th {\n",
       "        text-align: right;\n",
       "    }\n",
       "</style>\n",
       "<table border=\"1\" class=\"dataframe\">\n",
       "  <thead>\n",
       "    <tr style=\"text-align: right;\">\n",
       "      <th></th>\n",
       "      <th>distance</th>\n",
       "    </tr>\n",
       "  </thead>\n",
       "  <tbody>\n",
       "    <tr>\n",
       "      <th>count</th>\n",
       "      <td>699.000000</td>\n",
       "    </tr>\n",
       "    <tr>\n",
       "      <th>mean</th>\n",
       "      <td>3113.459926</td>\n",
       "    </tr>\n",
       "    <tr>\n",
       "      <th>std</th>\n",
       "      <td>299.706136</td>\n",
       "    </tr>\n",
       "    <tr>\n",
       "      <th>min</th>\n",
       "      <td>2098.297845</td>\n",
       "    </tr>\n",
       "    <tr>\n",
       "      <th>25%</th>\n",
       "      <td>2925.005435</td>\n",
       "    </tr>\n",
       "    <tr>\n",
       "      <th>50%</th>\n",
       "      <td>3134.349186</td>\n",
       "    </tr>\n",
       "    <tr>\n",
       "      <th>75%</th>\n",
       "      <td>3312.191643</td>\n",
       "    </tr>\n",
       "    <tr>\n",
       "      <th>max</th>\n",
       "      <td>3939.773328</td>\n",
       "    </tr>\n",
       "  </tbody>\n",
       "</table>\n",
       "</div>"
      ],
      "text/plain": [
       "          distance\n",
       "count   699.000000\n",
       "mean   3113.459926\n",
       "std     299.706136\n",
       "min    2098.297845\n",
       "25%    2925.005435\n",
       "50%    3134.349186\n",
       "75%    3312.191643\n",
       "max    3939.773328"
      ]
     },
     "execution_count": 55,
     "metadata": {},
     "output_type": "execute_result"
    }
   ],
   "source": [
    "data_ultra_distance.describe()"
   ]
  },
  {
   "cell_type": "code",
   "execution_count": 56,
   "id": "fdf98245",
   "metadata": {},
   "outputs": [
    {
     "data": {
      "text/html": [
       "<div>\n",
       "<style scoped>\n",
       "    .dataframe tbody tr th:only-of-type {\n",
       "        vertical-align: middle;\n",
       "    }\n",
       "\n",
       "    .dataframe tbody tr th {\n",
       "        vertical-align: top;\n",
       "    }\n",
       "\n",
       "    .dataframe thead th {\n",
       "        text-align: right;\n",
       "    }\n",
       "</style>\n",
       "<table border=\"1\" class=\"dataframe\">\n",
       "  <thead>\n",
       "    <tr style=\"text-align: right;\">\n",
       "      <th></th>\n",
       "      <th>duration</th>\n",
       "    </tr>\n",
       "  </thead>\n",
       "  <tbody>\n",
       "    <tr>\n",
       "      <th>count</th>\n",
       "      <td>835.000000</td>\n",
       "    </tr>\n",
       "    <tr>\n",
       "      <th>mean</th>\n",
       "      <td>18.025388</td>\n",
       "    </tr>\n",
       "    <tr>\n",
       "      <th>std</th>\n",
       "      <td>1.714819</td>\n",
       "    </tr>\n",
       "    <tr>\n",
       "      <th>min</th>\n",
       "      <td>11.625000</td>\n",
       "    </tr>\n",
       "    <tr>\n",
       "      <th>25%</th>\n",
       "      <td>16.916667</td>\n",
       "    </tr>\n",
       "    <tr>\n",
       "      <th>50%</th>\n",
       "      <td>18.066667</td>\n",
       "    </tr>\n",
       "    <tr>\n",
       "      <th>75%</th>\n",
       "      <td>19.179144</td>\n",
       "    </tr>\n",
       "    <tr>\n",
       "      <th>max</th>\n",
       "      <td>23.666667</td>\n",
       "    </tr>\n",
       "  </tbody>\n",
       "</table>\n",
       "</div>"
      ],
      "text/plain": [
       "         duration\n",
       "count  835.000000\n",
       "mean    18.025388\n",
       "std      1.714819\n",
       "min     11.625000\n",
       "25%     16.916667\n",
       "50%     18.066667\n",
       "75%     19.179144\n",
       "max     23.666667"
      ]
     },
     "execution_count": 56,
     "metadata": {},
     "output_type": "execute_result"
    }
   ],
   "source": [
    "data_free_duration.describe()"
   ]
  },
  {
   "cell_type": "code",
   "execution_count": 57,
   "id": "296e6567",
   "metadata": {},
   "outputs": [
    {
     "data": {
      "text/html": [
       "<div>\n",
       "<style scoped>\n",
       "    .dataframe tbody tr th:only-of-type {\n",
       "        vertical-align: middle;\n",
       "    }\n",
       "\n",
       "    .dataframe tbody tr th {\n",
       "        vertical-align: top;\n",
       "    }\n",
       "\n",
       "    .dataframe thead th {\n",
       "        text-align: right;\n",
       "    }\n",
       "</style>\n",
       "<table border=\"1\" class=\"dataframe\">\n",
       "  <thead>\n",
       "    <tr style=\"text-align: right;\">\n",
       "      <th></th>\n",
       "      <th>duration</th>\n",
       "    </tr>\n",
       "  </thead>\n",
       "  <tbody>\n",
       "    <tr>\n",
       "      <th>count</th>\n",
       "      <td>699.000000</td>\n",
       "    </tr>\n",
       "    <tr>\n",
       "      <th>mean</th>\n",
       "      <td>19.069134</td>\n",
       "    </tr>\n",
       "    <tr>\n",
       "      <th>std</th>\n",
       "      <td>2.020165</td>\n",
       "    </tr>\n",
       "    <tr>\n",
       "      <th>min</th>\n",
       "      <td>11.666667</td>\n",
       "    </tr>\n",
       "    <tr>\n",
       "      <th>25%</th>\n",
       "      <td>17.738636</td>\n",
       "    </tr>\n",
       "    <tr>\n",
       "      <th>50%</th>\n",
       "      <td>19.125000</td>\n",
       "    </tr>\n",
       "    <tr>\n",
       "      <th>75%</th>\n",
       "      <td>20.292857</td>\n",
       "    </tr>\n",
       "    <tr>\n",
       "      <th>max</th>\n",
       "      <td>26.600000</td>\n",
       "    </tr>\n",
       "  </tbody>\n",
       "</table>\n",
       "</div>"
      ],
      "text/plain": [
       "         duration\n",
       "count  699.000000\n",
       "mean    19.069134\n",
       "std      2.020165\n",
       "min     11.666667\n",
       "25%     17.738636\n",
       "50%     19.125000\n",
       "75%     20.292857\n",
       "max     26.600000"
      ]
     },
     "execution_count": 57,
     "metadata": {},
     "output_type": "execute_result"
    }
   ],
   "source": [
    "data_ultra_duration.describe()"
   ]
  },
  {
   "cell_type": "markdown",
   "id": "7b6b3faa",
   "metadata": {},
   "source": [
    "Из полученных гистограмм и описательных данных, видно, что пользователи, не оформивишие платную подписку чаще всего ездят на расстояния в 3 км, в течение 17-18 минут, тогда как пользователия с платной подпиской предпочитают чуть более дальние поездки (до 3,3 км) и тратят на них 18-20 минут."
   ]
  },
  {
   "cell_type": "markdown",
   "id": "402d620f",
   "metadata": {},
   "source": [
    "#### Шаг 5. Подсчёт выручки"
   ]
  },
  {
   "cell_type": "markdown",
   "id": "fa0159ab",
   "metadata": {},
   "source": [
    "##### Создание датафрейма с агрегированными данными по каждому пользователю"
   ]
  },
  {
   "cell_type": "code",
   "execution_count": 58,
   "id": "60946dab",
   "metadata": {},
   "outputs": [],
   "source": [
    "data_full_agregate = data_full.pivot_table(\n",
    "    index=['user_id', 'date_month'],\n",
    "    values = ['distance', 'duration', 'subscription_type', 'name', 'start_ride_price', 'minute_price', 'subscription_fee'],\n",
    "    aggfunc={'distance':'sum', 'duration':'sum', 'subscription_type': 'min', 'name' : 'count', 'start_ride_price' : 'min',\n",
    "        'minute_price' : 'min', 'subscription_fee' : 'min'\n",
    "    })\n",
    "data_full_agregate.columns = [\n",
    "    'distance_sum', 'duration_sum', 'minute_price', 'count', 'start_ride_price', 'subscription_fee', 'subscription_type']"
   ]
  },
  {
   "cell_type": "code",
   "execution_count": 59,
   "id": "62bd7c00",
   "metadata": {
    "scrolled": true
   },
   "outputs": [
    {
     "data": {
      "text/html": [
       "<div>\n",
       "<style scoped>\n",
       "    .dataframe tbody tr th:only-of-type {\n",
       "        vertical-align: middle;\n",
       "    }\n",
       "\n",
       "    .dataframe tbody tr th {\n",
       "        vertical-align: top;\n",
       "    }\n",
       "\n",
       "    .dataframe thead th {\n",
       "        text-align: right;\n",
       "    }\n",
       "</style>\n",
       "<table border=\"1\" class=\"dataframe\">\n",
       "  <thead>\n",
       "    <tr style=\"text-align: right;\">\n",
       "      <th></th>\n",
       "      <th></th>\n",
       "      <th>distance_sum</th>\n",
       "      <th>duration_sum</th>\n",
       "      <th>minute_price</th>\n",
       "      <th>count</th>\n",
       "      <th>start_ride_price</th>\n",
       "      <th>subscription_fee</th>\n",
       "      <th>subscription_type</th>\n",
       "    </tr>\n",
       "    <tr>\n",
       "      <th>user_id</th>\n",
       "      <th>date_month</th>\n",
       "      <th></th>\n",
       "      <th></th>\n",
       "      <th></th>\n",
       "      <th></th>\n",
       "      <th></th>\n",
       "      <th></th>\n",
       "      <th></th>\n",
       "    </tr>\n",
       "  </thead>\n",
       "  <tbody>\n",
       "    <tr>\n",
       "      <th rowspan=\"6\" valign=\"top\">1</th>\n",
       "      <th>1</th>\n",
       "      <td>7027.511294</td>\n",
       "      <td>42.0</td>\n",
       "      <td>6</td>\n",
       "      <td>2</td>\n",
       "      <td>0</td>\n",
       "      <td>199</td>\n",
       "      <td>ultra</td>\n",
       "    </tr>\n",
       "    <tr>\n",
       "      <th>4</th>\n",
       "      <td>754.159807</td>\n",
       "      <td>7.0</td>\n",
       "      <td>6</td>\n",
       "      <td>1</td>\n",
       "      <td>0</td>\n",
       "      <td>199</td>\n",
       "      <td>ultra</td>\n",
       "    </tr>\n",
       "    <tr>\n",
       "      <th>8</th>\n",
       "      <td>6723.470560</td>\n",
       "      <td>46.0</td>\n",
       "      <td>6</td>\n",
       "      <td>2</td>\n",
       "      <td>0</td>\n",
       "      <td>199</td>\n",
       "      <td>ultra</td>\n",
       "    </tr>\n",
       "    <tr>\n",
       "      <th>10</th>\n",
       "      <td>5809.911100</td>\n",
       "      <td>32.0</td>\n",
       "      <td>6</td>\n",
       "      <td>2</td>\n",
       "      <td>0</td>\n",
       "      <td>199</td>\n",
       "      <td>ultra</td>\n",
       "    </tr>\n",
       "    <tr>\n",
       "      <th>11</th>\n",
       "      <td>7003.499363</td>\n",
       "      <td>56.0</td>\n",
       "      <td>6</td>\n",
       "      <td>3</td>\n",
       "      <td>0</td>\n",
       "      <td>199</td>\n",
       "      <td>ultra</td>\n",
       "    </tr>\n",
       "    <tr>\n",
       "      <th>12</th>\n",
       "      <td>6751.629942</td>\n",
       "      <td>28.0</td>\n",
       "      <td>6</td>\n",
       "      <td>2</td>\n",
       "      <td>0</td>\n",
       "      <td>199</td>\n",
       "      <td>ultra</td>\n",
       "    </tr>\n",
       "    <tr>\n",
       "      <th rowspan=\"4\" valign=\"top\">2</th>\n",
       "      <th>3</th>\n",
       "      <td>10187.723006</td>\n",
       "      <td>63.0</td>\n",
       "      <td>6</td>\n",
       "      <td>3</td>\n",
       "      <td>0</td>\n",
       "      <td>199</td>\n",
       "      <td>ultra</td>\n",
       "    </tr>\n",
       "    <tr>\n",
       "      <th>4</th>\n",
       "      <td>6164.381824</td>\n",
       "      <td>40.0</td>\n",
       "      <td>6</td>\n",
       "      <td>2</td>\n",
       "      <td>0</td>\n",
       "      <td>199</td>\n",
       "      <td>ultra</td>\n",
       "    </tr>\n",
       "    <tr>\n",
       "      <th>6</th>\n",
       "      <td>3255.338202</td>\n",
       "      <td>14.0</td>\n",
       "      <td>6</td>\n",
       "      <td>1</td>\n",
       "      <td>0</td>\n",
       "      <td>199</td>\n",
       "      <td>ultra</td>\n",
       "    </tr>\n",
       "    <tr>\n",
       "      <th>7</th>\n",
       "      <td>6780.722964</td>\n",
       "      <td>48.0</td>\n",
       "      <td>6</td>\n",
       "      <td>2</td>\n",
       "      <td>0</td>\n",
       "      <td>199</td>\n",
       "      <td>ultra</td>\n",
       "    </tr>\n",
       "  </tbody>\n",
       "</table>\n",
       "</div>"
      ],
      "text/plain": [
       "                    distance_sum  duration_sum  minute_price  count  \\\n",
       "user_id date_month                                                    \n",
       "1       1            7027.511294          42.0             6      2   \n",
       "        4             754.159807           7.0             6      1   \n",
       "        8            6723.470560          46.0             6      2   \n",
       "        10           5809.911100          32.0             6      2   \n",
       "        11           7003.499363          56.0             6      3   \n",
       "        12           6751.629942          28.0             6      2   \n",
       "2       3           10187.723006          63.0             6      3   \n",
       "        4            6164.381824          40.0             6      2   \n",
       "        6            3255.338202          14.0             6      1   \n",
       "        7            6780.722964          48.0             6      2   \n",
       "\n",
       "                    start_ride_price  subscription_fee subscription_type  \n",
       "user_id date_month                                                        \n",
       "1       1                          0               199             ultra  \n",
       "        4                          0               199             ultra  \n",
       "        8                          0               199             ultra  \n",
       "        10                         0               199             ultra  \n",
       "        11                         0               199             ultra  \n",
       "        12                         0               199             ultra  \n",
       "2       3                          0               199             ultra  \n",
       "        4                          0               199             ultra  \n",
       "        6                          0               199             ultra  \n",
       "        7                          0               199             ultra  "
      ]
     },
     "execution_count": 59,
     "metadata": {},
     "output_type": "execute_result"
    }
   ],
   "source": [
    "data_full_agregate.head(10)"
   ]
  },
  {
   "cell_type": "markdown",
   "id": "41bfec11",
   "metadata": {},
   "source": [
    "Добавляем в полученный датафрейм столбец с выручкой 'revenue' вычисленной по формуле: Помесячная выручка считается по формуле: (стоимость старта поездки × количество поездок) + (стоимость одной минуты поездки × общая продолжительность всех поездок в минутах) + стоимость подписки."
   ]
  },
  {
   "cell_type": "code",
   "execution_count": 60,
   "id": "50f1e554",
   "metadata": {
    "scrolled": false
   },
   "outputs": [
    {
     "data": {
      "text/html": [
       "<div>\n",
       "<style scoped>\n",
       "    .dataframe tbody tr th:only-of-type {\n",
       "        vertical-align: middle;\n",
       "    }\n",
       "\n",
       "    .dataframe tbody tr th {\n",
       "        vertical-align: top;\n",
       "    }\n",
       "\n",
       "    .dataframe thead th {\n",
       "        text-align: right;\n",
       "    }\n",
       "</style>\n",
       "<table border=\"1\" class=\"dataframe\">\n",
       "  <thead>\n",
       "    <tr style=\"text-align: right;\">\n",
       "      <th></th>\n",
       "      <th></th>\n",
       "      <th>distance_sum</th>\n",
       "      <th>duration_sum</th>\n",
       "      <th>minute_price</th>\n",
       "      <th>count</th>\n",
       "      <th>start_ride_price</th>\n",
       "      <th>subscription_fee</th>\n",
       "      <th>subscription_type</th>\n",
       "      <th>revenue</th>\n",
       "    </tr>\n",
       "    <tr>\n",
       "      <th>user_id</th>\n",
       "      <th>date_month</th>\n",
       "      <th></th>\n",
       "      <th></th>\n",
       "      <th></th>\n",
       "      <th></th>\n",
       "      <th></th>\n",
       "      <th></th>\n",
       "      <th></th>\n",
       "      <th></th>\n",
       "    </tr>\n",
       "  </thead>\n",
       "  <tbody>\n",
       "    <tr>\n",
       "      <th rowspan=\"6\" valign=\"top\">1</th>\n",
       "      <th>1</th>\n",
       "      <td>7027.511294</td>\n",
       "      <td>42.0</td>\n",
       "      <td>6</td>\n",
       "      <td>2</td>\n",
       "      <td>0</td>\n",
       "      <td>199</td>\n",
       "      <td>ultra</td>\n",
       "      <td>451.0</td>\n",
       "    </tr>\n",
       "    <tr>\n",
       "      <th>4</th>\n",
       "      <td>754.159807</td>\n",
       "      <td>7.0</td>\n",
       "      <td>6</td>\n",
       "      <td>1</td>\n",
       "      <td>0</td>\n",
       "      <td>199</td>\n",
       "      <td>ultra</td>\n",
       "      <td>241.0</td>\n",
       "    </tr>\n",
       "    <tr>\n",
       "      <th>8</th>\n",
       "      <td>6723.470560</td>\n",
       "      <td>46.0</td>\n",
       "      <td>6</td>\n",
       "      <td>2</td>\n",
       "      <td>0</td>\n",
       "      <td>199</td>\n",
       "      <td>ultra</td>\n",
       "      <td>475.0</td>\n",
       "    </tr>\n",
       "    <tr>\n",
       "      <th>10</th>\n",
       "      <td>5809.911100</td>\n",
       "      <td>32.0</td>\n",
       "      <td>6</td>\n",
       "      <td>2</td>\n",
       "      <td>0</td>\n",
       "      <td>199</td>\n",
       "      <td>ultra</td>\n",
       "      <td>391.0</td>\n",
       "    </tr>\n",
       "    <tr>\n",
       "      <th>11</th>\n",
       "      <td>7003.499363</td>\n",
       "      <td>56.0</td>\n",
       "      <td>6</td>\n",
       "      <td>3</td>\n",
       "      <td>0</td>\n",
       "      <td>199</td>\n",
       "      <td>ultra</td>\n",
       "      <td>535.0</td>\n",
       "    </tr>\n",
       "    <tr>\n",
       "      <th>12</th>\n",
       "      <td>6751.629942</td>\n",
       "      <td>28.0</td>\n",
       "      <td>6</td>\n",
       "      <td>2</td>\n",
       "      <td>0</td>\n",
       "      <td>199</td>\n",
       "      <td>ultra</td>\n",
       "      <td>367.0</td>\n",
       "    </tr>\n",
       "    <tr>\n",
       "      <th rowspan=\"4\" valign=\"top\">2</th>\n",
       "      <th>3</th>\n",
       "      <td>10187.723006</td>\n",
       "      <td>63.0</td>\n",
       "      <td>6</td>\n",
       "      <td>3</td>\n",
       "      <td>0</td>\n",
       "      <td>199</td>\n",
       "      <td>ultra</td>\n",
       "      <td>577.0</td>\n",
       "    </tr>\n",
       "    <tr>\n",
       "      <th>4</th>\n",
       "      <td>6164.381824</td>\n",
       "      <td>40.0</td>\n",
       "      <td>6</td>\n",
       "      <td>2</td>\n",
       "      <td>0</td>\n",
       "      <td>199</td>\n",
       "      <td>ultra</td>\n",
       "      <td>439.0</td>\n",
       "    </tr>\n",
       "    <tr>\n",
       "      <th>6</th>\n",
       "      <td>3255.338202</td>\n",
       "      <td>14.0</td>\n",
       "      <td>6</td>\n",
       "      <td>1</td>\n",
       "      <td>0</td>\n",
       "      <td>199</td>\n",
       "      <td>ultra</td>\n",
       "      <td>283.0</td>\n",
       "    </tr>\n",
       "    <tr>\n",
       "      <th>7</th>\n",
       "      <td>6780.722964</td>\n",
       "      <td>48.0</td>\n",
       "      <td>6</td>\n",
       "      <td>2</td>\n",
       "      <td>0</td>\n",
       "      <td>199</td>\n",
       "      <td>ultra</td>\n",
       "      <td>487.0</td>\n",
       "    </tr>\n",
       "  </tbody>\n",
       "</table>\n",
       "</div>"
      ],
      "text/plain": [
       "                    distance_sum  duration_sum  minute_price  count  \\\n",
       "user_id date_month                                                    \n",
       "1       1            7027.511294          42.0             6      2   \n",
       "        4             754.159807           7.0             6      1   \n",
       "        8            6723.470560          46.0             6      2   \n",
       "        10           5809.911100          32.0             6      2   \n",
       "        11           7003.499363          56.0             6      3   \n",
       "        12           6751.629942          28.0             6      2   \n",
       "2       3           10187.723006          63.0             6      3   \n",
       "        4            6164.381824          40.0             6      2   \n",
       "        6            3255.338202          14.0             6      1   \n",
       "        7            6780.722964          48.0             6      2   \n",
       "\n",
       "                    start_ride_price  subscription_fee subscription_type  \\\n",
       "user_id date_month                                                         \n",
       "1       1                          0               199             ultra   \n",
       "        4                          0               199             ultra   \n",
       "        8                          0               199             ultra   \n",
       "        10                         0               199             ultra   \n",
       "        11                         0               199             ultra   \n",
       "        12                         0               199             ultra   \n",
       "2       3                          0               199             ultra   \n",
       "        4                          0               199             ultra   \n",
       "        6                          0               199             ultra   \n",
       "        7                          0               199             ultra   \n",
       "\n",
       "                    revenue  \n",
       "user_id date_month           \n",
       "1       1             451.0  \n",
       "        4             241.0  \n",
       "        8             475.0  \n",
       "        10            391.0  \n",
       "        11            535.0  \n",
       "        12            367.0  \n",
       "2       3             577.0  \n",
       "        4             439.0  \n",
       "        6             283.0  \n",
       "        7             487.0  "
      ]
     },
     "execution_count": 60,
     "metadata": {},
     "output_type": "execute_result"
    }
   ],
   "source": [
    "data_full_agregate['revenue'] = (\n",
    "    (data_full_agregate['start_ride_price'] * data_full_agregate['count']) +\n",
    "    (data_full_agregate['minute_price'] * data_full_agregate['duration_sum']) +\n",
    "    data_full_agregate['subscription_fee'])\n",
    "data_full_agregate.head(10)"
   ]
  },
  {
   "cell_type": "markdown",
   "id": "41545ac0",
   "metadata": {},
   "source": [
    "#### Шаг 6. Проверка гипотез"
   ]
  },
  {
   "cell_type": "markdown",
   "id": "61ef437a",
   "metadata": {},
   "source": [
    "#####  Гипотезы о времени поездки"
   ]
  },
  {
   "cell_type": "markdown",
   "id": "61920c1a",
   "metadata": {},
   "source": [
    "Важно понять, тратят ли пользователи с подпиской больше времени на поездки? Если да, то пользователи с подпиской могут быть «выгоднее» для компании. Проверьте гипотезу. Используйте исходные данные о продолжительности каждой сессии — отдельно для подписчиков и тех, у кого нет подписки."
   ]
  },
  {
   "cell_type": "markdown",
   "id": "be3ff732",
   "metadata": {},
   "source": [
    "Сформулируем гипотезы:\n",
    "- Н0: Пользователи с подпиской тратят столько же времени, сколько пользователи без подписки\n",
    "- H1: Пользователи с подпиской тратят больше времени, чем пользователи без подписки"
   ]
  },
  {
   "cell_type": "code",
   "execution_count": 61,
   "id": "18227036",
   "metadata": {},
   "outputs": [
    {
     "data": {
      "text/html": [
       "<div>\n",
       "<style scoped>\n",
       "    .dataframe tbody tr th:only-of-type {\n",
       "        vertical-align: middle;\n",
       "    }\n",
       "\n",
       "    .dataframe tbody tr th {\n",
       "        vertical-align: top;\n",
       "    }\n",
       "\n",
       "    .dataframe thead th {\n",
       "        text-align: right;\n",
       "    }\n",
       "</style>\n",
       "<table border=\"1\" class=\"dataframe\">\n",
       "  <thead>\n",
       "    <tr style=\"text-align: right;\">\n",
       "      <th></th>\n",
       "      <th></th>\n",
       "      <th>duration</th>\n",
       "    </tr>\n",
       "    <tr>\n",
       "      <th>user_id</th>\n",
       "      <th>date_month</th>\n",
       "      <th></th>\n",
       "    </tr>\n",
       "  </thead>\n",
       "  <tbody>\n",
       "    <tr>\n",
       "      <th rowspan=\"6\" valign=\"top\">1</th>\n",
       "      <th>1</th>\n",
       "      <td>21.000000</td>\n",
       "    </tr>\n",
       "    <tr>\n",
       "      <th>4</th>\n",
       "      <td>7.000000</td>\n",
       "    </tr>\n",
       "    <tr>\n",
       "      <th>8</th>\n",
       "      <td>23.000000</td>\n",
       "    </tr>\n",
       "    <tr>\n",
       "      <th>10</th>\n",
       "      <td>16.000000</td>\n",
       "    </tr>\n",
       "    <tr>\n",
       "      <th>11</th>\n",
       "      <td>18.666667</td>\n",
       "    </tr>\n",
       "    <tr>\n",
       "      <th>12</th>\n",
       "      <td>14.000000</td>\n",
       "    </tr>\n",
       "    <tr>\n",
       "      <th rowspan=\"4\" valign=\"top\">2</th>\n",
       "      <th>3</th>\n",
       "      <td>21.000000</td>\n",
       "    </tr>\n",
       "    <tr>\n",
       "      <th>4</th>\n",
       "      <td>20.000000</td>\n",
       "    </tr>\n",
       "    <tr>\n",
       "      <th>6</th>\n",
       "      <td>14.000000</td>\n",
       "    </tr>\n",
       "    <tr>\n",
       "      <th>7</th>\n",
       "      <td>24.000000</td>\n",
       "    </tr>\n",
       "  </tbody>\n",
       "</table>\n",
       "</div>"
      ],
      "text/plain": [
       "                     duration\n",
       "user_id date_month           \n",
       "1       1           21.000000\n",
       "        4            7.000000\n",
       "        8           23.000000\n",
       "        10          16.000000\n",
       "        11          18.666667\n",
       "        12          14.000000\n",
       "2       3           21.000000\n",
       "        4           20.000000\n",
       "        6           14.000000\n",
       "        7           24.000000"
      ]
     },
     "execution_count": 61,
     "metadata": {},
     "output_type": "execute_result"
    }
   ],
   "source": [
    "data_ultra_month = data_ultra.pivot_table(index=['user_id', 'date_month'], values='duration')\n",
    "data_ultra_month.head(10) "
   ]
  },
  {
   "cell_type": "code",
   "execution_count": 62,
   "id": "1c83b919",
   "metadata": {},
   "outputs": [
    {
     "data": {
      "text/html": [
       "<div>\n",
       "<style scoped>\n",
       "    .dataframe tbody tr th:only-of-type {\n",
       "        vertical-align: middle;\n",
       "    }\n",
       "\n",
       "    .dataframe tbody tr th {\n",
       "        vertical-align: top;\n",
       "    }\n",
       "\n",
       "    .dataframe thead th {\n",
       "        text-align: right;\n",
       "    }\n",
       "</style>\n",
       "<table border=\"1\" class=\"dataframe\">\n",
       "  <thead>\n",
       "    <tr style=\"text-align: right;\">\n",
       "      <th></th>\n",
       "      <th></th>\n",
       "      <th>duration</th>\n",
       "    </tr>\n",
       "    <tr>\n",
       "      <th>user_id</th>\n",
       "      <th>date_month</th>\n",
       "      <th></th>\n",
       "    </tr>\n",
       "  </thead>\n",
       "  <tbody>\n",
       "    <tr>\n",
       "      <th rowspan=\"9\" valign=\"top\">700</th>\n",
       "      <th>1</th>\n",
       "      <td>15.000000</td>\n",
       "    </tr>\n",
       "    <tr>\n",
       "      <th>2</th>\n",
       "      <td>17.800000</td>\n",
       "    </tr>\n",
       "    <tr>\n",
       "      <th>3</th>\n",
       "      <td>19.000000</td>\n",
       "    </tr>\n",
       "    <tr>\n",
       "      <th>4</th>\n",
       "      <td>16.000000</td>\n",
       "    </tr>\n",
       "    <tr>\n",
       "      <th>6</th>\n",
       "      <td>14.500000</td>\n",
       "    </tr>\n",
       "    <tr>\n",
       "      <th>7</th>\n",
       "      <td>10.500000</td>\n",
       "    </tr>\n",
       "    <tr>\n",
       "      <th>8</th>\n",
       "      <td>17.000000</td>\n",
       "    </tr>\n",
       "    <tr>\n",
       "      <th>10</th>\n",
       "      <td>22.000000</td>\n",
       "    </tr>\n",
       "    <tr>\n",
       "      <th>11</th>\n",
       "      <td>10.666667</td>\n",
       "    </tr>\n",
       "    <tr>\n",
       "      <th>701</th>\n",
       "      <th>1</th>\n",
       "      <td>18.000000</td>\n",
       "    </tr>\n",
       "  </tbody>\n",
       "</table>\n",
       "</div>"
      ],
      "text/plain": [
       "                     duration\n",
       "user_id date_month           \n",
       "700     1           15.000000\n",
       "        2           17.800000\n",
       "        3           19.000000\n",
       "        4           16.000000\n",
       "        6           14.500000\n",
       "        7           10.500000\n",
       "        8           17.000000\n",
       "        10          22.000000\n",
       "        11          10.666667\n",
       "701     1           18.000000"
      ]
     },
     "execution_count": 62,
     "metadata": {},
     "output_type": "execute_result"
    }
   ],
   "source": [
    "data_free_month = data_free.pivot_table(index=['user_id', 'date_month'], values='duration')\n",
    "data_free_month.head(10)"
   ]
  },
  {
   "cell_type": "code",
   "execution_count": 63,
   "id": "e8edf6d5",
   "metadata": {},
   "outputs": [
    {
     "name": "stdout",
     "output_type": "stream",
     "text": [
      "p-значение: [2.97411373e-23]\n",
      "Отвергаем нулевую гипотезу\n"
     ]
    }
   ],
   "source": [
    "alpha = 0.05\n",
    "results = st.ttest_ind(data_ultra_month, data_free_month, alternative='greater')\n",
    "print('p-значение:', results.pvalue)\n",
    "\n",
    "if results.pvalue < alpha:\n",
    "    print('Отвергаем нулевую гипотезу')\n",
    "else:\n",
    "    print('Не получилось отвергнуть нулевую гипотезу') "
   ]
  },
  {
   "cell_type": "markdown",
   "id": "015708fc",
   "metadata": {},
   "source": [
    "Вывод: p-значение слишком мал, гораздо меньше определенного нами порогового значения в 5%. Таким образом, получаем, что пользователи с подпиской не тратят столько же времени, сколько пользователи без подписки"
   ]
  },
  {
   "cell_type": "markdown",
   "id": "5b9d17b2",
   "metadata": {},
   "source": [
    "##### Гипотеза о пройденном расстоянии"
   ]
  },
  {
   "cell_type": "markdown",
   "id": "a5d7d780",
   "metadata": {},
   "source": [
    "Расстояние одной поездки в 3130 метров — оптимальное с точки зрения износа самоката. Можно ли сказать, что расстояние, которое проезжают пользователи с подпиской за одну поездку, не превышает 3130 метров? Проверьте гипотезу и сделайте выводы"
   ]
  },
  {
   "cell_type": "markdown",
   "id": "ae76d1fa",
   "metadata": {},
   "source": [
    "Сформулируем гипотезы:\n",
    "- Н0: Пользователи с подпиской проезжают 3130 метров\n",
    "- H1: Пользователи с подпиской проезжают меньше 3130 метров"
   ]
  },
  {
   "cell_type": "code",
   "execution_count": 64,
   "id": "fbebcda6",
   "metadata": {},
   "outputs": [],
   "source": [
    "data_ultra_distance1 = data_ultra.pivot_table(index=['user_id', 'date_month'], values='distance') "
   ]
  },
  {
   "cell_type": "code",
   "execution_count": 65,
   "id": "9ddb7355",
   "metadata": {},
   "outputs": [
    {
     "name": "stdout",
     "output_type": "stream",
     "text": [
      "p-значение: [0.23979883]\n",
      "Не отвергаем нулевую гипотезу\n"
     ]
    }
   ],
   "source": [
    "distanse_value = 3130\n",
    "alpha = 0.05\n",
    "results = st.ttest_1samp(\n",
    "    data_ultra_distance1, \n",
    "    distanse_value,\n",
    "      alternative='less')\n",
    "\n",
    "print('p-значение:', results.pvalue)\n",
    "\n",
    "if (results.pvalue < alpha):\n",
    "    print('Отвергаем нулевую гипотезу')\n",
    "else:\n",
    "    print('Не отвергаем нулевую гипотезу')"
   ]
  },
  {
   "cell_type": "markdown",
   "id": "7bb721cf",
   "metadata": {},
   "source": [
    "Вывод: р-уровень составил 2%, что  меньше установленного порогового значения в 5%. Исходя из этого, отвергнуть нулевую гипотезу о том, что пользователи с подпиской проезжают расстояние равное 3130 метров, и тем более утвреждать, что они проезжают меньше, мы не можем.\n"
   ]
  },
  {
   "cell_type": "markdown",
   "id": "a395dd4f",
   "metadata": {},
   "source": [
    "##### Гипотеза о выручке"
   ]
  },
  {
   "cell_type": "markdown",
   "id": "52a0a2f5",
   "metadata": {},
   "source": [
    "Проверьте гипотезу о том, будет ли помесячная выручка от пользователей с подпиской по месяцам выше, чем выручка от пользователей без подписки. Сделайте вывод."
   ]
  },
  {
   "cell_type": "markdown",
   "id": "20dc4fea",
   "metadata": {},
   "source": [
    "Сформулируем гипотезы:\n",
    "- Н0: Выручка от пользователей с подпиской равна выручке от пользователей без подписки\n",
    "- H1: Выручка от пользователей с подпиской больше выручки от пользователей без подписки"
   ]
  },
  {
   "cell_type": "code",
   "execution_count": 66,
   "id": "471b4a7b",
   "metadata": {},
   "outputs": [],
   "source": [
    "data_ultra = data_full_agregate.loc[data_full_agregate['subscription_type'] == 'ultra']['revenue']\n",
    "#display(data_ultra.head(20))"
   ]
  },
  {
   "cell_type": "markdown",
   "id": "a229ba6d",
   "metadata": {},
   "source": [
    "Так как генеральная совокупность данных о пользователях с подпиской не очень большая, вичислим среднее знаечение все выручки от пользовталей с подпиской"
   ]
  },
  {
   "cell_type": "code",
   "execution_count": 67,
   "id": "ffcf0f4b",
   "metadata": {},
   "outputs": [
    {
     "data": {
      "text/plain": [
       "362.7921906022502"
      ]
     },
     "metadata": {},
     "output_type": "display_data"
    }
   ],
   "source": [
    "display(data_ultra.mean())"
   ]
  },
  {
   "cell_type": "markdown",
   "id": "00872cc0",
   "metadata": {},
   "source": [
    "Аналогично поступим с генеральной совокупностью данных о пользователях без подписки:"
   ]
  },
  {
   "cell_type": "code",
   "execution_count": 68,
   "id": "4853b06d",
   "metadata": {},
   "outputs": [],
   "source": [
    "data_free = data_full_agregate.loc[data_full_agregate['subscription_type'] == 'free']['revenue']\n",
    "#display(data_free.tail(20))"
   ]
  },
  {
   "cell_type": "code",
   "execution_count": 69,
   "id": "f0bebb37",
   "metadata": {},
   "outputs": [
    {
     "data": {
      "text/plain": [
       "user_id  date_month\n",
       "700      1             170.0\n",
       "         2             962.0\n",
       "         3             202.0\n",
       "         4             178.0\n",
       "         6             332.0\n",
       "                       ...  \n",
       "1534     6             308.0\n",
       "         8             484.0\n",
       "         9             234.0\n",
       "         11            824.0\n",
       "         12            178.0\n",
       "Name: revenue, Length: 6767, dtype: float64"
      ]
     },
     "execution_count": 69,
     "metadata": {},
     "output_type": "execute_result"
    }
   ],
   "source": [
    "data_free"
   ]
  },
  {
   "cell_type": "markdown",
   "id": "eabaf81b",
   "metadata": {},
   "source": [
    "Получили, что среднее значение выручки у пользователей без подписки практически в 2 раза больше чем у пользователей с подпиской. Проверим это с помощью подходящего t-теста:"
   ]
  },
  {
   "cell_type": "code",
   "execution_count": 70,
   "id": "49160e35",
   "metadata": {},
   "outputs": [
    {
     "name": "stdout",
     "output_type": "stream",
     "text": [
      "p-значение: 2.4970242872858465e-38\n",
      "Отвергаем нулевую гипотезу\n"
     ]
    }
   ],
   "source": [
    "alpha = 0.05\n",
    "results = st.ttest_ind(data_ultra, data_free, alternative='greater', equal_var=False)\n",
    "print('p-значение:', results.pvalue)\n",
    "\n",
    "if results.pvalue < alpha:\n",
    "    print('Отвергаем нулевую гипотезу')\n",
    "else:\n",
    "    print('Не получилось отвергнуть нулевую гипотезу') "
   ]
  },
  {
   "cell_type": "markdown",
   "id": "baf7e454",
   "metadata": {},
   "source": [
    "Вывод: значение р-уровня очень маленькое, гораздо меньше установленного порогового в 5 %, поэтому отвергаем нулевую гипотезу, и поэтому получаем, что помесячная выручка от от пользователей с подпиской (ultra), больше, чем у пользователей без подписки."
   ]
  },
  {
   "cell_type": "markdown",
   "id": "672b6dba",
   "metadata": {},
   "source": [
    "##### Представьте такую ситуацию: техническая команда сервиса обновила сервера, с которыми взаимодействует мобильное приложение. Она надеется, что из-за этого количество обращений в техподдержку значимо снизилось. Некоторый файл содержит для каждого пользователя данные о количестве обращений до обновления и после него. Какой тест вам понадобился бы для проверки этой гипотезы?"
   ]
  },
  {
   "cell_type": "markdown",
   "id": "c9777e2e",
   "metadata": {},
   "source": [
    "Ответ: так как в этом случае выборки будут зависимые, то для проверки нулевой гипотезы о равенстве средних двух генеральных совокупностей, из которых взяты зависимые друг от друга выборки применяется метод Python scipy.stats.ttest_rel()"
   ]
  },
  {
   "cell_type": "markdown",
   "id": "61213c5e",
   "metadata": {},
   "source": [
    "#### Шаг 7. Распределения"
   ]
  },
  {
   "cell_type": "markdown",
   "id": "e3be63e3",
   "metadata": {},
   "source": [
    "Задача 7.2"
   ]
  },
  {
   "cell_type": "code",
   "execution_count": 71,
   "id": "c2c1f5d2",
   "metadata": {
    "scrolled": false
   },
   "outputs": [
    {
     "data": {
      "image/png": "[encoded data removed]",
      "text/plain": [
       "<Figure size 640x480 with 1 Axes>"
      ]
     },
     "metadata": {},
     "output_type": "display_data"
    },
    {
     "name": "stdout",
     "output_type": "stream",
     "text": [
      "Условие выполняется\n"
     ]
    }
   ],
   "source": [
    "def linspace(start, stop, num):\n",
    "    step = (stop - start) / (num - 1)\n",
    "    result = []\n",
    "    for i in range(num):\n",
    "        result.append(start + step * i)\n",
    "    return result\n",
    " \n",
    "# задаём параметры биномиального распределения\n",
    "n = 1000000\n",
    "p = 0.4\n",
    "\n",
    "# границы промежутка, в котором будем строить аппроксимацию -\n",
    "# от n*p минус 4 ст.отклонения бином.распределения\n",
    "# до n*p плюс 4 ст.отклонения бином.распределения\n",
    "# (там, где вероятности значений почти не равны нулю)\n",
    "left = int(n * p - 4 * sqrt(n * p * (1 - p)))\n",
    "right = int(n * p + 4 * sqrt(n * p * (1 - p)))\n",
    " \n",
    "# зададим набор значений биномиальной величины на выбранном промежутке:\n",
    "# все неотрицательные целые числа от left до right\n",
    "x = list(range(max(0, left), right))\n",
    "# рисуем график биномиального распределения\n",
    "ax = plt.subplot()\n",
    "# используем синие о-образные маркеры и размер маркера 5\n",
    "ax.plot(x, binom.pmf(x, n, p), 'bo', ms=5,\n",
    "\t      label='вероятности биномиального распределения')\n",
    "\n",
    "# зададим параметры нормального распределения равными\n",
    "# мат.ожиданию и дисперсии биномиального распределения\n",
    "mu = n * p\n",
    "sigma = sqrt(n * p * (1 - p))\n",
    " \n",
    "# рисуем график нормального распределения:\n",
    "# получим список из 100 чисел от left до right\n",
    "x = linspace(left, right, 100)\n",
    "# используем красную линию ширины 3 и прозрачности 0.3\n",
    "ax.plot(x, norm.pdf(x, mu, sigma), 'r-', lw=3, alpha=0.3, label='плотность вероятности нормального распределения')\n",
    " \n",
    "# зададим подписи по оси x в пределах ± 3 ст.отклонений от мат.ожидания\n",
    "# (последний аргумент в методе range - интервал между подписями)\n",
    "x_ticks = list(range(int(mu - 3 * sigma), int(mu + 3 * sigma), 1))\n",
    "ax.set_xticks(x_ticks)\n",
    "\n",
    "# настраиваем оптимальное расположение легенды и выводим график\n",
    "ax.legend(loc='best')\n",
    "plt.show()\n",
    "\n",
    "# выводим, выполняется ли наше условие аппроксимации:\n",
    "# лежит ли mu ± 3 sigma в промежутке от 0 до n:\n",
    "if (mu - (3 * sigma) >= 0) and ((mu + (3 * sigma) <= n)):\n",
    "    print('Условие выполняется')\n",
    "else:\n",
    "    print('Условие не выполняется')\n",
    "\n"
   ]
  },
  {
   "cell_type": "code",
   "execution_count": 72,
   "id": "c23aa6b7",
   "metadata": {},
   "outputs": [
    {
     "name": "stdout",
     "output_type": "stream",
     "text": [
      "0.15371708296369768\n"
     ]
    }
   ],
   "source": [
    "#зададим нормальное распределение\n",
    "distr = st.norm(mu, sigma)\n",
    "\n",
    "#считаем вероятность \"хвоста\" справа от 399500 пользователей\n",
    "result1 = distr.cdf(399500)\n",
    "print(result1)"
   ]
  },
  {
   "cell_type": "markdown",
   "id": "2de3aa96",
   "metadata": {},
   "source": [
    "Получили, что вероятность того, что уведомление откроют не более 399500 пользователей составляет 15%"
   ]
  },
  {
   "cell_type": "markdown",
   "id": "b1734ef9",
   "metadata": {},
   "source": [
    "#  Общий вывод"
   ]
  },
  {
   "cell_type": "markdown",
   "id": "bb9613e2",
   "metadata": {},
   "source": [
    "На входе были получены данные, полученные из популярного сервиса аренды самокатов GoFast. \n",
    "\n",
    "В соответствии с полученным запросом, задача решалась в три этапа:\n",
    "1. Предобработка данных\n",
    "2. Исследовательский анализ данных\n",
    "3. Статистический анализ данных на основе гипотез\n",
    "\n",
    "На **1 этапе \"Предобработка данных\"** были выгружены данные из имеющихся файлов, проанализированы на наличие пропусков и дубликатов, типы данных приведены к соответствующим.\n",
    "\n",
    "На **2 этапе \"Исследовательский анализ данных\"** были определены:\n",
    "- частота встречаемости городов\n",
    "- соотношение пользователей с подпиской и без подписки\n",
    "- возраст пользователей\n",
    "- расстояние, которое пользователь преодолел за одну поездку\n",
    "- продолжительность поездок\n",
    "\n",
    "По  результатам выполнения всех шагов исследовательского анализа данных можно сформулировать следующие **выводы**:\n",
    "- Приложением по сервису аренды самокатов чаще всего пользуются жители Пятигоркска и Екатеринбурга, реже всего жители Москвы.\n",
    "- Во всех исследуемых городах приложением GoFast чаще пользуются пользователи, не оформившие подписку, чем те, у которых она есть\n",
    "- Пользователями сервиса по предоставлению услуги проката самокатов являются люди в возрасте между 20 и 30 годами\n",
    "- Наиболее часто самокатами пользуются на расстояниях от 2 до 4 км с наиболее частым значением в 3 км. Так же в данных наблюдается скопление данных на коротких расстояниях до 1 км, что может быть как выбросом, так и просто данными о том, что некоторые пользователи переставали пользоваться самокатами через 1 км по каким-то причинам\n",
    "- Время поездки на самокате в основном составляет 15-20 мин, что справедливо, с учетом наиболее частого расстояния, так как средняя скорость современных самокатов составляет 10-15 км/ч (данные взяты из поисковика). Однако в данных присутсовали занчения длительности поездки равные меньше минуты, с помощью диаграммы размаха эти данные были определены как выбросы и отброшены перед дальнейшим исследованием.\n",
    "\n",
    "Перед проведение **3 этапа \"Статистический анализ данных на основе гипотез\"**, данные из разных файлов были объеденны в одную общую таблицу для дальнейшего агрегирования и исследования гипотез\n",
    "\n",
    "На 3 этапе \"Статистический анализ данных на основе гипотез\" были сформулированы пары (нулевая - альтернативная гипотезы), способные ответить на интересующие задачи бизнеса.\n",
    "\n",
    "**Гипотезы о времени поездки**\n",
    "- Н0: Пользователи с подпиской тратят столько же времени, сколько пользователи без подписки\n",
    "- H1: Пользователи с подпиской тратят больше времени, чем пользователи без подписки\n",
    "\n",
    "**Вывод по времени поездки**\n",
    "Пользователи с подпиской \"ULTRA\" тратят больше времени на поездки, чем пользователи без подписки. Это может быть оправдано тем, что стоимость одной минуты поездки для них меньше, что является более привлекательным\n",
    "\n",
    "**Гипотеза о пройденном расстоянии**\n",
    "\n",
    "- Н0: Пользователи с подпиской проезжают 3130 метров\n",
    "- H1: Пользователи с подпиской проезжают меньше 3130 метров\n",
    "\n",
    "**Вывод по времени поездки**\n",
    "Утвреждать, что они пользователи с подпиской \"ULTRA\" проезжают меньше установленного износом самоката порога в 3130 м, мы не можем. Особенно если учитывать данные, полученные при исследовательском анализе данных\n",
    "\n",
    "**Гипотеза о выручке**\n",
    "- Н0: Выручка от пользователей с подпиской равна выручке от пользователей без подписки\n",
    "- H1: Выручка от пользователей с подпиской больше выручки от пользователей без подписки\n",
    "\n",
    "**Вывод о помесячной выручке**\n",
    "- Помесячная выручка от пользователей с подпиской выше, чем от пользователей без подписки и это с учетом того, что доля от общего числа пользователей без подписки больше (54.4%), чем с подпиской (45.6%).\n",
    "\n",
    "Исходя из проведенного анализа, можно сказать, что пользователи с подпиской \"ULTRA\" является более выгодными, потому что стоимость их ежемесячного платежа вносит существенную разницу в месячную выручку, а также их поездки более продолжительны по времени, что также выгодно сказывается с учетом стоимость одной минуты поездки.\n"
   ]
  }
 ],
 "metadata": {
  "ExecuteTimeLog": [
   {
    "duration": 1046,
    "start_time": "2023-05-24T07:24:42.674Z"
   },
   {
    "duration": 648,
    "start_time": "2023-05-24T07:27:13.190Z"
   },
   {
    "duration": 11,
    "start_time": "2023-05-24T07:27:39.066Z"
   },
   {
    "duration": 24,
    "start_time": "2023-05-24T07:28:33.407Z"
   },
   {
    "duration": 15,
    "start_time": "2023-05-24T07:28:52.234Z"
   },
   {
    "duration": 14,
    "start_time": "2023-05-24T07:29:24.417Z"
   },
   {
    "duration": 95,
    "start_time": "2023-05-24T07:29:49.164Z"
   },
   {
    "duration": 7,
    "start_time": "2023-05-24T07:29:55.765Z"
   },
   {
    "duration": 12,
    "start_time": "2023-05-24T07:30:16.698Z"
   },
   {
    "duration": 8,
    "start_time": "2023-05-24T07:34:58.662Z"
   },
   {
    "duration": 8,
    "start_time": "2023-05-24T07:35:31.604Z"
   },
   {
    "duration": 8,
    "start_time": "2023-05-24T07:35:52.704Z"
   },
   {
    "duration": 8,
    "start_time": "2023-05-24T07:36:10.762Z"
   },
   {
    "duration": 8,
    "start_time": "2023-05-24T07:42:13.289Z"
   },
   {
    "duration": 9,
    "start_time": "2023-05-24T07:42:27.079Z"
   },
   {
    "duration": 11,
    "start_time": "2023-05-24T07:43:22.050Z"
   },
   {
    "duration": 10,
    "start_time": "2023-05-24T07:43:27.312Z"
   },
   {
    "duration": 8,
    "start_time": "2023-05-24T07:45:35.779Z"
   },
   {
    "duration": 4,
    "start_time": "2023-05-24T07:45:46.446Z"
   },
   {
    "duration": 12,
    "start_time": "2023-05-24T07:46:04.619Z"
   },
   {
    "duration": 6,
    "start_time": "2023-05-24T07:47:32.262Z"
   },
   {
    "duration": 6,
    "start_time": "2023-05-24T07:47:46.954Z"
   },
   {
    "duration": 6,
    "start_time": "2023-05-24T07:49:04.104Z"
   },
   {
    "duration": 6,
    "start_time": "2023-05-24T07:55:40.053Z"
   },
   {
    "duration": 8,
    "start_time": "2023-05-24T07:56:33.357Z"
   },
   {
    "duration": 7,
    "start_time": "2023-05-24T07:58:48.106Z"
   },
   {
    "duration": 9,
    "start_time": "2023-05-24T08:00:23.419Z"
   },
   {
    "duration": 6,
    "start_time": "2023-05-24T08:00:30.462Z"
   },
   {
    "duration": 9,
    "start_time": "2023-05-24T08:00:39.958Z"
   },
   {
    "duration": 5,
    "start_time": "2023-05-24T08:05:26.001Z"
   },
   {
    "duration": 12,
    "start_time": "2023-05-24T08:05:45.690Z"
   },
   {
    "duration": 9,
    "start_time": "2023-05-24T08:06:20.980Z"
   },
   {
    "duration": 9,
    "start_time": "2023-05-24T08:06:29.802Z"
   },
   {
    "duration": 6,
    "start_time": "2023-05-24T08:08:53.183Z"
   },
   {
    "duration": 5,
    "start_time": "2023-05-24T08:09:08.458Z"
   },
   {
    "duration": 10,
    "start_time": "2023-05-24T08:09:21.974Z"
   },
   {
    "duration": 7,
    "start_time": "2023-05-24T08:11:28.762Z"
   },
   {
    "duration": 4,
    "start_time": "2023-05-24T08:11:36.852Z"
   },
   {
    "duration": 4,
    "start_time": "2023-05-24T08:19:41.987Z"
   },
   {
    "duration": 5,
    "start_time": "2023-05-24T08:20:22.611Z"
   },
   {
    "duration": 3,
    "start_time": "2023-05-24T08:20:33.716Z"
   },
   {
    "duration": 3,
    "start_time": "2023-05-24T08:20:47.962Z"
   },
   {
    "duration": 4,
    "start_time": "2023-05-24T08:20:53.276Z"
   },
   {
    "duration": 7,
    "start_time": "2023-05-24T08:24:36.454Z"
   },
   {
    "duration": 119,
    "start_time": "2023-05-24T08:24:48.966Z"
   },
   {
    "duration": 115,
    "start_time": "2023-05-24T08:25:02.955Z"
   },
   {
    "duration": 45,
    "start_time": "2023-05-24T08:25:25.920Z"
   },
   {
    "duration": 47,
    "start_time": "2023-05-24T08:25:42.558Z"
   },
   {
    "duration": 104,
    "start_time": "2023-05-24T08:25:53.297Z"
   },
   {
    "duration": 145,
    "start_time": "2023-05-24T08:25:57.522Z"
   },
   {
    "duration": 117,
    "start_time": "2023-05-24T08:26:04.303Z"
   },
   {
    "duration": 195,
    "start_time": "2023-05-24T08:26:16.954Z"
   },
   {
    "duration": 110,
    "start_time": "2023-05-24T08:26:23.178Z"
   },
   {
    "duration": 107,
    "start_time": "2023-05-24T08:26:31.054Z"
   },
   {
    "duration": 177,
    "start_time": "2023-05-24T08:26:39.182Z"
   },
   {
    "duration": 121,
    "start_time": "2023-05-24T08:27:38.524Z"
   },
   {
    "duration": 14,
    "start_time": "2023-05-24T08:29:18.398Z"
   },
   {
    "duration": 13,
    "start_time": "2023-05-24T08:29:43.470Z"
   },
   {
    "duration": 14,
    "start_time": "2023-05-24T08:30:01.865Z"
   },
   {
    "duration": 3,
    "start_time": "2023-05-24T08:30:23.310Z"
   },
   {
    "duration": 115,
    "start_time": "2023-05-24T08:32:03.947Z"
   },
   {
    "duration": 120,
    "start_time": "2023-05-24T08:32:18.482Z"
   },
   {
    "duration": 110,
    "start_time": "2023-05-24T08:33:28.995Z"
   },
   {
    "duration": 106,
    "start_time": "2023-05-24T08:33:36.084Z"
   },
   {
    "duration": 134,
    "start_time": "2023-05-24T08:33:40.955Z"
   },
   {
    "duration": 115,
    "start_time": "2023-05-24T08:33:46.602Z"
   },
   {
    "duration": 113,
    "start_time": "2023-05-24T08:33:54.419Z"
   },
   {
    "duration": 115,
    "start_time": "2023-05-24T08:34:28.670Z"
   },
   {
    "duration": 114,
    "start_time": "2023-05-24T08:34:37.501Z"
   },
   {
    "duration": 118,
    "start_time": "2023-05-24T08:34:55.080Z"
   },
   {
    "duration": 202,
    "start_time": "2023-05-24T08:35:05.165Z"
   },
   {
    "duration": 165,
    "start_time": "2023-05-24T08:35:13.854Z"
   },
   {
    "duration": 5,
    "start_time": "2023-05-24T08:41:41.154Z"
   },
   {
    "duration": 5,
    "start_time": "2023-05-24T08:41:59.770Z"
   },
   {
    "duration": 72,
    "start_time": "2023-05-24T08:43:15.119Z"
   },
   {
    "duration": 55,
    "start_time": "2023-05-24T08:43:38.474Z"
   },
   {
    "duration": 4,
    "start_time": "2023-05-24T08:44:26.254Z"
   },
   {
    "duration": 9,
    "start_time": "2023-05-24T08:44:40.470Z"
   },
   {
    "duration": 4,
    "start_time": "2023-05-24T08:44:47.851Z"
   },
   {
    "duration": 112,
    "start_time": "2023-05-24T08:49:05.346Z"
   },
   {
    "duration": 121,
    "start_time": "2023-05-24T08:49:11.046Z"
   },
   {
    "duration": 132,
    "start_time": "2023-05-24T08:49:26.894Z"
   },
   {
    "duration": 8,
    "start_time": "2023-05-24T09:02:41.620Z"
   },
   {
    "duration": 9,
    "start_time": "2023-05-24T09:02:50.885Z"
   },
   {
    "duration": 4,
    "start_time": "2023-05-24T09:03:26.551Z"
   },
   {
    "duration": 8,
    "start_time": "2023-05-24T09:03:58.453Z"
   },
   {
    "duration": 9,
    "start_time": "2023-05-24T09:04:02.266Z"
   },
   {
    "duration": 6,
    "start_time": "2023-05-24T09:04:04.266Z"
   },
   {
    "duration": 9,
    "start_time": "2023-05-24T09:04:24.214Z"
   },
   {
    "duration": 5,
    "start_time": "2023-05-24T09:04:37.166Z"
   },
   {
    "duration": 2,
    "start_time": "2023-05-24T09:07:35.986Z"
   },
   {
    "duration": 8,
    "start_time": "2023-05-24T09:08:26.878Z"
   },
   {
    "duration": 8,
    "start_time": "2023-05-24T09:09:40.069Z"
   },
   {
    "duration": 16,
    "start_time": "2023-05-24T09:09:50.596Z"
   },
   {
    "duration": 9,
    "start_time": "2023-05-24T09:12:14.006Z"
   },
   {
    "duration": 14,
    "start_time": "2023-05-24T09:12:51.453Z"
   },
   {
    "duration": 3,
    "start_time": "2023-05-24T09:13:36.920Z"
   },
   {
    "duration": 4,
    "start_time": "2023-05-24T09:13:51.565Z"
   },
   {
    "duration": 9,
    "start_time": "2023-05-24T09:14:04.008Z"
   },
   {
    "duration": 128,
    "start_time": "2023-05-24T09:14:17.217Z"
   },
   {
    "duration": 8,
    "start_time": "2023-05-24T09:14:38.289Z"
   },
   {
    "duration": 7,
    "start_time": "2023-05-24T09:16:14.461Z"
   },
   {
    "duration": 131,
    "start_time": "2023-05-24T09:22:51.011Z"
   },
   {
    "duration": 115,
    "start_time": "2023-05-24T09:23:01.099Z"
   },
   {
    "duration": 10,
    "start_time": "2023-05-24T09:25:03.875Z"
   },
   {
    "duration": 9,
    "start_time": "2023-05-24T09:25:22.164Z"
   },
   {
    "duration": 190,
    "start_time": "2023-05-24T09:25:42.406Z"
   },
   {
    "duration": 10,
    "start_time": "2023-05-24T09:26:04.861Z"
   },
   {
    "duration": 146,
    "start_time": "2023-05-24T09:26:07.310Z"
   },
   {
    "duration": 6,
    "start_time": "2023-05-24T09:26:28.952Z"
   },
   {
    "duration": 163,
    "start_time": "2023-05-24T09:26:31.868Z"
   },
   {
    "duration": 8,
    "start_time": "2023-05-24T09:28:08.583Z"
   },
   {
    "duration": 5,
    "start_time": "2023-05-24T09:28:36.393Z"
   },
   {
    "duration": 7,
    "start_time": "2023-05-24T09:28:50.881Z"
   },
   {
    "duration": 9,
    "start_time": "2023-05-24T09:29:24.845Z"
   },
   {
    "duration": 8,
    "start_time": "2023-05-24T09:29:26.714Z"
   },
   {
    "duration": 5,
    "start_time": "2023-05-24T09:29:28.697Z"
   },
   {
    "duration": 5,
    "start_time": "2023-05-24T09:29:30.949Z"
   },
   {
    "duration": 3,
    "start_time": "2023-05-24T09:30:38.588Z"
   },
   {
    "duration": 161,
    "start_time": "2023-05-24T09:30:41.552Z"
   },
   {
    "duration": 110,
    "start_time": "2023-05-24T09:35:29.868Z"
   },
   {
    "duration": 105,
    "start_time": "2023-05-24T09:35:33.556Z"
   },
   {
    "duration": 190,
    "start_time": "2023-05-24T09:35:45.593Z"
   },
   {
    "duration": 112,
    "start_time": "2023-05-24T09:35:49.676Z"
   },
   {
    "duration": 114,
    "start_time": "2023-05-24T09:36:22.180Z"
   },
   {
    "duration": 103,
    "start_time": "2023-05-24T09:36:30.922Z"
   },
   {
    "duration": 204,
    "start_time": "2023-05-24T09:36:34.506Z"
   },
   {
    "duration": 106,
    "start_time": "2023-05-24T09:36:38.772Z"
   },
   {
    "duration": 115,
    "start_time": "2023-05-24T09:36:41.577Z"
   },
   {
    "duration": 4,
    "start_time": "2023-05-24T09:37:07.978Z"
   },
   {
    "duration": 5,
    "start_time": "2023-05-24T09:37:22.381Z"
   },
   {
    "duration": 116,
    "start_time": "2023-05-24T09:37:37.785Z"
   },
   {
    "duration": 4,
    "start_time": "2023-05-24T09:38:30.365Z"
   },
   {
    "duration": 118,
    "start_time": "2023-05-24T09:38:59.180Z"
   },
   {
    "duration": 173,
    "start_time": "2023-05-24T09:39:13.922Z"
   },
   {
    "duration": 144,
    "start_time": "2023-05-24T09:39:24.664Z"
   },
   {
    "duration": 111,
    "start_time": "2023-05-24T09:43:22.249Z"
   },
   {
    "duration": 9,
    "start_time": "2023-05-24T10:55:36.156Z"
   },
   {
    "duration": 31,
    "start_time": "2023-05-24T10:56:13.176Z"
   },
   {
    "duration": 22,
    "start_time": "2023-05-24T10:56:26.099Z"
   },
   {
    "duration": 9,
    "start_time": "2023-05-24T10:58:52.498Z"
   },
   {
    "duration": 11,
    "start_time": "2023-05-24T10:59:05.493Z"
   },
   {
    "duration": 26,
    "start_time": "2023-05-24T10:59:20.751Z"
   },
   {
    "duration": 22,
    "start_time": "2023-05-24T10:59:58.354Z"
   },
   {
    "duration": 27,
    "start_time": "2023-05-24T11:01:48.600Z"
   },
   {
    "duration": 9,
    "start_time": "2023-05-24T11:03:51.685Z"
   },
   {
    "duration": 9,
    "start_time": "2023-05-24T11:04:07.995Z"
   },
   {
    "duration": 20,
    "start_time": "2023-05-24T11:05:08.180Z"
   },
   {
    "duration": 25,
    "start_time": "2023-05-24T11:05:30.464Z"
   },
   {
    "duration": 17,
    "start_time": "2023-05-24T11:06:16.687Z"
   },
   {
    "duration": 17,
    "start_time": "2023-05-24T11:06:20.649Z"
   },
   {
    "duration": 28,
    "start_time": "2023-05-24T11:10:33.157Z"
   },
   {
    "duration": 26,
    "start_time": "2023-05-24T11:10:37.562Z"
   },
   {
    "duration": 27,
    "start_time": "2023-05-24T11:13:17.821Z"
   },
   {
    "duration": 7,
    "start_time": "2023-05-24T11:13:32.062Z"
   },
   {
    "duration": 8,
    "start_time": "2023-05-24T11:14:36.323Z"
   },
   {
    "duration": 22,
    "start_time": "2023-05-24T11:14:40.428Z"
   },
   {
    "duration": 18,
    "start_time": "2023-05-24T11:14:51.454Z"
   },
   {
    "duration": 27,
    "start_time": "2023-05-24T11:21:18.950Z"
   },
   {
    "duration": 19,
    "start_time": "2023-05-24T11:21:41.384Z"
   },
   {
    "duration": 10,
    "start_time": "2023-05-24T11:22:03.009Z"
   },
   {
    "duration": 20,
    "start_time": "2023-05-24T11:22:11.193Z"
   },
   {
    "duration": 18,
    "start_time": "2023-05-24T11:22:56.154Z"
   },
   {
    "duration": 8,
    "start_time": "2023-05-24T11:31:18.458Z"
   },
   {
    "duration": 8,
    "start_time": "2023-05-24T11:31:26.666Z"
   },
   {
    "duration": 15,
    "start_time": "2023-05-24T11:31:39.220Z"
   },
   {
    "duration": 8,
    "start_time": "2023-05-24T11:32:14.562Z"
   },
   {
    "duration": 12,
    "start_time": "2023-05-24T11:33:00.496Z"
   },
   {
    "duration": 109,
    "start_time": "2023-05-24T11:33:38.422Z"
   },
   {
    "duration": 118,
    "start_time": "2023-05-24T11:33:58.570Z"
   },
   {
    "duration": 8,
    "start_time": "2023-05-24T11:34:07.338Z"
   },
   {
    "duration": 105,
    "start_time": "2023-05-24T11:34:34.257Z"
   },
   {
    "duration": 11,
    "start_time": "2023-05-24T11:34:51.072Z"
   },
   {
    "duration": 15,
    "start_time": "2023-05-24T11:35:20.390Z"
   },
   {
    "duration": 245,
    "start_time": "2023-05-24T11:35:36.498Z"
   },
   {
    "duration": 8,
    "start_time": "2023-05-24T11:36:33.969Z"
   },
   {
    "duration": 12,
    "start_time": "2023-05-24T11:37:20.962Z"
   },
   {
    "duration": 130,
    "start_time": "2023-05-24T11:37:40.058Z"
   },
   {
    "duration": 8,
    "start_time": "2023-05-24T11:39:57.485Z"
   },
   {
    "duration": 11,
    "start_time": "2023-05-24T11:55:22.479Z"
   },
   {
    "duration": 18,
    "start_time": "2023-05-24T11:55:43.242Z"
   },
   {
    "duration": 15,
    "start_time": "2023-05-24T11:56:06.089Z"
   },
   {
    "duration": 20,
    "start_time": "2023-05-24T11:56:32.864Z"
   },
   {
    "duration": 25,
    "start_time": "2023-05-24T11:56:39.664Z"
   },
   {
    "duration": 17,
    "start_time": "2023-05-24T12:30:03.646Z"
   },
   {
    "duration": 25,
    "start_time": "2023-05-24T12:30:23.766Z"
   },
   {
    "duration": 34,
    "start_time": "2023-05-24T12:31:08.419Z"
   },
   {
    "duration": 26,
    "start_time": "2023-05-24T12:31:20.305Z"
   },
   {
    "duration": 8,
    "start_time": "2023-05-24T12:32:11.258Z"
   },
   {
    "duration": 13,
    "start_time": "2023-05-24T12:32:20.818Z"
   },
   {
    "duration": 11,
    "start_time": "2023-05-24T12:33:04.118Z"
   },
   {
    "duration": 22,
    "start_time": "2023-05-24T12:33:22.450Z"
   },
   {
    "duration": 9,
    "start_time": "2023-05-24T12:33:41.478Z"
   },
   {
    "duration": 24,
    "start_time": "2023-05-24T12:33:57.269Z"
   },
   {
    "duration": 195,
    "start_time": "2023-05-24T12:34:21.893Z"
   },
   {
    "duration": 3,
    "start_time": "2023-05-24T12:41:18.661Z"
   },
   {
    "duration": 18,
    "start_time": "2023-05-24T12:41:23.653Z"
   },
   {
    "duration": 27,
    "start_time": "2023-05-24T12:43:02.508Z"
   },
   {
    "duration": 24,
    "start_time": "2023-05-24T12:44:01.878Z"
   },
   {
    "duration": 3,
    "start_time": "2023-05-24T12:55:09.080Z"
   },
   {
    "duration": 4,
    "start_time": "2023-05-24T12:58:11.059Z"
   },
   {
    "duration": 25,
    "start_time": "2023-05-24T12:58:15.056Z"
   },
   {
    "duration": 21,
    "start_time": "2023-05-24T12:58:19.663Z"
   },
   {
    "duration": 8,
    "start_time": "2023-05-24T12:58:22.998Z"
   },
   {
    "duration": 128,
    "start_time": "2023-05-24T12:58:24.948Z"
   },
   {
    "duration": 8,
    "start_time": "2023-05-24T12:58:28.117Z"
   },
   {
    "duration": 119,
    "start_time": "2023-05-24T12:58:30.522Z"
   },
   {
    "duration": 10,
    "start_time": "2023-05-24T12:58:38.708Z"
   },
   {
    "duration": 2,
    "start_time": "2023-05-24T12:58:41.881Z"
   },
   {
    "duration": 67,
    "start_time": "2023-05-24T12:58:41.885Z"
   },
   {
    "duration": 9,
    "start_time": "2023-05-24T12:58:41.954Z"
   },
   {
    "duration": 14,
    "start_time": "2023-05-24T12:58:41.964Z"
   },
   {
    "duration": 11,
    "start_time": "2023-05-24T12:58:41.980Z"
   },
   {
    "duration": 14,
    "start_time": "2023-05-24T12:58:41.992Z"
   },
   {
    "duration": 9,
    "start_time": "2023-05-24T12:58:42.007Z"
   },
   {
    "duration": 17,
    "start_time": "2023-05-24T12:58:42.017Z"
   },
   {
    "duration": 9,
    "start_time": "2023-05-24T12:58:42.036Z"
   },
   {
    "duration": 8,
    "start_time": "2023-05-24T12:58:42.047Z"
   },
   {
    "duration": 10,
    "start_time": "2023-05-24T12:58:42.056Z"
   },
   {
    "duration": 9,
    "start_time": "2023-05-24T12:58:42.067Z"
   },
   {
    "duration": 5,
    "start_time": "2023-05-24T12:58:42.078Z"
   },
   {
    "duration": 6,
    "start_time": "2023-05-24T12:58:42.106Z"
   },
   {
    "duration": 5,
    "start_time": "2023-05-24T12:58:42.113Z"
   },
   {
    "duration": 13,
    "start_time": "2023-05-24T12:58:42.120Z"
   },
   {
    "duration": 5,
    "start_time": "2023-05-24T12:58:42.134Z"
   },
   {
    "duration": 5,
    "start_time": "2023-05-24T12:58:42.140Z"
   },
   {
    "duration": 11,
    "start_time": "2023-05-24T12:58:42.146Z"
   },
   {
    "duration": 13,
    "start_time": "2023-05-24T12:58:42.158Z"
   },
   {
    "duration": 35,
    "start_time": "2023-05-24T12:58:42.173Z"
   },
   {
    "duration": 6,
    "start_time": "2023-05-24T12:58:42.210Z"
   },
   {
    "duration": 136,
    "start_time": "2023-05-24T12:58:42.217Z"
   },
   {
    "duration": 9,
    "start_time": "2023-05-24T12:58:42.354Z"
   },
   {
    "duration": 11,
    "start_time": "2023-05-24T12:58:42.364Z"
   },
   {
    "duration": 5,
    "start_time": "2023-05-24T12:58:42.377Z"
   },
   {
    "duration": 9,
    "start_time": "2023-05-24T12:58:42.383Z"
   },
   {
    "duration": 238,
    "start_time": "2023-05-24T12:58:42.393Z"
   },
   {
    "duration": 151,
    "start_time": "2023-05-24T12:58:42.633Z"
   },
   {
    "duration": 4,
    "start_time": "2023-05-24T12:58:42.786Z"
   },
   {
    "duration": 138,
    "start_time": "2023-05-24T12:58:42.792Z"
   },
   {
    "duration": 129,
    "start_time": "2023-05-24T12:58:42.931Z"
   },
   {
    "duration": 18,
    "start_time": "2023-05-24T12:58:43.063Z"
   },
   {
    "duration": 30,
    "start_time": "2023-05-24T12:58:43.082Z"
   },
   {
    "duration": 4,
    "start_time": "2023-05-24T12:58:43.113Z"
   },
   {
    "duration": 30,
    "start_time": "2023-05-24T12:58:43.118Z"
   },
   {
    "duration": 18,
    "start_time": "2023-05-24T12:58:43.150Z"
   },
   {
    "duration": 8,
    "start_time": "2023-05-24T12:58:43.169Z"
   },
   {
    "duration": 130,
    "start_time": "2023-05-24T12:58:43.178Z"
   },
   {
    "duration": 8,
    "start_time": "2023-05-24T12:58:43.309Z"
   },
   {
    "duration": 126,
    "start_time": "2023-05-24T12:58:43.319Z"
   },
   {
    "duration": 8,
    "start_time": "2023-05-24T12:58:43.446Z"
   },
   {
    "duration": 145,
    "start_time": "2023-05-24T12:58:43.455Z"
   },
   {
    "duration": 13,
    "start_time": "2023-05-24T12:58:43.601Z"
   },
   {
    "duration": 160,
    "start_time": "2023-05-24T12:58:43.616Z"
   },
   {
    "duration": 2,
    "start_time": "2023-05-24T12:58:43.777Z"
   },
   {
    "duration": 24,
    "start_time": "2023-05-24T12:58:43.780Z"
   },
   {
    "duration": 8,
    "start_time": "2023-05-24T12:58:43.805Z"
   },
   {
    "duration": 21,
    "start_time": "2023-05-24T12:59:16.475Z"
   },
   {
    "duration": 10,
    "start_time": "2023-05-24T13:14:21.082Z"
   },
   {
    "duration": 13,
    "start_time": "2023-05-24T13:14:47.674Z"
   },
   {
    "duration": 13,
    "start_time": "2023-05-24T13:14:59.158Z"
   },
   {
    "duration": 20,
    "start_time": "2023-05-24T13:15:31.063Z"
   },
   {
    "duration": 9,
    "start_time": "2023-05-24T13:16:07.158Z"
   },
   {
    "duration": 17,
    "start_time": "2023-05-24T13:17:04.540Z"
   },
   {
    "duration": 3,
    "start_time": "2023-05-24T13:18:54.333Z"
   },
   {
    "duration": 4,
    "start_time": "2023-05-24T13:29:23.132Z"
   },
   {
    "duration": 4,
    "start_time": "2023-05-24T13:29:30.680Z"
   },
   {
    "duration": 7,
    "start_time": "2023-05-24T13:29:35.279Z"
   },
   {
    "duration": 56,
    "start_time": "2023-05-24T13:31:49.076Z"
   },
   {
    "duration": 11,
    "start_time": "2023-05-24T13:32:05.679Z"
   },
   {
    "duration": 9,
    "start_time": "2023-05-24T13:32:10.419Z"
   },
   {
    "duration": 7,
    "start_time": "2023-05-24T13:32:32.727Z"
   },
   {
    "duration": 24,
    "start_time": "2023-05-24T13:33:02.602Z"
   },
   {
    "duration": 64,
    "start_time": "2023-05-24T13:34:30.387Z"
   },
   {
    "duration": 48,
    "start_time": "2023-05-24T13:34:49.572Z"
   },
   {
    "duration": 7,
    "start_time": "2023-05-24T13:34:58.468Z"
   },
   {
    "duration": 8,
    "start_time": "2023-05-24T14:40:56.560Z"
   },
   {
    "duration": 14,
    "start_time": "2023-05-24T14:41:08.390Z"
   },
   {
    "duration": 15,
    "start_time": "2023-05-24T14:41:38.311Z"
   },
   {
    "duration": 737,
    "start_time": "2023-05-24T14:41:51.277Z"
   },
   {
    "duration": 9,
    "start_time": "2023-05-24T14:42:01.567Z"
   },
   {
    "duration": 765,
    "start_time": "2023-05-24T14:43:20.857Z"
   },
   {
    "duration": 8,
    "start_time": "2023-05-24T14:43:22.147Z"
   },
   {
    "duration": 9,
    "start_time": "2023-05-24T14:43:44.456Z"
   },
   {
    "duration": 10,
    "start_time": "2023-05-24T14:43:56.993Z"
   },
   {
    "duration": 11,
    "start_time": "2023-05-24T14:45:14.788Z"
   },
   {
    "duration": 124,
    "start_time": "2023-05-24T14:45:36.513Z"
   },
   {
    "duration": 9,
    "start_time": "2023-05-24T14:45:40.691Z"
   },
   {
    "duration": 147,
    "start_time": "2023-05-24T14:47:13.445Z"
   },
   {
    "duration": 11,
    "start_time": "2023-05-24T14:47:14.810Z"
   },
   {
    "duration": 10,
    "start_time": "2023-05-24T14:47:24.954Z"
   },
   {
    "duration": 64,
    "start_time": "2023-05-24T14:48:42.241Z"
   },
   {
    "duration": 43,
    "start_time": "2023-05-24T14:48:49.891Z"
   },
   {
    "duration": 46,
    "start_time": "2023-05-24T14:49:21.588Z"
   },
   {
    "duration": 42,
    "start_time": "2023-05-24T14:49:28.152Z"
   },
   {
    "duration": 122,
    "start_time": "2023-05-24T14:53:03.567Z"
   },
   {
    "duration": 10,
    "start_time": "2023-05-24T14:53:11.566Z"
   },
   {
    "duration": 11,
    "start_time": "2023-05-24T14:53:23.199Z"
   },
   {
    "duration": 116,
    "start_time": "2023-05-24T14:56:01.962Z"
   },
   {
    "duration": 180,
    "start_time": "2023-05-24T14:56:21.962Z"
   },
   {
    "duration": 10,
    "start_time": "2023-05-24T14:56:26.802Z"
   },
   {
    "duration": 15,
    "start_time": "2023-05-24T14:59:50.669Z"
   },
   {
    "duration": 296,
    "start_time": "2023-05-24T15:00:15.563Z"
   },
   {
    "duration": 146,
    "start_time": "2023-05-24T15:00:47.905Z"
   },
   {
    "duration": 11,
    "start_time": "2023-05-24T15:00:51.326Z"
   },
   {
    "duration": 137,
    "start_time": "2023-05-24T15:01:28.807Z"
   },
   {
    "duration": 18,
    "start_time": "2023-05-24T15:01:31.138Z"
   },
   {
    "duration": 11,
    "start_time": "2023-05-24T15:01:41.554Z"
   },
   {
    "duration": 52,
    "start_time": "2023-05-24T15:02:08.951Z"
   },
   {
    "duration": 12,
    "start_time": "2023-05-24T15:02:36.534Z"
   },
   {
    "duration": 6,
    "start_time": "2023-05-24T15:02:49.554Z"
   },
   {
    "duration": 18,
    "start_time": "2023-05-24T15:02:59.058Z"
   },
   {
    "duration": 24,
    "start_time": "2023-05-24T15:04:08.602Z"
   },
   {
    "duration": 6,
    "start_time": "2023-05-24T15:17:12.840Z"
   },
   {
    "duration": 7,
    "start_time": "2023-05-24T15:21:23.433Z"
   },
   {
    "duration": 5,
    "start_time": "2023-05-24T15:21:41.182Z"
   },
   {
    "duration": 6,
    "start_time": "2023-05-24T15:21:52.302Z"
   },
   {
    "duration": 6,
    "start_time": "2023-05-24T15:22:38.463Z"
   },
   {
    "duration": 5,
    "start_time": "2023-05-24T15:25:49.833Z"
   },
   {
    "duration": 5,
    "start_time": "2023-05-24T15:27:46.086Z"
   },
   {
    "duration": 4,
    "start_time": "2023-05-24T15:28:51.199Z"
   },
   {
    "duration": 61,
    "start_time": "2023-05-25T05:25:27.069Z"
   },
   {
    "duration": 1161,
    "start_time": "2023-05-25T05:25:33.076Z"
   },
   {
    "duration": 341,
    "start_time": "2023-05-25T05:25:34.238Z"
   },
   {
    "duration": 13,
    "start_time": "2023-05-25T05:25:34.581Z"
   },
   {
    "duration": 11,
    "start_time": "2023-05-25T05:25:34.596Z"
   },
   {
    "duration": 12,
    "start_time": "2023-05-25T05:25:34.609Z"
   },
   {
    "duration": 27,
    "start_time": "2023-05-25T05:25:34.622Z"
   },
   {
    "duration": 7,
    "start_time": "2023-05-25T05:25:34.650Z"
   },
   {
    "duration": 35,
    "start_time": "2023-05-25T05:25:34.658Z"
   },
   {
    "duration": 12,
    "start_time": "2023-05-25T05:25:34.695Z"
   },
   {
    "duration": 11,
    "start_time": "2023-05-25T05:25:34.709Z"
   },
   {
    "duration": 31,
    "start_time": "2023-05-25T05:25:34.721Z"
   },
   {
    "duration": 7,
    "start_time": "2023-05-25T05:25:34.754Z"
   },
   {
    "duration": 10,
    "start_time": "2023-05-25T05:25:34.762Z"
   },
   {
    "duration": 17,
    "start_time": "2023-05-25T05:25:34.773Z"
   },
   {
    "duration": 14,
    "start_time": "2023-05-25T05:25:34.791Z"
   },
   {
    "duration": 14,
    "start_time": "2023-05-25T05:25:34.807Z"
   },
   {
    "duration": 8,
    "start_time": "2023-05-25T05:25:34.822Z"
   },
   {
    "duration": 11,
    "start_time": "2023-05-25T05:25:34.831Z"
   },
   {
    "duration": 19,
    "start_time": "2023-05-25T05:25:34.843Z"
   },
   {
    "duration": 28,
    "start_time": "2023-05-25T05:25:34.863Z"
   },
   {
    "duration": 14,
    "start_time": "2023-05-25T05:25:34.893Z"
   },
   {
    "duration": 17,
    "start_time": "2023-05-25T05:25:34.909Z"
   },
   {
    "duration": 143,
    "start_time": "2023-05-25T05:25:34.927Z"
   },
   {
    "duration": 10,
    "start_time": "2023-05-25T05:25:35.072Z"
   },
   {
    "duration": 11,
    "start_time": "2023-05-25T05:25:35.084Z"
   },
   {
    "duration": 6,
    "start_time": "2023-05-25T05:25:35.096Z"
   },
   {
    "duration": 33,
    "start_time": "2023-05-25T05:25:35.104Z"
   },
   {
    "duration": 183,
    "start_time": "2023-05-25T05:25:35.140Z"
   },
   {
    "duration": 133,
    "start_time": "2023-05-25T05:25:35.325Z"
   },
   {
    "duration": 4,
    "start_time": "2023-05-25T05:25:35.460Z"
   },
   {
    "duration": 136,
    "start_time": "2023-05-25T05:25:35.466Z"
   },
   {
    "duration": 128,
    "start_time": "2023-05-25T05:25:35.604Z"
   },
   {
    "duration": 31,
    "start_time": "2023-05-25T05:25:35.734Z"
   },
   {
    "duration": 19,
    "start_time": "2023-05-25T05:25:35.767Z"
   },
   {
    "duration": 4,
    "start_time": "2023-05-25T05:25:35.787Z"
   },
   {
    "duration": 27,
    "start_time": "2023-05-25T05:25:35.792Z"
   },
   {
    "duration": 44,
    "start_time": "2023-05-25T05:25:35.820Z"
   },
   {
    "duration": 7,
    "start_time": "2023-05-25T05:25:35.866Z"
   },
   {
    "duration": 134,
    "start_time": "2023-05-25T05:25:35.875Z"
   },
   {
    "duration": 8,
    "start_time": "2023-05-25T05:25:36.010Z"
   },
   {
    "duration": 123,
    "start_time": "2023-05-25T05:25:36.020Z"
   },
   {
    "duration": 16,
    "start_time": "2023-05-25T05:25:36.145Z"
   },
   {
    "duration": 152,
    "start_time": "2023-05-25T05:25:36.163Z"
   },
   {
    "duration": 8,
    "start_time": "2023-05-25T05:25:36.317Z"
   },
   {
    "duration": 153,
    "start_time": "2023-05-25T05:25:36.327Z"
   },
   {
    "duration": 2,
    "start_time": "2023-05-25T05:25:36.482Z"
   },
   {
    "duration": 138,
    "start_time": "2023-05-25T05:25:36.485Z"
   },
   {
    "duration": 12,
    "start_time": "2023-05-25T05:25:36.624Z"
   },
   {
    "duration": 28,
    "start_time": "2023-05-25T05:25:36.638Z"
   },
   {
    "duration": 13,
    "start_time": "2023-05-25T05:25:36.668Z"
   },
   {
    "duration": 7,
    "start_time": "2023-05-25T05:25:36.683Z"
   },
   {
    "duration": 80,
    "start_time": "2023-05-25T05:25:36.692Z"
   },
   {
    "duration": 4,
    "start_time": "2023-05-25T05:26:15.086Z"
   },
   {
    "duration": 18,
    "start_time": "2023-05-25T05:26:29.045Z"
   },
   {
    "duration": 16,
    "start_time": "2023-05-25T05:26:47.445Z"
   },
   {
    "duration": 15,
    "start_time": "2023-05-25T05:27:14.567Z"
   },
   {
    "duration": 16,
    "start_time": "2023-05-25T05:27:59.318Z"
   },
   {
    "duration": 20,
    "start_time": "2023-05-25T05:28:14.039Z"
   },
   {
    "duration": 57,
    "start_time": "2023-05-25T05:29:03.859Z"
   },
   {
    "duration": 19,
    "start_time": "2023-05-25T05:29:07.383Z"
   },
   {
    "duration": 12,
    "start_time": "2023-05-25T05:31:54.784Z"
   },
   {
    "duration": 10,
    "start_time": "2023-05-25T05:32:10.483Z"
   },
   {
    "duration": 3,
    "start_time": "2023-05-25T05:32:19.298Z"
   },
   {
    "duration": 70,
    "start_time": "2023-05-25T05:32:19.303Z"
   },
   {
    "duration": 11,
    "start_time": "2023-05-25T05:32:19.374Z"
   },
   {
    "duration": 23,
    "start_time": "2023-05-25T05:32:19.387Z"
   },
   {
    "duration": 10,
    "start_time": "2023-05-25T05:32:19.412Z"
   },
   {
    "duration": 14,
    "start_time": "2023-05-25T05:32:19.424Z"
   },
   {
    "duration": 24,
    "start_time": "2023-05-25T05:32:19.439Z"
   },
   {
    "duration": 13,
    "start_time": "2023-05-25T05:32:19.465Z"
   },
   {
    "duration": 8,
    "start_time": "2023-05-25T05:32:19.481Z"
   },
   {
    "duration": 15,
    "start_time": "2023-05-25T05:32:19.491Z"
   },
   {
    "duration": 11,
    "start_time": "2023-05-25T05:32:19.507Z"
   },
   {
    "duration": 6,
    "start_time": "2023-05-25T05:32:19.519Z"
   },
   {
    "duration": 36,
    "start_time": "2023-05-25T05:32:19.526Z"
   },
   {
    "duration": 7,
    "start_time": "2023-05-25T05:32:19.563Z"
   },
   {
    "duration": 6,
    "start_time": "2023-05-25T05:32:19.572Z"
   },
   {
    "duration": 9,
    "start_time": "2023-05-25T05:32:19.580Z"
   },
   {
    "duration": 5,
    "start_time": "2023-05-25T05:32:19.590Z"
   },
   {
    "duration": 6,
    "start_time": "2023-05-25T05:32:19.597Z"
   },
   {
    "duration": 10,
    "start_time": "2023-05-25T05:32:19.604Z"
   },
   {
    "duration": 47,
    "start_time": "2023-05-25T05:32:19.615Z"
   },
   {
    "duration": 4,
    "start_time": "2023-05-25T05:32:19.664Z"
   },
   {
    "duration": 29,
    "start_time": "2023-05-25T05:32:19.670Z"
   },
   {
    "duration": 176,
    "start_time": "2023-05-25T05:32:19.701Z"
   },
   {
    "duration": 12,
    "start_time": "2023-05-25T05:32:19.884Z"
   },
   {
    "duration": 18,
    "start_time": "2023-05-25T05:32:19.898Z"
   },
   {
    "duration": 11,
    "start_time": "2023-05-25T05:32:19.918Z"
   },
   {
    "duration": 9,
    "start_time": "2023-05-25T05:32:19.931Z"
   },
   {
    "duration": 305,
    "start_time": "2023-05-25T05:32:19.942Z"
   },
   {
    "duration": 204,
    "start_time": "2023-05-25T05:32:20.249Z"
   },
   {
    "duration": 5,
    "start_time": "2023-05-25T05:32:20.458Z"
   },
   {
    "duration": 184,
    "start_time": "2023-05-25T05:32:20.466Z"
   },
   {
    "duration": 155,
    "start_time": "2023-05-25T05:32:20.652Z"
   },
   {
    "duration": 19,
    "start_time": "2023-05-25T05:32:20.809Z"
   },
   {
    "duration": 32,
    "start_time": "2023-05-25T05:32:20.830Z"
   },
   {
    "duration": 5,
    "start_time": "2023-05-25T05:32:20.863Z"
   },
   {
    "duration": 28,
    "start_time": "2023-05-25T05:32:20.869Z"
   },
   {
    "duration": 23,
    "start_time": "2023-05-25T05:32:20.899Z"
   },
   {
    "duration": 37,
    "start_time": "2023-05-25T05:32:20.924Z"
   },
   {
    "duration": 159,
    "start_time": "2023-05-25T05:32:20.963Z"
   },
   {
    "duration": 9,
    "start_time": "2023-05-25T05:32:21.124Z"
   },
   {
    "duration": 162,
    "start_time": "2023-05-25T05:32:21.134Z"
   },
   {
    "duration": 10,
    "start_time": "2023-05-25T05:32:21.298Z"
   },
   {
    "duration": 186,
    "start_time": "2023-05-25T05:32:21.309Z"
   },
   {
    "duration": 14,
    "start_time": "2023-05-25T05:32:21.496Z"
   },
   {
    "duration": 173,
    "start_time": "2023-05-25T05:32:21.512Z"
   },
   {
    "duration": 2,
    "start_time": "2023-05-25T05:32:21.687Z"
   },
   {
    "duration": 167,
    "start_time": "2023-05-25T05:32:21.690Z"
   },
   {
    "duration": 13,
    "start_time": "2023-05-25T05:32:21.859Z"
   },
   {
    "duration": 25,
    "start_time": "2023-05-25T05:32:21.874Z"
   },
   {
    "duration": 5,
    "start_time": "2023-05-25T05:32:21.901Z"
   },
   {
    "duration": 6,
    "start_time": "2023-05-25T05:32:21.908Z"
   },
   {
    "duration": 47,
    "start_time": "2023-05-25T05:32:21.916Z"
   },
   {
    "duration": 16,
    "start_time": "2023-05-25T05:32:21.965Z"
   },
   {
    "duration": 31,
    "start_time": "2023-05-25T05:32:21.983Z"
   },
   {
    "duration": 15,
    "start_time": "2023-05-25T05:34:40.264Z"
   },
   {
    "duration": 15,
    "start_time": "2023-05-25T05:35:24.488Z"
   },
   {
    "duration": 8,
    "start_time": "2023-05-25T05:35:58.389Z"
   },
   {
    "duration": 779,
    "start_time": "2023-05-25T05:36:07.604Z"
   },
   {
    "duration": 17,
    "start_time": "2023-05-25T05:37:21.978Z"
   },
   {
    "duration": 12,
    "start_time": "2023-05-25T05:37:47.570Z"
   },
   {
    "duration": 18,
    "start_time": "2023-05-25T05:38:16.075Z"
   },
   {
    "duration": 790,
    "start_time": "2023-05-25T05:38:30.196Z"
   },
   {
    "duration": 24,
    "start_time": "2023-05-25T05:38:44.072Z"
   },
   {
    "duration": 740,
    "start_time": "2023-05-25T05:38:48.124Z"
   },
   {
    "duration": 12,
    "start_time": "2023-05-25T05:40:45.913Z"
   },
   {
    "duration": 19,
    "start_time": "2023-05-25T05:43:26.843Z"
   },
   {
    "duration": 788,
    "start_time": "2023-05-25T05:46:06.810Z"
   },
   {
    "duration": 4,
    "start_time": "2023-05-25T05:46:20.421Z"
   },
   {
    "duration": 7,
    "start_time": "2023-05-25T05:46:34.916Z"
   },
   {
    "duration": 6,
    "start_time": "2023-05-25T05:47:10.903Z"
   },
   {
    "duration": 4,
    "start_time": "2023-05-25T05:47:23.502Z"
   },
   {
    "duration": 5,
    "start_time": "2023-05-25T05:47:48.186Z"
   },
   {
    "duration": 6,
    "start_time": "2023-05-25T05:50:57.182Z"
   },
   {
    "duration": 6,
    "start_time": "2023-05-25T05:51:09.050Z"
   },
   {
    "duration": 4,
    "start_time": "2023-05-25T05:52:32.269Z"
   },
   {
    "duration": 4,
    "start_time": "2023-05-25T05:52:38.275Z"
   },
   {
    "duration": 5,
    "start_time": "2023-05-25T05:57:08.543Z"
   },
   {
    "duration": 5,
    "start_time": "2023-05-25T05:57:15.375Z"
   },
   {
    "duration": 10,
    "start_time": "2023-05-25T06:51:30.497Z"
   },
   {
    "duration": 22,
    "start_time": "2023-05-25T07:18:01.105Z"
   },
   {
    "duration": 21,
    "start_time": "2023-05-25T07:18:04.880Z"
   },
   {
    "duration": 9,
    "start_time": "2023-05-25T07:18:55.645Z"
   },
   {
    "duration": 11,
    "start_time": "2023-05-25T07:40:25.490Z"
   },
   {
    "duration": 3,
    "start_time": "2023-05-25T08:08:20.666Z"
   },
   {
    "duration": 270,
    "start_time": "2023-05-25T08:15:49.054Z"
   },
   {
    "duration": 10,
    "start_time": "2023-05-25T08:38:39.753Z"
   },
   {
    "duration": 9,
    "start_time": "2023-05-25T08:38:49.457Z"
   },
   {
    "duration": 371,
    "start_time": "2023-05-25T08:38:55.776Z"
   },
   {
    "duration": 12,
    "start_time": "2023-05-25T08:48:17.668Z"
   },
   {
    "duration": 3,
    "start_time": "2023-05-25T08:49:05.893Z"
   },
   {
    "duration": 114,
    "start_time": "2023-05-25T08:49:11.597Z"
   },
   {
    "duration": 3,
    "start_time": "2023-05-25T08:49:42.446Z"
   },
   {
    "duration": 35155,
    "start_time": "2023-05-25T08:49:46.462Z"
   },
   {
    "duration": 2,
    "start_time": "2023-05-25T08:55:29.597Z"
   },
   {
    "duration": 6,
    "start_time": "2023-05-25T09:14:01.266Z"
   },
   {
    "duration": 5,
    "start_time": "2023-05-25T09:14:32.747Z"
   },
   {
    "duration": 5,
    "start_time": "2023-05-25T09:23:56.566Z"
   },
   {
    "duration": 7,
    "start_time": "2023-05-25T09:26:21.056Z"
   },
   {
    "duration": 12,
    "start_time": "2023-05-25T09:31:20.678Z"
   },
   {
    "duration": 15,
    "start_time": "2023-05-25T09:31:29.854Z"
   },
   {
    "duration": 11,
    "start_time": "2023-05-25T09:32:46.360Z"
   },
   {
    "duration": 967,
    "start_time": "2023-05-25T09:50:10.112Z"
   },
   {
    "duration": 123,
    "start_time": "2023-05-25T09:50:11.080Z"
   },
   {
    "duration": 12,
    "start_time": "2023-05-25T09:50:11.205Z"
   },
   {
    "duration": 11,
    "start_time": "2023-05-25T09:50:11.220Z"
   },
   {
    "duration": 33,
    "start_time": "2023-05-25T09:50:11.232Z"
   },
   {
    "duration": 18,
    "start_time": "2023-05-25T09:50:11.267Z"
   },
   {
    "duration": 16,
    "start_time": "2023-05-25T09:50:11.287Z"
   },
   {
    "duration": 22,
    "start_time": "2023-05-25T09:50:11.304Z"
   },
   {
    "duration": 11,
    "start_time": "2023-05-25T09:50:11.328Z"
   },
   {
    "duration": 17,
    "start_time": "2023-05-25T09:50:11.342Z"
   },
   {
    "duration": 13,
    "start_time": "2023-05-25T09:50:11.360Z"
   },
   {
    "duration": 14,
    "start_time": "2023-05-25T09:50:11.375Z"
   },
   {
    "duration": 14,
    "start_time": "2023-05-25T09:50:11.391Z"
   },
   {
    "duration": 6,
    "start_time": "2023-05-25T09:50:11.407Z"
   },
   {
    "duration": 14,
    "start_time": "2023-05-25T09:50:11.415Z"
   },
   {
    "duration": 31,
    "start_time": "2023-05-25T09:50:11.431Z"
   },
   {
    "duration": 5,
    "start_time": "2023-05-25T09:50:11.464Z"
   },
   {
    "duration": 20,
    "start_time": "2023-05-25T09:50:11.471Z"
   },
   {
    "duration": 22,
    "start_time": "2023-05-25T09:50:11.493Z"
   },
   {
    "duration": 16,
    "start_time": "2023-05-25T09:50:11.516Z"
   },
   {
    "duration": 4,
    "start_time": "2023-05-25T09:50:11.533Z"
   },
   {
    "duration": 11,
    "start_time": "2023-05-25T09:50:11.539Z"
   },
   {
    "duration": 161,
    "start_time": "2023-05-25T09:50:11.552Z"
   },
   {
    "duration": 18,
    "start_time": "2023-05-25T09:50:11.715Z"
   },
   {
    "duration": 28,
    "start_time": "2023-05-25T09:50:11.736Z"
   },
   {
    "duration": 8,
    "start_time": "2023-05-25T09:50:11.767Z"
   },
   {
    "duration": 26,
    "start_time": "2023-05-25T09:50:11.777Z"
   },
   {
    "duration": 216,
    "start_time": "2023-05-25T09:50:11.807Z"
   },
   {
    "duration": 157,
    "start_time": "2023-05-25T09:50:12.025Z"
   },
   {
    "duration": 5,
    "start_time": "2023-05-25T09:50:12.184Z"
   },
   {
    "duration": 162,
    "start_time": "2023-05-25T09:50:12.190Z"
   },
   {
    "duration": 135,
    "start_time": "2023-05-25T09:50:12.357Z"
   },
   {
    "duration": 19,
    "start_time": "2023-05-25T09:50:12.494Z"
   },
   {
    "duration": 21,
    "start_time": "2023-05-25T09:50:12.514Z"
   },
   {
    "duration": 24,
    "start_time": "2023-05-25T09:50:12.536Z"
   },
   {
    "duration": 31,
    "start_time": "2023-05-25T09:50:12.562Z"
   },
   {
    "duration": 21,
    "start_time": "2023-05-25T09:50:12.595Z"
   },
   {
    "duration": 19,
    "start_time": "2023-05-25T09:50:12.618Z"
   },
   {
    "duration": 181,
    "start_time": "2023-05-25T09:50:12.639Z"
   },
   {
    "duration": 10,
    "start_time": "2023-05-25T09:50:12.822Z"
   },
   {
    "duration": 228,
    "start_time": "2023-05-25T09:50:12.834Z"
   },
   {
    "duration": 10,
    "start_time": "2023-05-25T09:50:13.064Z"
   },
   {
    "duration": 181,
    "start_time": "2023-05-25T09:50:13.076Z"
   },
   {
    "duration": 9,
    "start_time": "2023-05-25T09:50:13.259Z"
   },
   {
    "duration": 167,
    "start_time": "2023-05-25T09:50:13.269Z"
   },
   {
    "duration": 134,
    "start_time": "2023-05-25T09:50:13.438Z"
   },
   {
    "duration": 10,
    "start_time": "2023-05-25T09:50:13.574Z"
   },
   {
    "duration": 30,
    "start_time": "2023-05-25T09:50:13.586Z"
   },
   {
    "duration": 6,
    "start_time": "2023-05-25T09:50:13.617Z"
   },
   {
    "duration": 9,
    "start_time": "2023-05-25T09:50:13.624Z"
   },
   {
    "duration": 5,
    "start_time": "2023-05-25T09:50:13.634Z"
   },
   {
    "duration": 16,
    "start_time": "2023-05-25T09:50:13.641Z"
   },
   {
    "duration": 14,
    "start_time": "2023-05-25T09:50:13.659Z"
   },
   {
    "duration": 264,
    "start_time": "2023-05-25T09:50:13.674Z"
   },
   {
    "duration": 0,
    "start_time": "2023-05-25T09:50:13.940Z"
   },
   {
    "duration": 0,
    "start_time": "2023-05-25T09:50:13.942Z"
   },
   {
    "duration": 0,
    "start_time": "2023-05-25T09:50:13.945Z"
   },
   {
    "duration": 1019,
    "start_time": "2023-05-25T09:50:47.968Z"
   },
   {
    "duration": 122,
    "start_time": "2023-05-25T09:50:48.989Z"
   },
   {
    "duration": 12,
    "start_time": "2023-05-25T09:50:49.113Z"
   },
   {
    "duration": 26,
    "start_time": "2023-05-25T09:50:49.127Z"
   },
   {
    "duration": 24,
    "start_time": "2023-05-25T09:50:49.155Z"
   },
   {
    "duration": 30,
    "start_time": "2023-05-25T09:50:49.180Z"
   },
   {
    "duration": 32,
    "start_time": "2023-05-25T09:50:49.212Z"
   },
   {
    "duration": 18,
    "start_time": "2023-05-25T09:50:49.246Z"
   },
   {
    "duration": 10,
    "start_time": "2023-05-25T09:50:49.265Z"
   },
   {
    "duration": 24,
    "start_time": "2023-05-25T09:50:49.276Z"
   },
   {
    "duration": 12,
    "start_time": "2023-05-25T09:50:49.302Z"
   },
   {
    "duration": 5,
    "start_time": "2023-05-25T09:50:49.315Z"
   },
   {
    "duration": 23,
    "start_time": "2023-05-25T09:50:49.322Z"
   },
   {
    "duration": 12,
    "start_time": "2023-05-25T09:50:49.348Z"
   },
   {
    "duration": 14,
    "start_time": "2023-05-25T09:50:49.361Z"
   },
   {
    "duration": 10,
    "start_time": "2023-05-25T09:50:49.376Z"
   },
   {
    "duration": 5,
    "start_time": "2023-05-25T09:50:49.387Z"
   },
   {
    "duration": 7,
    "start_time": "2023-05-25T09:50:49.394Z"
   },
   {
    "duration": 10,
    "start_time": "2023-05-25T09:50:49.403Z"
   },
   {
    "duration": 8,
    "start_time": "2023-05-25T09:50:49.415Z"
   },
   {
    "duration": 5,
    "start_time": "2023-05-25T09:50:49.458Z"
   },
   {
    "duration": 10,
    "start_time": "2023-05-25T09:50:49.464Z"
   },
   {
    "duration": 154,
    "start_time": "2023-05-25T09:50:49.476Z"
   },
   {
    "duration": 11,
    "start_time": "2023-05-25T09:50:49.632Z"
   },
   {
    "duration": 24,
    "start_time": "2023-05-25T09:50:49.644Z"
   },
   {
    "duration": 8,
    "start_time": "2023-05-25T09:50:49.670Z"
   },
   {
    "duration": 4,
    "start_time": "2023-05-25T09:50:49.679Z"
   },
   {
    "duration": 205,
    "start_time": "2023-05-25T09:50:49.685Z"
   },
   {
    "duration": 141,
    "start_time": "2023-05-25T09:50:49.892Z"
   },
   {
    "duration": 5,
    "start_time": "2023-05-25T09:50:50.034Z"
   },
   {
    "duration": 145,
    "start_time": "2023-05-25T09:50:50.040Z"
   },
   {
    "duration": 143,
    "start_time": "2023-05-25T09:50:50.187Z"
   },
   {
    "duration": 24,
    "start_time": "2023-05-25T09:50:50.332Z"
   },
   {
    "duration": 19,
    "start_time": "2023-05-25T09:50:50.358Z"
   },
   {
    "duration": 3,
    "start_time": "2023-05-25T09:50:50.379Z"
   },
   {
    "duration": 35,
    "start_time": "2023-05-25T09:50:50.383Z"
   },
   {
    "duration": 20,
    "start_time": "2023-05-25T09:50:50.420Z"
   },
   {
    "duration": 8,
    "start_time": "2023-05-25T09:50:50.457Z"
   },
   {
    "duration": 145,
    "start_time": "2023-05-25T09:50:50.466Z"
   },
   {
    "duration": 8,
    "start_time": "2023-05-25T09:50:50.613Z"
   },
   {
    "duration": 145,
    "start_time": "2023-05-25T09:50:50.624Z"
   },
   {
    "duration": 9,
    "start_time": "2023-05-25T09:50:50.770Z"
   },
   {
    "duration": 162,
    "start_time": "2023-05-25T09:50:50.780Z"
   },
   {
    "duration": 15,
    "start_time": "2023-05-25T09:50:50.944Z"
   },
   {
    "duration": 161,
    "start_time": "2023-05-25T09:50:50.961Z"
   },
   {
    "duration": 159,
    "start_time": "2023-05-25T09:50:51.124Z"
   },
   {
    "duration": 13,
    "start_time": "2023-05-25T09:50:51.285Z"
   },
   {
    "duration": 19,
    "start_time": "2023-05-25T09:50:51.299Z"
   },
   {
    "duration": 16,
    "start_time": "2023-05-25T09:50:51.320Z"
   },
   {
    "duration": 21,
    "start_time": "2023-05-25T09:50:51.338Z"
   },
   {
    "duration": 9,
    "start_time": "2023-05-25T09:50:51.361Z"
   },
   {
    "duration": 4,
    "start_time": "2023-05-25T09:50:51.372Z"
   },
   {
    "duration": 11,
    "start_time": "2023-05-25T09:50:51.377Z"
   },
   {
    "duration": 14,
    "start_time": "2023-05-25T09:50:51.390Z"
   },
   {
    "duration": 108,
    "start_time": "2023-05-25T09:50:51.405Z"
   },
   {
    "duration": 0,
    "start_time": "2023-05-25T09:50:51.515Z"
   },
   {
    "duration": 0,
    "start_time": "2023-05-25T09:50:51.516Z"
   },
   {
    "duration": 347,
    "start_time": "2023-05-25T09:51:04.396Z"
   },
   {
    "duration": 34493,
    "start_time": "2023-05-25T09:51:10.502Z"
   },
   {
    "duration": 5,
    "start_time": "2023-05-25T09:52:19.454Z"
   },
   {
    "duration": 1006,
    "start_time": "2023-05-25T10:58:11.595Z"
   },
   {
    "duration": 119,
    "start_time": "2023-05-25T10:58:12.602Z"
   },
   {
    "duration": 12,
    "start_time": "2023-05-25T10:58:12.723Z"
   },
   {
    "duration": 12,
    "start_time": "2023-05-25T10:58:12.737Z"
   },
   {
    "duration": 15,
    "start_time": "2023-05-25T10:58:12.751Z"
   },
   {
    "duration": 13,
    "start_time": "2023-05-25T10:58:12.768Z"
   },
   {
    "duration": 7,
    "start_time": "2023-05-25T10:58:12.783Z"
   },
   {
    "duration": 13,
    "start_time": "2023-05-25T10:58:12.791Z"
   },
   {
    "duration": 19,
    "start_time": "2023-05-25T10:58:12.807Z"
   },
   {
    "duration": 12,
    "start_time": "2023-05-25T10:58:12.830Z"
   },
   {
    "duration": 36,
    "start_time": "2023-05-25T10:58:12.844Z"
   },
   {
    "duration": 7,
    "start_time": "2023-05-25T10:58:12.882Z"
   },
   {
    "duration": 8,
    "start_time": "2023-05-25T10:58:12.891Z"
   },
   {
    "duration": 7,
    "start_time": "2023-05-25T10:58:12.901Z"
   },
   {
    "duration": 21,
    "start_time": "2023-05-25T10:58:12.910Z"
   },
   {
    "duration": 11,
    "start_time": "2023-05-25T10:58:12.932Z"
   },
   {
    "duration": 6,
    "start_time": "2023-05-25T10:58:12.944Z"
   },
   {
    "duration": 6,
    "start_time": "2023-05-25T10:58:12.977Z"
   },
   {
    "duration": 9,
    "start_time": "2023-05-25T10:58:12.985Z"
   },
   {
    "duration": 8,
    "start_time": "2023-05-25T10:58:12.996Z"
   },
   {
    "duration": 4,
    "start_time": "2023-05-25T10:58:13.005Z"
   },
   {
    "duration": 7,
    "start_time": "2023-05-25T10:58:13.010Z"
   },
   {
    "duration": 161,
    "start_time": "2023-05-25T10:58:13.018Z"
   },
   {
    "duration": 11,
    "start_time": "2023-05-25T10:58:13.180Z"
   },
   {
    "duration": 8,
    "start_time": "2023-05-25T10:58:13.192Z"
   },
   {
    "duration": 9,
    "start_time": "2023-05-25T10:58:13.202Z"
   },
   {
    "duration": 5,
    "start_time": "2023-05-25T10:58:13.213Z"
   },
   {
    "duration": 222,
    "start_time": "2023-05-25T10:58:13.223Z"
   },
   {
    "duration": 146,
    "start_time": "2023-05-25T10:58:13.447Z"
   },
   {
    "duration": 4,
    "start_time": "2023-05-25T10:58:13.595Z"
   },
   {
    "duration": 149,
    "start_time": "2023-05-25T10:58:13.601Z"
   },
   {
    "duration": 157,
    "start_time": "2023-05-25T10:58:13.752Z"
   },
   {
    "duration": 28,
    "start_time": "2023-05-25T10:58:13.911Z"
   },
   {
    "duration": 21,
    "start_time": "2023-05-25T10:58:13.941Z"
   },
   {
    "duration": 4,
    "start_time": "2023-05-25T10:58:13.979Z"
   },
   {
    "duration": 27,
    "start_time": "2023-05-25T10:58:13.985Z"
   },
   {
    "duration": 22,
    "start_time": "2023-05-25T10:58:14.014Z"
   },
   {
    "duration": 10,
    "start_time": "2023-05-25T10:58:14.038Z"
   },
   {
    "duration": 143,
    "start_time": "2023-05-25T10:58:14.077Z"
   },
   {
    "duration": 9,
    "start_time": "2023-05-25T10:58:14.221Z"
   },
   {
    "duration": 136,
    "start_time": "2023-05-25T10:58:14.232Z"
   },
   {
    "duration": 12,
    "start_time": "2023-05-25T10:58:14.370Z"
   },
   {
    "duration": 163,
    "start_time": "2023-05-25T10:58:14.384Z"
   },
   {
    "duration": 8,
    "start_time": "2023-05-25T10:58:14.548Z"
   },
   {
    "duration": 163,
    "start_time": "2023-05-25T10:58:14.557Z"
   },
   {
    "duration": 140,
    "start_time": "2023-05-25T10:58:14.722Z"
   },
   {
    "duration": 21,
    "start_time": "2023-05-25T10:58:14.864Z"
   },
   {
    "duration": 16,
    "start_time": "2023-05-25T10:58:14.888Z"
   },
   {
    "duration": 6,
    "start_time": "2023-05-25T10:58:14.905Z"
   },
   {
    "duration": 6,
    "start_time": "2023-05-25T10:58:14.912Z"
   },
   {
    "duration": 7,
    "start_time": "2023-05-25T10:58:14.920Z"
   },
   {
    "duration": 5,
    "start_time": "2023-05-25T10:58:14.929Z"
   },
   {
    "duration": 47,
    "start_time": "2023-05-25T10:58:14.936Z"
   },
   {
    "duration": 7,
    "start_time": "2023-05-25T10:58:14.984Z"
   },
   {
    "duration": 317,
    "start_time": "2023-05-25T10:58:14.993Z"
   },
   {
    "duration": 33340,
    "start_time": "2023-05-25T10:58:15.312Z"
   },
   {
    "duration": 5,
    "start_time": "2023-05-25T10:58:48.654Z"
   },
   {
    "duration": 1453,
    "start_time": "2023-05-25T11:29:47.240Z"
   },
   {
    "duration": 1406,
    "start_time": "2023-05-25T11:30:18.717Z"
   },
   {
    "duration": 1044,
    "start_time": "2023-05-25T11:30:26.387Z"
   },
   {
    "duration": 130,
    "start_time": "2023-05-25T11:30:27.433Z"
   },
   {
    "duration": 17,
    "start_time": "2023-05-25T11:30:27.565Z"
   },
   {
    "duration": 13,
    "start_time": "2023-05-25T11:30:27.584Z"
   },
   {
    "duration": 26,
    "start_time": "2023-05-25T11:30:27.599Z"
   },
   {
    "duration": 13,
    "start_time": "2023-05-25T11:30:27.628Z"
   },
   {
    "duration": 9,
    "start_time": "2023-05-25T11:30:27.642Z"
   },
   {
    "duration": 30,
    "start_time": "2023-05-25T11:30:27.652Z"
   },
   {
    "duration": 13,
    "start_time": "2023-05-25T11:30:27.684Z"
   },
   {
    "duration": 13,
    "start_time": "2023-05-25T11:30:27.700Z"
   },
   {
    "duration": 14,
    "start_time": "2023-05-25T11:30:27.715Z"
   },
   {
    "duration": 8,
    "start_time": "2023-05-25T11:30:27.731Z"
   },
   {
    "duration": 38,
    "start_time": "2023-05-25T11:30:27.741Z"
   },
   {
    "duration": 12,
    "start_time": "2023-05-25T11:30:27.781Z"
   },
   {
    "duration": 15,
    "start_time": "2023-05-25T11:30:27.794Z"
   },
   {
    "duration": 18,
    "start_time": "2023-05-25T11:30:27.810Z"
   },
   {
    "duration": 14,
    "start_time": "2023-05-25T11:30:27.830Z"
   },
   {
    "duration": 22,
    "start_time": "2023-05-25T11:30:27.845Z"
   },
   {
    "duration": 13,
    "start_time": "2023-05-25T11:30:27.868Z"
   },
   {
    "duration": 17,
    "start_time": "2023-05-25T11:30:27.883Z"
   },
   {
    "duration": 6,
    "start_time": "2023-05-25T11:30:27.902Z"
   },
   {
    "duration": 9,
    "start_time": "2023-05-25T11:30:27.910Z"
   },
   {
    "duration": 142,
    "start_time": "2023-05-25T11:30:27.921Z"
   },
   {
    "duration": 20,
    "start_time": "2023-05-25T11:30:28.065Z"
   },
   {
    "duration": 19,
    "start_time": "2023-05-25T11:30:28.086Z"
   },
   {
    "duration": 7,
    "start_time": "2023-05-25T11:30:28.107Z"
   },
   {
    "duration": 5,
    "start_time": "2023-05-25T11:30:28.115Z"
   },
   {
    "duration": 174,
    "start_time": "2023-05-25T11:30:28.123Z"
   },
   {
    "duration": 134,
    "start_time": "2023-05-25T11:30:28.299Z"
   },
   {
    "duration": 3,
    "start_time": "2023-05-25T11:30:28.435Z"
   },
   {
    "duration": 127,
    "start_time": "2023-05-25T11:30:28.440Z"
   },
   {
    "duration": 136,
    "start_time": "2023-05-25T11:30:28.569Z"
   },
   {
    "duration": 18,
    "start_time": "2023-05-25T11:30:28.707Z"
   },
   {
    "duration": 18,
    "start_time": "2023-05-25T11:30:28.727Z"
   },
   {
    "duration": 3,
    "start_time": "2023-05-25T11:30:28.747Z"
   },
   {
    "duration": 43,
    "start_time": "2023-05-25T11:30:28.751Z"
   },
   {
    "duration": 19,
    "start_time": "2023-05-25T11:30:28.796Z"
   },
   {
    "duration": 14,
    "start_time": "2023-05-25T11:30:28.817Z"
   },
   {
    "duration": 8,
    "start_time": "2023-05-25T11:30:28.833Z"
   },
   {
    "duration": 138,
    "start_time": "2023-05-25T11:30:28.842Z"
   },
   {
    "duration": 8,
    "start_time": "2023-05-25T11:30:28.982Z"
   },
   {
    "duration": 130,
    "start_time": "2023-05-25T11:30:28.992Z"
   },
   {
    "duration": 8,
    "start_time": "2023-05-25T11:30:29.124Z"
   },
   {
    "duration": 139,
    "start_time": "2023-05-25T11:30:29.133Z"
   },
   {
    "duration": 8,
    "start_time": "2023-05-25T11:30:29.278Z"
   },
   {
    "duration": 148,
    "start_time": "2023-05-25T11:30:29.287Z"
   },
   {
    "duration": 128,
    "start_time": "2023-05-25T11:30:29.437Z"
   },
   {
    "duration": 13,
    "start_time": "2023-05-25T11:30:29.567Z"
   },
   {
    "duration": 14,
    "start_time": "2023-05-25T11:30:29.582Z"
   },
   {
    "duration": 11,
    "start_time": "2023-05-25T11:30:29.597Z"
   },
   {
    "duration": 5,
    "start_time": "2023-05-25T11:30:29.609Z"
   },
   {
    "duration": 6,
    "start_time": "2023-05-25T11:30:29.615Z"
   },
   {
    "duration": 10,
    "start_time": "2023-05-25T11:30:29.623Z"
   },
   {
    "duration": 8,
    "start_time": "2023-05-25T11:30:29.634Z"
   },
   {
    "duration": 5,
    "start_time": "2023-05-25T11:30:29.643Z"
   },
   {
    "duration": 295,
    "start_time": "2023-05-25T11:30:29.650Z"
   },
   {
    "duration": 31576,
    "start_time": "2023-05-25T11:30:29.946Z"
   },
   {
    "duration": 5,
    "start_time": "2023-05-25T11:31:01.524Z"
   },
   {
    "duration": 91,
    "start_time": "2023-05-25T11:39:02.107Z"
   },
   {
    "duration": 5,
    "start_time": "2023-05-25T11:39:07.148Z"
   },
   {
    "duration": 6,
    "start_time": "2023-05-25T11:39:17.765Z"
   },
   {
    "duration": 8,
    "start_time": "2023-05-25T11:40:29.307Z"
   },
   {
    "duration": 10,
    "start_time": "2023-05-25T11:42:57.570Z"
   },
   {
    "duration": 5,
    "start_time": "2023-05-25T11:51:57.799Z"
   },
   {
    "duration": 4,
    "start_time": "2023-05-25T11:52:00.527Z"
   },
   {
    "duration": 56,
    "start_time": "2023-05-25T15:35:41.170Z"
   },
   {
    "duration": 1304,
    "start_time": "2023-05-25T15:35:47.608Z"
   },
   {
    "duration": 488,
    "start_time": "2023-05-25T15:35:48.914Z"
   },
   {
    "duration": 16,
    "start_time": "2023-05-25T15:35:49.405Z"
   },
   {
    "duration": 23,
    "start_time": "2023-05-25T15:35:49.423Z"
   },
   {
    "duration": 32,
    "start_time": "2023-05-25T15:35:49.448Z"
   },
   {
    "duration": 28,
    "start_time": "2023-05-25T15:35:49.481Z"
   },
   {
    "duration": 10,
    "start_time": "2023-05-25T15:35:49.512Z"
   },
   {
    "duration": 26,
    "start_time": "2023-05-25T15:35:49.523Z"
   },
   {
    "duration": 26,
    "start_time": "2023-05-25T15:35:49.551Z"
   },
   {
    "duration": 14,
    "start_time": "2023-05-25T15:35:49.580Z"
   },
   {
    "duration": 14,
    "start_time": "2023-05-25T15:35:49.596Z"
   },
   {
    "duration": 11,
    "start_time": "2023-05-25T15:35:49.612Z"
   },
   {
    "duration": 7,
    "start_time": "2023-05-25T15:35:49.625Z"
   },
   {
    "duration": 33,
    "start_time": "2023-05-25T15:35:49.634Z"
   },
   {
    "duration": 10,
    "start_time": "2023-05-25T15:35:49.673Z"
   },
   {
    "duration": 7,
    "start_time": "2023-05-25T15:35:49.686Z"
   },
   {
    "duration": 12,
    "start_time": "2023-05-25T15:35:49.696Z"
   },
   {
    "duration": 6,
    "start_time": "2023-05-25T15:35:49.709Z"
   },
   {
    "duration": 11,
    "start_time": "2023-05-25T15:35:49.717Z"
   },
   {
    "duration": 48,
    "start_time": "2023-05-25T15:35:49.729Z"
   },
   {
    "duration": 12,
    "start_time": "2023-05-25T15:35:49.780Z"
   },
   {
    "duration": 6,
    "start_time": "2023-05-25T15:35:49.794Z"
   },
   {
    "duration": 6,
    "start_time": "2023-05-25T15:35:49.801Z"
   },
   {
    "duration": 225,
    "start_time": "2023-05-25T15:35:49.809Z"
   },
   {
    "duration": 13,
    "start_time": "2023-05-25T15:35:50.036Z"
   },
   {
    "duration": 49,
    "start_time": "2023-05-25T15:35:50.051Z"
   },
   {
    "duration": 17,
    "start_time": "2023-05-25T15:35:50.102Z"
   },
   {
    "duration": 6,
    "start_time": "2023-05-25T15:35:50.122Z"
   },
   {
    "duration": 275,
    "start_time": "2023-05-25T15:35:50.130Z"
   },
   {
    "duration": 194,
    "start_time": "2023-05-25T15:35:50.408Z"
   },
   {
    "duration": 62,
    "start_time": "2023-05-25T15:35:50.604Z"
   },
   {
    "duration": 234,
    "start_time": "2023-05-25T15:35:50.669Z"
   },
   {
    "duration": 165,
    "start_time": "2023-05-25T15:35:50.905Z"
   },
   {
    "duration": 22,
    "start_time": "2023-05-25T15:35:51.072Z"
   },
   {
    "duration": 34,
    "start_time": "2023-05-25T15:35:51.096Z"
   },
   {
    "duration": 9,
    "start_time": "2023-05-25T15:35:51.132Z"
   },
   {
    "duration": 49,
    "start_time": "2023-05-25T15:35:51.143Z"
   },
   {
    "duration": 23,
    "start_time": "2023-05-25T15:35:51.194Z"
   },
   {
    "duration": 11,
    "start_time": "2023-05-25T15:35:51.219Z"
   },
   {
    "duration": 172,
    "start_time": "2023-05-25T15:35:51.233Z"
   },
   {
    "duration": 9,
    "start_time": "2023-05-25T15:35:51.407Z"
   },
   {
    "duration": 162,
    "start_time": "2023-05-25T15:35:51.418Z"
   },
   {
    "duration": 10,
    "start_time": "2023-05-25T15:35:51.582Z"
   },
   {
    "duration": 189,
    "start_time": "2023-05-25T15:35:51.594Z"
   },
   {
    "duration": 10,
    "start_time": "2023-05-25T15:35:51.784Z"
   },
   {
    "duration": 189,
    "start_time": "2023-05-25T15:35:51.795Z"
   },
   {
    "duration": 155,
    "start_time": "2023-05-25T15:35:51.986Z"
   },
   {
    "duration": 10,
    "start_time": "2023-05-25T15:35:52.143Z"
   },
   {
    "duration": 62,
    "start_time": "2023-05-25T15:35:52.155Z"
   },
   {
    "duration": 19,
    "start_time": "2023-05-25T15:35:52.218Z"
   },
   {
    "duration": 12,
    "start_time": "2023-05-25T15:35:52.239Z"
   },
   {
    "duration": 40,
    "start_time": "2023-05-25T15:35:52.253Z"
   },
   {
    "duration": 5,
    "start_time": "2023-05-25T15:35:52.295Z"
   },
   {
    "duration": 40,
    "start_time": "2023-05-25T15:35:52.302Z"
   },
   {
    "duration": 43,
    "start_time": "2023-05-25T15:35:52.344Z"
   },
   {
    "duration": 393,
    "start_time": "2023-05-25T15:35:52.389Z"
   },
   {
    "duration": 37986,
    "start_time": "2023-05-25T15:35:52.784Z"
   },
   {
    "duration": 7,
    "start_time": "2023-05-25T15:36:30.773Z"
   },
   {
    "duration": 6,
    "start_time": "2023-05-25T15:40:07.968Z"
   },
   {
    "duration": 5,
    "start_time": "2023-05-25T15:40:15.116Z"
   },
   {
    "duration": 7,
    "start_time": "2023-05-25T15:40:25.472Z"
   },
   {
    "duration": 3,
    "start_time": "2023-05-25T15:45:23.775Z"
   },
   {
    "duration": 72,
    "start_time": "2023-05-25T15:46:09.411Z"
   },
   {
    "duration": 8,
    "start_time": "2023-05-25T15:46:14.983Z"
   },
   {
    "duration": 152,
    "start_time": "2023-05-25T15:46:25.036Z"
   },
   {
    "duration": 2,
    "start_time": "2023-05-25T16:12:16.748Z"
   },
   {
    "duration": 10,
    "start_time": "2023-05-25T16:12:32.960Z"
   },
   {
    "duration": 159,
    "start_time": "2023-05-25T16:12:40.874Z"
   },
   {
    "duration": 141,
    "start_time": "2023-05-25T16:14:19.177Z"
   },
   {
    "duration": 128,
    "start_time": "2023-05-25T16:16:15.723Z"
   },
   {
    "duration": 138,
    "start_time": "2023-05-25T16:16:32.628Z"
   },
   {
    "duration": 162,
    "start_time": "2023-05-25T16:17:30.379Z"
   },
   {
    "duration": 327,
    "start_time": "2023-05-25T16:20:53.329Z"
   },
   {
    "duration": 11,
    "start_time": "2023-05-25T16:25:47.829Z"
   },
   {
    "duration": 203,
    "start_time": "2023-05-25T16:26:48.535Z"
   },
   {
    "duration": 9,
    "start_time": "2023-05-25T16:27:41.328Z"
   },
   {
    "duration": 427,
    "start_time": "2023-05-25T16:28:09.674Z"
   },
   {
    "duration": 14,
    "start_time": "2023-05-25T16:32:00.938Z"
   },
   {
    "duration": 13,
    "start_time": "2023-05-25T16:32:22.922Z"
   },
   {
    "duration": 70,
    "start_time": "2023-05-25T16:32:52.706Z"
   },
   {
    "duration": 9,
    "start_time": "2023-05-25T16:37:54.918Z"
   },
   {
    "duration": 119,
    "start_time": "2023-05-25T16:38:06.768Z"
   },
   {
    "duration": 741,
    "start_time": "2023-05-25T16:39:58.840Z"
   },
   {
    "duration": 207,
    "start_time": "2023-05-25T16:40:49.634Z"
   },
   {
    "duration": 201,
    "start_time": "2023-05-25T16:41:10.330Z"
   },
   {
    "duration": 1035,
    "start_time": "2023-05-25T16:41:21.107Z"
   },
   {
    "duration": 123,
    "start_time": "2023-05-25T16:41:22.144Z"
   },
   {
    "duration": 13,
    "start_time": "2023-05-25T16:41:22.269Z"
   },
   {
    "duration": 34,
    "start_time": "2023-05-25T16:41:22.285Z"
   },
   {
    "duration": 21,
    "start_time": "2023-05-25T16:41:22.321Z"
   },
   {
    "duration": 24,
    "start_time": "2023-05-25T16:41:22.344Z"
   },
   {
    "duration": 7,
    "start_time": "2023-05-25T16:41:22.370Z"
   },
   {
    "duration": 26,
    "start_time": "2023-05-25T16:41:22.379Z"
   },
   {
    "duration": 24,
    "start_time": "2023-05-25T16:41:22.407Z"
   },
   {
    "duration": 14,
    "start_time": "2023-05-25T16:41:22.434Z"
   },
   {
    "duration": 11,
    "start_time": "2023-05-25T16:41:22.450Z"
   },
   {
    "duration": 6,
    "start_time": "2023-05-25T16:41:22.462Z"
   },
   {
    "duration": 5,
    "start_time": "2023-05-25T16:41:22.470Z"
   },
   {
    "duration": 8,
    "start_time": "2023-05-25T16:41:22.477Z"
   },
   {
    "duration": 7,
    "start_time": "2023-05-25T16:41:22.486Z"
   },
   {
    "duration": 13,
    "start_time": "2023-05-25T16:41:22.495Z"
   },
   {
    "duration": 11,
    "start_time": "2023-05-25T16:41:22.510Z"
   },
   {
    "duration": 34,
    "start_time": "2023-05-25T16:41:22.522Z"
   },
   {
    "duration": 8,
    "start_time": "2023-05-25T16:41:22.558Z"
   },
   {
    "duration": 18,
    "start_time": "2023-05-25T16:41:22.568Z"
   },
   {
    "duration": 16,
    "start_time": "2023-05-25T16:41:22.587Z"
   },
   {
    "duration": 10,
    "start_time": "2023-05-25T16:41:22.605Z"
   },
   {
    "duration": 7,
    "start_time": "2023-05-25T16:41:22.617Z"
   },
   {
    "duration": 9,
    "start_time": "2023-05-25T16:41:22.626Z"
   },
   {
    "duration": 160,
    "start_time": "2023-05-25T16:41:22.637Z"
   },
   {
    "duration": 11,
    "start_time": "2023-05-25T16:41:22.799Z"
   },
   {
    "duration": 9,
    "start_time": "2023-05-25T16:41:22.812Z"
   },
   {
    "duration": 12,
    "start_time": "2023-05-25T16:41:22.825Z"
   },
   {
    "duration": 21,
    "start_time": "2023-05-25T16:41:22.839Z"
   },
   {
    "duration": 180,
    "start_time": "2023-05-25T16:41:22.862Z"
   },
   {
    "duration": 803,
    "start_time": "2023-05-25T16:41:23.044Z"
   },
   {
    "duration": 0,
    "start_time": "2023-05-25T16:41:23.849Z"
   },
   {
    "duration": 0,
    "start_time": "2023-05-25T16:41:23.851Z"
   },
   {
    "duration": 0,
    "start_time": "2023-05-25T16:41:23.852Z"
   },
   {
    "duration": 0,
    "start_time": "2023-05-25T16:41:23.853Z"
   },
   {
    "duration": 0,
    "start_time": "2023-05-25T16:41:23.854Z"
   },
   {
    "duration": 0,
    "start_time": "2023-05-25T16:41:23.856Z"
   },
   {
    "duration": 0,
    "start_time": "2023-05-25T16:41:23.857Z"
   },
   {
    "duration": 0,
    "start_time": "2023-05-25T16:41:23.858Z"
   },
   {
    "duration": 0,
    "start_time": "2023-05-25T16:41:23.859Z"
   },
   {
    "duration": 0,
    "start_time": "2023-05-25T16:41:23.860Z"
   },
   {
    "duration": 0,
    "start_time": "2023-05-25T16:41:23.862Z"
   },
   {
    "duration": 0,
    "start_time": "2023-05-25T16:41:23.863Z"
   },
   {
    "duration": 0,
    "start_time": "2023-05-25T16:41:23.864Z"
   },
   {
    "duration": 0,
    "start_time": "2023-05-25T16:41:23.865Z"
   },
   {
    "duration": 0,
    "start_time": "2023-05-25T16:41:23.866Z"
   },
   {
    "duration": 0,
    "start_time": "2023-05-25T16:41:23.867Z"
   },
   {
    "duration": 0,
    "start_time": "2023-05-25T16:41:23.868Z"
   },
   {
    "duration": 0,
    "start_time": "2023-05-25T16:41:23.869Z"
   },
   {
    "duration": 0,
    "start_time": "2023-05-25T16:41:23.870Z"
   },
   {
    "duration": 0,
    "start_time": "2023-05-25T16:41:23.871Z"
   },
   {
    "duration": 0,
    "start_time": "2023-05-25T16:41:23.872Z"
   },
   {
    "duration": 0,
    "start_time": "2023-05-25T16:41:23.873Z"
   },
   {
    "duration": 0,
    "start_time": "2023-05-25T16:41:23.875Z"
   },
   {
    "duration": 0,
    "start_time": "2023-05-25T16:41:23.876Z"
   },
   {
    "duration": 0,
    "start_time": "2023-05-25T16:41:23.878Z"
   },
   {
    "duration": 0,
    "start_time": "2023-05-25T16:41:23.879Z"
   },
   {
    "duration": 0,
    "start_time": "2023-05-25T16:41:23.880Z"
   },
   {
    "duration": 0,
    "start_time": "2023-05-25T16:41:23.881Z"
   },
   {
    "duration": 0,
    "start_time": "2023-05-25T16:41:23.882Z"
   },
   {
    "duration": 14,
    "start_time": "2023-05-25T16:42:34.936Z"
   },
   {
    "duration": 405,
    "start_time": "2023-05-25T16:45:39.976Z"
   },
   {
    "duration": 44,
    "start_time": "2023-05-25T16:52:06.838Z"
   },
   {
    "duration": 65,
    "start_time": "2023-05-25T16:52:23.221Z"
   },
   {
    "duration": 233,
    "start_time": "2023-05-25T16:54:01.937Z"
   },
   {
    "duration": 108,
    "start_time": "2023-05-25T16:54:52.769Z"
   },
   {
    "duration": 13,
    "start_time": "2023-05-25T16:55:16.208Z"
   },
   {
    "duration": 11,
    "start_time": "2023-05-25T16:55:26.552Z"
   },
   {
    "duration": 105,
    "start_time": "2023-05-25T16:55:44.947Z"
   },
   {
    "duration": 748,
    "start_time": "2023-05-25T16:55:53.050Z"
   },
   {
    "duration": 388,
    "start_time": "2023-05-25T16:56:16.438Z"
   },
   {
    "duration": 6,
    "start_time": "2023-05-25T16:57:08.116Z"
   },
   {
    "duration": 154,
    "start_time": "2023-05-25T16:57:11.657Z"
   },
   {
    "duration": 284,
    "start_time": "2023-05-25T16:57:16.990Z"
   },
   {
    "duration": 370,
    "start_time": "2023-05-25T16:57:28.735Z"
   },
   {
    "duration": 151,
    "start_time": "2023-05-25T17:01:51.552Z"
   },
   {
    "duration": 34,
    "start_time": "2023-05-25T17:04:41.821Z"
   },
   {
    "duration": 150,
    "start_time": "2023-05-25T17:26:48.471Z"
   },
   {
    "duration": 377,
    "start_time": "2023-05-25T17:28:31.215Z"
   },
   {
    "duration": 43235,
    "start_time": "2023-05-25T17:29:35.648Z"
   },
   {
    "duration": 3,
    "start_time": "2023-05-25T17:30:18.885Z"
   },
   {
    "duration": 15,
    "start_time": "2023-05-25T17:30:39.782Z"
   },
   {
    "duration": 13,
    "start_time": "2023-05-25T17:31:20.002Z"
   },
   {
    "duration": 129,
    "start_time": "2023-05-25T17:31:44.389Z"
   },
   {
    "duration": 140,
    "start_time": "2023-05-25T17:32:03.737Z"
   },
   {
    "duration": 144,
    "start_time": "2023-05-25T17:32:27.101Z"
   },
   {
    "duration": 141,
    "start_time": "2023-05-25T17:33:16.036Z"
   },
   {
    "duration": 607,
    "start_time": "2023-05-25T17:34:34.013Z"
   },
   {
    "duration": 130,
    "start_time": "2023-05-25T17:35:20.677Z"
   },
   {
    "duration": 117,
    "start_time": "2023-05-25T17:35:40.942Z"
   },
   {
    "duration": 138,
    "start_time": "2023-05-25T17:36:03.598Z"
   },
   {
    "duration": 148,
    "start_time": "2023-05-25T17:36:17.108Z"
   },
   {
    "duration": 19,
    "start_time": "2023-05-25T17:42:49.115Z"
   },
   {
    "duration": 9,
    "start_time": "2023-05-25T17:43:01.828Z"
   },
   {
    "duration": 24,
    "start_time": "2023-05-25T17:43:25.050Z"
   },
   {
    "duration": 17,
    "start_time": "2023-05-25T17:43:55.015Z"
   },
   {
    "duration": 23,
    "start_time": "2023-05-25T17:44:12.854Z"
   },
   {
    "duration": 130,
    "start_time": "2023-05-25T17:48:21.452Z"
   },
   {
    "duration": 134,
    "start_time": "2023-05-25T17:48:47.892Z"
   },
   {
    "duration": 152,
    "start_time": "2023-05-25T17:49:32.054Z"
   },
   {
    "duration": 134,
    "start_time": "2023-05-25T17:51:13.720Z"
   },
   {
    "duration": 10,
    "start_time": "2023-05-25T17:52:32.594Z"
   },
   {
    "duration": 6,
    "start_time": "2023-05-25T17:52:44.372Z"
   },
   {
    "duration": 14,
    "start_time": "2023-05-25T17:52:55.871Z"
   },
   {
    "duration": 26,
    "start_time": "2023-05-25T17:53:21.846Z"
   },
   {
    "duration": 11,
    "start_time": "2023-05-25T17:53:27.070Z"
   },
   {
    "duration": 6,
    "start_time": "2023-05-25T17:54:12.075Z"
   },
   {
    "duration": 3,
    "start_time": "2023-05-25T17:54:21.486Z"
   },
   {
    "duration": 70,
    "start_time": "2023-05-25T17:54:21.501Z"
   },
   {
    "duration": 9,
    "start_time": "2023-05-25T17:54:21.574Z"
   },
   {
    "duration": 22,
    "start_time": "2023-05-25T17:54:21.585Z"
   },
   {
    "duration": 15,
    "start_time": "2023-05-25T17:54:21.609Z"
   },
   {
    "duration": 20,
    "start_time": "2023-05-25T17:54:21.625Z"
   },
   {
    "duration": 15,
    "start_time": "2023-05-25T17:54:21.646Z"
   },
   {
    "duration": 10,
    "start_time": "2023-05-25T17:54:21.676Z"
   },
   {
    "duration": 9,
    "start_time": "2023-05-25T17:54:21.694Z"
   },
   {
    "duration": 10,
    "start_time": "2023-05-25T17:54:21.714Z"
   },
   {
    "duration": 29,
    "start_time": "2023-05-25T17:54:21.726Z"
   },
   {
    "duration": 16,
    "start_time": "2023-05-25T17:54:21.758Z"
   },
   {
    "duration": 9,
    "start_time": "2023-05-25T17:54:21.776Z"
   },
   {
    "duration": 12,
    "start_time": "2023-05-25T17:54:21.787Z"
   },
   {
    "duration": 6,
    "start_time": "2023-05-25T17:54:21.884Z"
   },
   {
    "duration": 8,
    "start_time": "2023-05-25T17:54:21.897Z"
   },
   {
    "duration": 16,
    "start_time": "2023-05-25T17:54:21.907Z"
   },
   {
    "duration": 6,
    "start_time": "2023-05-25T17:54:21.925Z"
   },
   {
    "duration": 6,
    "start_time": "2023-05-25T17:54:21.942Z"
   },
   {
    "duration": 15,
    "start_time": "2023-05-25T17:54:21.950Z"
   },
   {
    "duration": 10,
    "start_time": "2023-05-25T17:54:21.971Z"
   },
   {
    "duration": 5,
    "start_time": "2023-05-25T17:54:22.079Z"
   },
   {
    "duration": 100,
    "start_time": "2023-05-25T17:54:22.087Z"
   },
   {
    "duration": 80,
    "start_time": "2023-05-25T17:54:22.190Z"
   },
   {
    "duration": 200,
    "start_time": "2023-05-25T17:54:22.271Z"
   },
   {
    "duration": 11,
    "start_time": "2023-05-25T17:54:22.473Z"
   },
   {
    "duration": 17,
    "start_time": "2023-05-25T17:54:22.486Z"
   },
   {
    "duration": 10,
    "start_time": "2023-05-25T17:54:22.505Z"
   },
   {
    "duration": 7,
    "start_time": "2023-05-25T17:54:22.516Z"
   },
   {
    "duration": 197,
    "start_time": "2023-05-25T17:54:22.525Z"
   },
   {
    "duration": 149,
    "start_time": "2023-05-25T17:54:22.724Z"
   },
   {
    "duration": 150,
    "start_time": "2023-05-25T17:54:22.875Z"
   },
   {
    "duration": 6,
    "start_time": "2023-05-25T17:54:23.026Z"
   },
   {
    "duration": 238,
    "start_time": "2023-05-25T17:54:23.033Z"
   },
   {
    "duration": 148,
    "start_time": "2023-05-25T17:54:23.273Z"
   },
   {
    "duration": 33,
    "start_time": "2023-05-25T17:54:23.423Z"
   },
   {
    "duration": 21,
    "start_time": "2023-05-25T17:54:23.463Z"
   },
   {
    "duration": 13,
    "start_time": "2023-05-25T17:54:23.486Z"
   },
   {
    "duration": 171,
    "start_time": "2023-05-25T17:54:23.502Z"
   },
   {
    "duration": 13,
    "start_time": "2023-05-25T17:54:23.676Z"
   },
   {
    "duration": 21,
    "start_time": "2023-05-25T17:54:23.691Z"
   },
   {
    "duration": 19,
    "start_time": "2023-05-25T17:54:23.714Z"
   },
   {
    "duration": 4,
    "start_time": "2023-05-25T17:54:23.735Z"
   },
   {
    "duration": 38,
    "start_time": "2023-05-25T17:54:23.740Z"
   },
   {
    "duration": 26,
    "start_time": "2023-05-25T17:54:23.780Z"
   },
   {
    "duration": 8,
    "start_time": "2023-05-25T17:54:23.808Z"
   },
   {
    "duration": 157,
    "start_time": "2023-05-25T17:54:23.818Z"
   },
   {
    "duration": 9,
    "start_time": "2023-05-25T17:54:23.977Z"
   },
   {
    "duration": 158,
    "start_time": "2023-05-25T17:54:23.988Z"
   },
   {
    "duration": 19,
    "start_time": "2023-05-25T17:54:24.147Z"
   },
   {
    "duration": 167,
    "start_time": "2023-05-25T17:54:24.168Z"
   },
   {
    "duration": 22,
    "start_time": "2023-05-25T17:54:24.337Z"
   },
   {
    "duration": 168,
    "start_time": "2023-05-25T17:54:24.361Z"
   },
   {
    "duration": 144,
    "start_time": "2023-05-25T17:54:24.531Z"
   },
   {
    "duration": 10,
    "start_time": "2023-05-25T17:54:24.677Z"
   },
   {
    "duration": 17,
    "start_time": "2023-05-25T17:54:24.690Z"
   },
   {
    "duration": 5,
    "start_time": "2023-05-25T17:54:24.709Z"
   },
   {
    "duration": 5,
    "start_time": "2023-05-25T17:54:24.715Z"
   },
   {
    "duration": 47,
    "start_time": "2023-05-25T17:54:24.723Z"
   },
   {
    "duration": 5,
    "start_time": "2023-05-25T17:54:24.772Z"
   },
   {
    "duration": 6,
    "start_time": "2023-05-25T17:54:24.779Z"
   },
   {
    "duration": 7,
    "start_time": "2023-05-25T17:54:24.786Z"
   },
   {
    "duration": 242,
    "start_time": "2023-05-25T17:54:24.794Z"
   },
   {
    "duration": 34620,
    "start_time": "2023-05-25T17:54:25.039Z"
   },
   {
    "duration": 5,
    "start_time": "2023-05-25T17:54:59.661Z"
   },
   {
    "duration": 1747,
    "start_time": "2023-05-26T05:22:53.188Z"
   },
   {
    "duration": 410,
    "start_time": "2023-05-26T05:22:54.938Z"
   },
   {
    "duration": 53,
    "start_time": "2023-05-26T05:22:55.351Z"
   },
   {
    "duration": 15,
    "start_time": "2023-05-26T05:22:55.406Z"
   },
   {
    "duration": 12,
    "start_time": "2023-05-26T05:22:55.425Z"
   },
   {
    "duration": 16,
    "start_time": "2023-05-26T05:22:55.439Z"
   },
   {
    "duration": 15,
    "start_time": "2023-05-26T05:22:55.459Z"
   },
   {
    "duration": 18,
    "start_time": "2023-05-26T05:22:55.476Z"
   },
   {
    "duration": 13,
    "start_time": "2023-05-26T05:22:55.498Z"
   },
   {
    "duration": 20,
    "start_time": "2023-05-26T05:22:55.513Z"
   },
   {
    "duration": 52,
    "start_time": "2023-05-26T05:22:55.535Z"
   },
   {
    "duration": 27,
    "start_time": "2023-05-26T05:22:55.591Z"
   },
   {
    "duration": 11,
    "start_time": "2023-05-26T05:22:55.621Z"
   },
   {
    "duration": 9,
    "start_time": "2023-05-26T05:22:55.637Z"
   },
   {
    "duration": 9,
    "start_time": "2023-05-26T05:22:55.649Z"
   },
   {
    "duration": 21,
    "start_time": "2023-05-26T05:22:55.674Z"
   },
   {
    "duration": 25,
    "start_time": "2023-05-26T05:22:55.697Z"
   },
   {
    "duration": 8,
    "start_time": "2023-05-26T05:22:55.724Z"
   },
   {
    "duration": 52,
    "start_time": "2023-05-26T05:22:55.734Z"
   },
   {
    "duration": 39,
    "start_time": "2023-05-26T05:22:55.792Z"
   },
   {
    "duration": 12,
    "start_time": "2023-05-26T05:22:55.833Z"
   },
   {
    "duration": 6,
    "start_time": "2023-05-26T05:22:55.846Z"
   },
   {
    "duration": 26,
    "start_time": "2023-05-26T05:22:55.854Z"
   },
   {
    "duration": 13,
    "start_time": "2023-05-26T05:22:55.882Z"
   },
   {
    "duration": 229,
    "start_time": "2023-05-26T05:22:55.900Z"
   },
   {
    "duration": 16,
    "start_time": "2023-05-26T05:22:56.131Z"
   },
   {
    "duration": 30,
    "start_time": "2023-05-26T05:22:56.149Z"
   },
   {
    "duration": 27,
    "start_time": "2023-05-26T05:22:56.181Z"
   },
   {
    "duration": 26,
    "start_time": "2023-05-26T05:22:56.210Z"
   },
   {
    "duration": 264,
    "start_time": "2023-05-26T05:22:56.239Z"
   },
   {
    "duration": 194,
    "start_time": "2023-05-26T05:22:56.506Z"
   },
   {
    "duration": 181,
    "start_time": "2023-05-26T05:22:56.702Z"
   },
   {
    "duration": 7,
    "start_time": "2023-05-26T05:22:56.891Z"
   },
   {
    "duration": 240,
    "start_time": "2023-05-26T05:22:56.900Z"
   },
   {
    "duration": 184,
    "start_time": "2023-05-26T05:22:57.142Z"
   },
   {
    "duration": 51,
    "start_time": "2023-05-26T05:22:57.328Z"
   },
   {
    "duration": 22,
    "start_time": "2023-05-26T05:22:57.389Z"
   },
   {
    "duration": 35,
    "start_time": "2023-05-26T05:22:57.414Z"
   },
   {
    "duration": 182,
    "start_time": "2023-05-26T05:22:57.452Z"
   },
   {
    "duration": 38,
    "start_time": "2023-05-26T05:22:57.636Z"
   },
   {
    "duration": 36,
    "start_time": "2023-05-26T05:22:57.681Z"
   },
   {
    "duration": 32,
    "start_time": "2023-05-26T05:22:57.719Z"
   },
   {
    "duration": 11,
    "start_time": "2023-05-26T05:22:57.759Z"
   },
   {
    "duration": 34,
    "start_time": "2023-05-26T05:22:57.785Z"
   },
   {
    "duration": 26,
    "start_time": "2023-05-26T05:22:57.821Z"
   },
   {
    "duration": 31,
    "start_time": "2023-05-26T05:22:57.849Z"
   },
   {
    "duration": 209,
    "start_time": "2023-05-26T05:22:57.882Z"
   },
   {
    "duration": 13,
    "start_time": "2023-05-26T05:22:58.093Z"
   },
   {
    "duration": 217,
    "start_time": "2023-05-26T05:22:58.111Z"
   },
   {
    "duration": 12,
    "start_time": "2023-05-26T05:22:58.330Z"
   },
   {
    "duration": 268,
    "start_time": "2023-05-26T05:22:58.344Z"
   },
   {
    "duration": 12,
    "start_time": "2023-05-26T05:22:58.615Z"
   },
   {
    "duration": 331,
    "start_time": "2023-05-26T05:22:58.629Z"
   },
   {
    "duration": 225,
    "start_time": "2023-05-26T05:22:58.963Z"
   },
   {
    "duration": 21,
    "start_time": "2023-05-26T05:22:59.199Z"
   },
   {
    "duration": 25,
    "start_time": "2023-05-26T05:22:59.222Z"
   },
   {
    "duration": 24,
    "start_time": "2023-05-26T05:22:59.249Z"
   },
   {
    "duration": 14,
    "start_time": "2023-05-26T05:22:59.285Z"
   },
   {
    "duration": 26,
    "start_time": "2023-05-26T05:22:59.301Z"
   },
   {
    "duration": 10,
    "start_time": "2023-05-26T05:22:59.329Z"
   },
   {
    "duration": 9,
    "start_time": "2023-05-26T05:22:59.341Z"
   },
   {
    "duration": 32,
    "start_time": "2023-05-26T05:22:59.352Z"
   },
   {
    "duration": 336,
    "start_time": "2023-05-26T05:22:59.387Z"
   },
   {
    "duration": 45276,
    "start_time": "2023-05-26T05:22:59.725Z"
   },
   {
    "duration": 13,
    "start_time": "2023-05-26T05:23:45.008Z"
   },
   {
    "duration": 61,
    "start_time": "2023-05-26T05:23:45.025Z"
   },
   {
    "duration": 12,
    "start_time": "2023-05-26T05:25:21.017Z"
   },
   {
    "duration": 6,
    "start_time": "2023-05-26T05:25:37.285Z"
   },
   {
    "duration": 15,
    "start_time": "2023-05-26T05:26:00.193Z"
   },
   {
    "duration": 8,
    "start_time": "2023-05-26T05:26:27.983Z"
   },
   {
    "duration": 4,
    "start_time": "2023-05-26T05:28:01.332Z"
   },
   {
    "duration": 4,
    "start_time": "2023-05-26T05:29:07.637Z"
   },
   {
    "duration": 14,
    "start_time": "2023-05-26T05:33:29.787Z"
   },
   {
    "duration": 25,
    "start_time": "2023-05-26T05:33:57.501Z"
   },
   {
    "duration": 178,
    "start_time": "2023-05-26T05:36:55.992Z"
   },
   {
    "duration": 225,
    "start_time": "2023-05-26T05:37:03.792Z"
   },
   {
    "duration": 277,
    "start_time": "2023-05-26T05:37:07.884Z"
   },
   {
    "duration": 378,
    "start_time": "2023-05-26T05:37:14.993Z"
   },
   {
    "duration": 2,
    "start_time": "2023-05-26T05:47:13.812Z"
   },
   {
    "duration": 3,
    "start_time": "2023-05-26T05:47:20.130Z"
   },
   {
    "duration": 4,
    "start_time": "2023-05-26T05:47:23.683Z"
   },
   {
    "duration": 2,
    "start_time": "2023-05-26T05:47:27.483Z"
   },
   {
    "duration": 280,
    "start_time": "2023-05-26T05:57:06.486Z"
   },
   {
    "duration": 136,
    "start_time": "2023-05-26T06:06:06.585Z"
   },
   {
    "duration": 133,
    "start_time": "2023-05-26T06:06:13.575Z"
   },
   {
    "duration": 136,
    "start_time": "2023-05-26T06:06:54.710Z"
   },
   {
    "duration": 163,
    "start_time": "2023-05-26T06:07:19.983Z"
   },
   {
    "duration": 140,
    "start_time": "2023-05-26T06:07:31.488Z"
   },
   {
    "duration": 186,
    "start_time": "2023-05-26T06:07:58.252Z"
   },
   {
    "duration": 174,
    "start_time": "2023-05-26T06:08:07.636Z"
   },
   {
    "duration": 181,
    "start_time": "2023-05-26T06:08:36.435Z"
   },
   {
    "duration": 16,
    "start_time": "2023-05-26T06:09:24.911Z"
   },
   {
    "duration": 14,
    "start_time": "2023-05-26T06:09:47.068Z"
   },
   {
    "duration": 15,
    "start_time": "2023-05-26T06:10:00.709Z"
   },
   {
    "duration": 13,
    "start_time": "2023-05-26T06:10:19.887Z"
   },
   {
    "duration": 17,
    "start_time": "2023-05-26T06:12:48.944Z"
   },
   {
    "duration": 13,
    "start_time": "2023-05-26T06:13:00.105Z"
   },
   {
    "duration": 899,
    "start_time": "2023-05-26T07:06:22.676Z"
   },
   {
    "duration": 16,
    "start_time": "2023-05-26T07:06:26.577Z"
   },
   {
    "duration": 16,
    "start_time": "2023-05-26T07:06:42.682Z"
   },
   {
    "duration": 26,
    "start_time": "2023-05-26T07:07:57.384Z"
   },
   {
    "duration": 32,
    "start_time": "2023-05-26T07:11:50.752Z"
   },
   {
    "duration": 17,
    "start_time": "2023-05-26T07:11:55.808Z"
   },
   {
    "duration": 6,
    "start_time": "2023-05-26T07:12:40.336Z"
   },
   {
    "duration": 6,
    "start_time": "2023-05-26T07:33:56.660Z"
   },
   {
    "duration": 7,
    "start_time": "2023-05-26T07:34:14.507Z"
   },
   {
    "duration": 6,
    "start_time": "2023-05-26T07:34:21.601Z"
   },
   {
    "duration": 5,
    "start_time": "2023-05-26T07:34:38.595Z"
   },
   {
    "duration": 73,
    "start_time": "2023-05-26T07:37:05.302Z"
   },
   {
    "duration": 870,
    "start_time": "2023-05-26T07:37:13.558Z"
   },
   {
    "duration": 4,
    "start_time": "2023-05-26T07:37:32.449Z"
   },
   {
    "duration": 302,
    "start_time": "2023-05-26T07:37:32.456Z"
   },
   {
    "duration": 17,
    "start_time": "2023-05-26T07:37:32.760Z"
   },
   {
    "duration": 13,
    "start_time": "2023-05-26T07:37:32.779Z"
   },
   {
    "duration": 13,
    "start_time": "2023-05-26T07:37:32.794Z"
   },
   {
    "duration": 48,
    "start_time": "2023-05-26T07:37:32.809Z"
   },
   {
    "duration": 10,
    "start_time": "2023-05-26T07:37:32.860Z"
   },
   {
    "duration": 17,
    "start_time": "2023-05-26T07:37:32.872Z"
   },
   {
    "duration": 12,
    "start_time": "2023-05-26T07:37:32.892Z"
   },
   {
    "duration": 15,
    "start_time": "2023-05-26T07:37:32.907Z"
   },
   {
    "duration": 44,
    "start_time": "2023-05-26T07:37:32.924Z"
   },
   {
    "duration": 10,
    "start_time": "2023-05-26T07:37:32.971Z"
   },
   {
    "duration": 9,
    "start_time": "2023-05-26T07:37:32.984Z"
   },
   {
    "duration": 39,
    "start_time": "2023-05-26T07:37:32.995Z"
   },
   {
    "duration": 24,
    "start_time": "2023-05-26T07:37:33.036Z"
   },
   {
    "duration": 7,
    "start_time": "2023-05-26T07:37:33.062Z"
   },
   {
    "duration": 13,
    "start_time": "2023-05-26T07:37:33.071Z"
   },
   {
    "duration": 7,
    "start_time": "2023-05-26T07:37:33.086Z"
   },
   {
    "duration": 7,
    "start_time": "2023-05-26T07:37:33.095Z"
   },
   {
    "duration": 13,
    "start_time": "2023-05-26T07:37:33.104Z"
   },
   {
    "duration": 12,
    "start_time": "2023-05-26T07:37:33.157Z"
   },
   {
    "duration": 6,
    "start_time": "2023-05-26T07:37:33.172Z"
   },
   {
    "duration": 13,
    "start_time": "2023-05-26T07:37:33.179Z"
   },
   {
    "duration": 3,
    "start_time": "2023-05-26T07:37:33.196Z"
   },
   {
    "duration": 216,
    "start_time": "2023-05-26T07:37:33.202Z"
   },
   {
    "duration": 74,
    "start_time": "2023-05-26T07:37:33.421Z"
   },
   {
    "duration": 38,
    "start_time": "2023-05-26T07:37:33.498Z"
   },
   {
    "duration": 9,
    "start_time": "2023-05-26T07:37:33.539Z"
   },
   {
    "duration": 10,
    "start_time": "2023-05-26T07:37:33.551Z"
   },
   {
    "duration": 207,
    "start_time": "2023-05-26T07:37:33.564Z"
   },
   {
    "duration": 159,
    "start_time": "2023-05-26T07:37:33.774Z"
   },
   {
    "duration": 177,
    "start_time": "2023-05-26T07:37:33.935Z"
   },
   {
    "duration": 5,
    "start_time": "2023-05-26T07:37:34.114Z"
   },
   {
    "duration": 267,
    "start_time": "2023-05-26T07:37:34.121Z"
   },
   {
    "duration": 175,
    "start_time": "2023-05-26T07:37:34.390Z"
   },
   {
    "duration": 26,
    "start_time": "2023-05-26T07:37:34.567Z"
   },
   {
    "duration": 19,
    "start_time": "2023-05-26T07:37:34.595Z"
   },
   {
    "duration": 43,
    "start_time": "2023-05-26T07:37:34.615Z"
   },
   {
    "duration": 150,
    "start_time": "2023-05-26T07:37:34.660Z"
   },
   {
    "duration": 17,
    "start_time": "2023-05-26T07:37:34.812Z"
   },
   {
    "duration": 46,
    "start_time": "2023-05-26T07:37:34.832Z"
   },
   {
    "duration": 30,
    "start_time": "2023-05-26T07:37:34.880Z"
   },
   {
    "duration": 5,
    "start_time": "2023-05-26T07:37:34.915Z"
   },
   {
    "duration": 5,
    "start_time": "2023-05-26T07:37:34.922Z"
   },
   {
    "duration": 12,
    "start_time": "2023-05-26T07:37:34.957Z"
   },
   {
    "duration": 37,
    "start_time": "2023-05-26T07:37:34.971Z"
   },
   {
    "duration": 50,
    "start_time": "2023-05-26T07:37:35.010Z"
   },
   {
    "duration": 12,
    "start_time": "2023-05-26T07:37:35.062Z"
   },
   {
    "duration": 7,
    "start_time": "2023-05-26T07:37:35.076Z"
   },
   {
    "duration": 16,
    "start_time": "2023-05-26T07:37:35.085Z"
   },
   {
    "duration": 3,
    "start_time": "2023-05-26T07:37:35.103Z"
   },
   {
    "duration": 13,
    "start_time": "2023-05-26T07:37:35.108Z"
   },
   {
    "duration": 3,
    "start_time": "2023-05-26T07:37:35.123Z"
   },
   {
    "duration": 14,
    "start_time": "2023-05-26T07:37:35.155Z"
   },
   {
    "duration": 2,
    "start_time": "2023-05-26T07:37:35.172Z"
   },
   {
    "duration": 227,
    "start_time": "2023-05-26T07:37:35.176Z"
   },
   {
    "duration": 191,
    "start_time": "2023-05-26T07:37:35.405Z"
   },
   {
    "duration": 16,
    "start_time": "2023-05-26T07:37:35.599Z"
   },
   {
    "duration": 39,
    "start_time": "2023-05-26T07:37:35.617Z"
   },
   {
    "duration": 17,
    "start_time": "2023-05-26T07:37:35.659Z"
   },
   {
    "duration": 37,
    "start_time": "2023-05-26T07:37:35.678Z"
   },
   {
    "duration": 882,
    "start_time": "2023-05-26T07:37:35.717Z"
   },
   {
    "duration": 12,
    "start_time": "2023-05-26T07:37:36.601Z"
   },
   {
    "duration": 21,
    "start_time": "2023-05-26T07:37:36.615Z"
   },
   {
    "duration": 856,
    "start_time": "2023-05-26T07:37:36.638Z"
   },
   {
    "duration": 0,
    "start_time": "2023-05-26T07:37:37.497Z"
   },
   {
    "duration": 0,
    "start_time": "2023-05-26T07:37:37.498Z"
   },
   {
    "duration": 0,
    "start_time": "2023-05-26T07:37:37.500Z"
   },
   {
    "duration": 0,
    "start_time": "2023-05-26T07:37:37.501Z"
   },
   {
    "duration": 0,
    "start_time": "2023-05-26T07:37:37.502Z"
   },
   {
    "duration": 0,
    "start_time": "2023-05-26T07:37:37.503Z"
   },
   {
    "duration": 0,
    "start_time": "2023-05-26T07:37:37.505Z"
   },
   {
    "duration": 0,
    "start_time": "2023-05-26T07:37:37.506Z"
   },
   {
    "duration": 0,
    "start_time": "2023-05-26T07:37:37.508Z"
   },
   {
    "duration": 763,
    "start_time": "2023-05-26T07:38:01.855Z"
   },
   {
    "duration": 36,
    "start_time": "2023-05-26T07:38:46.973Z"
   },
   {
    "duration": 417,
    "start_time": "2023-05-26T07:39:46.777Z"
   },
   {
    "duration": 23,
    "start_time": "2023-05-26T07:41:30.204Z"
   },
   {
    "duration": 9,
    "start_time": "2023-05-26T07:41:39.371Z"
   },
   {
    "duration": 282,
    "start_time": "2023-05-26T07:44:35.805Z"
   },
   {
    "duration": 260,
    "start_time": "2023-05-26T07:44:45.351Z"
   },
   {
    "duration": 169,
    "start_time": "2023-05-26T07:45:10.151Z"
   },
   {
    "duration": 131,
    "start_time": "2023-05-26T07:55:52.267Z"
   },
   {
    "duration": 281,
    "start_time": "2023-05-26T07:56:18.612Z"
   },
   {
    "duration": 3,
    "start_time": "2023-05-26T08:06:52.313Z"
   },
   {
    "duration": 11,
    "start_time": "2023-05-26T08:09:22.511Z"
   },
   {
    "duration": 12,
    "start_time": "2023-05-26T08:10:17.509Z"
   },
   {
    "duration": 10,
    "start_time": "2023-05-26T08:10:51.197Z"
   },
   {
    "duration": 6,
    "start_time": "2023-05-26T08:12:08.510Z"
   },
   {
    "duration": 13,
    "start_time": "2023-05-26T08:12:11.802Z"
   },
   {
    "duration": 8,
    "start_time": "2023-05-26T08:12:17.450Z"
   },
   {
    "duration": 8,
    "start_time": "2023-05-26T08:12:21.074Z"
   },
   {
    "duration": 9,
    "start_time": "2023-05-26T08:13:12.840Z"
   },
   {
    "duration": 6,
    "start_time": "2023-05-26T08:13:29.374Z"
   },
   {
    "duration": 13,
    "start_time": "2023-05-26T08:13:42.274Z"
   },
   {
    "duration": 9,
    "start_time": "2023-05-26T08:13:52.736Z"
   },
   {
    "duration": 6,
    "start_time": "2023-05-26T08:13:59.795Z"
   },
   {
    "duration": 7,
    "start_time": "2023-05-26T08:14:06.048Z"
   },
   {
    "duration": 7,
    "start_time": "2023-05-26T08:14:41.753Z"
   },
   {
    "duration": 8,
    "start_time": "2023-05-26T08:23:13.717Z"
   },
   {
    "duration": 7,
    "start_time": "2023-05-26T08:23:18.573Z"
   },
   {
    "duration": 6,
    "start_time": "2023-05-26T08:25:33.704Z"
   },
   {
    "duration": 8,
    "start_time": "2023-05-26T08:26:06.369Z"
   },
   {
    "duration": 7,
    "start_time": "2023-05-26T08:26:17.670Z"
   },
   {
    "duration": 15,
    "start_time": "2023-05-26T08:30:02.956Z"
   },
   {
    "duration": 4,
    "start_time": "2023-05-26T08:30:15.628Z"
   },
   {
    "duration": 378,
    "start_time": "2023-05-26T08:30:15.634Z"
   },
   {
    "duration": 11,
    "start_time": "2023-05-26T08:30:16.014Z"
   },
   {
    "duration": 21,
    "start_time": "2023-05-26T08:30:16.026Z"
   },
   {
    "duration": 16,
    "start_time": "2023-05-26T08:30:16.050Z"
   },
   {
    "duration": 13,
    "start_time": "2023-05-26T08:30:16.068Z"
   },
   {
    "duration": 7,
    "start_time": "2023-05-26T08:30:16.083Z"
   },
   {
    "duration": 14,
    "start_time": "2023-05-26T08:30:16.093Z"
   },
   {
    "duration": 11,
    "start_time": "2023-05-26T08:30:16.110Z"
   },
   {
    "duration": 41,
    "start_time": "2023-05-26T08:30:16.123Z"
   },
   {
    "duration": 20,
    "start_time": "2023-05-26T08:30:16.166Z"
   },
   {
    "duration": 9,
    "start_time": "2023-05-26T08:30:16.188Z"
   },
   {
    "duration": 12,
    "start_time": "2023-05-26T08:30:16.199Z"
   },
   {
    "duration": 18,
    "start_time": "2023-05-26T08:30:16.214Z"
   },
   {
    "duration": 32,
    "start_time": "2023-05-26T08:30:16.234Z"
   },
   {
    "duration": 10,
    "start_time": "2023-05-26T08:30:16.269Z"
   },
   {
    "duration": 25,
    "start_time": "2023-05-26T08:30:16.281Z"
   },
   {
    "duration": 6,
    "start_time": "2023-05-26T08:30:16.308Z"
   },
   {
    "duration": 29,
    "start_time": "2023-05-26T08:30:16.316Z"
   },
   {
    "duration": 12,
    "start_time": "2023-05-26T08:30:16.348Z"
   },
   {
    "duration": 18,
    "start_time": "2023-05-26T08:30:16.361Z"
   },
   {
    "duration": 5,
    "start_time": "2023-05-26T08:30:16.381Z"
   },
   {
    "duration": 7,
    "start_time": "2023-05-26T08:30:16.388Z"
   },
   {
    "duration": 3,
    "start_time": "2023-05-26T08:30:16.397Z"
   },
   {
    "duration": 193,
    "start_time": "2023-05-26T08:30:16.401Z"
   },
   {
    "duration": 10,
    "start_time": "2023-05-26T08:30:16.596Z"
   },
   {
    "duration": 16,
    "start_time": "2023-05-26T08:30:16.608Z"
   },
   {
    "duration": 7,
    "start_time": "2023-05-26T08:30:16.625Z"
   },
   {
    "duration": 32,
    "start_time": "2023-05-26T08:30:16.634Z"
   },
   {
    "duration": 215,
    "start_time": "2023-05-26T08:30:16.673Z"
   },
   {
    "duration": 149,
    "start_time": "2023-05-26T08:30:16.889Z"
   },
   {
    "duration": 158,
    "start_time": "2023-05-26T08:30:17.039Z"
   },
   {
    "duration": 6,
    "start_time": "2023-05-26T08:30:17.199Z"
   },
   {
    "duration": 238,
    "start_time": "2023-05-26T08:30:17.207Z"
   },
   {
    "duration": 150,
    "start_time": "2023-05-26T08:30:17.447Z"
   },
   {
    "duration": 21,
    "start_time": "2023-05-26T08:30:17.598Z"
   },
   {
    "duration": 14,
    "start_time": "2023-05-26T08:30:17.621Z"
   },
   {
    "duration": 37,
    "start_time": "2023-05-26T08:30:17.637Z"
   },
   {
    "duration": 160,
    "start_time": "2023-05-26T08:30:17.677Z"
   },
   {
    "duration": 32,
    "start_time": "2023-05-26T08:30:17.839Z"
   },
   {
    "duration": 19,
    "start_time": "2023-05-26T08:30:17.877Z"
   },
   {
    "duration": 29,
    "start_time": "2023-05-26T08:30:17.898Z"
   },
   {
    "duration": 5,
    "start_time": "2023-05-26T08:30:17.930Z"
   },
   {
    "duration": 31,
    "start_time": "2023-05-26T08:30:17.937Z"
   },
   {
    "duration": 11,
    "start_time": "2023-05-26T08:30:17.971Z"
   },
   {
    "duration": 23,
    "start_time": "2023-05-26T08:30:17.984Z"
   },
   {
    "duration": 17,
    "start_time": "2023-05-26T08:30:18.008Z"
   },
   {
    "duration": 41,
    "start_time": "2023-05-26T08:30:18.027Z"
   },
   {
    "duration": 8,
    "start_time": "2023-05-26T08:30:18.070Z"
   },
   {
    "duration": 3,
    "start_time": "2023-05-26T08:30:18.080Z"
   },
   {
    "duration": 10,
    "start_time": "2023-05-26T08:30:18.085Z"
   },
   {
    "duration": 2,
    "start_time": "2023-05-26T08:30:18.097Z"
   },
   {
    "duration": 11,
    "start_time": "2023-05-26T08:30:18.100Z"
   },
   {
    "duration": 2,
    "start_time": "2023-05-26T08:30:18.113Z"
   },
   {
    "duration": 23,
    "start_time": "2023-05-26T08:30:18.117Z"
   },
   {
    "duration": 3,
    "start_time": "2023-05-26T08:30:18.141Z"
   },
   {
    "duration": 177,
    "start_time": "2023-05-26T08:30:18.157Z"
   },
   {
    "duration": 201,
    "start_time": "2023-05-26T08:30:18.336Z"
   },
   {
    "duration": 29,
    "start_time": "2023-05-26T08:30:18.540Z"
   },
   {
    "duration": 15,
    "start_time": "2023-05-26T08:30:18.571Z"
   },
   {
    "duration": 17,
    "start_time": "2023-05-26T08:30:18.587Z"
   },
   {
    "duration": 13,
    "start_time": "2023-05-26T08:30:18.605Z"
   },
   {
    "duration": 940,
    "start_time": "2023-05-26T08:30:18.619Z"
   },
   {
    "duration": 15,
    "start_time": "2023-05-26T08:30:19.561Z"
   },
   {
    "duration": 15,
    "start_time": "2023-05-26T08:30:19.577Z"
   },
   {
    "duration": 23,
    "start_time": "2023-05-26T08:30:19.594Z"
   },
   {
    "duration": 324,
    "start_time": "2023-05-26T08:30:19.619Z"
   },
   {
    "duration": 0,
    "start_time": "2023-05-26T08:30:19.956Z"
   },
   {
    "duration": 0,
    "start_time": "2023-05-26T08:30:19.957Z"
   },
   {
    "duration": 0,
    "start_time": "2023-05-26T08:30:19.959Z"
   },
   {
    "duration": 0,
    "start_time": "2023-05-26T08:30:19.960Z"
   },
   {
    "duration": 0,
    "start_time": "2023-05-26T08:30:19.961Z"
   },
   {
    "duration": 0,
    "start_time": "2023-05-26T08:30:19.961Z"
   },
   {
    "duration": 0,
    "start_time": "2023-05-26T08:30:19.962Z"
   },
   {
    "duration": 0,
    "start_time": "2023-05-26T08:30:19.962Z"
   },
   {
    "duration": 0,
    "start_time": "2023-05-26T08:30:19.963Z"
   },
   {
    "duration": 20,
    "start_time": "2023-05-26T08:30:36.725Z"
   },
   {
    "duration": 18,
    "start_time": "2023-05-26T08:31:02.677Z"
   },
   {
    "duration": 26,
    "start_time": "2023-05-26T08:31:21.053Z"
   },
   {
    "duration": 7,
    "start_time": "2023-05-26T08:31:57.217Z"
   },
   {
    "duration": 24,
    "start_time": "2023-05-26T08:33:43.921Z"
   },
   {
    "duration": 24,
    "start_time": "2023-05-26T08:34:26.770Z"
   },
   {
    "duration": 17,
    "start_time": "2023-05-26T08:34:34.614Z"
   },
   {
    "duration": 7,
    "start_time": "2023-05-26T08:34:38.434Z"
   },
   {
    "duration": 303,
    "start_time": "2023-05-26T08:39:23.835Z"
   },
   {
    "duration": 15,
    "start_time": "2023-05-26T08:40:27.033Z"
   },
   {
    "duration": 11,
    "start_time": "2023-05-26T08:40:56.930Z"
   },
   {
    "duration": 10,
    "start_time": "2023-05-26T08:41:14.120Z"
   },
   {
    "duration": 10,
    "start_time": "2023-05-26T08:41:21.081Z"
   },
   {
    "duration": 130,
    "start_time": "2023-05-26T08:48:22.814Z"
   },
   {
    "duration": 1427,
    "start_time": "2023-05-26T10:03:33.274Z"
   },
   {
    "duration": 277,
    "start_time": "2023-05-26T10:03:34.703Z"
   },
   {
    "duration": 16,
    "start_time": "2023-05-26T10:03:34.983Z"
   },
   {
    "duration": 18,
    "start_time": "2023-05-26T10:03:35.001Z"
   },
   {
    "duration": 15,
    "start_time": "2023-05-26T10:03:35.023Z"
   },
   {
    "duration": 26,
    "start_time": "2023-05-26T10:03:35.040Z"
   },
   {
    "duration": 12,
    "start_time": "2023-05-26T10:03:35.069Z"
   },
   {
    "duration": 18,
    "start_time": "2023-05-26T10:03:35.083Z"
   },
   {
    "duration": 13,
    "start_time": "2023-05-26T10:03:35.103Z"
   },
   {
    "duration": 47,
    "start_time": "2023-05-26T10:03:35.118Z"
   },
   {
    "duration": 15,
    "start_time": "2023-05-26T10:03:35.167Z"
   },
   {
    "duration": 11,
    "start_time": "2023-05-26T10:03:35.184Z"
   },
   {
    "duration": 10,
    "start_time": "2023-05-26T10:03:35.196Z"
   },
   {
    "duration": 51,
    "start_time": "2023-05-26T10:03:35.209Z"
   },
   {
    "duration": 9,
    "start_time": "2023-05-26T10:03:35.262Z"
   },
   {
    "duration": 8,
    "start_time": "2023-05-26T10:03:35.273Z"
   },
   {
    "duration": 14,
    "start_time": "2023-05-26T10:03:35.283Z"
   },
   {
    "duration": 7,
    "start_time": "2023-05-26T10:03:35.300Z"
   },
   {
    "duration": 50,
    "start_time": "2023-05-26T10:03:35.309Z"
   },
   {
    "duration": 17,
    "start_time": "2023-05-26T10:03:35.362Z"
   },
   {
    "duration": 25,
    "start_time": "2023-05-26T10:03:35.382Z"
   },
   {
    "duration": 9,
    "start_time": "2023-05-26T10:03:35.410Z"
   },
   {
    "duration": 16,
    "start_time": "2023-05-26T10:03:35.421Z"
   },
   {
    "duration": 4,
    "start_time": "2023-05-26T10:03:35.456Z"
   },
   {
    "duration": 205,
    "start_time": "2023-05-26T10:03:35.462Z"
   },
   {
    "duration": 14,
    "start_time": "2023-05-26T10:03:35.669Z"
   },
   {
    "duration": 15,
    "start_time": "2023-05-26T10:03:35.685Z"
   },
   {
    "duration": 8,
    "start_time": "2023-05-26T10:03:35.702Z"
   },
   {
    "duration": 9,
    "start_time": "2023-05-26T10:03:35.712Z"
   },
   {
    "duration": 286,
    "start_time": "2023-05-26T10:03:35.722Z"
   },
   {
    "duration": 173,
    "start_time": "2023-05-26T10:03:36.011Z"
   },
   {
    "duration": 209,
    "start_time": "2023-05-26T10:03:36.186Z"
   },
   {
    "duration": 7,
    "start_time": "2023-05-26T10:03:36.397Z"
   },
   {
    "duration": 237,
    "start_time": "2023-05-26T10:03:36.406Z"
   },
   {
    "duration": 177,
    "start_time": "2023-05-26T10:03:36.645Z"
   },
   {
    "duration": 51,
    "start_time": "2023-05-26T10:03:36.824Z"
   },
   {
    "duration": 31,
    "start_time": "2023-05-26T10:03:36.877Z"
   },
   {
    "duration": 20,
    "start_time": "2023-05-26T10:03:36.910Z"
   },
   {
    "duration": 195,
    "start_time": "2023-05-26T10:03:36.931Z"
   },
   {
    "duration": 16,
    "start_time": "2023-05-26T10:03:37.128Z"
   },
   {
    "duration": 31,
    "start_time": "2023-05-26T10:03:37.160Z"
   },
   {
    "duration": 31,
    "start_time": "2023-05-26T10:03:37.194Z"
   },
   {
    "duration": 30,
    "start_time": "2023-05-26T10:03:37.228Z"
   },
   {
    "duration": 6,
    "start_time": "2023-05-26T10:03:37.261Z"
   },
   {
    "duration": 19,
    "start_time": "2023-05-26T10:03:37.270Z"
   },
   {
    "duration": 37,
    "start_time": "2023-05-26T10:03:37.293Z"
   },
   {
    "duration": 44,
    "start_time": "2023-05-26T10:03:37.332Z"
   },
   {
    "duration": 38,
    "start_time": "2023-05-26T10:03:37.378Z"
   },
   {
    "duration": 39,
    "start_time": "2023-05-26T10:03:37.419Z"
   },
   {
    "duration": 11,
    "start_time": "2023-05-26T10:03:37.460Z"
   },
   {
    "duration": 12,
    "start_time": "2023-05-26T10:03:37.473Z"
   },
   {
    "duration": 9,
    "start_time": "2023-05-26T10:03:37.488Z"
   },
   {
    "duration": 214,
    "start_time": "2023-05-26T10:03:37.499Z"
   },
   {
    "duration": 219,
    "start_time": "2023-05-26T10:03:37.715Z"
   },
   {
    "duration": 23,
    "start_time": "2023-05-26T10:03:37.936Z"
   },
   {
    "duration": 21,
    "start_time": "2023-05-26T10:03:37.961Z"
   },
   {
    "duration": 31,
    "start_time": "2023-05-26T10:03:37.985Z"
   },
   {
    "duration": 17,
    "start_time": "2023-05-26T10:03:38.019Z"
   },
   {
    "duration": 1033,
    "start_time": "2023-05-26T10:03:38.038Z"
   },
   {
    "duration": 19,
    "start_time": "2023-05-26T10:03:39.074Z"
   },
   {
    "duration": 39,
    "start_time": "2023-05-26T10:03:39.095Z"
   },
   {
    "duration": 39,
    "start_time": "2023-05-26T10:03:39.136Z"
   },
   {
    "duration": 23,
    "start_time": "2023-05-26T10:03:39.178Z"
   },
   {
    "duration": 13,
    "start_time": "2023-05-26T10:03:39.203Z"
   },
   {
    "duration": 38,
    "start_time": "2023-05-26T10:03:39.218Z"
   },
   {
    "duration": 9,
    "start_time": "2023-05-26T10:03:39.259Z"
   },
   {
    "duration": 17,
    "start_time": "2023-05-26T10:03:39.270Z"
   },
   {
    "duration": 21,
    "start_time": "2023-05-26T10:03:39.290Z"
   },
   {
    "duration": 12,
    "start_time": "2023-05-26T10:03:39.314Z"
   },
   {
    "duration": 8,
    "start_time": "2023-05-26T10:03:39.328Z"
   },
   {
    "duration": 442,
    "start_time": "2023-05-26T10:03:39.339Z"
   },
   {
    "duration": 175,
    "start_time": "2023-05-26T10:03:39.783Z"
   },
   {
    "duration": 0,
    "start_time": "2023-05-26T10:03:39.961Z"
   },
   {
    "duration": 0,
    "start_time": "2023-05-26T10:03:39.963Z"
   },
   {
    "duration": 171,
    "start_time": "2023-05-26T10:06:52.116Z"
   },
   {
    "duration": 169,
    "start_time": "2023-05-26T10:07:36.590Z"
   },
   {
    "duration": 213,
    "start_time": "2023-05-26T10:10:01.160Z"
   },
   {
    "duration": 204,
    "start_time": "2023-05-26T10:10:05.758Z"
   },
   {
    "duration": 153,
    "start_time": "2023-05-26T10:10:09.679Z"
   },
   {
    "duration": 1405,
    "start_time": "2023-05-26T10:15:15.442Z"
   },
   {
    "duration": 146,
    "start_time": "2023-05-26T10:15:16.849Z"
   },
   {
    "duration": 20,
    "start_time": "2023-05-26T10:15:16.998Z"
   },
   {
    "duration": 15,
    "start_time": "2023-05-26T10:15:17.021Z"
   },
   {
    "duration": 22,
    "start_time": "2023-05-26T10:15:17.038Z"
   },
   {
    "duration": 15,
    "start_time": "2023-05-26T10:15:17.063Z"
   },
   {
    "duration": 11,
    "start_time": "2023-05-26T10:15:17.080Z"
   },
   {
    "duration": 17,
    "start_time": "2023-05-26T10:15:17.094Z"
   },
   {
    "duration": 44,
    "start_time": "2023-05-26T10:15:17.113Z"
   },
   {
    "duration": 22,
    "start_time": "2023-05-26T10:15:17.162Z"
   },
   {
    "duration": 20,
    "start_time": "2023-05-26T10:15:17.186Z"
   },
   {
    "duration": 54,
    "start_time": "2023-05-26T10:15:17.209Z"
   },
   {
    "duration": 12,
    "start_time": "2023-05-26T10:15:17.270Z"
   },
   {
    "duration": 15,
    "start_time": "2023-05-26T10:15:17.286Z"
   },
   {
    "duration": 15,
    "start_time": "2023-05-26T10:15:17.304Z"
   },
   {
    "duration": 37,
    "start_time": "2023-05-26T10:15:17.322Z"
   },
   {
    "duration": 21,
    "start_time": "2023-05-26T10:15:17.365Z"
   },
   {
    "duration": 9,
    "start_time": "2023-05-26T10:15:17.389Z"
   },
   {
    "duration": 19,
    "start_time": "2023-05-26T10:15:17.400Z"
   },
   {
    "duration": 45,
    "start_time": "2023-05-26T10:15:17.422Z"
   },
   {
    "duration": 14,
    "start_time": "2023-05-26T10:15:17.470Z"
   },
   {
    "duration": 8,
    "start_time": "2023-05-26T10:15:17.487Z"
   },
   {
    "duration": 9,
    "start_time": "2023-05-26T10:15:17.498Z"
   },
   {
    "duration": 15,
    "start_time": "2023-05-26T10:15:17.511Z"
   },
   {
    "duration": 329,
    "start_time": "2023-05-26T10:15:17.529Z"
   },
   {
    "duration": 23,
    "start_time": "2023-05-26T10:15:17.861Z"
   },
   {
    "duration": 23,
    "start_time": "2023-05-26T10:15:17.887Z"
   },
   {
    "duration": 15,
    "start_time": "2023-05-26T10:15:17.916Z"
   },
   {
    "duration": 38,
    "start_time": "2023-05-26T10:15:17.933Z"
   },
   {
    "duration": 210,
    "start_time": "2023-05-26T10:15:17.974Z"
   },
   {
    "duration": 182,
    "start_time": "2023-05-26T10:15:18.186Z"
   },
   {
    "duration": 189,
    "start_time": "2023-05-26T10:15:18.370Z"
   },
   {
    "duration": 7,
    "start_time": "2023-05-26T10:15:18.562Z"
   },
   {
    "duration": 316,
    "start_time": "2023-05-26T10:15:18.574Z"
   },
   {
    "duration": 219,
    "start_time": "2023-05-26T10:15:18.893Z"
   },
   {
    "duration": 43,
    "start_time": "2023-05-26T10:15:19.116Z"
   },
   {
    "duration": 24,
    "start_time": "2023-05-26T10:15:19.162Z"
   },
   {
    "duration": 28,
    "start_time": "2023-05-26T10:15:19.188Z"
   },
   {
    "duration": 214,
    "start_time": "2023-05-26T10:15:19.217Z"
   },
   {
    "duration": 29,
    "start_time": "2023-05-26T10:15:19.434Z"
   },
   {
    "duration": 36,
    "start_time": "2023-05-26T10:15:19.466Z"
   },
   {
    "duration": 53,
    "start_time": "2023-05-26T10:15:19.504Z"
   },
   {
    "duration": 7,
    "start_time": "2023-05-26T10:15:19.559Z"
   },
   {
    "duration": 7,
    "start_time": "2023-05-26T10:15:19.568Z"
   },
   {
    "duration": 24,
    "start_time": "2023-05-26T10:15:19.577Z"
   },
   {
    "duration": 64,
    "start_time": "2023-05-26T10:15:19.603Z"
   },
   {
    "duration": 26,
    "start_time": "2023-05-26T10:15:19.669Z"
   },
   {
    "duration": 50,
    "start_time": "2023-05-26T10:15:19.698Z"
   },
   {
    "duration": 15,
    "start_time": "2023-05-26T10:15:19.757Z"
   },
   {
    "duration": 14,
    "start_time": "2023-05-26T10:15:19.774Z"
   },
   {
    "duration": 15,
    "start_time": "2023-05-26T10:15:19.791Z"
   },
   {
    "duration": 21,
    "start_time": "2023-05-26T10:15:19.807Z"
   },
   {
    "duration": 244,
    "start_time": "2023-05-26T10:15:19.856Z"
   },
   {
    "duration": 259,
    "start_time": "2023-05-26T10:15:20.103Z"
   },
   {
    "duration": 16,
    "start_time": "2023-05-26T10:15:20.364Z"
   },
   {
    "duration": 16,
    "start_time": "2023-05-26T10:15:20.382Z"
   },
   {
    "duration": 15,
    "start_time": "2023-05-26T10:15:20.400Z"
   },
   {
    "duration": 52,
    "start_time": "2023-05-26T10:15:20.417Z"
   },
   {
    "duration": 1270,
    "start_time": "2023-05-26T10:15:20.471Z"
   },
   {
    "duration": 19,
    "start_time": "2023-05-26T10:15:21.743Z"
   },
   {
    "duration": 19,
    "start_time": "2023-05-26T10:15:21.764Z"
   },
   {
    "duration": 21,
    "start_time": "2023-05-26T10:15:21.785Z"
   },
   {
    "duration": 56,
    "start_time": "2023-05-26T10:15:21.808Z"
   },
   {
    "duration": 12,
    "start_time": "2023-05-26T10:15:21.865Z"
   },
   {
    "duration": 15,
    "start_time": "2023-05-26T10:15:21.879Z"
   },
   {
    "duration": 19,
    "start_time": "2023-05-26T10:15:21.896Z"
   },
   {
    "duration": 15,
    "start_time": "2023-05-26T10:15:21.917Z"
   },
   {
    "duration": 28,
    "start_time": "2023-05-26T10:15:21.935Z"
   },
   {
    "duration": 17,
    "start_time": "2023-05-26T10:15:21.965Z"
   },
   {
    "duration": 17,
    "start_time": "2023-05-26T10:15:21.984Z"
   },
   {
    "duration": 385,
    "start_time": "2023-05-26T10:15:22.003Z"
   },
   {
    "duration": 126,
    "start_time": "2023-05-26T10:15:22.390Z"
   },
   {
    "duration": 0,
    "start_time": "2023-05-26T10:15:22.519Z"
   },
   {
    "duration": 0,
    "start_time": "2023-05-26T10:15:22.520Z"
   },
   {
    "duration": 1267,
    "start_time": "2023-05-26T12:12:32.617Z"
   },
   {
    "duration": 122,
    "start_time": "2023-05-26T12:12:33.886Z"
   },
   {
    "duration": 16,
    "start_time": "2023-05-26T12:12:34.010Z"
   },
   {
    "duration": 16,
    "start_time": "2023-05-26T12:12:34.028Z"
   },
   {
    "duration": 19,
    "start_time": "2023-05-26T12:12:34.046Z"
   },
   {
    "duration": 13,
    "start_time": "2023-05-26T12:12:34.066Z"
   },
   {
    "duration": 13,
    "start_time": "2023-05-26T12:12:34.080Z"
   },
   {
    "duration": 34,
    "start_time": "2023-05-26T12:12:34.096Z"
   },
   {
    "duration": 17,
    "start_time": "2023-05-26T12:12:34.132Z"
   },
   {
    "duration": 44,
    "start_time": "2023-05-26T12:12:34.153Z"
   },
   {
    "duration": 14,
    "start_time": "2023-05-26T12:12:34.199Z"
   },
   {
    "duration": 8,
    "start_time": "2023-05-26T12:12:34.215Z"
   },
   {
    "duration": 7,
    "start_time": "2023-05-26T12:12:34.224Z"
   },
   {
    "duration": 10,
    "start_time": "2023-05-26T12:12:34.232Z"
   },
   {
    "duration": 10,
    "start_time": "2023-05-26T12:12:34.244Z"
   },
   {
    "duration": 9,
    "start_time": "2023-05-26T12:12:34.255Z"
   },
   {
    "duration": 15,
    "start_time": "2023-05-26T12:12:34.266Z"
   },
   {
    "duration": 7,
    "start_time": "2023-05-26T12:12:34.283Z"
   },
   {
    "duration": 18,
    "start_time": "2023-05-26T12:12:34.291Z"
   },
   {
    "duration": 12,
    "start_time": "2023-05-26T12:12:34.311Z"
   },
   {
    "duration": 11,
    "start_time": "2023-05-26T12:12:34.341Z"
   },
   {
    "duration": 5,
    "start_time": "2023-05-26T12:12:34.355Z"
   },
   {
    "duration": 9,
    "start_time": "2023-05-26T12:12:34.361Z"
   },
   {
    "duration": 9,
    "start_time": "2023-05-26T12:12:34.371Z"
   },
   {
    "duration": 194,
    "start_time": "2023-05-26T12:12:34.382Z"
   },
   {
    "duration": 12,
    "start_time": "2023-05-26T12:12:34.578Z"
   },
   {
    "duration": 14,
    "start_time": "2023-05-26T12:12:34.591Z"
   },
   {
    "duration": 11,
    "start_time": "2023-05-26T12:12:34.609Z"
   },
   {
    "duration": 23,
    "start_time": "2023-05-26T12:12:34.622Z"
   },
   {
    "duration": 210,
    "start_time": "2023-05-26T12:12:34.647Z"
   },
   {
    "duration": 159,
    "start_time": "2023-05-26T12:12:34.860Z"
   },
   {
    "duration": 166,
    "start_time": "2023-05-26T12:12:35.020Z"
   },
   {
    "duration": 5,
    "start_time": "2023-05-26T12:12:35.189Z"
   },
   {
    "duration": 208,
    "start_time": "2023-05-26T12:12:35.195Z"
   },
   {
    "duration": 150,
    "start_time": "2023-05-26T12:12:35.405Z"
   },
   {
    "duration": 25,
    "start_time": "2023-05-26T12:12:35.556Z"
   },
   {
    "duration": 28,
    "start_time": "2023-05-26T12:12:35.583Z"
   },
   {
    "duration": 14,
    "start_time": "2023-05-26T12:12:35.613Z"
   },
   {
    "duration": 141,
    "start_time": "2023-05-26T12:12:35.643Z"
   },
   {
    "duration": 14,
    "start_time": "2023-05-26T12:12:35.786Z"
   },
   {
    "duration": 29,
    "start_time": "2023-05-26T12:12:35.802Z"
   },
   {
    "duration": 22,
    "start_time": "2023-05-26T12:12:35.841Z"
   },
   {
    "duration": 4,
    "start_time": "2023-05-26T12:12:35.864Z"
   },
   {
    "duration": 13,
    "start_time": "2023-05-26T12:12:35.870Z"
   },
   {
    "duration": 19,
    "start_time": "2023-05-26T12:12:35.885Z"
   },
   {
    "duration": 40,
    "start_time": "2023-05-26T12:12:35.906Z"
   },
   {
    "duration": 17,
    "start_time": "2023-05-26T12:12:35.948Z"
   },
   {
    "duration": 28,
    "start_time": "2023-05-26T12:12:35.966Z"
   },
   {
    "duration": 12,
    "start_time": "2023-05-26T12:12:35.995Z"
   },
   {
    "duration": 8,
    "start_time": "2023-05-26T12:12:36.008Z"
   },
   {
    "duration": 9,
    "start_time": "2023-05-26T12:12:36.042Z"
   },
   {
    "duration": 19,
    "start_time": "2023-05-26T12:12:36.053Z"
   },
   {
    "duration": 174,
    "start_time": "2023-05-26T12:12:36.074Z"
   },
   {
    "duration": 197,
    "start_time": "2023-05-26T12:12:36.250Z"
   },
   {
    "duration": 13,
    "start_time": "2023-05-26T12:12:36.449Z"
   },
   {
    "duration": 17,
    "start_time": "2023-05-26T12:12:36.464Z"
   },
   {
    "duration": 17,
    "start_time": "2023-05-26T12:12:36.483Z"
   },
   {
    "duration": 16,
    "start_time": "2023-05-26T12:12:36.502Z"
   },
   {
    "duration": 872,
    "start_time": "2023-05-26T12:12:36.520Z"
   },
   {
    "duration": 12,
    "start_time": "2023-05-26T12:12:37.394Z"
   },
   {
    "duration": 26,
    "start_time": "2023-05-26T12:12:37.408Z"
   },
   {
    "duration": 19,
    "start_time": "2023-05-26T12:12:37.435Z"
   },
   {
    "duration": 23,
    "start_time": "2023-05-26T12:12:37.456Z"
   },
   {
    "duration": 6,
    "start_time": "2023-05-26T12:12:37.481Z"
   },
   {
    "duration": 13,
    "start_time": "2023-05-26T12:12:37.488Z"
   },
   {
    "duration": 10,
    "start_time": "2023-05-26T12:12:37.503Z"
   },
   {
    "duration": 33,
    "start_time": "2023-05-26T12:12:37.514Z"
   },
   {
    "duration": 7,
    "start_time": "2023-05-26T12:12:37.548Z"
   },
   {
    "duration": 10,
    "start_time": "2023-05-26T12:12:37.557Z"
   },
   {
    "duration": 10,
    "start_time": "2023-05-26T12:12:37.569Z"
   },
   {
    "duration": 355,
    "start_time": "2023-05-26T12:12:37.581Z"
   },
   {
    "duration": 115,
    "start_time": "2023-05-26T12:12:37.938Z"
   },
   {
    "duration": 0,
    "start_time": "2023-05-26T12:12:38.055Z"
   },
   {
    "duration": 0,
    "start_time": "2023-05-26T12:12:38.056Z"
   },
   {
    "duration": 7,
    "start_time": "2023-05-26T12:16:41.157Z"
   },
   {
    "duration": 4,
    "start_time": "2023-05-26T12:17:04.595Z"
   },
   {
    "duration": 13,
    "start_time": "2023-05-26T12:17:06.803Z"
   },
   {
    "duration": 7,
    "start_time": "2023-05-26T12:17:15.576Z"
   },
   {
    "duration": 62,
    "start_time": "2023-06-01T09:50:36.040Z"
   },
   {
    "duration": 1070,
    "start_time": "2023-06-01T09:50:41.548Z"
   },
   {
    "duration": 513,
    "start_time": "2023-06-01T09:50:42.620Z"
   },
   {
    "duration": 13,
    "start_time": "2023-06-01T09:50:43.138Z"
   },
   {
    "duration": 12,
    "start_time": "2023-06-01T09:50:43.152Z"
   },
   {
    "duration": 15,
    "start_time": "2023-06-01T09:50:43.167Z"
   },
   {
    "duration": 13,
    "start_time": "2023-06-01T09:50:43.184Z"
   },
   {
    "duration": 13,
    "start_time": "2023-06-01T09:50:43.199Z"
   },
   {
    "duration": 18,
    "start_time": "2023-06-01T09:50:43.213Z"
   },
   {
    "duration": 9,
    "start_time": "2023-06-01T09:50:43.237Z"
   },
   {
    "duration": 11,
    "start_time": "2023-06-01T09:50:43.248Z"
   },
   {
    "duration": 24,
    "start_time": "2023-06-01T09:50:43.260Z"
   },
   {
    "duration": 18,
    "start_time": "2023-06-01T09:50:43.285Z"
   },
   {
    "duration": 13,
    "start_time": "2023-06-01T09:50:43.304Z"
   },
   {
    "duration": 15,
    "start_time": "2023-06-01T09:50:43.326Z"
   },
   {
    "duration": 8,
    "start_time": "2023-06-01T09:50:43.342Z"
   },
   {
    "duration": 8,
    "start_time": "2023-06-01T09:50:43.352Z"
   },
   {
    "duration": 13,
    "start_time": "2023-06-01T09:50:43.361Z"
   },
   {
    "duration": 4,
    "start_time": "2023-06-01T09:50:43.376Z"
   },
   {
    "duration": 6,
    "start_time": "2023-06-01T09:50:43.381Z"
   },
   {
    "duration": 47,
    "start_time": "2023-06-01T09:50:43.388Z"
   },
   {
    "duration": 13,
    "start_time": "2023-06-01T09:50:43.437Z"
   },
   {
    "duration": 11,
    "start_time": "2023-06-01T09:50:43.452Z"
   },
   {
    "duration": 6,
    "start_time": "2023-06-01T09:50:43.465Z"
   },
   {
    "duration": 3,
    "start_time": "2023-06-01T09:50:43.473Z"
   },
   {
    "duration": 189,
    "start_time": "2023-06-01T09:50:43.478Z"
   },
   {
    "duration": 11,
    "start_time": "2023-06-01T09:50:43.669Z"
   },
   {
    "duration": 14,
    "start_time": "2023-06-01T09:50:43.682Z"
   },
   {
    "duration": 26,
    "start_time": "2023-06-01T09:50:43.713Z"
   },
   {
    "duration": 14,
    "start_time": "2023-06-01T09:50:43.749Z"
   },
   {
    "duration": 254,
    "start_time": "2023-06-01T09:50:43.765Z"
   },
   {
    "duration": 152,
    "start_time": "2023-06-01T09:50:44.021Z"
   },
   {
    "duration": 152,
    "start_time": "2023-06-01T09:50:44.175Z"
   },
   {
    "duration": 20,
    "start_time": "2023-06-01T09:50:44.330Z"
   },
   {
    "duration": 188,
    "start_time": "2023-06-01T09:50:44.351Z"
   },
   {
    "duration": 142,
    "start_time": "2023-06-01T09:50:44.541Z"
   },
   {
    "duration": 43,
    "start_time": "2023-06-01T09:50:44.685Z"
   },
   {
    "duration": 21,
    "start_time": "2023-06-01T09:50:44.733Z"
   },
   {
    "duration": 12,
    "start_time": "2023-06-01T09:50:44.756Z"
   },
   {
    "duration": 161,
    "start_time": "2023-06-01T09:50:44.770Z"
   },
   {
    "duration": 14,
    "start_time": "2023-06-01T09:50:44.933Z"
   },
   {
    "duration": 25,
    "start_time": "2023-06-01T09:50:44.952Z"
   },
   {
    "duration": 18,
    "start_time": "2023-06-01T09:50:44.978Z"
   },
   {
    "duration": 17,
    "start_time": "2023-06-01T09:50:44.998Z"
   },
   {
    "duration": 34,
    "start_time": "2023-06-01T09:50:45.017Z"
   },
   {
    "duration": 31,
    "start_time": "2023-06-01T09:50:45.053Z"
   },
   {
    "duration": 67,
    "start_time": "2023-06-01T09:50:45.086Z"
   },
   {
    "duration": 20,
    "start_time": "2023-06-01T09:50:45.154Z"
   },
   {
    "duration": 23,
    "start_time": "2023-06-01T09:50:45.175Z"
   },
   {
    "duration": 14,
    "start_time": "2023-06-01T09:50:45.200Z"
   },
   {
    "duration": 23,
    "start_time": "2023-06-01T09:50:45.215Z"
   },
   {
    "duration": 19,
    "start_time": "2023-06-01T09:50:45.242Z"
   },
   {
    "duration": 13,
    "start_time": "2023-06-01T09:50:45.265Z"
   },
   {
    "duration": 159,
    "start_time": "2023-06-01T09:50:45.280Z"
   },
   {
    "duration": 153,
    "start_time": "2023-06-01T09:50:45.443Z"
   },
   {
    "duration": 25,
    "start_time": "2023-06-01T09:50:45.598Z"
   },
   {
    "duration": 29,
    "start_time": "2023-06-01T09:50:45.624Z"
   },
   {
    "duration": 19,
    "start_time": "2023-06-01T09:50:45.654Z"
   },
   {
    "duration": 14,
    "start_time": "2023-06-01T09:50:45.675Z"
   },
   {
    "duration": 843,
    "start_time": "2023-06-01T09:50:45.690Z"
   },
   {
    "duration": 14,
    "start_time": "2023-06-01T09:50:46.534Z"
   },
   {
    "duration": 21,
    "start_time": "2023-06-01T09:50:46.549Z"
   },
   {
    "duration": 23,
    "start_time": "2023-06-01T09:50:46.572Z"
   },
   {
    "duration": 33,
    "start_time": "2023-06-01T09:50:46.597Z"
   },
   {
    "duration": 10,
    "start_time": "2023-06-01T09:50:46.632Z"
   },
   {
    "duration": 19,
    "start_time": "2023-06-01T09:50:46.644Z"
   },
   {
    "duration": 7,
    "start_time": "2023-06-01T09:50:46.667Z"
   },
   {
    "duration": 15,
    "start_time": "2023-06-01T09:50:46.676Z"
   },
   {
    "duration": 30,
    "start_time": "2023-06-01T09:50:46.694Z"
   },
   {
    "duration": 5,
    "start_time": "2023-06-01T09:50:46.726Z"
   },
   {
    "duration": 11,
    "start_time": "2023-06-01T09:50:46.734Z"
   },
   {
    "duration": 9,
    "start_time": "2023-06-01T09:50:46.747Z"
   },
   {
    "duration": 325,
    "start_time": "2023-06-01T09:50:46.757Z"
   },
   {
    "duration": 81,
    "start_time": "2023-06-01T09:50:47.084Z"
   },
   {
    "duration": 0,
    "start_time": "2023-06-01T09:50:47.167Z"
   },
   {
    "duration": 0,
    "start_time": "2023-06-01T09:50:47.168Z"
   }
  ],
  "kernelspec": {
   "display_name": "Python 3 (ipykernel)",
   "language": "python",
   "name": "python3"
  },
  "language_info": {
   "codemirror_mode": {
    "name": "ipython",
    "version": 3
   },
   "file_extension": ".py",
   "mimetype": "text/x-python",
   "name": "python",
   "nbconvert_exporter": "python",
   "pygments_lexer": "ipython3",
   "version": "3.11.5"
  },
  "toc": {
   "base_numbering": 1,
   "nav_menu": {
    "height": "37px",
    "width": "313px"
   },
   "number_sections": true,
   "sideBar": true,
   "skip_h1_title": true,
   "title_cell": "Содержание",
   "title_sidebar": "Contents",
   "toc_cell": true,
   "toc_position": {
    "height": "calc(100% - 180px)",
    "left": "10px",
    "top": "150px",
    "width": "165px"
   },
   "toc_section_display": true,
   "toc_window_display": true
  }
 },
 "nbformat": 4,
 "nbformat_minor": 5
}
