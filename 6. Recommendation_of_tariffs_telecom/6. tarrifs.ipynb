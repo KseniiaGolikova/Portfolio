{
 "cells": [
  {
   "cell_type": "markdown",
   "metadata": {},
   "source": [
    "# Рекомендация тарифов"
   ]
  },
  {
   "cell_type": "markdown",
   "metadata": {},
   "source": [
    "В нашем распоряжении данные о поведении клиентов, которые уже перешли на эти тарифы . Нужно построить модель для задачи классификации, которая выберет подходящий тариф. Предобработку данных здесь делать не нужно.\n",
    "\n",
    "Необходимо построить модель с максимально большим значением *accuracy*. Минимально допустимое значение *accuracy* 0.75. Проверьте *accuracy* на тестовой выборке самостоятельно."
   ]
  },
  {
   "cell_type": "markdown",
   "metadata": {},
   "source": [
    "Оператор мобильной связи «Мегалайн» выяснил: многие клиенты пользуются архивными тарифами. Они хотят построить систему, способную проанализировать поведение клиентов и предложить пользователям новый тариф: «Смарт» или «Ультра».\n",
    "Нужно подобрать модель для задачи классификации, которая порекомендует пользователю один из предложенных тарифов. Исходные данные - описание поведения пользователей."
   ]
  },
  {
   "cell_type": "markdown",
   "metadata": {},
   "source": [
    "# Описание данных\n",
    "\n",
    "Каждый объект в наборе данных — это информация о поведении одного пользователя за месяц. Известно:\n",
    "- `сalls` — количество звонков,\n",
    "- `minutes` — суммарная длительность звонков в минутах,\n",
    "- `messages` — количество sms-сообщений,\n",
    "- `mb_used` — израсходованный интернет-трафик в Мб,\n",
    "- `is_ultra` — каким тарифом пользовался в течение месяца («Ультра» — 1, «Смарт» — 0).\n"
   ]
  },
  {
   "cell_type": "markdown",
   "metadata": {},
   "source": [
    "## Откройте и изучите файл"
   ]
  },
  {
   "cell_type": "code",
   "execution_count": 1,
   "metadata": {},
   "outputs": [],
   "source": [
    "import pandas as pd\n",
    "from sklearn.model_selection import train_test_split\n",
    "from sklearn.linear_model import LogisticRegression\n",
    "from sklearn.ensemble import RandomForestClassifier\n",
    "from sklearn.tree import DecisionTreeClassifier\n",
    "from sklearn.dummy import DummyClassifier\n",
    "from sklearn.metrics import accuracy_score"
   ]
  },
  {
   "cell_type": "code",
   "execution_count": 2,
   "metadata": {},
   "outputs": [],
   "source": [
    "df = pd.read_csv('C:/Users/hk/Desktop/практика/датасеты/users_behavior.csv')"
   ]
  },
  {
   "cell_type": "code",
   "execution_count": 3,
   "metadata": {},
   "outputs": [
    {
     "data": {
      "text/html": [
       "<div>\n",
       "<style scoped>\n",
       "    .dataframe tbody tr th:only-of-type {\n",
       "        vertical-align: middle;\n",
       "    }\n",
       "\n",
       "    .dataframe tbody tr th {\n",
       "        vertical-align: top;\n",
       "    }\n",
       "\n",
       "    .dataframe thead th {\n",
       "        text-align: right;\n",
       "    }\n",
       "</style>\n",
       "<table border=\"1\" class=\"dataframe\">\n",
       "  <thead>\n",
       "    <tr style=\"text-align: right;\">\n",
       "      <th></th>\n",
       "      <th>calls</th>\n",
       "      <th>minutes</th>\n",
       "      <th>messages</th>\n",
       "      <th>mb_used</th>\n",
       "      <th>is_ultra</th>\n",
       "    </tr>\n",
       "  </thead>\n",
       "  <tbody>\n",
       "    <tr>\n",
       "      <th>0</th>\n",
       "      <td>40.0</td>\n",
       "      <td>311.90</td>\n",
       "      <td>83.0</td>\n",
       "      <td>19915.42</td>\n",
       "      <td>0</td>\n",
       "    </tr>\n",
       "    <tr>\n",
       "      <th>1</th>\n",
       "      <td>85.0</td>\n",
       "      <td>516.75</td>\n",
       "      <td>56.0</td>\n",
       "      <td>22696.96</td>\n",
       "      <td>0</td>\n",
       "    </tr>\n",
       "    <tr>\n",
       "      <th>2</th>\n",
       "      <td>77.0</td>\n",
       "      <td>467.66</td>\n",
       "      <td>86.0</td>\n",
       "      <td>21060.45</td>\n",
       "      <td>0</td>\n",
       "    </tr>\n",
       "    <tr>\n",
       "      <th>3</th>\n",
       "      <td>106.0</td>\n",
       "      <td>745.53</td>\n",
       "      <td>81.0</td>\n",
       "      <td>8437.39</td>\n",
       "      <td>1</td>\n",
       "    </tr>\n",
       "    <tr>\n",
       "      <th>4</th>\n",
       "      <td>66.0</td>\n",
       "      <td>418.74</td>\n",
       "      <td>1.0</td>\n",
       "      <td>14502.75</td>\n",
       "      <td>0</td>\n",
       "    </tr>\n",
       "    <tr>\n",
       "      <th>5</th>\n",
       "      <td>58.0</td>\n",
       "      <td>344.56</td>\n",
       "      <td>21.0</td>\n",
       "      <td>15823.37</td>\n",
       "      <td>0</td>\n",
       "    </tr>\n",
       "    <tr>\n",
       "      <th>6</th>\n",
       "      <td>57.0</td>\n",
       "      <td>431.64</td>\n",
       "      <td>20.0</td>\n",
       "      <td>3738.90</td>\n",
       "      <td>1</td>\n",
       "    </tr>\n",
       "    <tr>\n",
       "      <th>7</th>\n",
       "      <td>15.0</td>\n",
       "      <td>132.40</td>\n",
       "      <td>6.0</td>\n",
       "      <td>21911.60</td>\n",
       "      <td>0</td>\n",
       "    </tr>\n",
       "    <tr>\n",
       "      <th>8</th>\n",
       "      <td>7.0</td>\n",
       "      <td>43.39</td>\n",
       "      <td>3.0</td>\n",
       "      <td>2538.67</td>\n",
       "      <td>1</td>\n",
       "    </tr>\n",
       "    <tr>\n",
       "      <th>9</th>\n",
       "      <td>90.0</td>\n",
       "      <td>665.41</td>\n",
       "      <td>38.0</td>\n",
       "      <td>17358.61</td>\n",
       "      <td>0</td>\n",
       "    </tr>\n",
       "  </tbody>\n",
       "</table>\n",
       "</div>"
      ],
      "text/plain": [
       "   calls  minutes  messages   mb_used  is_ultra\n",
       "0   40.0   311.90      83.0  19915.42         0\n",
       "1   85.0   516.75      56.0  22696.96         0\n",
       "2   77.0   467.66      86.0  21060.45         0\n",
       "3  106.0   745.53      81.0   8437.39         1\n",
       "4   66.0   418.74       1.0  14502.75         0\n",
       "5   58.0   344.56      21.0  15823.37         0\n",
       "6   57.0   431.64      20.0   3738.90         1\n",
       "7   15.0   132.40       6.0  21911.60         0\n",
       "8    7.0    43.39       3.0   2538.67         1\n",
       "9   90.0   665.41      38.0  17358.61         0"
      ]
     },
     "execution_count": 3,
     "metadata": {},
     "output_type": "execute_result"
    }
   ],
   "source": [
    "df.head(10)"
   ]
  },
  {
   "cell_type": "markdown",
   "metadata": {},
   "source": [
    "**Описание данных**\n",
    "Каждый объект в наборе данных — это информация о поведении одного пользователя за месяц. Известно:\n",
    "- `calls` - количество звонков;\n",
    "- `minutes` - суммарная длительность звонков в минутах;\n",
    "- `messages` - количество sms-сообщений;\n",
    "- `mb_used` - израсходованный интернет-трафик в Мб;\n",
    "- `is_ultra` - каким тарифом пользовался в течение месяца («Ультра» — 1, «Смарт» — 0)"
   ]
  },
  {
   "cell_type": "code",
   "execution_count": 4,
   "metadata": {},
   "outputs": [
    {
     "name": "stdout",
     "output_type": "stream",
     "text": [
      "<class 'pandas.core.frame.DataFrame'>\n",
      "RangeIndex: 3214 entries, 0 to 3213\n",
      "Data columns (total 5 columns):\n",
      " #   Column    Non-Null Count  Dtype  \n",
      "---  ------    --------------  -----  \n",
      " 0   calls     3214 non-null   float64\n",
      " 1   minutes   3214 non-null   float64\n",
      " 2   messages  3214 non-null   float64\n",
      " 3   mb_used   3214 non-null   float64\n",
      " 4   is_ultra  3214 non-null   int64  \n",
      "dtypes: float64(4), int64(1)\n",
      "memory usage: 125.7 KB\n"
     ]
    }
   ],
   "source": [
    "df.info()"
   ]
  },
  {
   "cell_type": "code",
   "execution_count": 5,
   "metadata": {},
   "outputs": [
    {
     "data": {
      "text/plain": [
       "is_ultra\n",
       "0    2229\n",
       "1     985\n",
       "Name: count, dtype: int64"
      ]
     },
     "execution_count": 5,
     "metadata": {},
     "output_type": "execute_result"
    }
   ],
   "source": [
    "df['is_ultra'].value_counts()"
   ]
  },
  {
   "cell_type": "markdown",
   "metadata": {},
   "source": [
    "Приведем тип данных в колонках `calls` и `messages` к int и проверим данные на явные дубликаты"
   ]
  },
  {
   "cell_type": "code",
   "execution_count": 6,
   "metadata": {},
   "outputs": [],
   "source": [
    "for column in df[['calls','messages']]:\n",
    "    df[column] = df[column].astype('int')"
   ]
  },
  {
   "cell_type": "code",
   "execution_count": 7,
   "metadata": {},
   "outputs": [
    {
     "data": {
      "text/plain": [
       "0"
      ]
     },
     "execution_count": 7,
     "metadata": {},
     "output_type": "execute_result"
    }
   ],
   "source": [
    "df.duplicated().sum()"
   ]
  },
  {
   "cell_type": "code",
   "execution_count": 8,
   "metadata": {},
   "outputs": [
    {
     "data": {
      "text/html": [
       "<div>\n",
       "<style scoped>\n",
       "    .dataframe tbody tr th:only-of-type {\n",
       "        vertical-align: middle;\n",
       "    }\n",
       "\n",
       "    .dataframe tbody tr th {\n",
       "        vertical-align: top;\n",
       "    }\n",
       "\n",
       "    .dataframe thead th {\n",
       "        text-align: right;\n",
       "    }\n",
       "</style>\n",
       "<table border=\"1\" class=\"dataframe\">\n",
       "  <thead>\n",
       "    <tr style=\"text-align: right;\">\n",
       "      <th></th>\n",
       "      <th>calls</th>\n",
       "      <th>minutes</th>\n",
       "      <th>messages</th>\n",
       "      <th>mb_used</th>\n",
       "      <th>is_ultra</th>\n",
       "    </tr>\n",
       "  </thead>\n",
       "  <tbody>\n",
       "    <tr>\n",
       "      <th>count</th>\n",
       "      <td>3214.000000</td>\n",
       "      <td>3214.000000</td>\n",
       "      <td>3214.000000</td>\n",
       "      <td>3214.000000</td>\n",
       "      <td>3214.000000</td>\n",
       "    </tr>\n",
       "    <tr>\n",
       "      <th>mean</th>\n",
       "      <td>63.038892</td>\n",
       "      <td>438.208787</td>\n",
       "      <td>38.281269</td>\n",
       "      <td>17207.673836</td>\n",
       "      <td>0.306472</td>\n",
       "    </tr>\n",
       "    <tr>\n",
       "      <th>std</th>\n",
       "      <td>33.236368</td>\n",
       "      <td>234.569872</td>\n",
       "      <td>36.148326</td>\n",
       "      <td>7570.968246</td>\n",
       "      <td>0.461100</td>\n",
       "    </tr>\n",
       "    <tr>\n",
       "      <th>min</th>\n",
       "      <td>0.000000</td>\n",
       "      <td>0.000000</td>\n",
       "      <td>0.000000</td>\n",
       "      <td>0.000000</td>\n",
       "      <td>0.000000</td>\n",
       "    </tr>\n",
       "    <tr>\n",
       "      <th>25%</th>\n",
       "      <td>40.000000</td>\n",
       "      <td>274.575000</td>\n",
       "      <td>9.000000</td>\n",
       "      <td>12491.902500</td>\n",
       "      <td>0.000000</td>\n",
       "    </tr>\n",
       "    <tr>\n",
       "      <th>50%</th>\n",
       "      <td>62.000000</td>\n",
       "      <td>430.600000</td>\n",
       "      <td>30.000000</td>\n",
       "      <td>16943.235000</td>\n",
       "      <td>0.000000</td>\n",
       "    </tr>\n",
       "    <tr>\n",
       "      <th>75%</th>\n",
       "      <td>82.000000</td>\n",
       "      <td>571.927500</td>\n",
       "      <td>57.000000</td>\n",
       "      <td>21424.700000</td>\n",
       "      <td>1.000000</td>\n",
       "    </tr>\n",
       "    <tr>\n",
       "      <th>max</th>\n",
       "      <td>244.000000</td>\n",
       "      <td>1632.060000</td>\n",
       "      <td>224.000000</td>\n",
       "      <td>49745.730000</td>\n",
       "      <td>1.000000</td>\n",
       "    </tr>\n",
       "  </tbody>\n",
       "</table>\n",
       "</div>"
      ],
      "text/plain": [
       "             calls      minutes     messages       mb_used     is_ultra\n",
       "count  3214.000000  3214.000000  3214.000000   3214.000000  3214.000000\n",
       "mean     63.038892   438.208787    38.281269  17207.673836     0.306472\n",
       "std      33.236368   234.569872    36.148326   7570.968246     0.461100\n",
       "min       0.000000     0.000000     0.000000      0.000000     0.000000\n",
       "25%      40.000000   274.575000     9.000000  12491.902500     0.000000\n",
       "50%      62.000000   430.600000    30.000000  16943.235000     0.000000\n",
       "75%      82.000000   571.927500    57.000000  21424.700000     1.000000\n",
       "max     244.000000  1632.060000   224.000000  49745.730000     1.000000"
      ]
     },
     "execution_count": 8,
     "metadata": {},
     "output_type": "execute_result"
    }
   ],
   "source": [
    "df.describe()"
   ]
  },
  {
   "cell_type": "markdown",
   "metadata": {},
   "source": [
    "**Вывод по полученному датафрейму**\n",
    "\n",
    "В исходном датафрейме 3214 строк, из них\n",
    "- для пользователей с тарифом Смарт(0) - 2229 признаков,\n",
    "- для пользователей с тарифом Ультра(1) - 985 признаков\n",
    "В целом исходные \"чистые\" и могут быть использованы для формирования моделей (пропусков и дубликатов в датафрейме нет)"
   ]
  },
  {
   "cell_type": "markdown",
   "metadata": {},
   "source": [
    "## Разбейте данные на выборки"
   ]
  },
  {
   "cell_type": "markdown",
   "metadata": {},
   "source": [
    "Искомая наилучшая модель должна предсказать, на какой тариф лучше перейти пользователю, значит целевой признак в этой задаче - is_ultra. Целевой признак категориальный (два тарифа 0 и 1), поэтому будем решать задачу классификации.\n",
    "\n",
    "Разобьем данные на обучающие признаки и целовой признак"
   ]
  },
  {
   "cell_type": "code",
   "execution_count": 9,
   "metadata": {},
   "outputs": [],
   "source": [
    "features = df.drop(['is_ultra'], axis=1)\n",
    "target = df['is_ultra']"
   ]
  },
  {
   "cell_type": "markdown",
   "metadata": {},
   "source": [
    "Так как в представленном датафрейме скрытой тестовой выборки нет, данные нужно разбить на три части: обучающую, валидационную и тестовую в соотношении 3:1:1 соответственно"
   ]
  },
  {
   "cell_type": "markdown",
   "metadata": {},
   "source": [
    "Определим обучающую выборку"
   ]
  },
  {
   "cell_type": "code",
   "execution_count": 10,
   "metadata": {},
   "outputs": [],
   "source": [
    "features_train, features_test, target_train, target_test = train_test_split(features,\n",
    "                                                                            target,\n",
    "                                                                           test_size = 0.4,\n",
    "                                                                           random_state=12345)"
   ]
  },
  {
   "cell_type": "markdown",
   "metadata": {},
   "source": [
    "Посмотрим на размеры обучающей выборки:"
   ]
  },
  {
   "cell_type": "code",
   "execution_count": 11,
   "metadata": {},
   "outputs": [
    {
     "name": "stdout",
     "output_type": "stream",
     "text": [
      "(1928, 4)\n",
      "(1928,)\n"
     ]
    }
   ],
   "source": [
    "print(features_train.shape)\n",
    "print(target_train.shape)"
   ]
  },
  {
   "cell_type": "markdown",
   "metadata": {},
   "source": [
    "Определим тестовую и валидационную выборки"
   ]
  },
  {
   "cell_type": "code",
   "execution_count": 12,
   "metadata": {},
   "outputs": [],
   "source": [
    "features_valid, features_test, target_valid, target_test = train_test_split(features_test,\n",
    "                                                                            target_test,\n",
    "                                                                           test_size = 0.5,\n",
    "                                                                           random_state=12345)"
   ]
  },
  {
   "cell_type": "markdown",
   "metadata": {},
   "source": [
    "Посмотрим на размер валидационной и тестовой выборок"
   ]
  },
  {
   "cell_type": "code",
   "execution_count": 13,
   "metadata": {},
   "outputs": [
    {
     "name": "stdout",
     "output_type": "stream",
     "text": [
      "(643, 4)\n",
      "(643,)\n",
      "(643, 4)\n",
      "(643,)\n"
     ]
    }
   ],
   "source": [
    "print(features_test.shape)\n",
    "print(target_test.shape)\n",
    "print(features_test.shape)\n",
    "print(target_test.shape)"
   ]
  },
  {
   "cell_type": "markdown",
   "metadata": {},
   "source": [
    "**Вывод**\n",
    "\n",
    "Получили разделенные на три части в соотношении 3:1:1 выборки:\n",
    "- обучающая 60% (1928 признаков);\n",
    "- тестовая 20% (643 признака);\n",
    "- валидационная 20% (643 признака)"
   ]
  },
  {
   "cell_type": "markdown",
   "metadata": {},
   "source": [
    "## Исследуйте модели"
   ]
  },
  {
   "cell_type": "markdown",
   "metadata": {},
   "source": [
    "### Модель DecisionTreeClassifier (Дерево решений)"
   ]
  },
  {
   "cell_type": "markdown",
   "metadata": {},
   "source": [
    "Обучим модель дерева решений на обучающей выборке features_train, target_train.\n",
    "Переберем вложенным циклом гиперпараметр `max_depth`, и найдем модель с гиперпараметром, которая дает наилучший результат доли правильных ответов (accuracy) на валидационной выборке и сохраним результат в best_result_dtc"
   ]
  },
  {
   "cell_type": "code",
   "execution_count": 14,
   "metadata": {},
   "outputs": [],
   "source": [
    "best_model_dtc = None\n",
    "best_depth_dtc = 0\n",
    "best_result_dtc = 0\n",
    "best_samples_split_dtc = 0\n",
    "best_samples_leaf_dtc = 0\n",
    "for leafs in range(1, 5, 1):\n",
    "    for depth in range(1, 6):\n",
    "        for samples in range(10, 100, 10):\n",
    "            model_dtc = DecisionTreeClassifier(random_state=12345,\n",
    "                                               max_depth=depth,\n",
    "                                               min_samples_split=samples,\n",
    "                                               max_features='log2', \n",
    "                                               min_samples_leaf=leafs)\n",
    "            model_dtc.fit(features_train, target_train)\n",
    "            predictions_valid_dtc = model_dtc.predict(features_valid)\n",
    "            result_dtc = accuracy_score(target_valid, predictions_valid_dtc)\n",
    "            if result_dtc > best_result_dtc:\n",
    "                best_model_dtc =  model_dtc #сохраняем лучшую модель\n",
    "                best_depth_dtc = depth #сохраняем лучшую глубину дерева\n",
    "                best_result_dtc = result_dtc #сохраняем лучшее значение accuracy на валидационной выборке\n",
    "                best_samples_split_dtc = samples #сохраняем лучшее \"минимальное\" количество выборок \n",
    "                best_samples_leaf_dtc = leafs #сохраняем лучшее \"Минимальное\" количество выборок,\n",
    "                                              #необходимое для нахождения в конечном узле"
   ]
  },
  {
   "cell_type": "code",
   "execution_count": 15,
   "metadata": {},
   "outputs": [
    {
     "name": "stdout",
     "output_type": "stream",
     "text": [
      "Accuracy лучшей модели дерева решений: 0.7947122861586314\n",
      "Глубина дерева лучшей модели 5\n",
      "Минимальное количество выборок 20\n",
      "Минимальное количество выборок, необходимое для нахождения в конечном узле 3\n"
     ]
    }
   ],
   "source": [
    "print('Accuracy лучшей модели дерева решений:', best_result_dtc)\n",
    "print('Глубина дерева лучшей модели', best_depth_dtc)\n",
    "print('Минимальное количество выборок', best_samples_split_dtc)\n",
    "print('Минимальное количество выборок, необходимое для нахождения в конечном узле',  best_samples_leaf_dtc)"
   ]
  },
  {
   "cell_type": "markdown",
   "metadata": {},
   "source": [
    "**Вывод**\n",
    "\n",
    "Наилучший результат предсказаний по валидационной выборке показала модель дерева решений с гиперпараметрами:\n",
    "- random_state = 12345;\n",
    "- max_depth = 5;\n",
    "- min_samples_split = 20;\n",
    "- min_samples_leaf = 3;\n",
    "- max_features='log2'\n",
    "\n",
    "Доля правильных ответов на валидационной выборке при таких значениях гиперпараметров составила 79,47%"
   ]
  },
  {
   "cell_type": "markdown",
   "metadata": {},
   "source": [
    "### Модель RandomForestClassifier (Случайный лес)"
   ]
  },
  {
   "cell_type": "markdown",
   "metadata": {},
   "source": [
    "Обучим модель случайного леса на обучающей выборке features_train, target_train.\n",
    "Переберем вложенным циклом гиперпараметры `max_depth` и `n_estimators`, и найдем модель с гиперпараметрами, которая дает наилучший результат доли правильных ответов (accuracy) на валидационной выборке и сохраним результат в best_result_dtc"
   ]
  },
  {
   "cell_type": "code",
   "execution_count": 16,
   "metadata": {},
   "outputs": [],
   "source": [
    "best_model_rfc = None\n",
    "best_depth_rfc = 0\n",
    "best_result_rfc = 0\n",
    "best_samples_split_rfc = 0\n",
    "best_est_rfc = 0\n",
    "best_samples_leaf_rfc = 0\n",
    "for leafs in range(1, 5, 1):\n",
    "    for samples in range(10, 100, 10):\n",
    "        for est in range(1, 20):\n",
    "            for depth in range(1, 11):\n",
    "                model_rfc = RandomForestClassifier(random_state=12345,\n",
    "                                                   n_estimators=est,\n",
    "                                                   max_depth=depth,\n",
    "                                                   min_samples_split=samples,\n",
    "                                                   max_features='log2',\n",
    "                                                   min_samples_leaf=leafs)\n",
    "                model_rfc.fit(features_train, target_train)\n",
    "                predictions_valid_rfc = model_rfc.predict(features_valid)\n",
    "                result_rfc = accuracy_score(target_valid, predictions_valid_rfc)\n",
    "                if result_rfc > best_result_rfc:\n",
    "                    best_model_rfc =  model_rfc #сохраняем лучшую модель\n",
    "                    best_depth_rfc = depth #сохраняем лучшую глубину дерева\n",
    "                    best_result_rfc = result_rfc #сохраняем лучшее значение accuracy на валидационной выборке\n",
    "                    best_est_rfc = est #сохраняем лучшее значение количества дереьвев \n",
    "                    best_samples_split_rfc = samples #сохраняем лучшее \"минимальное\" количество выборок\n",
    "                    best_samples_leaf_rfc = leafs #сохраняем лучшее \"Минимальное\" количество выборок, \n",
    "                                                  #необходимое для нахождения в конечном узле"
   ]
  },
  {
   "cell_type": "code",
   "execution_count": 17,
   "metadata": {},
   "outputs": [
    {
     "name": "stdout",
     "output_type": "stream",
     "text": [
      "Accuracy наилучшей модели на валидационной выборке: 0.8087091757387247\n",
      "Количество деревьев в наилучшей модели 8\n",
      "Глубина деревьев 6\n",
      "Минимальное количество выборок 10\n",
      "Минимальное количество выборок, необходимое для нахождения в конечном узле 4\n"
     ]
    }
   ],
   "source": [
    "print('Accuracy наилучшей модели на валидационной выборке:',  best_result_rfc)    \n",
    "print('Количество деревьев в наилучшей модели', best_est_rfc)\n",
    "print('Глубина деревьев', best_depth_rfc)\n",
    "print('Минимальное количество выборок', best_samples_split_rfc)\n",
    "print('Минимальное количество выборок, необходимое для нахождения в конечном узле',  best_samples_leaf_rfc)"
   ]
  },
  {
   "cell_type": "markdown",
   "metadata": {},
   "source": [
    "**Вывод**\n",
    "\n",
    "Наилучший результат предсказаний по валидационной выборке показала модель случайного леса с гиперпараметрами:\n",
    "- random_state = 12345;\n",
    "- max_depth = 6;\n",
    "- n_estimators = 8;\n",
    "- min_samples_split = 10;\n",
    "- min_samples_leaf = 4;\n",
    "- max_features='log2'\n",
    "\n",
    "Доля правильных ответов на валидационной выборке с учетом таких гиперпараметров составила 80,87%"
   ]
  },
  {
   "cell_type": "markdown",
   "metadata": {},
   "source": [
    "### Модель Logistic Regression (Логистическая регрессия)"
   ]
  },
  {
   "cell_type": "markdown",
   "metadata": {},
   "source": [
    "Обучим модель логистической регрессиии с гиперпараметрами `random_state` и `solver='lbfgs'`"
   ]
  },
  {
   "cell_type": "code",
   "execution_count": 18,
   "metadata": {},
   "outputs": [
    {
     "name": "stdout",
     "output_type": "stream",
     "text": [
      "Accuracy Логистической регрессии: 0.7107309486780715"
     ]
    }
   ],
   "source": [
    "model_lr = LogisticRegression(random_state=12345, solver='lbfgs')\n",
    "model_lr.fit(features_train, target_train)\n",
    "predictions_valid_lr = model_lr.predict(features_valid)\n",
    "accuracy_lr = accuracy_score(predictions_valid_lr, target_valid)\n",
    "print('Accuracy Логистической регрессии:', accuracy_lr, end ='')"
   ]
  },
  {
   "cell_type": "markdown",
   "metadata": {},
   "source": [
    "Доля правильных ответов составила меньше требуемого в 0,75, поэтому добавим гиперпараметр `penalty` в логистической регрессии"
   ]
  },
  {
   "cell_type": "code",
   "execution_count": 19,
   "metadata": {},
   "outputs": [
    {
     "name": "stdout",
     "output_type": "stream",
     "text": [
      "Accuracy Логистической регрессии: 0.7558320373250389"
     ]
    }
   ],
   "source": [
    "model_lr = LogisticRegression(random_state=12345, solver='lbfgs', penalty=None)\n",
    "model_lr.fit(features_train, target_train)\n",
    "predictions_valid_lr = model_lr.predict(features_valid)\n",
    "accuracy_lr = accuracy_score(predictions_valid_lr, target_valid)\n",
    "print('Accuracy Логистической регрессии:', accuracy_lr, end ='')"
   ]
  },
  {
   "cell_type": "markdown",
   "metadata": {},
   "source": [
    "**Вывод**\n",
    "\n",
    "Таким образом, меняя и добавляя гиперпараметры в логистической регресии достигли минимально требуемой доли правильных ответов 75,58%"
   ]
  },
  {
   "cell_type": "markdown",
   "metadata": {},
   "source": [
    "Создадим небольшую функцию, формирующую датафрейм с полученными точностями для трех видов рассматриваемых моделей"
   ]
  },
  {
   "cell_type": "code",
   "execution_count": 20,
   "metadata": {},
   "outputs": [],
   "source": [
    "def df_accuracy(m1_tree, m2_forest, m3_reg):\n",
    "    data = pd.DataFrame({'accuracy': [m1_tree, \n",
    "                                      m2_forest, \n",
    "                                      m3_reg]}, index=['Дерево решений', \n",
    "                                                       'Случайный лес', \n",
    "                                                       'Логистическая регрессия']).sort_values(by='accuracy', \n",
    "                                                                                               ascending=False)\n",
    "    return data"
   ]
  },
  {
   "cell_type": "code",
   "execution_count": 21,
   "metadata": {
    "scrolled": true
   },
   "outputs": [
    {
     "data": {
      "text/html": [
       "<div>\n",
       "<style scoped>\n",
       "    .dataframe tbody tr th:only-of-type {\n",
       "        vertical-align: middle;\n",
       "    }\n",
       "\n",
       "    .dataframe tbody tr th {\n",
       "        vertical-align: top;\n",
       "    }\n",
       "\n",
       "    .dataframe thead th {\n",
       "        text-align: right;\n",
       "    }\n",
       "</style>\n",
       "<table border=\"1\" class=\"dataframe\">\n",
       "  <thead>\n",
       "    <tr style=\"text-align: right;\">\n",
       "      <th></th>\n",
       "      <th>accuracy</th>\n",
       "    </tr>\n",
       "  </thead>\n",
       "  <tbody>\n",
       "    <tr>\n",
       "      <th>Случайный лес</th>\n",
       "      <td>0.808709</td>\n",
       "    </tr>\n",
       "    <tr>\n",
       "      <th>Дерево решений</th>\n",
       "      <td>0.794712</td>\n",
       "    </tr>\n",
       "    <tr>\n",
       "      <th>Логистическая регрессия</th>\n",
       "      <td>0.755832</td>\n",
       "    </tr>\n",
       "  </tbody>\n",
       "</table>\n",
       "</div>"
      ],
      "text/plain": [
       "                         accuracy\n",
       "Случайный лес            0.808709\n",
       "Дерево решений           0.794712\n",
       "Логистическая регрессия  0.755832"
      ]
     },
     "execution_count": 21,
     "metadata": {},
     "output_type": "execute_result"
    }
   ],
   "source": [
    "df_accuracy(m1_tree=best_result_dtc, m2_forest=best_result_rfc, m3_reg=accuracy_lr)"
   ]
  },
  {
   "cell_type": "markdown",
   "metadata": {},
   "source": [
    "### Вывод по разделу"
   ]
  },
  {
   "cell_type": "markdown",
   "metadata": {},
   "source": [
    "Таким образом получаем, что наибольшей точностью по валидационной выборке обладает модель случайного леса - 80,87%"
   ]
  },
  {
   "cell_type": "markdown",
   "metadata": {},
   "source": [
    "## Проверьте модель на тестовой выборке"
   ]
  },
  {
   "cell_type": "code",
   "execution_count": 22,
   "metadata": {},
   "outputs": [],
   "source": [
    "tree_test =  best_model_dtc.score(features_test, target_test) # дерево\n",
    "forest_test =  best_model_rfc.score(features_test, target_test) # лес\n",
    "log_reg_test = model_lr.score(features_test, target_test) # лог. регрессия"
   ]
  },
  {
   "cell_type": "markdown",
   "metadata": {},
   "source": [
    "Выведем на экран время, затраченное каждой моделью на предсказание"
   ]
  },
  {
   "cell_type": "code",
   "execution_count": 23,
   "metadata": {},
   "outputs": [
    {
     "name": "stdout",
     "output_type": "stream",
     "text": [
      "CPU times: total: 0 ns\n",
      "Wall time: 998 µs\n"
     ]
    }
   ],
   "source": [
    "%%time\n",
    "predictions_test_dtc = model_dtc.predict(features_test)"
   ]
  },
  {
   "cell_type": "code",
   "execution_count": 24,
   "metadata": {},
   "outputs": [
    {
     "name": "stdout",
     "output_type": "stream",
     "text": [
      "CPU times: total: 0 ns\n",
      "Wall time: 4.02 ms\n"
     ]
    }
   ],
   "source": [
    "%%time\n",
    "predictions_test_rfc = model_rfc.predict(features_test)"
   ]
  },
  {
   "cell_type": "code",
   "execution_count": 25,
   "metadata": {},
   "outputs": [
    {
     "name": "stdout",
     "output_type": "stream",
     "text": [
      "CPU times: total: 0 ns\n",
      "Wall time: 998 µs\n"
     ]
    }
   ],
   "source": [
    "%%time\n",
    "predictions_test_lr = model_lr.predict(features_test)"
   ]
  },
  {
   "cell_type": "markdown",
   "metadata": {},
   "source": [
    "Выведем на экран в порядке убывания значения точности accuracy для каждой модели на тестовой выборке."
   ]
  },
  {
   "cell_type": "code",
   "execution_count": 26,
   "metadata": {
    "scrolled": true
   },
   "outputs": [
    {
     "data": {
      "text/html": [
       "<div>\n",
       "<style scoped>\n",
       "    .dataframe tbody tr th:only-of-type {\n",
       "        vertical-align: middle;\n",
       "    }\n",
       "\n",
       "    .dataframe tbody tr th {\n",
       "        vertical-align: top;\n",
       "    }\n",
       "\n",
       "    .dataframe thead th {\n",
       "        text-align: right;\n",
       "    }\n",
       "</style>\n",
       "<table border=\"1\" class=\"dataframe\">\n",
       "  <thead>\n",
       "    <tr style=\"text-align: right;\">\n",
       "      <th></th>\n",
       "      <th>accuracy</th>\n",
       "    </tr>\n",
       "  </thead>\n",
       "  <tbody>\n",
       "    <tr>\n",
       "      <th>Случайный лес</th>\n",
       "      <td>0.802488</td>\n",
       "    </tr>\n",
       "    <tr>\n",
       "      <th>Дерево решений</th>\n",
       "      <td>0.785381</td>\n",
       "    </tr>\n",
       "    <tr>\n",
       "      <th>Логистическая регрессия</th>\n",
       "      <td>0.738725</td>\n",
       "    </tr>\n",
       "  </tbody>\n",
       "</table>\n",
       "</div>"
      ],
      "text/plain": [
       "                         accuracy\n",
       "Случайный лес            0.802488\n",
       "Дерево решений           0.785381\n",
       "Логистическая регрессия  0.738725"
      ]
     },
     "execution_count": 26,
     "metadata": {},
     "output_type": "execute_result"
    }
   ],
   "source": [
    "df_accuracy(m1_tree=tree_test, m2_forest=forest_test, m3_reg=log_reg_test)"
   ]
  },
  {
   "cell_type": "markdown",
   "metadata": {},
   "source": [
    "**Вывод**\n",
    "\n",
    "На тестовой выборке получили следующие результаты:\n",
    "- наилучшие показатели точности у случайного леса (80,24%), но при этом самое долгое время предсказаний;\n",
    "- неплохие показатели качества  у дерева решений (78,53%) и быстрое время предсказаний;\n",
    "- наименьшеие показатели точности у логистической регрессии (73,87%), на при этом самое быстрое время предсказаний"
   ]
  },
  {
   "cell_type": "markdown",
   "metadata": {},
   "source": [
    "## Проверка модели на адекватность"
   ]
  },
  {
   "cell_type": "markdown",
   "metadata": {},
   "source": [
    "Создадим модель DummyClassifier, в которой все предсказания будут равны наиболее часто встречающемуся признаку в датасете - 0 - тарифу смарт.\n",
    "Оценим долю правильных ответов модели и сравним с полученной точностью моделей дерева решений/случайного леса."
   ]
  },
  {
   "cell_type": "code",
   "execution_count": 27,
   "metadata": {
    "scrolled": true
   },
   "outputs": [
    {
     "name": "stdout",
     "output_type": "stream",
     "text": [
      "Точность оценки модели Dummy на тестовой выборке: 0.6842923794712286\n"
     ]
    }
   ],
   "source": [
    "clf = DummyClassifier(strategy='most_frequent', random_state=12345)\n",
    "\n",
    "clf.fit(features_train, target_train)\n",
    "\n",
    "result_dummy = clf.score(features_test, target_test)\n",
    "\n",
    "print('Точность оценки модели Dummy на тестовой выборке:', result_dummy)"
   ]
  },
  {
   "cell_type": "markdown",
   "metadata": {},
   "source": [
    "Таким образом получили, что доля правильных ответов моделей дерева решений и случайного леса примерно на 9-10% выше по сравнению с моделью DummyClassifier"
   ]
  },
  {
   "cell_type": "markdown",
   "metadata": {},
   "source": [
    "## Общий вывод"
   ]
  },
  {
   "cell_type": "markdown",
   "metadata": {},
   "source": [
    "Целью данного исследования было подобрать модель, рекомендующую пользователям наиболее подходящий для них тариф - смарт или ультра.\n",
    "Для этого, в рамках решения задачи классификации было проведено обучение трех моделей:\n",
    "\n",
    "- дерева решений - DecisionTreeClassifier,\n",
    "- случайного леса - RandomForestClassifier,\n",
    "- логистической регрессии - LogisticRegression.\n",
    "\n",
    "При этом, исходный датасет был разделен на три выборки: обучающую, валидационную и тестовую (60%, 20%, 20% соответветственно).\n",
    "\n",
    "При обучении на обучающей выборке и тестировании моделей на валидационной выборке:\n",
    "- наилучший результат показала модель случайного леса с гиперпараметрами random_state=12345, n_estimators=12, max_depth=6 - точность предсказаний составила 80,40%.\n",
    "- Второй по точности предсказаний оказалась модель дерева решений с гиперпараметрами random_state=12345, max_depth=3, min_samples_split=80 - точность предсказаний 78,53%.\n",
    "- Логистическая регрессия показала наименьшую точность предсказаний из всех обученных моделей - 75,58%.\n",
    "\n",
    "При тестировании обученных моделей на тестовой выборке результат точности предсказаний оказался следующим: \n",
    "- случайный лес (79,47%);\n",
    "- дерево решений (77,91%);\n",
    "- логистическая выборка (73,87%)\n",
    "При этом скорость выполнения предсказаний у моделей дерева решений и логистической регрессии лучше, чем у модели случайного леса. \n",
    "\n",
    "Так же, стоит отметить, что обученные модели показали более высокую точность предсказаний, по сравнению с моделью DummyClassifier, в которой все предсказания - это самый часты целевой признак - тариф смарт(0). Точность моделей дерева решений и случайного леса оказалась выше на 9-10%.\n",
    "\n",
    "Таким образом,  с учетом демонстрируемой точности и скорости выполнения предсказаний рекомендуется модель дерева решений с гипермараметрами: random_state=12345, max_depth=3 и точностью предсказаний 78,53%"
   ]
  }
 ],
 "metadata": {
  "ExecuteTimeLog": [
   {
    "duration": 1115,
    "start_time": "2023-06-19T07:13:36.454Z"
   },
   {
    "duration": 67,
    "start_time": "2023-06-19T07:14:28.472Z"
   },
   {
    "duration": 12,
    "start_time": "2023-06-19T07:14:37.639Z"
   },
   {
    "duration": 17,
    "start_time": "2023-06-19T07:16:49.058Z"
   },
   {
    "duration": 6,
    "start_time": "2023-06-19T07:20:16.942Z"
   },
   {
    "duration": 7,
    "start_time": "2023-06-19T07:20:38.158Z"
   },
   {
    "duration": 13,
    "start_time": "2023-06-19T07:20:47.306Z"
   },
   {
    "duration": 3225,
    "start_time": "2023-06-19T07:32:21.548Z"
   },
   {
    "duration": 4,
    "start_time": "2023-06-19T07:32:35.484Z"
   },
   {
    "duration": 15,
    "start_time": "2023-06-19T07:32:48.718Z"
   },
   {
    "duration": 7,
    "start_time": "2023-06-19T07:32:55.309Z"
   },
   {
    "duration": 4,
    "start_time": "2023-06-19T07:33:01.614Z"
   },
   {
    "duration": 5,
    "start_time": "2023-06-19T07:39:49.126Z"
   },
   {
    "duration": 4,
    "start_time": "2023-06-19T07:40:58.175Z"
   },
   {
    "duration": 5,
    "start_time": "2023-06-19T07:53:43.803Z"
   },
   {
    "duration": 3,
    "start_time": "2023-06-19T07:55:01.224Z"
   },
   {
    "duration": 3,
    "start_time": "2023-06-19T07:55:13.407Z"
   },
   {
    "duration": 44,
    "start_time": "2023-06-19T11:25:14.334Z"
   },
   {
    "duration": 5,
    "start_time": "2023-06-19T11:26:05.079Z"
   },
   {
    "duration": 47,
    "start_time": "2023-06-19T11:26:20.551Z"
   },
   {
    "duration": 3,
    "start_time": "2023-06-19T11:26:23.705Z"
   },
   {
    "duration": 29,
    "start_time": "2023-06-19T11:26:30.831Z"
   },
   {
    "duration": 4,
    "start_time": "2023-06-19T11:26:33.071Z"
   },
   {
    "duration": 3,
    "start_time": "2023-06-19T11:27:18.694Z"
   },
   {
    "duration": 38,
    "start_time": "2023-06-19T11:35:39.190Z"
   },
   {
    "duration": 4,
    "start_time": "2023-06-19T11:35:41.572Z"
   },
   {
    "duration": 4693,
    "start_time": "2023-06-19T11:38:49.748Z"
   },
   {
    "duration": 73,
    "start_time": "2023-06-19T11:40:22.126Z"
   },
   {
    "duration": 4,
    "start_time": "2023-06-19T11:40:28.445Z"
   },
   {
    "duration": 4144,
    "start_time": "2023-06-19T11:41:08.711Z"
   },
   {
    "duration": 5,
    "start_time": "2023-06-19T11:41:12.857Z"
   },
   {
    "duration": 3727,
    "start_time": "2023-06-19T11:41:25.623Z"
   },
   {
    "duration": 5,
    "start_time": "2023-06-19T11:41:36.198Z"
   },
   {
    "duration": 1931,
    "start_time": "2023-06-19T11:42:16.224Z"
   },
   {
    "duration": 4,
    "start_time": "2023-06-19T11:42:20.336Z"
   },
   {
    "duration": 25,
    "start_time": "2023-06-19T11:45:57.778Z"
   },
   {
    "duration": 26,
    "start_time": "2023-06-19T11:47:28.285Z"
   },
   {
    "duration": 5573,
    "start_time": "2023-06-19T11:50:53.442Z"
   },
   {
    "duration": 5,
    "start_time": "2023-06-19T11:51:01.275Z"
   },
   {
    "duration": 26,
    "start_time": "2023-06-19T11:56:11.395Z"
   },
   {
    "duration": 13,
    "start_time": "2023-06-19T11:56:38.791Z"
   },
   {
    "duration": 39,
    "start_time": "2023-06-19T11:56:47.892Z"
   },
   {
    "duration": 29,
    "start_time": "2023-06-19T12:43:32.893Z"
   },
   {
    "duration": 24,
    "start_time": "2023-06-19T12:44:31.010Z"
   },
   {
    "duration": 9,
    "start_time": "2023-06-19T12:45:36.196Z"
   },
   {
    "duration": 15,
    "start_time": "2023-06-19T12:45:57.875Z"
   },
   {
    "duration": 6,
    "start_time": "2023-06-19T12:46:14.819Z"
   },
   {
    "duration": 9,
    "start_time": "2023-06-19T12:51:26.529Z"
   },
   {
    "duration": 6,
    "start_time": "2023-06-19T12:58:53.661Z"
   },
   {
    "duration": 5,
    "start_time": "2023-06-19T12:59:18.986Z"
   },
   {
    "duration": 12,
    "start_time": "2023-06-19T13:02:25.965Z"
   },
   {
    "duration": 13,
    "start_time": "2023-06-19T13:02:40.693Z"
   },
   {
    "duration": 10,
    "start_time": "2023-06-19T13:02:53.199Z"
   },
   {
    "duration": 7,
    "start_time": "2023-06-19T13:17:09.282Z"
   },
   {
    "duration": 31,
    "start_time": "2023-06-19T13:17:42.192Z"
   },
   {
    "duration": 5,
    "start_time": "2023-06-19T13:22:18.597Z"
   },
   {
    "duration": 4,
    "start_time": "2023-06-19T13:22:34.131Z"
   },
   {
    "duration": 10,
    "start_time": "2023-06-19T13:29:05.620Z"
   },
   {
    "duration": 3,
    "start_time": "2023-06-19T13:29:14.349Z"
   },
   {
    "duration": 30,
    "start_time": "2023-06-19T13:35:36.198Z"
   },
   {
    "duration": 29,
    "start_time": "2023-06-19T13:35:38.257Z"
   },
   {
    "duration": 30,
    "start_time": "2023-06-19T13:35:42.715Z"
   },
   {
    "duration": 4,
    "start_time": "2023-06-19T13:35:44.693Z"
   },
   {
    "duration": 34,
    "start_time": "2023-06-19T13:36:04.932Z"
   },
   {
    "duration": 3,
    "start_time": "2023-06-19T13:36:05.891Z"
   },
   {
    "duration": 30,
    "start_time": "2023-06-19T13:36:14.388Z"
   },
   {
    "duration": 4,
    "start_time": "2023-06-19T13:36:16.299Z"
   },
   {
    "duration": 67,
    "start_time": "2023-06-19T13:45:39.345Z"
   },
   {
    "duration": 86,
    "start_time": "2023-06-19T13:45:46.025Z"
   },
   {
    "duration": 6,
    "start_time": "2023-06-19T13:45:54.003Z"
   },
   {
    "duration": 4,
    "start_time": "2023-06-19T13:52:19.052Z"
   },
   {
    "duration": 8,
    "start_time": "2023-06-19T13:53:04.725Z"
   },
   {
    "duration": 9,
    "start_time": "2023-06-19T13:57:06.258Z"
   },
   {
    "duration": 5,
    "start_time": "2023-06-19T14:05:20.382Z"
   },
   {
    "duration": 1213,
    "start_time": "2023-06-19T14:38:38.919Z"
   },
   {
    "duration": 33,
    "start_time": "2023-06-19T14:38:40.134Z"
   },
   {
    "duration": 21,
    "start_time": "2023-06-19T14:38:40.169Z"
   },
   {
    "duration": 13,
    "start_time": "2023-06-19T14:38:40.192Z"
   },
   {
    "duration": 11,
    "start_time": "2023-06-19T14:38:40.208Z"
   },
   {
    "duration": 24,
    "start_time": "2023-06-19T14:38:40.221Z"
   },
   {
    "duration": 17,
    "start_time": "2023-06-19T14:38:40.247Z"
   },
   {
    "duration": 25,
    "start_time": "2023-06-19T14:38:40.265Z"
   },
   {
    "duration": 4,
    "start_time": "2023-06-19T14:38:40.292Z"
   },
   {
    "duration": 12,
    "start_time": "2023-06-19T14:38:40.297Z"
   },
   {
    "duration": 18,
    "start_time": "2023-06-19T14:38:40.311Z"
   },
   {
    "duration": 12,
    "start_time": "2023-06-19T14:38:40.331Z"
   },
   {
    "duration": 5,
    "start_time": "2023-06-19T14:38:40.345Z"
   },
   {
    "duration": 40,
    "start_time": "2023-06-19T14:38:40.352Z"
   },
   {
    "duration": 4,
    "start_time": "2023-06-19T14:38:40.394Z"
   },
   {
    "duration": 5420,
    "start_time": "2023-06-19T14:38:40.400Z"
   },
   {
    "duration": 4,
    "start_time": "2023-06-19T14:38:45.822Z"
   },
   {
    "duration": 41,
    "start_time": "2023-06-19T14:38:45.827Z"
   },
   {
    "duration": 36,
    "start_time": "2023-06-19T14:38:45.870Z"
   },
   {
    "duration": 4,
    "start_time": "2023-06-19T14:38:45.908Z"
   },
   {
    "duration": 14,
    "start_time": "2023-06-19T14:38:45.913Z"
   },
   {
    "duration": 34,
    "start_time": "2023-06-19T14:38:45.928Z"
   },
   {
    "duration": 6,
    "start_time": "2023-06-19T14:38:45.964Z"
   },
   {
    "duration": 21,
    "start_time": "2023-06-19T14:38:45.971Z"
   },
   {
    "duration": 6,
    "start_time": "2023-06-19T14:38:45.994Z"
   },
   {
    "duration": 35,
    "start_time": "2023-06-19T14:38:46.003Z"
   },
   {
    "duration": 7,
    "start_time": "2023-06-19T14:38:46.040Z"
   },
   {
    "duration": 82,
    "start_time": "2023-06-20T07:28:38.390Z"
   },
   {
    "duration": 1381,
    "start_time": "2023-06-20T07:28:50.614Z"
   },
   {
    "duration": 74,
    "start_time": "2023-06-20T07:28:51.999Z"
   },
   {
    "duration": 23,
    "start_time": "2023-06-20T07:28:52.075Z"
   },
   {
    "duration": 12,
    "start_time": "2023-06-20T07:28:52.100Z"
   },
   {
    "duration": 18,
    "start_time": "2023-06-20T07:28:52.115Z"
   },
   {
    "duration": 7,
    "start_time": "2023-06-20T07:28:52.136Z"
   },
   {
    "duration": 36,
    "start_time": "2023-06-20T07:28:52.144Z"
   },
   {
    "duration": 40,
    "start_time": "2023-06-20T07:28:52.183Z"
   },
   {
    "duration": 4,
    "start_time": "2023-06-20T07:28:52.227Z"
   },
   {
    "duration": 22,
    "start_time": "2023-06-20T07:28:52.233Z"
   },
   {
    "duration": 10,
    "start_time": "2023-06-20T07:28:52.268Z"
   },
   {
    "duration": 19,
    "start_time": "2023-06-20T07:28:52.280Z"
   },
   {
    "duration": 26,
    "start_time": "2023-06-20T07:28:52.301Z"
   },
   {
    "duration": 125,
    "start_time": "2023-06-20T07:28:52.331Z"
   },
   {
    "duration": 0,
    "start_time": "2023-06-20T07:28:52.458Z"
   },
   {
    "duration": 0,
    "start_time": "2023-06-20T07:28:52.460Z"
   },
   {
    "duration": 0,
    "start_time": "2023-06-20T07:28:52.461Z"
   },
   {
    "duration": 0,
    "start_time": "2023-06-20T07:28:52.462Z"
   },
   {
    "duration": 0,
    "start_time": "2023-06-20T07:28:52.464Z"
   },
   {
    "duration": 0,
    "start_time": "2023-06-20T07:28:52.465Z"
   },
   {
    "duration": 0,
    "start_time": "2023-06-20T07:28:52.467Z"
   },
   {
    "duration": 0,
    "start_time": "2023-06-20T07:28:52.468Z"
   },
   {
    "duration": 0,
    "start_time": "2023-06-20T07:28:52.471Z"
   },
   {
    "duration": 0,
    "start_time": "2023-06-20T07:28:52.472Z"
   },
   {
    "duration": 0,
    "start_time": "2023-06-20T07:28:52.475Z"
   },
   {
    "duration": 0,
    "start_time": "2023-06-20T07:28:52.477Z"
   },
   {
    "duration": 0,
    "start_time": "2023-06-20T07:28:52.478Z"
   },
   {
    "duration": 23,
    "start_time": "2023-06-20T07:29:41.584Z"
   },
   {
    "duration": 284,
    "start_time": "2023-06-20T07:30:56.690Z"
   },
   {
    "duration": 5,
    "start_time": "2023-06-20T07:30:59.772Z"
   },
   {
    "duration": 328,
    "start_time": "2023-06-20T07:37:10.369Z"
   },
   {
    "duration": 5,
    "start_time": "2023-06-20T07:37:13.281Z"
   },
   {
    "duration": 256,
    "start_time": "2023-06-20T07:37:33.643Z"
   },
   {
    "duration": 6,
    "start_time": "2023-06-20T07:37:35.671Z"
   },
   {
    "duration": 50070,
    "start_time": "2023-06-20T09:41:46.227Z"
   },
   {
    "duration": 5,
    "start_time": "2023-06-20T09:42:39.752Z"
   },
   {
    "duration": 51641,
    "start_time": "2023-06-20T09:44:18.986Z"
   },
   {
    "duration": 5,
    "start_time": "2023-06-20T09:45:13.569Z"
   },
   {
    "duration": 65,
    "start_time": "2023-06-20T09:49:12.414Z"
   },
   {
    "duration": 190033,
    "start_time": "2023-06-20T09:49:20.175Z"
   },
   {
    "duration": 5,
    "start_time": "2023-06-20T09:52:34.191Z"
   },
   {
    "duration": 199868,
    "start_time": "2023-06-20T09:58:55.737Z"
   },
   {
    "duration": 9,
    "start_time": "2023-06-20T10:02:28.767Z"
   },
   {
    "duration": 782,
    "start_time": "2023-06-20T10:10:38.652Z"
   },
   {
    "duration": 4,
    "start_time": "2023-06-20T10:10:43.789Z"
   },
   {
    "duration": 26,
    "start_time": "2023-06-20T10:13:46.510Z"
   },
   {
    "duration": 34,
    "start_time": "2023-06-20T10:13:55.592Z"
   },
   {
    "duration": 4,
    "start_time": "2023-06-20T10:14:01.007Z"
   },
   {
    "duration": 9,
    "start_time": "2023-06-20T10:14:03.202Z"
   },
   {
    "duration": 12,
    "start_time": "2023-06-20T10:14:13.728Z"
   },
   {
    "duration": 6,
    "start_time": "2023-06-20T10:14:15.998Z"
   },
   {
    "duration": 10,
    "start_time": "2023-06-20T10:14:19.731Z"
   },
   {
    "duration": 6,
    "start_time": "2023-06-20T10:14:23.800Z"
   },
   {
    "duration": 8,
    "start_time": "2023-06-20T10:14:27.128Z"
   },
   {
    "duration": 6,
    "start_time": "2023-06-20T10:16:48.338Z"
   }
  ],
  "kernelspec": {
   "display_name": "Python 3 (ipykernel)",
   "language": "python",
   "name": "python3"
  },
  "language_info": {
   "codemirror_mode": {
    "name": "ipython",
    "version": 3
   },
   "file_extension": ".py",
   "mimetype": "text/x-python",
   "name": "python",
   "nbconvert_exporter": "python",
   "pygments_lexer": "ipython3",
   "version": "3.11.5"
  },
  "toc": {
   "base_numbering": 1,
   "nav_menu": {},
   "number_sections": true,
   "sideBar": true,
   "skip_h1_title": true,
   "title_cell": "Table of Contents",
   "title_sidebar": "Contents",
   "toc_cell": false,
   "toc_position": {},
   "toc_section_display": true,
   "toc_window_display": false
  }
 },
 "nbformat": 4,
 "nbformat_minor": 2
}
